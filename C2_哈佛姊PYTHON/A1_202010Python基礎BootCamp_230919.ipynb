{
  "nbformat": 4,
  "nbformat_minor": 0,
  "metadata": {
    "colab": {
      "provenance": [],
      "authorship_tag": "ABX9TyMEWrLq4VC+aknyDeJcdQus",
      "include_colab_link": true
    },
    "kernelspec": {
      "name": "python3",
      "display_name": "Python 3"
    },
    "language_info": {
      "name": "python"
    }
  },
  "cells": [
    {
      "cell_type": "markdown",
      "metadata": {
        "id": "view-in-github",
        "colab_type": "text"
      },
      "source": [
        "<a href=\"https://colab.research.google.com/github/Sandwhaletree/Mai_Finlab/blob/main/C2_%E5%93%88%E4%BD%9B%E5%A7%8APYTHON/A1_202010Python%E5%9F%BA%E7%A4%8EBootCamp_230919.ipynb\" target=\"_parent\"><img src=\"https://colab.research.google.com/assets/colab-badge.svg\" alt=\"Open In Colab\"/></a>"
      ]
    },
    {
      "cell_type": "markdown",
      "source": [
        "# 🔥 **2020.10_Python基礎BootCamp**"
      ],
      "metadata": {
        "id": "81NlbvbY7Ae5"
      }
    },
    {
      "cell_type": "markdown",
      "source": [
        "## 👉 **課堂L1**"
      ],
      "metadata": {
        "id": "xYCosHgc8UY9"
      }
    },
    {
      "cell_type": "markdown",
      "source": [
        "> 註記\n",
        "* 常用快捷指令\n",
        "* clear: 清除terminal的指令/ Window可用cls\n",
        "* VS Code 儲存\n",
        "* windows: ctrl + s\n",
        "* mac: command + s\n",
        "* run code: 右上角箭頭符號 or Ctrl+Alt+N\n",
        "* 文字定義 x=''\n",
        "* 列印 print('')\n",
        "* 輸入 x=input('')"
      ],
      "metadata": {
        "id": "_vEjfVSmrdHR"
      }
    },
    {
      "cell_type": "markdown",
      "source": [
        "### **02_Print**"
      ],
      "metadata": {
        "id": "ZMO4_2o58rsc"
      }
    },
    {
      "cell_type": "markdown",
      "source": [
        "#### **2-1_Hello World**"
      ],
      "metadata": {
        "id": "KdzQWRktmFRb"
      }
    },
    {
      "cell_type": "code",
      "source": [
        "# Hello World! 你的第一行程式碼 :)\n",
        "\n",
        "# 影印機 print('')\n",
        "print('Hello world')\n",
        "print('hellow world')"
      ],
      "metadata": {
        "colab": {
          "base_uri": "https://localhost:8080/"
        },
        "id": "5UO3r6qKhFBu",
        "outputId": "51d31ca5-0ed7-432f-c5de-c2dbc99c39c5"
      },
      "execution_count": null,
      "outputs": [
        {
          "output_type": "stream",
          "name": "stdout",
          "text": [
            "Hello world\n",
            "hellow world\n"
          ]
        }
      ]
    },
    {
      "cell_type": "markdown",
      "source": [
        "#### **2-1_Hello World**"
      ],
      "metadata": {
        "id": "yQHkXmX-mNcN"
      }
    },
    {
      "cell_type": "code",
      "source": [
        "# Hello World! 你的第一行程式碼 :)\n",
        "\n",
        "# 影印機 print('')\n",
        "print('Hello world')\n",
        "print('hellow world')"
      ],
      "metadata": {
        "colab": {
          "base_uri": "https://localhost:8080/"
        },
        "outputId": "51d31ca5-0ed7-432f-c5de-c2dbc99c39c5",
        "id": "nrHzlRExmNcO"
      },
      "execution_count": null,
      "outputs": [
        {
          "output_type": "stream",
          "name": "stdout",
          "text": [
            "Hello world\n",
            "hellow world\n"
          ]
        }
      ]
    },
    {
      "cell_type": "code",
      "source": [],
      "metadata": {
        "id": "PnP7xV3rhIsx"
      },
      "execution_count": null,
      "outputs": []
    },
    {
      "cell_type": "markdown",
      "source": [
        "### **L1-2_Comments**"
      ],
      "metadata": {
        "id": "wIGtRL1281HW"
      }
    },
    {
      "cell_type": "markdown",
      "source": [
        "### **L1-3_String varaibles**"
      ],
      "metadata": {
        "id": "PoNunhTz81Zc"
      }
    },
    {
      "cell_type": "markdown",
      "source": [
        "### **L1-4_Numerical varaibles**"
      ],
      "metadata": {
        "id": "GIPoiEL281ek"
      }
    },
    {
      "cell_type": "markdown",
      "source": [
        "## 👉 **課堂L2**"
      ],
      "metadata": {
        "id": "bWQxuSS_8fYe"
      }
    },
    {
      "cell_type": "markdown",
      "source": [
        "### **L2-1_Error handling 處理已知錯誤**"
      ],
      "metadata": {
        "id": "sUdnIBKm88XW"
      }
    },
    {
      "cell_type": "markdown",
      "source": [
        "### **L2-2_Handling conditions 處理條件**"
      ],
      "metadata": {
        "id": "fUTBs_rA88XW"
      }
    },
    {
      "cell_type": "markdown",
      "source": [
        "### **L2-3_Handling multiple conditions**"
      ],
      "metadata": {
        "id": "H66M4vrT88XW"
      }
    },
    {
      "cell_type": "markdown",
      "source": [
        "### **L2-4_Complex conditon checks**"
      ],
      "metadata": {
        "id": "rVfLql4188XX"
      }
    },
    {
      "cell_type": "markdown",
      "source": [
        "### **L2-5_Collections**"
      ],
      "metadata": {
        "id": "Hy9T3t769Ich"
      }
    },
    {
      "cell_type": "markdown",
      "source": [
        "### **L2-6_Loops**\n",
        "* Python主要有兩種loops形式: 1)for loops 2)while loops\n",
        "* loops是在給定條件為True的情況下，會持續執行的迴圈(a loop is used to execute a set of statements as long as a given condition is true)"
      ],
      "metadata": {
        "id": "3YhbIO3J9Inn"
      }
    },
    {
      "cell_type": "code",
      "source": [
        "#數列\n",
        "for d in range(5,11):\n",
        "  print(d)"
      ],
      "metadata": {
        "colab": {
          "base_uri": "https://localhost:8080/"
        },
        "id": "2r9aGOkE9HIm",
        "outputId": "3a36702c-252f-4ca3-9db8-d3cd61552b3c"
      },
      "execution_count": null,
      "outputs": [
        {
          "output_type": "stream",
          "name": "stdout",
          "text": [
            "5\n",
            "6\n",
            "7\n",
            "8\n",
            "9\n",
            "10\n"
          ]
        }
      ]
    },
    {
      "cell_type": "code",
      "source": [
        "#清單LIST\n",
        "my_list =['apple','google','facebook']\n",
        "for s in my_list:\n",
        "\tprint(s)"
      ],
      "metadata": {
        "colab": {
          "base_uri": "https://localhost:8080/"
        },
        "id": "vtLo-t3k8cyt",
        "outputId": "e5003a9c-6964-4437-b732-c87b726ebb11"
      },
      "execution_count": null,
      "outputs": [
        {
          "output_type": "stream",
          "name": "stdout",
          "text": [
            "apple\n",
            "google\n",
            "facebook\n"
          ]
        }
      ]
    },
    {
      "cell_type": "code",
      "source": [
        "#數列\n",
        "for i in range(5):\n",
        "  print(i)"
      ],
      "metadata": {
        "colab": {
          "base_uri": "https://localhost:8080/"
        },
        "id": "aDtVnuI--v_A",
        "outputId": "6f8e64f9-8584-46f0-b54e-8ebc88568f3b"
      },
      "execution_count": null,
      "outputs": [
        {
          "output_type": "stream",
          "name": "stdout",
          "text": [
            "0\n",
            "1\n",
            "2\n",
            "3\n",
            "4\n"
          ]
        }
      ]
    },
    {
      "cell_type": "code",
      "source": [
        "#c要有定義\n",
        "for c in \"python\":\n",
        "\tprint(c)"
      ],
      "metadata": {
        "colab": {
          "base_uri": "https://localhost:8080/"
        },
        "id": "3cGQ8rZZ-yRX",
        "outputId": "c4091ec9-e67e-49d4-8e4e-2c9e3772f137"
      },
      "execution_count": null,
      "outputs": [
        {
          "output_type": "stream",
          "name": "stdout",
          "text": [
            "p\n",
            "y\n",
            "t\n",
            "h\n",
            "o\n",
            "n\n"
          ]
        }
      ]
    },
    {
      "cell_type": "code",
      "source": [
        "#字串\n",
        "for c in \"python\":\n",
        "\tprint(c)"
      ],
      "metadata": {
        "colab": {
          "base_uri": "https://localhost:8080/"
        },
        "id": "GWdg8Zj0-02H",
        "outputId": "4c56ffd1-4afe-4554-9833-8ae0c9509773"
      },
      "execution_count": null,
      "outputs": [
        {
          "output_type": "stream",
          "name": "stdout",
          "text": [
            "p\n",
            "y\n",
            "t\n",
            "h\n",
            "o\n",
            "n\n"
          ]
        }
      ]
    },
    {
      "cell_type": "code",
      "source": [
        "# list\n",
        "my_list = ['Alice', 'Tobey']\n",
        "for name in my_list:\n",
        "\tprint(name)"
      ],
      "metadata": {
        "colab": {
          "base_uri": "https://localhost:8080/"
        },
        "id": "oc6SaffH-24M",
        "outputId": "3742d242-cef9-4995-8cc8-37c14c69da1b"
      },
      "execution_count": null,
      "outputs": [
        {
          "output_type": "stream",
          "name": "stdout",
          "text": [
            "Alice\n",
            "Tobey\n"
          ]
        }
      ]
    },
    {
      "cell_type": "code",
      "source": [
        "# dictionary\n",
        "my_dict = {\n",
        "    'Name' : 'Alice',\n",
        "    'Job': 'Software Engineer',\n",
        "    'Hobby': 'Shopping'\n",
        "          }"
      ],
      "metadata": {
        "id": "EKpwTCmW-49c"
      },
      "execution_count": null,
      "outputs": []
    },
    {
      "cell_type": "code",
      "source": [
        "# 只有key值 for default\n",
        "for item in my_dict:\n",
        "\tprint(item)"
      ],
      "metadata": {
        "colab": {
          "base_uri": "https://localhost:8080/"
        },
        "id": "Sf64roOm_AG1",
        "outputId": "972617f8-0652-49f1-b5d7-b5385b8d1865"
      },
      "execution_count": null,
      "outputs": [
        {
          "output_type": "stream",
          "name": "stdout",
          "text": [
            "Name\n",
            "Job\n",
            "Hobby\n"
          ]
        }
      ]
    },
    {
      "cell_type": "code",
      "source": [
        "# 用items來取得key-value pair\n",
        "for k, v in my_dict.items():\n",
        "\tprint(f'key is {k} and value is {v}')\n",
        "\tprint('key is ' + k + ' and value is ' + v)"
      ],
      "metadata": {
        "colab": {
          "base_uri": "https://localhost:8080/"
        },
        "id": "1B9oeDcu_BWc",
        "outputId": "e9d4ce1e-b26e-4f88-acea-78ba9a5ab414"
      },
      "execution_count": null,
      "outputs": [
        {
          "output_type": "stream",
          "name": "stdout",
          "text": [
            "key is Name and value is Alice\n",
            "key is Name and value is Alice\n",
            "key is Job and value is Software Engineer\n",
            "key is Job and value is Software Engineer\n",
            "key is Hobby and value is Shopping\n",
            "key is Hobby and value is Shopping\n"
          ]
        }
      ]
    },
    {
      "cell_type": "markdown",
      "source": [
        "## 👉 **課堂L3**"
      ],
      "metadata": {
        "id": "iLLe7Wk98gga"
      }
    },
    {
      "cell_type": "code",
      "source": [],
      "metadata": {
        "id": "j6pX_CMI8kAs"
      },
      "execution_count": null,
      "outputs": []
    },
    {
      "cell_type": "markdown",
      "source": [
        "## 👉 **課堂L4**"
      ],
      "metadata": {
        "id": "8xb9HfDg8k4x"
      }
    },
    {
      "cell_type": "markdown",
      "source": [
        "## 👉 **課堂L5-Calling APIs**"
      ],
      "metadata": {
        "id": "NesUyQSV8nam"
      }
    },
    {
      "cell_type": "code",
      "source": [
        "#####【commands】\n",
        "# pwd ：印出目前所在位置\n",
        "# ls ： 列出當前資料夾底下的所有檔案\n",
        "# ls -al：列出更詳細的資訊（ 包括隱藏檔案 ）\n",
        "# cd ：切換當前資料夾 change directory\n",
        "# cd ..：回到上一層資料夾\n",
        "# cd ~： 回到根目錄\n",
        "# touch 新增檔案 or 修改檔案時間\n",
        "# rm ： 刪除檔案\n",
        "# mkdir ： 新增資料夾\n",
        "# mv ： 移動檔案 or 改檔名\n",
        "# cp ： 複製檔案\n",
        "# cat ： 快速查看檔案內容"
      ],
      "metadata": {
        "id": "b-TGr9y0yBVq"
      },
      "execution_count": null,
      "outputs": []
    },
    {
      "cell_type": "code",
      "source": [
        "#####【note】\n",
        "# 取得特定網址資料\n",
        "# import urllib.request as request\n",
        "# with request.urlopen(網址) as response:\n",
        "#   data = response.read()"
      ],
      "metadata": {
        "id": "dKtg83yYyEDf"
      },
      "execution_count": null,
      "outputs": []
    },
    {
      "cell_type": "markdown",
      "source": [
        "### **L5-1_api**"
      ],
      "metadata": {
        "id": "lQklyPw_yP5Y"
      }
    },
    {
      "cell_type": "code",
      "source": [
        "# 網路連線\n",
        "# https://docs.python.org/3/library/urllib.request.html\n",
        "\n",
        "import urllib.request as request\n",
        "\n",
        "#【for Mac】\n",
        "# import ssl #for Mac\n",
        "# ssl._create_default_https_context = ssl._create_unverified_context #for Mmac\n",
        "\n",
        "src_1 = 'https://www.netflix.com/' #netflix\n",
        "src_2 = 'https://www.books.com.tw/' #博客來\n",
        "src_3 = 'https://maps2.dcgis.dc.gov/dcgis/rest/services/DCGIS_DATA/Business_and_Economic_Development_WebMercator/MapServer/35/query?where=1%3D1&outFields=*&outSR=4326&f=json'\n",
        "\n",
        "\n",
        "#印出網頁內容\n",
        "with request.urlopen(src_2) as response:\n",
        "    #data = response.read() #取得網站的原始碼(HTML, CSS, JavaScript)\n",
        "    data = response.read().decode('utf-8')\n",
        "print(data)"
      ],
      "metadata": {
        "colab": {
          "base_uri": "https://localhost:8080/"
        },
        "id": "wTiXrAzAyOj7",
        "outputId": "a91b20cb-8cde-4574-d31a-de2f8dc30789"
      },
      "execution_count": null,
      "outputs": [
        {
          "output_type": "stream",
          "name": "stdout",
          "text": [
            "<!DOCTYPE HTML PUBLIC \"-//W3C//DTD HTML 4.01//EN\" \"http://www.w3.org/TR/html4/strict.dtd\">\n",
            "<html>\n",
            "<head>\n",
            "<meta http-equiv=\"content-type\" content=\"text/html; charset=utf-8\">\n",
            "<meta http-equiv=\"Content-Language\" content=\"zh-tw\">\n",
            "<title>博客來-海外專館>美國</title>\n",
            "<meta name=\"keywords\" content=\"海外專館美國\">\n",
            "<meta name=\"description\" content=\"海外專館美國\">\n",
            "<meta http-equiv=\"X-UA-Compatible\" content=\"IE=edge\">\n",
            "<meta property=\"og:site_name\" content=\"博客來\"/>\n",
            "<meta property=\"og:type\" content=\"product\"/>\n",
            "<meta property=\"fb:app_id\" content=\"210743125726405\" />\n",
            "<meta property=\"og:title\" content=\"海外專館>美國\"/>\n",
            "<meta property=\"og:image\" content=\"https://im2.book.com.tw/image/getImage?i=https://www.books.com.tw/G/logo/books_logo.jpg&v=624133c3k&w=348&h=348\"/>\n",
            "<meta property=\"og:image:width\" content=\"348\">\n",
            "<meta property=\"og:image:height\" content=\"348\">\n",
            "<meta property=\"og:url\" content=\"https://www.books.com.tw/web/ovsus\" />\n",
            "<meta property=\"og:description\" content=\"海外專館美國\"/>\n",
            "<link rel=\"stylesheet\" href=\"https://jci.book.com.tw/css/books/product/overlay-n.css\">\n",
            "<link rel=\"stylesheet\" href=\"https://jci.book.com.tw/css/css.css\">\n",
            "<link rel=\"canonical\" href=\"https://www.books.com.tw/web/ovsus\">\n",
            "<script>(function(w,d,s,l,i){w[l]=w[l]||[];w[l].push({'gtm.start':new Date().getTime(),event:'gtm.js'});var f=d.getElementsByTagName(s)[0],j=d.createElement(s),dl=l!='dataLayer'?'&l='+l:'';j.async=true;j.src='https://www.googletagmanager.com/gtm.js?id='+i+dl;f.parentNode.insertBefore(j,f);})(window,document,'script','dataLayer','GTM-TBZGS7');</script>\n",
            "<script language=\"JavaScript\" src=\"https://jci.book.com.tw/jss/jquery/jquery-1.6.4.min.js \"></script>\n",
            "<script language=\"JavaScript\" src=\"/jss/jquery/plugin/jquery.timers-1.2.js?v=593f57ff\"></script>\n",
            "<script language=\"JavaScript\" type=\"text/javascript\" src=\"https://jci.book.com.tw/jss/header/header-www.js\"></script>\n",
            "<script language=\"JavaScript\" type=\"text/javascript\" src=\"https://jci.book.com.tw/jss/header/aeil.js\"></script>\n",
            "<script language=\"JavaScript\" type=\"text/javascript\" src=\"/jss/web/adv_log.js?v=5aefea69\"></script>\n",
            "<script language=\"JavaScript\" type=\"text/javascript\" src=\"https://jci.book.com.tw/jss/books/jqueryplugin/lazyload/1.9.3/jquery.lazyload.min.js\"></script>\n",
            "<script language=\"JavaScript\" type=\"text/javascript\" src=\"/jss/web/uselazyload.js?v=593f57ff\"></script>\n",
            "<script language=\"JavaScript\" type=\"text/javascript\" src=\"https://jci.book.com.tw/jss/books/head.min.js\"></script>\n",
            "<script language=\"JavaScript\" type=\"text/javascript\" src=\"/jss/web/picturebox_manager.js?v=641c093e\"></script>\n",
            "<script language=\"JavaScript\" type=\"text/javascript\" src=\"/jss/web/banner.js?v=593f57ff\"></script><script language=\"JavaScript\" type=\"text/javascript\" src=\"/jss/web/switch_page.js?v=60cacc17\"></script><script language=\"JavaScript\" type=\"text/javascript\" src=\"/jss/web/change_li_tab.js?v=5af4f7e6\"></script>\n",
            "</head>\n",
            "<body  >\n",
            "<script type=\"text/javascript\" src=\"https://www.books.com.tw/webs/header_js/pmenu/html/menu_compon.js?v=9a797c14a7d374809bc37336c8ffcc94\"></script>\n",
            "<div class=\"overlay\" id=\"div_language_overlay\" style=\"display:none\" onclick=\"hide_lang_panel();\"></div>\n",
            "<div class=\"pop_win change_language_win\" id=\"div_language_win\" style=\"display:none\">\n",
            "<h3>選擇語言<a href=\"javascript:;\" class=\"btn-close\" onclick=\"hide_lang_panel();\"></a></h3>\n",
            "<div>\n",
            "<ul>\n",
            "<li id=\"header_li_change_lang_en\"><a class=\"btn\" href=\"javascript:;\" onclick=\"change_lang('en');\">English</a></li>\n",
            "<li id=\"header_li_change_lang_zh_TW\"><a class=\"btn\" href=\"javascript:;\" onclick=\"change_lang('zh_TW');\">繁體中文</a></li>\n",
            "<li id=\"header_li_change_lang_zh_CN\"><a class=\"btn\" href=\"javascript:;\" onclick=\"change_lang('zh_CN');\">简体中文</a></li>\n",
            "</ul>\n",
            "</div></div><header id=\"header_full_v2\" data-attr=\"ovs\" class=\"header_v2\">\n",
            "<nav class=\"fix__box clearfix\">\n",
            "<div class=\"header__box1 clearfix\">\n",
            "<h2 class=\"hide\">:::相關網站</h2>\n",
            "<div class=\"website_nav_wrap\">\n",
            "<ul class=\"website__nav\">\n",
            "<li><a href=\"https://www.books.com.tw/?loc=tw_website_001\"><i class=\"svg-icon-home\"></i>回首頁</a></li>\n",
            "<li><a href=\"https://tickets.books.com.tw/index/?loc=tw_website_003\">售票網</a></li>\n",
            "<li><a href=\"https://group.books.com.tw/?loc=tw_website_004\">企業採購</a></li>\n",
            "<li><a href=\"https://www.books.com.tw/benefit/?loc=tw_website_005\">福利平台</a></li>\n",
            "<li><a href=\"https://www.books.com.tw/web/ovs/?loc=tw_website_006\">海外專館</a></li>\n",
            "</ul>\n",
            "</div><div class=\"service_nav_wrap\">\n",
            "<h2 class=\"hide\"><a accesskey=\"U\" href=\"#accesskey_service_nav\" title=\"上方導覽區塊:會員服務|快速功能\" id=\"accesskey_service_nav\">:::會員服務|快速功能</a></h2>\n",
            "<ul class=\"service__nav\">\n",
            "<li class=\"logout li_label_member_login user_login\">\n",
            "<a href=\"javascript:void(0);\" onclick=\"location.href='https://cart.books.com.tw/member/login?loc=customer_003&url=' + encodeURIComponent(window.location.href);\"><i class=\"svg-icon-user\"></i><span class='member_class_cname'>會員登入</span></a>\n",
            "<div class=\"user_info_tip_box\" style=\"display:none;\">\n",
            "<div class=\"member\">\n",
            "<i class=\"icon-svg-graded-g\"></i>\n",
            "<ul class=\"record\">\n",
            "<li class='member_class_cname'>黃金會員</li>\n",
            "</ul>\n",
            "</div><div class=\"list_box\">\n",
            "<ul class=\"list\">\n",
            "<li><a href=\"https://myaccount.books.com.tw/myaccount/myaccount/index/\">前往會員專區</a></li>\n",
            "<li><a href=\"https://viewer-ebook.books.com.tw/viewer/index.html?readlist=all&MemberLogout=true\">我的電子書櫃</a></li>\n",
            "<li><a href=\"https://myaccount.books.com.tw/myaccount/myaccount/getOrder/\">訂單查詢</a></li>\n",
            "<li><a href=\"https://www.books.com.tw/web/sys_browseitems/\">瀏覽記錄</a></li>\n",
            "<li><a href=\"https://myaccount.books.com.tw/myaccount/myaccount/nextbuylist/\">下次再買</a></li>\n",
            "<li><a href=\"https://myaccount.books.com.tw/myaccount/myaccount/getReorder\">可訂購時通知</a></li>\n",
            "</ul>\n",
            "<ul class=\"list mycoupons\">\n",
            "<li><a href=\"https://activity.books.com.tw/memday/\">本月獨享</a></li>\n",
            "<li><a href=\"https://myaccount.books.com.tw/myaccount/myaccount/getPercentcouponlist?loc=tw_customer_coupon\">可用E-Coupon<span class=\"number\" id=\"my_ecoupon_count\">0</span>&nbsp;張</a></li>\n",
            "<li><a href=\"https://myaccount.books.com.tw/myaccount/myaccount/getPercentIcouponlist?loc=tw_customer_icoupon\">可用單品折價券<span class=\"number\" id=\"my_icoupon_count\">0</span>&nbsp;張</a></li>\n",
            "<li><a href=\"https://myaccount.books.com.tw/myaccount/myaccount/getShoppingmoneylist?loc=tw_customer_005\">可用購物金<span class=\"number\" id=\"shopping_cash\">0</span>&nbsp;元</a></li>\n",
            "<li><a href=\"https://myaccount.books.com.tw/myaccount/myaccount/getOpenpointlist/\">可用 OPEN POINT<span id=\"open_opint_num\">0</em></span>&nbsp;點</a></li>\n",
            "</ul>\n",
            "<a href=\"https://cart.books.com.tw/member/logout?loc=customer_004\"><button type=\"button\" class=\"sign_out\">登出</button></a>\n",
            "</div></div></li>\n",
            "<li><a href=\"https://myaccount.books.com.tw/myaccount/myaccount/getOrder/?loc=tw_customer_order\">訂單查詢</a></li>\n",
            "<li class=\"shopping\">\n",
            "<a href=\"https://db.books.com.tw/shopping/cart_list.php?loc=tw_customer_001\">購物車(<span id=\"shopping_cart_num\">0</span>)</a>\n",
            "</li>\n",
            "<li><a href=\"https://viewer-ebook.books.com.tw/viewer/index.html?readlist=all&MemberLogout=true\">電子書櫃</a></li>\n",
            "<li onclick=\"show_lang_panel();\"><a href=\"javascript:;\" class=\"modalBtn\"><i class=\"svg-icon-globe\"></i><span id=\"header_a_lang_title\">繁體</span></a></li>\n",
            "</ul>\n",
            "</div></div></nav>\n",
            "<div class=\"header_box2 clearfix\">\n",
            "<div class=\"logo\">\n",
            "<a href=\"https://www.books.com.tw?loc=tw_logo_001\" title=\"回博客來首頁\" aria-label=\"回博客來首頁\">\n",
            "<img src=\"https://jci.book.com.tw/css/header/images/books_logo_185x52.png\" alt=\"博客來\">\n",
            "</a>\n",
            "</div><div class=\"hot_key_words clearfix\">\n",
            "<strong>HOT</strong>\n",
            "<a class=\"item\" href=\"https://www.books.com.tw/products/0010911397?loc=hot_001\">阿共打來</a>\n",
            "<a class=\"item\" href=\"https://www.books.com.tw/products/0010956500?loc=hot_002\">昨日的美食</a>\n",
            "<a class=\"item\" href=\"https://www.books.com.tw/products/0010955367?loc=hot_003\">李怡</a>\n",
            "<a class=\"item\" href=\"https://www.books.com.tw/products/0010955286?loc=hot_004\">彭定康</a>\n",
            "</div><div class=\"search_box clearfix\">\n",
            "<h2 class=\"hide\"><a title=\"網站搜尋\" id=\"accesskey_search\" href=\"#accesskey_search\">:::網站搜尋</a></h2>\n",
            "<form action=\"https://search.books.com.tw/search/query/\" name=\"search\" id=\"search\"  method=\"GET\" onsubmit=\"if(typeof go_search == 'function'){go_search();return false;}\">\n",
            "<input type=\"hidden\" name=\"fclick\" id=\"search_fclick\" value=\"0\" data-fkey=\"\">\n",
            "<div class=\"search_wrap\">\n",
            "<div class=\"select_set\" id='select_set'>\n",
            "<button type=\"button\" class=\"toggle_btn\" data-js=\"select-collapse\"><span id=\"search_name\" >全部</span><i></i></button>\n",
            "</div><input type=\"search\" class=\"search_key\" accesskey=\"S\" name=\"key\" id=\"key\" value=\"\" message =\"請輸入關鍵字\" autocomplete=\"off\" placeholder=\"請輸入關鍵字\" >\n",
            "<input type=\"hidden\" name=\"cat\" id=\"cat\" value =\"all\">\n",
            "<input type=\"hidden\" name=\"qsub\" id=\"qsub\" value =\"\">\n",
            "<button class=\"search_btn\" type=\"submit\" title=\"搜尋\">\n",
            "<svg width=\"24\" height=\"25\" viewBox=\"0 0 24 25\" fill=\"none\" xmlns=\"http://www.w3.org/2000/svg\">\n",
            "<circle cx=\"10.76\" cy=\"11.26\" r=\"8.11\" stroke=\"#fff\" stroke-width=\"1.3\"></circle>\n",
            "<rect width=\"2.20667\" height=\"7.13156\" rx=\"1.10334\" transform=\"matrix(0.692391 -0.721523 0.692391 0.721523 15.7273 17.3545)\" fill=\"#fff\"></rect>\n",
            "</svg>\n",
            "</button>\n",
            "</div><ul class=\"search_select_ul search_popup\" role=\"group\" data-js=\"select-options\">\n",
            "<li><a href=\"javascript:;\" cat=\"all\" id=\"default_search_key\">全部</a></li>\n",
            "<li><a href=\"javascript:;\" cat=\"BKA\" >圖書</a></li>\n",
            "<li><a href=\"javascript:;\" cat=\"EBA\" >電子書</a></li>\n",
            "<li><a href=\"javascript:;\" cat=\"MDB\" >有聲書</a></li>\n",
            "<li><a href=\"javascript:;\" cat=\"ERT\" >訂閱</a></li>\n",
            "<li><a href=\"javascript:;\" cat=\"AVA\" >影音</a></li>\n",
            "<li><a href=\"javascript:;\" cat=\"DPA/qsub/K01\" >美妝</a></li>\n",
            "<li><a href=\"javascript:;\" cat=\"DPA/qsub/K14\" >保健</a></li>\n",
            "<li><a href=\"javascript:;\" cat=\"DPA/qsub/K03\" >服飾</a></li>\n",
            "<li><a href=\"javascript:;\" cat=\"DPA/qsub/K27\" >鞋包配件</a></li>\n",
            "<li><a href=\"javascript:;\" cat=\"DPA/qsub/K08\" >美食</a></li>\n",
            "<li><a href=\"javascript:;\" cat=\"DPA/qsub/K07\" >家居生活</a></li>\n",
            "<li><a href=\"javascript:;\" cat=\"DPA/qsub/K24\" >餐廚生活</a></li>\n",
            "<li><a href=\"javascript:;\" cat=\"DPA/qsub/K17\" >設計文具</a></li>\n",
            "<li><a href=\"javascript:;\" cat=\"DPA/qsub/K19\" >無印良品</a></li>\n",
            "<li><a href=\"javascript:;\" cat=\"DPA/qsub/K20\" >星巴克</a></li>\n",
            "<li><a href=\"javascript:;\" cat=\"DPA/qsub/K11\" >3C</a></li>\n",
            "<li><a href=\"javascript:;\" cat=\"DPA/qsub/K12\" >家電</a></li>\n",
            "<li><a href=\"javascript:;\" cat=\"DPA/qsub/K21\" >日用</a></li>\n",
            "<li><a href=\"javascript:;\" cat=\"DPA/qsub/K22\" >休閒生活</a></li>\n",
            "<li><a href=\"javascript:;\" cat=\"DPA/qsub/K23\" >婦幼生活</a></li>\n",
            "<li><a href=\"javascript:;\" cat=\"DPA/qsub/K25\" >電子票證</a></li>\n",
            "<li><a href=\"javascript:;\" cat=\"DPA/qsub/K29\" >寵物生活</a></li>\n",
            "<li><a href=\"javascript:;\" cat=\"DPA/qsub/K28\" >票券</a></li>\n",
            "<li><a href=\"javascript:;\" cat=\"DPA/qsub/K30\" >玲廊滿藝</a></li>\n",
            "<li><a href=\"javascript:;\" cat=\"DPA/qsub/K31\" >LinLi Boutique 林莉</a></li>\n",
            "<li><a href=\"javascript:;\" cat=\"MGA\" >雜誌</a></li>\n",
            "<li><a href=\"javascript:;\" cat=\"FST\" >快速到貨</a></li>\n",
            "<li><a href=\"javascript:;\" cat=\"GFC\" >禮物卡</a></li>\n",
            "</ul>\n",
            "</form>\n",
            "<ul id=\"search_words_ul\" class=\"search_words_ul\" style=\"display:none;\"></ul>\n",
            "</div></div><div class=\"header_box3 clearfix\">\n",
            "</div></div></header>\n",
            "</div><script>\n",
            "  if ($(window).scrollTop() > 150) { \r\n",
            "    $('#header_full_v2 .fix__box').addClass('active');\r\n",
            "    $('#header_full_v2 .header_box2').addClass('active');\r\n",
            "  }; \r\n",
            "  $(window).scroll(function () {      \r\n",
            "    if ($(window).scrollTop() > 150) {          \r\n",
            "    $('#header_full_v2 .fix__box').addClass('active');\r\n",
            "    $('#header_full_v2 .header_box2').addClass('active');\r\n",
            "    } else { \r\n",
            "      $('#header_full_v2 .fix__box').removeClass('active');      \r\n",
            "      $('#header_full_v2 .header_box2').removeClass('active');        \r\n",
            "    }\r\n",
            "  });\r\n",
            "</script>\n",
            "<script language=\"JavaScript\" type=\"text/javascript\" src=\"/jss/web/picturebox_manager.js?v=641c093e\"></script>\n",
            "<div class=\"container_24 clearfix\">\n",
            "<div class=\"grid_24\">\n",
            "<div class='clearfix'>\n",
            "<ul id=\"breadcrumb-trail\" vocab=\"https://schema.org/\" typeof=\"BreadcrumbList\"  class='clearfix'>\n",
            "<li property='itemListElement' typeof='ListItem'><a property='item' typeof='WebPage' href='https://www.books.com.tw/'>博客來</a><meta property='name' content='博客來'><meta property='position' content='1'></li><li property='itemListElement' typeof='ListItem'><a property='item' typeof='WebPage' href='https://www.books.com.tw/web/ovs/'>海外專館</a><meta property='name' content='海外專館'><meta property='position' content='2'></li><li class='last' property='itemListElement' typeof='ListItem'>美國<meta property='name' content='美國'><meta property='position' content='3'></li></ul>\n",
            "</div></div></div><div class=\"container_24 main_wrap clearfix\">\n",
            "<div class=\"grid_24 main_column\">\n",
            "<ul class=\"mod type02_s007 clearfix\">\n",
            "<li><a href=\"https://activity.books.com.tw/crosscat/show/A00000059367?loc=P_0001_001\"><img src=\"https://im1.book.com.tw/image/getImage?i=https://addons.books.com.tw/G/ADbanner/marketing/2023/04/books_soap/bn/22_950x150.jpg&v=644263dbk&w=950&h=\"  ></a></li></ul>\n",
            "<div class=\"mod type01_s001 clearfix\">\n",
            "<h3 class=\"hide\">banner</h3>\n",
            "<ul class=\"banner\">\n",
            "<li><a href='https://activity.books.com.tw/crosscat/show/A00000060393?loc=P_0032_001' id='a_M201103_1065__P00a500050032'><img id='banner_M201103_1065__P00a500050032' class='ban' src='https://im1.book.com.tw/image/getImage?i=https://addons.books.com.tw/G/ADbanner/2023/05/summerEat_950300.jpg&v=64741112k&w=950&h=250' alt='' ></a></li>\n",
            "</ul>\n",
            "<div class=\"cycle_btn_a\">\n",
            "<b class=\"left\"></b>\n",
            "<ul class=\"btn_a\">\n",
            "<li id='li_M201103_1065__P00a500050032-0' class='M201103_1065__P00a500050032 no_01 here'><a title='' href='javascript:;' id='M201103_1065__P00a500050032-0'><span></span></a></li><li id='li_M201103_1065__P00a500050032-1' class='M201103_1065__P00a500050032 no_02'><a title='' href='javascript:;' id='M201103_1065__P00a500050032-1'><span></span></a></li><li id='li_M201103_1065__P00a500050032-2' class='M201103_1065__P00a500050032 no_03'><a title='' href='javascript:;' id='M201103_1065__P00a500050032-2'><span></span></a></li><li id='li_M201103_1065__P00a500050032-3' class='M201103_1065__P00a500050032 no_04'><a title='' href='javascript:;' id='M201103_1065__P00a500050032-3'><span></span></a></li><li id='li_M201103_1065__P00a500050032-4' class='M201103_1065__P00a500050032 no_05'><a title='' href='javascript:;' id='M201103_1065__P00a500050032-4'><span></span></a></li><li id='li_M201103_1065__P00a500050032-5' class='M201103_1065__P00a500050032 no_06'><a title='' href='javascript:;' id='M201103_1065__P00a500050032-5'><span></span></a></li>\n",
            "</ul>\n",
            "<b class=\"right\"></b>\n",
            "</div></div><script type=\"text/javascript\">\n",
            "$(document).ready(function(){\r\n",
            "    var opt_module_id = \"M201103_1065__P00a500050032\";//模組編碼參數\r\n",
            "    var opt_here = 0;//選項底色 0:預設 here 1:特殊設定\r\n",
            "    var opt = new Array(3);//參數資料變數\r\n",
            "    opt[0] = new Array();\r\n",
            "    opt[1] = new Array();\r\n",
            "    opt[2] = new Array();\r\n",
            "    opt[0][0]='https://activity.books.com.tw/crosscat/show/A00000060393?loc=P_0032_001';opt[1][0]='https://im1.book.com.tw/image/getImage?i=https://addons.books.com.tw/G/ADbanner/2023/05/summerEat_950300.jpg&v=64741112k&w=950&h=250';opt[2][0]='';opt[0][1]='https://activity.books.com.tw/crosscat/show/A00000060018?loc=P_0032_002';opt[1][1]='https://im1.book.com.tw/image/getImage?i=https://addons.books.com.tw/G/ADbanner/2023/05/mirrorfiction950300.jpg&v=64620130k&w=950&h=250';opt[2][1]='';opt[0][2]='https://activity.books.com.tw/crosscat/show/A00000060122?loc=P_0032_003';opt[1][2]='https://im1.book.com.tw/image/getImage?i=https://www.books.com.tw/G/ADbanner/2023/05/EBOOK/E050161910_950300.jpg&v=64673a2bk&w=950&h=250';opt[2][2]='';opt[0][3]='https://www.books.com.tw/web/sys_brmidm/shoes_0000018338/02?loc=P_0032_004';opt[1][3]='https://im1.book.com.tw/image/getImage?i=https://addons.books.com.tw/G/ADbanner/fashion/watch/2023/04/bag_950x250.jpg&v=642544b5k&w=950&h=250';opt[2][3]='';opt[0][4]='https://activity.books.com.tw/crosscat/show/A00000059812?loc=P_0032_005';opt[1][4]='https://im1.book.com.tw/image/getImage?i=https://addons.books.com.tw/G/ADbanner/lifestyle/C/2023/05/TEA_950x250.jpg&v=6454d776k&w=950&h=250';opt[2][4]='';opt[0][5]='https://activity.books.com.tw/crosscat/show/A00000060071?loc=P_0032_006';opt[1][5]='https://im1.book.com.tw/image/getImage?i=https://addons.books.com.tw/G/ADbanner/2023/05/ebmentality_950300.jpg&v=6462e70bk&w=950&h=250';opt[2][5]='';    var M201103_1065__P00a500050032 = new banner(opt_module_id,opt_here,opt);});\r\n",
            "</script>\n",
            "<div class=\"clearfix\">\n",
            "<div class=\"grid_20 push_4 main_column alpha\">\n",
            "<div class=\"mod clearfix\">\n",
            "<div id=\"br_d6pbqity\"></div><script>$(\"#br_d6pbqity\").load(\"//www.books.com.tw/br/r/br_d6pbqity\");</script>\n",
            "</div><div class=\"mod clearfix\">\n",
            "<div id=\"br_appbqisu\"></div><script>$(\"#br_appbqisu\").load(\"//www.books.com.tw/br/r/br_appbqisu\");</script>\n",
            "</div><div class=\"mod type01_m023 clearfix\">\n",
            "<h3>台灣品牌<span>品牌數：172 ，品項數：11573 </span>\n",
            "<span class='moreinfo_r'><q><a href='https://www.books.com.tw/web/ovsbrand?loc=P_0006_more_001'>看更多</a></q></span>\n",
            "</h3>\n",
            "<div class=\"bd cnt_mod001 clearfix\">\n",
            "<ul class=\"cntli_001 cntli_001g clearfix\">\n",
            "<li>\n",
            "<a class=\"cover cov_a\" href=\"https://www.books.com.tw/web/sys_brand/0/0000018071?or=all&od=1&loc=P_0006_001\"><img src=\"https://im2.book.com.tw/image/getImage?i=https://addons.books.com.tw/G/ADbanner/OverseasTWbrand/2022/sunnyhills.jpg&v=62eb3d8ek&w=&h=\" alt=\"微熱山丘\" srcset=\"https://im2.book.com.tw/image/getImage?i=https://addons.books.com.tw/G/ADbanner/OverseasTWbrand/2022/sunnyhills.jpg&v=62eb3d8ek&w=0&h=0 2x,https://im2.book.com.tw/image/getImage?i=https://addons.books.com.tw/G/ADbanner/OverseasTWbrand/2022/sunnyhills.jpg&v=62eb3d8ek&w=0&h=0 3x\"></a>\n",
            "<h4><a href=\"https://www.books.com.tw/web/sys_brand/0/0000018071?or=all&od=1&loc=P_0006_001\">微熱山丘</a></h4>\n",
            "</li><li>\n",
            "<a class=\"cover cov_a\" href=\"https://www.books.com.tw/web/sys_brand/0/0000021008?or=all&od=1&loc=P_0006_002\"><img src=\"https://im1.book.com.tw/image/getImage?i=https://addons.books.com.tw/G/ADbanner/OverseasTWbrand/2022/OneMoreCup.jpg&v=62cbd9f8k&w=&h=\" alt=\"來一客\" srcset=\"https://im1.book.com.tw/image/getImage?i=https://addons.books.com.tw/G/ADbanner/OverseasTWbrand/2022/OneMoreCup.jpg&v=62cbd9f8k&w=0&h=0 2x,https://im1.book.com.tw/image/getImage?i=https://addons.books.com.tw/G/ADbanner/OverseasTWbrand/2022/OneMoreCup.jpg&v=62cbd9f8k&w=0&h=0 3x\"></a>\n",
            "<h4><a href=\"https://www.books.com.tw/web/sys_brand/0/0000021008?or=all&od=1&loc=P_0006_002\">來一客</a></h4>\n",
            "</li><li>\n",
            "<a class=\"cover cov_a\" href=\"https://www.books.com.tw/web/sys_brand/0/0000005026?or=all&od=1&loc=P_0006_003\"><img src=\"https://im1.book.com.tw/image/getImage?i=https://addons.books.com.tw/G/ADbanner/m/2017/07/logos_82.jpg&v=5954c190k&w=&h=\" alt=\"京盛宇\" srcset=\"https://im1.book.com.tw/image/getImage?i=https://addons.books.com.tw/G/ADbanner/m/2017/07/logos_82.jpg&v=5954c190k&w=0&h=0 2x,https://im1.book.com.tw/image/getImage?i=https://addons.books.com.tw/G/ADbanner/m/2017/07/logos_82.jpg&v=5954c190k&w=0&h=0 3x\"></a>\n",
            "<h4><a href=\"https://www.books.com.tw/web/sys_brand/0/0000005026?or=all&od=1&loc=P_0006_003\">京盛宇</a></h4>\n",
            "</li><li>\n",
            "<a class=\"cover cov_a\" href=\"https://www.books.com.tw/web/sys_brand/0/0000007455?or=all&od=1&loc=P_0006_004\"><img src=\"https://im2.book.com.tw/image/getImage?i=https://addons.books.com.tw/G/ADbanner/2017/06/hrea.jpg&v=5951fc71k&w=&h=\" alt=\"Hera 赫拉\" srcset=\"https://im2.book.com.tw/image/getImage?i=https://addons.books.com.tw/G/ADbanner/2017/06/hrea.jpg&v=5951fc71k&w=0&h=0 2x,https://im2.book.com.tw/image/getImage?i=https://addons.books.com.tw/G/ADbanner/2017/06/hrea.jpg&v=5951fc71k&w=0&h=0 3x\"></a>\n",
            "<h4><a href=\"https://www.books.com.tw/web/sys_brand/0/0000007455?or=all&od=1&loc=P_0006_004\">Hera 赫拉</a></h4>\n",
            "</li><li>\n",
            "<a class=\"cover cov_a\" href=\"https://www.books.com.tw/web/sys_brand/0/0000010781?or=all&od=1&loc=P_0006_005\"><img src=\"https://im1.book.com.tw/image/getImage?i=https://addons.books.com.tw/G/ADbanner/m/2017/08/logos_132.jpg&v=59881dc5k&w=&h=\" alt=\"大目農田\" srcset=\"https://im1.book.com.tw/image/getImage?i=https://addons.books.com.tw/G/ADbanner/m/2017/08/logos_132.jpg&v=59881dc5k&w=0&h=0 2x,https://im1.book.com.tw/image/getImage?i=https://addons.books.com.tw/G/ADbanner/m/2017/08/logos_132.jpg&v=59881dc5k&w=0&h=0 3x\"></a>\n",
            "<h4><a href=\"https://www.books.com.tw/web/sys_brand/0/0000010781?or=all&od=1&loc=P_0006_005\">大目農田</a></h4>\n",
            "</li><li>\n",
            "<a class=\"cover cov_a\" href=\"https://www.books.com.tw/web/sys_brand/0/0000005364?or=all&od=1&loc=P_0006_006\"><img src=\"https://im1.book.com.tw/image/getImage?i=https://addons.books.com.tw/G/ADbanner/m/2017/07/logos_100.jpg&v=5954c18fk&w=&h=\" alt=\"統一生機\" srcset=\"https://im1.book.com.tw/image/getImage?i=https://addons.books.com.tw/G/ADbanner/m/2017/07/logos_100.jpg&v=5954c18fk&w=0&h=0 2x,https://im1.book.com.tw/image/getImage?i=https://addons.books.com.tw/G/ADbanner/m/2017/07/logos_100.jpg&v=5954c18fk&w=0&h=0 3x\"></a>\n",
            "<h4><a href=\"https://www.books.com.tw/web/sys_brand/0/0000005364?or=all&od=1&loc=P_0006_006\">統一生機</a></h4>\n",
            "</li><li>\n",
            "<a class=\"cover cov_a\" href=\"https://www.books.com.tw/web/sys_brand/0/0000001148?or=all&od=1&loc=P_0006_007\"><img src=\"https://im1.book.com.tw/image/getImage?i=https://addons.books.com.tw/G/ADbanner/m/2017/07/logos_94.jpg&v=5954c190k&w=&h=\" alt=\"馬玉山\" srcset=\"https://im1.book.com.tw/image/getImage?i=https://addons.books.com.tw/G/ADbanner/m/2017/07/logos_94.jpg&v=5954c190k&w=0&h=0 2x,https://im1.book.com.tw/image/getImage?i=https://addons.books.com.tw/G/ADbanner/m/2017/07/logos_94.jpg&v=5954c190k&w=0&h=0 3x\"></a>\n",
            "<h4><a href=\"https://www.books.com.tw/web/sys_brand/0/0000001148?or=all&od=1&loc=P_0006_007\">馬玉山</a></h4>\n",
            "</li>\n",
            "</ul>\n",
            "</div></div><div class=\"mod type01_m023 clearfix\">\n",
            "<h3>台灣出版品<span></span>\n",
            "</h3>\n",
            "<div class=\"bd cnt_mod001 clearfix\">\n",
            "<ul class=\"cntli_001 cntli_001g clearfix\">\n",
            "<li>\n",
            "<a class=\"cover cov_a\" href=\"https://www.books.com.tw/web/rmagazine/?loc=P_0008_001\"><img src=\"https://im2.book.com.tw/image/getImage?i=https://addons.books.com.tw/G/ADbanner/2017/07/icon_mg.gif&v=5955d526k&w=&h=\" alt=\"特色新刊‧台灣地方誌\" srcset=\"https://im2.book.com.tw/image/getImage?i=https://addons.books.com.tw/G/ADbanner/2017/07/icon_mg.gif&v=5955d526k&w=0&h=0 2x,https://im2.book.com.tw/image/getImage?i=https://addons.books.com.tw/G/ADbanner/2017/07/icon_mg.gif&v=5955d526k&w=0&h=0 3x\"></a>\n",
            "<h4><a href=\"https://www.books.com.tw/web/rmagazine/?loc=P_0008_001\">特色新刊‧台灣地方誌</a></h4>\n",
            "</li><li>\n",
            "<a class=\"cover cov_a\" href=\"https://www.books.com.tw/web/books_topm_04/?loc=P_0008_002\"><img src=\"https://im2.book.com.tw/image/getImage?i=https://addons.books.com.tw/G/ADbanner/2017/07/icon_humanities.gif&v=5955d4e3k&w=&h=\" alt=\"台灣‧中國‧世界史地\" srcset=\"https://im2.book.com.tw/image/getImage?i=https://addons.books.com.tw/G/ADbanner/2017/07/icon_humanities.gif&v=5955d4e3k&w=0&h=0 2x,https://im2.book.com.tw/image/getImage?i=https://addons.books.com.tw/G/ADbanner/2017/07/icon_humanities.gif&v=5955d4e3k&w=0&h=0 3x\"></a>\n",
            "<h4><a href=\"https://www.books.com.tw/web/books_topm_04/?loc=P_0008_002\">台灣‧中國‧世界史地</a></h4>\n",
            "</li><li>\n",
            "<a class=\"cover cov_a\" href=\"https://www.books.com.tw/web/books_topm_10/?loc=P_0008_003\"><img src=\"https://im2.book.com.tw/image/getImage?i=https://addons.books.com.tw/G/ADbanner/2017/07/icon_life.gif&v=5955d483k&w=&h=\" alt=\"手作‧塑身美妝‧圖文‧影視偶像\" srcset=\"https://im2.book.com.tw/image/getImage?i=https://addons.books.com.tw/G/ADbanner/2017/07/icon_life.gif&v=5955d483k&w=0&h=0 2x,https://im2.book.com.tw/image/getImage?i=https://addons.books.com.tw/G/ADbanner/2017/07/icon_life.gif&v=5955d483k&w=0&h=0 3x\"></a>\n",
            "<h4><a href=\"https://www.books.com.tw/web/books_topm_10/?loc=P_0008_003\">手作‧塑身美妝‧圖文‧影視偶像</a></h4>\n",
            "</li><li>\n",
            "<a class=\"cover cov_a\" href=\"https://www.books.com.tw/web/books_topm_14/?loc=P_0008_004\"><img src=\"https://im2.book.com.tw/image/getImage?i=https://addons.books.com.tw/G/ADbanner/2017/07/icon_kids.gif&v=5955d485k&w=&h=\" alt=\"圖畫書‧兒童/青少年文學\" srcset=\"https://im2.book.com.tw/image/getImage?i=https://addons.books.com.tw/G/ADbanner/2017/07/icon_kids.gif&v=5955d485k&w=0&h=0 2x,https://im2.book.com.tw/image/getImage?i=https://addons.books.com.tw/G/ADbanner/2017/07/icon_kids.gif&v=5955d485k&w=0&h=0 3x\"></a>\n",
            "<h4><a href=\"https://www.books.com.tw/web/books_topm_14/?loc=P_0008_004\">圖畫書‧兒童/青少年文學</a></h4>\n",
            "</li><li>\n",
            "<a class=\"cover cov_a\" href=\"https://www.books.com.tw/web/books_topm_09/?loc=P_0008_005\"><img src=\"https://im1.book.com.tw/image/getImage?i=https://addons.books.com.tw/G/ADbanner/2017/07/icon_food.gif&v=5955d483k&w=&h=\" alt=\"食譜‧甜點麵包\" srcset=\"https://im1.book.com.tw/image/getImage?i=https://addons.books.com.tw/G/ADbanner/2017/07/icon_food.gif&v=5955d483k&w=0&h=0 2x,https://im1.book.com.tw/image/getImage?i=https://addons.books.com.tw/G/ADbanner/2017/07/icon_food.gif&v=5955d483k&w=0&h=0 3x\"></a>\n",
            "<h4><a href=\"https://www.books.com.tw/web/books_topm_09/?loc=P_0008_005\">食譜‧甜點麵包</a></h4>\n",
            "</li><li>\n",
            "<a class=\"cover cov_a\" href=\"https://www.books.com.tw/web/books_topm_02/?loc=P_0008_006\"><img src=\"https://im2.book.com.tw/image/getImage?i=https://addons.books.com.tw/G/ADbanner/2017/07/icon_business.gif&v=5955d4b7k&w=&h=\" alt=\"投資理財‧職場工作術\" srcset=\"https://im2.book.com.tw/image/getImage?i=https://addons.books.com.tw/G/ADbanner/2017/07/icon_business.gif&v=5955d4b7k&w=0&h=0 2x,https://im2.book.com.tw/image/getImage?i=https://addons.books.com.tw/G/ADbanner/2017/07/icon_business.gif&v=5955d4b7k&w=0&h=0 3x\"></a>\n",
            "<h4><a href=\"https://www.books.com.tw/web/books_topm_02/?loc=P_0008_006\">投資理財‧職場工作術</a></h4>\n",
            "</li><li>\n",
            "<a class=\"cover cov_a\" href=\"https://www.books.com.tw/web/books_topm_01/?loc=P_0008_007\"><img src=\"https://im1.book.com.tw/image/getImage?i=https://addons.books.com.tw/G/ADbanner/2017/07/icon_novel.gif&v=5955d485k&w=&h=\" alt=\"文學創作‧推理‧言情小說\" srcset=\"https://im1.book.com.tw/image/getImage?i=https://addons.books.com.tw/G/ADbanner/2017/07/icon_novel.gif&v=5955d485k&w=0&h=0 2x,https://im1.book.com.tw/image/getImage?i=https://addons.books.com.tw/G/ADbanner/2017/07/icon_novel.gif&v=5955d485k&w=0&h=0 3x\"></a>\n",
            "<h4><a href=\"https://www.books.com.tw/web/books_topm_01/?loc=P_0008_007\">文學創作‧推理‧言情小說</a></h4>\n",
            "</li>\n",
            "</ul>\n",
            "</div></div><div class=\"mod type01_m026 clearfix\" id=\"M201101_0_getOverseasNewProd_P00a500050024\">\n",
            "<h3>新品上市                                            <span  >電子書</span>\n",
            "<span  style=\"display:none;\"  >中文新書</span>\n",
            "<span  style=\"display:none;\"  >簡體新書</span>\n",
            "<span  style=\"display:none;\"  >外文新書</span>\n",
            "<span  style=\"display:none;\"  >雜誌新刊</span>\n",
            "<span  style=\"display:none;\"  >影音</span>\n",
            "<span  style=\"display:none;\"  >美食</span>\n",
            "<span  style=\"display:none;\"  >設計文具</span>\n",
            "</h3>\n",
            "<div class=\"type03_tabs_b\">\n",
            "<ul class=\"tabs\">\n",
            "<li  class=\"here\"  >電子書</li>\n",
            "<li  >中文新書</li>\n",
            "<li  >簡體新書</li>\n",
            "<li  >外文新書</li>\n",
            "<li  >雜誌新刊</li>\n",
            "<li  >影音</li>\n",
            "<li  >美食</li>\n",
            "<li  >設計文具</li>\n",
            "</ul>\n",
            "</div><div class=\"type03_m002 clearfix\"  >\n",
            "<ul class=\"tab-content\" data-shownum=\"4\">\n",
            "<li>\n",
            "<a href=\"https://www.books.com.tw/products/E050161910?loc=P_0024_001\">\n",
            "<img alt='芷為你而燦爛-蕭芷渲數位寫真書 (電子書)' src=\"https://im1.book.com.tw/image/getImage?i=https://www.books.com.tw/img/E05/016/19/E050161910.jpg&v=64671074k&w=180&h=180\" srcset=\"https://im1.book.com.tw/image/getImage?i=https://www.books.com.tw/img/E05/016/19/E050161910.jpg&v=64671074k&w=360&h=360 2x,https://im1.book.com.tw/image/getImage?i=https://www.books.com.tw/img/E05/016/19/E050161910.jpg&v=64671074k&w=540&h=540 3x\" ></a>\n",
            "<p>芷為你而燦爛-蕭芷渲數位寫真書 (電子書)</p>\n",
            "</li>\n",
            "<li>\n",
            "<a href=\"https://www.books.com.tw/products/E050161533?loc=P_0024_002\">\n",
            "<img alt='特殊傳說Ⅲ vol.07 (電子書)' src=\"https://im2.book.com.tw/image/getImage?i=https://www.books.com.tw/img/E05/016/15/E050161533.jpg&v=64646ce7k&w=180&h=180\" srcset=\"https://im2.book.com.tw/image/getImage?i=https://www.books.com.tw/img/E05/016/15/E050161533.jpg&v=64646ce7k&w=360&h=360 2x,https://im2.book.com.tw/image/getImage?i=https://www.books.com.tw/img/E05/016/15/E050161533.jpg&v=64646ce7k&w=540&h=540 3x\" ></a>\n",
            "<p>特殊傳說Ⅲ vol.07 (電子書)</p>\n",
            "</li>\n",
            "<li>\n",
            "<a href=\"https://www.books.com.tw/products/E050158639?loc=P_0024_003\">\n",
            "<img alt='呼吸，為了療癒：全新的呼吸科學與醫學，透過清醒的呼吸，徹底轉化身心 (電子書)' src=\"https://im2.book.com.tw/image/getImage?i=https://www.books.com.tw/img/E05/015/86/E050158639.jpg&v=6441eed4k&w=180&h=180\" srcset=\"https://im2.book.com.tw/image/getImage?i=https://www.books.com.tw/img/E05/015/86/E050158639.jpg&v=6441eed4k&w=360&h=360 2x,https://im2.book.com.tw/image/getImage?i=https://www.books.com.tw/img/E05/015/86/E050158639.jpg&v=6441eed4k&w=540&h=540 3x\" ></a>\n",
            "<p>呼吸，為了療癒：全新的呼吸科學與醫學，透過清醒的呼吸，徹底轉化身心 (電子書)</p>\n",
            "</li>\n",
            "<li>\n",
            "<a href=\"https://www.books.com.tw/products/E060012579?loc=P_0024_004\">\n",
            "<img alt='早安健康 最強減肥腦第60期 (電子雜誌)' src=\"https://im2.book.com.tw/image/getImage?i=https://www.books.com.tw/img/E06/001/25/E060012579.jpg&v=6448b8f4k&w=180&h=180\"  ></a>\n",
            "<p>早安健康 最強減肥腦第60期 (電子雜誌)</p>\n",
            "</li>\n",
            "</ul>\n",
            "</div><div class=\"type03_m002 clearfix\" style=\"display:none;\" >\n",
            "<ul class=\"tab-content\" data-shownum=\"4\">\n",
            "<li>\n",
            "<a href=\"https://www.books.com.tw/products/0010957215?loc=P_0024_001\">\n",
            "<img alt='特殊傳說Ⅲ vol.07' src=\"https://im2.book.com.tw/image/getImage?i=https://www.books.com.tw/img/001/095/72/0010957215.jpg&v=645cc3f7k&w=180&h=180\" srcset=\"https://im2.book.com.tw/image/getImage?i=https://www.books.com.tw/img/001/095/72/0010957215.jpg&v=645cc3f7k&w=360&h=360 2x,https://im2.book.com.tw/image/getImage?i=https://www.books.com.tw/img/001/095/72/0010957215.jpg&v=645cc3f7k&w=540&h=540 3x\" ></a>\n",
            "<p>特殊傳說Ⅲ vol.07</p>\n",
            "</li>\n",
            "<li>\n",
            "<a href=\"https://www.books.com.tw/products/0010956663?loc=P_0024_002\">\n",
            "<img alt='成為孩子生命中的貴人：四季藝術創辦人唐富美的教育創新' src=\"https://im2.book.com.tw/image/getImage?i=https://www.books.com.tw/img/001/095/66/0010956663.jpg&v=6454dbc4k&w=180&h=180\" srcset=\"https://im2.book.com.tw/image/getImage?i=https://www.books.com.tw/img/001/095/66/0010956663.jpg&v=6454dbc4k&w=360&h=360 2x,https://im2.book.com.tw/image/getImage?i=https://www.books.com.tw/img/001/095/66/0010956663.jpg&v=6454dbc4k&w=540&h=540 3x\" ></a>\n",
            "<p>成為孩子生命中的貴人：四季藝術創辦人唐富美的教育創新</p>\n",
            "</li>\n",
            "<li>\n",
            "<a href=\"https://www.books.com.tw/products/0010957438?loc=P_0024_003\">\n",
            "<img alt='神明便利商店2 虎爺與黑虎將軍書衣限量特別版' src=\"https://im1.book.com.tw/image/getImage?i=https://www.books.com.tw/img/001/095/74/0010957438.jpg&v=64620a5ck&w=180&h=180\" srcset=\"https://im1.book.com.tw/image/getImage?i=https://www.books.com.tw/img/001/095/74/0010957438.jpg&v=64620a5ck&w=360&h=360 2x,https://im1.book.com.tw/image/getImage?i=https://www.books.com.tw/img/001/095/74/0010957438.jpg&v=64620a5ck&w=540&h=540 3x\" ></a>\n",
            "<p>神明便利商店2 虎爺與黑虎將軍書衣限量特別版</p>\n",
            "</li>\n",
            "<li>\n",
            "<a href=\"https://www.books.com.tw/products/0010953919?loc=P_0024_004\">\n",
            "<img alt='治癒悖論 全' src=\"https://im2.book.com.tw/image/getImage?i=https://www.books.com.tw/img/001/095/39/0010953919.jpg&v=6422c22ck&w=180&h=180\" srcset=\"https://im2.book.com.tw/image/getImage?i=https://www.books.com.tw/img/001/095/39/0010953919.jpg&v=6422c22ck&w=360&h=360 2x,https://im2.book.com.tw/image/getImage?i=https://www.books.com.tw/img/001/095/39/0010953919.jpg&v=6422c22ck&w=540&h=540 3x\" ></a>\n",
            "<p>治癒悖論 全</p>\n",
            "</li>\n",
            "</ul>\n",
            "</div><div class=\"type03_m002 clearfix\" style=\"display:none;\" >\n",
            "<ul class=\"tab-content\" data-shownum=\"4\">\n",
            "<li>\n",
            "<a href=\"https://www.books.com.tw/products/CN11867569?loc=P_0024_001\">\n",
            "<img alt='雨村筆記2：旅行篇' src=\"https://im2.book.com.tw/image/getImage?i=https://www.books.com.tw/img/CN1/186/75/CN11867569.jpg&v=645b722ak&w=180&h=180\"  ></a>\n",
            "<p>雨村筆記2：旅行篇</p>\n",
            "</li>\n",
            "<li>\n",
            "<a href=\"https://www.books.com.tw/products/CN11846816?loc=P_0024_002\">\n",
            "<img alt='殷商六百年：殷周革命與青銅王朝的興衰' src=\"https://im1.book.com.tw/image/getImage?i=https://www.books.com.tw/img/CN1/184/68/CN11846816.jpg&v=6424861bk&w=180&h=180\" srcset=\"https://im1.book.com.tw/image/getImage?i=https://www.books.com.tw/img/CN1/184/68/CN11846816.jpg&v=6424861bk&w=360&h=360 2x,https://im1.book.com.tw/image/getImage?i=https://www.books.com.tw/img/CN1/184/68/CN11846816.jpg&v=6424861bk&w=540&h=540 3x\" ></a>\n",
            "<p>殷商六百年：殷周革命與青銅王朝的興衰</p>\n",
            "</li>\n",
            "<li>\n",
            "<a href=\"https://www.books.com.tw/products/CN11859767?loc=P_0024_003\">\n",
            "<img alt='與鳳行（全二冊）' src=\"https://im2.book.com.tw/image/getImage?i=https://www.books.com.tw/img/CN1/185/97/CN11859767.jpg&v=64465a82k&w=180&h=180\" srcset=\"https://im2.book.com.tw/image/getImage?i=https://www.books.com.tw/img/CN1/185/97/CN11859767.jpg&v=64465a82k&w=360&h=360 2x,https://im2.book.com.tw/image/getImage?i=https://www.books.com.tw/img/CN1/185/97/CN11859767.jpg&v=64465a82k&w=540&h=540 3x\" ></a>\n",
            "<p>與鳳行（全二冊）</p>\n",
            "</li>\n",
            "<li>\n",
            "<a href=\"https://www.books.com.tw/products/CN11861671?loc=P_0024_004\">\n",
            "<img alt='線的文化史' src=\"https://im2.book.com.tw/image/getImage?i=https://www.books.com.tw/img/CN1/186/16/CN11861671.jpg&v=64554dafk&w=180&h=180\" srcset=\"https://im2.book.com.tw/image/getImage?i=https://www.books.com.tw/img/CN1/186/16/CN11861671.jpg&v=64554dafk&w=360&h=360 2x,https://im2.book.com.tw/image/getImage?i=https://www.books.com.tw/img/CN1/186/16/CN11861671.jpg&v=64554dafk&w=540&h=540 3x\" ></a>\n",
            "<p>線的文化史</p>\n",
            "</li>\n",
            "</ul>\n",
            "</div><div class=\"type03_m002 clearfix\" style=\"display:none;\" >\n",
            "<ul class=\"tab-content\" data-shownum=\"4\">\n",
            "<li>\n",
            "<a href=\"https://www.books.com.tw/products/F019681552?loc=P_0024_001\">\n",
            "<img alt='超級瑪利歐兄弟讀本（改編自電影，4-8歲適讀）Mario’s Big Adventure (Nintendo and Illumination present The Super Mario Bros. Movie) (Step into Reading)' src=\"https://im1.book.com.tw/image/getImage?i=https://www.books.com.tw/img/F01/968/15/F019681552.jpg&v=6405e60dk&w=180&h=180\"  ></a>\n",
            "<p>超級瑪利歐兄弟讀本（改編自電影，4-8歲適讀）Mario’s Big Adventure (Nintendo and Illumination present The Super Mario Bros. Movie) (Step into Reading)</p>\n",
            "</li>\n",
            "<li>\n",
            "<a href=\"https://www.books.com.tw/products/F019681551?loc=P_0024_002\">\n",
            "<img alt='超級瑪利歐兄弟電影官方故事書 Nintendo and Illumination present The Super Mario Bros. Movie Official Storybook' src=\"https://im2.book.com.tw/image/getImage?i=https://www.books.com.tw/img/F01/968/15/F019681551.jpg&v=6405e60dk&w=180&h=180\"  ></a>\n",
            "<p>超級瑪利歐兄弟電影官方故事書 Nintendo and Illumination present The Super Mario Bros. Movie Official Storybook</p>\n",
            "</li>\n",
            "<li>\n",
            "<a href=\"https://www.books.com.tw/products/F019220910?loc=P_0024_003\">\n",
            "<img alt='The Animal Orchestra Plays Tchaikovsky音樂按鍵書（柴可夫斯基）' src=\"https://im1.book.com.tw/image/getImage?i=https://www.books.com.tw/img/F01/922/09/F019220910.jpg&v=645c6141k&w=180&h=180\" srcset=\"https://im1.book.com.tw/image/getImage?i=https://www.books.com.tw/img/F01/922/09/F019220910.jpg&v=645c6141k&w=360&h=360 2x,https://im1.book.com.tw/image/getImage?i=https://www.books.com.tw/img/F01/922/09/F019220910.jpg&v=645c6141k&w=540&h=540 3x\" ></a>\n",
            "<p>The Animal Orchestra Plays Tchaikovsky音樂按鍵書（柴可夫斯基）</p>\n",
            "</li>\n",
            "<li>\n",
            "<a href=\"https://www.books.com.tw/products/F019882860?loc=P_0024_004\">\n",
            "<img alt='From the World of Percy Jackson: The Sun and the Star' src=\"https://im1.book.com.tw/image/getImage?i=https://www.books.com.tw/img/F01/988/28/F019882860.jpg&v=644257e4k&w=180&h=180\" srcset=\"https://im1.book.com.tw/image/getImage?i=https://www.books.com.tw/img/F01/988/28/F019882860.jpg&v=644257e4k&w=360&h=360 2x,https://im1.book.com.tw/image/getImage?i=https://www.books.com.tw/img/F01/988/28/F019882860.jpg&v=644257e4k&w=540&h=540 3x\" ></a>\n",
            "<p>From the World of Percy Jackson: The Sun and the Star</p>\n",
            "</li>\n",
            "</ul>\n",
            "</div><div class=\"type03_m002 clearfix\" style=\"display:none;\" >\n",
            "<ul class=\"tab-content\" data-shownum=\"4\">\n",
            "<li>\n",
            "<a href=\"https://www.books.com.tw/products/R030094256?loc=P_0024_001\">\n",
            "<img alt='WE PEOPLE Taiwan 6月號/2023 第184期' src=\"https://im1.book.com.tw/image/getImage?i=https://www.books.com.tw/img/R03/009/42/R030094256.jpg&v=64706e19k&w=180&h=180\"  ></a>\n",
            "<p>WE PEOPLE Taiwan 6月號/2023 第184期</p>\n",
            "</li>\n",
            "<li>\n",
            "<a href=\"https://www.books.com.tw/products/J030116127?loc=P_0024_002\">\n",
            "<img alt='TV LIFE 7月7日/2023(航空版)' src=\"https://im2.book.com.tw/image/getImage?i=https://www.books.com.tw/img/J03/011/61/J030116127.jpg&v=6475b414k&w=180&h=180\" srcset=\"https://im2.book.com.tw/image/getImage?i=https://www.books.com.tw/img/J03/011/61/J030116127.jpg&v=6475b414k&w=360&h=360 2x,https://im2.book.com.tw/image/getImage?i=https://www.books.com.tw/img/J03/011/61/J030116127.jpg&v=6475b414k&w=540&h=540 3x\" ></a>\n",
            "<p>TV LIFE 7月7日/2023(航空版)</p>\n",
            "</li>\n",
            "<li>\n",
            "<a href=\"https://www.books.com.tw/products/F030138486?loc=P_0024_003\">\n",
            "<img alt='HELLO！ 周刊 5月1日/2023' src=\"https://im1.book.com.tw/image/getImage?i=https://www.books.com.tw/img/F03/013/84/F030138486.jpg&v=6474709dk&w=180&h=180\" srcset=\"https://im1.book.com.tw/image/getImage?i=https://www.books.com.tw/img/F03/013/84/F030138486.jpg&v=6474709dk&w=360&h=360 2x,https://im1.book.com.tw/image/getImage?i=https://www.books.com.tw/img/F03/013/84/F030138486.jpg&v=6474709dk&w=540&h=540 3x\" ></a>\n",
            "<p>HELLO！ 周刊 5月1日/2023</p>\n",
            "</li>\n",
            "<li>\n",
            "<a href=\"https://www.books.com.tw/products/H030012626?loc=P_0024_004\">\n",
            "<img alt='1st Look KOREA (韓文版)' src=\"https://im2.book.com.tw/image/getImage?i=https://addons.books.com.tw/G/prod/comingsoon_sq.jpg&v=50617f0ak&w=180&h=180\"  ></a>\n",
            "<p>1st Look KOREA (韓文版)</p>\n",
            "</li>\n",
            "</ul>\n",
            "</div><div class=\"type03_m002 clearfix\" style=\"display:none;\" >\n",
            "<ul class=\"tab-content\" data-shownum=\"4\">\n",
            "<li>\n",
            "<a href=\"https://www.books.com.tw/products/0020232054?loc=P_0024_001\">\n",
            "<img alt='V.A. / 灌籃高手THE FIRST SLAM DUNK【電影原聲帶】環球官方進口' src=\"https://im1.book.com.tw/image/getImage?i=https://www.books.com.tw/img/002/023/20/0020232054.jpg&v=64521b8fk&w=180&h=180\" srcset=\"https://im1.book.com.tw/image/getImage?i=https://www.books.com.tw/img/002/023/20/0020232054.jpg&v=64521b8fk&w=360&h=360 2x,https://im1.book.com.tw/image/getImage?i=https://www.books.com.tw/img/002/023/20/0020232054.jpg&v=64521b8fk&w=540&h=540 3x\" ></a>\n",
            "<p>V.A. / 灌籃高手THE FIRST SLAM DUNK【電影原聲帶】環球官方進口</p>\n",
            "</li>\n",
            "<li>\n",
            "<a href=\"https://www.books.com.tw/products/D020079928?loc=P_0024_002\">\n",
            "<img alt='幻影 (藍光BD)' src=\"https://im1.book.com.tw/image/getImage?i=https://www.books.com.tw/img/D02/007/99/D020079928.jpg&v=6441fe50k&w=180&h=180\" srcset=\"https://im1.book.com.tw/image/getImage?i=https://www.books.com.tw/img/D02/007/99/D020079928.jpg&v=6441fe50k&w=360&h=360 2x,https://im1.book.com.tw/image/getImage?i=https://www.books.com.tw/img/D02/007/99/D020079928.jpg&v=6441fe50k&w=540&h=540 3x\" ></a>\n",
            "<p>幻影 (藍光BD)</p>\n",
            "</li>\n",
            "</ul>\n",
            "</div><div class=\"type03_m002 clearfix\" style=\"display:none;\" >\n",
            "<ul class=\"tab-content\" data-shownum=\"4\">\n",
            "<li>\n",
            "<a href=\"https://www.books.com.tw/products/N001540123?loc=P_0024_001\">\n",
            "<img alt='【微熱山丘】山丘芭娜娜 - 8片裝' src=\"https://im2.book.com.tw/image/getImage?i=https://www.books.com.tw/img/N00/154/01/N001540123.jpg&v=63fefc28k&w=180&h=180\"  ></a>\n",
            "<p>【微熱山丘】山丘芭娜娜 - 8片裝</p>\n",
            "</li>\n",
            "<li>\n",
            "<a href=\"https://www.books.com.tw/products/N000967916?loc=P_0024_002\">\n",
            "<img alt='【微熱山丘】 鳳梨酥-10個裝' src=\"https://im1.book.com.tw/image/getImage?i=https://www.books.com.tw/img/N00/096/79/N000967916.jpg&v=63e9f471k&w=180&h=180\" srcset=\"https://im1.book.com.tw/image/getImage?i=https://www.books.com.tw/img/N00/096/79/N000967916.jpg&v=63e9f471k&w=360&h=360 2x,https://im1.book.com.tw/image/getImage?i=https://www.books.com.tw/img/N00/096/79/N000967916.jpg&v=63e9f471k&w=540&h=540 3x\" ></a>\n",
            "<p>【微熱山丘】 鳳梨酥-10個裝</p>\n",
            "</li>\n",
            "<li>\n",
            "<a href=\"https://www.books.com.tw/products/N001566530?loc=P_0024_003\">\n",
            "<img alt='【青鳥旅行】2023端午-銀絲蔓夜綜合真巧蛋捲禮盒16入 綜合真巧' src=\"https://im1.book.com.tw/image/getImage?i=https://www.books.com.tw/img/N00/156/65/N001566530.jpg&v=6464905ck&w=180&h=180\" srcset=\"https://im1.book.com.tw/image/getImage?i=https://www.books.com.tw/img/N00/156/65/N001566530.jpg&v=6464905ck&w=360&h=360 2x,https://im1.book.com.tw/image/getImage?i=https://www.books.com.tw/img/N00/156/65/N001566530.jpg&v=6464905ck&w=540&h=540 3x\" ></a>\n",
            "<p>【青鳥旅行】2023端午-銀絲蔓夜綜合真巧蛋捲禮盒16入 綜合真巧</p>\n",
            "</li>\n",
            "<li>\n",
            "<a href=\"https://www.books.com.tw/products/N001560146?loc=P_0024_004\">\n",
            "<img alt='《日本栗山》5種月亮米果178.4g' src=\"https://im1.book.com.tw/image/getImage?i=https://www.books.com.tw/img/N00/156/01/N001560146.jpg&v=6459fe35k&w=180&h=180\" srcset=\"https://im1.book.com.tw/image/getImage?i=https://www.books.com.tw/img/N00/156/01/N001560146.jpg&v=6459fe35k&w=360&h=360 2x,https://im1.book.com.tw/image/getImage?i=https://www.books.com.tw/img/N00/156/01/N001560146.jpg&v=6459fe35k&w=540&h=540 3x\" ></a>\n",
            "<p>《日本栗山》5種月亮米果178.4g</p>\n",
            "</li>\n",
            "</ul>\n",
            "</div><div class=\"type03_m002 clearfix\" style=\"display:none;\" >\n",
            "<ul class=\"tab-content\" data-shownum=\"4\">\n",
            "<li>\n",
            "<a href=\"https://www.books.com.tw/products/N001555897?loc=P_0024_001\">\n",
            "<img alt='【KING JIM】精選色 TEFRENU 360° 活頁線圈筆記本 B5  粉紅色' src=\"https://im2.book.com.tw/image/getImage?i=https://www.books.com.tw/img/N00/155/58/N001555897.jpg&v=64490160k&w=180&h=180\" srcset=\"https://im2.book.com.tw/image/getImage?i=https://www.books.com.tw/img/N00/155/58/N001555897.jpg&v=64490160k&w=360&h=360 2x,https://im2.book.com.tw/image/getImage?i=https://www.books.com.tw/img/N00/155/58/N001555897.jpg&v=64490160k&w=540&h=540 3x\" ></a>\n",
            "<p>【KING JIM】精選色 TEFRENU 360° 活頁線圈筆記本 B5  粉紅色</p>\n",
            "</li>\n",
            "<li>\n",
            "<a href=\"https://www.books.com.tw/products/N001555898?loc=P_0024_002\">\n",
            "<img alt='【KING JIM】精選色 TEFRENU 360° 活頁線圈筆記本 B5  黃色' src=\"https://im1.book.com.tw/image/getImage?i=https://www.books.com.tw/img/N00/155/58/N001555898.jpg&v=64490160k&w=180&h=180\" srcset=\"https://im1.book.com.tw/image/getImage?i=https://www.books.com.tw/img/N00/155/58/N001555898.jpg&v=64490160k&w=360&h=360 2x,https://im1.book.com.tw/image/getImage?i=https://www.books.com.tw/img/N00/155/58/N001555898.jpg&v=64490160k&w=540&h=540 3x\" ></a>\n",
            "<p>【KING JIM】精選色 TEFRENU 360° 活頁線圈筆記本 B5  黃色</p>\n",
            "</li>\n",
            "<li>\n",
            "<a href=\"https://www.books.com.tw/products/N001555899?loc=P_0024_003\">\n",
            "<img alt='【KING JIM】精選色 TEFRENU 360° 活頁線圈筆記本 B5  橄欖綠' src=\"https://im2.book.com.tw/image/getImage?i=https://www.books.com.tw/img/N00/155/58/N001555899.jpg&v=64490161k&w=180&h=180\" srcset=\"https://im2.book.com.tw/image/getImage?i=https://www.books.com.tw/img/N00/155/58/N001555899.jpg&v=64490161k&w=360&h=360 2x,https://im2.book.com.tw/image/getImage?i=https://www.books.com.tw/img/N00/155/58/N001555899.jpg&v=64490161k&w=540&h=540 3x\" ></a>\n",
            "<p>【KING JIM】精選色 TEFRENU 360° 活頁線圈筆記本 B5  橄欖綠</p>\n",
            "</li>\n",
            "<li>\n",
            "<a href=\"https://www.books.com.tw/products/N001555900?loc=P_0024_004\">\n",
            "<img alt='【KING JIM】精選色 TEFRENU 360° 活頁線圈筆記本 B5  淺藍色' src=\"https://im1.book.com.tw/image/getImage?i=https://www.books.com.tw/img/N00/155/59/N001555900.jpg&v=64490161k&w=180&h=180\" srcset=\"https://im1.book.com.tw/image/getImage?i=https://www.books.com.tw/img/N00/155/59/N001555900.jpg&v=64490161k&w=360&h=360 2x,https://im1.book.com.tw/image/getImage?i=https://www.books.com.tw/img/N00/155/59/N001555900.jpg&v=64490161k&w=540&h=540 3x\" ></a>\n",
            "<p>【KING JIM】精選色 TEFRENU 360° 活頁線圈筆記本 B5  淺藍色</p>\n",
            "</li>\n",
            "</ul>\n",
            "</div></div><script type=\"text/javascript\">\n",
            "$(document).ready(function(){\r\n",
            "var M201101_0_getOverseasNewProd_P00a500050024 = new change_li_tab(\"M201101_0_getOverseasNewProd_P00a500050024\",false);\r\n",
            "});\r\n",
            "</script>\n",
            "<div class=\"mod type01_m026 clearfix\" id=\"M201101_0_getOverseasNewProd_P00a500050022\">\n",
            "<h3>新品上市                                            <span  >服飾包包</span>\n",
            "<span  style=\"display:none;\"  >美妝</span>\n",
            "<span  style=\"display:none;\"  >保健</span>\n",
            "<span  style=\"display:none;\"  >家居生活</span>\n",
            "<span  style=\"display:none;\"  >餐廚生活</span>\n",
            "<span  style=\"display:none;\"  >3C家電</span>\n",
            "<span  style=\"display:none;\"  >休閒生活</span>\n",
            "<span  style=\"display:none;\"  >婦幼生活</span>\n",
            "</h3>\n",
            "<div class=\"type03_tabs_b\">\n",
            "<ul class=\"tabs\">\n",
            "<li  class=\"here\"  >服飾包包</li>\n",
            "<li  >美妝</li>\n",
            "<li  >保健</li>\n",
            "<li  >家居生活</li>\n",
            "<li  >餐廚生活</li>\n",
            "<li  >3C家電</li>\n",
            "<li  >休閒生活</li>\n",
            "<li  >婦幼生活</li>\n",
            "</ul>\n",
            "</div><div class=\"type03_m002 clearfix\"  >\n",
            "<ul class=\"tab-content\" data-shownum=\"4\">\n",
            "<li>\n",
            "<a href=\"https://www.books.com.tw/products/N001573198?loc=P_0022_001\">\n",
            "<img alt='【初色】冰絲純色顯瘦V領燙鑽無袖吊帶針織背心上衣-共3色-67525(F可選) F 杏色' src=\"https://im1.book.com.tw/image/getImage?i=https://www.books.com.tw/img/N00/157/31/N001573198.jpg&v=64730cd4k&w=180&h=180\" srcset=\"https://im1.book.com.tw/image/getImage?i=https://www.books.com.tw/img/N00/157/31/N001573198.jpg&v=64730cd4k&w=360&h=360 2x,https://im1.book.com.tw/image/getImage?i=https://www.books.com.tw/img/N00/157/31/N001573198.jpg&v=64730cd4k&w=540&h=540 3x\" ></a>\n",
            "<p>【初色】冰絲純色顯瘦V領燙鑽無袖吊帶針織背心上衣-共3色-67525(F可選) F 杏色</p>\n",
            "</li>\n",
            "<li>\n",
            "<a href=\"https://www.books.com.tw/products/N001573199?loc=P_0022_002\">\n",
            "<img alt='【初色】冰絲純色顯瘦V領燙鑽無袖吊帶針織背心上衣-共3色-67525(F可選) F 白色' src=\"https://im2.book.com.tw/image/getImage?i=https://www.books.com.tw/img/N00/157/31/N001573199.jpg&v=64730cd4k&w=180&h=180\" srcset=\"https://im2.book.com.tw/image/getImage?i=https://www.books.com.tw/img/N00/157/31/N001573199.jpg&v=64730cd4k&w=360&h=360 2x,https://im2.book.com.tw/image/getImage?i=https://www.books.com.tw/img/N00/157/31/N001573199.jpg&v=64730cd4k&w=540&h=540 3x\" ></a>\n",
            "<p>【初色】冰絲純色顯瘦V領燙鑽無袖吊帶針織背心上衣-共3色-67525(F可選) F 白色</p>\n",
            "</li>\n",
            "<li>\n",
            "<a href=\"https://www.books.com.tw/products/N001566802?loc=P_0022_003\">\n",
            "<img alt='CHENSON三主袋設計 外出最愛中型尺寸後背包 黑色 (CG84012-3)' src=\"https://im1.book.com.tw/image/getImage?i=https://www.books.com.tw/img/N00/156/68/N001566802.jpg&v=64759782k&w=180&h=180\" srcset=\"https://im1.book.com.tw/image/getImage?i=https://www.books.com.tw/img/N00/156/68/N001566802.jpg&v=64759782k&w=360&h=360 2x,https://im1.book.com.tw/image/getImage?i=https://www.books.com.tw/img/N00/156/68/N001566802.jpg&v=64759782k&w=540&h=540 3x\" ></a>\n",
            "<p>CHENSON三主袋設計 外出最愛中型尺寸後背包 黑色 (CG84012-3)</p>\n",
            "</li>\n",
            "<li>\n",
            "<a href=\"https://www.books.com.tw/products/N001566804?loc=P_0022_004\">\n",
            "<img alt='CHENSON三主袋設計 外出最愛中型尺寸後背包 黃色 (CG84012-L)' src=\"https://im1.book.com.tw/image/getImage?i=https://www.books.com.tw/img/N00/156/68/N001566804.jpg&v=64759568k&w=180&h=180\" srcset=\"https://im1.book.com.tw/image/getImage?i=https://www.books.com.tw/img/N00/156/68/N001566804.jpg&v=64759568k&w=360&h=360 2x,https://im1.book.com.tw/image/getImage?i=https://www.books.com.tw/img/N00/156/68/N001566804.jpg&v=64759568k&w=540&h=540 3x\" ></a>\n",
            "<p>CHENSON三主袋設計 外出最愛中型尺寸後背包 黃色 (CG84012-L)</p>\n",
            "</li>\n",
            "</ul>\n",
            "</div><div class=\"type03_m002 clearfix\" style=\"display:none;\" >\n",
            "<ul class=\"tab-content\" data-shownum=\"4\">\n",
            "<li>\n",
            "<a href=\"https://www.books.com.tw/products/N001427057?loc=P_0022_001\">\n",
            "<img alt='【理膚寶水】全護極致抗油光防曬亮白乳UVA PRO 30ml*2 超值特惠組(均勻膚色)' src=\"https://im2.book.com.tw/image/getImage?i=https://www.books.com.tw/img/N00/142/70/N001427057.jpg&v=646a4d84k&w=180&h=180\" srcset=\"https://im2.book.com.tw/image/getImage?i=https://www.books.com.tw/img/N00/142/70/N001427057.jpg&v=646a4d84k&w=360&h=360 2x,https://im2.book.com.tw/image/getImage?i=https://www.books.com.tw/img/N00/142/70/N001427057.jpg&v=646a4d84k&w=540&h=540 3x\" ></a>\n",
            "<p>【理膚寶水】全護極致抗油光防曬亮白乳UVA PRO 30ml*2 超值特惠組(均勻膚色)</p>\n",
            "</li>\n",
            "<li>\n",
            "<a href=\"https://www.books.com.tw/products/N001188668?loc=P_0022_002\">\n",
            "<img alt='【理膚寶水】全護清透亮顏妝前防曬隔離乳UVA PRO 30ml 雙入獨家限定組(瑰蜜霜) 有效期限至 2023/12/1' src=\"https://im1.book.com.tw/image/getImage?i=https://www.books.com.tw/img/N00/118/86/N001188668.jpg&v=646a4c1ck&w=180&h=180\" srcset=\"https://im1.book.com.tw/image/getImage?i=https://www.books.com.tw/img/N00/118/86/N001188668.jpg&v=646a4c1ck&w=360&h=360 2x,https://im1.book.com.tw/image/getImage?i=https://www.books.com.tw/img/N00/118/86/N001188668.jpg&v=646a4c1ck&w=540&h=540 3x\" ></a>\n",
            "<p>【理膚寶水】全護清透亮顏妝前防曬隔離乳UVA PRO 30ml 雙入獨家限定組(瑰蜜霜) 有效期限至 2023/12/1</p>\n",
            "</li>\n",
            "<li>\n",
            "<a href=\"https://www.books.com.tw/products/N001407680?loc=P_0022_003\">\n",
            "<img alt='【理膚寶水】B5彈潤修復精華30ml*2 買60ml送30ml(彈潤保濕)' src=\"https://im1.book.com.tw/image/getImage?i=https://www.books.com.tw/img/N00/140/76/N001407680.jpg&v=646a4d83k&w=180&h=180\" srcset=\"https://im1.book.com.tw/image/getImage?i=https://www.books.com.tw/img/N00/140/76/N001407680.jpg&v=646a4d83k&w=360&h=360 2x,https://im1.book.com.tw/image/getImage?i=https://www.books.com.tw/img/N00/140/76/N001407680.jpg&v=646a4d83k&w=540&h=540 3x\" ></a>\n",
            "<p>【理膚寶水】B5彈潤修復精華30ml*2 買60ml送30ml(彈潤保濕)</p>\n",
            "</li>\n",
            "<li>\n",
            "<a href=\"https://www.books.com.tw/products/N001557071?loc=P_0022_004\">\n",
            "<img alt='ACCA KAPPA 耐熱密齒尖尾髮梳' src=\"https://im2.book.com.tw/image/getImage?i=https://www.books.com.tw/img/N00/155/70/N001557071.jpg&v=6450d32ck&w=180&h=180\" srcset=\"https://im2.book.com.tw/image/getImage?i=https://www.books.com.tw/img/N00/155/70/N001557071.jpg&v=6450d32ck&w=360&h=360 2x,https://im2.book.com.tw/image/getImage?i=https://www.books.com.tw/img/N00/155/70/N001557071.jpg&v=6450d32ck&w=540&h=540 3x\" ></a>\n",
            "<p>ACCA KAPPA 耐熱密齒尖尾髮梳</p>\n",
            "</li>\n",
            "</ul>\n",
            "</div><div class=\"type03_m002 clearfix\" style=\"display:none;\" >\n",
            "<ul class=\"tab-content\" data-shownum=\"4\">\n",
            "<li>\n",
            "<a href=\"https://www.books.com.tw/products/N001567733?loc=P_0022_001\">\n",
            "<img alt='華淨醫用口罩-貓的多重宇宙款-成人用 (10片/盒)' src=\"https://im2.book.com.tw/image/getImage?i=https://www.books.com.tw/img/N00/156/77/N001567733.jpg&v=64673e64k&w=180&h=180\" srcset=\"https://im2.book.com.tw/image/getImage?i=https://www.books.com.tw/img/N00/156/77/N001567733.jpg&v=64673e64k&w=360&h=360 2x,https://im2.book.com.tw/image/getImage?i=https://www.books.com.tw/img/N00/156/77/N001567733.jpg&v=64673e64k&w=540&h=540 3x\" ></a>\n",
            "<p>華淨醫用口罩-貓的多重宇宙款-成人用 (10片/盒)</p>\n",
            "</li>\n",
            "<li>\n",
            "<a href=\"https://www.books.com.tw/products/N001567734?loc=P_0022_002\">\n",
            "<img alt='華淨醫用口罩-貓的夏日午後款-成人用 (10片/盒)' src=\"https://im1.book.com.tw/image/getImage?i=https://www.books.com.tw/img/N00/156/77/N001567734.jpg&v=64673e75k&w=180&h=180\" srcset=\"https://im1.book.com.tw/image/getImage?i=https://www.books.com.tw/img/N00/156/77/N001567734.jpg&v=64673e75k&w=360&h=360 2x,https://im1.book.com.tw/image/getImage?i=https://www.books.com.tw/img/N00/156/77/N001567734.jpg&v=64673e75k&w=540&h=540 3x\" ></a>\n",
            "<p>華淨醫用口罩-貓的夏日午後款-成人用 (10片/盒)</p>\n",
            "</li>\n",
            "<li>\n",
            "<a href=\"https://www.books.com.tw/products/N001567735?loc=P_0022_003\">\n",
            "<img alt='華淨醫用口罩-慵懶貓咪軟爛款-成人用 (10片/盒)' src=\"https://im2.book.com.tw/image/getImage?i=https://www.books.com.tw/img/N00/156/77/N001567735.jpg&v=64673e75k&w=180&h=180\" srcset=\"https://im2.book.com.tw/image/getImage?i=https://www.books.com.tw/img/N00/156/77/N001567735.jpg&v=64673e75k&w=360&h=360 2x,https://im2.book.com.tw/image/getImage?i=https://www.books.com.tw/img/N00/156/77/N001567735.jpg&v=64673e75k&w=540&h=540 3x\" ></a>\n",
            "<p>華淨醫用口罩-慵懶貓咪軟爛款-成人用 (10片/盒)</p>\n",
            "</li>\n",
            "<li>\n",
            "<a href=\"https://www.books.com.tw/products/N001567736?loc=P_0022_004\">\n",
            "<img alt='華淨醫用口罩-慵懶貓咪休閒款-成人用 (10片/盒)' src=\"https://im1.book.com.tw/image/getImage?i=https://www.books.com.tw/img/N00/156/77/N001567736.jpg&v=64673e75k&w=180&h=180\" srcset=\"https://im1.book.com.tw/image/getImage?i=https://www.books.com.tw/img/N00/156/77/N001567736.jpg&v=64673e75k&w=360&h=360 2x,https://im1.book.com.tw/image/getImage?i=https://www.books.com.tw/img/N00/156/77/N001567736.jpg&v=64673e75k&w=540&h=540 3x\" ></a>\n",
            "<p>華淨醫用口罩-慵懶貓咪休閒款-成人用 (10片/盒)</p>\n",
            "</li>\n",
            "</ul>\n",
            "</div><div class=\"type03_m002 clearfix\" style=\"display:none;\" >\n",
            "<ul class=\"tab-content\" data-shownum=\"4\">\n",
            "<li>\n",
            "<a href=\"https://www.books.com.tw/products/N001571823?loc=P_0022_001\">\n",
            "<img alt='【美好家 Mehome】棉被收納袋/衣物手提袋 咖啡小熊' src=\"https://im2.book.com.tw/image/getImage?i=https://www.books.com.tw/img/N00/157/18/N001571823.jpg&v=6470098fk&w=180&h=180\" srcset=\"https://im2.book.com.tw/image/getImage?i=https://www.books.com.tw/img/N00/157/18/N001571823.jpg&v=6470098fk&w=360&h=360 2x,https://im2.book.com.tw/image/getImage?i=https://www.books.com.tw/img/N00/157/18/N001571823.jpg&v=6470098fk&w=540&h=540 3x\" ></a>\n",
            "<p>【美好家 Mehome】棉被收納袋/衣物手提袋 咖啡小熊</p>\n",
            "</li>\n",
            "<li>\n",
            "<a href=\"https://www.books.com.tw/products/N001571824?loc=P_0022_002\">\n",
            "<img alt='【美好家 Mehome】棉被收納袋/衣物手提袋 粉紅兔兔' src=\"https://im1.book.com.tw/image/getImage?i=https://www.books.com.tw/img/N00/157/18/N001571824.jpg&v=6470098fk&w=180&h=180\" srcset=\"https://im1.book.com.tw/image/getImage?i=https://www.books.com.tw/img/N00/157/18/N001571824.jpg&v=6470098fk&w=360&h=360 2x,https://im1.book.com.tw/image/getImage?i=https://www.books.com.tw/img/N00/157/18/N001571824.jpg&v=6470098fk&w=540&h=540 3x\" ></a>\n",
            "<p>【美好家 Mehome】棉被收納袋/衣物手提袋 粉紅兔兔</p>\n",
            "</li>\n",
            "<li>\n",
            "<a href=\"https://www.books.com.tw/products/N001566503?loc=P_0022_003\">\n",
            "<img alt='日式多用途包包收納掛勾架' src=\"https://im2.book.com.tw/image/getImage?i=https://www.books.com.tw/img/N00/156/65/N001566503.jpg&v=646480bck&w=180&h=180\" srcset=\"https://im2.book.com.tw/image/getImage?i=https://www.books.com.tw/img/N00/156/65/N001566503.jpg&v=646480bck&w=360&h=360 2x,https://im2.book.com.tw/image/getImage?i=https://www.books.com.tw/img/N00/156/65/N001566503.jpg&v=646480bck&w=540&h=540 3x\" ></a>\n",
            "<p>日式多用途包包收納掛勾架</p>\n",
            "</li>\n",
            "<li>\n",
            "<a href=\"https://www.books.com.tw/products/N001566513?loc=P_0022_004\">\n",
            "<img alt='萌趣印花棉被收納袋 元氣獅子' src=\"https://im2.book.com.tw/image/getImage?i=https://www.books.com.tw/img/N00/156/65/N001566513.jpg&v=646484fbk&w=180&h=180\" srcset=\"https://im2.book.com.tw/image/getImage?i=https://www.books.com.tw/img/N00/156/65/N001566513.jpg&v=646484fbk&w=360&h=360 2x,https://im2.book.com.tw/image/getImage?i=https://www.books.com.tw/img/N00/156/65/N001566513.jpg&v=646484fbk&w=540&h=540 3x\" ></a>\n",
            "<p>萌趣印花棉被收納袋 元氣獅子</p>\n",
            "</li>\n",
            "</ul>\n",
            "</div><div class=\"type03_m002 clearfix\" style=\"display:none;\" >\n",
            "<ul class=\"tab-content\" data-shownum=\"4\">\n",
            "<li>\n",
            "<a href=\"https://www.books.com.tw/products/N001566694?loc=P_0022_001\">\n",
            "<img alt='MEPAL / Cirqula 圓形密封保鮮盒350ml- 薰衣草紫' src=\"https://im1.book.com.tw/image/getImage?i=https://www.books.com.tw/img/N00/156/66/N001566694.jpg&v=646587afk&w=180&h=180\" srcset=\"https://im1.book.com.tw/image/getImage?i=https://www.books.com.tw/img/N00/156/66/N001566694.jpg&v=646587afk&w=360&h=360 2x,https://im1.book.com.tw/image/getImage?i=https://www.books.com.tw/img/N00/156/66/N001566694.jpg&v=646587afk&w=540&h=540 3x\" ></a>\n",
            "<p>MEPAL / Cirqula 圓形密封保鮮盒350ml- 薰衣草紫</p>\n",
            "</li>\n",
            "<li>\n",
            "<a href=\"https://www.books.com.tw/products/N001566695?loc=P_0022_002\">\n",
            "<img alt='MEPAL / Cirqula 圓形密封保鮮盒350ml- 鼠尾草綠' src=\"https://im2.book.com.tw/image/getImage?i=https://www.books.com.tw/img/N00/156/66/N001566695.jpg&v=646587afk&w=180&h=180\" srcset=\"https://im2.book.com.tw/image/getImage?i=https://www.books.com.tw/img/N00/156/66/N001566695.jpg&v=646587afk&w=360&h=360 2x,https://im2.book.com.tw/image/getImage?i=https://www.books.com.tw/img/N00/156/66/N001566695.jpg&v=646587afk&w=540&h=540 3x\" ></a>\n",
            "<p>MEPAL / Cirqula 圓形密封保鮮盒350ml- 鼠尾草綠</p>\n",
            "</li>\n",
            "<li>\n",
            "<a href=\"https://www.books.com.tw/products/N001566716?loc=P_0022_003\">\n",
            "<img alt='MEPAL / Cirqula 圓形密封保鮮盒750ml- 薰衣草紫' src=\"https://im1.book.com.tw/image/getImage?i=https://www.books.com.tw/img/N00/156/67/N001566716.jpg&v=64659025k&w=180&h=180\" srcset=\"https://im1.book.com.tw/image/getImage?i=https://www.books.com.tw/img/N00/156/67/N001566716.jpg&v=64659025k&w=360&h=360 2x,https://im1.book.com.tw/image/getImage?i=https://www.books.com.tw/img/N00/156/67/N001566716.jpg&v=64659025k&w=540&h=540 3x\" ></a>\n",
            "<p>MEPAL / Cirqula 圓形密封保鮮盒750ml- 薰衣草紫</p>\n",
            "</li>\n",
            "<li>\n",
            "<a href=\"https://www.books.com.tw/products/N001566717?loc=P_0022_004\">\n",
            "<img alt='MEPAL / Cirqula 圓形密封保鮮盒750ml- 鼠尾草綠' src=\"https://im2.book.com.tw/image/getImage?i=https://www.books.com.tw/img/N00/156/67/N001566717.jpg&v=64659025k&w=180&h=180\" srcset=\"https://im2.book.com.tw/image/getImage?i=https://www.books.com.tw/img/N00/156/67/N001566717.jpg&v=64659025k&w=360&h=360 2x,https://im2.book.com.tw/image/getImage?i=https://www.books.com.tw/img/N00/156/67/N001566717.jpg&v=64659025k&w=540&h=540 3x\" ></a>\n",
            "<p>MEPAL / Cirqula 圓形密封保鮮盒750ml- 鼠尾草綠</p>\n",
            "</li>\n",
            "</ul>\n",
            "</div><div class=\"type03_m002 clearfix\" style=\"display:none;\" >\n",
            "<ul class=\"tab-content\" data-shownum=\"4\">\n",
            "<li>\n",
            "<a href=\"https://www.books.com.tw/products/N000930552?loc=P_0022_001\">\n",
            "<img alt='【任天堂 Nintendo】 amiibo公仔 烏賊(漆彈大作戰系列)' src=\"https://im1.book.com.tw/image/getImage?i=https://www.books.com.tw/img/N00/093/05/N000930552.jpg&v=5af3bd6fk&w=180&h=180\" srcset=\"https://im1.book.com.tw/image/getImage?i=https://www.books.com.tw/img/N00/093/05/N000930552.jpg&v=5af3bd6fk&w=360&h=360 2x,https://im1.book.com.tw/image/getImage?i=https://www.books.com.tw/img/N00/093/05/N000930552.jpg&v=5af3bd6fk&w=540&h=540 3x\" ></a>\n",
            "<p>【任天堂 Nintendo】 amiibo公仔 烏賊(漆彈大作戰系列)</p>\n",
            "</li>\n",
            "<li>\n",
            "<a href=\"https://www.books.com.tw/products/N000930554?loc=P_0022_002\">\n",
            "<img alt='【任天堂 Nintendo】 amiibo公仔 亞織(漆彈大作戰系列)' src=\"https://im1.book.com.tw/image/getImage?i=https://www.books.com.tw/img/N00/093/05/N000930554.jpg&v=5af3bd6fk&w=180&h=180\" srcset=\"https://im1.book.com.tw/image/getImage?i=https://www.books.com.tw/img/N00/093/05/N000930554.jpg&v=5af3bd6fk&w=360&h=360 2x,https://im1.book.com.tw/image/getImage?i=https://www.books.com.tw/img/N00/093/05/N000930554.jpg&v=5af3bd6fk&w=540&h=540 3x\" ></a>\n",
            "<p>【任天堂 Nintendo】 amiibo公仔 亞織(漆彈大作戰系列)</p>\n",
            "</li>\n",
            "<li>\n",
            "<a href=\"https://www.books.com.tw/products/N001564979?loc=P_0022_003\">\n",
            "<img alt='aibo 4開6插平壓式 PD20W快充 USB延長線(1.8米)  奶茶' src=\"https://im2.book.com.tw/image/getImage?i=https://www.books.com.tw/img/N00/156/49/N001564979.jpg&v=6462047ek&w=180&h=180\" srcset=\"https://im2.book.com.tw/image/getImage?i=https://www.books.com.tw/img/N00/156/49/N001564979.jpg&v=6462047ek&w=360&h=360 2x,https://im2.book.com.tw/image/getImage?i=https://www.books.com.tw/img/N00/156/49/N001564979.jpg&v=6462047ek&w=540&h=540 3x\" ></a>\n",
            "<p>aibo 4開6插平壓式 PD20W快充 USB延長線(1.8米)  奶茶</p>\n",
            "</li>\n",
            "<li>\n",
            "<a href=\"https://www.books.com.tw/products/N001564980?loc=P_0022_004\">\n",
            "<img alt='aibo 4開6插平壓式 PD20W快充 USB延長線(1.8米)  抹茶綠' src=\"https://im1.book.com.tw/image/getImage?i=https://www.books.com.tw/img/N00/156/49/N001564980.jpg&v=6464f90bk&w=180&h=180\" srcset=\"https://im1.book.com.tw/image/getImage?i=https://www.books.com.tw/img/N00/156/49/N001564980.jpg&v=6464f90bk&w=360&h=360 2x,https://im1.book.com.tw/image/getImage?i=https://www.books.com.tw/img/N00/156/49/N001564980.jpg&v=6464f90bk&w=540&h=540 3x\" ></a>\n",
            "<p>aibo 4開6插平壓式 PD20W快充 USB延長線(1.8米)  抹茶綠</p>\n",
            "</li>\n",
            "</ul>\n",
            "</div><div class=\"type03_m002 clearfix\" style=\"display:none;\" >\n",
            "<ul class=\"tab-content\" data-shownum=\"4\">\n",
            "<li>\n",
            "<a href=\"https://www.books.com.tw/products/N001570467?loc=P_0022_001\">\n",
            "<img alt='原紗冰絲防曬手套 抗UV觸控涼感手套 機車手套 水蜜黃(全指款/1雙)' src=\"https://im2.book.com.tw/image/getImage?i=https://www.books.com.tw/img/N00/157/04/N001570467.jpg&v=646c370bk&w=180&h=180\" srcset=\"https://im2.book.com.tw/image/getImage?i=https://www.books.com.tw/img/N00/157/04/N001570467.jpg&v=646c370bk&w=360&h=360 2x,https://im2.book.com.tw/image/getImage?i=https://www.books.com.tw/img/N00/157/04/N001570467.jpg&v=646c370bk&w=540&h=540 3x\" ></a>\n",
            "<p>原紗冰絲防曬手套 抗UV觸控涼感手套 機車手套 水蜜黃(全指款/1雙)</p>\n",
            "</li>\n",
            "<li>\n",
            "<a href=\"https://www.books.com.tw/products/N001570468?loc=P_0022_002\">\n",
            "<img alt='原紗冰絲防曬手套 抗UV觸控涼感手套 機車手套 暗夜黑(全指款/一雙)' src=\"https://im1.book.com.tw/image/getImage?i=https://www.books.com.tw/img/N00/157/04/N001570468.jpg&v=646c370bk&w=180&h=180\" srcset=\"https://im1.book.com.tw/image/getImage?i=https://www.books.com.tw/img/N00/157/04/N001570468.jpg&v=646c370bk&w=360&h=360 2x,https://im1.book.com.tw/image/getImage?i=https://www.books.com.tw/img/N00/157/04/N001570468.jpg&v=646c370bk&w=540&h=540 3x\" ></a>\n",
            "<p>原紗冰絲防曬手套 抗UV觸控涼感手套 機車手套 暗夜黑(全指款/一雙)</p>\n",
            "</li>\n",
            "<li>\n",
            "<a href=\"https://www.books.com.tw/products/N001565231?loc=P_0022_003\">\n",
            "<img alt='ELECOM ECLEAR按摩滾筒 (2WAY)-進階橘' src=\"https://im2.book.com.tw/image/getImage?i=https://www.books.com.tw/img/N00/156/52/N001565231.jpg&v=64633208k&w=180&h=180\" srcset=\"https://im2.book.com.tw/image/getImage?i=https://www.books.com.tw/img/N00/156/52/N001565231.jpg&v=64633208k&w=360&h=360 2x,https://im2.book.com.tw/image/getImage?i=https://www.books.com.tw/img/N00/156/52/N001565231.jpg&v=64633208k&w=540&h=540 3x\" ></a>\n",
            "<p>ELECOM ECLEAR按摩滾筒 (2WAY)-進階橘</p>\n",
            "</li>\n",
            "<li>\n",
            "<a href=\"https://www.books.com.tw/products/N001565232?loc=P_0022_004\">\n",
            "<img alt='ELECOM ECLEAR按摩滾筒 (2WAY)-初階水藍' src=\"https://im1.book.com.tw/image/getImage?i=https://www.books.com.tw/img/N00/156/52/N001565232.jpg&v=64633209k&w=180&h=180\" srcset=\"https://im1.book.com.tw/image/getImage?i=https://www.books.com.tw/img/N00/156/52/N001565232.jpg&v=64633209k&w=360&h=360 2x,https://im1.book.com.tw/image/getImage?i=https://www.books.com.tw/img/N00/156/52/N001565232.jpg&v=64633209k&w=540&h=540 3x\" ></a>\n",
            "<p>ELECOM ECLEAR按摩滾筒 (2WAY)-初階水藍</p>\n",
            "</li>\n",
            "</ul>\n",
            "</div><div class=\"type03_m002 clearfix\" style=\"display:none;\" >\n",
            "<ul class=\"tab-content\" data-shownum=\"4\">\n",
            "<li>\n",
            "<a href=\"https://www.books.com.tw/products/N001566163?loc=P_0022_001\">\n",
            "<img alt='【GoKids】航海王卡牌遊戲 補充包 謀略的王國 KINGDOMS OF INTRIGUE BOOSTER OP-04 (盒裝24入)' src=\"https://im2.book.com.tw/image/getImage?i=https://www.books.com.tw/img/N00/156/61/N001566163.jpg&v=64645313k&w=180&h=180\" srcset=\"https://im2.book.com.tw/image/getImage?i=https://www.books.com.tw/img/N00/156/61/N001566163.jpg&v=64645313k&w=360&h=360 2x,https://im2.book.com.tw/image/getImage?i=https://www.books.com.tw/img/N00/156/61/N001566163.jpg&v=64645313k&w=540&h=540 3x\" ></a>\n",
            "<p>【GoKids】航海王卡牌遊戲 補充包 謀略的王國 KINGDOMS OF INTRIGUE BOOSTER OP-04 (盒裝24入)</p>\n",
            "</li>\n",
            "<li>\n",
            "<a href=\"https://www.books.com.tw/products/N001567219?loc=P_0022_002\">\n",
            "<img alt='三麗鷗家族-紋身貼紙機' src=\"https://im2.book.com.tw/image/getImage?i=https://www.books.com.tw/img/N00/156/72/N001567219.jpg&v=6466e253k&w=180&h=180\" srcset=\"https://im2.book.com.tw/image/getImage?i=https://www.books.com.tw/img/N00/156/72/N001567219.jpg&v=6466e253k&w=360&h=360 2x,https://im2.book.com.tw/image/getImage?i=https://www.books.com.tw/img/N00/156/72/N001567219.jpg&v=6466e253k&w=540&h=540 3x\" ></a>\n",
            "<p>三麗鷗家族-紋身貼紙機</p>\n",
            "</li>\n",
            "<li>\n",
            "<a href=\"https://www.books.com.tw/products/N001567229?loc=P_0022_003\">\n",
            "<img alt='OXFORD 蠟筆小新-幼稚園校車' src=\"https://im2.book.com.tw/image/getImage?i=https://www.books.com.tw/img/N00/156/72/N001567229.jpg&v=6466e748k&w=180&h=180\" srcset=\"https://im2.book.com.tw/image/getImage?i=https://www.books.com.tw/img/N00/156/72/N001567229.jpg&v=6466e748k&w=360&h=360 2x,https://im2.book.com.tw/image/getImage?i=https://www.books.com.tw/img/N00/156/72/N001567229.jpg&v=6466e748k&w=540&h=540 3x\" ></a>\n",
            "<p>OXFORD 蠟筆小新-幼稚園校車</p>\n",
            "</li>\n",
            "<li>\n",
            "<a href=\"https://www.books.com.tw/products/N001567195?loc=P_0022_004\">\n",
            "<img alt='三麗鷗家族-徽章製作機' src=\"https://im2.book.com.tw/image/getImage?i=https://www.books.com.tw/img/N00/156/71/N001567195.jpg&v=6466d9cck&w=180&h=180\" srcset=\"https://im2.book.com.tw/image/getImage?i=https://www.books.com.tw/img/N00/156/71/N001567195.jpg&v=6466d9cck&w=360&h=360 2x,https://im2.book.com.tw/image/getImage?i=https://www.books.com.tw/img/N00/156/71/N001567195.jpg&v=6466d9cck&w=540&h=540 3x\" ></a>\n",
            "<p>三麗鷗家族-徽章製作機</p>\n",
            "</li>\n",
            "</ul>\n",
            "</div></div><script type=\"text/javascript\">\n",
            "$(document).ready(function(){\r\n",
            "var M201101_0_getOverseasNewProd_P00a500050022 = new change_li_tab(\"M201101_0_getOverseasNewProd_P00a500050022\",false);\r\n",
            "});\r\n",
            "</script>\n",
            "<div class=\"mod type01_m026 clearfix\" id=\"M201101_0_getRegionSaletop_P00a500050020\">\n",
            "<h3>海外暢銷榜                                            <span  >中文書</span>\n",
            "<span  style=\"display:none;\"  >簡體書</span>\n",
            "<span  style=\"display:none;\"  >雜誌</span>\n",
            "<span  style=\"display:none;\"  >影音</span>\n",
            "<span  style=\"display:none;\"  >設計文具</span>\n",
            "<span  style=\"display:none;\"  >服飾包包</span>\n",
            "<span  style=\"display:none;\"  >餐廚生活</span>\n",
            "<span  style=\"display:none;\"  >婦幼生活</span>\n",
            "<span class=\"moreinfo_r\"><q><a href=\"https://www.books.com.tw/web/sys_saletopovs/ovsus_home?loc=P_0020_more_001\">看更多</a></q></span>\n",
            "</h3>\n",
            "<div class=\"type03_tabs_b\">\n",
            "<ul class=\"tabs\">\n",
            "<li  class=\"here\"  >中文書</li>\n",
            "<li  >簡體書</li>\n",
            "<li  >雜誌</li>\n",
            "<li  >影音</li>\n",
            "<li  >設計文具</li>\n",
            "<li  >服飾包包</li>\n",
            "<li  >餐廚生活</li>\n",
            "<li  >婦幼生活</li>\n",
            "</ul>\n",
            "</div><div class=\"type03_m002 clearfix\"  >\n",
            "<ul class=\"tab-content\" data-shownum=\"4\">\n",
            "<li>\n",
            "<a href=\"https://www.books.com.tw/products/E050158639?loc=P_0020_001\">\n",
            "<img alt='呼吸，為了療癒：全新的呼吸科學與醫學，透過清醒的呼吸，徹底轉化身心 (電子書)' src=\"https://im2.book.com.tw/image/getImage?i=https://www.books.com.tw/img/E05/015/86/E050158639.jpg&v=6441eed4k&w=180&h=180\" srcset=\"https://im2.book.com.tw/image/getImage?i=https://www.books.com.tw/img/E05/015/86/E050158639.jpg&v=6441eed4k&w=360&h=360 2x,https://im2.book.com.tw/image/getImage?i=https://www.books.com.tw/img/E05/015/86/E050158639.jpg&v=6441eed4k&w=540&h=540 3x\" ></a>\n",
            "<p>呼吸，為了療癒：全新的呼吸科學與醫學，透過清醒的呼吸，徹底轉化身心 (電子書)</p>\n",
            "</li>\n",
            "<li>\n",
            "<a href=\"https://www.books.com.tw/products/0010955367?loc=P_0020_001\">\n",
            "<img alt='失敗者回憶錄(上/下不分售)' src=\"https://im2.book.com.tw/image/getImage?i=https://www.books.com.tw/img/001/095/53/0010955367.jpg&v=643e713bk&w=180&h=180\" srcset=\"https://im2.book.com.tw/image/getImage?i=https://www.books.com.tw/img/001/095/53/0010955367.jpg&v=643e713bk&w=360&h=360 2x,https://im2.book.com.tw/image/getImage?i=https://www.books.com.tw/img/001/095/53/0010955367.jpg&v=643e713bk&w=540&h=540 3x\" ></a>\n",
            "<p>失敗者回憶錄(上/下不分售)</p>\n",
            "</li>\n",
            "<li>\n",
            "<a href=\"https://www.books.com.tw/products/0010946355?loc=P_0020_001\">\n",
            "<img alt='紅色賭盤：令中共高層害怕，直擊現代中國金權交易背後的腐敗內幕' src=\"https://im2.book.com.tw/image/getImage?i=https://www.books.com.tw/img/001/094/63/0010946355.jpg&v=63ad6cb2k&w=180&h=180\" srcset=\"https://im2.book.com.tw/image/getImage?i=https://www.books.com.tw/img/001/094/63/0010946355.jpg&v=63ad6cb2k&w=360&h=360 2x,https://im2.book.com.tw/image/getImage?i=https://www.books.com.tw/img/001/094/63/0010946355.jpg&v=63ad6cb2k&w=540&h=540 3x\" ></a>\n",
            "<p>紅色賭盤：令中共高層害怕，直擊現代中國金權交易背後的腐敗內幕</p>\n",
            "</li>\n",
            "<li>\n",
            "<a href=\"https://www.books.com.tw/products/0010956140?loc=P_0020_001\">\n",
            "<img alt='老家人：范毅舜攝影文集' src=\"https://im1.book.com.tw/image/getImage?i=https://www.books.com.tw/img/001/095/61/0010956140.jpg&v=6448fdb4k&w=180&h=180\" srcset=\"https://im1.book.com.tw/image/getImage?i=https://www.books.com.tw/img/001/095/61/0010956140.jpg&v=6448fdb4k&w=360&h=360 2x,https://im1.book.com.tw/image/getImage?i=https://www.books.com.tw/img/001/095/61/0010956140.jpg&v=6448fdb4k&w=540&h=540 3x\" ></a>\n",
            "<p>老家人：范毅舜攝影文集</p>\n",
            "</li>\n",
            "</ul>\n",
            "</div><div class=\"type03_m002 clearfix\" style=\"display:none;\" >\n",
            "<ul class=\"tab-content\" data-shownum=\"4\">\n",
            "<li>\n",
            "<a href=\"https://www.books.com.tw/products/CN11726083?loc=P_0020_001\">\n",
            "<img alt='天官賜福 (壹)' src=\"https://im2.book.com.tw/image/getImage?i=https://www.books.com.tw/img/CN1/172/60/CN11726083.jpg&v=61baa4aak&w=180&h=180\" srcset=\"https://im2.book.com.tw/image/getImage?i=https://www.books.com.tw/img/CN1/172/60/CN11726083.jpg&v=61baa4aak&w=360&h=360 2x,https://im2.book.com.tw/image/getImage?i=https://www.books.com.tw/img/CN1/172/60/CN11726083.jpg&v=61baa4aak&w=540&h=540 3x\" ></a>\n",
            "<p>天官賜福 (壹)</p>\n",
            "</li>\n",
            "<li>\n",
            "<a href=\"https://www.books.com.tw/products/CN11722469?loc=P_0020_001\">\n",
            "<img alt='奶酪與蛆蟲：一個16世紀磨坊主的宇宙' src=\"https://im2.book.com.tw/image/getImage?i=https://www.books.com.tw/img/CN1/172/24/CN11722469.jpg&v=610212aek&w=180&h=180\" srcset=\"https://im2.book.com.tw/image/getImage?i=https://www.books.com.tw/img/CN1/172/24/CN11722469.jpg&v=610212aek&w=360&h=360 2x,https://im2.book.com.tw/image/getImage?i=https://www.books.com.tw/img/CN1/172/24/CN11722469.jpg&v=610212aek&w=540&h=540 3x\" ></a>\n",
            "<p>奶酪與蛆蟲：一個16世紀磨坊主的宇宙</p>\n",
            "</li>\n",
            "<li>\n",
            "<a href=\"https://www.books.com.tw/products/CN11871783?loc=P_0020_001\">\n",
            "<img alt='天官賜福（全三冊）' src=\"https://im2.book.com.tw/image/getImage?i=https://www.books.com.tw/img/CN1/187/17/CN11871783.jpg&v=646de73fk&w=180&h=180\" srcset=\"https://im2.book.com.tw/image/getImage?i=https://www.books.com.tw/img/CN1/187/17/CN11871783.jpg&v=646de73fk&w=360&h=360 2x,https://im2.book.com.tw/image/getImage?i=https://www.books.com.tw/img/CN1/187/17/CN11871783.jpg&v=646de73fk&w=540&h=540 3x\" ></a>\n",
            "<p>天官賜福（全三冊）</p>\n",
            "</li>\n",
            "<li>\n",
            "<a href=\"https://www.books.com.tw/products/CN11858291?loc=P_0020_001\">\n",
            "<img alt='躍動青春（6）' src=\"https://im2.book.com.tw/image/getImage?i=https://www.books.com.tw/img/CN1/185/82/CN11858291.jpg&v=64457b9bk&w=180&h=180\" srcset=\"https://im2.book.com.tw/image/getImage?i=https://www.books.com.tw/img/CN1/185/82/CN11858291.jpg&v=64457b9bk&w=360&h=360 2x,https://im2.book.com.tw/image/getImage?i=https://www.books.com.tw/img/CN1/185/82/CN11858291.jpg&v=64457b9bk&w=540&h=540 3x\" ></a>\n",
            "<p>躍動青春（6）</p>\n",
            "</li>\n",
            "</ul>\n",
            "</div><div class=\"type03_m002 clearfix\" style=\"display:none;\" >\n",
            "<ul class=\"tab-content\" data-shownum=\"4\">\n",
            "<li>\n",
            "<a href=\"https://www.books.com.tw/products/F030137596?loc=P_0020_001\">\n",
            "<img alt='Magazine B 第92期 %ARABICA' src=\"https://im1.book.com.tw/image/getImage?i=https://www.books.com.tw/img/F03/013/75/F030137596.jpg&v=640efb70k&w=180&h=180\" srcset=\"https://im1.book.com.tw/image/getImage?i=https://www.books.com.tw/img/F03/013/75/F030137596.jpg&v=640efb70k&w=360&h=360 2x,https://im1.book.com.tw/image/getImage?i=https://www.books.com.tw/img/F03/013/75/F030137596.jpg&v=640efb70k&w=540&h=540 3x\" ></a>\n",
            "<p>Magazine B 第92期 %ARABICA</p>\n",
            "</li>\n",
            "<li>\n",
            "<a href=\"https://www.books.com.tw/products/H030012603?loc=P_0020_001\">\n",
            "<img alt='Harper’s BAZAAR KOREA (韓文版) 2023.5 封面隨機出貨 (航空版)' src=\"https://im2.book.com.tw/image/getImage?i=https://addons.books.com.tw/G/prod/comingsoon_sq.jpg&v=50617f0ak&w=180&h=180\"  ></a>\n",
            "<p>Harper’s BAZAAR KOREA (韓文版) 2023.5 封面隨機出貨 (航空版)</p>\n",
            "</li>\n",
            "<li>\n",
            "<a href=\"https://www.books.com.tw/products/R030093393?loc=P_0020_001\">\n",
            "<img alt='JKF 5月號/2023 第69期' src=\"https://im2.book.com.tw/image/getImage?i=https://www.books.com.tw/img/R03/009/33/R030093393.jpg&v=644b840ak&w=180&h=180\" srcset=\"https://im2.book.com.tw/image/getImage?i=https://www.books.com.tw/img/R03/009/33/R030093393.jpg&v=644b840ak&w=360&h=360 2x,https://im2.book.com.tw/image/getImage?i=https://www.books.com.tw/img/R03/009/33/R030093393.jpg&v=644b840ak&w=540&h=540 3x\" ></a>\n",
            "<p>JKF 5月號/2023 第69期</p>\n",
            "</li>\n",
            "<li>\n",
            "<a href=\"https://www.books.com.tw/products/J030115666?loc=P_0020_001\">\n",
            "<img alt='SUBARU 6月號/2023' src=\"https://im1.book.com.tw/image/getImage?i=https://www.books.com.tw/img/J03/011/56/J030115666.jpg&v=645c6f57k&w=180&h=180\" srcset=\"https://im1.book.com.tw/image/getImage?i=https://www.books.com.tw/img/J03/011/56/J030115666.jpg&v=645c6f57k&w=360&h=360 2x,https://im1.book.com.tw/image/getImage?i=https://www.books.com.tw/img/J03/011/56/J030115666.jpg&v=645c6f57k&w=540&h=540 3x\" ></a>\n",
            "<p>SUBARU 6月號/2023</p>\n",
            "</li>\n",
            "</ul>\n",
            "</div><div class=\"type03_m002 clearfix\" style=\"display:none;\" >\n",
            "<ul class=\"tab-content\" data-shownum=\"4\">\n",
            "<li>\n",
            "<a href=\"https://www.books.com.tw/products/0020232084?loc=P_0020_001\">\n",
            "<img alt='華晨宇 / 希忘Hope (實體專輯CD版)' src=\"https://im1.book.com.tw/image/getImage?i=https://www.books.com.tw/img/002/023/20/0020232084.jpg&v=64549b60k&w=180&h=180\"  ></a>\n",
            "<p>華晨宇 / 希忘Hope (實體專輯CD版)</p>\n",
            "</li>\n",
            "<li>\n",
            "<a href=\"https://www.books.com.tw/products/0020224398?loc=P_0020_001\">\n",
            "<img alt='黃明志 / 鬼才做音樂' src=\"https://im1.book.com.tw/image/getImage?i=https://www.books.com.tw/img/002/022/43/0020224398.jpg&v=618e3851k&w=180&h=180\"  ></a>\n",
            "<p>黃明志 / 鬼才做音樂</p>\n",
            "</li>\n",
            "<li>\n",
            "<a href=\"https://www.books.com.tw/products/D020064082?loc=P_0020_001\">\n",
            "<img alt='攻殼機動隊 雙碟鐵盒版 (藍光BD)' src=\"https://im1.book.com.tw/image/getImage?i=https://www.books.com.tw/img/D02/006/40/D020064082.jpg&v=594cbf42k&w=180&h=180\" srcset=\"https://im1.book.com.tw/image/getImage?i=https://www.books.com.tw/img/D02/006/40/D020064082.jpg&v=594cbf42k&w=360&h=360 2x,https://im1.book.com.tw/image/getImage?i=https://www.books.com.tw/img/D02/006/40/D020064082.jpg&v=594cbf42k&w=540&h=540 3x\" ></a>\n",
            "<p>攻殼機動隊 雙碟鐵盒版 (藍光BD)</p>\n",
            "</li>\n",
            "<li>\n",
            "<a href=\"https://www.books.com.tw/products/D020080018?loc=P_0020_001\">\n",
            "<img alt='龍與地下城: 盜賊榮耀 UHD+BD 雙碟限定版' src=\"https://im1.book.com.tw/image/getImage?i=https://www.books.com.tw/img/D02/008/00/D020080018.jpg&v=646b2fd9k&w=180&h=180\" srcset=\"https://im1.book.com.tw/image/getImage?i=https://www.books.com.tw/img/D02/008/00/D020080018.jpg&v=646b2fd9k&w=360&h=360 2x,https://im1.book.com.tw/image/getImage?i=https://www.books.com.tw/img/D02/008/00/D020080018.jpg&v=646b2fd9k&w=540&h=540 3x\" ></a>\n",
            "<p>龍與地下城: 盜賊榮耀 UHD+BD 雙碟限定版</p>\n",
            "</li>\n",
            "</ul>\n",
            "</div><div class=\"type03_m002 clearfix\" style=\"display:none;\" >\n",
            "<ul class=\"tab-content\" data-shownum=\"4\">\n",
            "<li>\n",
            "<a href=\"https://www.books.com.tw/products/N001348336?loc=P_0020_001\">\n",
            "<img alt='(3包1套)哈哈傳統高透明書套 210' src=\"https://im1.book.com.tw/image/getImage?i=https://www.books.com.tw/img/N00/134/83/N001348336.jpg&v=61515140k&w=180&h=180\" srcset=\"https://im1.book.com.tw/image/getImage?i=https://www.books.com.tw/img/N00/134/83/N001348336.jpg&v=61515140k&w=360&h=360 2x,https://im1.book.com.tw/image/getImage?i=https://www.books.com.tw/img/N00/134/83/N001348336.jpg&v=61515140k&w=540&h=540 3x\" ></a>\n",
            "<p>(3包1套)哈哈傳統高透明書套 210</p>\n",
            "</li>\n",
            "<li>\n",
            "<a href=\"https://www.books.com.tw/products/N001549279?loc=P_0020_001\">\n",
            "<img alt='ZEBRA限量 BLEN 小熊維尼系列 0.5 防震三色原子筆 綠色' src=\"https://im2.book.com.tw/image/getImage?i=https://www.books.com.tw/img/N00/154/92/N001549279.jpg&v=642402fek&w=180&h=180\" srcset=\"https://im2.book.com.tw/image/getImage?i=https://www.books.com.tw/img/N00/154/92/N001549279.jpg&v=642402fek&w=360&h=360 2x,https://im2.book.com.tw/image/getImage?i=https://www.books.com.tw/img/N00/154/92/N001549279.jpg&v=642402fek&w=540&h=540 3x\" ></a>\n",
            "<p>ZEBRA限量 BLEN 小熊維尼系列 0.5 防震三色原子筆 綠色</p>\n",
            "</li>\n",
            "<li>\n",
            "<a href=\"https://www.books.com.tw/products/N001549280?loc=P_0020_001\">\n",
            "<img alt='ZEBRA限量 BLEN 小熊維尼系列 0.5 防震三色原子筆 象牙白' src=\"https://im1.book.com.tw/image/getImage?i=https://www.books.com.tw/img/N00/154/92/N001549280.jpg&v=642402fek&w=180&h=180\" srcset=\"https://im1.book.com.tw/image/getImage?i=https://www.books.com.tw/img/N00/154/92/N001549280.jpg&v=642402fek&w=360&h=360 2x,https://im1.book.com.tw/image/getImage?i=https://www.books.com.tw/img/N00/154/92/N001549280.jpg&v=642402fek&w=540&h=540 3x\" ></a>\n",
            "<p>ZEBRA限量 BLEN 小熊維尼系列 0.5 防震三色原子筆 象牙白</p>\n",
            "</li>\n",
            "<li>\n",
            "<a href=\"https://www.books.com.tw/products/N001549281?loc=P_0020_001\">\n",
            "<img alt='ZEBRA限量 BLEN 小熊維尼系列 0.5 防震三色原子筆 黃色' src=\"https://im2.book.com.tw/image/getImage?i=https://www.books.com.tw/img/N00/154/92/N001549281.jpg&v=642402fek&w=180&h=180\" srcset=\"https://im2.book.com.tw/image/getImage?i=https://www.books.com.tw/img/N00/154/92/N001549281.jpg&v=642402fek&w=360&h=360 2x,https://im2.book.com.tw/image/getImage?i=https://www.books.com.tw/img/N00/154/92/N001549281.jpg&v=642402fek&w=540&h=540 3x\" ></a>\n",
            "<p>ZEBRA限量 BLEN 小熊維尼系列 0.5 防震三色原子筆 黃色</p>\n",
            "</li>\n",
            "</ul>\n",
            "</div><div class=\"type03_m002 clearfix\" style=\"display:none;\" >\n",
            "<ul class=\"tab-content\" data-shownum=\"4\">\n",
            "<li>\n",
            "<a href=\"https://www.books.com.tw/products/N000447732?loc=P_0020_001\">\n",
            "<img alt='【SunFlower三花】5500_三花全棉三角褲.男內褲_L白' src=\"https://im1.book.com.tw/image/getImage?i=https://www.books.com.tw/img/N00/044/77/N000447732.jpg&v=60ee3a94k&w=180&h=180\" srcset=\"https://im1.book.com.tw/image/getImage?i=https://www.books.com.tw/img/N00/044/77/N000447732.jpg&v=60ee3a94k&w=360&h=360 2x,https://im1.book.com.tw/image/getImage?i=https://www.books.com.tw/img/N00/044/77/N000447732.jpg&v=60ee3a94k&w=540&h=540 3x\" ></a>\n",
            "<p>【SunFlower三花】5500_三花全棉三角褲.男內褲_L白</p>\n",
            "</li>\n",
            "<li>\n",
            "<a href=\"https://www.books.com.tw/products/N000448116?loc=P_0020_001\">\n",
            "<img alt='【SunFlower三花】三花5片式針織平口褲.男內褲.四角褲_L黑' src=\"https://im1.book.com.tw/image/getImage?i=https://www.books.com.tw/img/N00/044/81/N000448116.jpg&v=60ee3660k&w=180&h=180\" srcset=\"https://im1.book.com.tw/image/getImage?i=https://www.books.com.tw/img/N00/044/81/N000448116.jpg&v=60ee3660k&w=360&h=360 2x,https://im1.book.com.tw/image/getImage?i=https://www.books.com.tw/img/N00/044/81/N000448116.jpg&v=60ee3660k&w=540&h=540 3x\" ></a>\n",
            "<p>【SunFlower三花】三花5片式針織平口褲.男內褲.四角褲_L黑</p>\n",
            "</li>\n",
            "<li>\n",
            "<a href=\"https://www.books.com.tw/products/N001556584?loc=P_0020_001\">\n",
            "<img alt='CAMPUS 帆布讀書袋｜ 森綠色' src=\"https://im1.book.com.tw/image/getImage?i=https://www.books.com.tw/img/N00/155/65/N001556584.jpg&v=644a5cb9k&w=180&h=180\" srcset=\"https://im1.book.com.tw/image/getImage?i=https://www.books.com.tw/img/N00/155/65/N001556584.jpg&v=644a5cb9k&w=360&h=360 2x,https://im1.book.com.tw/image/getImage?i=https://www.books.com.tw/img/N00/155/65/N001556584.jpg&v=644a5cb9k&w=540&h=540 3x\" ></a>\n",
            "<p>CAMPUS 帆布讀書袋｜ 森綠色</p>\n",
            "</li>\n",
            "<li>\n",
            "<a href=\"https://www.books.com.tw/products/N001556585?loc=P_0020_001\">\n",
            "<img alt='CAMPUS 帆布讀書袋｜ 芥末黃' src=\"https://im2.book.com.tw/image/getImage?i=https://www.books.com.tw/img/N00/155/65/N001556585.jpg&v=644a5d6dk&w=180&h=180\" srcset=\"https://im2.book.com.tw/image/getImage?i=https://www.books.com.tw/img/N00/155/65/N001556585.jpg&v=644a5d6dk&w=360&h=360 2x,https://im2.book.com.tw/image/getImage?i=https://www.books.com.tw/img/N00/155/65/N001556585.jpg&v=644a5d6dk&w=540&h=540 3x\" ></a>\n",
            "<p>CAMPUS 帆布讀書袋｜ 芥末黃</p>\n",
            "</li>\n",
            "</ul>\n",
            "</div><div class=\"type03_m002 clearfix\" style=\"display:none;\" >\n",
            "<ul class=\"tab-content\" data-shownum=\"4\">\n",
            "<li>\n",
            "<a href=\"https://www.books.com.tw/products/N001542449?loc=P_0020_001\">\n",
            "<img alt='金正陶器 史奴比 藍唐草陶瓷 淺盤16cm' src=\"https://im2.book.com.tw/image/getImage?i=https://www.books.com.tw/img/N00/154/24/N001542449.jpg&v=6409a7cdk&w=180&h=180\" srcset=\"https://im2.book.com.tw/image/getImage?i=https://www.books.com.tw/img/N00/154/24/N001542449.jpg&v=6409a7cdk&w=360&h=360 2x,https://im2.book.com.tw/image/getImage?i=https://www.books.com.tw/img/N00/154/24/N001542449.jpg&v=6409a7cdk&w=540&h=540 3x\" ></a>\n",
            "<p>金正陶器 史奴比 藍唐草陶瓷 淺盤16cm</p>\n",
            "</li>\n",
            "<li>\n",
            "<a href=\"https://www.books.com.tw/products/N001553807?loc=P_0020_001\">\n",
            "<img alt='台玻1200ML耐熱玻璃涼水壺' src=\"https://im2.book.com.tw/image/getImage?i=https://www.books.com.tw/img/N00/155/38/N001553807.jpg&v=643f6d95k&w=180&h=180\" srcset=\"https://im2.book.com.tw/image/getImage?i=https://www.books.com.tw/img/N00/155/38/N001553807.jpg&v=643f6d95k&w=360&h=360 2x,https://im2.book.com.tw/image/getImage?i=https://www.books.com.tw/img/N00/155/38/N001553807.jpg&v=643f6d95k&w=540&h=540 3x\" ></a>\n",
            "<p>台玻1200ML耐熱玻璃涼水壺</p>\n",
            "</li>\n",
            "<li>\n",
            "<a href=\"https://www.books.com.tw/products/N001456876?loc=P_0020_001\">\n",
            "<img alt='【日本ECHO】日本製不鏽鋼料理夾' src=\"https://im1.book.com.tw/image/getImage?i=https://www.books.com.tw/img/N00/145/68/N001456876.jpg&v=62ec90d5k&w=180&h=180\" srcset=\"https://im1.book.com.tw/image/getImage?i=https://www.books.com.tw/img/N00/145/68/N001456876.jpg&v=62ec90d5k&w=360&h=360 2x,https://im1.book.com.tw/image/getImage?i=https://www.books.com.tw/img/N00/145/68/N001456876.jpg&v=62ec90d5k&w=540&h=540 3x\" ></a>\n",
            "<p>【日本ECHO】日本製不鏽鋼料理夾</p>\n",
            "</li>\n",
            "<li>\n",
            "<a href=\"https://www.books.com.tw/products/N001456877?loc=P_0020_001\">\n",
            "<img alt='【日本ECHO】日本製不鏽鋼義大利麵夾' src=\"https://im2.book.com.tw/image/getImage?i=https://www.books.com.tw/img/N00/145/68/N001456877.jpg&v=62ec918bk&w=180&h=180\" srcset=\"https://im2.book.com.tw/image/getImage?i=https://www.books.com.tw/img/N00/145/68/N001456877.jpg&v=62ec918bk&w=360&h=360 2x,https://im2.book.com.tw/image/getImage?i=https://www.books.com.tw/img/N00/145/68/N001456877.jpg&v=62ec918bk&w=540&h=540 3x\" ></a>\n",
            "<p>【日本ECHO】日本製不鏽鋼義大利麵夾</p>\n",
            "</li>\n",
            "</ul>\n",
            "</div><div class=\"type03_m002 clearfix\" style=\"display:none;\" >\n",
            "<ul class=\"tab-content\" data-shownum=\"4\">\n",
            "<li>\n",
            "<a href=\"https://www.books.com.tw/products/N001275505?loc=P_0020_001\">\n",
            "<img alt='Peppa Pig 粉紅豬小妹 佩佩豬 兒童環保湯叉餐具組 附收納袋 家人 粉' src=\"https://im2.book.com.tw/image/getImage?i=https://www.books.com.tw/img/N00/127/55/N001275505.jpg&v=60371d40k&w=180&h=180\" srcset=\"https://im2.book.com.tw/image/getImage?i=https://www.books.com.tw/img/N00/127/55/N001275505.jpg&v=60371d40k&w=360&h=360 2x,https://im2.book.com.tw/image/getImage?i=https://www.books.com.tw/img/N00/127/55/N001275505.jpg&v=60371d40k&w=540&h=540 3x\" ></a>\n",
            "<p>Peppa Pig 粉紅豬小妹 佩佩豬 兒童環保湯叉餐具組 附收納袋 家人 粉</p>\n",
            "</li>\n",
            "<li>\n",
            "<a href=\"https://www.books.com.tw/products/N001551137?loc=P_0020_001\">\n",
            "<img alt='【GoKids】截碼戰 五周年紀念版 Decrypto 5th Anniversary' src=\"https://im2.book.com.tw/image/getImage?i=https://www.books.com.tw/img/N00/155/11/N001551137.jpg&v=6433d719k&w=180&h=180\" srcset=\"https://im2.book.com.tw/image/getImage?i=https://www.books.com.tw/img/N00/155/11/N001551137.jpg&v=6433d719k&w=360&h=360 2x,https://im2.book.com.tw/image/getImage?i=https://www.books.com.tw/img/N00/155/11/N001551137.jpg&v=6433d719k&w=540&h=540 3x\" ></a>\n",
            "<p>【GoKids】截碼戰 五周年紀念版 Decrypto 5th Anniversary</p>\n",
            "</li>\n",
            "<li>\n",
            "<a href=\"https://www.books.com.tw/products/N001517810?loc=P_0020_001\">\n",
            "<img alt='2Plus灣加遊戲 心流密碼 桌上遊戲' src=\"https://im1.book.com.tw/image/getImage?i=https://www.books.com.tw/img/N00/151/78/N001517810.jpg&v=6396cea1k&w=180&h=180\" srcset=\"https://im1.book.com.tw/image/getImage?i=https://www.books.com.tw/img/N00/151/78/N001517810.jpg&v=6396cea1k&w=360&h=360 2x,https://im1.book.com.tw/image/getImage?i=https://www.books.com.tw/img/N00/151/78/N001517810.jpg&v=6396cea1k&w=540&h=540 3x\" ></a>\n",
            "<p>2Plus灣加遊戲 心流密碼 桌上遊戲</p>\n",
            "</li>\n",
            "<li>\n",
            "<a href=\"https://www.books.com.tw/products/N001449535?loc=P_0020_001\">\n",
            "<img alt='大富翁 (經典)新磁石象棋(大)' src=\"https://im2.book.com.tw/image/getImage?i=https://www.books.com.tw/img/N00/144/95/N001449535.jpg&v=62bc03b0k&w=180&h=180\" srcset=\"https://im2.book.com.tw/image/getImage?i=https://www.books.com.tw/img/N00/144/95/N001449535.jpg&v=62bc03b0k&w=360&h=360 2x,https://im2.book.com.tw/image/getImage?i=https://www.books.com.tw/img/N00/144/95/N001449535.jpg&v=62bc03b0k&w=540&h=540 3x\" ></a>\n",
            "<p>大富翁 (經典)新磁石象棋(大)</p>\n",
            "</li>\n",
            "</ul>\n",
            "</div></div><script type=\"text/javascript\">\n",
            "$(document).ready(function(){\r\n",
            "var M201101_0_getRegionSaletop_P00a500050020 = new change_li_tab(\"M201101_0_getRegionSaletop_P00a500050020\",false);\r\n",
            "});\r\n",
            "</script></div>\n",
            "<div class=\"grid_4 pull_20 side_left_column omega\">\n",
            "<div class=\"mod mc002 cnt_title_002 clearfix\">\n",
            "<b class=\"top\">\n",
            "<b class=\"tl\"></b>\n",
            "<b class=\"tr\"></b>\n",
            "</b>\n",
            "<div class=\"inner\">\n",
            "<div class=\"hd title_001\">\n",
            "<h3>精選推薦</h3>\n",
            "</div><div class=\"bd\">\n",
            "<ul class=\"cntli_ad_pic002 clearfix\">\n",
            "<li>\n",
            "<a class=\"cover cov_a special_border_a\" href=\"https://www.books.com.tw/web/sys_brmidm/stationery_0000008927/0132?loc=P_0034_001\"><img src=\"https://im1.book.com.tw/image/getImage?i=https://www.books.com.tw/img/N00/155/02/N001550234_b_02.jpg&v=6438be70k&w=124&h=124\" alt=\"昭和復古玻璃筆\" srcset=\"https://im1.book.com.tw/image/getImage?i=https://www.books.com.tw/img/N00/155/02/N001550234_b_02.jpg&v=6438be70k&w=248&h=248 2x,https://im1.book.com.tw/image/getImage?i=https://www.books.com.tw/img/N00/155/02/N001550234_b_02.jpg&v=6438be70k&w=372&h=372 3x\"></a>\n",
            "<h4><a href=\"https://www.books.com.tw/web/sys_brmidm/stationery_0000008927/0132?loc=P_0034_001\">昭和復古玻璃筆</a></h4>\n",
            "<p>玻璃收納罐以迷你版之姿重現為洗筆筒，曲線高腳杯/復古捲線軸則重現為筆架，\n",
            "搭配在一起的組合，充滿懷舊可愛氣息。</p>\n",
            "</li></ul>\n",
            "</div><div class=\"ft\"></div>\n",
            "</div><b class=\"bottom\">\n",
            "<b class=\"bl\"></b>\n",
            "<b class=\"br\"></b>\n",
            "</b>\n",
            "</div><div class=\"mod mc002 cnt_title_002 clearfix\">\n",
            "<b class=\"top\">\n",
            "<b class=\"tl\"></b>\n",
            "<b class=\"tr\"></b>\n",
            "</b>\n",
            "<div class=\"inner\">\n",
            "<div class=\"hd title_001\">\n",
            "<h3>區域總覽</h3>\n",
            "</div><div class=\"bd\">\n",
            "<ul class=\"cntli_menu_001\">\n",
            "<li class=\"first\">\n",
            "<h4><span><a href=\"//www.books.com.tw/web/ovs\">海外專館</a></span></h4>\n",
            "</li><li >\n",
            "<h4><span><a href=\"//www.books.com.tw/web/ovshm\">港澳</a></span></h4>\n",
            "</li><li >\n",
            "<h4><span><a href=\"//www.books.com.tw/web/ovssg\">新加坡</a></span></h4>\n",
            "</li><li >\n",
            "<h4><span><a href=\"//www.books.com.tw/web/ovsmy\">馬來西亞</a></span></h4>\n",
            "</li><li >\n",
            "<h4><span><a href=\"//www.books.com.tw/web/ovsus\">美國</a></span></h4>\n",
            "</li><li >\n",
            "<h4><span><a href=\"//www.books.com.tw/web/ovsna\">紐澳</a></span></h4>\n",
            "</li><li >\n",
            "<h4><span><a href=\"//www.books.com.tw/web/ovsjk\">日韓</a></span></h4>\n",
            "</li><li >\n",
            "<h4><span><a href=\"//www.books.com.tw/web/ovsph\">菲律賓</a></span></h4>\n",
            "</li><li >\n",
            "<h4><span><a href=\"//www.books.com.tw/web/ovsth\">泰國</a></span></h4>\n",
            "</li><li >\n",
            "<h4><span><a href=\"//www.books.com.tw/web/ovsbrand\">台灣品牌專頁</a></span></h4>\n",
            "</li><li >\n",
            "<h4><span><a href=\"//www.books.com.tw/web/sys_saletopovs/ovs_home\">海外暢銷榜</a></span></h4>\n",
            "</li><li >\n",
            "<h4><span><a href=\"//www.books.com.tw/myfinds\" onclick=\"javascript:this.href=this.href+'/'+window.location.pathname.split('/').slice(2)[0]\"\">專屬您的推薦</a></span></h4>\n",
            "</li>\n",
            "</ul>\n",
            "</div><div class=\"ft hide\"></div>\n",
            "</div><b class=\"bottom\">\n",
            "<b class=\"bl\"></b>\n",
            "<b class=\"br\"></b>\n",
            "</b>\n",
            "</div><div class=\"mod mc002 cnt_title_002 clearfix\">\n",
            "<b class=\"top\">\n",
            "<b class=\"tl\"></b>\n",
            "<b class=\"tr\"></b>\n",
            "</b>\n",
            "<div class=\"inner\">\n",
            "<div class=\"hd title_001\">\n",
            "<h3>商品分類</h3>\n",
            "</div><div class=\"bd\">\n",
            "<ul class=\"cntli_menu_001\">\n",
            "<li class=\"first\">\n",
            "<h4><span><a href=\"https://www.books.com.tw/web/sys_ovsbotm/ovsus_cebook/0/?or=us&loc=P_0005_001\">中文電子書</a></span></h4>\n",
            "</li><li >\n",
            "<h4><span><a href=\"https://www.books.com.tw/web/sys_ovsbotm/ovsus_mebook/0/?or=us&loc=P_0005_002\">電子雜誌</a></span></h4>\n",
            "</li><li >\n",
            "<h4><span><a href=\"https://www.books.com.tw/web/audiobooks?loc=P_0005_003\">有聲書</a></span></h4>\n",
            "</li><li >\n",
            "<h4><span><a href=\" https://www.books.com.tw/web/video?loc=P_0005_004\">影音．課程</a></span></h4>\n",
            "</li><li >\n",
            "<h4><span><a href=\"https://www.books.com.tw/web/sys_ovsbotm/ovsus_books/0/?or=us&od=1&loc=P_0005_005\">中文書</a></span></h4>\n",
            "</li><li >\n",
            "<h4><span><a href=\"https://www.books.com.tw/web/sys_ovsbotm/ovsus_china/0/?or=us&od=1&loc=P_0005_006\">簡體書</a></span></h4>\n",
            "</li><li >\n",
            "<h4><span><a href=\"https://www.books.com.tw/web/sys_ovsbotm/ovsus_fbooks/0/?or=us&od=1&loc=P_0005_007\">外文書</a></span></h4>\n",
            "</li><li >\n",
            "<h4><span><a href=\"https://www.books.com.tw/web/sys_ovsbotm/ovsus_rmagazine/0/?or=us&od=1&loc=P_0005_008\">中文雜誌</a></span></h4>\n",
            "</li><li >\n",
            "<h4><span><a href=\"https://www.books.com.tw/web/sys_ovsbotm/ovsus_jmagazine/0/?or=us&od=1&loc=P_0005_009\">日文雜誌</a></span></h4>\n",
            "</li><li >\n",
            "<h4><span><a href=\"https://www.books.com.tw/web/sys_ovsbotm/ovsus_fmagazine/0/?or=us&od=1&loc=P_0005_010\">歐美雜誌</a></span></h4>\n",
            "</li><li >\n",
            "<h4><span><a href=\"https://www.books.com.tw/web/sys_ovsbotm/ovsus_hmagazine/0/?or=us&od=1&loc=P_0005_011\">韓文雜誌</a></span></h4>\n",
            "</li><li >\n",
            "<h4><span><a href=\"https://www.books.com.tw/web/sys_ovsbotm/ovsus_mook/0/?or=us&od=1&loc=P_0005_012\">日文書．MOOK</a></span></h4>\n",
            "</li><li >\n",
            "<h4><span><a href=\"https://www.books.com.tw/web/sys_ovsbotm/ovsus_cd/0/?or=us&od=1&loc=P_0005_013\">CD</a></span></h4>\n",
            "</li><li >\n",
            "<h4><span><a href=\"https://www.books.com.tw/web/sys_ovsbotm/ovsus_dvd/0/?or=us&od=1&loc=P_0005_014\">DVD</a></span></h4>\n",
            "</li><li >\n",
            "<h4><span><a href=\"https://www.books.com.tw/web/sys_ovsbotm/ovsus_cosmetic/0/?or=us&od=1&loc=P_0005_015\">美妝</a></span></h4>\n",
            "</li><li >\n",
            "<h4><span><a href=\"https://www.books.com.tw/web/sys_ovsbotm/ovsus_health/0/?or=us&od=1&loc=P_0005_016\">保健</a></span></h4>\n",
            "</li><li >\n",
            "<h4><span><a href=\"https://www.books.com.tw/web/sys_ovsbotm/ovsus_fashion/0/?or=us&od=1&loc=P_0005_017\">服飾</a></span></h4>\n",
            "</li><li >\n",
            "<h4><span><a href=\"https://www.books.com.tw/web/sys_ovsbotm/ovsus_shoes/0/?or=us&od=1&loc=P_0005_018\">鞋包配件</a></span></h4>\n",
            "</li><li >\n",
            "<h4><span><a href=\"https://www.books.com.tw/web/sys_ovsbotm/ovsus_food/0/?or=us&od=1&loc=P_0005_019\">美食</a></span></h4>\n",
            "</li><li >\n",
            "<h4><span><a href=\"https://www.books.com.tw/web/sys_ovsbotm/ovsus_design/0/?or=us&od=1&loc=P_0005_020\">家居生活</a></span></h4>\n",
            "</li><li >\n",
            "<h4><span><a href=\"https://www.books.com.tw/web/sys_ovsbotm/ovsus_kitchen/0/?or=us&od=1&loc=P_0005_021\">餐廚生活</a></span></h4>\n",
            "</li><li >\n",
            "<h4><span><a href=\"https://www.books.com.tw/web/sys_ovsbotm/ovsus_stationery/0/?or=us&od=1&loc=P_0005_022\">設計文具</a></span></h4>\n",
            "</li><li >\n",
            "<h4><span><a href=\"https://www.books.com.tw/web/sys_ovsbotm/ovsus_outdoors/0/?or=us&od=1&loc=P_0005_023\">休閒生活</a></span></h4>\n",
            "</li><li >\n",
            "<h4><span><a href=\"https://www.books.com.tw/web/sys_ovsbotm/ovsus_mammybaby/0/?or=us&od=1&loc=P_0005_024\">婦幼生活</a></span></h4>\n",
            "</li>\n",
            "</ul>\n",
            "</div><div class=\"ft hide\"></div>\n",
            "</div><b class=\"bottom\">\n",
            "<b class=\"bl\"></b>\n",
            "<b class=\"br\"></b>\n",
            "</b>\n",
            "</div></div>\n",
            "</div></div></div><div id=\"footer_full_v2\"  class=\"footer_v2\">\n",
            "<div class=\"social_links\">\n",
            "<div class=\"wrap\">\n",
            "<ul>\n",
            "<li><a href=\"https://www.books.com.tw/mobile/?loc=footer_00_001\"><img src=\"//jci.book.com.tw/css/header/images/social-books-app.svg\" >博客來<br>App&nbsp;下載</a></li>\n",
            "<li><a href=\"https://www.books.com.tw/activity/2021/06/ebooknewer/?loc=footer_00_002\"><img src=\"//jci.book.com.tw/css/header/images/social-ebooks-app.svg\" >博客來<br>電子書App&nbsp;下載</a></li>\n",
            "<li><a href=\"https://www.facebook.com/bookstw?loc=footer_00_003\"><img src=\"//jci.book.com.tw/css/header/images/social-fb.svg\" >博客來<br/>Facebook粉絲專頁</a></li>\n",
            "<li><a href=\"https://www.youtube.com/user/BooksTW?loc=footer_00_004\"><img src=\"//jci.book.com.tw/css/header/images/social-yt.svg\" >博客來<br/>YouTube</a></li>\n",
            "<li><a href=\"https://maac.io/1VWES?loc=footer_00_005\"><img src=\"//jci.book.com.tw/css/header/images/social-line.svg\" >博客來<br>LINE&nbsp;官方帳號</a></li>\n",
            "</ul>\n",
            "<button type=\"button\" class=\"toggle_btn\" onclick=\"document.cookie = 'booksstyle=M;path=/;domain=books.com.tw;';if (typeof dataLayer != 'undefined') {\r\n",
            "                            dataLayer.push({'event': 'SendEvent', 'eventCategory': 'change', 'eventAction': 'dtm', 'eventLabel': 'www', 'eventValue': '1', 'eventNonInteraction': 0});\r\n",
            "                        }\r\n",
            "                        if (encodeURI(window.location.pathname).substring(0, 10) == '/products/' || encodeURI(window.location.pathname).indexOf('/ovs') !== -1 || encodeURI(window.location.pathname).indexOf('/sys_ovsbotm') !== -1 || encodeURI(window.location.pathname).indexOf('/sys_saletopovs') !== -1) {\r\n",
            "                            location.href = '//www.books.com.tw/exep/assp.php/bookland' + encodeURI(window.location.pathname + window.location.search) + '?loc=footer_00_005';\r\n",
            "                        } else {\r\n",
            "                            location.href = '//www.books.com.tw/exep/assp.php/bookland?loc=footer_00_005';\r\n",
            "                        }\"><img src=\"//jci.book.com.tw/css/header/images/icon-mobile-01.svg\" alt=\"切換行動版\">切換行動版</button>\n",
            "</div></div><div class=\"sitemap_service\">\n",
            "<div class=\"wrap\">\n",
            "<dl class=\"box\">\n",
            "<dt>關於我們</dt>\n",
            "<dd><a href=\"https://www.books.com.tw/isi/aboutbooks.htm?loc=footer_01_001\">關於博客來</a></dd>\n",
            "<dd><a href=\"https://www.7-11.com.tw/pcsc/Index.html?loc=footer_01_002\">關於PCSC</a>\n",
            "<dd><a href=\"https://www.104.com.tw/jobbank/custjob/index.php?r=cust&j=4c4a436e3c5c3e2548423c1d1d1d1d5f2443a363189j99&jobsource=n104bank1&footer_01_003\">人才募集</a></dd>\n",
            "<dd><a href=\"https://www.books.com.tw/stakeholder/index?loc=footer_01_004\">利害關係人專區</a></dd>\n",
            "</dl>\n",
            "<dl class=\"box\">\n",
            "<dt>企業合作</dt>\n",
            "<dd><a href=\"https://group.books.com.tw/?loc=footer_02_001\">企業採購</a>\n",
            "<dd><a href=\"https://www.books.com.tw/benefit/?loc=footer_02_002\">福利平台</a></dd>\n",
            "<dd><a href=\"https://www.books.com.tw/exep/supplier/addsupplier.php?loc=footer_02_003\">成為供應商</a></dd>\n",
            "<dd><a href=\"https://ap.books.com.tw/?loc=footer_03_004\">AP策略聯盟</a></dd>\n",
            "<dd><a href=\"https://www.books.com.tw/marketing/ad.htm?loc=footer_02_005\">異業合作</a></dd>\n",
            "<dd><a href=\"https://www.books.com.tw/activity/adsale/2022/index.html?loc=footer_02_006\">廣告刊登</a></dd>\n",
            "</dl>\n",
            "<dl class=\"box\">\n",
            "<dt>好站連結</dt>\n",
            "<dd><a href=\"https://okapi.books.com.tw/index.php/?loc=footer_03_001\">OKAPI&nbsp;閱讀生活誌</a></dd>\n",
            "<dd><a href=\"https://youth.books.com.tw/?loc=footer_03_002\">青春博客來</a></dd>\n",
            "<dd><a href=\"https://activity.books.com.tw/crosscat/show/A00000003004?loc=footer_03_003\">高中生書店</a></dd>\n",
            "<dd><a href=\"https://tickets.books.com.tw/index/?loc=footer_03_004\">售票網</a></dd>\n",
            "</dl>\n",
            "<dl class=\"box\">\n",
            "<dt>會員服務</dt>\n",
            "<dd><a href=\"https://myaccount.books.com.tw/myaccount/myaccount/index/?loc=tw_customer_007\">會員專區</a></dd>\n",
            "<dd><a href=\"javascript:void(0);\" onclick=\"location.href='https://cart.books.com.tw/member/join_step1/?loc=footer_04_001&url=' + encodeURIComponent(window.location.href);\">加入會員</a></dd>\n",
            "<!-- <dd><a href=\"https://www.books.com.tw/activity/guide/?loc=footer_04_002\">新手上路</a></dd> -->\n",
            "<dd><a href=\"https://www.books.com.tw/activity/vip/?loc=footer_04_003\">會員分級</a></dd>\n",
            "<dd><a href=\"https://cart.books.com.tw/member/forgot/?loc=footer_04_004\">查詢帳號密碼</a></dd>\n",
            "<!-- <dd><a href=\"https://www.books.com.tw/e-page/?loc=footer_04_005\">訂閱電子報</a></dd> -->\n",
            "</dl>\n",
            "<dl class=\"box\">\n",
            "<dt>客服中心</dt></dd>\n",
            "<dd><a href=\"https://www.books.com.tw/web/qa/?loc=footer_05_001\"><img src=\"//jci.book.com.tw/css/header/images/icon-help-01-white.svg\" class=\"svg-icon\" >常見問題</a></dd>\n",
            "<dd><a href=\"https://www.books.com.tw/web/csservice?loc=footer_05_002\"><img src=\"//jci.book.com.tw/css/header/images/icon-headphones-01-white.svg\" class=\"svg-icon\" >線上客服</a></dd>\n",
            "<dd><a href=\"https://www.books.com.tw/question/inquiry/?loc=footer_05_003\"><img src=\"//jci.book.com.tw/css/header/images/icon-email-01-white.svg\" class=\"svg-icon\" >客服信箱</a></dd>\n",
            "<dd><img src=\"//jci.book.com.tw/css/header/images/icon-calendar-01-white.svg\" class=\"svg-icon\" >\n",
            "<ul>\n",
            "<li>週一 ~ 五 08:00 - 19:00</li>\n",
            "<li>週六日、例假日 09:00 - 18:00</li>\n",
            "</ul>\n",
            "</dd>\n",
            "<dd><img src=\"//jci.book.com.tw/css/header/images/icon-phone-01-white.svg\" class=\"svg-icon\" >\n",
            "<ul>\n",
            "<li>客服專線&nbsp;02-26535588</li>\n",
            "<li>傳&nbsp;&nbsp;&nbsp;&nbsp;真&nbsp;02-27885008</li>\n",
            "</ul>\n",
            "</dd>\n",
            "</dl>\n",
            "</div></div><div class=\"awards\">\n",
            "<h3 class=\"title\">得獎認證</h3>\n",
            "<div class=\"logo\">\n",
            "<span class=\"logo_7\" title=\"天下雜誌2017金牌服務大賞\"></span>\n",
            "<span class=\"logo_8\" title=\"2016新世代最嚮往企業\"></span>\n",
            "<span class=\"logo_1\" title=\"SSL憑證服務\"></span>\n",
            "<span class=\"logo_2\" title=\"數位時代2012年台灣網站100強\"></span>\n",
            "<span class=\"logo_3\" title=\"電子發票推廣標章\"></span>\n",
            "<span class=\"logo_6\" title=\"dpmark資料隱私保護標章\"></span>\n",
            "<span class=\"logo_5\" title=\"數位時代2011台灣電子商務TOP50強\"></span>\n",
            "<span class=\"logo_9\" title=\"行政院環保署B2C網購包裝減量標章。包裝減量。環保材質。循環包材。\"></span>\n",
            "</div></div><div class=\"copyright\">\n",
            "<p><span>客戶服務專線：02-26535588</span>&nbsp;&nbsp;<span>傳真：02-27885008</span>&nbsp;&nbsp;<span>服務時間：週一~五 8:00~19:00，週六~日、例假日 9:00~18:00，365天全年無休</span></p>\n",
            "<p>\n",
            "<span>博客來數位科技股份有限公司</span>&nbsp;&nbsp;\r\n",
            "<span>統編 : 96922355</span>&nbsp;&nbsp;\r\n",
            "<span>地址：臺灣 115 台北市南港區八德路四段768巷1弄18號B1之1</span>&nbsp;&nbsp;\r\n",
            "<span>食品業者登錄字號：A-196922355-00000-9</span>\n",
            "</p>\n",
            "<p>Copyright &copy; since 1995 books.com.tw All Rights Reserved.</p>\n",
            "</div><div class=\"terms_links\">\n",
            "<ul class=\"links\">\n",
            "<li><a href=\"https://www.books.com.tw/services/privacy.htm?loc=m_tw_footer_inprivacy\">資訊安全</a></li>\n",
            "<li><a href=\"https://www.books.com.tw/web/about_policy/?loc=m_tw_footer_servicepolicy\">服務條款</a></li>\n",
            "<li><a href=\"https://www.books.com.tw/web/about_privacy/?loc=m_tw_footer_privacy\">隱私權政策</a></li>\n",
            "</ul>\n",
            "</div></div><script src=\"https://www.books.com.tw/jss/web/books_image_patcher.js\"></script>\n",
            "<script>\n",
            "window.onload = function(){\r\n",
            "        var imagePatcher= new BooksImagePatcher();\r\n",
            "        imagePatcher.startPatch();\r\n",
            "}\r\n",
            "</script>\n",
            "</body>\n",
            "</html>\n"
          ]
        }
      ]
    },
    {
      "cell_type": "markdown",
      "source": [
        "### **L5-2_api_OPENDATA**"
      ],
      "metadata": {
        "id": "3_Uz8SZVyyHu"
      }
    },
    {
      "cell_type": "code",
      "source": [
        "# 台北市資料大平台 https://data.taipei/\n",
        "# 臺北旅遊網景點資料(中文) https://data.taipei/api/v1/dataset/36847f3f-deff-4183-a5bb-800737591de5?scope=resourceAquire\n",
        "\n",
        "import urllib.request as request\n",
        "import ssl #for Mac\n",
        "import json #json格式\n",
        "\n",
        "#尋找有json格式網站，病毒取\n",
        "\n",
        "ssl._create_default_https_context = ssl._create_unverified_context #for Mmac\n",
        "src = 'https://data.taipei/api/v1/dataset/36847f3f-deff-4183-a5bb-800737591de5?scope=resourceAquire'\n",
        "\n",
        "with request.urlopen(src) as response:\n",
        "    data = json.load(response) #取得網站的原始碼(HTML, CSS, JavaScript)\n",
        "print(data)"
      ],
      "metadata": {
        "colab": {
          "base_uri": "https://localhost:8080/"
        },
        "id": "Gc0Je-P_5hAk",
        "outputId": "831b8666-9135-4565-ace4-c59306f463c9"
      },
      "execution_count": null,
      "outputs": [
        {
          "output_type": "stream",
          "name": "stdout",
          "text": [
            "{'result': {'limit': 20, 'offset': 0, 'count': 1, 'sort': '', 'results': [{'_id': 1, '_importdate': {'date': '2022-08-25 09:09:27.584478', 'timezone_type': 3, 'timezone': 'Asia/Taipei'}, '資料項目': '臺北旅遊網景點資料中文', '介接網址': 'https://www.travel.taipei/zh-tw', '更新頻率': '每天'}]}}\n"
          ]
        }
      ]
    },
    {
      "cell_type": "markdown",
      "source": [
        "### **L5-3_api_getdata**"
      ],
      "metadata": {
        "id": "avGQ1rcqyySu"
      }
    },
    {
      "cell_type": "code",
      "source": [
        "#【有問題待處理】\n",
        "# 臺北旅遊網景點資料 https://data.taipei/api/v1/dataset/36847f3f-deff-4183-a5bb-800737591de5?scope=resourceAquire\n",
        "\n",
        "import urllib.request as request\n",
        "# import ssl #for Mac\n",
        "import json #json格式\n",
        "# ssl._create_default_https_context = ssl._create_unverified_context #for Mmac\n",
        "\n",
        "src = 'https://data.taipei/api/v1/dataset/36847f3f-deff-4183-a5bb-800737591de5?scope=resourceAquire'\n",
        "\n",
        "with request.urlopen(src) as response:\n",
        "    data = json.load(response) #取得網站的原始碼(HTML, CSS, JavaScript)\n",
        "# print(data)\n",
        "\n",
        "# # 取得景點列表\n",
        "spot_list = data['result']['results']\n",
        "# print(spot_list)\n",
        "# print(type(spot_list))\n",
        "\n",
        "# # 如何取得list裡面的每一個物件呢\n",
        "for spot, in spot_list:\n",
        "    print(spot)"
      ],
      "metadata": {
        "colab": {
          "base_uri": "https://localhost:8080/"
        },
        "id": "hcQM0nzB6AhM",
        "outputId": "7f0340d9-e4b9-4855-ce78-041cf6a00965"
      },
      "execution_count": null,
      "outputs": [
        {
          "output_type": "stream",
          "name": "stdout",
          "text": [
            "{'_id': 1, '_importdate': {'date': '2022-08-25 09:09:27.584478', 'timezone_type': 3, 'timezone': 'Asia/Taipei'}, '資料項目': '臺北旅遊網景點資料中文', '介接網址': 'https://www.travel.taipei/zh-tw', '更新頻率': '每天'}\n"
          ]
        }
      ]
    },
    {
      "cell_type": "code",
      "source": [
        "#保險公司主要股東持股質押比例超過50%概況 https://ins-info.ib.gov.tw/opendata/json-05030311.aspx\n",
        "import urllib.request as request\n",
        "import ssl #for Mac\n",
        "import json #json格式\n",
        "\n",
        "#尋找有json格式網站，病毒取\n",
        "\n",
        "ssl._create_default_https_context = ssl._create_unverified_context #for Mmac\n",
        "src = 'https://ins-info.ib.gov.tw/opendata/json-05030311.aspx'\n",
        "\n",
        "with request.urlopen(src) as response:\n",
        "    data = json.load(response) #取得網站的原始碼(HTML, CSS, JavaScript)\n",
        "# print(type(data))\n",
        "\n",
        "# # 取得內容列表\n",
        "# list = data[1]\n",
        "# print(list)\n",
        "\n",
        "for i in data:\n",
        "  print(i)"
      ],
      "metadata": {
        "colab": {
          "base_uri": "https://localhost:8080/"
        },
        "id": "pNsXndRS_59U",
        "outputId": "43963dfc-b11b-4ed1-bc5f-1796ce5c031c"
      },
      "execution_count": null,
      "outputs": [
        {
          "output_type": "stream",
          "name": "stdout",
          "text": [
            "{'OccurDate': '2023-03-29', 'OccurSeason': '112年度第1季', 'TransTYpe': '上市', 'UID': '03557115', 'INSURER_Name': '臺灣產物保險股份有限公司', 'StockholderName': '巧儂投資股份有限公司', 'Shares': '11026', 'PledgeShares': '10910', 'PledgeSharesRatio': '98.940000'}\n",
            "{'OccurDate': '2023-03-29', 'OccurSeason': '112年度第1季', 'TransTYpe': '上市', 'UID': '03557115', 'INSURER_Name': '臺灣產物保險股份有限公司', 'StockholderName': '家德投資股份有限公司', 'Shares': '7966', 'PledgeShares': '7950', 'PledgeSharesRatio': '99.790000'}\n",
            "{'OccurDate': '2023-03-29', 'OccurSeason': '112年度第1季', 'TransTYpe': '上市', 'UID': '03557115', 'INSURER_Name': '臺灣產物保險股份有限公司', 'StockholderName': '統盛開發股份有限公司', 'Shares': '6912', 'PledgeShares': '6800', 'PledgeSharesRatio': '98.380000'}\n",
            "{'OccurDate': '2023-03-29', 'OccurSeason': '112年度第1季', 'TransTYpe': '上市', 'UID': '03557115', 'INSURER_Name': '臺灣產物保險股份有限公司', 'StockholderName': '領航投資開發股份有限公司', 'Shares': '25168', 'PledgeShares': '25160', 'PledgeSharesRatio': '99.970000'}\n",
            "{'OccurDate': '2023-03-29', 'OccurSeason': '112年度第1季', 'TransTYpe': '上市', 'UID': '03557115', 'INSURER_Name': '臺灣產物保險股份有限公司', 'StockholderName': '領航建設股份有限公司', 'Shares': '10601', 'PledgeShares': '10500', 'PledgeSharesRatio': '99.050000'}\n",
            "{'OccurDate': '2011-12-31', 'OccurSeason': '100年度第4季', 'TransTYpe': '', 'UID': '03336704', 'INSURER_Name': '泰安產物保險股份有限公司', 'StockholderName': '楓丹白露(股)公司', 'Shares': '29507', 'PledgeShares': '25249', 'PledgeSharesRatio': '85.570000'}\n",
            "{'OccurDate': '2015-05-01', 'OccurSeason': '104年度第2季', 'TransTYpe': '其他(公開公司)', 'UID': '03557017', 'INSURER_Name': '台灣人壽保險股份有限公司', 'StockholderName': '保勝投資股份有限公司', 'Shares': '118550', 'PledgeShares': '72677', 'PledgeSharesRatio': '61.310000'}\n",
            "{'OccurDate': '2021-10-31', 'OccurSeason': '110年度第4季', 'TransTYpe': '其他(公開公司)', 'UID': '03434016', 'INSURER_Name': '中國人壽保險股份有限公司', 'StockholderName': '宋洸銘', 'Shares': '35384', 'PledgeShares': '32098', 'PledgeSharesRatio': '90.710000'}\n",
            "{'OccurDate': '2021-10-31', 'OccurSeason': '110年度第4季', 'TransTYpe': '其他(公開公司)', 'UID': '03434016', 'INSURER_Name': '中國人壽保險股份有限公司', 'StockholderName': '黃佩茹', 'Shares': '29594', 'PledgeShares': '26845', 'PledgeSharesRatio': '90.710000'}\n",
            "{'OccurDate': '2023-02-01', 'OccurSeason': '112年度第1季', 'TransTYpe': '其他(公開公司)', 'UID': '11456006', 'INSURER_Name': '南山人壽保險股份有限公司', 'StockholderName': '吉品投資股份有限公司                           ', 'Shares': '14780', 'PledgeShares': '10000', 'PledgeSharesRatio': '67.660000'}\n",
            "{'OccurDate': '2023-02-01', 'OccurSeason': '112年度第1季', 'TransTYpe': '其他(公開公司)', 'UID': '11456006', 'INSURER_Name': '南山人壽保險股份有限公司', 'StockholderName': '潤成投資控股股份有限公司', 'Shares': '12377488', 'PledgeShares': '12377488', 'PledgeSharesRatio': '100.000000'}\n",
            "{'OccurDate': '2023-02-01', 'OccurSeason': '112年度第1季', 'TransTYpe': '其他(公開公司)', 'UID': '11456006', 'INSURER_Name': '南山人壽保險股份有限公司', 'StockholderName': '潤泰租賃股份有限公司                                        ', 'Shares': '17187', 'PledgeShares': '16029', 'PledgeSharesRatio': '93.260000'}\n",
            "{'OccurDate': '2023-02-01', 'OccurSeason': '112年度第1季', 'TransTYpe': '其他(公開公司)', 'UID': '11456006', 'INSURER_Name': '南山人壽保險股份有限公司', 'StockholderName': '潤泰興股份有限公司', 'Shares': '134375', 'PledgeShares': '133424', 'PledgeSharesRatio': '99.290000'}\n",
            "{'OccurDate': '2023-02-01', 'OccurSeason': '112年度第1季', 'TransTYpe': '其他(公開公司)', 'UID': '11456006', 'INSURER_Name': '南山人壽保險股份有限公司', 'StockholderName': '潤華染織廠股份有限公司                                      ', 'Shares': '185775', 'PledgeShares': '138563', 'PledgeSharesRatio': '74.590000'}\n",
            "{'OccurDate': '2023-04-30', 'OccurSeason': '112年度第2季', 'TransTYpe': '上市', 'UID': '84443471', 'INSURER_Name': '三商美邦人壽保險股份有限公司', 'StockholderName': '商林投資股份有限公司(普通股)\\u3000\\u3000\\u3000\\u3000\\u3000\\u3000\\u3000\\u3000\\u3000\\u3000 ', 'Shares': '189541', 'PledgeShares': '103838', 'PledgeSharesRatio': '54.783965'}\n",
            "{'OccurDate': '2016-01-29', 'OccurSeason': '105年度第1季', 'TransTYpe': '', 'UID': '84446202', 'INSURER_Name': '朝陽人壽保險股份有限公司', 'StockholderName': '長億實業(股)公司', 'Shares': '13450', 'PledgeShares': '13450272', 'PledgeSharesRatio': '100.000000'}\n",
            "{'OccurDate': '2021-08-05', 'OccurSeason': '110年度第3季', 'TransTYpe': '興櫃', 'UID': '84703052', 'INSURER_Name': '遠雄人壽保險事業股份有限公司', 'StockholderName': '趙玉女', 'Shares': '71735', 'PledgeShares': '49500', 'PledgeSharesRatio': '69.000000'}\n",
            "{'OccurDate': '2012-07-23', 'OccurSeason': '101年度第3季', 'TransTYpe': '', 'UID': '84894313', 'INSURER_Name': '宏泰人壽保險股份有限公司', 'StockholderName': '永達保險經紀人股份有限公司', 'Shares': '139300000', 'PledgeShares': '108700000', 'PledgeSharesRatio': '97.400000'}\n"
          ]
        }
      ]
    },
    {
      "cell_type": "markdown",
      "source": [
        "### **L5-4_write_data**"
      ],
      "metadata": {
        "id": "6Eu7rD0Iyyaa"
      }
    },
    {
      "cell_type": "code",
      "source": [
        "import urllib.request as request\n",
        "# import ssl #for Mac\n",
        "import json #json格式\n",
        "# ssl._create_default_https_context = ssl._create_unverified_context #for Mmac\n",
        "\n",
        "src = 'https://maps2.dcgis.dc.gov/dcgis/rest/services/DCGIS_DATA/Business_and_Economic_Development_WebMercator/MapServer/35/query?where=1%3D1&outFields=*&outSR=4326&f=json'\n",
        "\n",
        "with request.urlopen(src) as response:\n",
        "    data = json.load(response) #取得網站的原始碼(HTML, CSS, JavaScript)\n",
        "#print(data)\n",
        "\n",
        "# 取得景點列表\n",
        "name1_list = data['fields']\n",
        "# print(spot_list)\n",
        "# print(type(spot_list))\n",
        "\n",
        "# 如何取得list裡面的每一個物件呢\n",
        "# 寫入檔案\n",
        "with open('3QQQ', 'w', encoding='utf-8') as file:\n",
        "    for x in name1_list:\n",
        "        file.write(x['name']+ '\\n')"
      ],
      "metadata": {
        "id": "dv_0Q0HtcCds"
      },
      "execution_count": null,
      "outputs": []
    },
    {
      "cell_type": "markdown",
      "source": [
        "### **HW_write_data**"
      ],
      "metadata": {
        "id": "scnbEo7CyyiD"
      }
    },
    {
      "cell_type": "code",
      "source": [
        "import urllib.request as request\n",
        "# import ssl #for Mac\n",
        "import json #json格式\n",
        "# ssl._create_default_https_context = ssl._create_unverified_context #for Mmac\n",
        "\n",
        "#網址:https://data.gov.hk/en-data/dataset/hk-td-tis_5-real-time-parking-vacancy-data\n",
        "src = 'https://resource.data.one.gov.hk/td/carpark/basic_info_all.json'\n",
        "\n",
        "with request.urlopen(src) as response:\n",
        "    data = json.load(response) #取得網站的原始碼(HTML, CSS, JavaScript)\n",
        "print(data)\n",
        "\n",
        "# 取得停車場列表\n",
        "park_list = data['car_park']\n",
        "# print(park_list)\n",
        "# print(type(spot_list))\n",
        "# for park in park_list:\n",
        "#     print(park['name_tc'])\n",
        "\n",
        "# # 如何取得list裡面的每一個物件呢\n",
        "# # 寫入檔案\n",
        "with open('rentcarpark.text', 'w', encoding='utf-8') as file:\n",
        "    for park in park_list:\n",
        "        # print(park['name_tc'])\n",
        "        file.write('停車場名稱: '+park['name_tc']+'。'+'地址: '+park['displayAddress_tc']+'\\n')"
      ],
      "metadata": {
        "id": "SC4rHzuEcQKF"
      },
      "execution_count": null,
      "outputs": []
    },
    {
      "cell_type": "markdown",
      "source": [
        "### **L5-1_api**"
      ],
      "metadata": {
        "id": "e0twiE-QyzDF"
      }
    },
    {
      "cell_type": "markdown",
      "source": [
        "## 👉 **課堂L6-Web Crawler**"
      ],
      "metadata": {
        "id": "ynhPzPGA8nm1"
      }
    },
    {
      "cell_type": "markdown",
      "source": [
        "### **L6-1_get_data_fail**"
      ],
      "metadata": {
        "id": "K6Yu-ag-c8or"
      }
    },
    {
      "cell_type": "code",
      "source": [
        "# step 1: 連線到特定網址，抓取資料\n",
        "# 網頁原始碼: https://www.dcard.tw/f\n",
        "#urllib.error.HTTPError: HTTP Error 403: Forbidden\n",
        "\n",
        "import urllib.request as req\n",
        "\n",
        "url = 'https://www.dcard.tw/f'\n",
        "\n",
        "with req.urlopen(url) as response:\n",
        "  data = response.read().decode('utf-8')\n",
        "print(data)\n",
        "\n",
        "#錯1:\n",
        "# urllib.error.HTTPError: HTTP Error 403: Forbidden\n",
        "# 403= 表示伺服器雖然有成功解析請求，但是客戶端沒有存取資源的權限，簡單來說就是不允許我們去訪問資源的意思\n",
        "#DEVELOPR TOOL"
      ],
      "metadata": {
        "colab": {
          "base_uri": "https://localhost:8080/",
          "height": 382
        },
        "id": "buXc8LRAdgEA",
        "outputId": "4ef64aaf-4347-4c61-95a0-0fd95416e4b1"
      },
      "execution_count": null,
      "outputs": [
        {
          "output_type": "error",
          "ename": "HTTPError",
          "evalue": "ignored",
          "traceback": [
            "\u001b[0;31m---------------------------------------------------------------------------\u001b[0m",
            "\u001b[0;31mHTTPError\u001b[0m                                 Traceback (most recent call last)",
            "\u001b[0;32m<ipython-input-1-fc8ee051a67d>\u001b[0m in \u001b[0;36m<cell line: 12>\u001b[0;34m()\u001b[0m\n\u001b[1;32m     10\u001b[0m \u001b[0;31m# view-source: https://www.dcard.tw/f 網頁原始碼\u001b[0m\u001b[0;34m\u001b[0m\u001b[0;34m\u001b[0m\u001b[0m\n\u001b[1;32m     11\u001b[0m \u001b[0;34m\u001b[0m\u001b[0m\n\u001b[0;32m---> 12\u001b[0;31m \u001b[0;32mwith\u001b[0m \u001b[0mreq\u001b[0m\u001b[0;34m.\u001b[0m\u001b[0murlopen\u001b[0m\u001b[0;34m(\u001b[0m\u001b[0murl\u001b[0m\u001b[0;34m)\u001b[0m \u001b[0;32mas\u001b[0m \u001b[0mresponse\u001b[0m\u001b[0;34m:\u001b[0m\u001b[0;34m\u001b[0m\u001b[0;34m\u001b[0m\u001b[0m\n\u001b[0m\u001b[1;32m     13\u001b[0m     \u001b[0mdata\u001b[0m \u001b[0;34m=\u001b[0m \u001b[0mresponse\u001b[0m\u001b[0;34m.\u001b[0m\u001b[0mread\u001b[0m\u001b[0;34m(\u001b[0m\u001b[0;34m)\u001b[0m\u001b[0;34m.\u001b[0m\u001b[0mdecode\u001b[0m\u001b[0;34m(\u001b[0m\u001b[0;34m'utf-8'\u001b[0m\u001b[0;34m)\u001b[0m\u001b[0;34m\u001b[0m\u001b[0;34m\u001b[0m\u001b[0m\n\u001b[1;32m     14\u001b[0m \u001b[0mprint\u001b[0m\u001b[0;34m(\u001b[0m\u001b[0mdata\u001b[0m\u001b[0;34m)\u001b[0m\u001b[0;34m\u001b[0m\u001b[0;34m\u001b[0m\u001b[0m\n",
            "\u001b[0;32m/usr/lib/python3.10/urllib/request.py\u001b[0m in \u001b[0;36murlopen\u001b[0;34m(url, data, timeout, cafile, capath, cadefault, context)\u001b[0m\n\u001b[1;32m    214\u001b[0m     \u001b[0;32melse\u001b[0m\u001b[0;34m:\u001b[0m\u001b[0;34m\u001b[0m\u001b[0;34m\u001b[0m\u001b[0m\n\u001b[1;32m    215\u001b[0m         \u001b[0mopener\u001b[0m \u001b[0;34m=\u001b[0m \u001b[0m_opener\u001b[0m\u001b[0;34m\u001b[0m\u001b[0;34m\u001b[0m\u001b[0m\n\u001b[0;32m--> 216\u001b[0;31m     \u001b[0;32mreturn\u001b[0m \u001b[0mopener\u001b[0m\u001b[0;34m.\u001b[0m\u001b[0mopen\u001b[0m\u001b[0;34m(\u001b[0m\u001b[0murl\u001b[0m\u001b[0;34m,\u001b[0m \u001b[0mdata\u001b[0m\u001b[0;34m,\u001b[0m \u001b[0mtimeout\u001b[0m\u001b[0;34m)\u001b[0m\u001b[0;34m\u001b[0m\u001b[0;34m\u001b[0m\u001b[0m\n\u001b[0m\u001b[1;32m    217\u001b[0m \u001b[0;34m\u001b[0m\u001b[0m\n\u001b[1;32m    218\u001b[0m \u001b[0;32mdef\u001b[0m \u001b[0minstall_opener\u001b[0m\u001b[0;34m(\u001b[0m\u001b[0mopener\u001b[0m\u001b[0;34m)\u001b[0m\u001b[0;34m:\u001b[0m\u001b[0;34m\u001b[0m\u001b[0;34m\u001b[0m\u001b[0m\n",
            "\u001b[0;32m/usr/lib/python3.10/urllib/request.py\u001b[0m in \u001b[0;36mopen\u001b[0;34m(self, fullurl, data, timeout)\u001b[0m\n\u001b[1;32m    523\u001b[0m         \u001b[0;32mfor\u001b[0m \u001b[0mprocessor\u001b[0m \u001b[0;32min\u001b[0m \u001b[0mself\u001b[0m\u001b[0;34m.\u001b[0m\u001b[0mprocess_response\u001b[0m\u001b[0;34m.\u001b[0m\u001b[0mget\u001b[0m\u001b[0;34m(\u001b[0m\u001b[0mprotocol\u001b[0m\u001b[0;34m,\u001b[0m \u001b[0;34m[\u001b[0m\u001b[0;34m]\u001b[0m\u001b[0;34m)\u001b[0m\u001b[0;34m:\u001b[0m\u001b[0;34m\u001b[0m\u001b[0;34m\u001b[0m\u001b[0m\n\u001b[1;32m    524\u001b[0m             \u001b[0mmeth\u001b[0m \u001b[0;34m=\u001b[0m \u001b[0mgetattr\u001b[0m\u001b[0;34m(\u001b[0m\u001b[0mprocessor\u001b[0m\u001b[0;34m,\u001b[0m \u001b[0mmeth_name\u001b[0m\u001b[0;34m)\u001b[0m\u001b[0;34m\u001b[0m\u001b[0;34m\u001b[0m\u001b[0m\n\u001b[0;32m--> 525\u001b[0;31m             \u001b[0mresponse\u001b[0m \u001b[0;34m=\u001b[0m \u001b[0mmeth\u001b[0m\u001b[0;34m(\u001b[0m\u001b[0mreq\u001b[0m\u001b[0;34m,\u001b[0m \u001b[0mresponse\u001b[0m\u001b[0;34m)\u001b[0m\u001b[0;34m\u001b[0m\u001b[0;34m\u001b[0m\u001b[0m\n\u001b[0m\u001b[1;32m    526\u001b[0m \u001b[0;34m\u001b[0m\u001b[0m\n\u001b[1;32m    527\u001b[0m         \u001b[0;32mreturn\u001b[0m \u001b[0mresponse\u001b[0m\u001b[0;34m\u001b[0m\u001b[0;34m\u001b[0m\u001b[0m\n",
            "\u001b[0;32m/usr/lib/python3.10/urllib/request.py\u001b[0m in \u001b[0;36mhttp_response\u001b[0;34m(self, request, response)\u001b[0m\n\u001b[1;32m    632\u001b[0m         \u001b[0;31m# request was successfully received, understood, and accepted.\u001b[0m\u001b[0;34m\u001b[0m\u001b[0;34m\u001b[0m\u001b[0m\n\u001b[1;32m    633\u001b[0m         \u001b[0;32mif\u001b[0m \u001b[0;32mnot\u001b[0m \u001b[0;34m(\u001b[0m\u001b[0;36m200\u001b[0m \u001b[0;34m<=\u001b[0m \u001b[0mcode\u001b[0m \u001b[0;34m<\u001b[0m \u001b[0;36m300\u001b[0m\u001b[0;34m)\u001b[0m\u001b[0;34m:\u001b[0m\u001b[0;34m\u001b[0m\u001b[0;34m\u001b[0m\u001b[0m\n\u001b[0;32m--> 634\u001b[0;31m             response = self.parent.error(\n\u001b[0m\u001b[1;32m    635\u001b[0m                 'http', request, response, code, msg, hdrs)\n\u001b[1;32m    636\u001b[0m \u001b[0;34m\u001b[0m\u001b[0m\n",
            "\u001b[0;32m/usr/lib/python3.10/urllib/request.py\u001b[0m in \u001b[0;36merror\u001b[0;34m(self, proto, *args)\u001b[0m\n\u001b[1;32m    561\u001b[0m         \u001b[0;32mif\u001b[0m \u001b[0mhttp_err\u001b[0m\u001b[0;34m:\u001b[0m\u001b[0;34m\u001b[0m\u001b[0;34m\u001b[0m\u001b[0m\n\u001b[1;32m    562\u001b[0m             \u001b[0margs\u001b[0m \u001b[0;34m=\u001b[0m \u001b[0;34m(\u001b[0m\u001b[0mdict\u001b[0m\u001b[0;34m,\u001b[0m \u001b[0;34m'default'\u001b[0m\u001b[0;34m,\u001b[0m \u001b[0;34m'http_error_default'\u001b[0m\u001b[0;34m)\u001b[0m \u001b[0;34m+\u001b[0m \u001b[0morig_args\u001b[0m\u001b[0;34m\u001b[0m\u001b[0;34m\u001b[0m\u001b[0m\n\u001b[0;32m--> 563\u001b[0;31m             \u001b[0;32mreturn\u001b[0m \u001b[0mself\u001b[0m\u001b[0;34m.\u001b[0m\u001b[0m_call_chain\u001b[0m\u001b[0;34m(\u001b[0m\u001b[0;34m*\u001b[0m\u001b[0margs\u001b[0m\u001b[0;34m)\u001b[0m\u001b[0;34m\u001b[0m\u001b[0;34m\u001b[0m\u001b[0m\n\u001b[0m\u001b[1;32m    564\u001b[0m \u001b[0;34m\u001b[0m\u001b[0m\n\u001b[1;32m    565\u001b[0m \u001b[0;31m# XXX probably also want an abstract factory that knows when it makes\u001b[0m\u001b[0;34m\u001b[0m\u001b[0;34m\u001b[0m\u001b[0m\n",
            "\u001b[0;32m/usr/lib/python3.10/urllib/request.py\u001b[0m in \u001b[0;36m_call_chain\u001b[0;34m(self, chain, kind, meth_name, *args)\u001b[0m\n\u001b[1;32m    494\u001b[0m         \u001b[0;32mfor\u001b[0m \u001b[0mhandler\u001b[0m \u001b[0;32min\u001b[0m \u001b[0mhandlers\u001b[0m\u001b[0;34m:\u001b[0m\u001b[0;34m\u001b[0m\u001b[0;34m\u001b[0m\u001b[0m\n\u001b[1;32m    495\u001b[0m             \u001b[0mfunc\u001b[0m \u001b[0;34m=\u001b[0m \u001b[0mgetattr\u001b[0m\u001b[0;34m(\u001b[0m\u001b[0mhandler\u001b[0m\u001b[0;34m,\u001b[0m \u001b[0mmeth_name\u001b[0m\u001b[0;34m)\u001b[0m\u001b[0;34m\u001b[0m\u001b[0;34m\u001b[0m\u001b[0m\n\u001b[0;32m--> 496\u001b[0;31m             \u001b[0mresult\u001b[0m \u001b[0;34m=\u001b[0m \u001b[0mfunc\u001b[0m\u001b[0;34m(\u001b[0m\u001b[0;34m*\u001b[0m\u001b[0margs\u001b[0m\u001b[0;34m)\u001b[0m\u001b[0;34m\u001b[0m\u001b[0;34m\u001b[0m\u001b[0m\n\u001b[0m\u001b[1;32m    497\u001b[0m             \u001b[0;32mif\u001b[0m \u001b[0mresult\u001b[0m \u001b[0;32mis\u001b[0m \u001b[0;32mnot\u001b[0m \u001b[0;32mNone\u001b[0m\u001b[0;34m:\u001b[0m\u001b[0;34m\u001b[0m\u001b[0;34m\u001b[0m\u001b[0m\n\u001b[1;32m    498\u001b[0m                 \u001b[0;32mreturn\u001b[0m \u001b[0mresult\u001b[0m\u001b[0;34m\u001b[0m\u001b[0;34m\u001b[0m\u001b[0m\n",
            "\u001b[0;32m/usr/lib/python3.10/urllib/request.py\u001b[0m in \u001b[0;36mhttp_error_default\u001b[0;34m(self, req, fp, code, msg, hdrs)\u001b[0m\n\u001b[1;32m    641\u001b[0m \u001b[0;32mclass\u001b[0m \u001b[0mHTTPDefaultErrorHandler\u001b[0m\u001b[0;34m(\u001b[0m\u001b[0mBaseHandler\u001b[0m\u001b[0;34m)\u001b[0m\u001b[0;34m:\u001b[0m\u001b[0;34m\u001b[0m\u001b[0;34m\u001b[0m\u001b[0m\n\u001b[1;32m    642\u001b[0m     \u001b[0;32mdef\u001b[0m \u001b[0mhttp_error_default\u001b[0m\u001b[0;34m(\u001b[0m\u001b[0mself\u001b[0m\u001b[0;34m,\u001b[0m \u001b[0mreq\u001b[0m\u001b[0;34m,\u001b[0m \u001b[0mfp\u001b[0m\u001b[0;34m,\u001b[0m \u001b[0mcode\u001b[0m\u001b[0;34m,\u001b[0m \u001b[0mmsg\u001b[0m\u001b[0;34m,\u001b[0m \u001b[0mhdrs\u001b[0m\u001b[0;34m)\u001b[0m\u001b[0;34m:\u001b[0m\u001b[0;34m\u001b[0m\u001b[0;34m\u001b[0m\u001b[0m\n\u001b[0;32m--> 643\u001b[0;31m         \u001b[0;32mraise\u001b[0m \u001b[0mHTTPError\u001b[0m\u001b[0;34m(\u001b[0m\u001b[0mreq\u001b[0m\u001b[0;34m.\u001b[0m\u001b[0mfull_url\u001b[0m\u001b[0;34m,\u001b[0m \u001b[0mcode\u001b[0m\u001b[0;34m,\u001b[0m \u001b[0mmsg\u001b[0m\u001b[0;34m,\u001b[0m \u001b[0mhdrs\u001b[0m\u001b[0;34m,\u001b[0m \u001b[0mfp\u001b[0m\u001b[0;34m)\u001b[0m\u001b[0;34m\u001b[0m\u001b[0;34m\u001b[0m\u001b[0m\n\u001b[0m\u001b[1;32m    644\u001b[0m \u001b[0;34m\u001b[0m\u001b[0m\n\u001b[1;32m    645\u001b[0m \u001b[0;32mclass\u001b[0m \u001b[0mHTTPRedirectHandler\u001b[0m\u001b[0;34m(\u001b[0m\u001b[0mBaseHandler\u001b[0m\u001b[0;34m)\u001b[0m\u001b[0;34m:\u001b[0m\u001b[0;34m\u001b[0m\u001b[0;34m\u001b[0m\u001b[0m\n",
            "\u001b[0;31mHTTPError\u001b[0m: HTTP Error 403: Forbidden"
          ]
        }
      ]
    },
    {
      "cell_type": "code",
      "source": [
        "#【1.打開dcard】\n",
        "#旅遊版 https://www.dcard.tw/service/api/v2/forums/travel/posts?popular=true&limit=30&before=242463575\n",
        "\n",
        "import requests\n",
        "import json\n",
        "from bs4 import BeautifulSoup\n",
        "\n",
        "r1=requests.get('https://www.dcard.tw/service/api/v2/forums/travel/posts',headers={\n",
        "  'User-Agent':'Mozilla/5.0 (Windows NT 10.0; Win64; x64) AppleWebKit/537.36 (KHTML, like Gecko) Chrome/113.0.0.0 Safari/537.36',\n",
        "  'Cookie':'_gcl_au=1.1.128993899.1678797319; _fbp=fb.1.1678797322629.1791463607; ab.storage.deviceId.a9882122-ac6c-486a-bc3b-fab39ef624c5=%7B%22g%22%3A%22e2d60641-4696-bb52-1703-2f667d422c59%22%2C%22c%22%3A1678797334771%2C%22l%22%3A1678797334771%7D; __htid=0b6875d7-401a-4a93-a919-433cf2c197b7; _ga_C3J49QFLW7=GS1.1.1681312997.12.1.1681313767.0.0.0; _gid=GA1.2.275751464.1685964386; _cfuvid=0oC9NQuY2NKzPfnqZw1YbirjXZB9LM5D9qKT.bMN1hE-1685970584227-0-604800000; dcsrd=qPyJSyZiBKDrAcoKiNOVe5Bh; cf_clearance=kQ7QOfKyq6jXZ_CsSWXsVEmLPAaotEGOkvStlx0OIok-1686041577-0-250; dcard-web-oauth-tk=eyJhY2Nlc3NUb2tlbiI6ImV5SmhiR2NpT2lKRlpFUlRRU0lzSW10cFpDSTZJbEpMTFVoZlRUUm9VVkpET1dzeFUxcEdZMEZ1UkRBMVZreFljV1JZUm1kUVZYQXdWbGx0YjJ4eWFqZzlJbjAuZXlKaGNIQWlPaUpqTW1VM05qTTVOUzB6T0dFeExUUTRaamN0WVRsbE1DMWhaamN6TldJNFpqZGpOREVpTENKbGVIQWlPakUyT0RZd05ESTFNRE1zSW1saGRDSTZNVFk0TmpBME1UWXdNeXdpYVhKMElqb2lZV1EwWm1Sak5Ua3RZVEV4WlMwME5UTmxMVGcwTTJRdE5EQTRZamczTnpabFpUVmxJaXdpYVhOeklqb2laR05oY21RaUxDSnFkR2tpT2lKbFpXRmxaV1kxWkMwNE9HRXdMVFJsWTJZdE9UWTBZUzA1TVdNeE9EWTVORFJpTXpFaUxDSnpZMjl3WlhNaU9sc2ljR1Z5YzI5dVlUcHpkV0p6WTNKcFltVWlMQ0pqYjJ4c1pXTjBhVzl1T25keWFYUmxJaXdpYldWdFltVnlPbmR5YVhSbElpd2labUZqWldKdmIyc2lMQ0p0WlcxaVpYSWlMQ0p1YjNScFptbGpZWFJwYjI0aUxDSndhRzl1WlNJc0luQm9iMjVsT25aaGJHbGtZWFJsSWl3aWFXUmpZWEprSWl3aVpHVjJhV05sT25keWFYUmxJaXdpWlcxaGFXd2lMQ0psYldGcGJEcDNjbWwwWlNJc0luQmxjbk52Ym1FNmQzSnBkR1VpTENKd2IzTjBPbk4xWW5OamNtbGlaU0lzSW1SbGRtbGpaU0lzSW1admNuVnRPbk4xWW5OamNtbGlaU0lzSW1admNuVnRJaXdpWm5KcFpXNWtPbmR5YVhSbElpd2liV1Z6YzJGblpTSXNJbkJvYjI1bE9uZHlhWFJsSWl3aWNHVnljMjl1WVNJc0luQnZjM1FpTENKMGIydGxianB5WlhadmEyVWlMQ0ptY21sbGJtUWlMQ0pqYjI1bWFXY2lMQ0p3YUc5MGJ5SXNJbTFsYzNOaFoyVTZkM0pwZEdVaUxDSmpiMjVtYVdjNmQzSnBkR1VpTENKamIyeHNaV04wYVc5dUlpd2lkRzl3YVdNaUxDSjBiM0JwWXpwemRXSnpZM0pwWW1VaUxDSm1aV1ZrT25OMVluTmpjbWxpWlNJc0lteHZaMmx1Vm1WeWFXWnBZMkYwYVc5dUlpd2liRzluYVc1V1pYSnBabWxqWVhScGIyNDZkbVZ5YVdaNUlpd2ljRzlzYkRwM2NtbDBaU0lzSW0xbGMzTmhaMlU2Y0hKcGRtRjBaU0lzSW1sa1pXNTBhWFI1T25aaGJHbGtZWFJsWkNJc0lteHBhMlVpTENKeVpXRmpkR2x2YmlJc0luQnZjM1E2ZDNKcGRHVWlMQ0pqYjIxdFpXNTBPbmR5YVhSbElpd2ljbVZ3YjNKMElpd2liV0YwWTJnaUxDSnRZWFJqYURwM2NtbDBaU0lzSW1SdmQyNTJiM1JsSWwwc0luTnBaQ0k2SWpNNVpETmxaVGhsTFRRNFpXVXROR1JqTVMxaU1HSTNMVFprTWpsaU5XWmpOR1k0TkNJc0luTjFZaUk2SWprM09ERXdNeUo5LkpqSzBLTDhVbkl6WDdQUmlQOGw2UUhlYWUwTXA4MGRVenI4YkFZYWxxelg2U1JMUHpuVmJMYm0wR1k5TXYtY1NqSklHaDJ1Ykx5akVjOG5oeEVtTEFnIiwidG9rZW5UeXBlIjoiQmVhcmVyIiwicmVmcmVzaFRva2VuIjoiMm9LelJTcS9Ra0tvYTlyejdJcG0yQT09IiwiZXhwaXJlc0F0IjoiMjAyMy0wNi0wNlQwOTowODoyMy4wMDBaIn0=; dcard-web-oauth-tk.sig=DK2ZI-Opm8Nyy9qkPcS4BmpLsE4; __gads=ID=a819be4c525a07d0:T=1678797322:RT=1686041659:S=ALNI_Mb45qtlaC_DMhwjXOm2MMOEojwG2w; __gpi=UID=00000bd96fe5c6b9:T=1678797322:RT=1686041659:S=ALNI_Maryxp0Y4fwBbcogmpMYh4vdJGhYQ; _ga=GA1.1.867427755.1678797321; __cf_bm=ylZzvgEBdlnqsiJKKxYxz7LW0MRHxijjPjyj3.J8K5I-1686041725-0-AVg6dw4g0fQNd3GCW8iVWnqFc8E7Ld4X1y0KSXFWXXOajdm3kWCG8mUwyBr+KIlRgrW+FeoOH15ycSx9CJmAkhw=; cto_bundle=o3YjZl9FVDNlJTJGYmkzdEszRWh0eFZ6M0ZkeXhzamZkaSUyQnZndk9vYW1qTElIU2VobFZuSGo1elZhNXV4bmolMkZwbWVueHJPdUJzRG9wZEclMkJDT2hqTmdiaG9INml3V2dYU0QwJTJGNm1ENGtVNVlKVkRKbGNDJTJGaENFQ3d6NzRjc0d2NFNqS2VTTkxGbWdnNTRxa1IlMkJDNVBjNldCSVdydyUzRCUzRA; _ga_DSM1GSYX4C=GS1.1.1686041652.23.1.1686041990.0.0.0',\n",
        "  'Referer':'https://www.dcard.tw/f/travel'\n",
        "},params={\n",
        "    'popular':'true',\n",
        "    'limit':'30',\n",
        "    'before':'242463575'\n",
        "},data={\n",
        "    'limit':'30',\n",
        "    'query':'旅遊',\n",
        "    'country':'TW'\n",
        "})\n",
        "print(r1.text)"
      ],
      "metadata": {
        "colab": {
          "base_uri": "https://localhost:8080/"
        },
        "id": "3ajUf02hqRbe",
        "outputId": "d8c87353-eb9a-4741-d0c6-a76e010a6132"
      },
      "execution_count": null,
      "outputs": [
        {
          "output_type": "stream",
          "name": "stdout",
          "text": [
            "<!DOCTYPE html>\n",
            "<html>\n",
            "  <head>\n",
            "    <meta http-equiv=\"Content-Type\" content=\"text/html; charset=UTF-8\" />\n",
            "    <meta http-equiv=\"X-UA-Compatible\" content=\"IE=Edge\" />\n",
            "    <meta name=\"robots\" content=\"noindex,nofollow\" />\n",
            "    <meta name=\"viewport\" content=\"width=device-width,initial-scale=1\" />\n",
            "    <title>Dcard 無法正常載入</title>\n",
            "    <style>*{box-sizing:border-box}a,body,div,h1,h2,html,p,pre,span{color:#000;margin:0;padding:0}body{background-color:#00324e;font-family:Roboto,Helvetica Neue,Helvetica,Arial,PingFang TC,黑體-繁,Heiti TC,蘋果儷中黑,Apple LiGothic Medium,微軟正黑體,Microsoft JhengHei,sans-serif}@media (max-width:798px){body{background-color:#fff}}.dcard_nav{align-items:center;background-color:#006aa6;display:flex;height:48px}.dcard_logo{height:28px;margin-left:124px;width:74px}@media (max-width:798px){.dcard_logo{margin-left:16px}}h1{font-size:28px;line-height:40px;margin:10px 0}h1,h2{font-weight:500}h2{font-size:24px;line-height:33px;margin:8px 0}p,pre{color:rgba(0,0,0,.75);font-size:14px;font-weight:400;line-height:20px}pre{margin:8px 0;white-space:pre-wrap;white-space:break-spaces;word-break:break-word}main{background-color:#fff;border-radius:4px;display:block;margin:24px 124px;padding:24px}@media (max-width:798px){main{margin:0;padding:0 16px}h1{font-size:24px;line-height:42px}h2{font-size:20px;line-height:33px}}a{background-color:transparent;color:#3397cf;text-decoration:none}:focus{outline:0}.dcard_cf_error_container{background-color:#eee;border-radius:5px;color:#000;display:block;font-family:monospace;font-size:14px;line-height:20px;padding:8px}.dcard_cf_error_container *{font-size:14px!important;line-height:20px!important;list-style-type:none;margin:0;padding:0}</style>\n",
            "  </head>\n",
            "\n",
            "  <body>\n",
            "    <nav class=\"dcard_nav\">\n",
            "      <svg\n",
            "        class=\"dcard_logo\"\n",
            "        xmlns=\"http://www.w3.org/2000/svg\"\n",
            "        xmlns:xlink=\"http://www.w3.org/1999/xlink\"\n",
            "        viewBox=\"0 0 723 272\">\n",
            "        <defs>\n",
            "          <path id=\"a\" d=\"M216 270H0V0h216z\" />\n",
            "          <path id=\"c\" d=\"M108.312 207.975v-207h-108v207z\" />\n",
            "        </defs>\n",
            "        <g fill=\"none\" fill-rule=\"evenodd\">\n",
            "          <path\n",
            "            d=\"M146.313 104.458c-12.424 0-22.5 10.072-22.5 22.491 0 12.42 10.075 22.492 22.5 22.492 12.424 0 22.5-10.072 22.5-22.492 0-12.419-10.076-22.491-22.5-22.491\"\n",
            "            fill=\"#fff\" />\n",
            "          <g transform=\"translate(1 1)\">\n",
            "            <mask id=\"b\" fill=\"#fff\">\n",
            "              <use xlink:href=\"#a\" />\n",
            "            </mask>\n",
            "            <path\n",
            "              d=\"M189 162.025c0 2.805-.145 5.572-.423 8.303-2.943 2.088-6.494 3.371-10.378 3.371-1.461 0-2.861-.227-4.224-.554a49.594 49.594 0 0 1-19.755-11.974l-19.107 19.107c11.484 11.407 26.595 19.11 43.42 21.423-13.91 24.617-40.289 41.3-70.533 41.3H27V133.216c55.35-7.376 103.576-37.152 135.409-79.86 7.025 4.872 12.911 10.497 17.028 16.523A80.394 80.394 0 0 1 189 107.972v54.053zM108 0H0v270h108c59.647 0 108-48.349 108-107.975v-54.053C216 48.342 167.661 0 108 0z\"\n",
            "              fill=\"#FFF\"\n",
            "              mask=\"url(#b)\" />\n",
            "          </g>\n",
            "          <path\n",
            "            d=\"M281.2 180.95c0-11.155 6.857-18.004 26.98-18.004 13.413 0 26.902 0 44.966 9.003v-.004s.143-26.99 0-26.99c-14.745-8.997-35.982-9.01-54.037-9.01-31.476 0-44.89 18.002-44.89 40.5-.022 26.974 0 27.002 0 27.002s-.022-.078 0 27c0 22.5 13.414 40.498 44.89 40.498 18.055 0 39.292-.013 54.037-9.004.143 0 0-26.995 0-26.995v-.005c-18.064 9.004-31.553 9.004-44.967 9.004-20.122 0-26.98-6.843-26.98-18.005V180.95zM461.313 243.947h-36s-15.832.413-15.75-13.5c-.082-13.915 15.998-18.08 51.75-18v31.5zm-18-108c-18.063 0-39.316.014-54.077 9.005-.144 0 0 26.995 0 26.995v.005c18.077-9.006 31.577-9.006 45-9.006 20.137 0 27.077 6.85 27.077 18.004v8.996c-42.98-.058-81 9.001-81 40.5 0 31.5 18 40.501 45 40.501h63v-67.5l-.077-27c0-22.5-13.423-40.5-44.923-40.5zM517.568 158.446v22.5h-.005v90.001h27v-90h-.043v-4.509c0-14.725 44.93-17.992 44.93-17.992s.254-22.499 0-22.499c-58.388 0-71.882 22.5-71.882 22.5\"\n",
            "            fill=\"#FFF\" />\n",
            "          <g transform=\"translate(614 63)\">\n",
            "            <mask id=\"d\" fill=\"#fff\">\n",
            "              <use xlink:href=\"#c\" />\n",
            "            </mask>\n",
            "            <path\n",
            "              d=\"M81.313 180.884h-27s-27 .916-27-26.981c0-27.896-1.328-46.647 10.584-54.924 11.916-8.275 43.416.944 43.416.944v80.96zm0-179.908h-9c8.814 28.555 8.995 74.544 9 76.402-1.63-.527-14.486-4.44-36-4.44-14.978 0-44.857.71-45 44.976 0 0 .018 13.633 0 22.49.03 2.443.053 2.76.072 2.16.048-11.44.048-1.76 0 0-.019 3.916-.041 10.27-.073 20.329.145 49.473 45 44.976 45 44.976h63V.976h-27z\"\n",
            "              fill=\"#FFF\"\n",
            "              mask=\"url(#d)\" />\n",
            "          </g>\n",
            "        </g>\n",
            "      </svg>\n",
            "    </nav>\n",
            "    <main>\n",
            "      <h1>Dcard 無法正常載入</h1>\n",
            "      <h2>發生了一點問題，請稍後再試</h2>\n",
            "      <hr />\n",
            "      <pre>Dcard 在某些情況下會需要驗證請求是真實的人類，而非機器人。\n",
            "\n",
            "如果您符合以下行為，這可能是正常的現象：\n",
            "1. 您操作的頻率過快\n",
            "2. 您的瀏覽器版本過老舊或安裝的擴充程式異常\n",
            "3. 您使用公共網路或受監控的網路環境\n",
            "4. 您使用 VPN 或 Proxy 服務\n",
            "5. 您使用的網路曾經有異常行為</pre\n",
            "      >\n",
            "      <div class=\"dcard_cf_error_container\"><div class=\"cf-error-details cf-error-1020\">\n",
            "  <h1>Access denied</h1>\n",
            "  <p>You do not have access to www.dcard.tw.</p><p>The site owner may have set restrictions that prevent you from accessing the site.</p>\n",
            "  <ul class=\"cferror_details\">\n",
            "    <li>Ray ID: 7d2f86a089b50813</li>\n",
            "    <li>Timestamp: 2023-06-06 09:11:05 UTC</li>\n",
            "    <li>Your IP address: 34.86.93.147</li>\n",
            "    <li class=\"XXX_no_wrap_overflow_hidden\">Requested URL: www.dcard.tw/service/api/v2/forums/travel/posts?popular=true&amp;limit=30&amp;before=242463575 </li>\n",
            "    <li>Error reference number: 1020</li>\n",
            "    <li>Server ID: FL_626F167</li>\n",
            "    <li>User-Agent: Mozilla/5.0 (Windows NT 10.0; Win64; x64) AppleWebKit/537.36 (KHTML, like Gecko) Chrome/113.0.0.0 Safari/537.36</li>\n",
            "  </ul>\n",
            "</div>\n",
            "</div>\n",
            "    </main>\n",
            "  <script>(function(){var js = \"window['__CF$cv$params']={r:'7d2f86a089b50813',m:'CXdZVj5QdcdZ9GotvCOGp1MWGtPEG_Y_oczz3Ojzo7o-1686042665-0-ASGJ2muJlcceK5QMyO9hOhslUeAMpeqRjoJbHDLA0u60',u:'/cdn-cgi/challenge-platform/h/g'};_cpo=document.createElement('script');_cpo.nonce='',_cpo.src='/cdn-cgi/challenge-platform/scripts/invisible.js',document.getElementsByTagName('head')[0].appendChild(_cpo);\";var _0xh = document.createElement('iframe');_0xh.height = 1;_0xh.width = 1;_0xh.style.position = 'absolute';_0xh.style.top = 0;_0xh.style.left = 0;_0xh.style.border = 'none';_0xh.style.visibility = 'hidden';document.body.appendChild(_0xh);function handler() {var _0xi = _0xh.contentDocument || _0xh.contentWindow.document;if (_0xi) {var _0xj = _0xi.createElement('script');_0xj.nonce = '';_0xj.innerHTML = js;_0xi.getElementsByTagName('head')[0].appendChild(_0xj);}}if (document.readyState !== 'loading') {handler();} else if (window.addEventListener) {document.addEventListener('DOMContentLoaded', handler);} else {var prev = document.onreadystatechange || function () {};document.onreadystatechange = function (e) {prev(e);if (document.readyState !== 'loading') {document.onreadystatechange = prev;handler();}};}})();</script></body>\n",
            "</html>\n",
            "\n"
          ]
        }
      ]
    },
    {
      "cell_type": "code",
      "source": [
        "#https://www.dcard.tw/f?latest=false\n",
        "\n",
        "import requests\n",
        "from bs4 import BeautifulSoup\n",
        "url = 'https://www.dcard.tw/f'\n",
        "response= requests.get(url)\n",
        "b1=BeautifulSoup(response.text,'lxml')\n",
        "p1=b1.find_all('h2',{'class':'atm_d2_1cy2u2k'})\n",
        "print(p1)\n",
        "# p1.find_all('span',{'class':'atm_cs_1urozh'})\n"
      ],
      "metadata": {
        "colab": {
          "base_uri": "https://localhost:8080/"
        },
        "id": "5OXiftGe_Gkf",
        "outputId": "adfa7e99-ee9f-4654-f899-74ca1d9c0c42"
      },
      "execution_count": null,
      "outputs": [
        {
          "output_type": "stream",
          "name": "stdout",
          "text": [
            "[]\n"
          ]
        }
      ]
    },
    {
      "cell_type": "markdown",
      "source": [
        "### **L6-2_get_data**"
      ],
      "metadata": {
        "id": "Qv3m4IEvdAwN"
      }
    },
    {
      "cell_type": "code",
      "source": [
        "# 如何模擬真正的使用者\n",
        "\n",
        "import urllib.request as req\n",
        "# User-Agent: Mozilla/5.0 (Windows NT 10.0; Win64; x64) AppleWebKit/537.36 (KHTML, like Gecko) Chrome/86.0.4240.183 Safari/537.36\n",
        "\n",
        "\n",
        "url = 'https://www.dcard.tw/f'\n",
        "\n",
        "\n",
        "# 建立request物件與header資訊\n",
        "request = req.Request(url, headers={\n",
        "    'user-Agent':'Mozilla/5.0 (Windows NT 10.0; Win64; x64) AppleWebKit/537.36 (KHTML, like Gecko) Chrome/86.0.4240.183 Safari/537.36',\n",
        "    'Referer':'https://www.dcard.tw/f',\n",
        "    'Cookie':'gcl_au=1.1.128993899.1678797319; _fbp=fb.1.1678797322629.1791463607; ab.storage.deviceId.a9882122-ac6c-486a-bc3b-fab39ef624c5=%7B%22g%22%3A%22e2d60641-4696-bb52-1703-2f667d422c59%22%2C%22c%22%3A1678797334771%2C%22l%22%3A1678797334771%7D; __htid=0b6875d7-401a-4a93-a919-433cf2c197b7; _ga_C3J49QFLW7=GS1.1.1681312997.12.1.1681313767.0.0.0; _gid=GA1.2.275751464.1685964386; cto_bundle=q46Nhl9FVDNlJTJGYmkzdEszRWh0eFZ6M0ZkeXdFN1d6aWdrd1c2MW15b1hSSEdoa0lUdjJZMEhhZmFwU3ZHUzVSSVB0MzdvZWJvRlZWJTJGekwzWFNtdVdOY2FieHMzQld3WVFZZ0VEYVBrSkhKSk5acHNuTDF3Q1BYJTJCd0J4aUdYQWMzREkyTnJwWVpQdmRNbiUyRnk5bHlpSVdSTWdWdyUzRCUzRA; cf_clearance=FQWyEMHZK3Fjp8XVRjYf8uMzcfSxV1UAonf0PqVC1b4-1685970572-0-250; dcard-web-oauth-tk=eyJhY2Nlc3NUb2tlbiI6ImV5SmhiR2NpT2lKRlpFUlRRU0lzSW10cFpDSTZJbEpMTFVoZlRUUm9VVkpET1dzeFUxcEdZMEZ1UkRBMVZreFljV1JZUm1kUVZYQXdWbGx0YjJ4eWFqZzlJbjAuZXlKaGNIQWlPaUpqTW1VM05qTTVOUzB6T0dFeExUUTRaamN0WVRsbE1DMWhaamN6TldJNFpqZGpOREVpTENKbGVIQWlPakUyT0RVNU56RTBPRFFzSW1saGRDSTZNVFk0TlRrM01EVTROQ3dpYVhKMElqb2lZemt3WVdFMlpqY3RaRFUyTVMwME1HTXlMV0k1WWpJdE1UQXpZelF3TVRBMFltTTNJaXdpYVhOeklqb2laR05oY21RaUxDSnFkR2tpT2lKbE5EVTBabU5oWlMwMFpUVTRMVFE1WVRndFlqZzBZeTB5TkRVME1XRm1NelprTmpRaUxDSnpZMjl3WlhNaU9sc2ljR1Z5YzI5dVlUcHpkV0p6WTNKcFltVWlMQ0pqYjJ4c1pXTjBhVzl1T25keWFYUmxJaXdpYldWdFltVnlPbmR5YVhSbElpd2labUZqWldKdmIyc2lMQ0p0WlcxaVpYSWlMQ0p1YjNScFptbGpZWFJwYjI0aUxDSndhRzl1WlNJc0luQm9iMjVsT25aaGJHbGtZWFJsSWl3aWFXUmpZWEprSWl3aVpHVjJhV05sT25keWFYUmxJaXdpWlcxaGFXd2lMQ0psYldGcGJEcDNjbWwwWlNJc0luQmxjbk52Ym1FNmQzSnBkR1VpTENKd2IzTjBPbk4xWW5OamNtbGlaU0lzSW1SbGRtbGpaU0lzSW1admNuVnRPbk4xWW5OamNtbGlaU0lzSW1admNuVnRJaXdpWm5KcFpXNWtPbmR5YVhSbElpd2liV1Z6YzJGblpTSXNJbkJvYjI1bE9uZHlhWFJsSWl3aWNHVnljMjl1WVNJc0luQnZjM1FpTENKMGIydGxianB5WlhadmEyVWlMQ0ptY21sbGJtUWlMQ0pqYjI1bWFXY2lMQ0p3YUc5MGJ5SXNJbTFsYzNOaFoyVTZkM0pwZEdVaUxDSmpiMjVtYVdjNmQzSnBkR1VpTENKamIyeHNaV04wYVc5dUlpd2lkRzl3YVdNaUxDSjBiM0JwWXpwemRXSnpZM0pwWW1VaUxDSm1aV1ZrT25OMVluTmpjbWxpWlNJc0lteHZaMmx1Vm1WeWFXWnBZMkYwYVc5dUlpd2liRzluYVc1V1pYSnBabWxqWVhScGIyNDZkbVZ5YVdaNUlpd2ljRzlzYkRwM2NtbDBaU0lzSW0xbGMzTmhaMlU2Y0hKcGRtRjBaU0lzSW1sa1pXNTBhWFI1T25aaGJHbGtZWFJsWkNJc0lteHBhMlVpTENKeVpXRmpkR2x2YmlJc0luQnZjM1E2ZDNKcGRHVWlMQ0pqYjIxdFpXNTBPbmR5YVhSbElpd2ljbVZ3YjNKMElpd2liV0YwWTJnaUxDSnRZWFJqYURwM2NtbDBaU0lzSW1SdmQyNTJiM1JsSWwwc0luTnBaQ0k2SWprM1pUZ3hPR1F4TFRFM1ltTXROREV5WXkwNFpESTBMVFEwWVRsbU1XUmlZek00T0NJc0luTjFZaUk2SWprM09ERXdNeUo5LjE0TEpmVzgzMlRXMkIyc1ZKMkI3V1ZTOHZfRExIX3VWTXotTndWbVpHZkthNGllQW1semFMVWVWQ3d6M3RXcjZvTUlyWXVVWEU4dDBWYkt4RXBraUN3IiwidG9rZW5UeXBlIjoiQmVhcmVyIiwicmVmcmVzaFRva2VuIjoib1Z2S1lSb2NSTmlJQm9NQVh5Si9xQT09IiwiZXhwaXJlc0F0IjoiMjAyMy0wNi0wNVQxMzoyNDo0NC4wMDBaIn0=; dcard-web-oauth-tk.sig=f8E9xgFxD0uUz_E1QaQqR1lcp9U; _cfuvid=0oC9NQuY2NKzPfnqZw1YbirjXZB9LM5D9qKT.bMN1hE-1685970584227-0-604800000; _ga=GA1.2.867427755.1678797321; __gads=ID=a819be4c525a07d0:T=1678797322:RT=1685970593:S=ALNI_Mb45qtlaC_DMhwjXOm2MMOEojwG2w; __gpi=UID=00000bd96fe5c6b9:T=1678797322:RT=1685970593:S=ALNI_Maryxp0Y4fwBbcogmpMYh4vdJGhYQ; __cf_bm=x7BodNv.6VVHjKm526Jtkz6NcpFom70MtQ.LRY5fFg4-1685970601-0-AQ0weVOVSKuz8LwkBrmrnNHvvPP2ROQmi7BGVkrXvvs58g/OoTz0qfA613kyJUjYYCqm4WZDVTWDBgtR9xJ+DwM=; _ga_DSM1GSYX4C=GS1.1.1685969929.21.1.1685970668.0.0.0'\n",
        "})\n",
        "\n",
        "with req.urlopen(request) as response:\n",
        "    data = response.read().decode('utf-8')\n",
        "print(data)\n",
        "\n",
        "# 使用BeautifulSoup Module來抓取資料\n",
        "# pip3 install beautifulSoup4"
      ],
      "metadata": {
        "colab": {
          "base_uri": "https://localhost:8080/",
          "height": 382
        },
        "id": "kJsRl9e5d9P6",
        "outputId": "b3e0aa42-9093-4441-f88e-685b16c86bc7"
      },
      "execution_count": null,
      "outputs": [
        {
          "output_type": "error",
          "ename": "HTTPError",
          "evalue": "ignored",
          "traceback": [
            "\u001b[0;31m---------------------------------------------------------------------------\u001b[0m",
            "\u001b[0;31mHTTPError\u001b[0m                                 Traceback (most recent call last)",
            "\u001b[0;32m<ipython-input-4-8e60a5b499d6>\u001b[0m in \u001b[0;36m<cell line: 17>\u001b[0;34m()\u001b[0m\n\u001b[1;32m     15\u001b[0m })\n\u001b[1;32m     16\u001b[0m \u001b[0;34m\u001b[0m\u001b[0m\n\u001b[0;32m---> 17\u001b[0;31m \u001b[0;32mwith\u001b[0m \u001b[0mreq\u001b[0m\u001b[0;34m.\u001b[0m\u001b[0murlopen\u001b[0m\u001b[0;34m(\u001b[0m\u001b[0mrequest\u001b[0m\u001b[0;34m)\u001b[0m \u001b[0;32mas\u001b[0m \u001b[0mresponse\u001b[0m\u001b[0;34m:\u001b[0m\u001b[0;34m\u001b[0m\u001b[0;34m\u001b[0m\u001b[0m\n\u001b[0m\u001b[1;32m     18\u001b[0m     \u001b[0mdata\u001b[0m \u001b[0;34m=\u001b[0m \u001b[0mresponse\u001b[0m\u001b[0;34m.\u001b[0m\u001b[0mread\u001b[0m\u001b[0;34m(\u001b[0m\u001b[0;34m)\u001b[0m\u001b[0;34m.\u001b[0m\u001b[0mdecode\u001b[0m\u001b[0;34m(\u001b[0m\u001b[0;34m'utf-8'\u001b[0m\u001b[0;34m)\u001b[0m\u001b[0;34m\u001b[0m\u001b[0;34m\u001b[0m\u001b[0m\n\u001b[1;32m     19\u001b[0m \u001b[0mprint\u001b[0m\u001b[0;34m(\u001b[0m\u001b[0mdata\u001b[0m\u001b[0;34m)\u001b[0m\u001b[0;34m\u001b[0m\u001b[0;34m\u001b[0m\u001b[0m\n",
            "\u001b[0;32m/usr/lib/python3.10/urllib/request.py\u001b[0m in \u001b[0;36murlopen\u001b[0;34m(url, data, timeout, cafile, capath, cadefault, context)\u001b[0m\n\u001b[1;32m    214\u001b[0m     \u001b[0;32melse\u001b[0m\u001b[0;34m:\u001b[0m\u001b[0;34m\u001b[0m\u001b[0;34m\u001b[0m\u001b[0m\n\u001b[1;32m    215\u001b[0m         \u001b[0mopener\u001b[0m \u001b[0;34m=\u001b[0m \u001b[0m_opener\u001b[0m\u001b[0;34m\u001b[0m\u001b[0;34m\u001b[0m\u001b[0m\n\u001b[0;32m--> 216\u001b[0;31m     \u001b[0;32mreturn\u001b[0m \u001b[0mopener\u001b[0m\u001b[0;34m.\u001b[0m\u001b[0mopen\u001b[0m\u001b[0;34m(\u001b[0m\u001b[0murl\u001b[0m\u001b[0;34m,\u001b[0m \u001b[0mdata\u001b[0m\u001b[0;34m,\u001b[0m \u001b[0mtimeout\u001b[0m\u001b[0;34m)\u001b[0m\u001b[0;34m\u001b[0m\u001b[0;34m\u001b[0m\u001b[0m\n\u001b[0m\u001b[1;32m    217\u001b[0m \u001b[0;34m\u001b[0m\u001b[0m\n\u001b[1;32m    218\u001b[0m \u001b[0;32mdef\u001b[0m \u001b[0minstall_opener\u001b[0m\u001b[0;34m(\u001b[0m\u001b[0mopener\u001b[0m\u001b[0;34m)\u001b[0m\u001b[0;34m:\u001b[0m\u001b[0;34m\u001b[0m\u001b[0;34m\u001b[0m\u001b[0m\n",
            "\u001b[0;32m/usr/lib/python3.10/urllib/request.py\u001b[0m in \u001b[0;36mopen\u001b[0;34m(self, fullurl, data, timeout)\u001b[0m\n\u001b[1;32m    523\u001b[0m         \u001b[0;32mfor\u001b[0m \u001b[0mprocessor\u001b[0m \u001b[0;32min\u001b[0m \u001b[0mself\u001b[0m\u001b[0;34m.\u001b[0m\u001b[0mprocess_response\u001b[0m\u001b[0;34m.\u001b[0m\u001b[0mget\u001b[0m\u001b[0;34m(\u001b[0m\u001b[0mprotocol\u001b[0m\u001b[0;34m,\u001b[0m \u001b[0;34m[\u001b[0m\u001b[0;34m]\u001b[0m\u001b[0;34m)\u001b[0m\u001b[0;34m:\u001b[0m\u001b[0;34m\u001b[0m\u001b[0;34m\u001b[0m\u001b[0m\n\u001b[1;32m    524\u001b[0m             \u001b[0mmeth\u001b[0m \u001b[0;34m=\u001b[0m \u001b[0mgetattr\u001b[0m\u001b[0;34m(\u001b[0m\u001b[0mprocessor\u001b[0m\u001b[0;34m,\u001b[0m \u001b[0mmeth_name\u001b[0m\u001b[0;34m)\u001b[0m\u001b[0;34m\u001b[0m\u001b[0;34m\u001b[0m\u001b[0m\n\u001b[0;32m--> 525\u001b[0;31m             \u001b[0mresponse\u001b[0m \u001b[0;34m=\u001b[0m \u001b[0mmeth\u001b[0m\u001b[0;34m(\u001b[0m\u001b[0mreq\u001b[0m\u001b[0;34m,\u001b[0m \u001b[0mresponse\u001b[0m\u001b[0;34m)\u001b[0m\u001b[0;34m\u001b[0m\u001b[0;34m\u001b[0m\u001b[0m\n\u001b[0m\u001b[1;32m    526\u001b[0m \u001b[0;34m\u001b[0m\u001b[0m\n\u001b[1;32m    527\u001b[0m         \u001b[0;32mreturn\u001b[0m \u001b[0mresponse\u001b[0m\u001b[0;34m\u001b[0m\u001b[0;34m\u001b[0m\u001b[0m\n",
            "\u001b[0;32m/usr/lib/python3.10/urllib/request.py\u001b[0m in \u001b[0;36mhttp_response\u001b[0;34m(self, request, response)\u001b[0m\n\u001b[1;32m    632\u001b[0m         \u001b[0;31m# request was successfully received, understood, and accepted.\u001b[0m\u001b[0;34m\u001b[0m\u001b[0;34m\u001b[0m\u001b[0m\n\u001b[1;32m    633\u001b[0m         \u001b[0;32mif\u001b[0m \u001b[0;32mnot\u001b[0m \u001b[0;34m(\u001b[0m\u001b[0;36m200\u001b[0m \u001b[0;34m<=\u001b[0m \u001b[0mcode\u001b[0m \u001b[0;34m<\u001b[0m \u001b[0;36m300\u001b[0m\u001b[0;34m)\u001b[0m\u001b[0;34m:\u001b[0m\u001b[0;34m\u001b[0m\u001b[0;34m\u001b[0m\u001b[0m\n\u001b[0;32m--> 634\u001b[0;31m             response = self.parent.error(\n\u001b[0m\u001b[1;32m    635\u001b[0m                 'http', request, response, code, msg, hdrs)\n\u001b[1;32m    636\u001b[0m \u001b[0;34m\u001b[0m\u001b[0m\n",
            "\u001b[0;32m/usr/lib/python3.10/urllib/request.py\u001b[0m in \u001b[0;36merror\u001b[0;34m(self, proto, *args)\u001b[0m\n\u001b[1;32m    561\u001b[0m         \u001b[0;32mif\u001b[0m \u001b[0mhttp_err\u001b[0m\u001b[0;34m:\u001b[0m\u001b[0;34m\u001b[0m\u001b[0;34m\u001b[0m\u001b[0m\n\u001b[1;32m    562\u001b[0m             \u001b[0margs\u001b[0m \u001b[0;34m=\u001b[0m \u001b[0;34m(\u001b[0m\u001b[0mdict\u001b[0m\u001b[0;34m,\u001b[0m \u001b[0;34m'default'\u001b[0m\u001b[0;34m,\u001b[0m \u001b[0;34m'http_error_default'\u001b[0m\u001b[0;34m)\u001b[0m \u001b[0;34m+\u001b[0m \u001b[0morig_args\u001b[0m\u001b[0;34m\u001b[0m\u001b[0;34m\u001b[0m\u001b[0m\n\u001b[0;32m--> 563\u001b[0;31m             \u001b[0;32mreturn\u001b[0m \u001b[0mself\u001b[0m\u001b[0;34m.\u001b[0m\u001b[0m_call_chain\u001b[0m\u001b[0;34m(\u001b[0m\u001b[0;34m*\u001b[0m\u001b[0margs\u001b[0m\u001b[0;34m)\u001b[0m\u001b[0;34m\u001b[0m\u001b[0;34m\u001b[0m\u001b[0m\n\u001b[0m\u001b[1;32m    564\u001b[0m \u001b[0;34m\u001b[0m\u001b[0m\n\u001b[1;32m    565\u001b[0m \u001b[0;31m# XXX probably also want an abstract factory that knows when it makes\u001b[0m\u001b[0;34m\u001b[0m\u001b[0;34m\u001b[0m\u001b[0m\n",
            "\u001b[0;32m/usr/lib/python3.10/urllib/request.py\u001b[0m in \u001b[0;36m_call_chain\u001b[0;34m(self, chain, kind, meth_name, *args)\u001b[0m\n\u001b[1;32m    494\u001b[0m         \u001b[0;32mfor\u001b[0m \u001b[0mhandler\u001b[0m \u001b[0;32min\u001b[0m \u001b[0mhandlers\u001b[0m\u001b[0;34m:\u001b[0m\u001b[0;34m\u001b[0m\u001b[0;34m\u001b[0m\u001b[0m\n\u001b[1;32m    495\u001b[0m             \u001b[0mfunc\u001b[0m \u001b[0;34m=\u001b[0m \u001b[0mgetattr\u001b[0m\u001b[0;34m(\u001b[0m\u001b[0mhandler\u001b[0m\u001b[0;34m,\u001b[0m \u001b[0mmeth_name\u001b[0m\u001b[0;34m)\u001b[0m\u001b[0;34m\u001b[0m\u001b[0;34m\u001b[0m\u001b[0m\n\u001b[0;32m--> 496\u001b[0;31m             \u001b[0mresult\u001b[0m \u001b[0;34m=\u001b[0m \u001b[0mfunc\u001b[0m\u001b[0;34m(\u001b[0m\u001b[0;34m*\u001b[0m\u001b[0margs\u001b[0m\u001b[0;34m)\u001b[0m\u001b[0;34m\u001b[0m\u001b[0;34m\u001b[0m\u001b[0m\n\u001b[0m\u001b[1;32m    497\u001b[0m             \u001b[0;32mif\u001b[0m \u001b[0mresult\u001b[0m \u001b[0;32mis\u001b[0m \u001b[0;32mnot\u001b[0m \u001b[0;32mNone\u001b[0m\u001b[0;34m:\u001b[0m\u001b[0;34m\u001b[0m\u001b[0;34m\u001b[0m\u001b[0m\n\u001b[1;32m    498\u001b[0m                 \u001b[0;32mreturn\u001b[0m \u001b[0mresult\u001b[0m\u001b[0;34m\u001b[0m\u001b[0;34m\u001b[0m\u001b[0m\n",
            "\u001b[0;32m/usr/lib/python3.10/urllib/request.py\u001b[0m in \u001b[0;36mhttp_error_default\u001b[0;34m(self, req, fp, code, msg, hdrs)\u001b[0m\n\u001b[1;32m    641\u001b[0m \u001b[0;32mclass\u001b[0m \u001b[0mHTTPDefaultErrorHandler\u001b[0m\u001b[0;34m(\u001b[0m\u001b[0mBaseHandler\u001b[0m\u001b[0;34m)\u001b[0m\u001b[0;34m:\u001b[0m\u001b[0;34m\u001b[0m\u001b[0;34m\u001b[0m\u001b[0m\n\u001b[1;32m    642\u001b[0m     \u001b[0;32mdef\u001b[0m \u001b[0mhttp_error_default\u001b[0m\u001b[0;34m(\u001b[0m\u001b[0mself\u001b[0m\u001b[0;34m,\u001b[0m \u001b[0mreq\u001b[0m\u001b[0;34m,\u001b[0m \u001b[0mfp\u001b[0m\u001b[0;34m,\u001b[0m \u001b[0mcode\u001b[0m\u001b[0;34m,\u001b[0m \u001b[0mmsg\u001b[0m\u001b[0;34m,\u001b[0m \u001b[0mhdrs\u001b[0m\u001b[0;34m)\u001b[0m\u001b[0;34m:\u001b[0m\u001b[0;34m\u001b[0m\u001b[0;34m\u001b[0m\u001b[0m\n\u001b[0;32m--> 643\u001b[0;31m         \u001b[0;32mraise\u001b[0m \u001b[0mHTTPError\u001b[0m\u001b[0;34m(\u001b[0m\u001b[0mreq\u001b[0m\u001b[0;34m.\u001b[0m\u001b[0mfull_url\u001b[0m\u001b[0;34m,\u001b[0m \u001b[0mcode\u001b[0m\u001b[0;34m,\u001b[0m \u001b[0mmsg\u001b[0m\u001b[0;34m,\u001b[0m \u001b[0mhdrs\u001b[0m\u001b[0;34m,\u001b[0m \u001b[0mfp\u001b[0m\u001b[0;34m)\u001b[0m\u001b[0;34m\u001b[0m\u001b[0;34m\u001b[0m\u001b[0m\n\u001b[0m\u001b[1;32m    644\u001b[0m \u001b[0;34m\u001b[0m\u001b[0m\n\u001b[1;32m    645\u001b[0m \u001b[0;32mclass\u001b[0m \u001b[0mHTTPRedirectHandler\u001b[0m\u001b[0;34m(\u001b[0m\u001b[0mBaseHandler\u001b[0m\u001b[0;34m)\u001b[0m\u001b[0;34m:\u001b[0m\u001b[0;34m\u001b[0m\u001b[0;34m\u001b[0m\u001b[0m\n",
            "\u001b[0;31mHTTPError\u001b[0m: HTTP Error 403: Forbidden"
          ]
        }
      ]
    },
    {
      "cell_type": "code",
      "source": [
        "# 如何模擬真正的使用者\n",
        "#\n",
        "\n",
        "import requests\n",
        "from bs4 import BeautifulSoup\n",
        "\n",
        "#旅遊版 https://www.dcard.tw/f/travel?latest=true\n",
        "\n",
        "url = 'https://www.dcard.tw/f/travel?latest=true'\n",
        "\n",
        "\n",
        "# 建立request物件與header資訊\n",
        "response = requests.get(url,headers={\n",
        "'user-agent':'User-Agent:Mozilla/5.0 (Windows NT 10.0; Win64; x64) AppleWebKit/537.36 (KHTML, like Gecko) Chrome/113.0.0.0 Safari/537.36',\n",
        "'Cookie':'_gcl_au=1.1.128993899.1678797319; _fbp=fb.1.1678797322629.1791463607; ab.storage.deviceId.a9882122-ac6c-486a-bc3b-fab39ef624c5=%7B%22g%22%3A%22e2d60641-4696-bb52-1703-2f667d422c59%22%2C%22c%22%3A1678797334771%2C%22l%22%3A1678797334771%7D; __htid=0b6875d7-401a-4a93-a919-433cf2c197b7; _ga_C3J49QFLW7=GS1.1.1681312997.12.1.1681313767.0.0.0; _gid=GA1.2.275751464.1685964386; cto_bundle=q46Nhl9FVDNlJTJGYmkzdEszRWh0eFZ6M0ZkeXdFN1d6aWdrd1c2MW15b1hSSEdoa0lUdjJZMEhhZmFwU3ZHUzVSSVB0MzdvZWJvRlZWJTJGekwzWFNtdVdOY2FieHMzQld3WVFZZ0VEYVBrSkhKSk5acHNuTDF3Q1BYJTJCd0J4aUdYQWMzREkyTnJwWVpQdmRNbiUyRnk5bHlpSVdSTWdWdyUzRCUzRA; _cfuvid=0oC9NQuY2NKzPfnqZw1YbirjXZB9LM5D9qKT.bMN1hE-1685970584227-0-604800000; dcsrd=qPyJSyZiBKDrAcoKiNOVe5Bh; cf_clearance=plAdvVmkjySHFGSC9GWU0CibLcHLszxMChMA4n7kun0-1685974910-0-250; dcard-web-oauth-tk=eyJhY2Nlc3NUb2tlbiI6ImV5SmhiR2NpT2lKRlpFUlRRU0lzSW10cFpDSTZJbEpMTFVoZlRUUm9VVkpET1dzeFUxcEdZMEZ1UkRBMVZreFljV1JZUm1kUVZYQXdWbGx0YjJ4eWFqZzlJbjAuZXlKaGNIQWlPaUpqTW1VM05qTTVOUzB6T0dFeExUUTRaamN0WVRsbE1DMWhaamN6TldJNFpqZGpOREVpTENKbGVIQWlPakUyT0RVNU56VTRNak1zSW1saGRDSTZNVFk0TlRrM05Ea3lNeXdpYVhKMElqb2lObUUxTldKa01EZ3ROVE16TVMwME4yVmtMVGhoTVRZdFlqVmtOREEzTURnNU5UbGtJaXdpYVhOeklqb2laR05oY21RaUxDSnFkR2tpT2lJMlltRTRZakl5TVMwek5EVTJMVFJqT0dRdE9UVmxOaTA1TWpCalpEZzFZV00zWmpRaUxDSnpZMjl3WlhNaU9sc2ljR1Z5YzI5dVlUcHpkV0p6WTNKcFltVWlMQ0pqYjJ4c1pXTjBhVzl1T25keWFYUmxJaXdpYldWdFltVnlPbmR5YVhSbElpd2labUZqWldKdmIyc2lMQ0p0WlcxaVpYSWlMQ0p1YjNScFptbGpZWFJwYjI0aUxDSndhRzl1WlNJc0luQm9iMjVsT25aaGJHbGtZWFJsSWl3aWFXUmpZWEprSWl3aVpHVjJhV05sT25keWFYUmxJaXdpWlcxaGFXd2lMQ0psYldGcGJEcDNjbWwwWlNJc0luQmxjbk52Ym1FNmQzSnBkR1VpTENKd2IzTjBPbk4xWW5OamNtbGlaU0lzSW1SbGRtbGpaU0lzSW1admNuVnRPbk4xWW5OamNtbGlaU0lzSW1admNuVnRJaXdpWm5KcFpXNWtPbmR5YVhSbElpd2liV1Z6YzJGblpTSXNJbkJvYjI1bE9uZHlhWFJsSWl3aWNHVnljMjl1WVNJc0luQnZjM1FpTENKMGIydGxianB5WlhadmEyVWlMQ0ptY21sbGJtUWlMQ0pqYjI1bWFXY2lMQ0p3YUc5MGJ5SXNJbTFsYzNOaFoyVTZkM0pwZEdVaUxDSmpiMjVtYVdjNmQzSnBkR1VpTENKamIyeHNaV04wYVc5dUlpd2lkRzl3YVdNaUxDSjBiM0JwWXpwemRXSnpZM0pwWW1VaUxDSm1aV1ZrT25OMVluTmpjbWxpWlNJc0lteHZaMmx1Vm1WeWFXWnBZMkYwYVc5dUlpd2liRzluYVc1V1pYSnBabWxqWVhScGIyNDZkbVZ5YVdaNUlpd2ljRzlzYkRwM2NtbDBaU0lzSW0xbGMzTmhaMlU2Y0hKcGRtRjBaU0lzSW1sa1pXNTBhWFI1T25aaGJHbGtZWFJsWkNJc0lteHBhMlVpTENKeVpXRmpkR2x2YmlJc0luQnZjM1E2ZDNKcGRHVWlMQ0pqYjIxdFpXNTBPbmR5YVhSbElpd2ljbVZ3YjNKMElpd2liV0YwWTJnaUxDSnRZWFJqYURwM2NtbDBaU0lzSW1SdmQyNTJiM1JsSWwwc0luTnBaQ0k2SWpSbU1tUm1PR0U1TFRnNE5UTXROR1psWVMwNFpERmtMV1l5TkdNMU5qQXlPRGhrWmlJc0luTjFZaUk2SWprM09ERXdNeUo5LjJpNWxIdGxyNEFvbTgwbEF0dHZaTzktNTF0VGpnT3ppWVRMMnNBa0V2Y2JQUk93eUl2SjM1dDVZN1lTa0xFNk1oWFRiQmwwbFFqdjlHTHgzQVJQZEJRIiwidG9rZW5UeXBlIjoiQmVhcmVyIiwicmVmcmVzaFRva2VuIjoiRjhraXBTVHNSTGVmdXVxcUQwRUoxZz09IiwiZXhwaXJlc0F0IjoiMjAyMy0wNi0wNVQxNDozNzowMy4wMDBaIn0=; dcard-web-oauth-tk.sig=qcCOEEIWLF4idfpihD8T7WsTy3g; _gat=1; __gads=ID=a819be4c525a07d0:T=1678797322:RT=1685974939:S=ALNI_Mb45qtlaC_DMhwjXOm2MMOEojwG2w; __gpi=UID=00000bd96fe5c6b9:T=1678797322:RT=1685974939:S=ALNI_Maryxp0Y4fwBbcogmpMYh4vdJGhYQ; _ga=GA1.1.867427755.1678797321; _ga_DSM1GSYX4C=GS1.1.1685974943.22.1.1685974943.0.0.0; __cf_bm=r2GXZbcu68zbURpSE5tPfVOfbpX4ne.dV6KwMaUtCcU-1685974953-0-ARuD4wypCpNU/6QDrT5qi4EvSi4ZKxHpEf9SDIPxEq0aXLsvbXpsvcDrieXJjk3+YC0DMspjPyeqF87YASdPQMM=',\n",
        "'Referer':'https://www.dcard.tw/f?__cf_chl_tk=sVIbu40BG2ifG9vdrilkQcT4jJt67Pari1MxY.QBG9M-1685974910-0-gaNycGzNFeU'\n",
        "})\n",
        "\n",
        "html = BeautifulSoup(response.text)\n",
        "print(html)\n"
      ],
      "metadata": {
        "colab": {
          "base_uri": "https://localhost:8080/"
        },
        "id": "exLFT7XUt5UI",
        "outputId": "808b5d37-7d2b-4a20-9f37-cc5a89e70c19"
      },
      "execution_count": null,
      "outputs": [
        {
          "output_type": "stream",
          "name": "stdout",
          "text": [
            "<!DOCTYPE html>\n",
            "<html>\n",
            "<head>\n",
            "<meta content=\"text/html; charset=utf-8\" http-equiv=\"Content-Type\"/>\n",
            "<meta content=\"IE=Edge\" http-equiv=\"X-UA-Compatible\"/>\n",
            "<meta content=\"noindex,nofollow\" name=\"robots\"/>\n",
            "<meta content=\"width=device-width,initial-scale=1\" name=\"viewport\"/>\n",
            "<title>Dcard 無法正常載入</title>\n",
            "<style>*{box-sizing:border-box}a,body,div,h1,h2,html,p,pre,span{color:#000;margin:0;padding:0}body{background-color:#00324e;font-family:Roboto,Helvetica Neue,Helvetica,Arial,PingFang TC,黑體-繁,Heiti TC,蘋果儷中黑,Apple LiGothic Medium,微軟正黑體,Microsoft JhengHei,sans-serif}@media (max-width:798px){body{background-color:#fff}}.dcard_nav{align-items:center;background-color:#006aa6;display:flex;height:48px}.dcard_logo{height:28px;margin-left:124px;width:74px}@media (max-width:798px){.dcard_logo{margin-left:16px}}h1{font-size:28px;line-height:40px;margin:10px 0}h1,h2{font-weight:500}h2{font-size:24px;line-height:33px;margin:8px 0}p,pre{color:rgba(0,0,0,.75);font-size:14px;font-weight:400;line-height:20px}pre{margin:8px 0;white-space:pre-wrap;white-space:break-spaces;word-break:break-word}main{background-color:#fff;border-radius:4px;display:block;margin:24px 124px;padding:24px}@media (max-width:798px){main{margin:0;padding:0 16px}h1{font-size:24px;line-height:42px}h2{font-size:20px;line-height:33px}}a{background-color:transparent;color:#3397cf;text-decoration:none}:focus{outline:0}.dcard_cf_error_container{background-color:#eee;border-radius:5px;color:#000;display:block;font-family:monospace;font-size:14px;line-height:20px;padding:8px}.dcard_cf_error_container *{font-size:14px!important;line-height:20px!important;list-style-type:none;margin:0;padding:0}</style>\n",
            "</head>\n",
            "<body>\n",
            "<nav class=\"dcard_nav\">\n",
            "<svg class=\"dcard_logo\" viewbox=\"0 0 723 272\" xmlns=\"http://www.w3.org/2000/svg\" xmlns:xlink=\"http://www.w3.org/1999/xlink\">\n",
            "<defs>\n",
            "<path d=\"M216 270H0V0h216z\" id=\"a\"></path>\n",
            "<path d=\"M108.312 207.975v-207h-108v207z\" id=\"c\"></path>\n",
            "</defs>\n",
            "<g fill=\"none\" fill-rule=\"evenodd\">\n",
            "<path d=\"M146.313 104.458c-12.424 0-22.5 10.072-22.5 22.491 0 12.42 10.075 22.492 22.5 22.492 12.424 0 22.5-10.072 22.5-22.492 0-12.419-10.076-22.491-22.5-22.491\" fill=\"#fff\"></path>\n",
            "<g transform=\"translate(1 1)\">\n",
            "<mask fill=\"#fff\" id=\"b\">\n",
            "<use xlink:href=\"#a\"></use>\n",
            "</mask>\n",
            "<path d=\"M189 162.025c0 2.805-.145 5.572-.423 8.303-2.943 2.088-6.494 3.371-10.378 3.371-1.461 0-2.861-.227-4.224-.554a49.594 49.594 0 0 1-19.755-11.974l-19.107 19.107c11.484 11.407 26.595 19.11 43.42 21.423-13.91 24.617-40.289 41.3-70.533 41.3H27V133.216c55.35-7.376 103.576-37.152 135.409-79.86 7.025 4.872 12.911 10.497 17.028 16.523A80.394 80.394 0 0 1 189 107.972v54.053zM108 0H0v270h108c59.647 0 108-48.349 108-107.975v-54.053C216 48.342 167.661 0 108 0z\" fill=\"#FFF\" mask=\"url(#b)\"></path>\n",
            "</g>\n",
            "<path d=\"M281.2 180.95c0-11.155 6.857-18.004 26.98-18.004 13.413 0 26.902 0 44.966 9.003v-.004s.143-26.99 0-26.99c-14.745-8.997-35.982-9.01-54.037-9.01-31.476 0-44.89 18.002-44.89 40.5-.022 26.974 0 27.002 0 27.002s-.022-.078 0 27c0 22.5 13.414 40.498 44.89 40.498 18.055 0 39.292-.013 54.037-9.004.143 0 0-26.995 0-26.995v-.005c-18.064 9.004-31.553 9.004-44.967 9.004-20.122 0-26.98-6.843-26.98-18.005V180.95zM461.313 243.947h-36s-15.832.413-15.75-13.5c-.082-13.915 15.998-18.08 51.75-18v31.5zm-18-108c-18.063 0-39.316.014-54.077 9.005-.144 0 0 26.995 0 26.995v.005c18.077-9.006 31.577-9.006 45-9.006 20.137 0 27.077 6.85 27.077 18.004v8.996c-42.98-.058-81 9.001-81 40.5 0 31.5 18 40.501 45 40.501h63v-67.5l-.077-27c0-22.5-13.423-40.5-44.923-40.5zM517.568 158.446v22.5h-.005v90.001h27v-90h-.043v-4.509c0-14.725 44.93-17.992 44.93-17.992s.254-22.499 0-22.499c-58.388 0-71.882 22.5-71.882 22.5\" fill=\"#FFF\"></path>\n",
            "<g transform=\"translate(614 63)\">\n",
            "<mask fill=\"#fff\" id=\"d\">\n",
            "<use xlink:href=\"#c\"></use>\n",
            "</mask>\n",
            "<path d=\"M81.313 180.884h-27s-27 .916-27-26.981c0-27.896-1.328-46.647 10.584-54.924 11.916-8.275 43.416.944 43.416.944v80.96zm0-179.908h-9c8.814 28.555 8.995 74.544 9 76.402-1.63-.527-14.486-4.44-36-4.44-14.978 0-44.857.71-45 44.976 0 0 .018 13.633 0 22.49.03 2.443.053 2.76.072 2.16.048-11.44.048-1.76 0 0-.019 3.916-.041 10.27-.073 20.329.145 49.473 45 44.976 45 44.976h63V.976h-27z\" fill=\"#FFF\" mask=\"url(#d)\"></path>\n",
            "</g>\n",
            "</g>\n",
            "</svg>\n",
            "</nav>\n",
            "<main>\n",
            "<h1>Dcard 無法正常載入</h1>\n",
            "<h2>發生了一點問題，請稍後再試</h2>\n",
            "<hr/>\n",
            "<pre>Dcard 在某些情況下會需要驗證請求是真實的人類，而非機器人。\n",
            "\n",
            "如果您符合以下行為，這可能是正常的現象：\n",
            "1. 您操作的頻率過快\n",
            "2. 您的瀏覽器版本過老舊或安裝的擴充程式異常\n",
            "3. 您使用公共網路或受監控的網路環境\n",
            "4. 您使用 VPN 或 Proxy 服務\n",
            "5. 您使用的網路曾經有異常行為</pre>\n",
            "<div class=\"dcard_cf_error_container\"><div class=\"cf-error-details cf-error-1020\">\n",
            "<h1>Access denied</h1>\n",
            "<p>You do not have access to www.dcard.tw.</p><p>The site owner may have set restrictions that prevent you from accessing the site.</p>\n",
            "<ul class=\"cferror_details\">\n",
            "<li>Ray ID: 7d292c7519a415c2</li>\n",
            "<li>Timestamp: 2023-06-05 14:40:57 UTC</li>\n",
            "<li>Your IP address: 34.125.41.12</li>\n",
            "<li class=\"XXX_no_wrap_overflow_hidden\">Requested URL: www.dcard.tw/f/travel?latest=true </li>\n",
            "<li>Error reference number: 1020</li>\n",
            "<li>Server ID: FL_4F801</li>\n",
            "<li>User-Agent: User-Agent:Mozilla/5.0 (Windows NT 10.0; Win64; x64) AppleWebKit/537.36 (KHTML, like Gecko) Chrome/113.0.0.0 Safari/537.36</li>\n",
            "</ul>\n",
            "</div>\n",
            "</div>\n",
            "</main>\n",
            "<script>(function(){var js = \"window['__CF$cv$params']={r:'7d292c7519a415c2',m:'jNtgb6clGW2R5wZDjPniFZnNhBKoytlIQOq6k6Mj564-1685976057-0-AZ6d47OePJb+e5Slh0VvCyKe8ifBPmS9VIT+QVvOptSR',u:'/cdn-cgi/challenge-platform/h/g'};_cpo=document.createElement('script');_cpo.nonce='',_cpo.src='/cdn-cgi/challenge-platform/scripts/invisible.js',document.getElementsByTagName('head')[0].appendChild(_cpo);\";var _0xh = document.createElement('iframe');_0xh.height = 1;_0xh.width = 1;_0xh.style.position = 'absolute';_0xh.style.top = 0;_0xh.style.left = 0;_0xh.style.border = 'none';_0xh.style.visibility = 'hidden';document.body.appendChild(_0xh);function handler() {var _0xi = _0xh.contentDocument || _0xh.contentWindow.document;if (_0xi) {var _0xj = _0xi.createElement('script');_0xj.nonce = '';_0xj.innerHTML = js;_0xi.getElementsByTagName('head')[0].appendChild(_0xj);}}if (document.readyState !== 'loading') {handler();} else if (window.addEventListener) {document.addEventListener('DOMContentLoaded', handler);} else {var prev = document.onreadystatechange || function () {};document.onreadystatechange = function (e) {prev(e);if (document.readyState !== 'loading') {document.onreadystatechange = prev;handler();}};}})();</script></body>\n",
            "</html>\n",
            "\n"
          ]
        }
      ]
    },
    {
      "cell_type": "markdown",
      "source": [
        "### **L6-3_data_analysis_find**"
      ],
      "metadata": {
        "id": "gG4yqq3YdD9I"
      }
    },
    {
      "cell_type": "code",
      "source": [
        "import urllib.request as req\n",
        "\n",
        "import bs4 # pip3 install beautifulsoup4\n",
        "\n",
        "url = 'https://www.dcard.tw/f/entertainer'\n",
        "# 建立request物件與header資訊\n",
        "# 寫法bs4.BeautifulSoup(data,'html.parser')\n",
        "\n",
        "request = req.Request(url, headers={\n",
        "    'user-Agent':'Mozilla/5.0 (Windows NT 10.0; Win64; x64) AppleWebKit/537.36 (KHTML, like Gecko) Chrome/86.0.4240.183 Safari/537.36'\n",
        "})\n",
        "with req.urlopen(request) as response:\n",
        "    data = response.read().decode('utf-8')\n",
        "\n",
        "# 使用beautifulsoup\n",
        "parsed_data = bs4.BeautifulSoup(data,'html.parser')\n",
        "# print(parsed_data.title) # 抓到tiltle標籤 title=\"Dcard\"\n",
        "# print(parsed_data.title.string) # 抓到tiltle文字 ## print(parsed_data.title.text)\n",
        "\n",
        "# 抓出文章標題\n",
        "# find，找出一個符合的條件\n",
        "# <a class=\"tgn9uw-3 ebwnQU\" href=\"/f/relationship/p/234496937\">\n",
        "# <span>我有一個PR99的女友</span>\n",
        "# </a>\n",
        "titles = parsed_data.find('a', class_ = 'tgn9uw-3 iuyCWN') # 找尋class = 'tgn9uw-3 ebwnQU'的標籤\n",
        "# print(titles)\n",
        "\n",
        "# # 抓出文字\n",
        "print(titles.string)\n"
      ],
      "metadata": {
        "colab": {
          "base_uri": "https://localhost:8080/",
          "height": 382
        },
        "id": "5bC9oENHeX-G",
        "outputId": "c0ad7d0b-2a3d-41c8-da7b-1ef8fdad7d6c"
      },
      "execution_count": null,
      "outputs": [
        {
          "output_type": "error",
          "ename": "HTTPError",
          "evalue": "ignored",
          "traceback": [
            "\u001b[0;31m---------------------------------------------------------------------------\u001b[0m",
            "\u001b[0;31mHTTPError\u001b[0m                                 Traceback (most recent call last)",
            "\u001b[0;32m<ipython-input-3-882486b3b16d>\u001b[0m in \u001b[0;36m<cell line: 12>\u001b[0;34m()\u001b[0m\n\u001b[1;32m     10\u001b[0m     \u001b[0;34m'user-Agent'\u001b[0m\u001b[0;34m:\u001b[0m\u001b[0;34m'Mozilla/5.0 (Windows NT 10.0; Win64; x64) AppleWebKit/537.36 (KHTML, like Gecko) Chrome/86.0.4240.183 Safari/537.36'\u001b[0m\u001b[0;34m\u001b[0m\u001b[0;34m\u001b[0m\u001b[0m\n\u001b[1;32m     11\u001b[0m })\n\u001b[0;32m---> 12\u001b[0;31m \u001b[0;32mwith\u001b[0m \u001b[0mreq\u001b[0m\u001b[0;34m.\u001b[0m\u001b[0murlopen\u001b[0m\u001b[0;34m(\u001b[0m\u001b[0mrequest\u001b[0m\u001b[0;34m)\u001b[0m \u001b[0;32mas\u001b[0m \u001b[0mresponse\u001b[0m\u001b[0;34m:\u001b[0m\u001b[0;34m\u001b[0m\u001b[0;34m\u001b[0m\u001b[0m\n\u001b[0m\u001b[1;32m     13\u001b[0m     \u001b[0mdata\u001b[0m \u001b[0;34m=\u001b[0m \u001b[0mresponse\u001b[0m\u001b[0;34m.\u001b[0m\u001b[0mread\u001b[0m\u001b[0;34m(\u001b[0m\u001b[0;34m)\u001b[0m\u001b[0;34m.\u001b[0m\u001b[0mdecode\u001b[0m\u001b[0;34m(\u001b[0m\u001b[0;34m'utf-8'\u001b[0m\u001b[0;34m)\u001b[0m\u001b[0;34m\u001b[0m\u001b[0;34m\u001b[0m\u001b[0m\n\u001b[1;32m     14\u001b[0m \u001b[0;34m\u001b[0m\u001b[0m\n",
            "\u001b[0;32m/usr/lib/python3.10/urllib/request.py\u001b[0m in \u001b[0;36murlopen\u001b[0;34m(url, data, timeout, cafile, capath, cadefault, context)\u001b[0m\n\u001b[1;32m    214\u001b[0m     \u001b[0;32melse\u001b[0m\u001b[0;34m:\u001b[0m\u001b[0;34m\u001b[0m\u001b[0;34m\u001b[0m\u001b[0m\n\u001b[1;32m    215\u001b[0m         \u001b[0mopener\u001b[0m \u001b[0;34m=\u001b[0m \u001b[0m_opener\u001b[0m\u001b[0;34m\u001b[0m\u001b[0;34m\u001b[0m\u001b[0m\n\u001b[0;32m--> 216\u001b[0;31m     \u001b[0;32mreturn\u001b[0m \u001b[0mopener\u001b[0m\u001b[0;34m.\u001b[0m\u001b[0mopen\u001b[0m\u001b[0;34m(\u001b[0m\u001b[0murl\u001b[0m\u001b[0;34m,\u001b[0m \u001b[0mdata\u001b[0m\u001b[0;34m,\u001b[0m \u001b[0mtimeout\u001b[0m\u001b[0;34m)\u001b[0m\u001b[0;34m\u001b[0m\u001b[0;34m\u001b[0m\u001b[0m\n\u001b[0m\u001b[1;32m    217\u001b[0m \u001b[0;34m\u001b[0m\u001b[0m\n\u001b[1;32m    218\u001b[0m \u001b[0;32mdef\u001b[0m \u001b[0minstall_opener\u001b[0m\u001b[0;34m(\u001b[0m\u001b[0mopener\u001b[0m\u001b[0;34m)\u001b[0m\u001b[0;34m:\u001b[0m\u001b[0;34m\u001b[0m\u001b[0;34m\u001b[0m\u001b[0m\n",
            "\u001b[0;32m/usr/lib/python3.10/urllib/request.py\u001b[0m in \u001b[0;36mopen\u001b[0;34m(self, fullurl, data, timeout)\u001b[0m\n\u001b[1;32m    523\u001b[0m         \u001b[0;32mfor\u001b[0m \u001b[0mprocessor\u001b[0m \u001b[0;32min\u001b[0m \u001b[0mself\u001b[0m\u001b[0;34m.\u001b[0m\u001b[0mprocess_response\u001b[0m\u001b[0;34m.\u001b[0m\u001b[0mget\u001b[0m\u001b[0;34m(\u001b[0m\u001b[0mprotocol\u001b[0m\u001b[0;34m,\u001b[0m \u001b[0;34m[\u001b[0m\u001b[0;34m]\u001b[0m\u001b[0;34m)\u001b[0m\u001b[0;34m:\u001b[0m\u001b[0;34m\u001b[0m\u001b[0;34m\u001b[0m\u001b[0m\n\u001b[1;32m    524\u001b[0m             \u001b[0mmeth\u001b[0m \u001b[0;34m=\u001b[0m \u001b[0mgetattr\u001b[0m\u001b[0;34m(\u001b[0m\u001b[0mprocessor\u001b[0m\u001b[0;34m,\u001b[0m \u001b[0mmeth_name\u001b[0m\u001b[0;34m)\u001b[0m\u001b[0;34m\u001b[0m\u001b[0;34m\u001b[0m\u001b[0m\n\u001b[0;32m--> 525\u001b[0;31m             \u001b[0mresponse\u001b[0m \u001b[0;34m=\u001b[0m \u001b[0mmeth\u001b[0m\u001b[0;34m(\u001b[0m\u001b[0mreq\u001b[0m\u001b[0;34m,\u001b[0m \u001b[0mresponse\u001b[0m\u001b[0;34m)\u001b[0m\u001b[0;34m\u001b[0m\u001b[0;34m\u001b[0m\u001b[0m\n\u001b[0m\u001b[1;32m    526\u001b[0m \u001b[0;34m\u001b[0m\u001b[0m\n\u001b[1;32m    527\u001b[0m         \u001b[0;32mreturn\u001b[0m \u001b[0mresponse\u001b[0m\u001b[0;34m\u001b[0m\u001b[0;34m\u001b[0m\u001b[0m\n",
            "\u001b[0;32m/usr/lib/python3.10/urllib/request.py\u001b[0m in \u001b[0;36mhttp_response\u001b[0;34m(self, request, response)\u001b[0m\n\u001b[1;32m    632\u001b[0m         \u001b[0;31m# request was successfully received, understood, and accepted.\u001b[0m\u001b[0;34m\u001b[0m\u001b[0;34m\u001b[0m\u001b[0m\n\u001b[1;32m    633\u001b[0m         \u001b[0;32mif\u001b[0m \u001b[0;32mnot\u001b[0m \u001b[0;34m(\u001b[0m\u001b[0;36m200\u001b[0m \u001b[0;34m<=\u001b[0m \u001b[0mcode\u001b[0m \u001b[0;34m<\u001b[0m \u001b[0;36m300\u001b[0m\u001b[0;34m)\u001b[0m\u001b[0;34m:\u001b[0m\u001b[0;34m\u001b[0m\u001b[0;34m\u001b[0m\u001b[0m\n\u001b[0;32m--> 634\u001b[0;31m             response = self.parent.error(\n\u001b[0m\u001b[1;32m    635\u001b[0m                 'http', request, response, code, msg, hdrs)\n\u001b[1;32m    636\u001b[0m \u001b[0;34m\u001b[0m\u001b[0m\n",
            "\u001b[0;32m/usr/lib/python3.10/urllib/request.py\u001b[0m in \u001b[0;36merror\u001b[0;34m(self, proto, *args)\u001b[0m\n\u001b[1;32m    561\u001b[0m         \u001b[0;32mif\u001b[0m \u001b[0mhttp_err\u001b[0m\u001b[0;34m:\u001b[0m\u001b[0;34m\u001b[0m\u001b[0;34m\u001b[0m\u001b[0m\n\u001b[1;32m    562\u001b[0m             \u001b[0margs\u001b[0m \u001b[0;34m=\u001b[0m \u001b[0;34m(\u001b[0m\u001b[0mdict\u001b[0m\u001b[0;34m,\u001b[0m \u001b[0;34m'default'\u001b[0m\u001b[0;34m,\u001b[0m \u001b[0;34m'http_error_default'\u001b[0m\u001b[0;34m)\u001b[0m \u001b[0;34m+\u001b[0m \u001b[0morig_args\u001b[0m\u001b[0;34m\u001b[0m\u001b[0;34m\u001b[0m\u001b[0m\n\u001b[0;32m--> 563\u001b[0;31m             \u001b[0;32mreturn\u001b[0m \u001b[0mself\u001b[0m\u001b[0;34m.\u001b[0m\u001b[0m_call_chain\u001b[0m\u001b[0;34m(\u001b[0m\u001b[0;34m*\u001b[0m\u001b[0margs\u001b[0m\u001b[0;34m)\u001b[0m\u001b[0;34m\u001b[0m\u001b[0;34m\u001b[0m\u001b[0m\n\u001b[0m\u001b[1;32m    564\u001b[0m \u001b[0;34m\u001b[0m\u001b[0m\n\u001b[1;32m    565\u001b[0m \u001b[0;31m# XXX probably also want an abstract factory that knows when it makes\u001b[0m\u001b[0;34m\u001b[0m\u001b[0;34m\u001b[0m\u001b[0m\n",
            "\u001b[0;32m/usr/lib/python3.10/urllib/request.py\u001b[0m in \u001b[0;36m_call_chain\u001b[0;34m(self, chain, kind, meth_name, *args)\u001b[0m\n\u001b[1;32m    494\u001b[0m         \u001b[0;32mfor\u001b[0m \u001b[0mhandler\u001b[0m \u001b[0;32min\u001b[0m \u001b[0mhandlers\u001b[0m\u001b[0;34m:\u001b[0m\u001b[0;34m\u001b[0m\u001b[0;34m\u001b[0m\u001b[0m\n\u001b[1;32m    495\u001b[0m             \u001b[0mfunc\u001b[0m \u001b[0;34m=\u001b[0m \u001b[0mgetattr\u001b[0m\u001b[0;34m(\u001b[0m\u001b[0mhandler\u001b[0m\u001b[0;34m,\u001b[0m \u001b[0mmeth_name\u001b[0m\u001b[0;34m)\u001b[0m\u001b[0;34m\u001b[0m\u001b[0;34m\u001b[0m\u001b[0m\n\u001b[0;32m--> 496\u001b[0;31m             \u001b[0mresult\u001b[0m \u001b[0;34m=\u001b[0m \u001b[0mfunc\u001b[0m\u001b[0;34m(\u001b[0m\u001b[0;34m*\u001b[0m\u001b[0margs\u001b[0m\u001b[0;34m)\u001b[0m\u001b[0;34m\u001b[0m\u001b[0;34m\u001b[0m\u001b[0m\n\u001b[0m\u001b[1;32m    497\u001b[0m             \u001b[0;32mif\u001b[0m \u001b[0mresult\u001b[0m \u001b[0;32mis\u001b[0m \u001b[0;32mnot\u001b[0m \u001b[0;32mNone\u001b[0m\u001b[0;34m:\u001b[0m\u001b[0;34m\u001b[0m\u001b[0;34m\u001b[0m\u001b[0m\n\u001b[1;32m    498\u001b[0m                 \u001b[0;32mreturn\u001b[0m \u001b[0mresult\u001b[0m\u001b[0;34m\u001b[0m\u001b[0;34m\u001b[0m\u001b[0m\n",
            "\u001b[0;32m/usr/lib/python3.10/urllib/request.py\u001b[0m in \u001b[0;36mhttp_error_default\u001b[0;34m(self, req, fp, code, msg, hdrs)\u001b[0m\n\u001b[1;32m    641\u001b[0m \u001b[0;32mclass\u001b[0m \u001b[0mHTTPDefaultErrorHandler\u001b[0m\u001b[0;34m(\u001b[0m\u001b[0mBaseHandler\u001b[0m\u001b[0;34m)\u001b[0m\u001b[0;34m:\u001b[0m\u001b[0;34m\u001b[0m\u001b[0;34m\u001b[0m\u001b[0m\n\u001b[1;32m    642\u001b[0m     \u001b[0;32mdef\u001b[0m \u001b[0mhttp_error_default\u001b[0m\u001b[0;34m(\u001b[0m\u001b[0mself\u001b[0m\u001b[0;34m,\u001b[0m \u001b[0mreq\u001b[0m\u001b[0;34m,\u001b[0m \u001b[0mfp\u001b[0m\u001b[0;34m,\u001b[0m \u001b[0mcode\u001b[0m\u001b[0;34m,\u001b[0m \u001b[0mmsg\u001b[0m\u001b[0;34m,\u001b[0m \u001b[0mhdrs\u001b[0m\u001b[0;34m)\u001b[0m\u001b[0;34m:\u001b[0m\u001b[0;34m\u001b[0m\u001b[0;34m\u001b[0m\u001b[0m\n\u001b[0;32m--> 643\u001b[0;31m         \u001b[0;32mraise\u001b[0m \u001b[0mHTTPError\u001b[0m\u001b[0;34m(\u001b[0m\u001b[0mreq\u001b[0m\u001b[0;34m.\u001b[0m\u001b[0mfull_url\u001b[0m\u001b[0;34m,\u001b[0m \u001b[0mcode\u001b[0m\u001b[0;34m,\u001b[0m \u001b[0mmsg\u001b[0m\u001b[0;34m,\u001b[0m \u001b[0mhdrs\u001b[0m\u001b[0;34m,\u001b[0m \u001b[0mfp\u001b[0m\u001b[0;34m)\u001b[0m\u001b[0;34m\u001b[0m\u001b[0;34m\u001b[0m\u001b[0m\n\u001b[0m\u001b[1;32m    644\u001b[0m \u001b[0;34m\u001b[0m\u001b[0m\n\u001b[1;32m    645\u001b[0m \u001b[0;32mclass\u001b[0m \u001b[0mHTTPRedirectHandler\u001b[0m\u001b[0;34m(\u001b[0m\u001b[0mBaseHandler\u001b[0m\u001b[0;34m)\u001b[0m\u001b[0;34m:\u001b[0m\u001b[0;34m\u001b[0m\u001b[0;34m\u001b[0m\u001b[0m\n",
            "\u001b[0;31mHTTPError\u001b[0m: HTTP Error 403: Forbidden"
          ]
        }
      ]
    },
    {
      "cell_type": "markdown",
      "source": [
        "### **L6-4_data_analysis_find_all**"
      ],
      "metadata": {
        "id": "ELVryejPdJ-F"
      }
    },
    {
      "cell_type": "code",
      "source": [
        "import urllib.request as req\n",
        "import ssl #for Mac\n",
        "ssl._create_default_https_context = ssl._create_unverified_context #for mac\n",
        "import bs4 # pip3 install beautifulsoup4\n",
        "url = 'https://www.dcard.tw/f/entertainer'\n",
        "# 建立request物件與header資訊\n",
        "request = req.Request(url, headers={\n",
        "    'user-Agent':\n",
        "    'MMozilla/5.0 (Windows NT 10.0; Win64; x64) AppleWebKit/537.36 (KHTML, like Gecko) Chrome/86.0.4240.183 Safari/537.36'\n",
        "})\n",
        "with req.urlopen(request) as response:\n",
        "    data = response.read().decode('utf-8')\n",
        "\n",
        "# 使用beautifulsoup\n",
        "parsed_data = bs4.BeautifulSoup(data,'html.parser')\n",
        "\n",
        "# 找出所有標題\n",
        "# ***find_all\n",
        "titles_list1=parsed_data.find_all('a', class_ = 'tgn9uw-3 iuyCWN') # 找尋class = 'tgn9uw-3 ebwnQU'的標籤\n",
        "sub_list2=parsed_data.find_all('div', class_ = 'uj732l-0 cdMDRF')\n",
        "# print(titles_list)\n",
        "\n",
        "# for titles in titles_list1:\n",
        "#     # print('標題 : '+x.text)\n",
        "#     x=titles\n",
        "# for sub in _list2:\n",
        "#     y=sub\n",
        "# print(len(titles_list1))\n",
        "# print(len(sub_list2))\n",
        "# print('標題 : '+x.text+'\\n'+'副標 : '+ y.text+'\\n')\n",
        "# for i in range(titles_list1,sub_list2)\n",
        "\n",
        "# print(f'{i[0].text}/n {i[0].text}/n ')\n",
        "for i in range(len(titles_list1)) and range(len(sub_list2)) :\n",
        "    print(f'標題: {titles_list1[i].string}\\n副標: {sub_list2[i].string}\\n')\n",
        "\n",
        "#  內文: {sub_list2[].string}/n\n",
        "# \"'副標'+ result2.text + \"\n",
        "# print('標題'+result1.text+'\\n')\n",
        "# print(titles.string) # list\n",
        "\n",
        "# mini challenge\n",
        "# 印出所有標題(不含HTML tag)\n",
        "# 我有一個PR99的女友\n",
        "# 想幫我爸找一位恩人\n",
        "# #更 廁所有毒？"
      ],
      "metadata": {
        "colab": {
          "base_uri": "https://localhost:8080/",
          "height": 399
        },
        "id": "16BJWm86dDar",
        "outputId": "a0b2ad4d-b038-4a11-ed61-2669aa9b9558"
      },
      "execution_count": null,
      "outputs": [
        {
          "output_type": "error",
          "ename": "HTTPError",
          "evalue": "ignored",
          "traceback": [
            "\u001b[0;31m---------------------------------------------------------------------------\u001b[0m",
            "\u001b[0;31mHTTPError\u001b[0m                                 Traceback (most recent call last)",
            "\u001b[0;32m<ipython-input-4-b894ab049b26>\u001b[0m in \u001b[0;36m<cell line: 11>\u001b[0;34m()\u001b[0m\n\u001b[1;32m      9\u001b[0m     \u001b[0;34m'MMozilla/5.0 (Windows NT 10.0; Win64; x64) AppleWebKit/537.36 (KHTML, like Gecko) Chrome/86.0.4240.183 Safari/537.36'\u001b[0m\u001b[0;34m\u001b[0m\u001b[0;34m\u001b[0m\u001b[0m\n\u001b[1;32m     10\u001b[0m })\n\u001b[0;32m---> 11\u001b[0;31m \u001b[0;32mwith\u001b[0m \u001b[0mreq\u001b[0m\u001b[0;34m.\u001b[0m\u001b[0murlopen\u001b[0m\u001b[0;34m(\u001b[0m\u001b[0mrequest\u001b[0m\u001b[0;34m)\u001b[0m \u001b[0;32mas\u001b[0m \u001b[0mresponse\u001b[0m\u001b[0;34m:\u001b[0m\u001b[0;34m\u001b[0m\u001b[0;34m\u001b[0m\u001b[0m\n\u001b[0m\u001b[1;32m     12\u001b[0m     \u001b[0mdata\u001b[0m \u001b[0;34m=\u001b[0m \u001b[0mresponse\u001b[0m\u001b[0;34m.\u001b[0m\u001b[0mread\u001b[0m\u001b[0;34m(\u001b[0m\u001b[0;34m)\u001b[0m\u001b[0;34m.\u001b[0m\u001b[0mdecode\u001b[0m\u001b[0;34m(\u001b[0m\u001b[0;34m'utf-8'\u001b[0m\u001b[0;34m)\u001b[0m\u001b[0;34m\u001b[0m\u001b[0;34m\u001b[0m\u001b[0m\n\u001b[1;32m     13\u001b[0m \u001b[0;34m\u001b[0m\u001b[0m\n",
            "\u001b[0;32m/usr/lib/python3.10/urllib/request.py\u001b[0m in \u001b[0;36murlopen\u001b[0;34m(url, data, timeout, cafile, capath, cadefault, context)\u001b[0m\n\u001b[1;32m    214\u001b[0m     \u001b[0;32melse\u001b[0m\u001b[0;34m:\u001b[0m\u001b[0;34m\u001b[0m\u001b[0;34m\u001b[0m\u001b[0m\n\u001b[1;32m    215\u001b[0m         \u001b[0mopener\u001b[0m \u001b[0;34m=\u001b[0m \u001b[0m_opener\u001b[0m\u001b[0;34m\u001b[0m\u001b[0;34m\u001b[0m\u001b[0m\n\u001b[0;32m--> 216\u001b[0;31m     \u001b[0;32mreturn\u001b[0m \u001b[0mopener\u001b[0m\u001b[0;34m.\u001b[0m\u001b[0mopen\u001b[0m\u001b[0;34m(\u001b[0m\u001b[0murl\u001b[0m\u001b[0;34m,\u001b[0m \u001b[0mdata\u001b[0m\u001b[0;34m,\u001b[0m \u001b[0mtimeout\u001b[0m\u001b[0;34m)\u001b[0m\u001b[0;34m\u001b[0m\u001b[0;34m\u001b[0m\u001b[0m\n\u001b[0m\u001b[1;32m    217\u001b[0m \u001b[0;34m\u001b[0m\u001b[0m\n\u001b[1;32m    218\u001b[0m \u001b[0;32mdef\u001b[0m \u001b[0minstall_opener\u001b[0m\u001b[0;34m(\u001b[0m\u001b[0mopener\u001b[0m\u001b[0;34m)\u001b[0m\u001b[0;34m:\u001b[0m\u001b[0;34m\u001b[0m\u001b[0;34m\u001b[0m\u001b[0m\n",
            "\u001b[0;32m/usr/lib/python3.10/urllib/request.py\u001b[0m in \u001b[0;36mopen\u001b[0;34m(self, fullurl, data, timeout)\u001b[0m\n\u001b[1;32m    523\u001b[0m         \u001b[0;32mfor\u001b[0m \u001b[0mprocessor\u001b[0m \u001b[0;32min\u001b[0m \u001b[0mself\u001b[0m\u001b[0;34m.\u001b[0m\u001b[0mprocess_response\u001b[0m\u001b[0;34m.\u001b[0m\u001b[0mget\u001b[0m\u001b[0;34m(\u001b[0m\u001b[0mprotocol\u001b[0m\u001b[0;34m,\u001b[0m \u001b[0;34m[\u001b[0m\u001b[0;34m]\u001b[0m\u001b[0;34m)\u001b[0m\u001b[0;34m:\u001b[0m\u001b[0;34m\u001b[0m\u001b[0;34m\u001b[0m\u001b[0m\n\u001b[1;32m    524\u001b[0m             \u001b[0mmeth\u001b[0m \u001b[0;34m=\u001b[0m \u001b[0mgetattr\u001b[0m\u001b[0;34m(\u001b[0m\u001b[0mprocessor\u001b[0m\u001b[0;34m,\u001b[0m \u001b[0mmeth_name\u001b[0m\u001b[0;34m)\u001b[0m\u001b[0;34m\u001b[0m\u001b[0;34m\u001b[0m\u001b[0m\n\u001b[0;32m--> 525\u001b[0;31m             \u001b[0mresponse\u001b[0m \u001b[0;34m=\u001b[0m \u001b[0mmeth\u001b[0m\u001b[0;34m(\u001b[0m\u001b[0mreq\u001b[0m\u001b[0;34m,\u001b[0m \u001b[0mresponse\u001b[0m\u001b[0;34m)\u001b[0m\u001b[0;34m\u001b[0m\u001b[0;34m\u001b[0m\u001b[0m\n\u001b[0m\u001b[1;32m    526\u001b[0m \u001b[0;34m\u001b[0m\u001b[0m\n\u001b[1;32m    527\u001b[0m         \u001b[0;32mreturn\u001b[0m \u001b[0mresponse\u001b[0m\u001b[0;34m\u001b[0m\u001b[0;34m\u001b[0m\u001b[0m\n",
            "\u001b[0;32m/usr/lib/python3.10/urllib/request.py\u001b[0m in \u001b[0;36mhttp_response\u001b[0;34m(self, request, response)\u001b[0m\n\u001b[1;32m    632\u001b[0m         \u001b[0;31m# request was successfully received, understood, and accepted.\u001b[0m\u001b[0;34m\u001b[0m\u001b[0;34m\u001b[0m\u001b[0m\n\u001b[1;32m    633\u001b[0m         \u001b[0;32mif\u001b[0m \u001b[0;32mnot\u001b[0m \u001b[0;34m(\u001b[0m\u001b[0;36m200\u001b[0m \u001b[0;34m<=\u001b[0m \u001b[0mcode\u001b[0m \u001b[0;34m<\u001b[0m \u001b[0;36m300\u001b[0m\u001b[0;34m)\u001b[0m\u001b[0;34m:\u001b[0m\u001b[0;34m\u001b[0m\u001b[0;34m\u001b[0m\u001b[0m\n\u001b[0;32m--> 634\u001b[0;31m             response = self.parent.error(\n\u001b[0m\u001b[1;32m    635\u001b[0m                 'http', request, response, code, msg, hdrs)\n\u001b[1;32m    636\u001b[0m \u001b[0;34m\u001b[0m\u001b[0m\n",
            "\u001b[0;32m/usr/lib/python3.10/urllib/request.py\u001b[0m in \u001b[0;36merror\u001b[0;34m(self, proto, *args)\u001b[0m\n\u001b[1;32m    561\u001b[0m         \u001b[0;32mif\u001b[0m \u001b[0mhttp_err\u001b[0m\u001b[0;34m:\u001b[0m\u001b[0;34m\u001b[0m\u001b[0;34m\u001b[0m\u001b[0m\n\u001b[1;32m    562\u001b[0m             \u001b[0margs\u001b[0m \u001b[0;34m=\u001b[0m \u001b[0;34m(\u001b[0m\u001b[0mdict\u001b[0m\u001b[0;34m,\u001b[0m \u001b[0;34m'default'\u001b[0m\u001b[0;34m,\u001b[0m \u001b[0;34m'http_error_default'\u001b[0m\u001b[0;34m)\u001b[0m \u001b[0;34m+\u001b[0m \u001b[0morig_args\u001b[0m\u001b[0;34m\u001b[0m\u001b[0;34m\u001b[0m\u001b[0m\n\u001b[0;32m--> 563\u001b[0;31m             \u001b[0;32mreturn\u001b[0m \u001b[0mself\u001b[0m\u001b[0;34m.\u001b[0m\u001b[0m_call_chain\u001b[0m\u001b[0;34m(\u001b[0m\u001b[0;34m*\u001b[0m\u001b[0margs\u001b[0m\u001b[0;34m)\u001b[0m\u001b[0;34m\u001b[0m\u001b[0;34m\u001b[0m\u001b[0m\n\u001b[0m\u001b[1;32m    564\u001b[0m \u001b[0;34m\u001b[0m\u001b[0m\n\u001b[1;32m    565\u001b[0m \u001b[0;31m# XXX probably also want an abstract factory that knows when it makes\u001b[0m\u001b[0;34m\u001b[0m\u001b[0;34m\u001b[0m\u001b[0m\n",
            "\u001b[0;32m/usr/lib/python3.10/urllib/request.py\u001b[0m in \u001b[0;36m_call_chain\u001b[0;34m(self, chain, kind, meth_name, *args)\u001b[0m\n\u001b[1;32m    494\u001b[0m         \u001b[0;32mfor\u001b[0m \u001b[0mhandler\u001b[0m \u001b[0;32min\u001b[0m \u001b[0mhandlers\u001b[0m\u001b[0;34m:\u001b[0m\u001b[0;34m\u001b[0m\u001b[0;34m\u001b[0m\u001b[0m\n\u001b[1;32m    495\u001b[0m             \u001b[0mfunc\u001b[0m \u001b[0;34m=\u001b[0m \u001b[0mgetattr\u001b[0m\u001b[0;34m(\u001b[0m\u001b[0mhandler\u001b[0m\u001b[0;34m,\u001b[0m \u001b[0mmeth_name\u001b[0m\u001b[0;34m)\u001b[0m\u001b[0;34m\u001b[0m\u001b[0;34m\u001b[0m\u001b[0m\n\u001b[0;32m--> 496\u001b[0;31m             \u001b[0mresult\u001b[0m \u001b[0;34m=\u001b[0m \u001b[0mfunc\u001b[0m\u001b[0;34m(\u001b[0m\u001b[0;34m*\u001b[0m\u001b[0margs\u001b[0m\u001b[0;34m)\u001b[0m\u001b[0;34m\u001b[0m\u001b[0;34m\u001b[0m\u001b[0m\n\u001b[0m\u001b[1;32m    497\u001b[0m             \u001b[0;32mif\u001b[0m \u001b[0mresult\u001b[0m \u001b[0;32mis\u001b[0m \u001b[0;32mnot\u001b[0m \u001b[0;32mNone\u001b[0m\u001b[0;34m:\u001b[0m\u001b[0;34m\u001b[0m\u001b[0;34m\u001b[0m\u001b[0m\n\u001b[1;32m    498\u001b[0m                 \u001b[0;32mreturn\u001b[0m \u001b[0mresult\u001b[0m\u001b[0;34m\u001b[0m\u001b[0;34m\u001b[0m\u001b[0m\n",
            "\u001b[0;32m/usr/lib/python3.10/urllib/request.py\u001b[0m in \u001b[0;36mhttp_error_default\u001b[0;34m(self, req, fp, code, msg, hdrs)\u001b[0m\n\u001b[1;32m    641\u001b[0m \u001b[0;32mclass\u001b[0m \u001b[0mHTTPDefaultErrorHandler\u001b[0m\u001b[0;34m(\u001b[0m\u001b[0mBaseHandler\u001b[0m\u001b[0;34m)\u001b[0m\u001b[0;34m:\u001b[0m\u001b[0;34m\u001b[0m\u001b[0;34m\u001b[0m\u001b[0m\n\u001b[1;32m    642\u001b[0m     \u001b[0;32mdef\u001b[0m \u001b[0mhttp_error_default\u001b[0m\u001b[0;34m(\u001b[0m\u001b[0mself\u001b[0m\u001b[0;34m,\u001b[0m \u001b[0mreq\u001b[0m\u001b[0;34m,\u001b[0m \u001b[0mfp\u001b[0m\u001b[0;34m,\u001b[0m \u001b[0mcode\u001b[0m\u001b[0;34m,\u001b[0m \u001b[0mmsg\u001b[0m\u001b[0;34m,\u001b[0m \u001b[0mhdrs\u001b[0m\u001b[0;34m)\u001b[0m\u001b[0;34m:\u001b[0m\u001b[0;34m\u001b[0m\u001b[0;34m\u001b[0m\u001b[0m\n\u001b[0;32m--> 643\u001b[0;31m         \u001b[0;32mraise\u001b[0m \u001b[0mHTTPError\u001b[0m\u001b[0;34m(\u001b[0m\u001b[0mreq\u001b[0m\u001b[0;34m.\u001b[0m\u001b[0mfull_url\u001b[0m\u001b[0;34m,\u001b[0m \u001b[0mcode\u001b[0m\u001b[0;34m,\u001b[0m \u001b[0mmsg\u001b[0m\u001b[0;34m,\u001b[0m \u001b[0mhdrs\u001b[0m\u001b[0;34m,\u001b[0m \u001b[0mfp\u001b[0m\u001b[0;34m)\u001b[0m\u001b[0;34m\u001b[0m\u001b[0;34m\u001b[0m\u001b[0m\n\u001b[0m\u001b[1;32m    644\u001b[0m \u001b[0;34m\u001b[0m\u001b[0m\n\u001b[1;32m    645\u001b[0m \u001b[0;32mclass\u001b[0m \u001b[0mHTTPRedirectHandler\u001b[0m\u001b[0;34m(\u001b[0m\u001b[0mBaseHandler\u001b[0m\u001b[0;34m)\u001b[0m\u001b[0;34m:\u001b[0m\u001b[0;34m\u001b[0m\u001b[0;34m\u001b[0m\u001b[0m\n",
            "\u001b[0;31mHTTPError\u001b[0m: HTTP Error 403: Forbidden"
          ]
        }
      ]
    },
    {
      "cell_type": "markdown",
      "source": [
        "### **L6-5-1_code_challenge-Dcard 前十熱門討論**"
      ],
      "metadata": {
        "id": "XpqEvZxHdPgC"
      }
    },
    {
      "cell_type": "code",
      "source": [
        "# 將某個特定版標題寫入dcard.txt，並且換行\n",
        "# 抓出該版前十大熱門話題\n",
        "# Dcard 前十熱門討論\n",
        "# 1. 我有一個PR99的女友\n",
        "# 2. 想幫我爸找一位恩人\n",
        "# 3. #更 廁所有毒？...\n",
        "# -----------------------------------作業區-------------------------------------------\n",
        "\n",
        "#爬蟲爬蟲程式碼\n",
        "import urllib.request as req\n",
        "import bs4 # pip3 install beautifulsoup4\n",
        "\n",
        "#1-貼上想要的網站<CHANGE1>\n",
        "url = 'https://www.dcard.tw/f/food'\n",
        "\n",
        "#2-建立request物件與header資訊\n",
        "#<善良偽裝>找出自己的user-Agent，顯示使用者在用瀏覽器連線\n",
        "request = req.Request(url, headers={\n",
        "    'user-Agent':\n",
        "    'MMozilla/5.0 (Windows NT 10.0; Win64; x64) AppleWebKit/537.36 (KHTML, like Gecko) Chrome/86.0.4240.183 Safari/537.36'\n",
        "})\n",
        "#解析原始碼，取得每篇文章的標題\n",
        "with req.urlopen(request) as response:\n",
        "    data = response.read().decode('utf-8')\n",
        "\n",
        "# 使用beautifulsoup\n",
        "# 協助我們解析html 找出我們想要的部分\n",
        "parsed_data = bs4.BeautifulSoup(data,'html.parser')\n",
        "\n",
        "# 找出所有標題\n",
        "# ***find_all\n",
        "titles_list=parsed_data.find_all('a', class_ = 'tgn9uw-3 iuyCWN') #<CHANGE2># 找尋class = 'tgn9uw-3 ebwnQU'的標籤\n",
        "\n",
        "#抓出標題與副標，並寫入\n",
        "with open('前十大熱門討論_食物.text', 'w', encoding='utf-8') as file:\n",
        "    for i in range(len(titles_list)):\n",
        "        file.write(f'標題: {titles_list[i].string} \\n')\n",
        "        # print(f'標題: {titles_list1[i].string}\\n')\n",
        "\n",
        "#讀取檔案、迴圈在10行之內、透過變數數字印出\n",
        "with open('前十大熱門討論_食物.text', 'r', encoding='utf-8') as file:\n",
        "    x=0\n",
        "    for top10 in file:\n",
        "        if x<10:\n",
        "            x=x+1\n",
        "            print(str(x)+'. '+top10)\n",
        "        else:\n",
        "            break\n",
        "# -----------------------------------作業區-----------------------------------------------\n",
        "# extra challenge\n",
        "# 抓出該版前十大熱門話題外加表情回應\n",
        "# 寫入dcard2.txt，並且換行\n",
        "# 標題：我有一個PR99的女友  回應：7028\n",
        "# 標題：想幫我爸找一位恩人  回應：5247\n",
        "# 標題：#更 廁所有毒？  回應：4420"
      ],
      "metadata": {
        "id": "mHoveGwbdcoq"
      },
      "execution_count": null,
      "outputs": []
    },
    {
      "cell_type": "markdown",
      "source": [
        "### **L6-5-2_code_challenge-抓出該版前十大熱門話題外加表情回應**"
      ],
      "metadata": {
        "id": "wEk9f9AKep3w"
      }
    },
    {
      "cell_type": "code",
      "source": [
        "# HW2-extra challenge\n",
        "# 抓出該版前十大熱門話題外加表情回應\n",
        "# 寫入dcard2.txt，並且換行\n",
        "# 標題：我有一個PR99的女友  回應：7028\n",
        "# 標題：想幫我爸找一位恩人  回應：5247\n",
        "# 標題：#更 廁所有毒？  回應：4420\n",
        "# -----------------------------------作業區-----------------------------------------------\n",
        "\n",
        "import urllib.request as req\n",
        "import bs4 # pip3 install beautifulsoup4\n",
        "\n",
        "#1-貼上想要的網站\n",
        "url = 'https://www.dcard.tw/f/surfing'\n",
        "\n",
        "#2-建立request物件與header資訊\n",
        "request = req.Request(url, headers={\n",
        "    'user-Agent':\n",
        "    'MMozilla/5.0 (Windows NT 10.0; Win64; x64) AppleWebKit/537.36 (KHTML, like Gecko) Chrome/86.0.4240.183 Safari/537.36'\n",
        "})\n",
        "with req.urlopen(request) as response:\n",
        "    data = response.read().decode('utf-8')\n",
        "\n",
        "# 使用beautifulsoup\n",
        "parsed_data = bs4.BeautifulSoup(data,'html.parser')\n",
        "\n",
        "# 找出所有標題\n",
        "# ***find_all\n",
        "titles_list=parsed_data.find_all('a', class_ = 'tgn9uw-3 iuyCWN') # 找尋class = 'tgn9uw-3 ebwnQU'的標籤\n",
        "respond_list=parsed_data.find_all('div', class_ = 'cgoejl-3 fkFjDX')\n",
        "\n",
        "import emoji,re\n",
        "# for i in range(len(respond_list)):\n",
        "#     st = respond_list[i].string\n",
        "#     emoji_str = emoji.demojize(st)\n",
        "#     name = (re.sub(r':(.*?):','',emoji_str).strip())#清洗后的数据\n",
        "\n",
        "\n",
        "#抓出標題與副標，並寫入file\n",
        "with open('前十大熱門討論&表情回應.text', 'w', encoding='utf-8') as file:\n",
        "    for i in range(len(titles_list) and len(respond_list)):\n",
        "        st = respond_list[i].string\n",
        "        emoji_str = emoji.demojize(st)\n",
        "        name = re.sub(r':(.*?):','',emoji_str).strip()#\n",
        "        file.write(f'標題: {titles_list[i].string}  表情回應: {name}\\n')\n",
        "        # file.write(f'標題: {titles_list[i].string} \\n 表情回應: {name[i]} \\n')\n",
        "        # print(f'標題: {titles_list[i].string} \\n 表情回應: {name[i]} \\n')\n",
        "\n",
        "#讀取檔案、迴圈在10行之內、透過變數數字印出\n",
        "with open('前十大熱門討論&表情回應.text', 'r', encoding='utf-8') as file:\n",
        "    x=0\n",
        "    for top10 in file:\n",
        "        if x<10:\n",
        "            x=x+1\n",
        "            print(str(x)+'. '+top10)\n",
        "        else:\n",
        "            break\n",
        "# -----------------------------------作業區-----------------------------------------------\n",
        ""
      ],
      "metadata": {
        "id": "kHJ7kgAXeu5Y"
      },
      "execution_count": null,
      "outputs": []
    },
    {
      "cell_type": "markdown",
      "source": [
        "### **L6-5-3_code_challenge-需檢查**"
      ],
      "metadata": {
        "id": "PhUw116Ee3co"
      }
    },
    {
      "cell_type": "code",
      "source": [
        "# 將某個特定版標題寫入dcard.txt，並且換行\n",
        "# 抓出該版前十大熱門話題\n",
        "# Dcard 前十熱門討論\n",
        "# 1. 我有一個PR99的女友\n",
        "# 2. 想幫我爸找一位恩人\n",
        "# 3. #更 廁所有毒？...\n",
        "# -----------------------------------作業區-------------------------------------------\n",
        "\n",
        "import urllib.request as req\n",
        "import bs4 # pip3 install beautifulsoup4\n",
        "\n",
        "#1-貼上想要的網站<CHANGE1>\n",
        "url = 'https://www.ptt.cc/bbs/KoreaDrama/index.html'\n",
        "\n",
        "#2-建立request物件與header資訊\n",
        "request = req.Request(url, headers={\n",
        "    'user-Agent':\n",
        "    'MMozilla/5.0 (Windows NT 10.0; Win64; x64) AppleWebKit/537.36 (KHTML, like Gecko) Chrome/86.0.4240.183 Safari/537.36'\n",
        "})\n",
        "with req.urlopen(request) as response:\n",
        "    data = response.read().decode('utf-8')\n",
        "\n",
        "# 使用beautifulsoup\n",
        "parsed_data = bs4.BeautifulSoup(data,'html.parser')\n",
        "\n",
        "# 找出所有標題\n",
        "# ***find_all\n",
        "titles_list=parsed_data.find_all('div', class_ = 'title') #<CHANGE2># 找尋class = 'tgn9uw-3 ebwnQU'的標籤\n",
        "for title in titles_list:\n",
        "    print(title.text)\n",
        "\n",
        "\n",
        "\n",
        "# #抓出標題與副標，並寫入\n",
        "# with open('PTT前十大熱門討論.text', 'w', encoding='utf-8') as file:\n",
        "#     for i in range(len(titles_list)):\n",
        "#         file.write(f'標題: {titles_list[i].a.text} \\n')\n",
        "#         # print(f'標題: {title[i].string}\\n')\n",
        "\n",
        "# #讀取檔案、迴圈在10行之內、透過變數數字印出\n",
        "# with open('PTT前十大熱門討論.text', 'r', encoding='utf-8') as file:\n",
        "#     x=0\n",
        "#     for top10 in file:\n",
        "#         if x<10:\n",
        "#             x=x+1\n",
        "#             print(str(x)+top10)\n",
        "#         else:\n",
        "#             break\n",
        "# -----------------------------------作業區-----------------------------------------------\n",
        "# extra challenge\n",
        "# 抓出該版前十大熱門話題外加表情回應\n",
        "# 寫入dcard2.txt，並且換行\n",
        "# 標題：我有一個PR99的女友  回應：7028\n",
        "# 標題：想幫我爸找一位恩人  回應：5247\n",
        "# 標題：#更 廁所有毒？  回應：4420"
      ],
      "metadata": {
        "id": "atm9T4fZe2pI"
      },
      "execution_count": null,
      "outputs": []
    }
  ]
}