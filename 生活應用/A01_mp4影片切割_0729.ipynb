{
  "nbformat": 4,
  "nbformat_minor": 0,
  "metadata": {
    "colab": {
      "provenance": [],
      "authorship_tag": "ABX9TyO9Elp3axBFBpu5DWyzUoCG",
      "include_colab_link": true
    },
    "kernelspec": {
      "name": "python3",
      "display_name": "Python 3"
    },
    "language_info": {
      "name": "python"
    }
  },
  "cells": [
    {
      "cell_type": "markdown",
      "metadata": {
        "id": "view-in-github",
        "colab_type": "text"
      },
      "source": [
        "<a href=\"https://colab.research.google.com/github/Sandwhaletree/Mai_Finlab/blob/main/%E7%94%9F%E6%B4%BB%E6%87%89%E7%94%A8/A01_mp4%E5%BD%B1%E7%89%87%E5%88%87%E5%89%B2_0729.ipynb\" target=\"_parent\"><img src=\"https://colab.research.google.com/assets/colab-badge.svg\" alt=\"Open In Colab\"/></a>"
      ]
    },
    {
      "cell_type": "code",
      "execution_count": 1,
      "metadata": {
        "colab": {
          "base_uri": "https://localhost:8080/"
        },
        "id": "75ANqOgOj1a1",
        "outputId": "d1e9bd7e-e67d-435f-e325-0488954b0198"
      },
      "outputs": [
        {
          "output_type": "stream",
          "name": "stdout",
          "text": [
            "Requirement already satisfied: moviepy in /usr/local/lib/python3.10/dist-packages (1.0.3)\n",
            "Requirement already satisfied: decorator<5.0,>=4.0.2 in /usr/local/lib/python3.10/dist-packages (from moviepy) (4.4.2)\n",
            "Requirement already satisfied: tqdm<5.0,>=4.11.2 in /usr/local/lib/python3.10/dist-packages (from moviepy) (4.65.0)\n",
            "Requirement already satisfied: requests<3.0,>=2.8.1 in /usr/local/lib/python3.10/dist-packages (from moviepy) (2.27.1)\n",
            "Requirement already satisfied: proglog<=1.0.0 in /usr/local/lib/python3.10/dist-packages (from moviepy) (0.1.10)\n",
            "Requirement already satisfied: numpy>=1.17.3 in /usr/local/lib/python3.10/dist-packages (from moviepy) (1.22.4)\n",
            "Requirement already satisfied: imageio<3.0,>=2.5 in /usr/local/lib/python3.10/dist-packages (from moviepy) (2.25.1)\n",
            "Requirement already satisfied: imageio-ffmpeg>=0.2.0 in /usr/local/lib/python3.10/dist-packages (from moviepy) (0.4.8)\n",
            "Requirement already satisfied: pillow>=8.3.2 in /usr/local/lib/python3.10/dist-packages (from imageio<3.0,>=2.5->moviepy) (9.4.0)\n",
            "Requirement already satisfied: urllib3<1.27,>=1.21.1 in /usr/local/lib/python3.10/dist-packages (from requests<3.0,>=2.8.1->moviepy) (1.26.16)\n",
            "Requirement already satisfied: certifi>=2017.4.17 in /usr/local/lib/python3.10/dist-packages (from requests<3.0,>=2.8.1->moviepy) (2023.7.22)\n",
            "Requirement already satisfied: charset-normalizer~=2.0.0 in /usr/local/lib/python3.10/dist-packages (from requests<3.0,>=2.8.1->moviepy) (2.0.12)\n",
            "Requirement already satisfied: idna<4,>=2.5 in /usr/local/lib/python3.10/dist-packages (from requests<3.0,>=2.8.1->moviepy) (3.4)\n"
          ]
        }
      ],
      "source": [
        "!pip install moviepy"
      ]
    },
    {
      "cell_type": "code",
      "source": [
        "from moviepy.video.io.ffmpeg_tools import ffmpeg_extract_subclip\n",
        "\n",
        "# 設定影片檔案路徑\n",
        "video_file = \"your_video.mp4\"\n",
        "\n",
        "# 使用 moviepy 的 VideoFileClip 來取得影片長度\n",
        "from moviepy.video.io.VideoFileClip import VideoFileClip\n",
        "clip = VideoFileClip(video_file)\n",
        "video_duration = int(clip.duration)  # 影片長度，單位為秒\n",
        "\n",
        "# 每小時的秒數\n",
        "hour_in_seconds = 60 * 60\n",
        "\n",
        "# 輸入開始時間點，例如你想要從第26分鐘開始切割\n",
        "start_minute = int(input(\"請輸入開始切割的分鐘數: \"))\n",
        "start_time = start_minute * 60\n",
        "\n",
        "# 計算需要切割的次數\n",
        "splits = (video_duration - start_time) // hour_in_seconds\n",
        "if (video_duration - start_time) % hour_in_seconds > 0:\n",
        "    splits += 1\n",
        "\n",
        "# 進行切割\n",
        "for i in range(splits):\n",
        "    start = start_time + i * hour_in_seconds\n",
        "    end = start_time + (i + 1) * hour_in_seconds if start_time + (i + 1) * hour_in_seconds < video_duration else video_duration\n",
        "    output_file = f\"output_{i}.mp4\"\n",
        "    ffmpeg_extract_subclip(video_file, start, end, targetname=output_file)\n"
      ],
      "metadata": {
        "id": "_twtswAkkXgm"
      },
      "execution_count": null,
      "outputs": []
    }
  ]
}