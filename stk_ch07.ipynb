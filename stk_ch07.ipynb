{
  "cells": [
    {
      "cell_type": "markdown",
      "metadata": {
        "id": "view-in-github",
        "colab_type": "text"
      },
      "source": [
        "<a href=\"https://colab.research.google.com/github/Sandwhaletree/Mai_Finlab/blob/main/stk_ch07.ipynb\" target=\"_parent\"><img src=\"https://colab.research.google.com/assets/colab-badge.svg\" alt=\"Open In Colab\"/></a>"
      ]
    },
    {
      "cell_type": "markdown",
      "metadata": {
        "id": "0m006lg2aBlo"
      },
      "source": [
        "# CH-07 年報問答機器人"
      ]
    },
    {
      "cell_type": "markdown",
      "metadata": {
        "id": "aDeujD32ClKr"
      },
      "source": [
        "## 7-2 取得年報"
      ]
    },
    {
      "cell_type": "markdown",
      "metadata": {
        "id": "r9LdYpop4TP4"
      },
      "source": [
        "### 1️⃣  匯入套件"
      ]
    },
    {
      "cell_type": "code",
      "execution_count": null,
      "metadata": {
        "id": "DMJyrZh6Z89A"
      },
      "outputs": [],
      "source": [
        "import requests\n",
        "from bs4 import BeautifulSoup"
      ]
    },
    {
      "cell_type": "markdown",
      "metadata": {
        "id": "T05v3t_u4gxF"
      },
      "source": [
        "### 2️⃣ 建立函式-取得年報"
      ]
    },
    {
      "cell_type": "code",
      "execution_count": null,
      "metadata": {
        "id": "RswezCvohjXv"
      },
      "outputs": [],
      "source": [
        "def annual_report(id,y):\n",
        "  url = 'https://doc.twse.com.tw/server-java/t57sb01'\n",
        "  # 建立 POST 請求的表單\n",
        "  data = {\n",
        "      \"id\":\"\",\n",
        "      \"key\":\"\",\n",
        "      \"step\":\"1\",\n",
        "      \"co_id\":id,\n",
        "      \"year\":y,\n",
        "      \"seamon\":\"\",\n",
        "      \"mtype\":'F',\n",
        "      \"dtype\":'F04'\n",
        "  }\n",
        "  try:\n",
        "    # 發送 POST 請求\n",
        "    response = requests.post(url, data=data)\n",
        "    # 取得回應後擷取檔案名稱\n",
        "    link=BeautifulSoup(response.text, 'html.parser')\n",
        "    link1=link.find('a').text\n",
        "    print(link1)\n",
        "  except Exception as e:\n",
        "    print(f\"發生{e}錯誤\")\n",
        "  # 建立第二個 POST 請求的表單\n",
        "  data2 = {\n",
        "      'step':'9',\n",
        "      'kind':'F',\n",
        "      'co_id':id,\n",
        "      'filename':link1 # 檔案名稱\n",
        "  }\n",
        "  try:\n",
        "    # 發送 POST 請求\n",
        "    response = requests.post(url, data=data2)\n",
        "    link=BeautifulSoup(response.text, 'html.parser')\n",
        "    link1=link.find('a')\n",
        "    # 取得 PDF 連結\n",
        "    link2 = link1.get('href')\n",
        "    print(link2)\n",
        "  except Exception as e:\n",
        "    print(f\"發生{e}錯誤\")\n",
        "  # 發送 GET 請求\n",
        "  try:\n",
        "    response = requests.get('https://doc.twse.com.tw' + link2)\n",
        "    # 取得 PDF 資料\n",
        "    with open(y + '_' + id + '.pdf', 'wb') as file:\n",
        "        file.write(response.content)\n",
        "    print('OK')\n",
        "  except Exception as e:\n",
        "    print(f\"發生{e}錯誤\")"
      ]
    },
    {
      "cell_type": "markdown",
      "metadata": {
        "id": "3e2fZDvP4j7U"
      },
      "source": [
        "### 3️⃣ 呼叫函式"
      ]
    },
    {
      "cell_type": "code",
      "execution_count": null,
      "metadata": {
        "colab": {
          "base_uri": "https://localhost:8080/"
        },
        "id": "IhWwMVnSNnCW",
        "outputId": "f3b5ce72-d0f3-4429-f60f-e10a977b18a4"
      },
      "outputs": [
        {
          "output_type": "stream",
          "name": "stdout",
          "text": [
            "2023_2330_20240604F04.pdf\n",
            "/pdf/2023_2330_20240604F04_20240614_150441.pdf\n",
            "OK\n"
          ]
        }
      ],
      "source": [
        "annual_report('2330','113')"
      ]
    },
    {
      "cell_type": "markdown",
      "metadata": {
        "id": "8llLs86CFIwr"
      },
      "source": [
        "## 7-3 年報問答"
      ]
    },
    {
      "cell_type": "markdown",
      "metadata": {
        "id": "eNeEBVGe4nm-"
      },
      "source": [
        "###4️⃣ 安裝相關套件"
      ]
    },
    {
      "cell_type": "markdown",
      "source": [
        "由於版本更新的相容性問題, pdfplumber使用舊版本的0.10.2"
      ],
      "metadata": {
        "id": "eDf7-8_3fcd-"
      }
    },
    {
      "cell_type": "code",
      "execution_count": null,
      "metadata": {
        "colab": {
          "base_uri": "https://localhost:8080/"
        },
        "id": "kUn2DtL56u-K",
        "outputId": "a5690272-57e8-4039-9b96-b9c318e5ca1b"
      },
      "outputs": [
        {
          "output_type": "stream",
          "name": "stdout",
          "text": [
            "Collecting langchain==0.0.335\n",
            "  Downloading langchain-0.0.335-py3-none-any.whl (2.0 MB)\n",
            "\u001b[2K     \u001b[90m━━━━━━━━━━━━━━━━━━━━━━━━━━━━━━━━━━━━━━━━\u001b[0m \u001b[32m2.0/2.0 MB\u001b[0m \u001b[31m12.8 MB/s\u001b[0m eta \u001b[36m0:00:00\u001b[0m\n",
            "\u001b[?25hCollecting openai\n",
            "  Downloading openai-1.34.0-py3-none-any.whl (325 kB)\n",
            "\u001b[2K     \u001b[90m━━━━━━━━━━━━━━━━━━━━━━━━━━━━━━━━━━━━━━━━\u001b[0m \u001b[32m325.5/325.5 kB\u001b[0m \u001b[31m17.5 MB/s\u001b[0m eta \u001b[36m0:00:00\u001b[0m\n",
            "\u001b[?25hCollecting tiktoken\n",
            "  Downloading tiktoken-0.7.0-cp310-cp310-manylinux_2_17_x86_64.manylinux2014_x86_64.whl (1.1 MB)\n",
            "\u001b[2K     \u001b[90m━━━━━━━━━━━━━━━━━━━━━━━━━━━━━━━━━━━━━━━━\u001b[0m \u001b[32m1.1/1.1 MB\u001b[0m \u001b[31m23.6 MB/s\u001b[0m eta \u001b[36m0:00:00\u001b[0m\n",
            "\u001b[?25hCollecting pdfplumber==0.10.2\n",
            "  Downloading pdfplumber-0.10.2-py3-none-any.whl (47 kB)\n",
            "\u001b[2K     \u001b[90m━━━━━━━━━━━━━━━━━━━━━━━━━━━━━━━━━━━━━━━━\u001b[0m \u001b[32m47.5/47.5 kB\u001b[0m \u001b[31m8.9 MB/s\u001b[0m eta \u001b[36m0:00:00\u001b[0m\n",
            "\u001b[?25hCollecting faiss-cpu\n",
            "  Downloading faiss_cpu-1.8.0-cp310-cp310-manylinux_2_17_x86_64.manylinux2014_x86_64.whl (27.0 MB)\n",
            "\u001b[2K     \u001b[90m━━━━━━━━━━━━━━━━━━━━━━━━━━━━━━━━━━━━━━━━\u001b[0m \u001b[32m27.0/27.0 MB\u001b[0m \u001b[31m49.3 MB/s\u001b[0m eta \u001b[36m0:00:00\u001b[0m\n",
            "\u001b[?25hRequirement already satisfied: PyYAML>=5.3 in /usr/local/lib/python3.10/dist-packages (from langchain==0.0.335) (6.0.1)\n",
            "Requirement already satisfied: SQLAlchemy<3,>=1.4 in /usr/local/lib/python3.10/dist-packages (from langchain==0.0.335) (2.0.30)\n",
            "Requirement already satisfied: aiohttp<4.0.0,>=3.8.3 in /usr/local/lib/python3.10/dist-packages (from langchain==0.0.335) (3.9.5)\n",
            "Requirement already satisfied: anyio<4.0 in /usr/local/lib/python3.10/dist-packages (from langchain==0.0.335) (3.7.1)\n",
            "Requirement already satisfied: async-timeout<5.0.0,>=4.0.0 in /usr/local/lib/python3.10/dist-packages (from langchain==0.0.335) (4.0.3)\n",
            "Collecting dataclasses-json<0.7,>=0.5.7 (from langchain==0.0.335)\n",
            "  Downloading dataclasses_json-0.6.7-py3-none-any.whl (28 kB)\n",
            "Collecting jsonpatch<2.0,>=1.33 (from langchain==0.0.335)\n",
            "  Downloading jsonpatch-1.33-py2.py3-none-any.whl (12 kB)\n",
            "Collecting langsmith<0.1.0,>=0.0.63 (from langchain==0.0.335)\n",
            "  Downloading langsmith-0.0.92-py3-none-any.whl (56 kB)\n",
            "\u001b[2K     \u001b[90m━━━━━━━━━━━━━━━━━━━━━━━━━━━━━━━━━━━━━━━━\u001b[0m \u001b[32m56.5/56.5 kB\u001b[0m \u001b[31m10.2 MB/s\u001b[0m eta \u001b[36m0:00:00\u001b[0m\n",
            "\u001b[?25hRequirement already satisfied: numpy<2,>=1 in /usr/local/lib/python3.10/dist-packages (from langchain==0.0.335) (1.25.2)\n",
            "Requirement already satisfied: pydantic<3,>=1 in /usr/local/lib/python3.10/dist-packages (from langchain==0.0.335) (2.7.3)\n",
            "Requirement already satisfied: requests<3,>=2 in /usr/local/lib/python3.10/dist-packages (from langchain==0.0.335) (2.31.0)\n",
            "Requirement already satisfied: tenacity<9.0.0,>=8.1.0 in /usr/local/lib/python3.10/dist-packages (from langchain==0.0.335) (8.3.0)\n",
            "Collecting pdfminer.six==20221105 (from pdfplumber==0.10.2)\n",
            "  Downloading pdfminer.six-20221105-py3-none-any.whl (5.6 MB)\n",
            "\u001b[2K     \u001b[90m━━━━━━━━━━━━━━━━━━━━━━━━━━━━━━━━━━━━━━━━\u001b[0m \u001b[32m5.6/5.6 MB\u001b[0m \u001b[31m96.8 MB/s\u001b[0m eta \u001b[36m0:00:00\u001b[0m\n",
            "\u001b[?25hRequirement already satisfied: Pillow>=9.1 in /usr/local/lib/python3.10/dist-packages (from pdfplumber==0.10.2) (9.4.0)\n",
            "Collecting pypdfium2>=4.18.0 (from pdfplumber==0.10.2)\n",
            "  Downloading pypdfium2-4.30.0-py3-none-manylinux_2_17_x86_64.manylinux2014_x86_64.whl (2.8 MB)\n",
            "\u001b[2K     \u001b[90m━━━━━━━━━━━━━━━━━━━━━━━━━━━━━━━━━━━━━━━━\u001b[0m \u001b[32m2.8/2.8 MB\u001b[0m \u001b[31m55.7 MB/s\u001b[0m eta \u001b[36m0:00:00\u001b[0m\n",
            "\u001b[?25hRequirement already satisfied: charset-normalizer>=2.0.0 in /usr/local/lib/python3.10/dist-packages (from pdfminer.six==20221105->pdfplumber==0.10.2) (3.3.2)\n",
            "Requirement already satisfied: cryptography>=36.0.0 in /usr/local/lib/python3.10/dist-packages (from pdfminer.six==20221105->pdfplumber==0.10.2) (42.0.8)\n",
            "Requirement already satisfied: distro<2,>=1.7.0 in /usr/lib/python3/dist-packages (from openai) (1.7.0)\n",
            "Collecting httpx<1,>=0.23.0 (from openai)\n",
            "  Downloading httpx-0.27.0-py3-none-any.whl (75 kB)\n",
            "\u001b[2K     \u001b[90m━━━━━━━━━━━━━━━━━━━━━━━━━━━━━━━━━━━━━━━━\u001b[0m \u001b[32m75.6/75.6 kB\u001b[0m \u001b[31m12.2 MB/s\u001b[0m eta \u001b[36m0:00:00\u001b[0m\n",
            "\u001b[?25hRequirement already satisfied: sniffio in /usr/local/lib/python3.10/dist-packages (from openai) (1.3.1)\n",
            "Requirement already satisfied: tqdm>4 in /usr/local/lib/python3.10/dist-packages (from openai) (4.66.4)\n",
            "Requirement already satisfied: typing-extensions<5,>=4.7 in /usr/local/lib/python3.10/dist-packages (from openai) (4.12.2)\n",
            "Requirement already satisfied: regex>=2022.1.18 in /usr/local/lib/python3.10/dist-packages (from tiktoken) (2024.5.15)\n",
            "Requirement already satisfied: aiosignal>=1.1.2 in /usr/local/lib/python3.10/dist-packages (from aiohttp<4.0.0,>=3.8.3->langchain==0.0.335) (1.3.1)\n",
            "Requirement already satisfied: attrs>=17.3.0 in /usr/local/lib/python3.10/dist-packages (from aiohttp<4.0.0,>=3.8.3->langchain==0.0.335) (23.2.0)\n",
            "Requirement already satisfied: frozenlist>=1.1.1 in /usr/local/lib/python3.10/dist-packages (from aiohttp<4.0.0,>=3.8.3->langchain==0.0.335) (1.4.1)\n",
            "Requirement already satisfied: multidict<7.0,>=4.5 in /usr/local/lib/python3.10/dist-packages (from aiohttp<4.0.0,>=3.8.3->langchain==0.0.335) (6.0.5)\n",
            "Requirement already satisfied: yarl<2.0,>=1.0 in /usr/local/lib/python3.10/dist-packages (from aiohttp<4.0.0,>=3.8.3->langchain==0.0.335) (1.9.4)\n",
            "Requirement already satisfied: idna>=2.8 in /usr/local/lib/python3.10/dist-packages (from anyio<4.0->langchain==0.0.335) (3.7)\n",
            "Requirement already satisfied: exceptiongroup in /usr/local/lib/python3.10/dist-packages (from anyio<4.0->langchain==0.0.335) (1.2.1)\n",
            "Collecting marshmallow<4.0.0,>=3.18.0 (from dataclasses-json<0.7,>=0.5.7->langchain==0.0.335)\n",
            "  Downloading marshmallow-3.21.3-py3-none-any.whl (49 kB)\n",
            "\u001b[2K     \u001b[90m━━━━━━━━━━━━━━━━━━━━━━━━━━━━━━━━━━━━━━━━\u001b[0m \u001b[32m49.2/49.2 kB\u001b[0m \u001b[31m8.7 MB/s\u001b[0m eta \u001b[36m0:00:00\u001b[0m\n",
            "\u001b[?25hCollecting typing-inspect<1,>=0.4.0 (from dataclasses-json<0.7,>=0.5.7->langchain==0.0.335)\n",
            "  Downloading typing_inspect-0.9.0-py3-none-any.whl (8.8 kB)\n",
            "Requirement already satisfied: certifi in /usr/local/lib/python3.10/dist-packages (from httpx<1,>=0.23.0->openai) (2024.6.2)\n",
            "Collecting httpcore==1.* (from httpx<1,>=0.23.0->openai)\n",
            "  Downloading httpcore-1.0.5-py3-none-any.whl (77 kB)\n",
            "\u001b[2K     \u001b[90m━━━━━━━━━━━━━━━━━━━━━━━━━━━━━━━━━━━━━━━━\u001b[0m \u001b[32m77.9/77.9 kB\u001b[0m \u001b[31m13.5 MB/s\u001b[0m eta \u001b[36m0:00:00\u001b[0m\n",
            "\u001b[?25hCollecting h11<0.15,>=0.13 (from httpcore==1.*->httpx<1,>=0.23.0->openai)\n",
            "  Downloading h11-0.14.0-py3-none-any.whl (58 kB)\n",
            "\u001b[2K     \u001b[90m━━━━━━━━━━━━━━━━━━━━━━━━━━━━━━━━━━━━━━━━\u001b[0m \u001b[32m58.3/58.3 kB\u001b[0m \u001b[31m10.0 MB/s\u001b[0m eta \u001b[36m0:00:00\u001b[0m\n",
            "\u001b[?25hCollecting jsonpointer>=1.9 (from jsonpatch<2.0,>=1.33->langchain==0.0.335)\n",
            "  Downloading jsonpointer-3.0.0-py2.py3-none-any.whl (7.6 kB)\n",
            "Requirement already satisfied: annotated-types>=0.4.0 in /usr/local/lib/python3.10/dist-packages (from pydantic<3,>=1->langchain==0.0.335) (0.7.0)\n",
            "Requirement already satisfied: pydantic-core==2.18.4 in /usr/local/lib/python3.10/dist-packages (from pydantic<3,>=1->langchain==0.0.335) (2.18.4)\n",
            "Requirement already satisfied: urllib3<3,>=1.21.1 in /usr/local/lib/python3.10/dist-packages (from requests<3,>=2->langchain==0.0.335) (2.0.7)\n",
            "Requirement already satisfied: greenlet!=0.4.17 in /usr/local/lib/python3.10/dist-packages (from SQLAlchemy<3,>=1.4->langchain==0.0.335) (3.0.3)\n",
            "Requirement already satisfied: cffi>=1.12 in /usr/local/lib/python3.10/dist-packages (from cryptography>=36.0.0->pdfminer.six==20221105->pdfplumber==0.10.2) (1.16.0)\n",
            "Requirement already satisfied: packaging>=17.0 in /usr/local/lib/python3.10/dist-packages (from marshmallow<4.0.0,>=3.18.0->dataclasses-json<0.7,>=0.5.7->langchain==0.0.335) (24.1)\n",
            "Collecting mypy-extensions>=0.3.0 (from typing-inspect<1,>=0.4.0->dataclasses-json<0.7,>=0.5.7->langchain==0.0.335)\n",
            "  Downloading mypy_extensions-1.0.0-py3-none-any.whl (4.7 kB)\n",
            "Requirement already satisfied: pycparser in /usr/local/lib/python3.10/dist-packages (from cffi>=1.12->cryptography>=36.0.0->pdfminer.six==20221105->pdfplumber==0.10.2) (2.22)\n",
            "Installing collected packages: pypdfium2, mypy-extensions, marshmallow, jsonpointer, h11, faiss-cpu, typing-inspect, tiktoken, jsonpatch, httpcore, pdfminer.six, langsmith, httpx, dataclasses-json, pdfplumber, openai, langchain\n",
            "Successfully installed dataclasses-json-0.6.7 faiss-cpu-1.8.0 h11-0.14.0 httpcore-1.0.5 httpx-0.27.0 jsonpatch-1.33 jsonpointer-3.0.0 langchain-0.0.335 langsmith-0.0.92 marshmallow-3.21.3 mypy-extensions-1.0.0 openai-1.34.0 pdfminer.six-20221105 pdfplumber-0.10.2 pypdfium2-4.30.0 tiktoken-0.7.0 typing-inspect-0.9.0\n"
          ]
        }
      ],
      "source": [
        "!pip install langchain==0.0.335 openai tiktoken pdfplumber==0.10.2 faiss-cpu"
      ]
    },
    {
      "cell_type": "markdown",
      "metadata": {
        "id": "VceyfBhx4qRW"
      },
      "source": [
        "###  5️⃣ 匯入相關套件"
      ]
    },
    {
      "cell_type": "code",
      "execution_count": null,
      "metadata": {
        "id": "G4fv5tYU60ux"
      },
      "outputs": [],
      "source": [
        "import os\n",
        "import getpass\n",
        "from langchain.document_loaders import PDFPlumberLoader\n",
        "from langchain.text_splitter import RecursiveCharacterTextSplitter\n",
        "from langchain.embeddings import OpenAIEmbeddings\n",
        "from langchain.vectorstores import FAISS\n",
        "from langchain.chat_models import ChatOpenAI"
      ]
    },
    {
      "cell_type": "markdown",
      "metadata": {
        "id": "OC-KWjg54sh2"
      },
      "source": [
        "### 6️⃣ 設定環境變數和建立 OpenAI 模型"
      ]
    },
    {
      "cell_type": "code",
      "execution_count": null,
      "metadata": {
        "colab": {
          "base_uri": "https://localhost:8080/"
        },
        "id": "UNjmx9zCGEV9",
        "outputId": "119a47b1-e772-4a0e-978a-b33b4a28b55b"
      },
      "outputs": [
        {
          "name": "stdout",
          "output_type": "stream",
          "text": [
            "OpenAI API Key:··········\n"
          ]
        }
      ],
      "source": [
        "os.environ['OPENAI_API_KEY'] = getpass.getpass('OpenAI API Key:')\n",
        "llm_16k = ChatOpenAI(model=\"gpt-3.5-turbo\")"
      ]
    },
    {
      "cell_type": "markdown",
      "metadata": {
        "id": "q4axN95S4u2F"
      },
      "source": [
        "### 7️⃣ 建立函式-建立向量資料庫"
      ]
    },
    {
      "cell_type": "code",
      "execution_count": null,
      "metadata": {
        "id": "vpsrgVqTPsNn"
      },
      "outputs": [],
      "source": [
        "def pdf_loader(file,size,overlap):\n",
        "  loader = PDFPlumberLoader(file)\n",
        "  doc = loader.load()\n",
        "  text_splitter = RecursiveCharacterTextSplitter(\n",
        "                          chunk_size=size,\n",
        "                          chunk_overlap=overlap)\n",
        "  new_doc = text_splitter.split_documents(doc)\n",
        "  db = FAISS.from_documents(new_doc, OpenAIEmbeddings())\n",
        "  return db"
      ]
    },
    {
      "cell_type": "markdown",
      "metadata": {
        "id": "nkM4Wymz4xld"
      },
      "source": [
        "### 8️⃣  呼叫函式"
      ]
    },
    {
      "cell_type": "code",
      "execution_count": null,
      "metadata": {
        "id": "Q4RxY2097irW"
      },
      "outputs": [],
      "source": [
        "db = pdf_loader('/content/113_2330.pdf',500,50)"
      ]
    },
    {
      "cell_type": "markdown",
      "metadata": {
        "id": "T8WOOFCp4z0l"
      },
      "source": [
        "### 9️⃣ 查詢相關資料"
      ]
    },
    {
      "cell_type": "code",
      "execution_count": null,
      "metadata": {
        "colab": {
          "base_uri": "https://localhost:8080/"
        },
        "id": "iRF0tJ61U5hg",
        "outputId": "ab759965-acf8-440e-81c3-f30c7bf27513"
      },
      "outputs": [
        {
          "output_type": "stream",
          "name": "stdout",
          "text": [
            "5.4.1 客戶\n",
            "提升同仁問題解決與創新的能力，以維持台積公司競爭\n",
            "優勢並達到客戶滿意的雙贏目標。除了公司內部跨組織 台積公司的客戶遍布全球，產品種類眾多，在半導 最近二年度佔全年度合併營業收入淨額10%以上之客戶資料\n",
            "的學習交流外，台積公司亦透過「台灣持續改善活動競 體產業的各個領域中表現傑出。客戶包括有無晶\n",
            "單位：新台幣仟元\n",
            "賽」，跨產業分享改善手法，期望能以台積公司的經驗分 圓廠設計公司、系統公司和整合元件製造商，例 民國111年 民國110年\n",
            "名稱\n",
            "享，促進其他在地產業的發展與進步，並藉由觀摩其他 如：Advanced Micro Devices, Inc.、Amazon Web 佔全年度營業收入 佔全年度營業收入\n",
            "金額 與發行人之關係 金額 與發行人之關係\n",
            "淨額比率（%） 淨額比率（%）\n",
            "產業的改善方法，提升同仁問題解決與創新能力。民國 Services, Inc.、Broadcom Inc.、Intel Corporation、聯\n",
            "甲客戶 529,649,200 23% 無 405,402,955 26% 無\n",
            "_________\n",
            "能對台積公司的營運與財務表現產生負面影響。 台積公司的營運成長及產能的持續擴充計劃，仰賴來自 的營運成本，如果這些專利主張實體成功阻攔本公司所\n",
            "若台積公司無法克服上述挑戰，則可能對公司業務、財 市場中少數的供應商以得到充分的設備及相關服務，因 提供的產品及服務之交易，亦可能會嚴重干擾本公司的\n",
            "務狀況及經營結果造成負面影響。 採購集中之風險及因應措施 此可能面臨供應商供給有限且交貨期長的情況，為了優 營運。再者，隨著台積公司的製造營運擴大至部分國外區\n",
            "●\u0007原物料 化供應鏈管理，台積公司針對交貨前置期進行評估及預 域，本公司就智慧財產權被侵害之風險管理亦面臨更高\n",
            "銷售集中之風險及因應措施 台積公司需及時並以合理的市場價格獲得生產營運所需 測，以期能夠盡量降低供應鏈風險對營運成本的影響， 的挑戰。縱使本公司努力採取有力的措施以減輕在該等\n",
            "近年來，台積公司的客戶群與客戶的業務性質出現顯著 之足夠原物料，例如矽晶圓、製程用氣體、化學原料、光 台積公司也與各供應商持續擬定多項商務合作模式與 新區域內智慧財產權被侵害的風險，仍無法保證本公司\n",
            "_________\n",
            "持其未來發展優勢。\n",
            "我們將持續致力於優化製造營運（包括「數位化」我們的晶圓廠）來提高效率和生產力，藉以支援民國一百一十\n",
            "二年與此後的N3高度量產。\n",
            "我們正在增加台灣以外的產能以擴大我們的未來成長潛力、接觸全球人才，並進一步提升客戶信任。隨著我們擴 劉德音 魏魏哲哲家家\n",
            "大全球足跡並在世界各地進行招募，我們的首要任務是識別、吸引和雇用與台積公司核心價值和原則相符的人 董事長 總裁\n",
            "才，讓我們無論在何處營運，都能夠於所有員工間建立台積公司文化。\n",
            "010 011\n",
            "_________\n"
          ]
        }
      ],
      "source": [
        "query = \"公司是否有明確的成長或創新策略?\"\n",
        "docs = db.similarity_search(query,k=3)\n",
        "for i in docs:\n",
        "    print(i.page_content)\n",
        "    print('_________')"
      ]
    },
    {
      "cell_type": "markdown",
      "metadata": {
        "id": "VgpzZOij438G"
      },
      "source": [
        "### 🔟  匯入問答相關套件"
      ]
    },
    {
      "cell_type": "code",
      "execution_count": null,
      "metadata": {
        "id": "cnsilIt1JmDs"
      },
      "outputs": [],
      "source": [
        "from langchain.prompts import ChatPromptTemplate\n",
        "from langchain.chains import RetrievalQA"
      ]
    },
    {
      "cell_type": "markdown",
      "metadata": {
        "id": "k9a6x7na46RM"
      },
      "source": [
        "### 1️⃣1️⃣  建立函式-問答程式"
      ]
    },
    {
      "cell_type": "code",
      "execution_count": null,
      "metadata": {
        "id": "idLyQ6lVFMUD"
      },
      "outputs": [],
      "source": [
        "# 提示模板\n",
        "prompt = ChatPromptTemplate.from_messages([\n",
        "    (\"system\",\n",
        "     \"你是一個根據年報資料與上下文作回答的助手,\"\n",
        "     \"如果有明確數據或技術(產品)名稱可以用數據或名稱回答,\"\n",
        "     \"回答以繁體中文和台灣用語為主。\"\n",
        "     \"{context}\"),\n",
        "    (\"human\",\"{question}\")])\n",
        "\n",
        "# 建立問答函式\n",
        "def question_and_answer(question):\n",
        "    qa = RetrievalQA.from_llm(llm=llm_16k,\n",
        "                              prompt=prompt,\n",
        "                              return_source_documents=True,\n",
        "                              retriever=db.as_retriever(\n",
        "                                  search_kwargs={'k':10}))\n",
        "    result = qa(question)\n",
        "    return result"
      ]
    },
    {
      "cell_type": "markdown",
      "metadata": {
        "id": "e4UM2Kl148uW"
      },
      "source": [
        "### 1️⃣2️⃣ 建立迴圈進行問答"
      ]
    },
    {
      "cell_type": "code",
      "execution_count": null,
      "metadata": {
        "colab": {
          "base_uri": "https://localhost:8080/"
        },
        "id": "Xyejx1Ic8qQk",
        "outputId": "2b550940-d61d-42b5-e2d0-ebe56c3cef0f"
      },
      "outputs": [
        {
          "name": "stdout",
          "output_type": "stream",
          "text": [
            "輸入問題:公司是否有明確成長?\n",
            "根據年報中提到的資料，台積公司在民國一百一十一年的營業淨利增加了50%，稅後淨利增加了70.4%，營收增長了42.61%。這些數據顯示公司在該年度實現了明確的成長。此外，公司也提到正在擴大全球製造版圖以增加客戶信任和擴展未來的成長機會。\n",
            "_________\n",
            "輸入問題:公司未來一年的計畫\n",
            "根據所提供的資訊，目前年報並未提供公司未來一年的具體計畫。然而，根據上下文中的一些資訊，可以看出公司未來的一些重點方向和計畫:\n",
            "\n",
            "1. 優化製造營運：公司將致力於優化製造營運，包括數位化晶圓廠，以提高效率和生產力。\n",
            "\n",
            "2. 增加全球產能：公司將增加台灣以外地區的產能，以擴大未來的成長潛力，接觸全球人才，並提升客戶信任。\n",
            "\n",
            "3. 氣候變遷因應：公司將推動低碳製造，邁向淨零排放，並強化氣候韌性，評估重大氣候風險與機會對公司帶來的潛在營運與財務衝擊，並執行相關因應方案。\n",
            "\n",
            "4. 員工發展與健康：公司將持續關注員工發展，提供培訓課程、健康檢查等福利，並鼓勵員工參與運動活動，建立運動習慣。\n",
            "\n",
            "需要注意的是，以上僅為根據提供的片段資訊所推斷的一些可能性，具體的未來計畫還需要參考完整的年報資訊。\n",
            "_________\n",
            "輸入問題:\n"
          ]
        }
      ],
      "source": [
        "while True:\n",
        "    question = input(\"輸入問題:\")\n",
        "    if not question.strip():\n",
        "        break\n",
        "    result=question_and_answer(question)\n",
        "    print(result['result'])\n",
        "    print('_________')\n",
        "    #print(result[\"source_documents\"])"
      ]
    },
    {
      "cell_type": "markdown",
      "metadata": {
        "id": "uzAmbDDYFDkE"
      },
      "source": [
        "## 7-4 年報總結與分析"
      ]
    },
    {
      "cell_type": "markdown",
      "metadata": {
        "id": "4I10Pe8Y4-5F"
      },
      "source": [
        "### 1️⃣3️⃣ 回答結果及原始資料"
      ]
    },
    {
      "cell_type": "code",
      "execution_count": null,
      "metadata": {
        "id": "o65edAvKXUH5"
      },
      "outputs": [],
      "source": [
        "from langchain.chains.summarize import load_summarize_chain"
      ]
    },
    {
      "cell_type": "markdown",
      "metadata": {
        "id": "zr2Wz0MG5Avz"
      },
      "source": [
        "### 1️⃣4️⃣ 總結原始資料"
      ]
    },
    {
      "cell_type": "code",
      "source": [
        "# 建立關鍵字串列\n",
        "key_word = ['有關市場策略的調整或變化有何提及？',\n",
        "          '公司對未來一年的展望是什麼？',\n",
        "          '公司的總收入是否增長，淨利潤的正負情況是否有變化？',\n",
        "          '國際競爭及海外市場情況',\n",
        "          '目前的研發狀況?']\n",
        "data_list = []\n",
        "for word in key_word:\n",
        "    data = db.max_marginal_relevance_search(word)\n",
        "    # 整合 Document 串列\n",
        "    data_list += data\n",
        "\n",
        "# 建立提示訊息串列\n",
        "prompt_template = [(\"system\",\"你的任務是生成年報摘要。\"\n",
        "                \"我們提供年報{text}請你負責生成,\"\n",
        "                \"且要保留重點如營收漲跌、開發項目等,\"\n",
        "                \"最後請使用繁體中文輸出報告\")]\n",
        "prompt = ChatPromptTemplate.from_messages(messages=prompt_template)"
      ],
      "metadata": {
        "id": "37griuhHP0im"
      },
      "execution_count": null,
      "outputs": []
    },
    {
      "cell_type": "markdown",
      "metadata": {
        "id": "220bNY7y5Cs2"
      },
      "source": [
        "### 1️⃣5️⃣  呼叫函式"
      ]
    },
    {
      "cell_type": "code",
      "source": [
        "chain_refine_16k = load_summarize_chain(llm=llm_16k,\n",
        "                                        chain_type='stuff',\n",
        "                                        prompt=prompt)\n",
        "print(chain_refine_16k.run(data_list))"
      ],
      "metadata": {
        "colab": {
          "base_uri": "https://localhost:8080/"
        },
        "id": "l2XTY8L7Ppnc",
        "outputId": "e2196915-3f83-4a02-d9aa-dee50651022f"
      },
      "execution_count": null,
      "outputs": [
        {
          "output_type": "stream",
          "name": "stdout",
          "text": [
            "根據年報內容，台積公司在過去一年取得了可观的成绩和荣誉。公司營收增加了42.6%，稅后净利润增加了70.4%，每股盈利也有显著提高。在技术方面，公司推出了N4X製程技术、AI智能芯片技术，并持续推进N3和N2的生产计划。此外，公司在可持续发展方面也取得了积极成绩，获得了多项奖项认可，如全球百大创新机构和半导体盛世企业100强等。在社会责任方面，公司积极推动教育、环保和文化传承等项目，助力社会发展。综合来看，台積公司在多个领域取得了显著进展，展现出稳健的发展态势。\n"
          ]
        }
      ]
    },
    {
      "cell_type": "markdown",
      "metadata": {
        "id": "PtiJJipA5I9-"
      },
      "source": [
        "### 1️⃣6️⃣  提取關鍵字"
      ]
    },
    {
      "cell_type": "code",
      "source": [
        "from langchain.chains import LLMChain\n",
        "from langchain.output_parsers import CommaSeparatedListOutputParser\n",
        "output_parser = CommaSeparatedListOutputParser()\n",
        "\n",
        "word_prompt=ChatPromptTemplate.from_messages(messages=[\n",
        "    (\"human\",\"從{input}聯想出4個與年報分析有關的重要關鍵字,\"\\\n",
        "     \"請確保回答具有具有關聯性、多樣性和變化性。 \\n \"\n",
        "     \"僅回覆關鍵字, 並以半形逗號與空格來分隔。不要加入其他內容\"\n",
        "    \"\")]\n",
        ")\n",
        "word_chain = LLMChain(llm=llm_16k, prompt=word_prompt)\n",
        "output_parser.parse(word_chain('公司的營收狀況如何？')['text'])"
      ],
      "metadata": {
        "id": "zMeR0jjh2_5I",
        "colab": {
          "base_uri": "https://localhost:8080/"
        },
        "outputId": "1cc6b7fb-62b6-4ece-ecac-0e8bed54880d"
      },
      "execution_count": null,
      "outputs": [
        {
          "output_type": "execute_result",
          "data": {
            "text/plain": [
              "['成長', '利潤', '支出', '現金流量']"
            ]
          },
          "metadata": {},
          "execution_count": 25
        }
      ]
    },
    {
      "cell_type": "markdown",
      "metadata": {
        "id": "gKilRAeA5GNG"
      },
      "source": [
        "### 1️⃣7️⃣ 設定 AI 角色讓其分析報告"
      ]
    },
    {
      "cell_type": "code",
      "source": [
        "data_prompt=ChatPromptTemplate.from_messages(messages=[\n",
        "    (\"system\",\"你現在是一位專業的股票分析師,\"\n",
        "    \"你會以詳細、嚴謹的角度進行年報分析, 針對{output}作分析並提及重要數字\\\n",
        "    ,然後生成一份專業的趨勢分析報告。\"),\n",
        "    (\"human\",\"{text}\")])\n",
        "data_chain = LLMChain(llm=llm_16k, prompt=data_prompt)"
      ],
      "metadata": {
        "id": "y4nY5fkpVKlq"
      },
      "execution_count": null,
      "outputs": []
    },
    {
      "cell_type": "markdown",
      "metadata": {
        "id": "r3_A78R65LAd"
      },
      "source": [
        "### 1️⃣8️⃣ 整合函式"
      ]
    },
    {
      "cell_type": "code",
      "source": [
        "def analyze_chain(input):\n",
        "    # 搜尋「問題」的相關資料\n",
        "    data = db.max_marginal_relevance_search(input)\n",
        "\n",
        "    # 第一個 Chain 元件, 建立「關鍵字」串列\n",
        "    word = word_chain(input)\n",
        "    word_list = output_parser.parse(word['text'])\n",
        "\n",
        "    # 搜尋「關鍵字」的相關資料\n",
        "    for i in word_list:\n",
        "      data += db.max_marginal_relevance_search(i,k=2)\n",
        "    word_list.append(input)\n",
        "\n",
        "    # 第二個 Chain 元件, 生成分析報告\n",
        "    result = data_chain({'output':word_list,'text':data})\n",
        "\n",
        "    return result['text']"
      ],
      "metadata": {
        "id": "YWKb8jEydsoN"
      },
      "execution_count": null,
      "outputs": []
    },
    {
      "cell_type": "markdown",
      "metadata": {
        "id": "VT7XPS8z5NS4"
      },
      "source": [
        "### 1️⃣9️⃣ 呼叫函式"
      ]
    },
    {
      "cell_type": "code",
      "source": [
        "input = '公司的營收狀況如何？'\n",
        "print(analyze_chain(input))"
      ],
      "metadata": {
        "colab": {
          "base_uri": "https://localhost:8080/"
        },
        "id": "e-NHDVzqHOsU",
        "outputId": "d09637fe-18f2-4cd1-bdfc-aeb265cda705"
      },
      "execution_count": null,
      "outputs": [
        {
          "output_type": "stream",
          "name": "stdout",
          "text": [
            "根據台積電的年報資訊，我們可以進行以下方面的分析:\n",
            "\n",
            "1. 成長：台積電在營業收入淨額增加方面表現出色，主要是由於本年度平均銷售單價提高、晶圓出貨量增加及受匯率變動增加所致。另外，營業費用的增加主要是由於研究發展費用增加所致。\n",
            "\n",
            "2. 利潤：營業毛利增加主要是平均銷售單價提高、有利的匯率變動及持續成本改善所致，部分受產能利用率下降所抵銷。營業淨利增加主要是因營業毛利增加所致。\n",
            "\n",
            "3. 現金流：台積電在現金流方面表現出色，全年來自營業活動的現金流入約15,594億，主要包含稅後淨利及折舊、攤銷費用。投資活動的現金流出約9,440億，主要用於資本支出。\n",
            "\n",
            "4. 市場份額：根據年報資訊，台積電持續精進互補式金氧半導體影像感測器技術，並且正在開發N6射頻技術，以支援車用電子應用，這將有助於增強在市場上的競爭力。\n",
            "\n",
            "5. 公司的營收狀況：台積電的營收狀況表現出穩健的成長趨勢，主要是由於產品技術的持續進步和市場需求的增加。\n",
            "\n",
            "總體而言，台積電在成長、利潤和現金流方面呈現穩健的發展趨勢，並且在技術創新和市場份額方面持續投入和努力。這些數字顯示了公司的業務穩健性和成長潛力。\n"
          ]
        }
      ]
    }
  ],
  "metadata": {
    "colab": {
      "provenance": [],
      "include_colab_link": true
    },
    "kernelspec": {
      "display_name": "Python 3",
      "name": "python3"
    },
    "language_info": {
      "name": "python"
    }
  },
  "nbformat": 4,
  "nbformat_minor": 0
}