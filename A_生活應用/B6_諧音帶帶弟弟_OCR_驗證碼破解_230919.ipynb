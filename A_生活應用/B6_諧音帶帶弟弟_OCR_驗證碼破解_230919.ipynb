{
  "nbformat": 4,
  "nbformat_minor": 0,
  "metadata": {
    "colab": {
      "provenance": [],
      "mount_file_id": "1A5fPb1zFvvHJevlGJsVKm7BSui0ZBka0",
      "authorship_tag": "ABX9TyMrsJbDioqzZgLlPlo6x0rC",
      "include_colab_link": true
    },
    "kernelspec": {
      "name": "python3",
      "display_name": "Python 3"
    },
    "language_info": {
      "name": "python"
    }
  },
  "cells": [
    {
      "cell_type": "markdown",
      "metadata": {
        "id": "view-in-github",
        "colab_type": "text"
      },
      "source": [
        "<a href=\"https://colab.research.google.com/github/Sandwhaletree/Mai_Finlab/blob/main/A_%E7%94%9F%E6%B4%BB%E6%87%89%E7%94%A8/B6_%E8%AB%A7%E9%9F%B3%E5%B8%B6%E5%B8%B6%E5%BC%9F%E5%BC%9F_OCR_%E9%A9%97%E8%AD%89%E7%A2%BC%E7%A0%B4%E8%A7%A3_230919.ipynb\" target=\"_parent\"><img src=\"https://colab.research.google.com/assets/colab-badge.svg\" alt=\"Open In Colab\"/></a>"
      ]
    },
    {
      "cell_type": "markdown",
      "source": [
        "# 🔥🔥🔥**驗證碼快速破解**\n",
        "* [5 行 Python 實現驗證碼識別，太穩了！](https://www.readfog.com/a/1643186633286193152)\n",
        "* [大陸-带带弟弟OCR GitHub](https://github.com/sml2h3/ddddocr)"
      ],
      "metadata": {
        "id": "Ghg2xRmZxoCN"
      }
    },
    {
      "cell_type": "code",
      "source": [
        "%pip install ddddocr #环境支持 python <= 3.9"
      ],
      "metadata": {
        "colab": {
          "base_uri": "https://localhost:8080/"
        },
        "id": "eo_HaMwLx4eG",
        "outputId": "1ab1fa82-57cd-4ab0-e72a-8c2241065162"
      },
      "execution_count": null,
      "outputs": [
        {
          "output_type": "stream",
          "name": "stdout",
          "text": [
            "Looking in indexes: https://pypi.org/simple, https://us-python.pkg.dev/colab-wheels/public/simple/\n",
            "Collecting ddddocr\n",
            "  Downloading ddddocr-1.4.7-py3-none-any.whl (75.9 MB)\n",
            "\u001b[K     |████████████████████████████████| 75.9 MB 2.3 MB/s \n",
            "\u001b[?25hRequirement already satisfied: opencv-python-headless in /usr/local/lib/python3.8/dist-packages (from ddddocr) (4.6.0.66)\n",
            "Collecting onnxruntime\n",
            "  Downloading onnxruntime-1.13.1-cp38-cp38-manylinux_2_27_x86_64.whl (4.5 MB)\n",
            "\u001b[K     |████████████████████████████████| 4.5 MB 45.7 MB/s \n",
            "\u001b[?25hRequirement already satisfied: Pillow in /usr/local/lib/python3.8/dist-packages (from ddddocr) (7.1.2)\n",
            "Requirement already satisfied: numpy in /usr/local/lib/python3.8/dist-packages (from ddddocr) (1.21.6)\n",
            "Requirement already satisfied: protobuf in /usr/local/lib/python3.8/dist-packages (from onnxruntime->ddddocr) (3.19.6)\n",
            "Collecting coloredlogs\n",
            "  Downloading coloredlogs-15.0.1-py2.py3-none-any.whl (46 kB)\n",
            "\u001b[K     |████████████████████████████████| 46 kB 4.0 MB/s \n",
            "\u001b[?25hRequirement already satisfied: sympy in /usr/local/lib/python3.8/dist-packages (from onnxruntime->ddddocr) (1.7.1)\n",
            "Requirement already satisfied: flatbuffers in /usr/local/lib/python3.8/dist-packages (from onnxruntime->ddddocr) (1.12)\n",
            "Requirement already satisfied: packaging in /usr/local/lib/python3.8/dist-packages (from onnxruntime->ddddocr) (21.3)\n",
            "Collecting humanfriendly>=9.1\n",
            "  Downloading humanfriendly-10.0-py2.py3-none-any.whl (86 kB)\n",
            "\u001b[K     |████████████████████████████████| 86 kB 5.1 MB/s \n",
            "\u001b[?25hRequirement already satisfied: pyparsing!=3.0.5,>=2.0.2 in /usr/local/lib/python3.8/dist-packages (from packaging->onnxruntime->ddddocr) (3.0.9)\n",
            "Requirement already satisfied: mpmath>=0.19 in /usr/local/lib/python3.8/dist-packages (from sympy->onnxruntime->ddddocr) (1.2.1)\n",
            "Installing collected packages: humanfriendly, coloredlogs, onnxruntime, ddddocr\n",
            "Successfully installed coloredlogs-15.0.1 ddddocr-1.4.7 humanfriendly-10.0 onnxruntime-1.13.1\n"
          ]
        }
      ]
    },
    {
      "cell_type": "code",
      "source": [
        "import os\n",
        "os.chdir('/content/drive/MyDrive/colab_cloud/ocr_code')"
      ],
      "metadata": {
        "id": "6cmsI9KgyjpP"
      },
      "execution_count": null,
      "outputs": []
    },
    {
      "cell_type": "code",
      "source": [
        "%%time\n",
        "import ddddocr\n",
        "\n",
        "ocr = ddddocr.DdddOcr()\n",
        "\n",
        "with open('1.png', 'rb') as f:\n",
        "    image_bytes = f.read()\n",
        "\n",
        "res = ocr.classification(image_bytes)\n",
        "print(res)"
      ],
      "metadata": {
        "colab": {
          "base_uri": "https://localhost:8080/"
        },
        "id": "YWr3ixxqyMHh",
        "outputId": "4b2c1dfd-defb-4352-fab0-4a53bdabe2f4"
      },
      "execution_count": null,
      "outputs": [
        {
          "output_type": "stream",
          "name": "stdout",
          "text": [
            "欢迎使用ddddocr，本项目专注带动行业内卷，个人博客:wenanzhe.com\n",
            "训练数据支持来源于:http://146.56.204.113:19199/preview\n",
            "爬虫框架feapder可快速一键接入，快速开启爬虫之旅：https://github.com/Boris-code/feapder\n",
            "谷歌reCaptcha验证码 / hCaptcha验证码 / funCaptcha验证码商业级识别接口：https://yescaptcha.com/i/NSwk7i\n",
            "3T3R\n",
            "CPU times: user 75.6 ms, sys: 36.8 ms, total: 112 ms\n",
            "Wall time: 120 ms\n"
          ]
        }
      ]
    },
    {
      "cell_type": "code",
      "source": [
        "%%time\n",
        "\n",
        "ocr_list = []\n",
        "for i in range(1,12):\n",
        "  with open(str(i) + '.png' , 'rb' ) as f:\n",
        "    image_bytes = f.read()\n",
        "\n",
        "  res = ocr.classification(image_bytes)\n",
        "  ocr_list.append(res)\n",
        "\n",
        "ocr_list"
      ],
      "metadata": {
        "colab": {
          "base_uri": "https://localhost:8080/"
        },
        "id": "4ZBu6djD0EyB",
        "outputId": "0ae3f2ab-812f-494f-8517-7bb2b74f4a38"
      },
      "execution_count": null,
      "outputs": [
        {
          "output_type": "stream",
          "name": "stdout",
          "text": [
            "CPU times: user 299 ms, sys: 271 µs, total: 299 ms\n",
            "Wall time: 759 ms\n"
          ]
        },
        {
          "output_type": "execute_result",
          "data": {
            "text/plain": [
              "['3T3R',\n",
              " 'Wwf',\n",
              " '32e8',\n",
              " 'u3x5b',\n",
              " 'Dwse',\n",
              " '0y5',\n",
              " '8611',\n",
              " '3n3d',\n",
              " 'qyrk',\n",
              " '8A62N1m',\n",
              " 'm2a7']"
            ]
          },
          "metadata": {},
          "execution_count": 9
        }
      ]
    },
    {
      "cell_type": "code",
      "source": [],
      "metadata": {
        "id": "9AKJ8MAv0nkb"
      },
      "execution_count": null,
      "outputs": []
    }
  ]
}