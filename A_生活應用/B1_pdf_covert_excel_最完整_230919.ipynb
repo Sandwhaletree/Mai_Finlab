{
  "nbformat": 4,
  "nbformat_minor": 0,
  "metadata": {
    "colab": {
      "provenance": [],
      "mount_file_id": "1DxCmy5vmzbJ_9QuRhUq-yVcZtFuW8PIC",
      "authorship_tag": "ABX9TyPzmF4jk/23x5Oef5Vd6YNr",
      "include_colab_link": true
    },
    "kernelspec": {
      "name": "python3",
      "display_name": "Python 3"
    },
    "language_info": {
      "name": "python"
    }
  },
  "cells": [
    {
      "cell_type": "markdown",
      "metadata": {
        "id": "view-in-github",
        "colab_type": "text"
      },
      "source": [
        "<a href=\"https://colab.research.google.com/github/Sandwhaletree/Mai_Finlab/blob/main/A_%E7%94%9F%E6%B4%BB%E6%87%89%E7%94%A8/B1_pdf_covert_excel_%E6%9C%80%E5%AE%8C%E6%95%B4_230919.ipynb\" target=\"_parent\"><img src=\"https://colab.research.google.com/assets/colab-badge.svg\" alt=\"Open In Colab\"/></a>"
      ]
    },
    {
      "cell_type": "markdown",
      "source": [
        "# 🔥🔥🔥 **PDF功能解析**\n",
        "* ⚡ **A-PDF編輯**\n",
        "  * 1.合併PDF\n",
        "  * 2.分割PDF\n",
        "  * 3.刪除PDF\n",
        "  * 4.取代PDF\n",
        "  * 5.反轉PDF\n"
      ],
      "metadata": {
        "id": "UBh07kp2p6r9"
      }
    },
    {
      "cell_type": "code",
      "source": [
        "#指定google雲端路徑，方便儲存與下載檔案\n",
        "import os\n",
        "os.chdir('/content/drive/MyDrive/colab_cloud/pdf')"
      ],
      "metadata": {
        "id": "31IoOSYCrxDv"
      },
      "execution_count": null,
      "outputs": []
    },
    {
      "cell_type": "markdown",
      "source": [
        "* 請問PyPDF2與PyPDF4差異在哪？  \n",
        "PyPDF2是一個開源的Python庫，用於操作PDF文件，它可以讀取，編寫，合併和加密PDF文件。PyPDF4是PyPDF2的更新版本，它增加了更多的功能，如支持在PDF文件中搜索文本，將表格轉換為CSV文件，將PDF轉換為图像文件等。"
      ],
      "metadata": {
        "id": "zboJmjXhLUK5"
      }
    },
    {
      "cell_type": "code",
      "source": [
        "#安裝PyPDF2\n",
        "!pip install PyPDF2"
      ],
      "metadata": {
        "colab": {
          "base_uri": "https://localhost:8080/"
        },
        "id": "RqSR6eHQsEj7",
        "outputId": "a2dba1e2-aa4e-4b30-d308-24ad25537dd3"
      },
      "execution_count": null,
      "outputs": [
        {
          "output_type": "stream",
          "name": "stdout",
          "text": [
            "Looking in indexes: https://pypi.org/simple, https://us-python.pkg.dev/colab-wheels/public/simple/\n",
            "Collecting PyPDF2\n",
            "  Downloading pypdf2-3.0.0-py3-none-any.whl (232 kB)\n",
            "\u001b[K     |████████████████████████████████| 232 kB 5.0 MB/s \n",
            "\u001b[?25hRequirement already satisfied: typing_extensions>=3.10.0.0 in /usr/local/lib/python3.8/dist-packages (from PyPDF2) (4.4.0)\n",
            "Installing collected packages: PyPDF2\n",
            "Successfully installed PyPDF2-3.0.0\n"
          ]
        }
      ]
    },
    {
      "cell_type": "code",
      "source": [
        "!pip install pypdf2"
      ],
      "metadata": {
        "colab": {
          "base_uri": "https://localhost:8080/"
        },
        "id": "Nj4tFAYOOuFU",
        "outputId": "5a80443b-6e17-4060-d053-4e3d1a34689a"
      },
      "execution_count": null,
      "outputs": [
        {
          "output_type": "stream",
          "name": "stdout",
          "text": [
            "Looking in indexes: https://pypi.org/simple, https://us-python.pkg.dev/colab-wheels/public/simple/\n",
            "Requirement already satisfied: pypdf2 in /usr/local/lib/python3.8/dist-packages (3.0.0)\n",
            "Requirement already satisfied: typing_extensions>=3.10.0.0 in /usr/local/lib/python3.8/dist-packages (from pypdf2) (4.4.0)\n"
          ]
        }
      ]
    },
    {
      "cell_type": "code",
      "source": [
        "!pip install PyPDF4"
      ],
      "metadata": {
        "colab": {
          "base_uri": "https://localhost:8080/"
        },
        "id": "z_JJQAXsCmX9",
        "outputId": "b7790cc7-096f-4747-9c17-972c423b2bc6"
      },
      "execution_count": null,
      "outputs": [
        {
          "output_type": "stream",
          "name": "stdout",
          "text": [
            "Looking in indexes: https://pypi.org/simple, https://us-python.pkg.dev/colab-wheels/public/simple/\n",
            "Collecting PyPDF4\n",
            "  Downloading PyPDF4-1.27.0.tar.gz (63 kB)\n",
            "\u001b[K     |████████████████████████████████| 63 kB 1.7 MB/s \n",
            "\u001b[?25hBuilding wheels for collected packages: PyPDF4\n",
            "  Building wheel for PyPDF4 (setup.py) ... \u001b[?25l\u001b[?25hdone\n",
            "  Created wheel for PyPDF4: filename=PyPDF4-1.27.0-py3-none-any.whl size=61248 sha256=80dde6df3ae2e366bf9f48bc84bc8b65a8fdf7b803efd29ac11a9fbc7f9a5a32\n",
            "  Stored in directory: /root/.cache/pip/wheels/f0/79/75/d130281ec9996a2551dbdd1836aa4beb376d53f8cdca49b4b0\n",
            "Successfully built PyPDF4\n",
            "Installing collected packages: PyPDF4\n",
            "Successfully installed PyPDF4-1.27.0\n"
          ]
        }
      ]
    },
    {
      "cell_type": "code",
      "source": [
        "#安裝pikepdf\n",
        "!pip install pikepdf"
      ],
      "metadata": {
        "colab": {
          "base_uri": "https://localhost:8080/",
          "height": 438
        },
        "id": "rW1ccw6iiF89",
        "outputId": "b22c2b95-050b-4f58-a242-07e66b45e9ea"
      },
      "execution_count": null,
      "outputs": [
        {
          "output_type": "stream",
          "name": "stdout",
          "text": [
            "Looking in indexes: https://pypi.org/simple, https://us-python.pkg.dev/colab-wheels/public/simple/\n",
            "Collecting pikepdf\n",
            "  Downloading pikepdf-6.2.6-cp38-cp38-manylinux_2_17_x86_64.manylinux2014_x86_64.whl (2.6 MB)\n",
            "\u001b[K     |████████████████████████████████| 2.6 MB 5.0 MB/s \n",
            "\u001b[?25hRequirement already satisfied: packaging in /usr/local/lib/python3.8/dist-packages (from pikepdf) (21.3)\n",
            "Requirement already satisfied: lxml>=4.8 in /usr/local/lib/python3.8/dist-packages (from pikepdf) (4.9.2)\n",
            "Collecting deprecation\n",
            "  Downloading deprecation-2.1.0-py2.py3-none-any.whl (11 kB)\n",
            "Collecting Pillow>=9.0\n",
            "  Downloading Pillow-9.3.0-cp38-cp38-manylinux_2_17_x86_64.manylinux2014_x86_64.whl (3.2 MB)\n",
            "\u001b[K     |████████████████████████████████| 3.2 MB 49.1 MB/s \n",
            "\u001b[?25hRequirement already satisfied: pyparsing!=3.0.5,>=2.0.2 in /usr/local/lib/python3.8/dist-packages (from packaging->pikepdf) (3.0.9)\n",
            "Installing collected packages: Pillow, deprecation, pikepdf\n",
            "  Attempting uninstall: Pillow\n",
            "    Found existing installation: Pillow 7.1.2\n",
            "    Uninstalling Pillow-7.1.2:\n",
            "      Successfully uninstalled Pillow-7.1.2\n",
            "Successfully installed Pillow-9.3.0 deprecation-2.1.0 pikepdf-6.2.6\n"
          ]
        },
        {
          "output_type": "display_data",
          "data": {
            "application/vnd.colab-display-data+json": {
              "pip_warning": {
                "packages": [
                  "PIL"
                ]
              }
            }
          },
          "metadata": {}
        }
      ]
    },
    {
      "cell_type": "markdown",
      "source": [
        "* 何謂pdfplumber:\n",
        "主要為提取PDF中的文本和圖像，支持多種語言"
      ],
      "metadata": {
        "id": "lnxj-eD_MfJE"
      }
    },
    {
      "cell_type": "code",
      "source": [
        "!pip install pdfplumber"
      ],
      "metadata": {
        "colab": {
          "base_uri": "https://localhost:8080/"
        },
        "id": "18ZqIvXbMb1x",
        "outputId": "a9eb5ec6-8536-4a4d-a693-5d7cc79b9ce4"
      },
      "execution_count": null,
      "outputs": [
        {
          "output_type": "stream",
          "name": "stdout",
          "text": [
            "Looking in indexes: https://pypi.org/simple, https://us-python.pkg.dev/colab-wheels/public/simple/\n",
            "Collecting pdfplumber\n",
            "  Downloading pdfplumber-0.7.6-py3-none-any.whl (40 kB)\n",
            "\u001b[K     |████████████████████████████████| 40 kB 3.4 MB/s \n",
            "\u001b[?25hRequirement already satisfied: Pillow>=9.1 in /usr/local/lib/python3.8/dist-packages (from pdfplumber) (9.3.0)\n",
            "Collecting Wand>=0.6.10\n",
            "  Downloading Wand-0.6.10-py2.py3-none-any.whl (142 kB)\n",
            "\u001b[K     |████████████████████████████████| 142 kB 9.1 MB/s \n",
            "\u001b[?25hCollecting pdfminer.six==20221105\n",
            "  Downloading pdfminer.six-20221105-py3-none-any.whl (5.6 MB)\n",
            "\u001b[K     |████████████████████████████████| 5.6 MB 57.9 MB/s \n",
            "\u001b[?25hRequirement already satisfied: charset-normalizer>=2.0.0 in /usr/local/lib/python3.8/dist-packages (from pdfminer.six==20221105->pdfplumber) (2.1.1)\n",
            "Collecting cryptography>=36.0.0\n",
            "  Downloading cryptography-38.0.4-cp36-abi3-manylinux_2_24_x86_64.whl (4.0 MB)\n",
            "\u001b[K     |████████████████████████████████| 4.0 MB 51.6 MB/s \n",
            "\u001b[?25hRequirement already satisfied: cffi>=1.12 in /usr/local/lib/python3.8/dist-packages (from cryptography>=36.0.0->pdfminer.six==20221105->pdfplumber) (1.15.1)\n",
            "Requirement already satisfied: pycparser in /usr/local/lib/python3.8/dist-packages (from cffi>=1.12->cryptography>=36.0.0->pdfminer.six==20221105->pdfplumber) (2.21)\n",
            "Installing collected packages: cryptography, Wand, pdfminer.six, pdfplumber\n",
            "Successfully installed Wand-0.6.10 cryptography-38.0.4 pdfminer.six-20221105 pdfplumber-0.7.6\n"
          ]
        }
      ]
    },
    {
      "cell_type": "code",
      "source": [
        "!pip install pdfminer"
      ],
      "metadata": {
        "colab": {
          "base_uri": "https://localhost:8080/"
        },
        "id": "EInyikfTLykj",
        "outputId": "953f6073-2594-4b22-fd64-7cfb6eec8fd6"
      },
      "execution_count": null,
      "outputs": [
        {
          "output_type": "stream",
          "name": "stdout",
          "text": [
            "Looking in indexes: https://pypi.org/simple, https://us-python.pkg.dev/colab-wheels/public/simple/\n",
            "Collecting pdfminer\n",
            "  Downloading pdfminer-20191125.tar.gz (4.2 MB)\n",
            "\u001b[?25l     \u001b[90m━━━━━━━━━━━━━━━━━━━━━━━━━━━━━━━━━━━━━━━━\u001b[0m \u001b[32m0.0/4.2 MB\u001b[0m \u001b[31m?\u001b[0m eta \u001b[36m-:--:--\u001b[0m\r\u001b[2K     \u001b[91m━━━━━━━━━━━━━━━━━━━━━━━━━━━━━━━━━━━━━━━\u001b[0m\u001b[91m╸\u001b[0m \u001b[32m4.2/4.2 MB\u001b[0m \u001b[31m159.9 MB/s\u001b[0m eta \u001b[36m0:00:01\u001b[0m\r\u001b[2K     \u001b[90m━━━━━━━━━━━━━━━━━━━━━━━━━━━━━━━━━━━━━━━━\u001b[0m \u001b[32m4.2/4.2 MB\u001b[0m \u001b[31m85.7 MB/s\u001b[0m eta \u001b[36m0:00:00\u001b[0m\n",
            "\u001b[?25h  Preparing metadata (setup.py) ... \u001b[?25l\u001b[?25hdone\n",
            "Collecting pycryptodome\n",
            "  Downloading pycryptodome-3.16.0-cp35-abi3-manylinux_2_5_x86_64.manylinux1_x86_64.manylinux_2_12_x86_64.manylinux2010_x86_64.whl (2.3 MB)\n",
            "\u001b[2K     \u001b[90m━━━━━━━━━━━━━━━━━━━━━━━━━━━━━━━━━━━━━━━━\u001b[0m \u001b[32m2.3/2.3 MB\u001b[0m \u001b[31m81.9 MB/s\u001b[0m eta \u001b[36m0:00:00\u001b[0m\n",
            "\u001b[?25hBuilding wheels for collected packages: pdfminer\n",
            "  Building wheel for pdfminer (setup.py) ... \u001b[?25l\u001b[?25hdone\n",
            "  Created wheel for pdfminer: filename=pdfminer-20191125-py3-none-any.whl size=6140095 sha256=b7a75a584374c2621d594235ccd8d29fd8042b0c62fb399d39f98e0993649fd0\n",
            "  Stored in directory: /root/.cache/pip/wheels/1c/28/7d/f390b82bb0307deb63ff27a1474fd308ec68ee028cb9ab6283\n",
            "Successfully built pdfminer\n",
            "Installing collected packages: pycryptodome, pdfminer\n",
            "Successfully installed pdfminer-20191125 pycryptodome-3.16.0\n"
          ]
        }
      ]
    },
    {
      "cell_type": "code",
      "source": [
        "!pip install wand"
      ],
      "metadata": {
        "colab": {
          "base_uri": "https://localhost:8080/"
        },
        "id": "ACNffB_s0yRC",
        "outputId": "d5f6fdad-3a78-427f-e468-d6aeaba03808"
      },
      "execution_count": null,
      "outputs": [
        {
          "output_type": "stream",
          "name": "stdout",
          "text": [
            "Looking in indexes: https://pypi.org/simple, https://us-python.pkg.dev/colab-wheels/public/simple/\n",
            "Collecting wand\n",
            "  Downloading Wand-0.6.10-py2.py3-none-any.whl (142 kB)\n",
            "\u001b[K     |████████████████████████████████| 142 kB 5.0 MB/s \n",
            "\u001b[?25hInstalling collected packages: wand\n",
            "Successfully installed wand-0.6.10\n"
          ]
        }
      ]
    },
    {
      "cell_type": "code",
      "source": [
        "!sudo apt-get install imagemagick"
      ],
      "metadata": {
        "colab": {
          "base_uri": "https://localhost:8080/"
        },
        "id": "L4EztXvz1PId",
        "outputId": "32287489-f5a1-4a31-b961-0d1ba7ea706c"
      },
      "execution_count": null,
      "outputs": [
        {
          "output_type": "stream",
          "name": "stdout",
          "text": [
            "Reading package lists... Done\n",
            "Building dependency tree       \n",
            "Reading state information... Done\n",
            "The following package was automatically installed and is no longer required:\n",
            "  libnvidia-common-460\n",
            "Use 'sudo apt autoremove' to remove it.\n",
            "The following additional packages will be installed:\n",
            "  fonts-droid-fallback fonts-noto-mono ghostscript gsfonts\n",
            "  imagemagick-6-common imagemagick-6.q16 libcupsfilters1 libcupsimage2\n",
            "  libdjvulibre-text libdjvulibre21 libgs9 libgs9-common libijs-0.35\n",
            "  libjbig2dec0 liblqr-1-0 libmagickcore-6.q16-3 libmagickcore-6.q16-3-extra\n",
            "  libmagickwand-6.q16-3 libnetpbm10 libwmf0.2-7 netpbm poppler-data\n",
            "Suggested packages:\n",
            "  fonts-noto ghostscript-x imagemagick-doc autotrace cups-bsd | lpr | lprng\n",
            "  enscript gimp gnuplot grads hp2xx html2ps libwmf-bin mplayer povray radiance\n",
            "  sane-utils texlive-base-bin transfig ufraw-batch inkscape libjxr-tools\n",
            "  libwmf0.2-7-gtk poppler-utils fonts-japanese-mincho | fonts-ipafont-mincho\n",
            "  fonts-japanese-gothic | fonts-ipafont-gothic fonts-arphic-ukai\n",
            "  fonts-arphic-uming fonts-nanum\n",
            "The following NEW packages will be installed:\n",
            "  fonts-droid-fallback fonts-noto-mono ghostscript gsfonts imagemagick\n",
            "  imagemagick-6-common imagemagick-6.q16 libcupsfilters1 libcupsimage2\n",
            "  libdjvulibre-text libdjvulibre21 libgs9 libgs9-common libijs-0.35\n",
            "  libjbig2dec0 liblqr-1-0 libmagickcore-6.q16-3 libmagickcore-6.q16-3-extra\n",
            "  libmagickwand-6.q16-3 libnetpbm10 libwmf0.2-7 netpbm poppler-data\n",
            "0 upgraded, 23 newly installed, 0 to remove and 20 not upgraded.\n",
            "Need to get 18.4 MB of archives.\n",
            "After this operation, 66.3 MB of additional disk space will be used.\n",
            "Get:1 http://archive.ubuntu.com/ubuntu bionic/main amd64 fonts-droid-fallback all 1:6.0.1r16-1.1 [1,805 kB]\n",
            "Get:2 http://archive.ubuntu.com/ubuntu bionic/main amd64 liblqr-1-0 amd64 0.4.2-2.1 [27.7 kB]\n",
            "Get:3 http://archive.ubuntu.com/ubuntu bionic-updates/main amd64 imagemagick-6-common all 8:6.9.7.4+dfsg-16ubuntu6.14 [60.5 kB]\n",
            "Get:4 http://archive.ubuntu.com/ubuntu bionic-updates/main amd64 libmagickcore-6.q16-3 amd64 8:6.9.7.4+dfsg-16ubuntu6.14 [1,622 kB]\n",
            "Get:5 http://archive.ubuntu.com/ubuntu bionic-updates/main amd64 libmagickwand-6.q16-3 amd64 8:6.9.7.4+dfsg-16ubuntu6.14 [294 kB]\n",
            "Get:6 http://archive.ubuntu.com/ubuntu bionic/main amd64 poppler-data all 0.4.8-2 [1,479 kB]\n",
            "Get:7 http://archive.ubuntu.com/ubuntu bionic/main amd64 fonts-noto-mono all 20171026-2 [75.5 kB]\n",
            "Get:8 http://archive.ubuntu.com/ubuntu bionic-updates/main amd64 libcupsimage2 amd64 2.2.7-1ubuntu2.9 [18.6 kB]\n",
            "Get:9 http://archive.ubuntu.com/ubuntu bionic/main amd64 libijs-0.35 amd64 0.35-13 [15.5 kB]\n",
            "Get:10 http://archive.ubuntu.com/ubuntu bionic/main amd64 libjbig2dec0 amd64 0.13-6 [55.9 kB]\n",
            "Get:11 http://archive.ubuntu.com/ubuntu bionic-updates/main amd64 libgs9-common all 9.26~dfsg+0-0ubuntu0.18.04.17 [5,092 kB]\n",
            "Get:12 http://archive.ubuntu.com/ubuntu bionic-updates/main amd64 libgs9 amd64 9.26~dfsg+0-0ubuntu0.18.04.17 [2,267 kB]\n",
            "Get:13 http://archive.ubuntu.com/ubuntu bionic-updates/main amd64 ghostscript amd64 9.26~dfsg+0-0ubuntu0.18.04.17 [51.3 kB]\n",
            "Get:14 http://archive.ubuntu.com/ubuntu bionic/main amd64 gsfonts all 1:8.11+urwcyr1.0.7~pre44-4.4 [3,120 kB]\n",
            "Get:15 http://archive.ubuntu.com/ubuntu bionic-updates/main amd64 imagemagick-6.q16 amd64 8:6.9.7.4+dfsg-16ubuntu6.14 [423 kB]\n",
            "Get:16 http://archive.ubuntu.com/ubuntu bionic-updates/main amd64 imagemagick amd64 8:6.9.7.4+dfsg-16ubuntu6.14 [14.2 kB]\n",
            "Get:17 http://archive.ubuntu.com/ubuntu bionic-updates/main amd64 libcupsfilters1 amd64 1.20.2-0ubuntu3.1 [108 kB]\n",
            "Get:18 http://archive.ubuntu.com/ubuntu bionic-updates/main amd64 libdjvulibre-text all 3.5.27.1-8ubuntu0.4 [49.4 kB]\n",
            "Get:19 http://archive.ubuntu.com/ubuntu bionic-updates/main amd64 libdjvulibre21 amd64 3.5.27.1-8ubuntu0.4 [561 kB]\n",
            "Get:20 http://archive.ubuntu.com/ubuntu bionic/main amd64 libwmf0.2-7 amd64 0.2.8.4-12 [150 kB]\n",
            "Get:21 http://archive.ubuntu.com/ubuntu bionic-updates/main amd64 libmagickcore-6.q16-3-extra amd64 8:6.9.7.4+dfsg-16ubuntu6.14 [62.2 kB]\n",
            "Get:22 http://archive.ubuntu.com/ubuntu bionic/main amd64 libnetpbm10 amd64 2:10.0-15.3build1 [58.0 kB]\n",
            "Get:23 http://archive.ubuntu.com/ubuntu bionic/main amd64 netpbm amd64 2:10.0-15.3build1 [1,017 kB]\n",
            "Fetched 18.4 MB in 2s (9,326 kB/s)\n",
            "debconf: unable to initialize frontend: Dialog\n",
            "debconf: (No usable dialog-like program is installed, so the dialog based frontend cannot be used. at /usr/share/perl5/Debconf/FrontEnd/Dialog.pm line 76, <> line 23.)\n",
            "debconf: falling back to frontend: Readline\n",
            "debconf: unable to initialize frontend: Readline\n",
            "debconf: (This frontend requires a controlling tty.)\n",
            "debconf: falling back to frontend: Teletype\n",
            "dpkg-preconfigure: unable to re-open stdin: \n",
            "Selecting previously unselected package fonts-droid-fallback.\n",
            "(Reading database ... 124016 files and directories currently installed.)\n",
            "Preparing to unpack .../00-fonts-droid-fallback_1%3a6.0.1r16-1.1_all.deb ...\n",
            "Unpacking fonts-droid-fallback (1:6.0.1r16-1.1) ...\n",
            "Selecting previously unselected package liblqr-1-0:amd64.\n",
            "Preparing to unpack .../01-liblqr-1-0_0.4.2-2.1_amd64.deb ...\n",
            "Unpacking liblqr-1-0:amd64 (0.4.2-2.1) ...\n",
            "Selecting previously unselected package imagemagick-6-common.\n",
            "Preparing to unpack .../02-imagemagick-6-common_8%3a6.9.7.4+dfsg-16ubuntu6.14_all.deb ...\n",
            "Unpacking imagemagick-6-common (8:6.9.7.4+dfsg-16ubuntu6.14) ...\n",
            "Selecting previously unselected package libmagickcore-6.q16-3:amd64.\n",
            "Preparing to unpack .../03-libmagickcore-6.q16-3_8%3a6.9.7.4+dfsg-16ubuntu6.14_amd64.deb ...\n",
            "Unpacking libmagickcore-6.q16-3:amd64 (8:6.9.7.4+dfsg-16ubuntu6.14) ...\n",
            "Selecting previously unselected package libmagickwand-6.q16-3:amd64.\n",
            "Preparing to unpack .../04-libmagickwand-6.q16-3_8%3a6.9.7.4+dfsg-16ubuntu6.14_amd64.deb ...\n",
            "Unpacking libmagickwand-6.q16-3:amd64 (8:6.9.7.4+dfsg-16ubuntu6.14) ...\n",
            "Selecting previously unselected package poppler-data.\n",
            "Preparing to unpack .../05-poppler-data_0.4.8-2_all.deb ...\n",
            "Unpacking poppler-data (0.4.8-2) ...\n",
            "Selecting previously unselected package fonts-noto-mono.\n",
            "Preparing to unpack .../06-fonts-noto-mono_20171026-2_all.deb ...\n",
            "Unpacking fonts-noto-mono (20171026-2) ...\n",
            "Selecting previously unselected package libcupsimage2:amd64.\n",
            "Preparing to unpack .../07-libcupsimage2_2.2.7-1ubuntu2.9_amd64.deb ...\n",
            "Unpacking libcupsimage2:amd64 (2.2.7-1ubuntu2.9) ...\n",
            "Selecting previously unselected package libijs-0.35:amd64.\n",
            "Preparing to unpack .../08-libijs-0.35_0.35-13_amd64.deb ...\n",
            "Unpacking libijs-0.35:amd64 (0.35-13) ...\n",
            "Selecting previously unselected package libjbig2dec0:amd64.\n",
            "Preparing to unpack .../09-libjbig2dec0_0.13-6_amd64.deb ...\n",
            "Unpacking libjbig2dec0:amd64 (0.13-6) ...\n",
            "Selecting previously unselected package libgs9-common.\n",
            "Preparing to unpack .../10-libgs9-common_9.26~dfsg+0-0ubuntu0.18.04.17_all.deb ...\n",
            "Unpacking libgs9-common (9.26~dfsg+0-0ubuntu0.18.04.17) ...\n",
            "Selecting previously unselected package libgs9:amd64.\n",
            "Preparing to unpack .../11-libgs9_9.26~dfsg+0-0ubuntu0.18.04.17_amd64.deb ...\n",
            "Unpacking libgs9:amd64 (9.26~dfsg+0-0ubuntu0.18.04.17) ...\n",
            "Selecting previously unselected package ghostscript.\n",
            "Preparing to unpack .../12-ghostscript_9.26~dfsg+0-0ubuntu0.18.04.17_amd64.deb ...\n",
            "Unpacking ghostscript (9.26~dfsg+0-0ubuntu0.18.04.17) ...\n",
            "Selecting previously unselected package gsfonts.\n",
            "Preparing to unpack .../13-gsfonts_1%3a8.11+urwcyr1.0.7~pre44-4.4_all.deb ...\n",
            "Unpacking gsfonts (1:8.11+urwcyr1.0.7~pre44-4.4) ...\n",
            "Selecting previously unselected package imagemagick-6.q16.\n",
            "Preparing to unpack .../14-imagemagick-6.q16_8%3a6.9.7.4+dfsg-16ubuntu6.14_amd64.deb ...\n",
            "Unpacking imagemagick-6.q16 (8:6.9.7.4+dfsg-16ubuntu6.14) ...\n",
            "Selecting previously unselected package imagemagick.\n",
            "Preparing to unpack .../15-imagemagick_8%3a6.9.7.4+dfsg-16ubuntu6.14_amd64.deb ...\n",
            "Unpacking imagemagick (8:6.9.7.4+dfsg-16ubuntu6.14) ...\n",
            "Selecting previously unselected package libcupsfilters1:amd64.\n",
            "Preparing to unpack .../16-libcupsfilters1_1.20.2-0ubuntu3.1_amd64.deb ...\n",
            "Unpacking libcupsfilters1:amd64 (1.20.2-0ubuntu3.1) ...\n",
            "Selecting previously unselected package libdjvulibre-text.\n",
            "Preparing to unpack .../17-libdjvulibre-text_3.5.27.1-8ubuntu0.4_all.deb ...\n",
            "Unpacking libdjvulibre-text (3.5.27.1-8ubuntu0.4) ...\n",
            "Selecting previously unselected package libdjvulibre21:amd64.\n",
            "Preparing to unpack .../18-libdjvulibre21_3.5.27.1-8ubuntu0.4_amd64.deb ...\n",
            "Unpacking libdjvulibre21:amd64 (3.5.27.1-8ubuntu0.4) ...\n",
            "Selecting previously unselected package libwmf0.2-7:amd64.\n",
            "Preparing to unpack .../19-libwmf0.2-7_0.2.8.4-12_amd64.deb ...\n",
            "Unpacking libwmf0.2-7:amd64 (0.2.8.4-12) ...\n",
            "Selecting previously unselected package libmagickcore-6.q16-3-extra:amd64.\n",
            "Preparing to unpack .../20-libmagickcore-6.q16-3-extra_8%3a6.9.7.4+dfsg-16ubuntu6.14_amd64.deb ...\n",
            "Unpacking libmagickcore-6.q16-3-extra:amd64 (8:6.9.7.4+dfsg-16ubuntu6.14) ...\n",
            "Selecting previously unselected package libnetpbm10.\n",
            "Preparing to unpack .../21-libnetpbm10_2%3a10.0-15.3build1_amd64.deb ...\n",
            "Unpacking libnetpbm10 (2:10.0-15.3build1) ...\n",
            "Selecting previously unselected package netpbm.\n",
            "Preparing to unpack .../22-netpbm_2%3a10.0-15.3build1_amd64.deb ...\n",
            "Unpacking netpbm (2:10.0-15.3build1) ...\n",
            "Setting up libgs9-common (9.26~dfsg+0-0ubuntu0.18.04.17) ...\n",
            "Setting up imagemagick-6-common (8:6.9.7.4+dfsg-16ubuntu6.14) ...\n",
            "Setting up fonts-droid-fallback (1:6.0.1r16-1.1) ...\n",
            "Setting up gsfonts (1:8.11+urwcyr1.0.7~pre44-4.4) ...\n",
            "Setting up poppler-data (0.4.8-2) ...\n",
            "Setting up libdjvulibre-text (3.5.27.1-8ubuntu0.4) ...\n",
            "Setting up libnetpbm10 (2:10.0-15.3build1) ...\n",
            "Setting up fonts-noto-mono (20171026-2) ...\n",
            "Setting up libcupsfilters1:amd64 (1.20.2-0ubuntu3.1) ...\n",
            "Setting up libcupsimage2:amd64 (2.2.7-1ubuntu2.9) ...\n",
            "Setting up liblqr-1-0:amd64 (0.4.2-2.1) ...\n",
            "Setting up libjbig2dec0:amd64 (0.13-6) ...\n",
            "Setting up libijs-0.35:amd64 (0.35-13) ...\n",
            "Setting up netpbm (2:10.0-15.3build1) ...\n",
            "Setting up libgs9:amd64 (9.26~dfsg+0-0ubuntu0.18.04.17) ...\n",
            "Setting up libwmf0.2-7:amd64 (0.2.8.4-12) ...\n",
            "Setting up libmagickcore-6.q16-3:amd64 (8:6.9.7.4+dfsg-16ubuntu6.14) ...\n",
            "Setting up libdjvulibre21:amd64 (3.5.27.1-8ubuntu0.4) ...\n",
            "Setting up ghostscript (9.26~dfsg+0-0ubuntu0.18.04.17) ...\n",
            "Setting up libmagickwand-6.q16-3:amd64 (8:6.9.7.4+dfsg-16ubuntu6.14) ...\n",
            "Setting up imagemagick-6.q16 (8:6.9.7.4+dfsg-16ubuntu6.14) ...\n",
            "update-alternatives: using /usr/bin/compare-im6.q16 to provide /usr/bin/compare (compare) in auto mode\n",
            "update-alternatives: using /usr/bin/compare-im6.q16 to provide /usr/bin/compare-im6 (compare-im6) in auto mode\n",
            "update-alternatives: using /usr/bin/animate-im6.q16 to provide /usr/bin/animate (animate) in auto mode\n",
            "update-alternatives: using /usr/bin/animate-im6.q16 to provide /usr/bin/animate-im6 (animate-im6) in auto mode\n",
            "update-alternatives: using /usr/bin/convert-im6.q16 to provide /usr/bin/convert (convert) in auto mode\n",
            "update-alternatives: using /usr/bin/convert-im6.q16 to provide /usr/bin/convert-im6 (convert-im6) in auto mode\n",
            "update-alternatives: using /usr/bin/composite-im6.q16 to provide /usr/bin/composite (composite) in auto mode\n",
            "update-alternatives: using /usr/bin/composite-im6.q16 to provide /usr/bin/composite-im6 (composite-im6) in auto mode\n",
            "update-alternatives: using /usr/bin/conjure-im6.q16 to provide /usr/bin/conjure (conjure) in auto mode\n",
            "update-alternatives: using /usr/bin/conjure-im6.q16 to provide /usr/bin/conjure-im6 (conjure-im6) in auto mode\n",
            "update-alternatives: using /usr/bin/import-im6.q16 to provide /usr/bin/import (import) in auto mode\n",
            "update-alternatives: using /usr/bin/import-im6.q16 to provide /usr/bin/import-im6 (import-im6) in auto mode\n",
            "update-alternatives: using /usr/bin/identify-im6.q16 to provide /usr/bin/identify (identify) in auto mode\n",
            "update-alternatives: using /usr/bin/identify-im6.q16 to provide /usr/bin/identify-im6 (identify-im6) in auto mode\n",
            "update-alternatives: using /usr/bin/stream-im6.q16 to provide /usr/bin/stream (stream) in auto mode\n",
            "update-alternatives: using /usr/bin/stream-im6.q16 to provide /usr/bin/stream-im6 (stream-im6) in auto mode\n",
            "update-alternatives: using /usr/bin/display-im6.q16 to provide /usr/bin/display (display) in auto mode\n",
            "update-alternatives: using /usr/bin/display-im6.q16 to provide /usr/bin/display-im6 (display-im6) in auto mode\n",
            "update-alternatives: using /usr/bin/montage-im6.q16 to provide /usr/bin/montage (montage) in auto mode\n",
            "update-alternatives: using /usr/bin/montage-im6.q16 to provide /usr/bin/montage-im6 (montage-im6) in auto mode\n",
            "update-alternatives: using /usr/bin/mogrify-im6.q16 to provide /usr/bin/mogrify (mogrify) in auto mode\n",
            "update-alternatives: using /usr/bin/mogrify-im6.q16 to provide /usr/bin/mogrify-im6 (mogrify-im6) in auto mode\n",
            "Setting up libmagickcore-6.q16-3-extra:amd64 (8:6.9.7.4+dfsg-16ubuntu6.14) ...\n",
            "Setting up imagemagick (8:6.9.7.4+dfsg-16ubuntu6.14) ...\n",
            "Processing triggers for hicolor-icon-theme (0.17-2) ...\n",
            "Processing triggers for fontconfig (2.12.6-0ubuntu2) ...\n",
            "Processing triggers for mime-support (3.60ubuntu1) ...\n",
            "Processing triggers for libc-bin (2.27-3ubuntu1.6) ...\n",
            "Processing triggers for man-db (2.8.3-2ubuntu0.1) ...\n"
          ]
        }
      ]
    },
    {
      "cell_type": "markdown",
      "source": [
        "## ⚡ **A-PDF編輯**\n",
        "* 1.合併PDF\n",
        "* 2.分割PDF\n",
        "* 3.刪除PDF\n",
        "* 4.取代PDF\n",
        "* 5.反轉PDF\n"
      ],
      "metadata": {
        "id": "VFwo_ynCKsJH"
      }
    },
    {
      "cell_type": "markdown",
      "source": [
        "### 👉**1.合併PDF**"
      ],
      "metadata": {
        "id": "Rfxe_jD4qGr9"
      }
    },
    {
      "cell_type": "markdown",
      "source": [
        "#### ▶ **1-1.使用PyPDF2**\n",
        "* 注意:*合并的时候，pdf_lst* 是根据文件的名称来排序生成，如果对于pdf文件合成顺序有要求，建议吧文件按照期望的合成顺序编号1 2 3这样"
      ],
      "metadata": {
        "id": "xMl7_B_irg-l"
      }
    },
    {
      "cell_type": "markdown",
      "source": [
        "##### **方法一**"
      ],
      "metadata": {
        "id": "A18fk_IJg69T"
      }
    },
    {
      "cell_type": "code",
      "source": [
        "import os #用來讀寫文件\n",
        "from PyPDF2 import PdfFileMerger #導入操作pdf相關的軟件包"
      ],
      "metadata": {
        "id": "KJnzhG9qrvsK"
      },
      "execution_count": null,
      "outputs": []
    },
    {
      "cell_type": "code",
      "source": [
        "#簡單合併(a+b+c)\n",
        "target_path = './merge_pdf' #定義pdf存放的文件路徑，這裡採相對路徑\n",
        "pdf_list = [f for f in os.listdir(target_path) if f.endswith('.pdf')] #獲取指定文件夾下所有pdf檔案\n",
        "pdf_list = [os.path.join(target_path, filename) for filename in pdf_list] #合併文件夾路徑和文件名，得到pdf文件全路徑\n",
        "\n",
        "file_merger = PdfFileMerger() #創建存放多個pdf文件的對象\n",
        "for pdf in pdf_list:\n",
        "    file_merger.append(pdf)     # 合并pdf文件\n",
        "\n",
        "file_merger.write(\"./merge_pdf/merge.pdf\") #將合併的pdf寫到指定文件內&命名檔名merge.pdf"
      ],
      "metadata": {
        "id": "gOzq505LsLl8"
      },
      "execution_count": null,
      "outputs": []
    },
    {
      "cell_type": "markdown",
      "source": [
        "##### **方法二**"
      ],
      "metadata": {
        "id": "wekWvK0Pgqvm"
      }
    },
    {
      "cell_type": "code",
      "source": [
        "import os\n",
        "from PyPDF2 import PdfFileReader, PdfFileWriter"
      ],
      "metadata": {
        "id": "nrJ0keunZwRo"
      },
      "execution_count": null,
      "outputs": []
    },
    {
      "cell_type": "code",
      "source": [
        "#合併的pdf放在一個資料夾\n",
        "def GetFileName(dir_path):\n",
        "    file_list = [os.path.join(dirpath, filesname)   #獲取dir_path路徑下的所有文件名\n",
        "         for dirpath, dirs, files in os.walk(dir_path)  #將文件名添加到file_list中\n",
        "         for filesname in files]\n",
        "    return file_list\n",
        "# print(GetFileName)\n",
        "\n",
        "#建立合併PDF的函數\n",
        "def MergePDF(dir_path, file_name):\n",
        "    output = PdfFileWriter() # 範例化寫入物件\n",
        "    outputPages = 0\n",
        "    file_list = GetFileName(dir_path) # 呼叫上一個函數獲取全部檔案的絕對路徑\n",
        "\n",
        "    for pdf_file in file_list:\n",
        "        print(\"檔案：%s\" % pdf_file.split('.')[-1], end=' ')\n",
        "\n",
        "        input = PdfFileReader(open(pdf_file, \"rb\")) # 讀取PDF檔案\n",
        "        pageCount = input.getNumPages() # 獲得源PDF檔案中頁面總數\n",
        "        outputPages += pageCount\n",
        "        print(\"頁數：%d\" % pageCount)\n",
        "        for iPage in range(pageCount): # 分別將page新增到輸出output中\n",
        "            output.addPage(input.getPage(iPage))\n",
        "    print(\"合併後的總頁數:%d\" % outputPages)\n",
        "    print(\"PDF檔案正在合併，請稍等......\")\n",
        "    with open(os.path.join(dir_path, file_name), \"wb\") as outputfile:\n",
        "        # 注意這裏的寫法和正常的上下文檔案寫入是相反的\n",
        "        output.write(outputfile)\n",
        "    print(\"合併完成!!!\")\n",
        "\n",
        "#存放資料夾\n",
        "if __name__ == '__main__':\n",
        "    dir_path ='./merge_pdf/file_pdf' # 設定存放多個pdf檔案的資料夾\n",
        "    file_name = 'merge_file_pdf.pdf' #合併檔案的新名字\n",
        "    MergePDF(dir_path, file_name)"
      ],
      "metadata": {
        "colab": {
          "base_uri": "https://localhost:8080/"
        },
        "id": "p0AnB9k6Zwak",
        "outputId": "600acec3-c2b5-4be2-83c4-7bb23787d380"
      },
      "execution_count": null,
      "outputs": [
        {
          "output_type": "stream",
          "name": "stdout",
          "text": [
            "檔案：pdf 頁數：1\n",
            "檔案：pdf 頁數：1\n",
            "檔案：pdf 頁數：1\n",
            "合併後的總頁數:3\n",
            "PDF檔案正在合併，請稍等......\n",
            "合併完成!!!\n"
          ]
        }
      ]
    },
    {
      "cell_type": "code",
      "source": [
        "#獲取所有pdf檔案的絕對路徑\n",
        "for dirpath, dirs, files in os.walk(dir_path):\n",
        "    print(dirpath) #獲取路徑名\n",
        "    print(files) #獲取檔案名"
      ],
      "metadata": {
        "colab": {
          "base_uri": "https://localhost:8080/"
        },
        "id": "RNT8NYD9ZwiX",
        "outputId": "a7c96cd6-b833-40f9-b1ad-c14d82d0ed57"
      },
      "execution_count": null,
      "outputs": [
        {
          "output_type": "stream",
          "name": "stdout",
          "text": [
            "./merge_pdf/file_pdf\n",
            "['page3.pdf', 'page1.pdf', 'page2.pdf', 'merge_file_pdf.pdf', 'merge_file_pdf (1).pdf']\n"
          ]
        }
      ]
    },
    {
      "cell_type": "markdown",
      "source": [
        "##### **方法三**\n",
        "1. 建立讀寫邏輯\n",
        "取器和寫入器應該怎麼配合呢?邏輯如下：  \n",
        "  * 讀取器將所有pdf讀取一遍  \n",
        "  * 讀取器將讀取的內容交給寫入器  \n",
        "  * 寫入器統一輸出到一個新pdf  \n",
        "  * 重點知識：讀取器只能將讀取的內容一頁一頁交給寫入器\n",
        "\n",
        "2. 若PDF檔案命名沒有邏輯"
      ],
      "metadata": {
        "id": "W5SVaa-mgxBU"
      }
    },
    {
      "cell_type": "code",
      "source": [
        "from PyPDF2 import PdfFileReader, PdfFileWriter\n",
        "#PdfFileReader 可以理解為讀取器\n",
        "#PdfFileWriter可以理解為寫入器"
      ],
      "metadata": {
        "id": "jAFwCJrne_oj"
      },
      "execution_count": null,
      "outputs": []
    },
    {
      "cell_type": "code",
      "source": [
        "#1-1建立讀寫邏輯\n",
        "path='./merge_pdf'\n",
        "pdf_writer = PdfFileWriter()\n",
        "\n",
        "for i in range(1,4): #剛好PDF檔案命名有邏輯\n",
        "    pdf_reader = PdfFileReader(path + '/page{}.pdf'.format(i))\n",
        "    for page in range(pdf_reader.getNumPages()): #獲取讀取器頁數，並用for in讀遍\n",
        "        pdf_writer.addPage(pdf_reader.getPage(page)) #將當前頁交給寫入器\n",
        "\n",
        "with open(path +'merge20221221.pdf' ,'wb') as out:\n",
        "    pdf_writer.write(out) #儲存路徑為PYTHON資料夾"
      ],
      "metadata": {
        "id": "97FcMTv8e_yr"
      },
      "execution_count": null,
      "outputs": []
    },
    {
      "cell_type": "code",
      "source": [
        "#1-2若PDF檔案命名沒有邏輯"
      ],
      "metadata": {
        "id": "chXzOeIOhEtg"
      },
      "execution_count": null,
      "outputs": []
    },
    {
      "cell_type": "code",
      "source": [
        "from PyPDF2 import PdfFileReader, PdfFileWriter\n",
        "import glob"
      ],
      "metadata": {
        "id": "qFQQ0Vs2hlbU"
      },
      "execution_count": null,
      "outputs": []
    },
    {
      "cell_type": "code",
      "source": [
        "path='./merge_pdf' #檔案位置\n",
        "pdf_writer = PdfFileWriter()\n",
        "\n",
        "for file in glob.glob(path+'/*.pdf'):\n",
        "    pdf_reader =  PdfFileReader(path)\n",
        "\n",
        "with open(path +'merge20221230.pdf' ,'wb')as out:\n",
        "    pdf_writer.write(out) #儲存路徑為PYTHON資料夾"
      ],
      "metadata": {
        "id": "W4W95Rlxhl66"
      },
      "execution_count": null,
      "outputs": []
    },
    {
      "cell_type": "markdown",
      "source": [
        "#### ▶ **1-2.使用pikepdf**\n",
        "* 可自己建立順序的pdf檔\n",
        "* 插入pdf: 如一份10頁的pdf檔，在最後加入2頁簽名檔"
      ],
      "metadata": {
        "id": "xhpZXci5rvJk"
      }
    },
    {
      "cell_type": "code",
      "source": [
        "import os\n",
        "from pikepdf import Pdf\n",
        "os.chdir('/content/drive/MyDrive/colab_cloud/pdf/merge_pdf')"
      ],
      "metadata": {
        "id": "ATThkXE2iC3L"
      },
      "execution_count": null,
      "outputs": []
    },
    {
      "cell_type": "code",
      "source": [
        "#打開檔案\n",
        "pdf = Pdf.open('page1.pdf')         # 開啟 pdf\n",
        "# pdf_pwd = Pdf.open('oxxostudio-pwd.pdf', password='1234') # 開啟密碼為 1234 的 pdf\n",
        "print(pdf)"
      ],
      "metadata": {
        "colab": {
          "base_uri": "https://localhost:8080/"
        },
        "id": "YIf16Bs8iD7q",
        "outputId": "97a270ac-31de-463d-c477-fb6c3fa5f43b"
      },
      "execution_count": null,
      "outputs": [
        {
          "output_type": "stream",
          "name": "stdout",
          "text": [
            "<pikepdf.Pdf description='page1.pdf'>\n"
          ]
        }
      ]
    },
    {
      "cell_type": "code",
      "source": [
        "#合併檔案\n",
        "pdf1 = Pdf.open('page1.pdf')        # 讀取第一份 pdf\n",
        "pdf2 = Pdf.open('page2.pdf')        # 讀取第二份 pdf\n",
        "pdf3 = Pdf.open('page3.pdf')        # 讀取第三份 pdf\n",
        "\n",
        "output = Pdf.new()                   # 建立新的 pdf 物件\n",
        "output.pages.append(pdf1.pages[0])   # 添加第一頁到第一份\n",
        "output.pages.append(pdf2.pages[0])   # 添加第一頁到第二份\n",
        "output.pages.append(pdf3.pages[0])   # 添加第一頁到第三份\n",
        "output.save('output_page_all.pdf')"
      ],
      "metadata": {
        "id": "GhvRiJXioFLb"
      },
      "execution_count": null,
      "outputs": []
    },
    {
      "cell_type": "code",
      "source": [
        "#插入pdf\n",
        "pdf1 = Pdf.open('page1.pdf')            # 開啟第一份 pdf\n",
        "pdf2 = Pdf.open('4000_vocabulary.pdf')  # 開啟第二份 pdf\n",
        "pdf1.pages.insert(1, pdf2.pages[5])     # 在第一份的第一頁後方，插入第二份的第一頁\n",
        "pdf1.save('output.pdf')"
      ],
      "metadata": {
        "id": "PQzLaszwoaSb"
      },
      "execution_count": null,
      "outputs": []
    },
    {
      "cell_type": "markdown",
      "source": [
        "#### ▶ **1-3.使用PyPDF4**\n",
        "* 指定頁數如p1、5、8合併為一份pdf"
      ],
      "metadata": {
        "id": "bQLUlQMPrvRQ"
      }
    },
    {
      "cell_type": "code",
      "source": [
        "from PyPDF4 import PdfFileReader,PdfFileWriter #pip install PyPDF4\n",
        "os.chdir('/content/drive/MyDrive/colab_cloud/pdf')"
      ],
      "metadata": {
        "id": "F2Faf81RGvZY"
      },
      "execution_count": null,
      "outputs": []
    },
    {
      "cell_type": "code",
      "source": [
        "pdf =PdfFileReader('./split_pdf/4000_vocabulary.pdf') #閱讀pdf檔\n",
        "pdf.numPages #文件頁數\n",
        "pdf.getDocumentInfo() #取PDF文件基本信息"
      ],
      "metadata": {
        "id": "A3rd92X8Gvll"
      },
      "execution_count": null,
      "outputs": []
    },
    {
      "cell_type": "code",
      "source": [
        "#多頁面合併成pdf-基礎版\n",
        "\n",
        "pdf =PdfFileReader('./split_pdf/4000_vocabulary.pdf') #閱讀pdf檔\n",
        "\n",
        "# pdf.getPage(3) #獲得第三頁\n",
        "pdf_writer = PdfFileWriter() #為保存文件，需創建PdfielWriter()对象，並將頁面添加至()\n",
        "pdf_writer.addPage(pdf.getPage(1)) #添加p1\n",
        "pdf_writer.addPage(pdf.getPage(5)) #添加p5\n",
        "pdf_writer.addPage(pdf.getPage(8)) #添加p8\n",
        "path=('./split_pdf/4000_voca_20221222.pdf') #共3頁(1、5、8)\n",
        "with open(path, 'wb') as f:\n",
        "    pdf_writer.write(f)"
      ],
      "metadata": {
        "id": "GZ1V-MEKe_5J"
      },
      "execution_count": null,
      "outputs": []
    },
    {
      "cell_type": "code",
      "source": [
        "#多頁面合併成pdf-進階版\n",
        "\n",
        "#了解頁數迴圈組成\n",
        "pages = [1,2,3,4,5,11,12]    #列出想要的頁面\n",
        "pages = [i-1 for i in pages] #轉換成電腦可讀的頁面\n",
        "pages #讀取電腦可讀頁面"
      ],
      "metadata": {
        "colab": {
          "base_uri": "https://localhost:8080/"
        },
        "id": "sq1rS0WJHI5s",
        "outputId": "73e572f8-76d8-4a0d-f5bc-931df9511b6e"
      },
      "execution_count": null,
      "outputs": [
        {
          "output_type": "execute_result",
          "data": {
            "text/plain": [
              "[0, 1, 2, 3, 4, 10, 11]"
            ]
          },
          "metadata": {},
          "execution_count": 17
        }
      ]
    },
    {
      "cell_type": "code",
      "source": [
        "#多頁面合併成pdf-進階版\n",
        "\n",
        "pdf =PdfFileReader('./split_pdf/4000_vocabulary.pdf') #閱讀pdf檔\n",
        "\n",
        "pdf_writer = PdfFileWriter()\n",
        "pages = [1,2,3,4,5,11,12]    #列出想要的頁面\n",
        "pages = [i-1 for i in pages] #轉換成電腦可讀的頁面\n",
        "for p in pages:\n",
        "    pdf_writer.addPage(pdf.getPage(p))\n",
        "\n",
        "path='./split_pdf/4000_voca_20221222_2.pdf'\n",
        "with open(path, 'wb') as f:\n",
        "    pdf_writer.write(f)"
      ],
      "metadata": {
        "id": "OhNFShmAHRWt"
      },
      "execution_count": null,
      "outputs": []
    },
    {
      "cell_type": "markdown",
      "source": [
        "### 👉**2.分割PDF**"
      ],
      "metadata": {
        "id": "HLdB7gwErY_u"
      }
    },
    {
      "cell_type": "markdown",
      "source": [
        "#### ▶ **2-1.使用PyPDF2**"
      ],
      "metadata": {
        "id": "uvF9u0ReJMUt"
      }
    },
    {
      "cell_type": "code",
      "source": [
        "from PyPDF2 import PdfFileReader, PdfFileWriter\n",
        "os.chdir('/content/drive/MyDrive/colab_cloud/pdf')"
      ],
      "metadata": {
        "id": "9EXtIfNVJSNm"
      },
      "execution_count": null,
      "outputs": []
    },
    {
      "cell_type": "code",
      "source": [
        "path = './merge_pdf'\n",
        "pdf_reader = PdfFileReader(path + '/merge.pdf') #讀取路徑中之檔案\n",
        "\n",
        "for page in range(pdf_reader.getNumPages()):\n",
        "    # 遍歷到每一頁挨個生成寫入器\n",
        "    pdf_writer = PdfFileWriter()\n",
        "    pdf_writer.addPage(pdf_reader.getPage(page))\n",
        "    # 寫入器被新增一頁後立即輸出產生pdf\n",
        "    with open(path + '/merge_py2-{}.pdf'.format(page + 1), 'wb') as out: #拆分出每一頁\n",
        "        pdf_writer.write(out)"
      ],
      "metadata": {
        "id": "tkcCK98gJMru"
      },
      "execution_count": null,
      "outputs": []
    },
    {
      "cell_type": "markdown",
      "source": [
        "#### ▶ **2-2.使用pikepdf**\n",
        "* 儲存單頁: 如取出20頁中第6頁，轉為pdf檔\n",
        "* 將每一頁pdf皆變成一份pdf檔: 如整份pdf60頁，將轉為60個pdf檔\n",
        "* 取出連續頁數pdf"
      ],
      "metadata": {
        "id": "7lDlKUNbrvXc"
      }
    },
    {
      "cell_type": "code",
      "source": [
        "import os\n",
        "from pikepdf import Pdf\n",
        "os.chdir('/content/drive/MyDrive/colab_cloud/pdf')"
      ],
      "metadata": {
        "id": "jfJ-40wEizjI"
      },
      "execution_count": null,
      "outputs": []
    },
    {
      "cell_type": "code",
      "source": [
        "#儲存單頁\n",
        "\n",
        "pdf = Pdf.open('./split_pdf/4000_vocabulary.pdf') #開啟pdf\n",
        "\n",
        "pages = pdf.pages                     # 將每一頁的內容變成串列 #print(pages)=len:60\n",
        "output = Pdf.new()                    # 建立新的 pdf 物件 #print(output)='empty PDF'\n",
        "output.pages.append(pages[6])         # 添加頁面內容\n",
        "output.save('./split_pdf/4000_new_splt.pdf')          # 儲存為新的pdf"
      ],
      "metadata": {
        "id": "3eKMdR7Jizvk"
      },
      "execution_count": null,
      "outputs": []
    },
    {
      "cell_type": "code",
      "source": [
        "#將每一頁pdf皆變成一份pdf檔\n",
        "pdf = Pdf.open('./split_pdf/4000_vocabulary.pdf') #開啟pdf\n",
        "pages = pdf.pages                                 # 將每一頁的內容變成串列\n",
        "n = 1\n",
        "for i in pages:\n",
        "    output = Pdf.new()\n",
        "    output.pages.append(i)\n",
        "    output.save(f'./split_pdf/4000_vocab{n}.pdf') # 格式化檔案名稱\n",
        "    print(f'4000_vocab{n}.pdf 檔案完成!')\n",
        "    n = n + 1                                     # 編號加 1"
      ],
      "metadata": {
        "colab": {
          "base_uri": "https://localhost:8080/"
        },
        "id": "apvcOCd3j1hh",
        "outputId": "33c8758f-e369-40af-b2b9-41b7925471b5"
      },
      "execution_count": null,
      "outputs": [
        {
          "output_type": "stream",
          "name": "stdout",
          "text": [
            "4000_vocab1.pdf 檔案完成!\n",
            "4000_vocab2.pdf 檔案完成!\n",
            "4000_vocab3.pdf 檔案完成!\n",
            "4000_vocab4.pdf 檔案完成!\n",
            "4000_vocab5.pdf 檔案完成!\n",
            "4000_vocab6.pdf 檔案完成!\n",
            "4000_vocab7.pdf 檔案完成!\n",
            "4000_vocab8.pdf 檔案完成!\n",
            "4000_vocab9.pdf 檔案完成!\n",
            "4000_vocab10.pdf 檔案完成!\n",
            "4000_vocab11.pdf 檔案完成!\n",
            "4000_vocab12.pdf 檔案完成!\n",
            "4000_vocab13.pdf 檔案完成!\n",
            "4000_vocab14.pdf 檔案完成!\n",
            "4000_vocab15.pdf 檔案完成!\n",
            "4000_vocab16.pdf 檔案完成!\n",
            "4000_vocab17.pdf 檔案完成!\n",
            "4000_vocab18.pdf 檔案完成!\n",
            "4000_vocab19.pdf 檔案完成!\n",
            "4000_vocab20.pdf 檔案完成!\n",
            "4000_vocab21.pdf 檔案完成!\n",
            "4000_vocab22.pdf 檔案完成!\n",
            "4000_vocab23.pdf 檔案完成!\n",
            "4000_vocab24.pdf 檔案完成!\n",
            "4000_vocab25.pdf 檔案完成!\n",
            "4000_vocab26.pdf 檔案完成!\n",
            "4000_vocab27.pdf 檔案完成!\n",
            "4000_vocab28.pdf 檔案完成!\n",
            "4000_vocab29.pdf 檔案完成!\n",
            "4000_vocab30.pdf 檔案完成!\n",
            "4000_vocab31.pdf 檔案完成!\n",
            "4000_vocab32.pdf 檔案完成!\n",
            "4000_vocab33.pdf 檔案完成!\n",
            "4000_vocab34.pdf 檔案完成!\n",
            "4000_vocab35.pdf 檔案完成!\n",
            "4000_vocab36.pdf 檔案完成!\n",
            "4000_vocab37.pdf 檔案完成!\n",
            "4000_vocab38.pdf 檔案完成!\n",
            "4000_vocab39.pdf 檔案完成!\n",
            "4000_vocab40.pdf 檔案完成!\n",
            "4000_vocab41.pdf 檔案完成!\n",
            "4000_vocab42.pdf 檔案完成!\n",
            "4000_vocab43.pdf 檔案完成!\n",
            "4000_vocab44.pdf 檔案完成!\n",
            "4000_vocab45.pdf 檔案完成!\n",
            "4000_vocab46.pdf 檔案完成!\n",
            "4000_vocab47.pdf 檔案完成!\n",
            "4000_vocab48.pdf 檔案完成!\n",
            "4000_vocab49.pdf 檔案完成!\n",
            "4000_vocab50.pdf 檔案完成!\n",
            "4000_vocab51.pdf 檔案完成!\n",
            "4000_vocab52.pdf 檔案完成!\n",
            "4000_vocab53.pdf 檔案完成!\n",
            "4000_vocab54.pdf 檔案完成!\n",
            "4000_vocab55.pdf 檔案完成!\n",
            "4000_vocab56.pdf 檔案完成!\n",
            "4000_vocab57.pdf 檔案完成!\n",
            "4000_vocab58.pdf 檔案完成!\n",
            "4000_vocab59.pdf 檔案完成!\n",
            "4000_vocab60.pdf 檔案完成!\n"
          ]
        }
      ]
    },
    {
      "cell_type": "code",
      "source": [
        "#取出連續頁數pdf\n",
        "#如果要從 pdf 取出「特定範圍」的頁面，只要將串列的 append 方法改成 extend，就能加入特定串列範圍的頁面\n",
        "pdf = Pdf.open('./split_pdf/4000_vocabulary.pdf')       #開啟pdf\n",
        "pages = pdf.pages                                       # 將每一頁的內容變成串列\n",
        "output = Pdf.new()                                      # 建立新的 pdf 物件\n",
        "output.pages.extend(pages[1:3])                         # 改用 extend，放入特定範圍的頁面 #pages[1:3]>第1-2頁\n",
        "output.save('./split_pdf/4000_voca_continue.pdf')       # 儲存為新的 pdf"
      ],
      "metadata": {
        "id": "rIhpL5G5nGUs"
      },
      "execution_count": null,
      "outputs": []
    },
    {
      "cell_type": "markdown",
      "source": [
        "#### ▶ **2-3.使用PyPDF4**\n",
        "* from pikepdf import Pdf:  \n",
        "可供讀取、編輯、儲存和縮放PDF文件。Pikepdf可用於支持PDF的應用程序開發，如網絡爬蟲中解析PDF文件，提取pdf文本，合併多份PDF文件等\n"
      ],
      "metadata": {
        "id": "DxRjx4yAnGa2"
      }
    },
    {
      "cell_type": "code",
      "source": [
        "from PyPDF4 import PdfFileReader,PdfFileWriter\n",
        "from pikepdf import Pdf\n",
        "os.chdir('/content/drive/MyDrive/colab_cloud/pdf')"
      ],
      "metadata": {
        "id": "WlCN2O0QINsI"
      },
      "execution_count": null,
      "outputs": []
    },
    {
      "cell_type": "code",
      "source": [
        "#拆分多個頁面的pdf???未完成，下方程式有錯誤\n",
        "\n",
        "pdf =PdfFileReader('./split_pdf/4000_vocabulary.pdf') #閱讀pdf檔\n",
        "pdf_writer = PdfFileWriter()\n",
        "pages = [1,2,3,4,5,11,12]    #列出想要的頁面\n",
        "pages = [i-1 for i in pages] #轉換成電腦可讀的頁面\n",
        "n = 1\n",
        "for i in pages:\n",
        "    output = Pdf.new()\n",
        "    output.addPage(pdf.getPage(p))\n",
        "    output.save(f'new_{n}.pdf')    # 格式化檔案名稱\n",
        "    n = n + 1                      # 編號加 1"
      ],
      "metadata": {
        "id": "jrIvfxrzDHli"
      },
      "execution_count": null,
      "outputs": []
    },
    {
      "cell_type": "code",
      "source": [],
      "metadata": {
        "id": "YuyhNF6-DQaF"
      },
      "execution_count": null,
      "outputs": []
    },
    {
      "cell_type": "code",
      "source": [],
      "metadata": {
        "id": "1drYbvwHDcnS"
      },
      "execution_count": null,
      "outputs": []
    },
    {
      "cell_type": "code",
      "source": [],
      "metadata": {
        "id": "u5PCKxNUDt4n"
      },
      "execution_count": null,
      "outputs": []
    },
    {
      "cell_type": "markdown",
      "source": [
        "### 👉**3.刪除PDF**\n",
        "* 刪除單頁pdf"
      ],
      "metadata": {
        "id": "26Dk1MMnrZFh"
      }
    },
    {
      "cell_type": "markdown",
      "source": [
        "#### ▶ **3-2.使用pikepdf**"
      ],
      "metadata": {
        "id": "CCVMTJTZBhAZ"
      }
    },
    {
      "cell_type": "code",
      "source": [
        "pdf = Pdf.open('oxxosudio.pdf')   # 開啟 pdf\n",
        "del pdf.pages[1:2]                # 刪除第二頁\n",
        "pdf.save('output.pdf')"
      ],
      "metadata": {
        "id": "C3VaOaw1BhLt"
      },
      "execution_count": null,
      "outputs": []
    },
    {
      "cell_type": "markdown",
      "source": [
        "### 👉**4.取代PDF**\n",
        "* 將第一份pdf的p3，替換成第二份pdf的p1"
      ],
      "metadata": {
        "id": "2ayb6EVfrZNZ"
      }
    },
    {
      "cell_type": "markdown",
      "source": [
        "#### ▶ **4-2.使用pikepdf**"
      ],
      "metadata": {
        "id": "HPAdCu4gCJ2W"
      }
    },
    {
      "cell_type": "code",
      "source": [
        "#取代pdf\n",
        "pdf1 = Pdf.open('oxxosudio.pdf')  # 開啟第一份 pdf\n",
        "pdf2 = Pdf.open('new.pdf')        # 開啟第二份 pdf\n",
        "pdf1.pages[2] = pdf2.pages[0]     # 將第一份的第三頁，換成第一份的第一頁\n",
        "pdf1.save('output.pdf')"
      ],
      "metadata": {
        "id": "jGZgN6v7qGuJ"
      },
      "execution_count": null,
      "outputs": []
    },
    {
      "cell_type": "markdown",
      "source": [
        "### 👉**5.反轉PDF**"
      ],
      "metadata": {
        "id": "xpxB0TBiCEIf"
      }
    },
    {
      "cell_type": "markdown",
      "source": [
        "#### ▶ **5-2.使用pikepdf**"
      ],
      "metadata": {
        "id": "SbGeCi5sCG-J"
      }
    },
    {
      "cell_type": "code",
      "source": [
        "#反轉 pdf\n",
        "pdf = Pdf.open('output.pdf')\n",
        "pdf.pages.reverse()           # 反轉 pdf\n",
        "pdf.save('output2.pdf')"
      ],
      "metadata": {
        "id": "YtERno9yCOL_"
      },
      "execution_count": null,
      "outputs": []
    },
    {
      "cell_type": "code",
      "source": [],
      "metadata": {
        "id": "Afmo7iXRLrlZ"
      },
      "execution_count": null,
      "outputs": []
    },
    {
      "cell_type": "markdown",
      "source": [
        "## ⚡ **B-PDF提取表格，並轉Excel檔**\n",
        "* 1.合併PDF\n",
        "* 2.分割PDF"
      ],
      "metadata": {
        "id": "kumj4YALLrzz"
      }
    },
    {
      "cell_type": "code",
      "source": [
        "import pdfplumber as pr\n",
        "import pandas as pd\n",
        "os.chdir('/content/drive/MyDrive/colab_cloud/pdf/pdf_convert_excel')"
      ],
      "metadata": {
        "id": "BEWiRmQJLr6p"
      },
      "execution_count": null,
      "outputs": []
    },
    {
      "cell_type": "code",
      "source": [
        "pdf = pr.open('./西大門_自有資金購買銀行理財產品公告_2015.pdf') #打開PDF檔"
      ],
      "metadata": {
        "id": "STypUFqiNRbu"
      },
      "execution_count": null,
      "outputs": []
    },
    {
      "cell_type": "code",
      "source": [
        "ps = pdf.pages"
      ],
      "metadata": {
        "id": "qrHURi7hNSop"
      },
      "execution_count": null,
      "outputs": []
    },
    {
      "cell_type": "code",
      "source": [
        "ps"
      ],
      "metadata": {
        "colab": {
          "base_uri": "https://localhost:8080/"
        },
        "id": "Ut7MYu9XNTpr",
        "outputId": "f7e860dd-ebe5-4033-f72b-1d1568e4635b"
      },
      "execution_count": null,
      "outputs": [
        {
          "output_type": "execute_result",
          "data": {
            "text/plain": [
              "[<Page:1>, <Page:2>, <Page:3>, <Page:4>]"
            ]
          },
          "metadata": {},
          "execution_count": 30
        }
      ]
    },
    {
      "cell_type": "code",
      "source": [
        "pg = ps[2] #抓取表格\n",
        "pg"
      ],
      "metadata": {
        "colab": {
          "base_uri": "https://localhost:8080/"
        },
        "id": "kDLwSbPCNdGR",
        "outputId": "ee49413d-5571-4af3-929c-e87273e65b94"
      },
      "execution_count": null,
      "outputs": [
        {
          "output_type": "execute_result",
          "data": {
            "text/plain": [
              "<Page:3>"
            ]
          },
          "metadata": {},
          "execution_count": 31
        }
      ]
    },
    {
      "cell_type": "code",
      "source": [
        "tables = pg.extract_tables() #可輸出頁面中所有表格"
      ],
      "metadata": {
        "id": "zNTFb-FINnqz"
      },
      "execution_count": null,
      "outputs": []
    },
    {
      "cell_type": "code",
      "source": [
        "table = tables[0]"
      ],
      "metadata": {
        "id": "DOnfJm96OVzJ"
      },
      "execution_count": null,
      "outputs": []
    },
    {
      "cell_type": "code",
      "source": [
        "table"
      ],
      "metadata": {
        "colab": {
          "base_uri": "https://localhost:8080/"
        },
        "id": "tb0hYRiwOX9q",
        "outputId": "1c9b8b81-016b-49ea-8c3f-77a4e7a93481"
      },
      "execution_count": null,
      "outputs": [
        {
          "output_type": "execute_result",
          "data": {
            "text/plain": [
              "[['项目', '2020年12月31日', '2021年6月30日'],\n",
              " ['资产总额', '109,954.11', '110,004.59'],\n",
              " ['负债总额', '8,782.18', '6,682.74'],\n",
              " ['项目', '2020年12月31日', '2021年6月30日'],\n",
              " ['营业收入', '35,425.35', '20,809.46'],\n",
              " ['净利润', '7,783.87', '4,549.92']]"
            ]
          },
          "metadata": {},
          "execution_count": 38
        }
      ]
    },
    {
      "cell_type": "code",
      "source": [
        "#從pdf選取一頁抓表格，並轉換成excel-基礎版\n",
        "\n",
        "pdf = pr.open('./西大門_自有資金購買銀行理財產品公告_2015.pdf') #打開PDF檔\n",
        "ps = pdf.pages #取得頁數-共4頁\n",
        "pg = ps[2] #抓取第3頁\n",
        "tables = pg.extract_tables() #抓出頁面中所有表格\n",
        "table = tables[0] #抓出第1個表格\n",
        "# print(table)\n",
        "\n",
        "df = pd.DataFrame(table[1:],columns = table[0]) #使用DataFram將table轉為pd表\n",
        "for i in range(len(table)):\n",
        "    for j in range(len(table[i])):\n",
        "        table[i][j] = table[i][j].replace('\\n','') #刪除空行\\n\n",
        "df1 = pd.DataFrame(table[1:],columns = table[0])\n",
        "df1.to_excel('./西大門_finance_table.xlsx')"
      ],
      "metadata": {
        "colab": {
          "base_uri": "https://localhost:8080/"
        },
        "id": "cmD8olS9MzaJ",
        "outputId": "9756b430-16b2-434b-c315-0d1f4d6cf9e3"
      },
      "execution_count": null,
      "outputs": [
        {
          "output_type": "stream",
          "name": "stdout",
          "text": [
            "[['项目', '2020年12月31日', '2021年6月30日'], ['资产总额', '109,954.11', '110,004.59'], ['负债总额', '8,782.18', '6,682.74'], ['项目', '2020年12月31日', '2021年6月30日'], ['营业收入', '35,425.35', '20,809.46'], ['净利润', '7,783.87', '4,549.92']]\n"
          ]
        }
      ]
    },
    {
      "cell_type": "code",
      "source": [
        "#從pdf選取一頁抓表格，並轉換成excel-進階版\n",
        "\n",
        "#打開pdf文件\n",
        "pdf = pr.open('./西大門_自有資金購買銀行理財產品公告_2015.pdf')\n",
        "ps = pdf.pages #取得所有頁數\n",
        "pg = ps[2] #抓取第3頁表格\n",
        "tables = pg.extract_tables() #從頁面中提取表格\n",
        "table = tables[0]\n",
        "\n",
        "df = pd.DataFrame(table[1:],columns = table[0]) #使用DataFram將table轉為pd表\n",
        "print(df) #2個表格(資產負債表 vs 淨利表)\n",
        "for i in range(len(table)):\n",
        "    for j in range(len(table[i])):\n",
        "        table[i][j] = table[i][j].replace('\\n','')\n",
        "df1 = pd.DataFrame(table[1:],columns = table[0])\n",
        "print(df1)\n",
        "df2 = df1.iloc[2:,:] #抓下半部表格-淨利表\n",
        "df2 = df2.rename(columns = {\"2020年12月31日\":\"2020年12月31日\",\"2021年6月30日\":\"2021年6月30日\"}) #重新命名\n",
        "df2 = df2.loc[3:,:]\n",
        "df1 = df1.loc[:1,:] #抓上半部表格-資產負債表\n",
        "with pd.ExcelWriter('./西大門_公司影響.xlsx') as i: #輸出excel檔案\n",
        "    df1.to_excel(i,sheet_name='資產', index=False, header=True) #放入資產數據\n",
        "    df2.to_excel(i,sheet_name='營業',index=False, header=True) #放入營業數據"
      ],
      "metadata": {
        "colab": {
          "base_uri": "https://localhost:8080/"
        },
        "id": "cJx7-jA-O9U-",
        "outputId": "8de9d28d-e798-411a-b03e-65679579cdd6"
      },
      "execution_count": null,
      "outputs": [
        {
          "output_type": "stream",
          "name": "stdout",
          "text": [
            "     项目  2020年12月31日  2021年6月30日\n",
            "0  资产总额   109,954.11  110,004.59\n",
            "1  负债总额     8,782.18    6,682.74\n",
            "2    项目  2020年12月31日  2021年6月30日\n",
            "3  营业收入    35,425.35   20,809.46\n",
            "4   净利润     7,783.87    4,549.92\n",
            "     项目  2020年12月31日  2021年6月30日\n",
            "0  资产总额   109,954.11  110,004.59\n",
            "1  负债总额     8,782.18    6,682.74\n",
            "2    项目  2020年12月31日  2021年6月30日\n",
            "3  营业收入    35,425.35   20,809.46\n",
            "4   净利润     7,783.87    4,549.92\n"
          ]
        }
      ]
    },
    {
      "cell_type": "code",
      "source": [
        "#方法二"
      ],
      "metadata": {
        "id": "jj9jz1B_NLzM"
      },
      "execution_count": null,
      "outputs": []
    },
    {
      "cell_type": "code",
      "source": [
        "# 导入pdfplumber\n",
        "import pdfplumber\n",
        "import pandas as pd\n",
        "os.chdir('/content/drive/MyDrive/colab_cloud/pdf/pdf_convert_excel')"
      ],
      "metadata": {
        "id": "eaFM5CkdNNcS"
      },
      "execution_count": null,
      "outputs": []
    },
    {
      "cell_type": "code",
      "source": [
        "# 读取pdf文件，保存为pdf实例\n",
        "pdf =  pdfplumber.open(\"./2019_2330_financial_report.pdf\") #讀取pdf檔\n",
        "\n",
        "# 访问第46页-6.1.1 簡明資產負債表\n",
        "first_page = pdf.pages[45]\n",
        "\n",
        "# 自动读取表格信息，返回列表\n",
        "table = first_page.extract_table()\n",
        "table"
      ],
      "metadata": {
        "colab": {
          "base_uri": "https://localhost:8080/"
        },
        "id": "xm1JY6mONRpF",
        "outputId": "cf9212f0-4fd7-4b97-849a-c4e68c17b6f0"
      },
      "execution_count": null,
      "outputs": [
        {
          "output_type": "execute_result",
          "data": {
            "text/plain": [
              "[['年度\\n項目', '民國104年', '民國105年', '民國106年', '民國107年', '民國108年'],\n",
              " [None, '746,743,991', '817,729,126', '857,203,110', '951,679,721', None],\n",
              " [None, '34,993,583', '46,153,916', '41,569,074', '29,304,796', None],\n",
              " [None, '853,470,392', '997,777,687', '1,062,542,322', '1,072,050,279', None],\n",
              " [None, '0', '0', '0', '0', None],\n",
              " [None, '14,065,880', '14,614,846', '14,175,140', '17,002,137', None],\n",
              " [None, '8,244,452', '10,179,727', '16,371,997', '20,091,105', None],\n",
              " [None,\n",
              "  '1,657,518,298',\n",
              "  '1,886,455,302',\n",
              "  '1,991,861,643',\n",
              "  '2,090,128,038',\n",
              "  None],\n",
              " [None, '', '', '', '', None],\n",
              " [None, '212,228,594', '318,239,273', '358,706,680', '340,542,586', None],\n",
              " [None, '367,810,877', '499,751,936', '566,149,724', '547,985,630', None],\n",
              " [None, '222,655,225', '178,164,903', '110,395,320', '72,089,056', None],\n",
              " [None, '', '', '', '', None],\n",
              " [None, '434,883,819', '496,404,176', '469,102,000', '412,631,642', None],\n",
              " [None, '590,466,102', '677,916,839', '676,545,044', '620,074,686', None],\n",
              " [None, '', '', '', '', None],\n",
              " [None, '259,303,805', '259,303,805', '259,303,805', '259,303,805', None],\n",
              " [None, '56,300,215', '56,272,304', '56,309,536', '56,315,932', None],\n",
              " [None, '', '', '', '', None],\n",
              " [None,\n",
              "  '894,293,586',\n",
              "  '1,072,008,169',\n",
              "  '1,233,362,010',\n",
              "  '1,376,647,841',\n",
              "  None],\n",
              " [None, '738,711,303', '890,495,506', '1,025,918,966', '1,169,204,797', None],\n",
              " [None, '11,774,113', '1,663,983', '（26,917,818）', '（15,449,913）', None],\n",
              " [None, '', '', '', '', None],\n",
              " [None,\n",
              "  '1,221,671,719',\n",
              "  '1,389,248,261',\n",
              "  '1,522,057,533',\n",
              "  '1,676,817,665',\n",
              "  None],\n",
              " [None,\n",
              "  '1,066,089,436',\n",
              "  '1,207,735,598',\n",
              "  '1,314,614,489',\n",
              "  '1,469,374,621',\n",
              "  None],\n",
              " [None, '962,760', '802,865', '702,110', '678,731', None],\n",
              " [None, '', '', '', '', None],\n",
              " [None,\n",
              "  '1,222,634,479',\n",
              "  '1,390,051,126',\n",
              "  '1,522,759,643',\n",
              "  '1,677,496,396',\n",
              "  None],\n",
              " [None,\n",
              "  '1,067,052,196',\n",
              "  '1,208,538,463',\n",
              "  '1,315,316,599',\n",
              "  '1,470,053,352',\n",
              "  None]]"
            ]
          },
          "metadata": {},
          "execution_count": 8
        }
      ]
    },
    {
      "cell_type": "code",
      "source": [
        "#第二步：整理成dataframe格式，保存为excel\n",
        "\n",
        "# 将列表转为df\n",
        "table_df = pd.DataFrame(table[1:],columns=table[0]) #將table[1:]作為df內容，並用table[0]當作每一欄標題\n",
        "# 保存excel\n",
        "table_df.to_excel('./2330_financail_report.xlsx')\n",
        "#df檔\n",
        "table_df"
      ],
      "metadata": {
        "colab": {
          "base_uri": "https://localhost:8080/",
          "height": 927
        },
        "id": "0FHI7_txNqIV",
        "outputId": "8f5bd857-c940-457a-909a-7dd181e1f2da"
      },
      "execution_count": null,
      "outputs": [
        {
          "output_type": "execute_result",
          "data": {
            "text/plain": [
              "   年度\\n項目         民國104年         民國105年         民國106年         民國107年 民國108年\n",
              "0    None    746,743,991    817,729,126    857,203,110    951,679,721   None\n",
              "1    None     34,993,583     46,153,916     41,569,074     29,304,796   None\n",
              "2    None    853,470,392    997,777,687  1,062,542,322  1,072,050,279   None\n",
              "3    None              0              0              0              0   None\n",
              "4    None     14,065,880     14,614,846     14,175,140     17,002,137   None\n",
              "5    None      8,244,452     10,179,727     16,371,997     20,091,105   None\n",
              "6    None  1,657,518,298  1,886,455,302  1,991,861,643  2,090,128,038   None\n",
              "7    None                                                               None\n",
              "8    None    212,228,594    318,239,273    358,706,680    340,542,586   None\n",
              "9    None    367,810,877    499,751,936    566,149,724    547,985,630   None\n",
              "10   None    222,655,225    178,164,903    110,395,320     72,089,056   None\n",
              "11   None                                                               None\n",
              "12   None    434,883,819    496,404,176    469,102,000    412,631,642   None\n",
              "13   None    590,466,102    677,916,839    676,545,044    620,074,686   None\n",
              "14   None                                                               None\n",
              "15   None    259,303,805    259,303,805    259,303,805    259,303,805   None\n",
              "16   None     56,300,215     56,272,304     56,309,536     56,315,932   None\n",
              "17   None                                                               None\n",
              "18   None    894,293,586  1,072,008,169  1,233,362,010  1,376,647,841   None\n",
              "19   None    738,711,303    890,495,506  1,025,918,966  1,169,204,797   None\n",
              "20   None     11,774,113      1,663,983   （26,917,818）   （15,449,913）   None\n",
              "21   None                                                               None\n",
              "22   None  1,221,671,719  1,389,248,261  1,522,057,533  1,676,817,665   None\n",
              "23   None  1,066,089,436  1,207,735,598  1,314,614,489  1,469,374,621   None\n",
              "24   None        962,760        802,865        702,110        678,731   None\n",
              "25   None                                                               None\n",
              "26   None  1,222,634,479  1,390,051,126  1,522,759,643  1,677,496,396   None\n",
              "27   None  1,067,052,196  1,208,538,463  1,315,316,599  1,470,053,352   None"
            ],
            "text/html": [
              "\n",
              "  <div id=\"df-9e817155-4472-4b58-81b1-c266d036c4e3\">\n",
              "    <div class=\"colab-df-container\">\n",
              "      <div>\n",
              "<style scoped>\n",
              "    .dataframe tbody tr th:only-of-type {\n",
              "        vertical-align: middle;\n",
              "    }\n",
              "\n",
              "    .dataframe tbody tr th {\n",
              "        vertical-align: top;\n",
              "    }\n",
              "\n",
              "    .dataframe thead th {\n",
              "        text-align: right;\n",
              "    }\n",
              "</style>\n",
              "<table border=\"1\" class=\"dataframe\">\n",
              "  <thead>\n",
              "    <tr style=\"text-align: right;\">\n",
              "      <th></th>\n",
              "      <th>年度\\n項目</th>\n",
              "      <th>民國104年</th>\n",
              "      <th>民國105年</th>\n",
              "      <th>民國106年</th>\n",
              "      <th>民國107年</th>\n",
              "      <th>民國108年</th>\n",
              "    </tr>\n",
              "  </thead>\n",
              "  <tbody>\n",
              "    <tr>\n",
              "      <th>0</th>\n",
              "      <td>None</td>\n",
              "      <td>746,743,991</td>\n",
              "      <td>817,729,126</td>\n",
              "      <td>857,203,110</td>\n",
              "      <td>951,679,721</td>\n",
              "      <td>None</td>\n",
              "    </tr>\n",
              "    <tr>\n",
              "      <th>1</th>\n",
              "      <td>None</td>\n",
              "      <td>34,993,583</td>\n",
              "      <td>46,153,916</td>\n",
              "      <td>41,569,074</td>\n",
              "      <td>29,304,796</td>\n",
              "      <td>None</td>\n",
              "    </tr>\n",
              "    <tr>\n",
              "      <th>2</th>\n",
              "      <td>None</td>\n",
              "      <td>853,470,392</td>\n",
              "      <td>997,777,687</td>\n",
              "      <td>1,062,542,322</td>\n",
              "      <td>1,072,050,279</td>\n",
              "      <td>None</td>\n",
              "    </tr>\n",
              "    <tr>\n",
              "      <th>3</th>\n",
              "      <td>None</td>\n",
              "      <td>0</td>\n",
              "      <td>0</td>\n",
              "      <td>0</td>\n",
              "      <td>0</td>\n",
              "      <td>None</td>\n",
              "    </tr>\n",
              "    <tr>\n",
              "      <th>4</th>\n",
              "      <td>None</td>\n",
              "      <td>14,065,880</td>\n",
              "      <td>14,614,846</td>\n",
              "      <td>14,175,140</td>\n",
              "      <td>17,002,137</td>\n",
              "      <td>None</td>\n",
              "    </tr>\n",
              "    <tr>\n",
              "      <th>5</th>\n",
              "      <td>None</td>\n",
              "      <td>8,244,452</td>\n",
              "      <td>10,179,727</td>\n",
              "      <td>16,371,997</td>\n",
              "      <td>20,091,105</td>\n",
              "      <td>None</td>\n",
              "    </tr>\n",
              "    <tr>\n",
              "      <th>6</th>\n",
              "      <td>None</td>\n",
              "      <td>1,657,518,298</td>\n",
              "      <td>1,886,455,302</td>\n",
              "      <td>1,991,861,643</td>\n",
              "      <td>2,090,128,038</td>\n",
              "      <td>None</td>\n",
              "    </tr>\n",
              "    <tr>\n",
              "      <th>7</th>\n",
              "      <td>None</td>\n",
              "      <td></td>\n",
              "      <td></td>\n",
              "      <td></td>\n",
              "      <td></td>\n",
              "      <td>None</td>\n",
              "    </tr>\n",
              "    <tr>\n",
              "      <th>8</th>\n",
              "      <td>None</td>\n",
              "      <td>212,228,594</td>\n",
              "      <td>318,239,273</td>\n",
              "      <td>358,706,680</td>\n",
              "      <td>340,542,586</td>\n",
              "      <td>None</td>\n",
              "    </tr>\n",
              "    <tr>\n",
              "      <th>9</th>\n",
              "      <td>None</td>\n",
              "      <td>367,810,877</td>\n",
              "      <td>499,751,936</td>\n",
              "      <td>566,149,724</td>\n",
              "      <td>547,985,630</td>\n",
              "      <td>None</td>\n",
              "    </tr>\n",
              "    <tr>\n",
              "      <th>10</th>\n",
              "      <td>None</td>\n",
              "      <td>222,655,225</td>\n",
              "      <td>178,164,903</td>\n",
              "      <td>110,395,320</td>\n",
              "      <td>72,089,056</td>\n",
              "      <td>None</td>\n",
              "    </tr>\n",
              "    <tr>\n",
              "      <th>11</th>\n",
              "      <td>None</td>\n",
              "      <td></td>\n",
              "      <td></td>\n",
              "      <td></td>\n",
              "      <td></td>\n",
              "      <td>None</td>\n",
              "    </tr>\n",
              "    <tr>\n",
              "      <th>12</th>\n",
              "      <td>None</td>\n",
              "      <td>434,883,819</td>\n",
              "      <td>496,404,176</td>\n",
              "      <td>469,102,000</td>\n",
              "      <td>412,631,642</td>\n",
              "      <td>None</td>\n",
              "    </tr>\n",
              "    <tr>\n",
              "      <th>13</th>\n",
              "      <td>None</td>\n",
              "      <td>590,466,102</td>\n",
              "      <td>677,916,839</td>\n",
              "      <td>676,545,044</td>\n",
              "      <td>620,074,686</td>\n",
              "      <td>None</td>\n",
              "    </tr>\n",
              "    <tr>\n",
              "      <th>14</th>\n",
              "      <td>None</td>\n",
              "      <td></td>\n",
              "      <td></td>\n",
              "      <td></td>\n",
              "      <td></td>\n",
              "      <td>None</td>\n",
              "    </tr>\n",
              "    <tr>\n",
              "      <th>15</th>\n",
              "      <td>None</td>\n",
              "      <td>259,303,805</td>\n",
              "      <td>259,303,805</td>\n",
              "      <td>259,303,805</td>\n",
              "      <td>259,303,805</td>\n",
              "      <td>None</td>\n",
              "    </tr>\n",
              "    <tr>\n",
              "      <th>16</th>\n",
              "      <td>None</td>\n",
              "      <td>56,300,215</td>\n",
              "      <td>56,272,304</td>\n",
              "      <td>56,309,536</td>\n",
              "      <td>56,315,932</td>\n",
              "      <td>None</td>\n",
              "    </tr>\n",
              "    <tr>\n",
              "      <th>17</th>\n",
              "      <td>None</td>\n",
              "      <td></td>\n",
              "      <td></td>\n",
              "      <td></td>\n",
              "      <td></td>\n",
              "      <td>None</td>\n",
              "    </tr>\n",
              "    <tr>\n",
              "      <th>18</th>\n",
              "      <td>None</td>\n",
              "      <td>894,293,586</td>\n",
              "      <td>1,072,008,169</td>\n",
              "      <td>1,233,362,010</td>\n",
              "      <td>1,376,647,841</td>\n",
              "      <td>None</td>\n",
              "    </tr>\n",
              "    <tr>\n",
              "      <th>19</th>\n",
              "      <td>None</td>\n",
              "      <td>738,711,303</td>\n",
              "      <td>890,495,506</td>\n",
              "      <td>1,025,918,966</td>\n",
              "      <td>1,169,204,797</td>\n",
              "      <td>None</td>\n",
              "    </tr>\n",
              "    <tr>\n",
              "      <th>20</th>\n",
              "      <td>None</td>\n",
              "      <td>11,774,113</td>\n",
              "      <td>1,663,983</td>\n",
              "      <td>（26,917,818）</td>\n",
              "      <td>（15,449,913）</td>\n",
              "      <td>None</td>\n",
              "    </tr>\n",
              "    <tr>\n",
              "      <th>21</th>\n",
              "      <td>None</td>\n",
              "      <td></td>\n",
              "      <td></td>\n",
              "      <td></td>\n",
              "      <td></td>\n",
              "      <td>None</td>\n",
              "    </tr>\n",
              "    <tr>\n",
              "      <th>22</th>\n",
              "      <td>None</td>\n",
              "      <td>1,221,671,719</td>\n",
              "      <td>1,389,248,261</td>\n",
              "      <td>1,522,057,533</td>\n",
              "      <td>1,676,817,665</td>\n",
              "      <td>None</td>\n",
              "    </tr>\n",
              "    <tr>\n",
              "      <th>23</th>\n",
              "      <td>None</td>\n",
              "      <td>1,066,089,436</td>\n",
              "      <td>1,207,735,598</td>\n",
              "      <td>1,314,614,489</td>\n",
              "      <td>1,469,374,621</td>\n",
              "      <td>None</td>\n",
              "    </tr>\n",
              "    <tr>\n",
              "      <th>24</th>\n",
              "      <td>None</td>\n",
              "      <td>962,760</td>\n",
              "      <td>802,865</td>\n",
              "      <td>702,110</td>\n",
              "      <td>678,731</td>\n",
              "      <td>None</td>\n",
              "    </tr>\n",
              "    <tr>\n",
              "      <th>25</th>\n",
              "      <td>None</td>\n",
              "      <td></td>\n",
              "      <td></td>\n",
              "      <td></td>\n",
              "      <td></td>\n",
              "      <td>None</td>\n",
              "    </tr>\n",
              "    <tr>\n",
              "      <th>26</th>\n",
              "      <td>None</td>\n",
              "      <td>1,222,634,479</td>\n",
              "      <td>1,390,051,126</td>\n",
              "      <td>1,522,759,643</td>\n",
              "      <td>1,677,496,396</td>\n",
              "      <td>None</td>\n",
              "    </tr>\n",
              "    <tr>\n",
              "      <th>27</th>\n",
              "      <td>None</td>\n",
              "      <td>1,067,052,196</td>\n",
              "      <td>1,208,538,463</td>\n",
              "      <td>1,315,316,599</td>\n",
              "      <td>1,470,053,352</td>\n",
              "      <td>None</td>\n",
              "    </tr>\n",
              "  </tbody>\n",
              "</table>\n",
              "</div>\n",
              "      <button class=\"colab-df-convert\" onclick=\"convertToInteractive('df-9e817155-4472-4b58-81b1-c266d036c4e3')\"\n",
              "              title=\"Convert this dataframe to an interactive table.\"\n",
              "              style=\"display:none;\">\n",
              "        \n",
              "  <svg xmlns=\"http://www.w3.org/2000/svg\" height=\"24px\"viewBox=\"0 0 24 24\"\n",
              "       width=\"24px\">\n",
              "    <path d=\"M0 0h24v24H0V0z\" fill=\"none\"/>\n",
              "    <path d=\"M18.56 5.44l.94 2.06.94-2.06 2.06-.94-2.06-.94-.94-2.06-.94 2.06-2.06.94zm-11 1L8.5 8.5l.94-2.06 2.06-.94-2.06-.94L8.5 2.5l-.94 2.06-2.06.94zm10 10l.94 2.06.94-2.06 2.06-.94-2.06-.94-.94-2.06-.94 2.06-2.06.94z\"/><path d=\"M17.41 7.96l-1.37-1.37c-.4-.4-.92-.59-1.43-.59-.52 0-1.04.2-1.43.59L10.3 9.45l-7.72 7.72c-.78.78-.78 2.05 0 2.83L4 21.41c.39.39.9.59 1.41.59.51 0 1.02-.2 1.41-.59l7.78-7.78 2.81-2.81c.8-.78.8-2.07 0-2.86zM5.41 20L4 18.59l7.72-7.72 1.47 1.35L5.41 20z\"/>\n",
              "  </svg>\n",
              "      </button>\n",
              "      \n",
              "  <style>\n",
              "    .colab-df-container {\n",
              "      display:flex;\n",
              "      flex-wrap:wrap;\n",
              "      gap: 12px;\n",
              "    }\n",
              "\n",
              "    .colab-df-convert {\n",
              "      background-color: #E8F0FE;\n",
              "      border: none;\n",
              "      border-radius: 50%;\n",
              "      cursor: pointer;\n",
              "      display: none;\n",
              "      fill: #1967D2;\n",
              "      height: 32px;\n",
              "      padding: 0 0 0 0;\n",
              "      width: 32px;\n",
              "    }\n",
              "\n",
              "    .colab-df-convert:hover {\n",
              "      background-color: #E2EBFA;\n",
              "      box-shadow: 0px 1px 2px rgba(60, 64, 67, 0.3), 0px 1px 3px 1px rgba(60, 64, 67, 0.15);\n",
              "      fill: #174EA6;\n",
              "    }\n",
              "\n",
              "    [theme=dark] .colab-df-convert {\n",
              "      background-color: #3B4455;\n",
              "      fill: #D2E3FC;\n",
              "    }\n",
              "\n",
              "    [theme=dark] .colab-df-convert:hover {\n",
              "      background-color: #434B5C;\n",
              "      box-shadow: 0px 1px 3px 1px rgba(0, 0, 0, 0.15);\n",
              "      filter: drop-shadow(0px 1px 2px rgba(0, 0, 0, 0.3));\n",
              "      fill: #FFFFFF;\n",
              "    }\n",
              "  </style>\n",
              "\n",
              "      <script>\n",
              "        const buttonEl =\n",
              "          document.querySelector('#df-9e817155-4472-4b58-81b1-c266d036c4e3 button.colab-df-convert');\n",
              "        buttonEl.style.display =\n",
              "          google.colab.kernel.accessAllowed ? 'block' : 'none';\n",
              "\n",
              "        async function convertToInteractive(key) {\n",
              "          const element = document.querySelector('#df-9e817155-4472-4b58-81b1-c266d036c4e3');\n",
              "          const dataTable =\n",
              "            await google.colab.kernel.invokeFunction('convertToInteractive',\n",
              "                                                     [key], {});\n",
              "          if (!dataTable) return;\n",
              "\n",
              "          const docLinkHtml = 'Like what you see? Visit the ' +\n",
              "            '<a target=\"_blank\" href=https://colab.research.google.com/notebooks/data_table.ipynb>data table notebook</a>'\n",
              "            + ' to learn more about interactive tables.';\n",
              "          element.innerHTML = '';\n",
              "          dataTable['output_type'] = 'display_data';\n",
              "          await google.colab.output.renderOutput(dataTable, element);\n",
              "          const docLink = document.createElement('div');\n",
              "          docLink.innerHTML = docLinkHtml;\n",
              "          element.appendChild(docLink);\n",
              "        }\n",
              "      </script>\n",
              "    </div>\n",
              "  </div>\n",
              "  "
            ]
          },
          "metadata": {},
          "execution_count": 11
        }
      ]
    },
    {
      "cell_type": "code",
      "source": [
        "#pdfplumber功能介紹\n",
        "pdf =  pdfplumber.open(\"2019_2330_financial_report.pdf\") #讀取pdf\n",
        "pdf.metadata #獲取pdf信息\n",
        "len(pdf.pages) #獲得總頁數"
      ],
      "metadata": {
        "colab": {
          "base_uri": "https://localhost:8080/"
        },
        "id": "ZljHAvbePHMV",
        "outputId": "ba4faaa0-9600-4d39-819f-6535a40b4d83"
      },
      "execution_count": null,
      "outputs": [
        {
          "output_type": "execute_result",
          "data": {
            "text/plain": [
              "{'Author': '台灣積體電路製造股份有限公司',\n",
              " 'CreationDate': \"D:20200507093121+08'00'\",\n",
              " 'Creator': 'Adobe InDesign 15.0 (Macintosh)',\n",
              " 'ModDate': \"D:20200507093146+08'00'\",\n",
              " 'Producer': 'Adobe PDF Library 15.0',\n",
              " 'Subject': '台灣積體電路製造股份有限公司\\r民國一百零七年度年報(一)',\n",
              " 'Title': '',\n",
              " 'Trapped': 'False'}"
            ]
          },
          "metadata": {},
          "execution_count": 12
        }
      ]
    },
    {
      "cell_type": "code",
      "source": [
        "#3獲取頁碼、頁寬、頁高\n",
        "first_page = pdf.pages[0] # 第一页pdfplumber.Page实例\n",
        "print('页码:',first_page.page_number) # 查看页码\n",
        "print('页宽:',first_page.width) # 查看页宽\n",
        "print('页高:',first_page.height) # 查看页高"
      ],
      "metadata": {
        "colab": {
          "base_uri": "https://localhost:8080/"
        },
        "id": "9sx4PhYVPbjf",
        "outputId": "10c4e7b4-b99a-468a-9ecb-30599672b8ee"
      },
      "execution_count": null,
      "outputs": [
        {
          "output_type": "stream",
          "name": "stdout",
          "text": [
            "页码: 1\n",
            "页宽: 609.449\n",
            "页高: 793.701\n"
          ]
        }
      ]
    },
    {
      "cell_type": "code",
      "source": [
        "text = first_page.extract_text() #读取文本\n",
        "print(text)"
      ],
      "metadata": {
        "id": "ql9IjM9iPlS4",
        "outputId": "7284dc24-7370-4953-adff-558094284e7f",
        "colab": {
          "base_uri": "https://localhost:8080/"
        }
      },
      "execution_count": null,
      "outputs": [
        {
          "output_type": "stream",
          "name": "stdout",
          "text": [
            "股票代號：2330\n",
            "NYSE：TSM\n",
            "台灣積體電路製造股份有限公司\n",
            "民國一百零八年度年報 (一)\n",
            "台灣證券交易所公開資訊觀測站網址：http://mops.twse.com.tw 刊印日期 \n",
            "台積公司年報網址：https://www.tsmc.com/chinese/investorRelations/annual_reports.htm 民國一百零九年三月十二日\n"
          ]
        }
      ]
    },
    {
      "cell_type": "markdown",
      "source": [
        "### **將pdf轉為文本**"
      ],
      "metadata": {
        "id": "ZeKdYglaPonJ"
      }
    },
    {
      "cell_type": "code",
      "source": [
        "#指定google雲端路徑，方便儲存與下載檔案\n",
        "import os\n",
        "os.chdir('/content/drive/MyDrive/colab_cloud/pdf/borb')"
      ],
      "metadata": {
        "id": "f07GhFI1NE-M"
      },
      "execution_count": null,
      "outputs": []
    },
    {
      "cell_type": "markdown",
      "source": [
        "## ⚡ **C-PDF提取OCR文本-pdfminer庫**\n",
        "* [Python | PDF 提取文本的几种方法](https://cloud.tencent.com/developer/article/1825553)"
      ],
      "metadata": {
        "id": "6Yh1XtqJp5XE"
      }
    },
    {
      "cell_type": "code",
      "source": [
        "import io\n",
        "\n",
        "from pdfminer.pdfinterp import PDFResourceManager, PDFPageInterpreter\n",
        "from pdfminer.converter import TextConverter\n",
        "from pdfminer.layout import LAParams\n",
        "from pdfminer.pdfpage import PDFPage"
      ],
      "metadata": {
        "id": "1KEscxTHqASa"
      },
      "execution_count": null,
      "outputs": []
    },
    {
      "cell_type": "code",
      "source": [
        "def convert_pdf_to_txt(path):\n",
        "    rsrcmgr = PDFResourceManager()  # 存储共享资源，例如字体或图片\n",
        "    retstr = io.StringIO()\n",
        "    # codec = 'utf-8'\n",
        "    laparams = LAParams()\n",
        "    device = TextConverter(rsrcmgr, retstr, laparams=laparams)\n",
        "    fp = open(path, 'rb')\n",
        "    interpreter = PDFPageInterpreter(rsrcmgr, device)  # 解析 page内容\n",
        "    password = \"\"  # 密码，若无则初始化为空\n",
        "    maxpages = 0\n",
        "    caching = True\n",
        "    pagenos = set()\n",
        "\n",
        "    for page in PDFPage.get_pages(fp, pagenos, maxpages=maxpages,\n",
        "                                  password=password,\n",
        "                                  caching=caching,\n",
        "                                  check_extractable=True):\n",
        "        interpreter.process_page(page)\n",
        "\n",
        "    text = retstr.getvalue()\n",
        "\n",
        "    fp.close()\n",
        "    device.close()\n",
        "    retstr.close()\n",
        "    return text"
      ],
      "metadata": {
        "id": "3d0p_vEqqeew"
      },
      "execution_count": null,
      "outputs": []
    },
    {
      "cell_type": "code",
      "source": [
        "#指定google雲端路徑，方便儲存與下載檔案\n",
        "import os\n",
        "os.chdir('/content/drive/MyDrive/colab_cloud/pdf')"
      ],
      "metadata": {
        "id": "ulbxFXOOqm8C"
      },
      "execution_count": null,
      "outputs": []
    },
    {
      "cell_type": "code",
      "source": [
        "bluebook_vocab = convert_pdf_to_txt(\"./bluebook_vocab.pdf\")"
      ],
      "metadata": {
        "id": "LsQ9p88vqjri"
      },
      "execution_count": null,
      "outputs": []
    },
    {
      "cell_type": "code",
      "source": [
        "def split_words(text):\n",
        "    # 去除文本中的換行符\n",
        "    text = text.replace('\\n', ' ')\n",
        "    # 使用空格分隔單詞\n",
        "    return text.split(' ')"
      ],
      "metadata": {
        "id": "rOjdzZ67sDAl"
      },
      "execution_count": null,
      "outputs": []
    },
    {
      "cell_type": "code",
      "source": [
        "words = split_words(bluebook_vocab)"
      ],
      "metadata": {
        "id": "yX5OhmHdsPmF"
      },
      "execution_count": null,
      "outputs": []
    },
    {
      "cell_type": "code",
      "source": [
        "words"
      ],
      "metadata": {
        "colab": {
          "base_uri": "https://localhost:8080/"
        },
        "id": "YF6YA2G0sTz0",
        "outputId": "3e3e0c59-8e85-4e71-c0db-7ced09efa2f0"
      },
      "execution_count": null,
      "outputs": [
        {
          "output_type": "execute_result",
          "data": {
            "text/plain": [
              "['A',\n",
              " '',\n",
              " 'abbreviate',\n",
              " 'abbreviation',\n",
              " 'ABC',\n",
              " 'abide',\n",
              " 'abnormal',\n",
              " 'abolish',\n",
              " 'abolition',\n",
              " 'aboriginal',\n",
              " 'aborigine',\n",
              " 'abort',\n",
              " 'abortion',\n",
              " 'abound',\n",
              " 'abrupt(ly)',\n",
              " 'absent-minded',\n",
              " 'abstraction',\n",
              " 'absurd',\n",
              " 'abundance',\n",
              " 'abundant',\n",
              " 'abuse',\n",
              " 'academy',\n",
              " '\\\\j',\n",
              " 'accelerate',\n",
              " '',\n",
              " '295',\n",
              " '295',\n",
              " '259',\n",
              " '83',\n",
              " '25',\n",
              " '108',\n",
              " '108',\n",
              " '295',\n",
              " '295',\n",
              " '1',\n",
              " '1',\n",
              " '234',\n",
              " '45',\n",
              " '170',\n",
              " '232',\n",
              " '73',\n",
              " '234',\n",
              " '79',\n",
              " '199',\n",
              " '38',\n",
              " '194',\n",
              " '194',\n",
              " '259',\n",
              " '259',\n",
              " '202',\n",
              " 'accommodation',\n",
              " '202',\n",
              " '255',\n",
              " 'accord(ance)',\n",
              " '255',\n",
              " 'accordingly',\n",
              " '259',\n",
              " 'accountable',\n",
              " '260',\n",
              " 'accounting',\n",
              " '228',\n",
              " 'accumulate',\n",
              " '228',\n",
              " 'accumulation',\n",
              " 'accusation',\n",
              " '260',\n",
              " '61',\n",
              " 'accustom',\n",
              " '',\n",
              " 'acceleration',\n",
              " 'accessible',\n",
              " 'accessory',\n",
              " '',\n",
              " 'v',\n",
              " 'accommodate',\n",
              " '',\n",
              " '91',\n",
              " 'ace',\n",
              " 'acknowledge(ment)',\n",
              " '28',\n",
              " '163',\n",
              " 'acne',\n",
              " 'acquisition',\n",
              " '223',\n",
              " '260',\n",
              " 'activist',\n",
              " '224',\n",
              " 'acute',\n",
              " '218',\n",
              " 'adaptation',\n",
              " '260',\n",
              " 'addict(ion)',\n",
              " '196',\n",
              " 'administer',\n",
              " 'administration',\n",
              " '196',\n",
              " '196',\n",
              " 'administrative',\n",
              " 'administrator',\n",
              " '196',\n",
              " 'admiral',\n",
              " '109',\n",
              " '107',\n",
              " 'adolescence',\n",
              " '107',\n",
              " 'adolescent',\n",
              " 'adorable',\n",
              " '2',\n",
              " '2',\n",
              " 'adore',\n",
              " '35',\n",
              " 'adulthood',\n",
              " 'advertiser',\n",
              " '35',\n",
              " '236',\n",
              " 'advocate',\n",
              " 'affection',\n",
              " '40',\n",
              " '170',\n",
              " 'affectionate',\n",
              " '206',\n",
              " 'affirm',\n",
              " '109',\n",
              " 'agenda',\n",
              " 'aggression',\n",
              " '238',\n",
              " '109',\n",
              " 'agony',\n",
              " '35',\n",
              " 'agricultural',\n",
              " 'AI',\n",
              " '80',\n",
              " '109',\n",
              " 'air-tight',\n",
              " '109',\n",
              " 'airway',\n",
              " 'aisle',\n",
              " '109',\n",
              " '261',\n",
              " 'alcoholic',\n",
              " '109',\n",
              " 'algebra',\n",
              " '94',\n",
              " 'alien',\n",
              " '94',\n",
              " 'alienate',\n",
              " '',\n",
              " 'alienation',\n",
              " 'allergic',\n",
              " 'allergy',\n",
              " 'alliance',\n",
              " 'alligator',\n",
              " 'allocate',\n",
              " 'allocation',\n",
              " 'ally',\n",
              " 'alongside',\n",
              " 'alter',\n",
              " 'alteration',\n",
              " 'alternate',\n",
              " 'alternative',\n",
              " 'altitude',\n",
              " 'ambiguity',\n",
              " 'ambiguous',\n",
              " 'ambush',\n",
              " 'amiable',\n",
              " 'amphetamine',\n",
              " 'ample',\n",
              " 'amplify',\n",
              " 'analects',\n",
              " 'analogy',\n",
              " 'analyst',\n",
              " 'analytical',\n",
              " 'anchor',\n",
              " 'anecdote',\n",
              " 'animate',\n",
              " 'animation',\n",
              " 'annoyance',\n",
              " 'anonymous',\n",
              " 'Antarctic(a)',\n",
              " 'antenna',\n",
              " 'anthem',\n",
              " 'antibiotic',\n",
              " '',\n",
              " '94',\n",
              " '110',\n",
              " '110',\n",
              " '221',\n",
              " '122',\n",
              " '255',\n",
              " '255',\n",
              " '30',\n",
              " '261',\n",
              " '10',\n",
              " '10',\n",
              " '176',\n",
              " '176',\n",
              " '110',\n",
              " '216',\n",
              " '216',\n",
              " '261',\n",
              " '278',\n",
              " '308',\n",
              " '55',\n",
              " '279',\n",
              " '262',\n",
              " '222',\n",
              " '241',\n",
              " '241',\n",
              " '70',\n",
              " '245',\n",
              " '254',\n",
              " '254',\n",
              " '262',\n",
              " '222',\n",
              " '287',\n",
              " '246',\n",
              " '101',\n",
              " '262',\n",
              " '',\n",
              " '\\x0cantibody',\n",
              " 'anticipate',\n",
              " 'anticipation',\n",
              " 'antidote',\n",
              " 'antique',\n",
              " 'antonym',\n",
              " '',\n",
              " ',appall(ing)',\n",
              " '',\n",
              " 'applaud',\n",
              " 'applause',\n",
              " 'applicable',\n",
              " 'apprentice',\n",
              " 'approximate',\n",
              " 'approximately',\n",
              " 'apt',\n",
              " 'aptitude',\n",
              " 'architect',\n",
              " 'architecture',\n",
              " 'Arctic',\n",
              " 'arena',\n",
              " 'armor',\n",
              " 'arrogance',\n",
              " 'arrogant',\n",
              " 'artery',\n",
              " 'articulate',\n",
              " 'artifact',\n",
              " 'ascend',\n",
              " 'ascent',\n",
              " 'ass',\n",
              " 'assassin',\n",
              " 'assassinate',\n",
              " 'assassination',\n",
              " 'assault',\n",
              " '',\n",
              " 'v',\n",
              " 'assert(ion)(ive)',\n",
              " '\\\\/assess(ment)',\n",
              " 'asset',\n",
              " '',\n",
              " '\\\\j',\n",
              " 'assumption',\n",
              " '',\n",
              " 'asthma',\n",
              " 'astonish(ing)',\n",
              " 'astonishment',\n",
              " '',\n",
              " '262',\n",
              " '173',\n",
              " '174',\n",
              " '262',\n",
              " '110',\n",
              " '289',\n",
              " '262',\n",
              " '93',\n",
              " '93',\n",
              " '222',\n",
              " '214',\n",
              " '172',\n",
              " '173',\n",
              " '74',\n",
              " '293',\n",
              " '23',\n",
              " '23',\n",
              " '287',\n",
              " '111',\n",
              " '111',\n",
              " '262',\n",
              " '262',\n",
              " '191',\n",
              " '263',\n",
              " '256',\n",
              " '111',\n",
              " '111',\n",
              " '111',\n",
              " '263',\n",
              " '263',\n",
              " '263',\n",
              " '81',\n",
              " '177',\n",
              " '199',\n",
              " '91',\n",
              " '173',\n",
              " '295',\n",
              " '111',\n",
              " '111',\n",
              " '',\n",
              " 'astray',\n",
              " 'astronaut',\n",
              " 'astronomer',\n",
              " 'astronomy',\n",
              " 'asylum',\n",
              " 'attain(ment)',\n",
              " 'attendance',\n",
              " 'attendant',\n",
              " 'attic',\n",
              " 'auction',\n",
              " 'auditorium',\n",
              " '',\n",
              " '\\\\j',\n",
              " 'authentic',\n",
              " 'authorize',\n",
              " 'autograph',\n",
              " 'autonomy',\n",
              " 'auxiliary',\n",
              " 'aviation',\n",
              " 'awe',\n",
              " 'awesome',\n",
              " 'awhile',\n",
              " 'B',\n",
              " '',\n",
              " 'bachelor',\n",
              " 'backbone',\n",
              " 'badge',\n",
              " 'ballot',\n",
              " 'ban',\n",
              " 'bandit',\n",
              " 'banner',\n",
              " 'banquet',\n",
              " 'barbarian',\n",
              " 'barbershop',\n",
              " 'barefoot',\n",
              " 'barehanded',\n",
              " 'barometer',\n",
              " 'barren',\n",
              " 'bass',\n",
              " 'batch',\n",
              " 'batter',\n",
              " '',\n",
              " '24',\n",
              " '111',\n",
              " '69',\n",
              " '69',\n",
              " '112',\n",
              " '181',\n",
              " '108',\n",
              " '247',\n",
              " '224',\n",
              " '263',\n",
              " '94',\n",
              " '208',\n",
              " '179',\n",
              " '279',\n",
              " '239',\n",
              " '126',\n",
              " '263',\n",
              " '80',\n",
              " '171',\n",
              " '2',\n",
              " '',\n",
              " '112',\n",
              " '19',\n",
              " '81',\n",
              " '105',\n",
              " '112',\n",
              " '81',\n",
              " '82',\n",
              " '113',\n",
              " '113',\n",
              " '113',\n",
              " '3',\n",
              " '3',\n",
              " '296',\n",
              " '297',\n",
              " '97',\n",
              " '126',\n",
              " '113',\n",
              " '',\n",
              " '126',\n",
              " 'bazaar',\n",
              " '',\n",
              " '141',\n",
              " 'beautify',\n",
              " '',\n",
              " '240',\n",
              " 'beckon',\n",
              " '',\n",
              " '3',\n",
              " 'beforehand',\n",
              " '',\n",
              " '63',\n",
              " 'behalf',\n",
              " '',\n",
              " '114',\n",
              " 'belongings',\n",
              " '',\n",
              " '69',\n",
              " 'beloved',\n",
              " '',\n",
              " '114',\n",
              " 'beneficial',\n",
              " '',\n",
              " '264',\n",
              " 'besiege',\n",
              " '',\n",
              " '171',\n",
              " 'betray(al)',\n",
              " '',\n",
              " '293',\n",
              " 'beverage',\n",
              " '',\n",
              " '114',\n",
              " 'beware',\n",
              " '',\n",
              " '233',\n",
              " 'bias',\n",
              " '',\n",
              " '88',\n",
              " 'bid',\n",
              " '',\n",
              " 'binoculars',\n",
              " '',\n",
              " '288',\n",
              " 'biochemistry',\n",
              " '239',\n",
              " '',\n",
              " '239',\n",
              " 'biological',\n",
              " '',\n",
              " '264',\n",
              " 'bizarre',\n",
              " '',\n",
              " 'blacksmith',\n",
              " '',\n",
              " '3',\n",
              " '41',\n",
              " 'blade',\n",
              " '',\n",
              " '74',\n",
              " 'blast',\n",
              " '',\n",
              " 'blaze',\n",
              " '',\n",
              " '114',\n",
              " 'bleach',\n",
              " '',\n",
              " '3',\n",
              " '265',\n",
              " 'bleak',\n",
              " '',\n",
              " 'blizzard',\n",
              " '',\n",
              " '123',\n",
              " '61',\n",
              " 'blond',\n",
              " '',\n",
              " '61',\n",
              " 'blonde',\n",
              " '',\n",
              " 'blot',\n",
              " '',\n",
              " '126',\n",
              " '142',\n",
              " 'blue',\n",
              " '',\n",
              " '114',\n",
              " 'blueprint',\n",
              " '',\n",
              " 'blues',\n",
              " '',\n",
              " '141',\n",
              " '293',\n",
              " 'blunder',\n",
              " '',\n",
              " '172',\n",
              " 'blunt',\n",
              " '',\n",
              " 'blur',\n",
              " '',\n",
              " '142',\n",
              " '142',\n",
              " 'bodily',\n",
              " '',\n",
              " '142',\n",
              " 'bodyguard',\n",
              " '',\n",
              " 'bog',\n",
              " '',\n",
              " '82',\n",
              " '115',\n",
              " 'bolt',\n",
              " '',\n",
              " 'bombard',\n",
              " '',\n",
              " '193',\n",
              " '',\n",
              " \"\\x0c'、*\",\n",
              " 'I',\n",
              " '',\n",
              " '',\n",
              " '-',\n",
              " '',\n",
              " '',\n",
              " '\"•',\n",
              " 'I',\n",
              " '',\n",
              " '',\n",
              " 'I',\n",
              " '_.II',\n",
              " '〆■-',\n",
              " '',\n",
              " 'bomber',\n",
              " 'bondage',\n",
              " 'bonus',\n",
              " 'boom',\n",
              " 'boost',\n",
              " 'booth',\n",
              " 'boredom',\n",
              " 'bosom',\n",
              " 'botanical',\n",
              " 'botany',\n",
              " 'boulevard',\n",
              " 'bound',\n",
              " 'boundary',\n",
              " 'boundless',\n",
              " 'bouquet',\n",
              " 'bout',\n",
              " 'bowel',\n",
              " 'boxer',\n",
              " 'boxing',\n",
              " 'boycott',\n",
              " 'boyhood',\n",
              " 'brace',\n",
              " 'braid',\n",
              " 'breadth',\n",
              " 'breakdown',\n",
              " 'breakthrough',\n",
              " 'breakup',\n",
              " 'brew',\n",
              " 'bribe',\n",
              " 'bribery',\n",
              " 'briefcase',\n",
              " 'brink',\n",
              " 'brisk',\n",
              " 'broaden',\n",
              " 'brochure',\n",
              " 'bronze',\n",
              " 'brooch',\n",
              " 'brood',\n",
              " 'broth',\n",
              " '',\n",
              " '193',\n",
              " '203',\n",
              " '115',\n",
              " '115',\n",
              " '257',\n",
              " '115',\n",
              " '173',\n",
              " '128',\n",
              " '116',\n",
              " '116',\n",
              " '89',\n",
              " '80',\n",
              " '80',\n",
              " '80',\n",
              " '176',\n",
              " '297',\n",
              " '116',\n",
              " '116',\n",
              " '116',\n",
              " '265',\n",
              " '36',\n",
              " '116',\n",
              " '129',\n",
              " '48',\n",
              " '227',\n",
              " '227',\n",
              " '227',\n",
              " '293',\n",
              " '116',\n",
              " '116',\n",
              " '78',\n",
              " '253',\n",
              " '294',\n",
              " '48',\n",
              " '265',\n",
              " '3',\n",
              " '4',\n",
              " '79',\n",
              " '83',\n",
              " '',\n",
              " 'brotherhood',\n",
              " 'browse',\n",
              " 'browser',\n",
              " 'bruise',\n",
              " 'brute',\n",
              " 'buckle',\n",
              " 'bulge',\n",
              " 'bulk',\n",
              " 'bulky',\n",
              " 'bulletproof',\n",
              " 'bully',\n",
              " 'bureau',\n",
              " 'bureaucracy',\n",
              " 'bureaucratic',\n",
              " 'burial',\n",
              " 'butcher',\n",
              " 'byte',\n",
              " '',\n",
              " 'c',\n",
              " '',\n",
              " 'cactus',\n",
              " 'caffeine',\n",
              " 'calcium',\n",
              " 'calf',\n",
              " 'calligraphy',\n",
              " 'canal',\n",
              " 'cannon',\n",
              " 'canvas',\n",
              " 'capability',\n",
              " 'capsule',\n",
              " 'caption',\n",
              " 'captive',\n",
              " 'captivity',\n",
              " 'carbohydrate',\n",
              " 'carbon',\n",
              " 'cardboard',\n",
              " 'carefree',\n",
              " 'careless',\n",
              " 'caress',\n",
              " 'caretaker',\n",
              " '',\n",
              " '37',\n",
              " '142',\n",
              " '142',\n",
              " '4',\n",
              " '298',\n",
              " '256',\n",
              " '129',\n",
              " '71',\n",
              " '257',\n",
              " '210',\n",
              " '117',\n",
              " '16',\n",
              " '265',\n",
              " '266',\n",
              " '294',\n",
              " '142',\n",
              " '179',\n",
              " '',\n",
              " '•4',\n",
              " '182',\n",
              " '266',\n",
              " '75',\n",
              " '129',\n",
              " '117',\n",
              " '117',\n",
              " '184',\n",
              " '193',\n",
              " '257',\n",
              " '266',\n",
              " '266',\n",
              " '266',\n",
              " '299',\n",
              " '80',\n",
              " '142',\n",
              " '142',\n",
              " '143',\n",
              " '266',\n",
              " '38',\n",
              " '',\n",
              " 'carnation',\n",
              " 'carnival',\n",
              " 'carol',\n",
              " 'carp',\n",
              " 'carton',\n",
              " 'cashier',\n",
              " 'casualty',\n",
              " 'catastrophe',\n",
              " 'catcher',\n",
              " 'categorize',\n",
              " 'category',\n",
              " 'cater',\n",
              " 'cathedral',\n",
              " 'caution',\n",
              " 'cautious',\n",
              " 'cavalry',\n",
              " 'cavity',\n",
              " 'celebrity',\n",
              " 'celery',\n",
              " 'cellar',\n",
              " 'cellist',\n",
              " 'cello',\n",
              " 'cemetery',\n",
              " 'centigrade',\n",
              " 'ceremony',\n",
              " 'certainty',\n",
              " 'certificate',\n",
              " 'certified',\n",
              " 'certify',\n",
              " 'chairman',\n",
              " 'chairperson',\n",
              " 'chairwoman',\n",
              " 'champagne',\n",
              " 'chant',\n",
              " 'chaos',\n",
              " 'characterize',\n",
              " 'charcoal',\n",
              " 'chariot',\n",
              " 'charitable',\n",
              " '',\n",
              " '129',\n",
              " '143',\n",
              " '258',\n",
              " '143',\n",
              " '84',\n",
              " '267',\n",
              " '294',\n",
              " '211',\n",
              " '219',\n",
              " '16',\n",
              " '16',\n",
              " '294',\n",
              " '58',\n",
              " '65',\n",
              " '65',\n",
              " '213',\n",
              " '185',\n",
              " '117',\n",
              " '5',\n",
              " '66',\n",
              " '5',\n",
              " '5',\n",
              " '237',\n",
              " '117',\n",
              " '34',\n",
              " '206',\n",
              " '118',\n",
              " '299',\n",
              " '299',\n",
              " '13',\n",
              " '13',\n",
              " '13',\n",
              " '294',\n",
              " '85',\n",
              " '217',\n",
              " '184',\n",
              " '293',\n",
              " '299',\n",
              " '295',\n",
              " '',\n",
              " '\\x0ccheckbook',\n",
              " 'check-in',\n",
              " 'check-out',\n",
              " 'checkup',\n",
              " 'chef',\n",
              " 'chemist',\n",
              " 'chemotherapy',\n",
              " 'chestnut',\n",
              " 'chili',\n",
              " 'chimpanzee',\n",
              " 'choir',\n",
              " 'cholesterol',\n",
              " 'chord',\n",
              " 'chronic',\n",
              " 'chubby',\n",
              " 'chuckle',\n",
              " 'chunk',\n",
              " 'circuit',\n",
              " 'cite',\n",
              " 'civic(s)',\n",
              " 'civilize(d)',\n",
              " 'clam',\n",
              " 'clamp',\n",
              " 'clan',\n",
              " 'clarity',\n",
              " 'clasp',\n",
              " 'clause',\n",
              " 'cleanse(r)',\n",
              " 'clearance',\n",
              " 'clench',\n",
              " 'cling',\n",
              " 'clinical',\n",
              " 'clockwise',\n",
              " 'clone',\n",
              " 'closure',\n",
              " 'clover',\n",
              " 'cluster',\n",
              " 'clutch',\n",
              " 'coastline',\n",
              " '',\n",
              " '118',\n",
              " '118',\n",
              " '118',\n",
              " '118',\n",
              " '143',\n",
              " '119',\n",
              " '250',\n",
              " '78',\n",
              " '119',\n",
              " '143',\n",
              " '119',\n",
              " '267',\n",
              " '107',\n",
              " '224',\n",
              " '38',\n",
              " '187',\n",
              " '295',\n",
              " '32',\n",
              " '13',\n",
              " '55',\n",
              " '241',\n",
              " '133',\n",
              " '299',\n",
              " '86',\n",
              " '192',\n",
              " '39',\n",
              " '119',\n",
              " '268',\n",
              " '190',\n",
              " '258',\n",
              " '28',\n",
              " '209',\n",
              " '119',\n",
              " '192',\n",
              " '295',\n",
              " '130',\n",
              " '90',\n",
              " '143',\n",
              " '143',\n",
              " '',\n",
              " 'cocaine',\n",
              " '308',\n",
              " 'cocoon',\n",
              " '87',\n",
              " 'coffin',\n",
              " '268',\n",
              " 'coherence',\n",
              " '259',\n",
              " 'coherent',\n",
              " '25.9',\n",
              " 'coil',\n",
              " '130',\n",
              " 'coincide(nce)',\n",
              " '200',\n",
              " 'colleague',\n",
              " '32',\n",
              " 'collective',\n",
              " '186',\n",
              " 'collector',\n",
              " '186',\n",
              " 'collide',\n",
              " '259',\n",
              " 'collision',\n",
              " '259',\n",
              " 'colloquial',\n",
              " '300',\n",
              " 'colonel',\n",
              " '22',\n",
              " 'colonial',\n",
              " '47',\n",
              " 'columnist',\n",
              " '296',\n",
              " 'combat',\n",
              " '52',\n",
              " 'comedian',\n",
              " '120',\n",
              " 'comet',\n",
              " '120',\n",
              " 'commemorate',\n",
              " '296',\n",
              " 'commence(ment)202',\n",
              " 'commentary',\n",
              " '268',\n",
              " 'commentator',\n",
              " '120',\n",
              " 'commission',\n",
              " '3',\n",
              " 'commitment',\n",
              " '187',\n",
              " 'commodity',\n",
              " '65',\n",
              " 'commonplace',\n",
              " '87',\n",
              " 'communicative',\n",
              " '296',\n",
              " 'communism',\n",
              " '6',\n",
              " 'communist',\n",
              " '6',\n",
              " 'commute(r)',\n",
              " '76',\n",
              " 'compact',\n",
              " '104',\n",
              " 'companionship',\n",
              " '296',\n",
              " 'comparable',\n",
              " '180',\n",
              " 'comparative(ly)',\n",
              " '180',\n",
              " 'compass',\n",
              " '107',\n",
              " 'compassion(ate)',\n",
              " '87',\n",
              " 'compatible',\n",
              " '234',\n",
              " 'compel',\n",
              " '39',\n",
              " '',\n",
              " 'compensate',\n",
              " '296',\n",
              " 'compensation',\n",
              " '297',\n",
              " 'competence',\n",
              " '195',\n",
              " 'competent',\n",
              " '195',\n",
              " 'compile',\n",
              " '241',\n",
              " 'complement',\n",
              " '230',\n",
              " 'complexion',\n",
              " '297',\n",
              " 'complexity',\n",
              " '214',\n",
              " 'complication',\n",
              " '297',\n",
              " 'compliment',\n",
              " '120',\n",
              " 'comply',\n",
              " '76',\n",
              " 'component',\n",
              " '171',\n",
              " '62',\n",
              " 'compound',\n",
              " 'comprehend',\n",
              " '120',\n",
              " 'comprehensible',\n",
              " '120',\n",
              " 'comprehension',\n",
              " '120',\n",
              " '211',\n",
              " 'comprehensive',\n",
              " 'comprise',\n",
              " '188',\n",
              " 'compromise',\n",
              " '72',\n",
              " 'compute',\n",
              " '36',\n",
              " 'computerize',\n",
              " '36',\n",
              " 'comrade',\n",
              " '93',\n",
              " 'conceal',\n",
              " '66',\n",
              " 'concede',\n",
              " '192',\n",
              " 'conceit(ed)',\n",
              " '300',\n",
              " 'conceive',\n",
              " '11',\n",
              " 'conception',\n",
              " '178',\n",
              " 'concession',\n",
              " '192',\n",
              " 'concise',\n",
              " '297',\n",
              " 'condemn',\n",
              " '33',\n",
              " 'condense',\n",
              " '297',\n",
              " 'conduct',\n",
              " '4',\n",
              " 'confer',\n",
              " '234',\n",
              " 'confession',\n",
              " '62',\n",
              " 'confide',\n",
              " '297',\n",
              " 'confidential',\n",
              " '297',\n",
              " 'conform',\n",
              " '205',\n",
              " 'confront',\n",
              " '6',\n",
              " 'confrontation',\n",
              " '242',\n",
              " '',\n",
              " '\\x0cconquest',\n",
              " 'conscientious',\n",
              " 'consensus',\n",
              " ...]"
            ]
          },
          "metadata": {},
          "execution_count": 8
        }
      ]
    },
    {
      "cell_type": "code",
      "source": [
        "import pandas as pd\n",
        "\n",
        "df = pd.DataFrame(words ,columns=['word'])"
      ],
      "metadata": {
        "id": "WpGT20QZGU6y"
      },
      "execution_count": null,
      "outputs": []
    },
    {
      "cell_type": "code",
      "source": [
        "df['page']=df['word'].str.extract('(\\d+)')"
      ],
      "metadata": {
        "id": "od2wWjb6Ghit"
      },
      "execution_count": null,
      "outputs": []
    },
    {
      "cell_type": "code",
      "source": [
        "df['vocab_spe'] = df['word'].str.extract('([A-Za-z-\\(\\)\\/\\.]+)')"
      ],
      "metadata": {
        "id": "fNe1gstbIn6T"
      },
      "execution_count": null,
      "outputs": []
    },
    {
      "cell_type": "code",
      "source": [
        "df['is_blank'] = df['word'].isnull()"
      ],
      "metadata": {
        "id": "6tMOdxopHkSo"
      },
      "execution_count": null,
      "outputs": []
    },
    {
      "cell_type": "code",
      "source": [
        "print(df.loc[df['is_blank'] == True])"
      ],
      "metadata": {
        "colab": {
          "base_uri": "https://localhost:8080/"
        },
        "id": "wkKIVjtcOLLa",
        "outputId": "32530616-e439-400b-f2e0-fa0706d62998"
      },
      "execution_count": null,
      "outputs": [
        {
          "output_type": "stream",
          "name": "stdout",
          "text": [
            "Empty DataFrame\n",
            "Columns: [word, page, vocab_spe, is_blank]\n",
            "Index: []\n"
          ]
        }
      ]
    },
    {
      "cell_type": "code",
      "source": [
        "df[df.duplicated()==True]"
      ],
      "metadata": {
        "colab": {
          "base_uri": "https://localhost:8080/",
          "height": 423
        },
        "id": "VOTONcNeLkyO",
        "outputId": "0a32794b-352e-48d9-b2f1-6626d9eeaa29"
      },
      "execution_count": null,
      "outputs": [
        {
          "output_type": "execute_result",
          "data": {
            "text/plain": [
              "     word page vocab_spe\n",
              "24         NaN       NaN\n",
              "26    295  295       NaN\n",
              "31    108  108       NaN\n",
              "32    295  295       NaN\n",
              "33    295  295       NaN\n",
              "...   ...  ...       ...\n",
              "5099  293  293       NaN\n",
              "5100  168  168       NaN\n",
              "5101  141  141       NaN\n",
              "5102  116  116       NaN\n",
              "5103       NaN       NaN\n",
              "\n",
              "[2350 rows x 3 columns]"
            ],
            "text/html": [
              "\n",
              "  <div id=\"df-80861403-b0bb-4be2-b77d-75f08227ff64\">\n",
              "    <div class=\"colab-df-container\">\n",
              "      <div>\n",
              "<style scoped>\n",
              "    .dataframe tbody tr th:only-of-type {\n",
              "        vertical-align: middle;\n",
              "    }\n",
              "\n",
              "    .dataframe tbody tr th {\n",
              "        vertical-align: top;\n",
              "    }\n",
              "\n",
              "    .dataframe thead th {\n",
              "        text-align: right;\n",
              "    }\n",
              "</style>\n",
              "<table border=\"1\" class=\"dataframe\">\n",
              "  <thead>\n",
              "    <tr style=\"text-align: right;\">\n",
              "      <th></th>\n",
              "      <th>word</th>\n",
              "      <th>page</th>\n",
              "      <th>vocab_spe</th>\n",
              "    </tr>\n",
              "  </thead>\n",
              "  <tbody>\n",
              "    <tr>\n",
              "      <th>24</th>\n",
              "      <td></td>\n",
              "      <td>NaN</td>\n",
              "      <td>NaN</td>\n",
              "    </tr>\n",
              "    <tr>\n",
              "      <th>26</th>\n",
              "      <td>295</td>\n",
              "      <td>295</td>\n",
              "      <td>NaN</td>\n",
              "    </tr>\n",
              "    <tr>\n",
              "      <th>31</th>\n",
              "      <td>108</td>\n",
              "      <td>108</td>\n",
              "      <td>NaN</td>\n",
              "    </tr>\n",
              "    <tr>\n",
              "      <th>32</th>\n",
              "      <td>295</td>\n",
              "      <td>295</td>\n",
              "      <td>NaN</td>\n",
              "    </tr>\n",
              "    <tr>\n",
              "      <th>33</th>\n",
              "      <td>295</td>\n",
              "      <td>295</td>\n",
              "      <td>NaN</td>\n",
              "    </tr>\n",
              "    <tr>\n",
              "      <th>...</th>\n",
              "      <td>...</td>\n",
              "      <td>...</td>\n",
              "      <td>...</td>\n",
              "    </tr>\n",
              "    <tr>\n",
              "      <th>5099</th>\n",
              "      <td>293</td>\n",
              "      <td>293</td>\n",
              "      <td>NaN</td>\n",
              "    </tr>\n",
              "    <tr>\n",
              "      <th>5100</th>\n",
              "      <td>168</td>\n",
              "      <td>168</td>\n",
              "      <td>NaN</td>\n",
              "    </tr>\n",
              "    <tr>\n",
              "      <th>5101</th>\n",
              "      <td>141</td>\n",
              "      <td>141</td>\n",
              "      <td>NaN</td>\n",
              "    </tr>\n",
              "    <tr>\n",
              "      <th>5102</th>\n",
              "      <td>116</td>\n",
              "      <td>116</td>\n",
              "      <td>NaN</td>\n",
              "    </tr>\n",
              "    <tr>\n",
              "      <th>5103</th>\n",
              "      <td></td>\n",
              "      <td>NaN</td>\n",
              "      <td>NaN</td>\n",
              "    </tr>\n",
              "  </tbody>\n",
              "</table>\n",
              "<p>2350 rows × 3 columns</p>\n",
              "</div>\n",
              "      <button class=\"colab-df-convert\" onclick=\"convertToInteractive('df-80861403-b0bb-4be2-b77d-75f08227ff64')\"\n",
              "              title=\"Convert this dataframe to an interactive table.\"\n",
              "              style=\"display:none;\">\n",
              "        \n",
              "  <svg xmlns=\"http://www.w3.org/2000/svg\" height=\"24px\"viewBox=\"0 0 24 24\"\n",
              "       width=\"24px\">\n",
              "    <path d=\"M0 0h24v24H0V0z\" fill=\"none\"/>\n",
              "    <path d=\"M18.56 5.44l.94 2.06.94-2.06 2.06-.94-2.06-.94-.94-2.06-.94 2.06-2.06.94zm-11 1L8.5 8.5l.94-2.06 2.06-.94-2.06-.94L8.5 2.5l-.94 2.06-2.06.94zm10 10l.94 2.06.94-2.06 2.06-.94-2.06-.94-.94-2.06-.94 2.06-2.06.94z\"/><path d=\"M17.41 7.96l-1.37-1.37c-.4-.4-.92-.59-1.43-.59-.52 0-1.04.2-1.43.59L10.3 9.45l-7.72 7.72c-.78.78-.78 2.05 0 2.83L4 21.41c.39.39.9.59 1.41.59.51 0 1.02-.2 1.41-.59l7.78-7.78 2.81-2.81c.8-.78.8-2.07 0-2.86zM5.41 20L4 18.59l7.72-7.72 1.47 1.35L5.41 20z\"/>\n",
              "  </svg>\n",
              "      </button>\n",
              "      \n",
              "  <style>\n",
              "    .colab-df-container {\n",
              "      display:flex;\n",
              "      flex-wrap:wrap;\n",
              "      gap: 12px;\n",
              "    }\n",
              "\n",
              "    .colab-df-convert {\n",
              "      background-color: #E8F0FE;\n",
              "      border: none;\n",
              "      border-radius: 50%;\n",
              "      cursor: pointer;\n",
              "      display: none;\n",
              "      fill: #1967D2;\n",
              "      height: 32px;\n",
              "      padding: 0 0 0 0;\n",
              "      width: 32px;\n",
              "    }\n",
              "\n",
              "    .colab-df-convert:hover {\n",
              "      background-color: #E2EBFA;\n",
              "      box-shadow: 0px 1px 2px rgba(60, 64, 67, 0.3), 0px 1px 3px 1px rgba(60, 64, 67, 0.15);\n",
              "      fill: #174EA6;\n",
              "    }\n",
              "\n",
              "    [theme=dark] .colab-df-convert {\n",
              "      background-color: #3B4455;\n",
              "      fill: #D2E3FC;\n",
              "    }\n",
              "\n",
              "    [theme=dark] .colab-df-convert:hover {\n",
              "      background-color: #434B5C;\n",
              "      box-shadow: 0px 1px 3px 1px rgba(0, 0, 0, 0.15);\n",
              "      filter: drop-shadow(0px 1px 2px rgba(0, 0, 0, 0.3));\n",
              "      fill: #FFFFFF;\n",
              "    }\n",
              "  </style>\n",
              "\n",
              "      <script>\n",
              "        const buttonEl =\n",
              "          document.querySelector('#df-80861403-b0bb-4be2-b77d-75f08227ff64 button.colab-df-convert');\n",
              "        buttonEl.style.display =\n",
              "          google.colab.kernel.accessAllowed ? 'block' : 'none';\n",
              "\n",
              "        async function convertToInteractive(key) {\n",
              "          const element = document.querySelector('#df-80861403-b0bb-4be2-b77d-75f08227ff64');\n",
              "          const dataTable =\n",
              "            await google.colab.kernel.invokeFunction('convertToInteractive',\n",
              "                                                     [key], {});\n",
              "          if (!dataTable) return;\n",
              "\n",
              "          const docLinkHtml = 'Like what you see? Visit the ' +\n",
              "            '<a target=\"_blank\" href=https://colab.research.google.com/notebooks/data_table.ipynb>data table notebook</a>'\n",
              "            + ' to learn more about interactive tables.';\n",
              "          element.innerHTML = '';\n",
              "          dataTable['output_type'] = 'display_data';\n",
              "          await google.colab.output.renderOutput(dataTable, element);\n",
              "          const docLink = document.createElement('div');\n",
              "          docLink.innerHTML = docLinkHtml;\n",
              "          element.appendChild(docLink);\n",
              "        }\n",
              "      </script>\n",
              "    </div>\n",
              "  </div>\n",
              "  "
            ]
          },
          "metadata": {},
          "execution_count": 52
        }
      ]
    },
    {
      "cell_type": "code",
      "source": [
        "df"
      ],
      "metadata": {
        "colab": {
          "base_uri": "https://localhost:8080/",
          "height": 423
        },
        "id": "J9OGQKf1Lph3",
        "outputId": "622daba1-5b66-4e2c-cba7-93edf4df9eff"
      },
      "execution_count": null,
      "outputs": [
        {
          "output_type": "execute_result",
          "data": {
            "text/plain": [
              "              word page     vocab_spe  is_blank\n",
              "0                A  NaN             A     False\n",
              "1                   NaN           NaN     False\n",
              "2       abbreviate  NaN    abbreviate     False\n",
              "3     abbreviation  NaN  abbreviation     False\n",
              "4              ABC  NaN           ABC     False\n",
              "...            ...  ...           ...       ...\n",
              "5100           168  168           NaN     False\n",
              "5101           141  141           NaN     False\n",
              "5102           116  116           NaN     False\n",
              "5103                NaN           NaN     False\n",
              "5104             \n",
              "  NaN           NaN     False\n",
              "\n",
              "[5105 rows x 4 columns]"
            ],
            "text/html": [
              "\n",
              "  <div id=\"df-e188521e-e451-450e-81e7-173b95d3e9a7\">\n",
              "    <div class=\"colab-df-container\">\n",
              "      <div>\n",
              "<style scoped>\n",
              "    .dataframe tbody tr th:only-of-type {\n",
              "        vertical-align: middle;\n",
              "    }\n",
              "\n",
              "    .dataframe tbody tr th {\n",
              "        vertical-align: top;\n",
              "    }\n",
              "\n",
              "    .dataframe thead th {\n",
              "        text-align: right;\n",
              "    }\n",
              "</style>\n",
              "<table border=\"1\" class=\"dataframe\">\n",
              "  <thead>\n",
              "    <tr style=\"text-align: right;\">\n",
              "      <th></th>\n",
              "      <th>word</th>\n",
              "      <th>page</th>\n",
              "      <th>vocab_spe</th>\n",
              "      <th>is_blank</th>\n",
              "    </tr>\n",
              "  </thead>\n",
              "  <tbody>\n",
              "    <tr>\n",
              "      <th>0</th>\n",
              "      <td>A</td>\n",
              "      <td>NaN</td>\n",
              "      <td>A</td>\n",
              "      <td>False</td>\n",
              "    </tr>\n",
              "    <tr>\n",
              "      <th>1</th>\n",
              "      <td></td>\n",
              "      <td>NaN</td>\n",
              "      <td>NaN</td>\n",
              "      <td>False</td>\n",
              "    </tr>\n",
              "    <tr>\n",
              "      <th>2</th>\n",
              "      <td>abbreviate</td>\n",
              "      <td>NaN</td>\n",
              "      <td>abbreviate</td>\n",
              "      <td>False</td>\n",
              "    </tr>\n",
              "    <tr>\n",
              "      <th>3</th>\n",
              "      <td>abbreviation</td>\n",
              "      <td>NaN</td>\n",
              "      <td>abbreviation</td>\n",
              "      <td>False</td>\n",
              "    </tr>\n",
              "    <tr>\n",
              "      <th>4</th>\n",
              "      <td>ABC</td>\n",
              "      <td>NaN</td>\n",
              "      <td>ABC</td>\n",
              "      <td>False</td>\n",
              "    </tr>\n",
              "    <tr>\n",
              "      <th>...</th>\n",
              "      <td>...</td>\n",
              "      <td>...</td>\n",
              "      <td>...</td>\n",
              "      <td>...</td>\n",
              "    </tr>\n",
              "    <tr>\n",
              "      <th>5100</th>\n",
              "      <td>168</td>\n",
              "      <td>168</td>\n",
              "      <td>NaN</td>\n",
              "      <td>False</td>\n",
              "    </tr>\n",
              "    <tr>\n",
              "      <th>5101</th>\n",
              "      <td>141</td>\n",
              "      <td>141</td>\n",
              "      <td>NaN</td>\n",
              "      <td>False</td>\n",
              "    </tr>\n",
              "    <tr>\n",
              "      <th>5102</th>\n",
              "      <td>116</td>\n",
              "      <td>116</td>\n",
              "      <td>NaN</td>\n",
              "      <td>False</td>\n",
              "    </tr>\n",
              "    <tr>\n",
              "      <th>5103</th>\n",
              "      <td></td>\n",
              "      <td>NaN</td>\n",
              "      <td>NaN</td>\n",
              "      <td>False</td>\n",
              "    </tr>\n",
              "    <tr>\n",
              "      <th>5104</th>\n",
              "      <td></td>\n",
              "      <td>NaN</td>\n",
              "      <td>NaN</td>\n",
              "      <td>False</td>\n",
              "    </tr>\n",
              "  </tbody>\n",
              "</table>\n",
              "<p>5105 rows × 4 columns</p>\n",
              "</div>\n",
              "      <button class=\"colab-df-convert\" onclick=\"convertToInteractive('df-e188521e-e451-450e-81e7-173b95d3e9a7')\"\n",
              "              title=\"Convert this dataframe to an interactive table.\"\n",
              "              style=\"display:none;\">\n",
              "        \n",
              "  <svg xmlns=\"http://www.w3.org/2000/svg\" height=\"24px\"viewBox=\"0 0 24 24\"\n",
              "       width=\"24px\">\n",
              "    <path d=\"M0 0h24v24H0V0z\" fill=\"none\"/>\n",
              "    <path d=\"M18.56 5.44l.94 2.06.94-2.06 2.06-.94-2.06-.94-.94-2.06-.94 2.06-2.06.94zm-11 1L8.5 8.5l.94-2.06 2.06-.94-2.06-.94L8.5 2.5l-.94 2.06-2.06.94zm10 10l.94 2.06.94-2.06 2.06-.94-2.06-.94-.94-2.06-.94 2.06-2.06.94z\"/><path d=\"M17.41 7.96l-1.37-1.37c-.4-.4-.92-.59-1.43-.59-.52 0-1.04.2-1.43.59L10.3 9.45l-7.72 7.72c-.78.78-.78 2.05 0 2.83L4 21.41c.39.39.9.59 1.41.59.51 0 1.02-.2 1.41-.59l7.78-7.78 2.81-2.81c.8-.78.8-2.07 0-2.86zM5.41 20L4 18.59l7.72-7.72 1.47 1.35L5.41 20z\"/>\n",
              "  </svg>\n",
              "      </button>\n",
              "      \n",
              "  <style>\n",
              "    .colab-df-container {\n",
              "      display:flex;\n",
              "      flex-wrap:wrap;\n",
              "      gap: 12px;\n",
              "    }\n",
              "\n",
              "    .colab-df-convert {\n",
              "      background-color: #E8F0FE;\n",
              "      border: none;\n",
              "      border-radius: 50%;\n",
              "      cursor: pointer;\n",
              "      display: none;\n",
              "      fill: #1967D2;\n",
              "      height: 32px;\n",
              "      padding: 0 0 0 0;\n",
              "      width: 32px;\n",
              "    }\n",
              "\n",
              "    .colab-df-convert:hover {\n",
              "      background-color: #E2EBFA;\n",
              "      box-shadow: 0px 1px 2px rgba(60, 64, 67, 0.3), 0px 1px 3px 1px rgba(60, 64, 67, 0.15);\n",
              "      fill: #174EA6;\n",
              "    }\n",
              "\n",
              "    [theme=dark] .colab-df-convert {\n",
              "      background-color: #3B4455;\n",
              "      fill: #D2E3FC;\n",
              "    }\n",
              "\n",
              "    [theme=dark] .colab-df-convert:hover {\n",
              "      background-color: #434B5C;\n",
              "      box-shadow: 0px 1px 3px 1px rgba(0, 0, 0, 0.15);\n",
              "      filter: drop-shadow(0px 1px 2px rgba(0, 0, 0, 0.3));\n",
              "      fill: #FFFFFF;\n",
              "    }\n",
              "  </style>\n",
              "\n",
              "      <script>\n",
              "        const buttonEl =\n",
              "          document.querySelector('#df-e188521e-e451-450e-81e7-173b95d3e9a7 button.colab-df-convert');\n",
              "        buttonEl.style.display =\n",
              "          google.colab.kernel.accessAllowed ? 'block' : 'none';\n",
              "\n",
              "        async function convertToInteractive(key) {\n",
              "          const element = document.querySelector('#df-e188521e-e451-450e-81e7-173b95d3e9a7');\n",
              "          const dataTable =\n",
              "            await google.colab.kernel.invokeFunction('convertToInteractive',\n",
              "                                                     [key], {});\n",
              "          if (!dataTable) return;\n",
              "\n",
              "          const docLinkHtml = 'Like what you see? Visit the ' +\n",
              "            '<a target=\"_blank\" href=https://colab.research.google.com/notebooks/data_table.ipynb>data table notebook</a>'\n",
              "            + ' to learn more about interactive tables.';\n",
              "          element.innerHTML = '';\n",
              "          dataTable['output_type'] = 'display_data';\n",
              "          await google.colab.output.renderOutput(dataTable, element);\n",
              "          const docLink = document.createElement('div');\n",
              "          docLink.innerHTML = docLinkHtml;\n",
              "          element.appendChild(docLink);\n",
              "        }\n",
              "      </script>\n",
              "    </div>\n",
              "  </div>\n",
              "  "
            ]
          },
          "metadata": {},
          "execution_count": 58
        }
      ]
    },
    {
      "cell_type": "code",
      "source": [
        "#red_book\n",
        "import csv\n",
        "\n",
        "# 開啟 CSV 文件，準備寫入\n",
        "with open(\"wordsblue.csv\", \"w\", newline=\"\") as csv_file:\n",
        "    # 創建 CSV 寫入器\n",
        "    writer = csv.writer(csv_file)\n",
        "\n",
        "    # 寫入結果\n",
        "    writer.writerow(words)"
      ],
      "metadata": {
        "id": "Vhrg_SbgtTe-"
      },
      "execution_count": null,
      "outputs": []
    },
    {
      "cell_type": "code",
      "source": [
        "#blue_book\n",
        "# # 創建一個DataFrame\n",
        "# df1 = pd.DataFrame(df)\n",
        "\n",
        "# 將DataFrame寫入Excel檔案\n",
        "df.to_excel('output.xlsx', header=['word','page','vocab_spe','is_blank'])"
      ],
      "metadata": {
        "colab": {
          "base_uri": "https://localhost:8080/",
          "height": 361
        },
        "id": "eVMyc611JGjj",
        "outputId": "6abe3c77-abc6-42e1-b49d-318d8bdc0f35"
      },
      "execution_count": null,
      "outputs": [
        {
          "output_type": "error",
          "ename": "IllegalCharacterError",
          "evalue": "ignored",
          "traceback": [
            "\u001b[0;31m---------------------------------------------------------------------------\u001b[0m",
            "\u001b[0;31mIllegalCharacterError\u001b[0m                     Traceback (most recent call last)",
            "\u001b[0;32m<ipython-input-60-516d7d044135>\u001b[0m in \u001b[0;36m<module>\u001b[0;34m\u001b[0m\n\u001b[1;32m      4\u001b[0m \u001b[0;34m\u001b[0m\u001b[0m\n\u001b[1;32m      5\u001b[0m \u001b[0;31m# 將DataFrame寫入Excel檔案\u001b[0m\u001b[0;34m\u001b[0m\u001b[0;34m\u001b[0m\u001b[0;34m\u001b[0m\u001b[0m\n\u001b[0;32m----> 6\u001b[0;31m \u001b[0mdf\u001b[0m\u001b[0;34m.\u001b[0m\u001b[0mto_excel\u001b[0m\u001b[0;34m(\u001b[0m\u001b[0;34m'output.xlsx'\u001b[0m\u001b[0;34m,\u001b[0m \u001b[0mheader\u001b[0m\u001b[0;34m=\u001b[0m\u001b[0;34m[\u001b[0m\u001b[0;34m'word'\u001b[0m\u001b[0;34m,\u001b[0m\u001b[0;34m'page'\u001b[0m\u001b[0;34m,\u001b[0m\u001b[0;34m'vocab_spe'\u001b[0m\u001b[0;34m,\u001b[0m\u001b[0;34m'is_blank'\u001b[0m\u001b[0;34m]\u001b[0m\u001b[0;34m)\u001b[0m\u001b[0;34m\u001b[0m\u001b[0;34m\u001b[0m\u001b[0m\n\u001b[0m",
            "\u001b[0;32m/usr/local/lib/python3.8/dist-packages/pandas/core/generic.py\u001b[0m in \u001b[0;36mto_excel\u001b[0;34m(self, excel_writer, sheet_name, na_rep, float_format, columns, header, index, index_label, startrow, startcol, engine, merge_cells, encoding, inf_rep, verbose, freeze_panes, storage_options)\u001b[0m\n\u001b[1;32m   2282\u001b[0m             \u001b[0minf_rep\u001b[0m\u001b[0;34m=\u001b[0m\u001b[0minf_rep\u001b[0m\u001b[0;34m,\u001b[0m\u001b[0;34m\u001b[0m\u001b[0;34m\u001b[0m\u001b[0m\n\u001b[1;32m   2283\u001b[0m         )\n\u001b[0;32m-> 2284\u001b[0;31m         formatter.write(\n\u001b[0m\u001b[1;32m   2285\u001b[0m             \u001b[0mexcel_writer\u001b[0m\u001b[0;34m,\u001b[0m\u001b[0;34m\u001b[0m\u001b[0;34m\u001b[0m\u001b[0m\n\u001b[1;32m   2286\u001b[0m             \u001b[0msheet_name\u001b[0m\u001b[0;34m=\u001b[0m\u001b[0msheet_name\u001b[0m\u001b[0;34m,\u001b[0m\u001b[0;34m\u001b[0m\u001b[0;34m\u001b[0m\u001b[0m\n",
            "\u001b[0;32m/usr/local/lib/python3.8/dist-packages/pandas/io/formats/excel.py\u001b[0m in \u001b[0;36mwrite\u001b[0;34m(self, writer, sheet_name, startrow, startcol, freeze_panes, engine, storage_options)\u001b[0m\n\u001b[1;32m    838\u001b[0m \u001b[0;34m\u001b[0m\u001b[0m\n\u001b[1;32m    839\u001b[0m         \u001b[0;32mtry\u001b[0m\u001b[0;34m:\u001b[0m\u001b[0;34m\u001b[0m\u001b[0;34m\u001b[0m\u001b[0m\n\u001b[0;32m--> 840\u001b[0;31m             writer.write_cells(\n\u001b[0m\u001b[1;32m    841\u001b[0m                 \u001b[0mformatted_cells\u001b[0m\u001b[0;34m,\u001b[0m\u001b[0;34m\u001b[0m\u001b[0;34m\u001b[0m\u001b[0m\n\u001b[1;32m    842\u001b[0m                 \u001b[0msheet_name\u001b[0m\u001b[0;34m,\u001b[0m\u001b[0;34m\u001b[0m\u001b[0;34m\u001b[0m\u001b[0m\n",
            "\u001b[0;32m/usr/local/lib/python3.8/dist-packages/pandas/io/excel/_openpyxl.py\u001b[0m in \u001b[0;36mwrite_cells\u001b[0;34m(self, cells, sheet_name, startrow, startcol, freeze_panes)\u001b[0m\n\u001b[1;32m    459\u001b[0m                 \u001b[0mrow\u001b[0m\u001b[0;34m=\u001b[0m\u001b[0mstartrow\u001b[0m \u001b[0;34m+\u001b[0m \u001b[0mcell\u001b[0m\u001b[0;34m.\u001b[0m\u001b[0mrow\u001b[0m \u001b[0;34m+\u001b[0m \u001b[0;36m1\u001b[0m\u001b[0;34m,\u001b[0m \u001b[0mcolumn\u001b[0m\u001b[0;34m=\u001b[0m\u001b[0mstartcol\u001b[0m \u001b[0;34m+\u001b[0m \u001b[0mcell\u001b[0m\u001b[0;34m.\u001b[0m\u001b[0mcol\u001b[0m \u001b[0;34m+\u001b[0m \u001b[0;36m1\u001b[0m\u001b[0;34m\u001b[0m\u001b[0;34m\u001b[0m\u001b[0m\n\u001b[1;32m    460\u001b[0m             )\n\u001b[0;32m--> 461\u001b[0;31m             \u001b[0mxcell\u001b[0m\u001b[0;34m.\u001b[0m\u001b[0mvalue\u001b[0m\u001b[0;34m,\u001b[0m \u001b[0mfmt\u001b[0m \u001b[0;34m=\u001b[0m \u001b[0mself\u001b[0m\u001b[0;34m.\u001b[0m\u001b[0m_value_with_fmt\u001b[0m\u001b[0;34m(\u001b[0m\u001b[0mcell\u001b[0m\u001b[0;34m.\u001b[0m\u001b[0mval\u001b[0m\u001b[0;34m)\u001b[0m\u001b[0;34m\u001b[0m\u001b[0;34m\u001b[0m\u001b[0m\n\u001b[0m\u001b[1;32m    462\u001b[0m             \u001b[0;32mif\u001b[0m \u001b[0mfmt\u001b[0m\u001b[0;34m:\u001b[0m\u001b[0;34m\u001b[0m\u001b[0;34m\u001b[0m\u001b[0m\n\u001b[1;32m    463\u001b[0m                 \u001b[0mxcell\u001b[0m\u001b[0;34m.\u001b[0m\u001b[0mnumber_format\u001b[0m \u001b[0;34m=\u001b[0m \u001b[0mfmt\u001b[0m\u001b[0;34m\u001b[0m\u001b[0;34m\u001b[0m\u001b[0m\n",
            "\u001b[0;32m/usr/local/lib/python3.8/dist-packages/openpyxl/cell/cell.py\u001b[0m in \u001b[0;36mvalue\u001b[0;34m(self, value)\u001b[0m\n\u001b[1;32m    213\u001b[0m     \u001b[0;32mdef\u001b[0m \u001b[0mvalue\u001b[0m\u001b[0;34m(\u001b[0m\u001b[0mself\u001b[0m\u001b[0;34m,\u001b[0m \u001b[0mvalue\u001b[0m\u001b[0;34m)\u001b[0m\u001b[0;34m:\u001b[0m\u001b[0;34m\u001b[0m\u001b[0;34m\u001b[0m\u001b[0m\n\u001b[1;32m    214\u001b[0m         \u001b[0;34m\"\"\"Set the value and infer type and display options.\"\"\"\u001b[0m\u001b[0;34m\u001b[0m\u001b[0;34m\u001b[0m\u001b[0m\n\u001b[0;32m--> 215\u001b[0;31m         \u001b[0mself\u001b[0m\u001b[0;34m.\u001b[0m\u001b[0m_bind_value\u001b[0m\u001b[0;34m(\u001b[0m\u001b[0mvalue\u001b[0m\u001b[0;34m)\u001b[0m\u001b[0;34m\u001b[0m\u001b[0;34m\u001b[0m\u001b[0m\n\u001b[0m\u001b[1;32m    216\u001b[0m \u001b[0;34m\u001b[0m\u001b[0m\n\u001b[1;32m    217\u001b[0m     \u001b[0;34m@\u001b[0m\u001b[0mproperty\u001b[0m\u001b[0;34m\u001b[0m\u001b[0;34m\u001b[0m\u001b[0m\n",
            "\u001b[0;32m/usr/local/lib/python3.8/dist-packages/openpyxl/cell/cell.py\u001b[0m in \u001b[0;36m_bind_value\u001b[0;34m(self, value)\u001b[0m\n\u001b[1;32m    192\u001b[0m \u001b[0;34m\u001b[0m\u001b[0m\n\u001b[1;32m    193\u001b[0m         \u001b[0;32melif\u001b[0m \u001b[0mdt\u001b[0m \u001b[0;34m==\u001b[0m \u001b[0;34m\"s\"\u001b[0m\u001b[0;34m:\u001b[0m\u001b[0;34m\u001b[0m\u001b[0;34m\u001b[0m\u001b[0m\n\u001b[0;32m--> 194\u001b[0;31m             \u001b[0mvalue\u001b[0m \u001b[0;34m=\u001b[0m \u001b[0mself\u001b[0m\u001b[0;34m.\u001b[0m\u001b[0mcheck_string\u001b[0m\u001b[0;34m(\u001b[0m\u001b[0mvalue\u001b[0m\u001b[0;34m)\u001b[0m\u001b[0;34m\u001b[0m\u001b[0;34m\u001b[0m\u001b[0m\n\u001b[0m\u001b[1;32m    195\u001b[0m             \u001b[0;32mif\u001b[0m \u001b[0mlen\u001b[0m\u001b[0;34m(\u001b[0m\u001b[0mvalue\u001b[0m\u001b[0;34m)\u001b[0m \u001b[0;34m>\u001b[0m \u001b[0;36m1\u001b[0m \u001b[0;32mand\u001b[0m \u001b[0mvalue\u001b[0m\u001b[0;34m.\u001b[0m\u001b[0mstartswith\u001b[0m\u001b[0;34m(\u001b[0m\u001b[0;34m\"=\"\u001b[0m\u001b[0;34m)\u001b[0m\u001b[0;34m:\u001b[0m\u001b[0;34m\u001b[0m\u001b[0;34m\u001b[0m\u001b[0m\n\u001b[1;32m    196\u001b[0m                 \u001b[0mself\u001b[0m\u001b[0;34m.\u001b[0m\u001b[0mdata_type\u001b[0m \u001b[0;34m=\u001b[0m \u001b[0;34m'f'\u001b[0m\u001b[0;34m\u001b[0m\u001b[0;34m\u001b[0m\u001b[0m\n",
            "\u001b[0;32m/usr/local/lib/python3.8/dist-packages/openpyxl/cell/cell.py\u001b[0m in \u001b[0;36mcheck_string\u001b[0;34m(self, value)\u001b[0m\n\u001b[1;32m    160\u001b[0m         \u001b[0mvalue\u001b[0m \u001b[0;34m=\u001b[0m \u001b[0mvalue\u001b[0m\u001b[0;34m[\u001b[0m\u001b[0;34m:\u001b[0m\u001b[0;36m32767\u001b[0m\u001b[0;34m]\u001b[0m\u001b[0;34m\u001b[0m\u001b[0;34m\u001b[0m\u001b[0m\n\u001b[1;32m    161\u001b[0m         \u001b[0;32mif\u001b[0m \u001b[0mnext\u001b[0m\u001b[0;34m(\u001b[0m\u001b[0mILLEGAL_CHARACTERS_RE\u001b[0m\u001b[0;34m.\u001b[0m\u001b[0mfinditer\u001b[0m\u001b[0;34m(\u001b[0m\u001b[0mvalue\u001b[0m\u001b[0;34m)\u001b[0m\u001b[0;34m,\u001b[0m \u001b[0;32mNone\u001b[0m\u001b[0;34m)\u001b[0m\u001b[0;34m:\u001b[0m\u001b[0;34m\u001b[0m\u001b[0;34m\u001b[0m\u001b[0m\n\u001b[0;32m--> 162\u001b[0;31m             \u001b[0;32mraise\u001b[0m \u001b[0mIllegalCharacterError\u001b[0m\u001b[0;34m\u001b[0m\u001b[0;34m\u001b[0m\u001b[0m\n\u001b[0m\u001b[1;32m    163\u001b[0m         \u001b[0;32mreturn\u001b[0m \u001b[0mvalue\u001b[0m\u001b[0;34m\u001b[0m\u001b[0;34m\u001b[0m\u001b[0m\n\u001b[1;32m    164\u001b[0m \u001b[0;34m\u001b[0m\u001b[0m\n",
            "\u001b[0;31mIllegalCharacterError\u001b[0m: "
          ]
        }
      ]
    },
    {
      "cell_type": "code",
      "source": [
        "import os\n",
        "os.getcwd()"
      ],
      "metadata": {
        "colab": {
          "base_uri": "https://localhost:8080/",
          "height": 36
        },
        "id": "MGy3zR9oK0sM",
        "outputId": "8b034a99-f4af-420a-fd80-cc312f7db784"
      },
      "execution_count": null,
      "outputs": [
        {
          "output_type": "execute_result",
          "data": {
            "text/plain": [
              "'/content/drive/MyDrive/colab_cloud/pdf'"
            ],
            "application/vnd.google.colaboratory.intrinsic+json": {
              "type": "string"
            }
          },
          "metadata": {},
          "execution_count": 34
        }
      ]
    },
    {
      "cell_type": "markdown",
      "source": [
        "* PyPDF2取出文本"
      ],
      "metadata": {
        "id": "nHpIntGoF5eA"
      }
    },
    {
      "cell_type": "code",
      "source": [
        "import io\n",
        "from PyPDF2 import PdfFileReader, PdfFileWriter"
      ],
      "metadata": {
        "id": "2hIN-WzwLq_0"
      },
      "execution_count": null,
      "outputs": []
    },
    {
      "cell_type": "code",
      "source": [
        "path = './merge_pdf'\n",
        "pdf_reader = PdfFileReader(path + '/merge.pdf') #讀取路徑中之檔案\n",
        "\n",
        "for page in range(pdf_reader.getNumPages()):\n",
        "    # 遍歷到每一頁挨個生成寫入器\n",
        "    pdf_writer = PdfFileWriter()\n",
        "    pdf_writer.addPage(pdf_reader.getPage(page))\n",
        "    # 寫入器被新增一頁後立即輸出產生pdf\n",
        "    with open(path + '/merge_py2-{}.pdf'.format(page + 1), 'wb') as out: #拆分出每一頁"
      ],
      "metadata": {
        "colab": {
          "base_uri": "https://localhost:8080/",
          "height": 132
        },
        "id": "UksVpFcDM7qS",
        "outputId": "2e9b65d7-c3f7-4b30-dbe4-91b530898487"
      },
      "execution_count": null,
      "outputs": [
        {
          "output_type": "error",
          "ename": "SyntaxError",
          "evalue": "ignored",
          "traceback": [
            "\u001b[0;36m  File \u001b[0;32m\"<ipython-input-22-d070e4a15aa7>\"\u001b[0;36m, line \u001b[0;32m9\u001b[0m\n\u001b[0;31m    with open(path + '/merge_py2-{}.pdf'.format(page + 1), 'wb') as out: #拆分出每一頁\u001b[0m\n\u001b[0m                                                                                ^\u001b[0m\n\u001b[0;31mSyntaxError\u001b[0m\u001b[0;31m:\u001b[0m unexpected EOF while parsing\n"
          ]
        }
      ]
    },
    {
      "cell_type": "code",
      "source": [
        "import pypdf2"
      ],
      "metadata": {
        "colab": {
          "base_uri": "https://localhost:8080/",
          "height": 306
        },
        "id": "GwTWK0eEOh1H",
        "outputId": "9194c771-677e-4444-a5bc-84b4138c0e0d"
      },
      "execution_count": null,
      "outputs": [
        {
          "output_type": "error",
          "ename": "ModuleNotFoundError",
          "evalue": "ignored",
          "traceback": [
            "\u001b[0;31m---------------------------------------------------------------------------\u001b[0m",
            "\u001b[0;31mModuleNotFoundError\u001b[0m                       Traceback (most recent call last)",
            "\u001b[0;32m<ipython-input-19-9c18244d5a44>\u001b[0m in \u001b[0;36m<module>\u001b[0;34m\u001b[0m\n\u001b[0;32m----> 1\u001b[0;31m \u001b[0;32mimport\u001b[0m \u001b[0mpypdf2\u001b[0m\u001b[0;34m\u001b[0m\u001b[0;34m\u001b[0m\u001b[0m\n\u001b[0m",
            "\u001b[0;31mModuleNotFoundError\u001b[0m: No module named 'pypdf2'",
            "",
            "\u001b[0;31m---------------------------------------------------------------------------\u001b[0;32m\nNOTE: If your import is failing due to a missing package, you can\nmanually install dependencies using either !pip or !apt.\n\nTo view examples of installing some common dependencies, click the\n\"Open Examples\" button below.\n\u001b[0;31m---------------------------------------------------------------------------\u001b[0m\n"
          ],
          "errorDetails": {
            "actions": [
              {
                "action": "open_url",
                "actionText": "Open Examples",
                "url": "/notebooks/snippets/importing_libraries.ipynb"
              }
            ]
          }
        }
      ]
    },
    {
      "cell_type": "code",
      "source": [
        "# Open the PDF file in read-binary mode\n",
        "# Create a PDF object\n",
        "pdf_reader = PdfFileReader('./PaddleOCR_1.pdf')\n",
        "\n",
        "# Create a PDF file to write the text to\n",
        "output_pdf = PdfFileWriter()\n",
        "\n",
        "# Iterate over every page\n",
        "for page in range(pdf_reader.getNumPages()):\n",
        "    # Extract the text from the page\n",
        "    text = pdf_reader.getPage(page).extractText()\n",
        "\n",
        "    # Create a new page in the output PDF\n",
        "    output_page = pdf_reader.PageObject.createBlankPage()\n",
        "\n",
        "    # Add the text to the page\n",
        "    output_page.update({\n",
        "        pdf_reader.NameObject('/Contents'): pdf_reader.TextStringObject(text)\n",
        "    })\n",
        "\n",
        "    # Add the page to the output PDF\n",
        "    output_pdf.addPage(output_page)\n",
        "\n",
        "# Write the output PDF to a file\n",
        "with open('./PaddleOCR_1_PyPDF2.pdf', 'wb') as output_file:\n",
        "    output_pdf.write(output_file)"
      ],
      "metadata": {
        "colab": {
          "base_uri": "https://localhost:8080/",
          "height": 382
        },
        "id": "3KeXN0UhMgJc",
        "outputId": "84f2d432-2561-45d3-a8cf-bb0c34f2afb9"
      },
      "execution_count": null,
      "outputs": [
        {
          "output_type": "error",
          "ename": "DeprecationError",
          "evalue": "ignored",
          "traceback": [
            "\u001b[0;31m---------------------------------------------------------------------------\u001b[0m",
            "\u001b[0;31mDeprecationError\u001b[0m                          Traceback (most recent call last)",
            "\u001b[0;32m<ipython-input-24-e8cbdb634e79>\u001b[0m in \u001b[0;36m<module>\u001b[0;34m\u001b[0m\n\u001b[1;32m      1\u001b[0m \u001b[0;31m# Open the PDF file in read-binary mode\u001b[0m\u001b[0;34m\u001b[0m\u001b[0;34m\u001b[0m\u001b[0;34m\u001b[0m\u001b[0m\n\u001b[1;32m      2\u001b[0m \u001b[0;31m# Create a PDF object\u001b[0m\u001b[0;34m\u001b[0m\u001b[0;34m\u001b[0m\u001b[0;34m\u001b[0m\u001b[0m\n\u001b[0;32m----> 3\u001b[0;31m \u001b[0mpdf_reader\u001b[0m \u001b[0;34m=\u001b[0m \u001b[0mPdfFileReader\u001b[0m\u001b[0;34m(\u001b[0m\u001b[0;34m'./PaddleOCR_1.pdf'\u001b[0m\u001b[0;34m)\u001b[0m\u001b[0;34m\u001b[0m\u001b[0;34m\u001b[0m\u001b[0m\n\u001b[0m\u001b[1;32m      4\u001b[0m \u001b[0;34m\u001b[0m\u001b[0m\n\u001b[1;32m      5\u001b[0m \u001b[0;31m# Create a PDF file to write the text to\u001b[0m\u001b[0;34m\u001b[0m\u001b[0;34m\u001b[0m\u001b[0;34m\u001b[0m\u001b[0m\n",
            "\u001b[0;32m/usr/local/lib/python3.8/dist-packages/PyPDF2/_reader.py\u001b[0m in \u001b[0;36m__init__\u001b[0;34m(self, *args, **kwargs)\u001b[0m\n\u001b[1;32m   1972\u001b[0m \u001b[0;32mclass\u001b[0m \u001b[0mPdfFileReader\u001b[0m\u001b[0;34m(\u001b[0m\u001b[0mPdfReader\u001b[0m\u001b[0;34m)\u001b[0m\u001b[0;34m:\u001b[0m  \u001b[0;31m# pragma: no cover\u001b[0m\u001b[0;34m\u001b[0m\u001b[0;34m\u001b[0m\u001b[0m\n\u001b[1;32m   1973\u001b[0m     \u001b[0;32mdef\u001b[0m \u001b[0m__init__\u001b[0m\u001b[0;34m(\u001b[0m\u001b[0mself\u001b[0m\u001b[0;34m,\u001b[0m \u001b[0;34m*\u001b[0m\u001b[0margs\u001b[0m\u001b[0;34m:\u001b[0m \u001b[0mAny\u001b[0m\u001b[0;34m,\u001b[0m \u001b[0;34m**\u001b[0m\u001b[0mkwargs\u001b[0m\u001b[0;34m:\u001b[0m \u001b[0mAny\u001b[0m\u001b[0;34m)\u001b[0m \u001b[0;34m->\u001b[0m \u001b[0;32mNone\u001b[0m\u001b[0;34m:\u001b[0m\u001b[0;34m\u001b[0m\u001b[0;34m\u001b[0m\u001b[0m\n\u001b[0;32m-> 1974\u001b[0;31m         \u001b[0mdeprecation_with_replacement\u001b[0m\u001b[0;34m(\u001b[0m\u001b[0;34m\"PdfFileReader\"\u001b[0m\u001b[0;34m,\u001b[0m \u001b[0;34m\"PdfReader\"\u001b[0m\u001b[0;34m,\u001b[0m \u001b[0;34m\"3.0.0\"\u001b[0m\u001b[0;34m)\u001b[0m\u001b[0;34m\u001b[0m\u001b[0;34m\u001b[0m\u001b[0m\n\u001b[0m\u001b[1;32m   1975\u001b[0m         \u001b[0;32mif\u001b[0m \u001b[0;34m\"strict\"\u001b[0m \u001b[0;32mnot\u001b[0m \u001b[0;32min\u001b[0m \u001b[0mkwargs\u001b[0m \u001b[0;32mand\u001b[0m \u001b[0mlen\u001b[0m\u001b[0;34m(\u001b[0m\u001b[0margs\u001b[0m\u001b[0;34m)\u001b[0m \u001b[0;34m<\u001b[0m \u001b[0;36m2\u001b[0m\u001b[0;34m:\u001b[0m\u001b[0;34m\u001b[0m\u001b[0;34m\u001b[0m\u001b[0m\n\u001b[1;32m   1976\u001b[0m             \u001b[0mkwargs\u001b[0m\u001b[0;34m[\u001b[0m\u001b[0;34m\"strict\"\u001b[0m\u001b[0;34m]\u001b[0m \u001b[0;34m=\u001b[0m \u001b[0;32mTrue\u001b[0m  \u001b[0;31m# maintain the default\u001b[0m\u001b[0;34m\u001b[0m\u001b[0;34m\u001b[0m\u001b[0m\n",
            "\u001b[0;32m/usr/local/lib/python3.8/dist-packages/PyPDF2/_utils.py\u001b[0m in \u001b[0;36mdeprecation_with_replacement\u001b[0;34m(old_name, new_name, removed_in)\u001b[0m\n\u001b[1;32m    367\u001b[0m     \u001b[0mRaise\u001b[0m \u001b[0man\u001b[0m \u001b[0mexception\u001b[0m \u001b[0mthat\u001b[0m \u001b[0ma\u001b[0m \u001b[0mfeature\u001b[0m \u001b[0mwas\u001b[0m \u001b[0malready\u001b[0m \u001b[0mremoved\u001b[0m\u001b[0;34m,\u001b[0m \u001b[0mbut\u001b[0m \u001b[0mhas\u001b[0m \u001b[0ma\u001b[0m \u001b[0mreplacement\u001b[0m\u001b[0;34m.\u001b[0m\u001b[0;34m\u001b[0m\u001b[0;34m\u001b[0m\u001b[0m\n\u001b[1;32m    368\u001b[0m     \"\"\"\n\u001b[0;32m--> 369\u001b[0;31m     \u001b[0mdeprecation\u001b[0m\u001b[0;34m(\u001b[0m\u001b[0mDEPR_MSG_HAPPENED\u001b[0m\u001b[0;34m.\u001b[0m\u001b[0mformat\u001b[0m\u001b[0;34m(\u001b[0m\u001b[0mold_name\u001b[0m\u001b[0;34m,\u001b[0m \u001b[0mremoved_in\u001b[0m\u001b[0;34m,\u001b[0m \u001b[0mnew_name\u001b[0m\u001b[0;34m)\u001b[0m\u001b[0;34m)\u001b[0m\u001b[0;34m\u001b[0m\u001b[0;34m\u001b[0m\u001b[0m\n\u001b[0m\u001b[1;32m    370\u001b[0m \u001b[0;34m\u001b[0m\u001b[0m\n\u001b[1;32m    371\u001b[0m \u001b[0;34m\u001b[0m\u001b[0m\n",
            "\u001b[0;32m/usr/local/lib/python3.8/dist-packages/PyPDF2/_utils.py\u001b[0m in \u001b[0;36mdeprecation\u001b[0;34m(msg)\u001b[0m\n\u001b[1;32m    349\u001b[0m \u001b[0;34m\u001b[0m\u001b[0m\n\u001b[1;32m    350\u001b[0m \u001b[0;32mdef\u001b[0m \u001b[0mdeprecation\u001b[0m\u001b[0;34m(\u001b[0m\u001b[0mmsg\u001b[0m\u001b[0;34m:\u001b[0m \u001b[0mstr\u001b[0m\u001b[0;34m)\u001b[0m \u001b[0;34m->\u001b[0m \u001b[0;32mNone\u001b[0m\u001b[0;34m:\u001b[0m\u001b[0;34m\u001b[0m\u001b[0;34m\u001b[0m\u001b[0m\n\u001b[0;32m--> 351\u001b[0;31m     \u001b[0;32mraise\u001b[0m \u001b[0mDeprecationError\u001b[0m\u001b[0;34m(\u001b[0m\u001b[0mmsg\u001b[0m\u001b[0;34m)\u001b[0m\u001b[0;34m\u001b[0m\u001b[0;34m\u001b[0m\u001b[0m\n\u001b[0m\u001b[1;32m    352\u001b[0m \u001b[0;34m\u001b[0m\u001b[0m\n\u001b[1;32m    353\u001b[0m \u001b[0;34m\u001b[0m\u001b[0m\n",
            "\u001b[0;31mDeprecationError\u001b[0m: PdfFileReader is deprecated and was removed in PyPDF2 3.0.0. Use PdfReader instead."
          ]
        }
      ]
    },
    {
      "cell_type": "markdown",
      "source": [
        "* openAPI方法"
      ],
      "metadata": {
        "id": "W_qhdpG543hm"
      }
    },
    {
      "cell_type": "code",
      "source": [
        "#指定google雲端路徑，方便儲存與下載檔案\n",
        "import os\n",
        "os.chdir('/content/drive/MyDrive/colab_cloud/pdf/split_pdf')"
      ],
      "metadata": {
        "id": "dm-iGCrv5elU"
      },
      "execution_count": null,
      "outputs": []
    },
    {
      "cell_type": "code",
      "source": [
        "# 導入pdfminer庫\n",
        "from pdfminer.pdfinterp import PDFResourceManager, PDFPageInterpreter\n",
        "from pdfminer.converter import TextConverter\n",
        "from pdfminer.layout import LAParams\n",
        "from pdfminer.pdfpage import PDFPage\n",
        "from io import StringIO\n",
        "# 導入pandas庫\n",
        "import pandas as pd"
      ],
      "metadata": {
        "id": "aVbziVAg4_Q6"
      },
      "execution_count": null,
      "outputs": []
    },
    {
      "cell_type": "code",
      "source": [
        "# 建立PDF資源管理器\n",
        "rsrcmgr = PDFResourceManager()\n",
        "retstr = StringIO()\n",
        "laparams = LAParams()\n",
        "# 建立文本轉換器\n",
        "device = TextConverter(rsrcmgr, retstr, laparams=laparams)\n",
        "# 打開PDF文件\n",
        "with open('./4000_vocabulary.pdf', 'rb') as fp:\n",
        "  interpreter = PDFPageInterpreter(rsrcmgr, device)\n",
        "  # 對PDF中的每一頁進行解析\n",
        "  for page in PDFPage.get_pages(fp):\n",
        "    interpreter.process_page(page)\n",
        "    # 關閉資源管理器\n",
        "    device.close()"
      ],
      "metadata": {
        "id": "F0Fwla105RkR"
      },
      "execution_count": null,
      "outputs": []
    },
    {
      "cell_type": "code",
      "source": [
        "# 將字符串轉換為文本\n",
        "text = retstr.getvalue()\n",
        "retstr.close()"
      ],
      "metadata": {
        "id": "Ikly8Mi-6Qi2"
      },
      "execution_count": null,
      "outputs": []
    },
    {
      "cell_type": "code",
      "source": [
        "text"
      ],
      "metadata": {
        "colab": {
          "base_uri": "https://localhost:8080/",
          "height": 192
        },
        "id": "xNFqYtcl6TBt",
        "outputId": "ae2cfd2d-a1f4-4eed-fb59-96da231b4aa4"
      },
      "execution_count": null,
      "outputs": [
        {
          "output_type": "execute_result",
          "data": {
            "text/plain": [
              "'Vooabu0ary COO\\n\\nthe\\n\\nYcur\\n\\nAim\\n\\nGet on\\n\\nFollow your\\nDREAMS.\\n\\nORKING\\nePerything\\n\\n    Vocabulary 4000  \\x0cflea [fli] n. [C]\\n\\nga\\n\\nv. [C]\\n\\ncricket\\npest\\n[put]\\ncaterpillar\\n[haw]\\nhive\\nbuzz\\n[bAZ] vi.\\nsting [st10] Vt. FJ \\'\\n\\'\\nsparrow Cspæro] n. [C]\\nbeak &ik]\\nn. [C)\\nchirp [tf3--p] vi.\\nn.\\nfeather\\n\\nn. [C]\\n\\n\\'\\n\\n[Sill\\n\\nn. [CU)\\n\\n(labstæ]\\n\\nlobster\\nseal\\n; n.\\nkangaroo [,kænga-ru] n. [C]\\ncattle\\n\\nn.\\n\\nEfi\\n\\nn. [U)\\n[tlA0k] n. [C]\\n\\nivory Cavan]\\ntrunk\\nhorn [horn] n.\\npaw [p]\\nn. [C]\\n[hju-mænatl]\\nhumanity\\nmankind\\nLmæn&kamd]\\n\\n(#fi)\\n\\nbeast\\n\\nspecies\\nbeing\\n\\nn.\\n\\nn.\\nn [C]\\n\\n,\\n\\n,\\n\\nn. CU]\\nn.\\n\\n\\'\\n\\n: womankind\\n\\nn.\\n\\n\\'\\n\\nexistence\\ninstinct Cmst10kt] n. [CU)\\nfossil Cfas!] n. [C]\\nbait\\n[bet] n. u\\ntame [tem] Vt\\nhatch\\nbreed\\n\\n[hætf]\\n[brid]\\n\\n; adj.\\n( = )\\n\\nvi.\\n\\n; n. [C]\\n\\n1  動物 \\uf066\\uf06c\\uf065\\uf061\\uf020\\uf05b\\uf066\\uf06c\\uf069\\uf05d\\uf020n. [C] 跳蚤\\uf020\\uf063\\uf072\\uf069\\uf063\\uf06b\\uf065\\uf074\\uf020\\uf05b\\uf060\\uf06b\\uf072\\uf049\\uf06b\\uf049\\uf074\\uf05d\\uf020n. [C] 蟋蟀\\uf020\\uf070\\uf065\\uf073\\uf074\\uf020\\uf05b\\uf070\\uf045\\uf073\\uf074\\uf05d\\uf020n. [C] 害蟲，討厭鬼\\uf020\\uf063\\uf061\\uf074\\uf065\\uf072\\uf070\\uf069\\uf06c\\uf06c\\uf061\\uf072\\uf020\\uf05b\\uf060\\uf06b\\uf038\\uf074\\uf032\\uf026\\uf070\\uf049\\uf06c\\uf032\\uf05d\\uf020n. [C] 毛毛蟲\\uf020\\uf068\\uf069\\uf076\\uf065\\uf020\\uf05b\\uf068\\uf061\\uf049\\uf076\\uf05d\\uf020v. [C] 蜂巢\\uf020\\uf062\\uf075\\uf07a\\uf07a\\uf020\\uf05b\\uf062\\uf05e\\uf07a\\uf05d\\uf020vi. （蜜蜂）嗡嗡地飛，忙進忙出；n. 嗡嗡聲\\uf020\\uf073\\uf074\\uf069\\uf06e\\uf067\\uf020\\uf05b\\uf073\\uf074\\uf049\\uf039\\uf05d\\uf020vt. 剌，螫，叮\\uf020\\uf073\\uf070\\uf061\\uf072\\uf072\\uf06f\\uf077\\uf020\\uf05b\\uf060\\uf073\\uf070\\uf038\\uf072\\uf06f\\uf05d\\uf020n. [C] 麻雀\\uf020\\uf062\\uf065\\uf061\\uf06b\\uf020\\uf05b\\uf062\\uf069\\uf06b\\uf05d\\uf020n. [C] 鳥嘴\\uf020\\uf063\\uf068\\uf069\\uf072\\uf070\\uf020\\uf05b\\uf074\\uf053\\uf033\\uf070\\uf05d\\uf020vi. （鳥）啾啾叫\\uf020\\uf066\\uf065\\uf061\\uf074\\uf068\\uf065\\uf072\\uf020\\uf05b\\uf060\\uf066\\uf045\\uf044\\uf032\\uf05d n. [C] 羽毛\\uf020\\uf06c\\uf06f\\uf062\\uf073\\uf074\\uf065\\uf072\\uf020\\uf05b\\uf060\\uf06c\\uf041\\uf062\\uf073\\uf074\\uf032\\uf05d\\uf020n. [C/U] 龍蝦\\uf020\\uf073\\uf065\\uf061\\uf06c\\uf020\\uf05b\\uf073\\uf069\\uf06c\\uf05d\\uf020vt. 封上，封住；n. [C] 封條，海豹\\uf020\\uf06b\\uf061\\uf06e\\uf067\\uf061\\uf072\\uf06f\\uf06f\\uf020\\uf05b\\uf026\\uf06b\\uf038\\uf06e\\uf047\\uf031\\uf060\\uf072\\uf075\\uf05d\\uf020n. [C] 袋鼠\\uf020\\uf063\\uf061\\uf074\\uf074\\uf06c\\uf065\\uf020\\uf05b\\uf060\\uf06b\\uf038\\uf074\\uf04c\\uf05d\\uf020n. [U] 牛群（集合名詞）\\uf020\\uf069\\uf076\\uf06f\\uf072\\uf079\\uf020\\uf05b\\uf060\\uf061\\uf049\\uf076\\uf031\\uf072\\uf049\\uf05d\\uf020n. [U] 象牙\\uf020\\uf074\\uf072\\uf075\\uf06e\\uf06b\\uf020\\uf05b\\uf074\\uf072\\uf05e\\uf039\\uf06b\\uf05d\\uf020n. [C] 後車廂，象鼻，樹幹\\uf020\\uf068\\uf06f\\uf072\\uf06e\\uf020\\uf05b\\uf068\\uf04f\\uf072\\uf06e\\uf05d\\uf020n. [C]（動物的）角，號角，（汽車的）喇叭\\uf020\\uf070\\uf061\\uf077\\uf020\\uf05b\\uf070\\uf04f\\uf05d\\uf020n. [C] 爪子\\uf020\\uf068\\uf075\\uf06d\\uf061\\uf06e\\uf069\\uf074\\uf079\\uf020\\uf05b\\uf068\\uf06a\\uf075\\uf060\\uf06d\\uf038\\uf06e\\uf031\\uf074\\uf049\\uf05d\\uf020n. [U] 人類，人性\\uf020\\uf06d\\uf061\\uf06e\\uf06b\\uf069\\uf06e\\uf064\\uf020\\uf05b\\uf026\\uf06d\\uf038\\uf06e\\uf060\\uf06b\\uf061\\uf049\\uf06e\\uf064\\uf05d\\uf020n. [U] 人類（比較：womankind 女性）\\uf020\\uf062\\uf065\\uf061\\uf073\\uf074\\uf020\\uf05b\\uf062\\uf069\\uf073\\uf074\\uf05d\\uf020n. [C] 野獸\\uf020\\uf073\\uf070\\uf065\\uf063\\uf069\\uf065\\uf073\\uf020\\uf05b\\uf060\\uf073\\uf070\\uf069\\uf053\\uf069\\uf07a\\uf05d\\uf020n. [C] 物種（單複同形）\\uf020\\uf062\\uf065\\uf069\\uf06e\\uf067\\uf020\\uf05b\\uf060\\uf062\\uf069\\uf049\\uf039\\uf05d\\uf020n. [C] 生物，存在，生命\\uf020\\uf065\\uf078\\uf069\\uf073\\uf074\\uf065\\uf06e\\uf063\\uf065\\uf020\\uf05b\\uf049\\uf047\\uf060\\uf07a\\uf049\\uf073\\uf074\\uf031\\uf06e\\uf073\\uf05d\\uf020n. [U] 存在，生存\\uf020\\uf069\\uf06e\\uf073\\uf074\\uf069\\uf06e\\uf063\\uf074\\uf020\\uf05b\\uf060\\uf049\\uf06e\\uf073\\uf074\\uf049\\uf039\\uf06b\\uf074\\uf05d\\uf020n. [C/U] 本性，本能\\uf020\\uf066\\uf06f\\uf073\\uf073\\uf069\\uf06c\\uf020\\uf05b\\uf060\\uf066\\uf041\\uf073\\uf04c\\uf05d\\uf020n. [C] 化石\\uf020\\uf062\\uf061\\uf069\\uf074\\uf020\\uf05b\\uf062\\uf065\\uf074\\uf05d\\uf020n. [U] 餌（集合名詞）\\uf020\\uf074\\uf061\\uf06d\\uf065\\uf020\\uf05b\\uf074\\uf065\\uf06d\\uf05d\\uf020vt. 馴服；adj. 溫馴的\\uf020\\uf068\\uf061\\uf074\\uf063\\uf068\\uf020\\uf05b\\uf068\\uf038\\uf074\\uf053\\uf05d\\uf020vi. 孵（蛋）\\uf020\\uf062\\uf072\\uf065\\uf065\\uf064\\uf020\\uf05b\\uf062\\uf072\\uf069\\uf064\\uf05d\\uf020vt./vi. 繁殖；n. [C] 品種\\uf020 \\x0cn. [C]\\n\\n; vi.\\n\\n; vi.\\n\\n[bAd] n. [0\\n\\nberry C&bE11]n. [C]\\nbloom Cblum] n. / vi\\nmushroom\\nCmAfrum]\\ntulip [\\'tjulap]\\nn. [C]\\nbud\\npetal Cpet!] n. [C]\\nlawn\\nmow [mo]\\nstem [stem] n. [C]\\nbush CbUf] n. [C]\\njungle\\ntimber C&tlmb»] n. [U]\\ntrunk\\n\\n[tlA0k] n. [C]\\n\\n[Ion] n.\\n\\n(E)\\n\\nn. [CT)\\n\\nforehead Cfor,hEd]\\nfrown\\n\\n[fraun]\\n\\nvi. / n.\\n\\nn. [C)\\n\\n\\'\\n\\n\\'\\n\\ngaze [gez] vi.\\n\\nglimpse [glimps] n. [C] lvt\\nblink\\n\\nvision Cv13an] n.\\nvisual\\nlens\\n\\nt visual]\\n\\nn. [C)\\n\\nadj.\\n\\nbreath\\n[bree]\\nsneeze [sniz]\\n\\nspit\\n\\n[spit] Vt.\\n\\n2  植物 \\uf062\\uf065\\uf072\\uf072\\uf079\\uf020\\uf05b\\uf060\\uf062\\uf045\\uf072\\uf049\\uf05d\\uf020n. [C] 莓，果子\\uf020\\uf062\\uf06c\\uf06f\\uf06f\\uf06d\\uf020\\uf05b\\uf062\\uf06c\\uf075\\uf06d\\uf05d\\uf020n. / vi. 開花\\uf020\\uf06d\\uf075\\uf073\\uf068\\uf072\\uf06f\\uf06f\\uf06d\\uf020\\uf05b\\uf060\\uf06d\\uf05e\\uf053\\uf072\\uf075\\uf06d\\uf05d\\uf020n. [C] 洋菇；vi. 急速增加或發展\\uf020\\uf074\\uf075\\uf06c\\uf069\\uf070\\uf020\\uf05b\\uf060\\uf074\\uf06a\\uf075\\uf06c\\uf031\\uf070\\uf05d\\uf020n. [C] 鬱金香\\uf020\\uf062\\uf075\\uf064\\uf020\\uf05b\\uf062\\uf05e\\uf064\\uf05d\\uf020n. [C] 芽，花苞；vi. 發苞，結苞\\uf020\\uf070\\uf065\\uf074\\uf061\\uf06c\\uf020\\uf05b\\uf060\\uf070\\uf045\\uf074\\uf04c\\uf05d\\uf020n. [C] 花瓣\\uf020\\uf06c\\uf061\\uf077\\uf06e\\uf020\\uf05b\\uf06c\\uf04f\\uf06e\\uf05d\\uf020n. 草坪\\uf020\\uf06d\\uf06f\\uf077\\uf020\\uf05b\\uf06d\\uf06f\\uf05d\\uf020vt. 割（草）\\uf020\\uf073\\uf074\\uf065\\uf06d\\uf020\\uf05b\\uf073\\uf074\\uf045\\uf06d\\uf05d\\uf020n. [C] 莖；vi. 起因於；vt. 阻止\\uf020\\uf062\\uf075\\uf073\\uf068\\uf020\\uf05b\\uf062\\uf055\\uf053\\uf05d\\uf020n. [C] 灌木\\uf020\\uf06a\\uf075\\uf06e\\uf067\\uf06c\\uf065\\uf020\\uf05b\\uf060\\uf064\\uf05a\\uf05e\\uf039\\uf047\\uf04c\\uf05d\\uf020n. [C/U] 叢林\\uf020\\uf074\\uf069\\uf06d\\uf062\\uf065\\uf072\\uf020\\uf05b\\uf060\\uf074\\uf049\\uf06d\\uf062\\uf032\\uf05d\\uf020n. [U] 木材\\uf020\\uf074\\uf072\\uf075\\uf06e\\uf06b\\uf020\\uf05b\\uf074\\uf072\\uf05e\\uf039\\uf06b\\uf05d\\uf020n. [C] 後車廂，象鼻，樹幹\\uf020 身體 《額》 \\uf066\\uf06f\\uf072\\uf065\\uf068\\uf065\\uf061\\uf064\\uf020\\uf05b\\uf060\\uf066\\uf04f\\uf072\\uf026\\uf068\\uf045\\uf064\\uf05d\\uf020n. [C] 額頭\\uf020\\uf066\\uf072\\uf06f\\uf077\\uf06e\\uf020\\uf05b\\uf066\\uf072\\uf061\\uf035\\uf06e\\uf05d\\uf020vi. / n. 皺眉\\uf020《眼》 \\uf067\\uf061\\uf07a\\uf065\\uf020\\uf05b\\uf047\\uf065\\uf07a\\uf05d\\uf020vi. 凝視\\uf020\\uf073\\uf074\\uf061\\uf072\\uf065\\uf020\\uf05b\\uf073\\uf074\\uf045\\uf072\\uf05d\\uf020vi. 盯，凝視；n. [C] 凝視，注視\\uf020\\uf067\\uf06c\\uf069\\uf06d\\uf070\\uf073\\uf065\\uf020\\uf05b\\uf047\\uf06c\\uf049\\uf06d\\uf070\\uf073\\uf05d\\uf020n. [C] / vt. 瞥見\\uf020\\uf062\\uf06c\\uf069\\uf06e\\uf06b\\uf020\\uf05b\\uf062\\uf06c\\uf049\\uf039\\uf06b\\uf05d\\uf020vi. 眨眼，閃爍；vt. 眨；n. [C] 眨眼\\uf020\\uf076\\uf069\\uf073\\uf069\\uf06f\\uf06e\\uf020\\uf05b\\uf060\\uf076\\uf049\\uf05a\\uf031\\uf06e\\uf05d\\uf020n. [U] 視力，視線, 眼光，遠見\\uf020\\uf076\\uf069\\uf073\\uf075\\uf061\\uf06c\\uf020\\uf05b\\uf060\\uf076\\uf049\\uf05a\\uf035\\uf031\\uf06c\\uf05d\\uf020adj. 視覺的\\uf020\\uf06c\\uf065\\uf06e\\uf073\\uf020\\uf05b\\uf06c\\uf045\\uf06e\\uf07a\\uf05d\\uf020n. [C] 鏡片（複數為lenses）\\uf020《鼻》 \\uf062\\uf072\\uf065\\uf061\\uf074\\uf068\\uf020\\uf05b\\uf062\\uf072\\uf045\\uf054\\uf05d\\uf020n. [U] 氣息，呼吸\\uf020\\uf073\\uf06e\\uf065\\uf065\\uf07a\\uf065\\uf020\\uf05b\\uf073\\uf06e\\uf069\\uf07a\\uf05d\\uf020vi. 打噴嚏\\uf020《口》 \\uf073\\uf070\\uf069\\uf074\\uf020\\uf05b\\uf073\\uf070\\uf049\\uf074\\uf05d\\uf020vt. 吐掉，吐出；vi. 吐痰\\uf020\\x0cn.\\nvi.\\n\\nthirst\\nyawn [fin]\\ngrind [gramd] vt./vi\\ngum [gAm] n. [U]\\nchoke\\nvi.&t.\\n\\n[tfok]\\n\\ndeafen CdEfan] Vt.\\n\\n;\\n\\n[C]\\n\\n,\\n\\n\\'\\n\\n\\'\\n\\nn.\\n\\n[tfik]\\n[flAD vi/vt./n.[C]\\n\\ncheek\\nflush\\npale [pel] adj.\\nfacial Cfefal]\\n\\n\\'\\n\\n\\'\\n\\n; n. [C)\\n\\n; vt.\\n\\nadj.\\n\\nn.\\n\\nwrinkle\\n\\n[bl]\\n\\ncurl\\nbald [bold]\\nmustache\\nshave [fev]\\n\\nn. [C,\\'TJ]\\n\\n; \"t.\\n\\nadj.\\n\\n(mAstæf]\\n\\nvt./vi\\n\\nn. [C]\\n\\'\\n\\n\\'\\n\\nn.\\n\\nchest\\nlung [ho] n.\\nbelly Übell] n. [C]\\nabdomen\\nliver\\ndigest\\nabsorb [2b sorb]\\n\\nn. [CLT]\\n[dafd3Est] Vt.\\n•ft.\\n\\n[\\'Ilvæ]\\n\\n[Aæbdaman] n. [C]\\n\\n\\'\\n\\n\\'\\n\\n\\'\\n; Vt.\\n\\nn. [C]\\n\\n[11m] n. [C]\\nn.\\n\\nlimb\\nelbow (Elbo]\\nfist\\n[fist] n.\\n\\nknuckle\\nfingernail\\n\\n3  \\uf074\\uf068\\uf069\\uf072\\uf073\\uf074\\uf020\\uf05b\\uf054\\uf033\\uf073\\uf074\\uf05d\\uf020n. [U] 口渴；[S] 渴望\\uf020\\uf079\\uf061\\uf077\\uf06e\\uf020\\uf05b\\uf06a\\uf04f\\uf06e\\uf05d\\uf020vi. 打哈欠\\uf020\\uf067\\uf072\\uf069\\uf06e\\uf064\\uf020\\uf05b\\uf047\\uf072\\uf061\\uf049\\uf06e\\uf064\\uf05d vt./vi 研磨，磨碎，磨（牙）\\uf020\\uf067\\uf075\\uf06d\\uf020\\uf020\\uf05b\\uf047\\uf05e\\uf06d\\uf05d\\uf020n. [U] 口香糖；[C] 牙齦\\uf020\\uf063\\uf068\\uf06f\\uf06b\\uf065\\uf020\\uf05b\\uf074\\uf053\\uf06f\\uf06b\\uf05d\\uf020vi./vt. （使）窒息，噎住，哽咽\\uf020《耳》 \\uf064\\uf065\\uf061\\uf066\\uf065\\uf06e\\uf020\\uf05b\\uf060\\uf064\\uf045\\uf066\\uf031\\uf06e\\uf05d\\uf020vt. 使感到震耳欲聾\\uf020《臉》 \\uf063\\uf068\\uf065\\uf065\\uf06b\\uf020\\uf05b\\uf074\\uf053\\uf069\\uf06b\\uf05d\\uf020n. [C] 臉頰\\uf020\\uf066\\uf06c\\uf075\\uf073\\uf068\\uf020\\uf05b\\uf066\\uf06c\\uf05e\\uf053\\uf05d\\uf020vi./vt. / n. [C] 沖水，臉紅\\uf020\\uf070\\uf061\\uf06c\\uf065\\uf020\\uf05b\\uf070\\uf065\\uf06c\\uf05d\\uf020adj. 蒼白的，灰白的，淡色的\\uf020\\uf066\\uf061\\uf063\\uf069\\uf061\\uf06c\\uf020\\uf05b\\uf060\\uf066\\uf065\\uf053\\uf031\\uf06c\\uf05d\\uf020adj. 臉的；n. [C] 臉部按摩\\uf020\\uf077\\uf072\\uf069\\uf06e\\uf06b\\uf06c\\uf065\\uf020\\uf05b\\uf060\\uf072\\uf049\\uf039\\uf06b\\uf04c\\uf05d\\uf020n. [C] 皺紋；vt. 使起皺紋\\uf020\\uf066\\uf065\\uf061\\uf074\\uf075\\uf072\\uf065\\uf020\\uf05b\\uf060\\uf066\\uf069\\uf074\\uf053\\uf032\\uf05d\\uf020n. [C] 正片，影片；特色，（臉部）特徵； vt. 以…為主要特色、重點\\uf020《髮》 \\uf063\\uf075\\uf072\\uf06c\\uf020\\uf05b\\uf06b\\uf033\\uf06c\\uf05d\\uf020n. [C/U] 捲髮；vt. 使捲曲\\uf020\\uf062\\uf061\\uf06c\\uf064\\uf020\\uf05b\\uf062\\uf04f\\uf06c\\uf064\\uf05d\\uf020adj. 禿頭的\\uf020\\uf06d\\uf075\\uf073\\uf074\\uf061\\uf063\\uf068\\uf065\\uf020\\uf05b\\uf060\\uf06d\\uf05e\\uf073\\uf074\\uf038\\uf053\\uf05d\\uf020n. [C] 小鬍子，八字鬍\\uf020\\uf073\\uf068\\uf061\\uf076\\uf065\\uf020\\uf05b\\uf053\\uf065\\uf076\\uf05d\\uf020vt./vi. 刮鬍子，剃毛髮\\uf020《胸腹》 \\uf063\\uf068\\uf065\\uf073\\uf074\\uf020\\uf05b\\uf074\\uf053\\uf045\\uf073\\uf074\\uf05d\\uf020n. [C] 胸\\uf020\\uf06c\\uf075\\uf06e\\uf067\\uf020\\uf05b\\uf06c\\uf05e\\uf039\\uf05d\\uf020n. [C] 肺\\uf020\\uf062\\uf065\\uf06c\\uf06c\\uf079\\uf020\\uf05b\\uf060\\uf062\\uf045\\uf06c\\uf049\\uf05d\\uf020n. [C] 肚子\\uf020\\uf061\\uf062\\uf064\\uf06f\\uf06d\\uf065\\uf06e\\uf020\\uf05b\\uf060\\uf038\\uf062\\uf064\\uf031\\uf06d\\uf031\\uf06e\\uf05d\\uf020n. [C] 腹部\\uf020\\uf06c\\uf069\\uf076\\uf065\\uf072\\uf020\\uf05b\\uf060\\uf06c\\uf049\\uf076\\uf032\\uf05d\\uf020n. [C/U] 肝臟\\uf020\\uf064\\uf069\\uf067\\uf065\\uf073\\uf074\\uf020\\uf05b\\uf064\\uf061\\uf049\\uf060\\uf064\\uf05a\\uf045\\uf073\\uf074\\uf05d\\uf020vt. 消化\\uf020\\uf061\\uf062\\uf073\\uf06f\\uf072\\uf062\\uf020\\uf05b\\uf031\\uf062\\uf060\\uf073\\uf04f\\uf072\\uf062\\uf05d\\uf020vt. 吸收，理解\\uf020《四肢》 \\uf06c\\uf069\\uf06d\\uf062\\uf020\\uf05b\\uf06c\\uf049\\uf06d\\uf05d\\uf020n. [C] 肢，臂，腿，翼\\uf020\\uf065\\uf06c\\uf062\\uf06f\\uf077\\uf020\\uf05b\\uf060\\uf045\\uf06c\\uf062\\uf06f\\uf05d\\uf020n. 手肘；vt. 以肘推擠\\uf020\\uf066\\uf069\\uf073\\uf074\\uf020\\uf05b\\uf066\\uf049\\uf073\\uf074\\uf05d\\uf020n. [C] 拳頭\\uf020\\uf06b\\uf06e\\uf075\\uf063\\uf06b\\uf06c\\uf065\\uf020\\uf05b\\uf060\\uf06e\\uf05e\\uf06b\\uf04c\\uf05d\\uf020n. [C] 手指關節，（食用的）蹄\\uf020\\uf066\\uf069\\uf06e\\uf067\\uf065\\uf072\\uf06e\\uf061\\uf069\\uf06c\\uf020\\uf05b\\uf060\\uf066\\uf069\\uf039\\uf047\\uf032\\uf026\\uf06e\\uf065\\uf06c\\uf05d\\uf020n. [C] 指甲\\uf020\\x0c,\\n\\n;\\n\\n\\'\\n\\n\\'.t.\\n\\n[SiZ]\\nhug [hAg]\\nn.\\ncradle\\npunch [pan\\nn. [C] f Vt.\\nshrug [frAg] n. [C] / vi.Jvt.\\nwag [wæg] Vt.\\nheel\\nn. [C]\\nkneel\\nvi.\\npace [pes] vi.\\nleap [lip]\\nskip [skip] Vt.\\nsprain [spren] Vt.\\n[•tAmb!] vi.\\ntumble\\ncripple Ckrrp!] n. [C]\\n\\n[hill\\n[nil]\\n\\n;\\n\\n\\'\\n\\n; n. [C]\\n\\nbare [bet] adj.\\n\\n\\'\\n\\nitch\\n\\ntickle\\n\\n(k)\\n\\nscratch\\n\\n[skrætf]\\n\\n;\\n\\nsweat\\n\\n[swEt] n. CU]\\n\\n; vi.\\n\\nn. [O\\nfives!] n. [C]\\n\\nmuscle Üm.n.sl] n. [C]\\nnerve [nm•]\\nvessel\\ntissue\\ngene [d3in] n. [C]\\n\\nn.\\n\\n\\'\\n\\n\\'\\n\\n; [U]\\n\\nadj.\\n\\n; n.[C]\\n\\ndoze [doz] vi.\\ndrowsy\\n(drauzr]\\nnap [næp]\\nrelax\\nrelaxation\\nretire\\n\\n[rflæks]\\n\\n[II-tar:]\\n\\nVt.\\n\\nvi.\\n\\n[,rllæks-efan]\\n\\n\\'\\nn. [U)\\n\\n; vi.\\n\\n\\'\\n\\n\\'\\n\\n4  \\uf073\\uf065\\uf069\\uf07a\\uf065\\uf020\\uf05b\\uf073\\uf069\\uf07a\\uf05d\\uf020vt. 把握，抓住，佔領，奪取\\uf020\\uf068\\uf075\\uf067\\uf020\\uf05b\\uf068\\uf05e\\uf047\\uf05d\\uf020vt. 擁抱\\uf020\\uf063\\uf072\\uf061\\uf064\\uf06c\\uf065\\uf020\\uf05b\\uf060\\uf06b\\uf072\\uf065\\uf064\\uf04c\\uf05d\\uf020n. [C] 搖籃，發源地；vt. 懷抱\\uf020\\uf070\\uf075\\uf06e\\uf063\\uf068\\uf020\\uf05b\\uf070\\uf05e\\uf06e\\uf074\\uf053\\uf05d\\uf020n. [C] / vt. 用拳重擊\\uf020\\uf073\\uf068\\uf072\\uf075\\uf067\\uf020\\uf05b\\uf053\\uf072\\uf05e\\uf047\\uf05d\\uf020n. [C] / vi./vt. 聳肩\\uf020\\uf077\\uf061\\uf067\\uf020\\uf05b\\uf077\\uf038\\uf067\\uf05d\\uf020vt. （尾巴或手指）搖，擺動\\uf020\\uf068\\uf065\\uf065\\uf06c\\uf020\\uf05b\\uf068\\uf069\\uf06c\\uf05d\\uf020n. [C] 腳後跟；鞋跟\\uf020\\uf06b\\uf06e\\uf065\\uf065\\uf06c\\uf020\\uf05b\\uf06e\\uf069\\uf06c\\uf05d\\uf020vi. 跪下\\uf020\\uf070\\uf061\\uf063\\uf065\\uf020\\uf05b\\uf070\\uf065\\uf073\\uf05d\\uf020vi. (尤指因緊張或不安而) 來回踱步\\uf020\\uf06c\\uf065\\uf061\\uf070\\uf020\\uf05b\\uf06c\\uf069\\uf070\\uf05d\\uf020vi. 跳躍；n. [C] 跳\\uf020\\uf073\\uf06b\\uf069\\uf070\\uf020\\uf05b\\uf073\\uf06b\\uf049\\uf070\\uf05d\\uf020vt. 跳過，略過\\uf020\\uf073\\uf070\\uf072\\uf061\\uf069\\uf06e\\uf020\\uf05b\\uf073\\uf070\\uf072\\uf065\\uf06e\\uf05d\\uf020vt. 扭到；n. [C] 扭傷\\uf020\\uf074\\uf075\\uf06d\\uf062\\uf06c\\uf065\\uf020\\uf05b\\uf060\\uf074\\uf05e\\uf06d\\uf062\\uf04c\\uf05d\\uf020vi. 跌倒\\uf020\\uf063\\uf072\\uf069\\uf070\\uf070\\uf06c\\uf065\\uf020\\uf05b\\uf060\\uf06b\\uf072\\uf049\\uf070\\uf04c\\uf05d\\uf020n. [C] 殘障者，跛腳的人\\uf020《膚》 \\uf062\\uf061\\uf072\\uf065\\uf020\\uf05b\\uf062\\uf045\\uf072\\uf05d\\uf020adj. 赤裸的，空的\\uf020\\uf069\\uf074\\uf063\\uf068\\uf020\\uf05b\\uf049\\uf074\\uf053\\uf05d\\uf020vi./vt.（使）發癢；n. [C] 癢，渴望\\uf020\\uf074\\uf069\\uf063\\uf06b\\uf06c\\uf065\\uf020\\uf05b\\uf060\\uf074\\uf049\\uf06b\\uf04c\\uf05d\\uf020vt. 搔（人）癢\\uf020\\uf073\\uf063\\uf072\\uf061\\uf074\\uf063\\uf068\\uf020\\uf05b\\uf073\\uf06b\\uf072\\uf038\\uf074\\uf053\\uf05d\\uf020vt. 搔癢，抓癢；劃上、刮去 (記號或痕跡)； n. [C] (表面的) 刮痕、刮傷\\uf020\\uf073\\uf077\\uf065\\uf061\\uf074\\uf020\\uf05b\\uf073\\uf077\\uf045\\uf074\\uf05d\\uf020n. [U] 汗；vi. 出汗\\uf020《構造》 \\uf06d\\uf075\\uf073\\uf063\\uf06c\\uf065\\uf020\\uf05b\\uf060\\uf06d\\uf05e\\uf073\\uf04c\\uf05d\\uf020n. [C] 肌肉\\uf020\\uf06e\\uf065\\uf072\\uf076\\uf065\\uf020\\uf05b\\uf06e\\uf033\\uf076\\uf05d\\uf020n. [C] 神經\\uf020\\uf076\\uf065\\uf073\\uf073\\uf065\\uf06c\\uf020\\uf05b\\uf060\\uf076\\uf045\\uf073\\uf04c\\uf05d\\uf020n. [C] 船艦，容器，血管 \\uf020\\uf074\\uf069\\uf073\\uf073\\uf075\\uf065\\uf020\\uf05b\\uf060\\uf074\\uf049\\uf053\\uf075\\uf05d\\uf020n. [C] 衛生紙；[U] 動植物的組織\\uf020\\uf067\\uf065\\uf06e\\uf065\\uf020\\uf05b\\uf064\\uf05a\\uf069\\uf06e\\uf05d\\uf020n. [C] 基因\\uf020《精神》 \\uf064\\uf06f\\uf07a\\uf065\\uf020\\uf05b\\uf064\\uf06f\\uf07a\\uf05d\\uf020vi. 打瞌睡\\uf020\\uf064\\uf072\\uf06f\\uf077\\uf073\\uf079\\uf020\\uf05b\\uf060\\uf064\\uf072\\uf061\\uf055\\uf07a\\uf049\\uf05d\\uf020adj. 昏昏欲睡的\\uf020\\uf06e\\uf061\\uf070\\uf020\\uf05b\\uf06e\\uf038\\uf070\\uf05d\\uf020vi. 打瞌睡；n. [C] 打盹，小睡\\uf020\\uf072\\uf065\\uf06c\\uf061\\uf078\\uf020\\uf05b\\uf072\\uf049\\uf060\\uf06c\\uf038\\uf06b\\uf073\\uf05d\\uf020vt. 使鬆弛，鬆開；vi. 休息，放鬆\\uf020\\uf072\\uf065\\uf06c\\uf061\\uf078\\uf061\\uf074\\uf069\\uf06f\\uf06e\\uf020\\uf05b\\uf026\\uf072\\uf049\\uf06c\\uf038\\uf06b\\uf073\\uf060\\uf065\\uf053\\uf031\\uf06e\\uf05d\\uf020n. [U] 休息，放鬆\\uf020\\uf072\\uf065\\uf074\\uf069\\uf072\\uf065\\uf020\\uf05b\\uf072\\uf049\\uf060\\uf074\\uf061\\uf049\\uf072\\uf05d\\uf020vi. 退休，睡覺，休息\\uf020\\x0crefresh\\nawake\\nconscious\\n\\n[rff1Ef]\\n\\nVt.\\nad\\'.\\n(kanfas]\\n\\n;\\n\\nadj.\\n\\ntremble Ctremb!] n. [C] (usu.sing.)\\nquake [kwek] vi. in.\\nsway [swe] vi.\\nlean [lin]\\n\\n\\'\\n; Vt. / n.\\n;\\n\\nvi.\\n\\n\\'\\n\\n\\'\\n\\n\\'\\n\\ncreep\\ndash [dæf) Vt. / n.\\n\\nvi.\\n\\n; vi.\\n\\n\\'\\n\\n,\\n\\ntemperature Ctempætfa•]\\n\\nn.\\n\\n\\'\\n\\nÜv3•d3m] n. [C]\\nad\\'.\\n\\nad\\'.\\n\\n[ma&tjuratl] n.\\n\\nmature [ma•tjur]\\nmaturity\\nfertile\\npregnant Cpregnant] ad\\'.\\nlabor\\nphysical C&f1Z1k!]adj.\\nsex [SEks]\\n\\n; adj.\\n; vi.\\n\\n\\'\\n\\nBQ*fi\\n\\nfiE±fi\\n\\n; n. CU](F%)\\n\\n,\\n\\n\\'\\n\\n;\\n\\nCbædmmtan]\\n\\nn. [C)\\nræelit]\\n[æClEt1k] adj.\\n\\nathlete\\nathletic\\nbadminton\\nhike\\ncyazle (salk!] n. [C]\\nskate [sket] vi.\\ndive [daw]\\nvi.\\n\\n[hark] n./vi.\\n\\n; n.\\n\\n\\'\\n\\nsurf\\n\\nn. [U]\\n\\nvi.\\n\\nn. [C]\\n\\'\\n\\n[Amææ,9an]\\nmarathon\\ncompete Ckam-pit] vi.\\ncompetition\\n\\n[,kampa-tlfan]\\n\\nn. [U)\\n\\n5  \\uf072\\uf065\\uf066\\uf072\\uf065\\uf073\\uf068\\uf020\\uf05b\\uf072\\uf049\\uf060\\uf066\\uf072\\uf045\\uf053\\uf05d\\uf020vt. 使恢復精力\\uf020\\uf061\\uf077\\uf061\\uf06b\\uf065\\uf020\\uf05b\\uf031\\uf060\\uf077\\uf065\\uf06b\\uf05d\\uf020adj. 清醒的；vt. 醒來，喚醒\\uf020\\uf063\\uf06f\\uf06e\\uf073\\uf063\\uf069\\uf06f\\uf075\\uf073\\uf020\\uf05b\\uf060\\uf06b\\uf041\\uf06e\\uf053\\uf031\\uf073\\uf05d\\uf020adj. 有知覺的，清醒的\\uf020《身體動作》 \\uf074\\uf072\\uf065\\uf06d\\uf062\\uf06c\\uf065\\uf020\\uf05b\\uf060\\uf074\\uf072\\uf045\\uf06d\\uf062\\uf04c\\uf05d\\uf020n. [C] (usu. sing.) 顫抖；vi. 顫抖\\uf020\\uf071\\uf075\\uf061\\uf06b\\uf065\\uf020\\uf05b\\uf06b\\uf077\\uf065\\uf06b\\uf05d\\uf020vi. / n. 顫抖，搖晃\\uf020\\uf073\\uf077\\uf061\\uf079\\uf020\\uf05b\\uf073\\uf077\\uf065\\uf05d\\uf020vi. 搖擺；vt. / n. 動搖，影響\\uf020\\uf06c\\uf065\\uf061\\uf06e\\uf020\\uf05b\\uf06c\\uf069\\uf06e\\uf05d\\uf020vi. 傾身，屈身；倚，靠\\uf020\\uf063\\uf072\\uf065\\uf065\\uf070\\uf020\\uf05b\\uf06b\\uf072\\uf069\\uf070\\uf05d\\uf020vi. 緩慢、悄悄地移動，爬行\\uf020\\uf064\\uf061\\uf073\\uf068\\uf020\\uf05b\\uf064\\uf038\\uf053\\uf05d\\uf020vt. / n. 衝撞，急奔\\uf020《其他》 \\uf074\\uf065\\uf06d\\uf070\\uf065\\uf072\\uf061\\uf074\\uf075\\uf072\\uf065\\uf020\\uf05b\\uf060\\uf074\\uf045\\uf06d\\uf070\\uf072\\uf031\\uf074\\uf053\\uf032\\uf05d\\uf020n. [U] 溫度，體溫\\uf020\\uf076\\uf069\\uf072\\uf067\\uf069\\uf06e\\uf020\\uf05b\\uf060\\uf076\\uf033\\uf064\\uf05a\\uf049\\uf06e\\uf05d\\uf020n. [C] 處女；adj. 未開發的\\uf020\\uf06d\\uf061\\uf074\\uf075\\uf072\\uf065\\uf020\\uf05b\\uf06d\\uf031\\uf060\\uf074\\uf06a\\uf035\\uf072\\uf05d\\uf020adj. 成熟的；vi. 發育成熟，變成熟\\uf020\\uf06d\\uf061\\uf074\\uf075\\uf072\\uf069\\uf074\\uf079\\uf020\\uf05b\\uf06d\\uf031\\uf060\\uf074\\uf06a\\uf035\\uf072\\uf031\\uf074\\uf049\\uf05d\\uf020n. [U] 成熟\\uf020\\uf066\\uf065\\uf072\\uf074\\uf069\\uf06c\\uf065\\uf020\\uf05b\\uf060\\uf066\\uf033\\uf074\\uf04c\\uf05d\\uf020adj. 肥沃的，易受孕的，能生的\\uf020\\uf070\\uf072\\uf065\\uf067\\uf06e\\uf061\\uf06e\\uf074\\uf020\\uf05b\\uf060\\uf070\\uf072\\uf045\\uf047\\uf06e\\uf031\\uf06e\\uf074\\uf05d\\uf020adj. 懷孕的\\uf020\\uf06c\\uf061\\uf062\\uf06f\\uf072\\uf020\\uf05b\\uf060\\uf06c\\uf065\\uf062\\uf032\\uf05d\\uf020vi. 埋頭苦幹，辛勤工作； n. [U] (體力) 勞動，分娩\\uf020\\uf070\\uf068\\uf079\\uf073\\uf069\\uf063\\uf061\\uf06c\\uf020\\uf05b\\uf060\\uf066\\uf049\\uf07a\\uf049\\uf06b\\uf04c\\uf05d\\uf020adj. 身體的，肉體的\\uf020\\uf073\\uf065\\uf078\\uf020\\uf05b\\uf073\\uf045\\uf06b\\uf073\\uf05d\\uf020n. [U] (生理) 性別；[C] 男性或女性\\uf020 運動 \\uf061\\uf074\\uf068\\uf06c\\uf065\\uf074\\uf065\\uf020\\uf05b\\uf060\\uf038\\uf054\\uf06c\\uf069\\uf074\\uf05d\\uf020n. [C] 運動員\\uf020\\uf061\\uf074\\uf068\\uf06c\\uf065\\uf074\\uf069\\uf063\\uf020\\uf05b\\uf038\\uf054\\uf060\\uf06c\\uf045\\uf074\\uf049\\uf06b\\uf05d\\uf020adj. 運動的\\uf020\\uf062\\uf061\\uf064\\uf06d\\uf069\\uf06e\\uf074\\uf06f\\uf06e\\uf020\\uf05b\\uf060\\uf062\\uf038\\uf064\\uf06d\\uf049\\uf06e\\uf074\\uf031\\uf06e\\uf05d\\uf020n. [U] 羽毛球\\uf020\\uf068\\uf069\\uf06b\\uf065\\uf020\\uf05b\\uf068\\uf061\\uf049\\uf06b\\uf05d\\uf020n. / vi. 健行，遠足\\uf020\\uf063\\uf079\\uf063\\uf06c\\uf065\\uf020\\uf05b\\uf060\\uf073\\uf061\\uf049\\uf06b\\uf04c\\uf05d\\uf020n. [C] 循環；vi. 騎自行車\\uf020\\uf073\\uf06b\\uf061\\uf074\\uf065\\uf020\\uf05b\\uf073\\uf06b\\uf065\\uf074\\uf05d\\uf020vi. 溜冰；n. 溜冰鞋\\uf020\\uf064\\uf069\\uf076\\uf065\\uf020\\uf05b\\uf064\\uf061\\uf049\\uf076\\uf05d\\uf020vi. 跳水，潛水\\uf020\\uf073\\uf075\\uf072\\uf066\\uf020\\uf05b\\uf073\\uf033\\uf066\\uf05d\\uf020vi. 衝浪；vt. 瀏覽（網頁）\\uf020\\uf06d\\uf061\\uf072\\uf061\\uf074\\uf068\\uf06f\\uf06e\\uf020\\uf05b\\uf060\\uf06d\\uf038\\uf072\\uf031\\uf026\\uf054\\uf041\\uf06e\\uf05d\\uf020n. [C] 馬拉松\\uf020\\uf063\\uf06f\\uf06d\\uf070\\uf065\\uf074\\uf065\\uf020\\uf05b\\uf06b\\uf031\\uf06d\\uf060\\uf070\\uf069\\uf074\\uf05d\\uf020vi. 競爭，對抗\\uf020\\uf063\\uf06f\\uf06d\\uf070\\uf065\\uf074\\uf069\\uf074\\uf069\\uf06f\\uf06e\\uf020\\uf05b\\uf026\\uf06b\\uf041\\uf06d\\uf070\\uf031\\uf060\\uf074\\uf049\\uf053\\uf031\\uf06e\\uf05d\\uf020n. [U] 競爭\\uf020\\x0cn.\\n\\nn. [C)\\n\\n(kantest]\\n\\nrtfæmppn,flp]\\nn. CU/C]\\n\\ncontest\\nchampion\\nchampionship\\ntriumph Ctrapmf)\\neliminate\\n[Ilmpnet]\\n[daÜnæm1k]\\ndynamic\\nenergetic\\n[,en$d3et1k]\\nexhaust\\ngymnasium [d31m-nezæm] n. [C]\\n\\nad\\'.\\nadj.\\n\\'\\n\\ntg-zost\\n\\nVt.\\n\\nn. [C]\\n\\'\\n\\n\\'\\n\\n; n. CLT]\\n\\n\\'\\n\\n(\\n\\n- gym)\\n\\n[bæk&tlrp] n. [pl]\\n\\nbacteria\\ndisease [dl ziz] n. CU]\\nAIDS [edz] n.\\n\\ndisorder\\n\\n[dls&ord»]\\n\\nn. CU]\\n\\nbacterium)\\n\\n\\'\\n\\n;\\n\\n\\'\\n\\nadi\\n\\nn.\\n\\nad\\'.\\n[Jolt-saltld]\\nit.\\n\\nupset\\nshortsighted\\n[blid]\\nbleed\\nstroke\\n[strok]\\n[C]\\nache [ek] vi./n.\\nit.\\n[m-fEkt]\\ninfect\\ntrækt]\\ncontract\\n(kan\\nharm Charm] n. [U)\\nin •ury C&Ind3an] n. [C]\\nfatal\\nsurvival\\nremedy\\naspirin [Aæsparm] n. [T-T/C]\\nheal\\n\\n[s$varvl]\\n[&æmadl] n. [C]\\n\\nadj.\\n\\nn.\\n\\n\\'\\nn. [C]\\n;\\n(9m )\\n\\nrecover\\n\\nrestore [rÜstor] Vt.\\nmedical Cmedlkl] adj.\\n\\n; vt.\\n\\n\\'\\n\\n\\'\\n\\n; \\'.t.\\n\\n•\\n\\n\\'\\n\\n;\\n\\n,\\n\\n,\\n\\n6  \\uf063\\uf06f\\uf06e\\uf074\\uf065\\uf073\\uf074\\uf020\\uf05b\\uf060\\uf06b\\uf041\\uf06e\\uf074\\uf045\\uf073\\uf074\\uf05d\\uf020n. [C] （文類科的）比賽\\uf020\\uf063\\uf068\\uf061\\uf06d\\uf070\\uf069\\uf06f\\uf06e\\uf020\\uf05b\\uf060\\uf074\\uf053\\uf038\\uf06d\\uf070\\uf049\\uf031\\uf06e\\uf05d\\uf020n. [C] 得到冠軍者\\uf020\\uf063\\uf068\\uf061\\uf06d\\uf070\\uf069\\uf06f\\uf06e\\uf073\\uf068\\uf069\\uf070\\uf020\\uf05b\\uf060\\uf074\\uf053\\uf038\\uf06d\\uf070\\uf049\\uf031\\uf06e\\uf026\\uf053\\uf049\\uf070\\uf05d\\uf020n. [C] 冠軍賽，冠軍頭銜\\uf020\\uf074\\uf072\\uf069\\uf075\\uf06d\\uf070\\uf068\\uf020\\uf05b\\uf060\\uf074\\uf072\\uf061\\uf049\\uf031\\uf06d\\uf066\\uf05d\\uf020n. [U/C] 成功，勝利\\uf020\\uf065\\uf06c\\uf069\\uf06d\\uf069\\uf06e\\uf061\\uf074\\uf065\\uf020\\uf05b\\uf049\\uf060\\uf06c\\uf049\\uf06d\\uf031\\uf06e\\uf065\\uf074\\uf05d\\uf020vt. 除去，淘汰\\uf020\\uf064\\uf079\\uf06e\\uf061\\uf06d\\uf069\\uf063\\uf020\\uf05b\\uf064\\uf061\\uf049\\uf060\\uf06e\\uf038\\uf06d\\uf049\\uf06b\\uf05d\\uf020adj. 充滿活力的\\uf020\\uf065\\uf06e\\uf065\\uf072\\uf067\\uf065\\uf074\\uf069\\uf063\\uf020\\uf05b\\uf026\\uf045\\uf06e\\uf032\\uf060\\uf064\\uf05a\\uf045\\uf074\\uf049\\uf06b\\uf05d\\uf020adj. 精力充沛的\\uf020\\uf065\\uf078\\uf068\\uf061\\uf075\\uf073\\uf074\\uf020\\uf05b\\uf049\\uf047\\uf060\\uf07a\\uf04f\\uf073\\uf074\\uf05d\\uf020vt. 耗盡，使筋疲力盡；n. [U] 廢氣\\uf020\\uf067\\uf079\\uf06d\\uf06e\\uf061\\uf073\\uf069\\uf075\\uf06d\\uf020\\uf05b\\uf064\\uf05a\\uf049\\uf06d\\uf060\\uf06e\\uf065\\uf07a\\uf049\\uf031\\uf06d\\uf05d\\uf020n. [C] （室內）體育館，健身房（= gym）\\uf020 醫療 \\uf062\\uf061\\uf063\\uf074\\uf065\\uf072\\uf069\\uf061\\uf020\\uf05b\\uf062\\uf038\\uf06b\\uf060\\uf074\\uf049\\uf072\\uf049\\uf031\\uf05d n. [pl] 細菌（單數bacterium）\\uf020\\uf064\\uf069\\uf073\\uf065\\uf061\\uf073\\uf065\\uf020\\uf05b\\uf064\\uf049\\uf060\\uf07a\\uf069\\uf07a\\uf05d\\uf020n. [U] 疾病\\uf020AIDS \\uf05b\\uf065\\uf064\\uf07a\\uf05d\\uf020n. 愛滋病 \\uf063\\uf061\\uf072\\uf072\\uf069\\uf065\\uf072\\uf020\\uf05b\\uf060\\uf06b\\uf038\\uf072\\uf049\\uf032\\uf05d n. [C] 運輸公司，帶原者\\uf020\\uf064\\uf069\\uf073\\uf06f\\uf072\\uf064\\uf065\\uf072\\uf020\\uf05b\\uf064\\uf049\\uf073\\uf060\\uf04f\\uf072\\uf064\\uf032\\uf05d\\uf020n. [U] 混亂，（身體功能）失調\\uf020\\uf075\\uf070\\uf073\\uf065\\uf074\\uf020\\uf05b\\uf05e\\uf070\\uf060\\uf073\\uf045\\uf074\\uf05d\\uf020adj. 腸胃不適的；沮喪的，失望的，使心煩意亂\\uf020\\uf073\\uf068\\uf06f\\uf072\\uf074\\uf073\\uf069\\uf067\\uf068\\uf074\\uf065\\uf064\\uf020\\uf05b\\uf026\\uf053\\uf04f\\uf072\\uf074\\uf060\\uf073\\uf061\\uf049\\uf074\\uf049\\uf064\\uf05d\\uf020adj. 近視的，短視近利的\\uf020\\uf062\\uf06c\\uf065\\uf065\\uf064\\uf020\\uf05b\\uf062\\uf06c\\uf069\\uf064\\uf05d\\uf020vt. 流血\\uf020\\uf073\\uf074\\uf072\\uf06f\\uf06b\\uf065\\uf020\\uf05b\\uf073\\uf074\\uf072\\uf06f\\uf06b\\uf05d\\uf020n. [C] 中風\\uf020\\uf061\\uf063\\uf068\\uf065\\uf020\\uf05b\\uf065\\uf06b\\uf05d\\uf020vi. / n. [C] 疼痛\\uf020\\uf069\\uf06e\\uf066\\uf065\\uf063\\uf074\\uf020\\uf05b\\uf049\\uf06e\\uf060\\uf066\\uf045\\uf06b\\uf074\\uf05d\\uf020vt. 使感染，傳染\\uf020\\uf063\\uf06f\\uf06e\\uf074\\uf072\\uf061\\uf063\\uf074\\uf020\\uf05b\\uf060\\uf06b\\uf041\\uf06e\\uf026\\uf074\\uf072\\uf038\\uf06b\\uf074\\uf05d\\uf020n. [C] 合約，契約；vt. 感染、罹患\\uf020\\uf068\\uf061\\uf072\\uf06d\\uf020\\uf05b\\uf068\\uf041\\uf072\\uf06d\\uf05d\\uf020n. [U] 傷害；vt. 傷害\\uf020\\uf069\\uf06e\\uf06a\\uf075\\uf072\\uf079\\uf020\\uf05b\\uf060\\uf049\\uf06e\\uf064\\uf05a\\uf031\\uf072\\uf049\\uf05d\\uf020n. [C] （身體）傷害，（名譽）損壞\\uf020\\uf066\\uf061\\uf074\\uf061\\uf06c\\uf020\\uf05b\\uf060\\uf066\\uf065\\uf074\\uf04c\\uf05d\\uf020adj. 致命的，致死的；後果嚴重的，導致失敗的\\uf020\\uf073\\uf075\\uf072\\uf076\\uf069\\uf076\\uf061\\uf06c\\uf020\\uf05b\\uf073\\uf032\\uf060\\uf076\\uf061\\uf049\\uf076\\uf04c\\uf05d\\uf020n. [U] 存活，倖存\\uf020\\uf072\\uf065\\uf06d\\uf065\\uf064\\uf079\\uf020\\uf05b\\uf060\\uf072\\uf045\\uf06d\\uf031\\uf064\\uf049\\uf05d\\uf020n. [C] 藥物，療法\\uf020\\uf061\\uf073\\uf070\\uf069\\uf072\\uf069\\uf06e\\uf020\\uf05b\\uf060\\uf038\\uf073\\uf070\\uf031\\uf072\\uf049\\uf06e\\uf05d\\uf020n. [U/C] 阿斯匹靈\\uf020\\uf068\\uf065\\uf061\\uf06c\\uf020\\uf05b\\uf068\\uf069\\uf06c\\uf05d\\uf020vt./vi. 痊癒，治癒\\uf020\\uf072\\uf065\\uf063\\uf06f\\uf076\\uf065\\uf072\\uf020\\uf05b\\uf072\\uf049\\uf060\\uf06b\\uf05e\\uf076\\uf032\\uf05d\\uf020vi. 恢復；vt. 找回，恢復\\uf020\\uf072\\uf065\\uf073\\uf074\\uf06f\\uf072\\uf065\\uf020\\uf05b\\uf072\\uf049\\uf060\\uf073\\uf074\\uf06f\\uf072\\uf05d\\uf020vt. 使復原\\uf020\\uf06d\\uf065\\uf064\\uf069\\uf063\\uf061\\uf06c\\uf020\\uf05b\\uf060\\uf06d\\uf045\\uf064\\uf049\\uf06b\\uf04c\\uf05d\\uf020adj. 醫療的，內科的\\uf020\\x0c[ffzlfan]\\n[,ap$refan]\\nn. [C]\\n\\nsurgeon Cs3\\'d3an] n. [C)\\nphysician\\nn. [C]\\noperation\\nclinic\\nemergency\\nhealthful\\n\\nÜhE19fal] adj.\\n\\n[Üm3\\'d3ans1] n. [C]\\n\\nn. CU]\\n\\nn.\\n\\n[\\'bekan]\\n\\nbacon\\nn. [U)\\nsausage Csos1d3] n. [C]\\nfry\\n,\\nyolk [jok] n. [CU]\\nPickle\\ncucumber C&kjukamba•] n. [C]\\ngarlic (garllk]\\npea [Pi] n. [C]\\ngrapefruit\\npeel\\ncoconut\\n\\nn. [C]\\n; Vt.\\n\\nIpil] n. [U]\\n\\n(grep,frut]\\n\\nCkokanat]\\n\\nn. [C)\\n\\nn. [C)\\n\\n\\'\\n\\n,\\n\\n;\\n\\n\\' 4J\\n\\nraisin\\n\\nn. [C]\\n\\nn. [C]\\n\\n(wolnat]\\n\\nbiscuit\\nn.\\ncrisp Cknsp] adj.\\nchip\\nwalnut\\ngum [gAm] n. [U]\\nlollipop Clall,pcp]\\nyogurt\\n(jogæt] n.\\ndairy\\nadj.\\npreserve [prüBv]\\nVt.\\nsyrup C&slrap]n. CU]\\ncigarette [,S1g$1Et] n. [C]\\ncocktail\\nn. [C]\\n\\nn. [C]\\n\\'\\n\\n(kak,tel]\\n\\n[\\'den]\\n\\nH ,\\n\\n; ft.\\n\\n; n. [C)\\n\\'\\n\\n\\'\\n\\n; n. Cpl]\\n\\n7  \\uf073\\uf075\\uf072\\uf067\\uf065\\uf06f\\uf06e\\uf020\\uf05b\\uf060\\uf073\\uf033\\uf064\\uf05a\\uf031\\uf06e\\uf05d\\uf020n. [C] 外科醫師\\uf020\\uf070\\uf068\\uf079\\uf073\\uf069\\uf063\\uf069\\uf061\\uf06e\\uf020\\uf05b\\uf066\\uf049\\uf060\\uf07a\\uf049\\uf053\\uf031\\uf06e\\uf05d\\uf020n. [C] 內科醫生\\uf020\\uf06f\\uf070\\uf065\\uf072\\uf061\\uf074\\uf069\\uf06f\\uf06e\\uf020\\uf05b\\uf026\\uf041\\uf070\\uf031\\uf060\\uf072\\uf065\\uf053\\uf031\\uf06e\\uf05d\\uf020n. [U] 運轉，運作；n. [C] 手術\\uf020\\uf063\\uf06c\\uf069\\uf06e\\uf069\\uf063\\uf020\\uf05b\\uf060\\uf06b\\uf06c\\uf049\\uf06e\\uf049\\uf06b\\uf05d\\uf020n. [C] 診所\\uf020\\uf065\\uf06d\\uf065\\uf072\\uf067\\uf065\\uf06e\\uf063\\uf079\\uf020\\uf05b\\uf049\\uf060\\uf06d\\uf033\\uf064\\uf05a\\uf031\\uf06e\\uf073\\uf049\\uf05d\\uf020n. [C] 緊急狀況\\uf020\\uf068\\uf065\\uf061\\uf06c\\uf074\\uf068\\uf066\\uf075\\uf06c\\uf020\\uf05b\\uf060\\uf068\\uf045\\uf06c\\uf054\\uf066\\uf031\\uf06c\\uf05d\\uf020adj. 有益健康的\\uf020 食 《食物》 \\uf062\\uf061\\uf063\\uf06f\\uf06e\\uf020\\uf05b\\uf060\\uf062\\uf065\\uf06b\\uf031\\uf06e\\uf05d\\uf020n. [U] 培根\\uf020\\uf073\\uf061\\uf075\\uf073\\uf061\\uf067\\uf065\\uf020\\uf05b\\uf060\\uf073\\uf04f\\uf073\\uf049\\uf064\\uf05a\\uf05d\\uf020n. [C] 香腸\\uf020\\uf066\\uf072\\uf079\\uf020\\uf05b\\uf066\\uf072\\uf061\\uf049\\uf05d\\uf020n. [C] 薯條；vt./vi. 油煎或炸\\uf020\\uf079\\uf06f\\uf06c\\uf06b\\uf020\\uf05b\\uf06a\\uf06f\\uf06b\\uf05d\\uf020n. [C/U] 蛋黃\\uf020\\uf070\\uf069\\uf063\\uf06b\\uf06c\\uf065\\uf020\\uf05b\\uf060\\uf070\\uf049\\uf06b\\uf04c\\uf05d\\uf020n. [C] 泡菜，醃黃瓜；vt. 醃\\uf020\\uf063\\uf075\\uf063\\uf075\\uf06d\\uf062\\uf065\\uf072\\uf020\\uf05b\\uf060\\uf06b\\uf06a\\uf075\\uf06b\\uf031\\uf06d\\uf062\\uf032\\uf05d\\uf020n. [C] 黃瓜\\uf020\\uf067\\uf061\\uf072\\uf06c\\uf069\\uf063\\uf020\\uf05b\\uf060\\uf047\\uf041\\uf072\\uf06c\\uf049\\uf06b\\uf05d\\uf020n. [C] 蒜頭\\uf020\\uf070\\uf065\\uf061\\uf020\\uf05b\\uf070\\uf069\\uf05d\\uf020n. [C] 豌豆\\uf020\\uf067\\uf072\\uf061\\uf070\\uf065\\uf066\\uf072\\uf075\\uf069\\uf074\\uf020\\uf05b\\uf060\\uf047\\uf072\\uf065\\uf070\\uf026\\uf066\\uf072\\uf075\\uf074\\uf05d\\uf020n. [C] 葡萄柚\\uf020\\uf070\\uf065\\uf065\\uf06c\\uf020\\uf05b\\uf070\\uf069\\uf06c\\uf05d\\uf020n. [U] 水果皮；vt. 剝，削（果皮）\\uf020\\uf063\\uf06f\\uf063\\uf06f\\uf06e\\uf075\\uf074\\uf020\\uf05b\\uf060\\uf06b\\uf06f\\uf06b\\uf031\\uf06e\\uf031\\uf074\\uf05d\\uf020n. [C] 椰子\\uf020\\uf072\\uf061\\uf069\\uf073\\uf069\\uf06e\\uf020\\uf05b\\uf060\\uf072\\uf065\\uf07a\\uf04e\\uf05d\\uf020n. [C] 葡萄乾\\uf020\\uf062\\uf069\\uf073\\uf063\\uf075\\uf069\\uf074\\uf020\\uf05b\\uf060\\uf062\\uf049\\uf073\\uf06b\\uf049\\uf074\\uf05d\\uf020n. [C] 甜餅乾（英式，美語為cookie）\\uf020\\uf063\\uf072\\uf069\\uf073\\uf070\\uf020\\uf05b\\uf06b\\uf072\\uf049\\uf073\\uf070\\uf05d\\uf020adj. 酥脆的\\uf020\\uf063\\uf068\\uf069\\uf070\\uf020\\uf05b\\uf074\\uf053\\uf049\\uf070\\uf05d\\uf020n. [C] （炸馬齡薯）片，電腦晶片；vt. 撞成碎片\\uf020\\uf077\\uf061\\uf06c\\uf06e\\uf075\\uf074\\uf020\\uf05b\\uf060\\uf077\\uf04f\\uf06c\\uf06e\\uf031\\uf074\\uf05d\\uf020n. [C] 胡桃\\uf020\\uf067\\uf075\\uf06d\\uf020\\uf020\\uf05b\\uf047\\uf05e\\uf06d\\uf05d\\uf020n. [U] 口香糖；[C] 牙齦\\uf020\\uf06c\\uf06f\\uf06c\\uf06c\\uf069\\uf070\\uf06f\\uf070\\uf020\\uf05b\\uf060\\uf06c\\uf041\\uf06c\\uf049\\uf026\\uf070\\uf041\\uf070\\uf05d\\uf020n. [C] 棒棒糖\\uf020\\uf079\\uf06f\\uf067\\uf075\\uf072\\uf074\\uf020\\uf05b\\uf060\\uf06a\\uf06f\\uf047\\uf032\\uf074\\uf05d\\uf020n. 優格，優酪乳\\uf020\\uf064\\uf061\\uf069\\uf072\\uf079\\uf020\\uf05b\\uf060\\uf064\\uf045\\uf072\\uf049\\uf05d\\uf020adj. 乳製品的；n. [C] 乳酪業\\uf020\\uf070\\uf072\\uf065\\uf073\\uf065\\uf072\\uf076\\uf065\\uf020\\uf05b\\uf070\\uf072\\uf049\\uf060\\uf07a\\uf033\\uf076\\uf05d\\uf020vt. 保存，維持，醃製；n. [pl] 果醬，蜜餞\\uf020\\uf073\\uf079\\uf072\\uf075\\uf070\\uf020\\uf05b\\uf060\\uf073\\uf049\\uf072\\uf031\\uf070\\uf05d\\uf020n. [U] 糖漿\\uf020\\uf063\\uf069\\uf067\\uf061\\uf072\\uf065\\uf074\\uf074\\uf065\\uf020\\uf05b\\uf026\\uf073\\uf049\\uf047\\uf031\\uf060\\uf072\\uf045\\uf074\\uf05d\\uf020n. [C] 香菸\\uf020\\uf063\\uf06f\\uf063\\uf06b\\uf074\\uf061\\uf069\\uf06c\\uf020\\uf05b\\uf060\\uf06b\\uf041\\uf06b\\uf026\\uf074\\uf065\\uf06c\\uf05d\\uf020n. [C] 雞尾酒\\uf020\\x0cn.\\n\\n\\'\\n\\nrælka,hol]\\n[drA0k] ad\\'.\\n\\nliquor\\nalcohol\\ndrunk\\nspice [spars] n.\\nspicy [\\'spam] ad\\'.\\ngreasy (grisl] adj.\\nflavor\\ngrain [gren] n. [C]\\ningredient\\n\\n[m-gridlant]\\n\\nn. [U] z-*-æ ; [C)\\n\\n;\\nn. [C] (S*)\\n\\n\\'\\n\\n,\\n\\n; \"t.\\n\\n,\\n\\n[broil] Vt.\\n[rost] vt./vi.\\n\\nbroil\\nroast\\ngrind [gramd] vt./vi\\nmill\\n\\nn. [C]\\n\\n[mll]\\n\\nscoop [skup] n. [C] kJ+ \\'\\nsaucer\\n\\n[&sosa•] n. [C]\\n\\n\\'\\n\\ntray\\n\\ncork\\n\\nkettle\\nmicrowave\\n\\nn.[C]\\n\\nn.\\n\\nn.[C]\\n\\n[\\'malkro,wev]\\n\\nn.[C]\\n\\n; vt.\\n\\n; n. [C]\\n\\n\\'\\n\\nVt.\\n\\n[kan-sum]\\n\\n[btffe]\\n[fist] vi.\\nvi.\\n\\nbuffet\\nfeast\\ndine [dam]\\nconsume\\nsip [SIP] n. / it.\\ndiet\\ncalorie Ükælan] n. [C]\\nvegetarian\\nstale [stel] adj.\\n[spall] vt.\\nspoil\\nstarve [starv]\\nvi.\\n\\nn. [C]\\n\\n[,VEd3a-tErpn] n.\\n\\n; ad\\'.\\n\\n\\'\\n\\n\\'\\n\\n\\'\\n\\n; Vt.\\n\\n8  \\uf06c\\uf069\\uf071\\uf075\\uf06f\\uf072\\uf020\\uf05b\\uf060\\uf06c\\uf049\\uf06b\\uf032\\uf05d\\uf020n. [U] （蒸餾）酒\\uf020\\uf061\\uf06c\\uf063\\uf06f\\uf068\\uf06f\\uf06c\\uf020\\uf05b\\uf060\\uf038\\uf06c\\uf06b\\uf031\\uf026\\uf068\\uf04f\\uf06c\\uf05d\\uf020n. [U] 酒精，酒\\uf020\\uf064\\uf072\\uf075\\uf06e\\uf06b\\uf020\\uf05b\\uf064\\uf072\\uf05e\\uf039\\uf06b\\uf05d\\uf020adj. 酒醉的\\uf020\\uf073\\uf070\\uf069\\uf063\\uf065\\uf020\\uf05b\\uf073\\uf070\\uf061\\uf049\\uf073\\uf05d\\uf020n. [C] 香料，情趣，風味\\uf020\\uf073\\uf070\\uf069\\uf063\\uf079\\uf020\\uf05b\\uf060\\uf073\\uf070\\uf061\\uf049\\uf073\\uf049\\uf05d\\uf020adj. 辣的，加了香料的\\uf020\\uf067\\uf072\\uf065\\uf061\\uf073\\uf079\\uf020\\uf05b\\uf060\\uf047\\uf072\\uf069\\uf073\\uf049\\uf05d\\uf020adj. 油膩的\\uf020\\uf066\\uf06c\\uf061\\uf076\\uf06f\\uf072\\uf020\\uf05b\\uf060\\uf066\\uf06c\\uf065\\uf076\\uf032\\uf05d\\uf020n. [U] 味道；[C] 口味\\uf020\\uf067\\uf072\\uf061\\uf069\\uf06e\\uf020\\uf05b\\uf047\\uf072\\uf065\\uf06e\\uf05d\\uf020n. [C] 穀粒；（一）顆粒、細粒\\uf020\\uf069\\uf06e\\uf067\\uf072\\uf065\\uf064\\uf069\\uf065\\uf06e\\uf074\\uf020\\uf05b\\uf049\\uf06e\\uf060\\uf047\\uf072\\uf069\\uf064\\uf049\\uf031\\uf06e\\uf074\\uf05d\\uf020n. [C] (食品) 成分，材料\\uf020《烹調》 \\uf062\\uf072\\uf06f\\uf069\\uf06c\\uf020\\uf05b\\uf062\\uf072\\uf04f\\uf049\\uf06c\\uf05d vt. （直接在熱源上）烤\\uf020\\uf072\\uf06f\\uf061\\uf073\\uf074\\uf020\\uf05b\\uf072\\uf06f\\uf073\\uf074\\uf05d\\uf020vt. / vi. 烘，烤\\uf020\\uf067\\uf072\\uf069\\uf06e\\uf064\\uf020\\uf05b\\uf047\\uf072\\uf061\\uf049\\uf06e\\uf064\\uf05d vt./vi 研磨，磨碎，磨（牙）\\uf020\\uf06d\\uf069\\uf06c\\uf06c\\uf020\\uf05b\\uf06d\\uf049\\uf06c\\uf05d\\uf020n. [C] 磨坊；vt. 碾碎\\uf020\\uf072\\uf065\\uf063\\uf069\\uf070\\uf065\\uf020\\uf05b\\uf060\\uf072\\uf045\\uf073\\uf031\\uf070\\uf049\\uf05d\\uf020n. [C] 食譜，烹飪法\\uf020《器具》 \\uf073\\uf063\\uf06f\\uf06f\\uf070\\uf020\\uf05b\\uf073\\uf06b\\uf075\\uf070\\uf05d\\uf020n. [C] 勺子，獨家新聞\\uf020\\uf073\\uf061\\uf075\\uf063\\uf065\\uf072\\uf020\\uf05b\\uf060\\uf073\\uf04f\\uf073\\uf032\\uf05d\\uf020n. [C] 茶托，淺碟\\uf020\\uf074\\uf072\\uf061\\uf079\\uf020\\uf05b\\uf074\\uf072\\uf065\\uf05d\\uf020n. [C] 托盤\\uf020\\uf063\\uf06f\\uf072\\uf06b\\uf020\\uf05b\\uf06b\\uf04f\\uf072\\uf06b\\uf05d\\uf020n. [C] 軟木塞\\uf020\\uf06b\\uf065\\uf074\\uf074\\uf06c\\uf065\\uf020\\uf05b\\uf060\\uf06b\\uf045\\uf074\\uf04c\\uf05d\\uf020n. [C] （煮水的）水壺\\uf020\\uf06d\\uf069\\uf063\\uf072\\uf06f\\uf077\\uf061\\uf076\\uf065\\uf020\\uf05b\\uf060\\uf06d\\uf061\\uf049\\uf06b\\uf072\\uf06f\\uf026\\uf077\\uf065\\uf076\\uf05d\\uf020n.[C] 微波爐；vt. 用微波爐烹調\\uf020《其他》 \\uf062\\uf075\\uf066\\uf066\\uf065\\uf074\\uf020\\uf05b\\uf062\\uf055\\uf060\\uf066\\uf065\\uf05d\\uf020n.[C] 自助式吃到飽餐聽\\uf020\\uf066\\uf065\\uf061\\uf073\\uf074\\uf020\\uf05b\\uf066\\uf069\\uf073\\uf074\\uf05d\\uf020vi. 盡情吃喝，飽餐；vt. 盛宴款待；n. [C] 盛宴，宴會\\uf020\\uf064\\uf069\\uf06e\\uf065\\uf020\\uf05b\\uf064\\uf061\\uf049\\uf06e\\uf05d\\uf020vi. 用餐\\uf020\\uf063\\uf06f\\uf06e\\uf073\\uf075\\uf06d\\uf065\\uf020\\uf05b\\uf06b\\uf031\\uf06e\\uf060\\uf073\\uf075\\uf06d\\uf05d\\uf020vt. 吃喝，攝取；vt. 消耗，花費\\uf020\\uf073\\uf069\\uf070\\uf020\\uf05b\\uf073\\uf049\\uf070\\uf05d\\uf020n. / vt. 啜飲\\uf020\\uf064\\uf069\\uf065\\uf074\\uf020\\uf05b\\uf060\\uf064\\uf061\\uf049\\uf031\\uf074\\uf05d\\uf020n. [C] 節食；日常飲食\\uf020\\uf063\\uf061\\uf06c\\uf06f\\uf072\\uf069\\uf065\\uf020\\uf05b\\uf060\\uf06b\\uf038\\uf06c\\uf031\\uf072\\uf049\\uf05d\\uf020n. [C] 卡路里\\uf020\\uf076\\uf065\\uf067\\uf065\\uf074\\uf061\\uf072\\uf069\\uf061\\uf06e\\uf020\\uf05b\\uf026\\uf076\\uf045\\uf064\\uf05a\\uf031\\uf060\\uf074\\uf045\\uf072\\uf049\\uf031\\uf06e\\uf05d\\uf020n. 素食者；adj. 素食的\\uf020\\uf073\\uf074\\uf061\\uf06c\\uf065\\uf020\\uf05b\\uf073\\uf074\\uf065\\uf06c\\uf05d\\uf020adj. 不新鮮的，無新意的，倦怠的\\uf020\\uf073\\uf070\\uf06f\\uf069\\uf06c\\uf020\\uf05b\\uf073\\uf070\\uf04f\\uf049\\uf06c\\uf05d\\uf020vt. 破壞，寵壞；vi. （食物）腐敗\\uf020\\uf073\\uf074\\uf061\\uf072\\uf076\\uf065\\uf020\\uf05b\\uf073\\uf074\\uf041\\uf072\\uf076\\uf05d\\uf020vi. 挨餓，餓死；vt. 使飢餓\\uf020\\x0cn. [C]\\n\\nbam [bam]\\ngreenhouse Cgrin haus] n. [C]\\nharvest\\n\\'\\n\\n(harvlst]\\n\\nn. [C]\\n\\nn. [C)\\n\\nshepherd CJEpd]\\nrural\\nadj.\\norganic\\nfertile (fml]\\n\\nadj.\\n\\n[or-gænrk] adj.\\n\\n\\'\\n\\n\\'\\n\\n\\'\\nn. [C]\\n\\ngown [gaun] n. [C]\\novercoat Covæ,kot]\\ncape [kep] n. [C]\\nnecktie\\n(nek,tar]\\nsleeve [sliv] n. [C)\\nbra [bra] n. [C]\\n\\n; t?\\n\\n\\'\\nn. [C]\\n\\n(= brassiere)\\n\\nn. [C]\\nn. [C]\\n\\nziFF\\nribbon Cnban]\\nlace [les] n. CU]\\n; [C)\\nstocking [\\'stak10] n. [C]\\nn. [C]\\nboot &ut]\\nheel\\nn. [C]\\n[hill\\npad [pæd] n. [C]\\ncushion\\n[\\'kulan]\\nrug [rAg] n. [C]\\nblanket\\nlinen\\nrag [ræg] n. [C]\\nshuttle C&fAt!] n.\\nspin\\nknit\\n\\n[\\'blæoklt]n.\\nn. [U]\\n\\nn. [C]\\n\\n[C]\\n\\nvt.\\n\\n;\\n\\n\\'\\n\\n,\\n\\n\\'\\n\\n; \"t\\n\\n; \\'.t.\\n\\n; vi.\\n\\n9  農業 \\uf062\\uf061\\uf072\\uf06e\\uf020\\uf05b\\uf062\\uf041\\uf072\\uf06e\\uf05d\\uf020n. [C] 穀倉\\uf020\\uf067\\uf072\\uf065\\uf065\\uf06e\\uf068\\uf06f\\uf075\\uf073\\uf065\\uf020\\uf05b\\uf060\\uf047\\uf072\\uf069\\uf06e\\uf026\\uf068\\uf061\\uf055\\uf073\\uf05d\\uf020n. [C] 溫室\\uf020\\uf068\\uf061\\uf072\\uf076\\uf065\\uf073\\uf074\\uf020\\uf05b\\uf060\\uf068\\uf041\\uf072\\uf076\\uf049\\uf073\\uf074\\uf05d\\uf020n. [C] 收成，收穫量；vt. 收穫，收割\\uf020\\uf068\\uf065\\uf072\\uf064\\uf020\\uf05b\\uf068\\uf033\\uf064\\uf05d\\uf020n. [C] （一）畜群，牧群；vt. 放牧\\uf020\\uf073\\uf068\\uf065\\uf070\\uf068\\uf065\\uf072\\uf064\\uf020\\uf05b\\uf060\\uf053\\uf045\\uf070\\uf032\\uf064\\uf05d\\uf020n. [C] 牧羊人\\uf020\\uf072\\uf075\\uf072\\uf061\\uf06c\\uf020\\uf05b\\uf060\\uf072\\uf035\\uf072\\uf031\\uf06c\\uf05d\\uf020adj. 鄉村的，田園的\\uf020\\uf06f\\uf072\\uf067\\uf061\\uf06e\\uf069\\uf063\\uf020\\uf05b\\uf04f\\uf072\\uf060\\uf047\\uf038\\uf06e\\uf049\\uf06b\\uf05d\\uf020adj. 有機的\\uf020\\uf066\\uf065\\uf072\\uf074\\uf069\\uf06c\\uf065\\uf020\\uf05b\\uf060\\uf066\\uf033\\uf074\\uf04c\\uf05d\\uf020adj. 肥沃的，易受孕的，能生的\\uf020 衣物 \\uf067\\uf06f\\uf077\\uf06e\\uf020\\uf05b\\uf047\\uf061\\uf055\\uf06e\\uf05d\\uf020n. [C] 禮服，長袍\\uf020\\uf06f\\uf076\\uf065\\uf072\\uf063\\uf06f\\uf061\\uf074\\uf020\\uf05b\\uf060\\uf06f\\uf076\\uf032\\uf026\\uf06b\\uf06f\\uf074\\uf05d\\uf020n. [C] 大衣\\uf020\\uf063\\uf061\\uf070\\uf065\\uf020\\uf05b\\uf06b\\uf065\\uf070\\uf05d\\uf020n. [C] 斗篷，披風；岬，海角\\uf020\\uf06e\\uf065\\uf063\\uf06b\\uf074\\uf069\\uf065\\uf020\\uf05b\\uf060\\uf06e\\uf045\\uf06b\\uf026\\uf074\\uf061\\uf049\\uf05d\\uf020n. [C] 領帶\\uf020\\uf073\\uf06c\\uf065\\uf065\\uf076\\uf065\\uf020\\uf05b\\uf073\\uf06c\\uf069\\uf076\\uf05d\\uf020n. [C] 袖子\\uf020\\uf062\\uf072\\uf061\\uf020\\uf05b\\uf062\\uf072\\uf041\\uf05d\\uf020n. [C] 胸罩 (= brassiere)\\uf020\\uf07a\\uf069\\uf070\\uf070\\uf065\\uf072\\uf020\\uf05b\\uf060\\uf07a\\uf049\\uf070\\uf032\\uf05d\\uf020n. [C] 拉鍊\\uf020\\uf072\\uf069\\uf062\\uf062\\uf06f\\uf06e\\uf020\\uf05b\\uf060\\uf072\\uf049\\uf062\\uf031\\uf06e\\uf05d\\uf020n. [C] 彩帶，緞帶\\uf020\\uf06c\\uf061\\uf063\\uf065\\uf020\\uf05b\\uf06c\\uf065\\uf073\\uf05d\\uf020n. [U] 蕾絲；[C] 鞋帶\\uf020\\uf073\\uf074\\uf06f\\uf063\\uf06b\\uf069\\uf06e\\uf067\\uf020\\uf05b\\uf060\\uf073\\uf074\\uf041\\uf06b\\uf049\\uf039\\uf05d\\uf020n. [C] 長襪\\uf020\\uf062\\uf06f\\uf06f\\uf074\\uf020\\uf05b\\uf062\\uf075\\uf074\\uf05d\\uf020n. [C] 長靴\\uf020\\uf068\\uf065\\uf065\\uf06c\\uf020\\uf05b\\uf068\\uf069\\uf06c\\uf05d\\uf020n. [C] 腳後跟；鞋跟\\uf020\\uf070\\uf061\\uf064\\uf020\\uf05b\\uf070\\uf038\\uf064\\uf05d\\uf020n. [C] 襯墊\\uf020\\uf063\\uf075\\uf073\\uf068\\uf069\\uf06f\\uf06e\\uf020\\uf05b\\uf060\\uf06b\\uf055\\uf053\\uf031\\uf06e\\uf05d\\uf020n. [C] 軟墊，靠枕；vt. 緩和衝擊\\uf020\\uf072\\uf075\\uf067\\uf020\\uf05b\\uf072\\uf05e\\uf047\\uf05d\\uf020n. [C] 小地毯\\uf020\\uf062\\uf06c\\uf061\\uf06e\\uf06b\\uf065\\uf074\\uf020\\uf05b\\uf060\\uf062\\uf06c\\uf038\\uf039\\uf06b\\uf049\\uf074\\uf05d n. [C] 毯子；vt. 覆蓋\\uf020\\uf06c\\uf069\\uf06e\\uf065\\uf06e\\uf020\\uf05b\\uf060\\uf06c\\uf049\\uf06e\\uf031\\uf06e\\uf05d\\uf020n. [U] 亞麻布\\uf020\\uf072\\uf061\\uf067\\uf020\\uf05b\\uf072\\uf038\\uf047\\uf05d\\uf020n. [C] 破布\\uf020\\uf073\\uf068\\uf075\\uf074\\uf074\\uf06c\\uf065\\uf020\\uf05b\\uf060\\uf053\\uf05e\\uf074\\uf04c\\uf05d\\uf020n. 梭子，（往返）交通車\\uf020\\uf073\\uf070\\uf069\\uf06e\\uf020\\uf05b\\uf073\\uf070\\uf049\\uf06e\\uf05d\\uf020vt. 紡紗，說（故事）；vi. 旋轉\\uf020\\uf06b\\uf06e\\uf069\\uf074\\uf020\\uf05b\\uf06e\\uf049\\uf074\\uf05d\\uf020vt. （用毛線）針織\\uf020\\x0cit.\\n\\nsew [so]\\ndiaper\\nwrap [ræp] Vt.\\nfashion Cfæfan]\\ncasual\\n\\n[\\'kæsual] adj.\\n\\nn.[C]\\n\\'\\n\\nn. CU]\\n\\n;\\n\\n;\\n\\n\\'\\n\\'\\n\\n\\'\\n\\n;\\n\\n\\'\\n\\n(\\n\\nä2ft\\n\\nn.\\n\\n; [C]\\n\\nn.\\n\\n[\\'bresllt]\\n\\n[ps-l] n.\\n\\ndecoration\\njewel\\npearl\\nbracelet\\nlipstick Chp,stlk] n.\\nperfume Cpg-fjum] n. [U) —7K\\ncollection\\nluxury\\n\\n[k$lEkfan]\\n\\nn. [C]\\n\\nn. [C]\\n\\nn. [C]\\n\\n;\\n\\ncabin Ckæbm] n. [C)\\n\\nn.\\n\\n(kalam]\\nCtfrmm]\\n\\ncolumn\\nchimney\\nn. [C]\\nfireplace Cfalr,ples] n. [C]\\ncabinet\\n\\nn.\\n\\n[kat_JtJ] n.\\n[nab]\\nn. [C]\\nn. [C]\\n[hem]\\n\\ncouch\\nknob\\nframe\\n\\nfurnish\\n\\n;\\n\\nfurniture\\nstuff\\nessential\\n\\nCf3-n1tfö]\\n\\nn.\\n\\n[stA±) n. [U)\\n[Üsenfal]\\n\\n;\\n\\nadj.\\n\\n\\' \"31J \\'\\n\\n;\\n\\n\\'\\n\\n\\'\\n\\nnecessity\\n\\n[na-sesa,tl]\\n\\nn. CU]\\n\\n\\'\\n\\n; [C)\\n\\n10  \\uf073\\uf065\\uf077\\uf020\\uf05b\\uf073\\uf06f\\uf05d\\uf020vt. 縫合\\uf020\\uf064\\uf069\\uf061\\uf070\\uf065\\uf072\\uf020\\uf05b\\uf060\\uf064\\uf061\\uf049\\uf031\\uf070\\uf032\\uf05d\\uf020n. [C] 尿布；vt. 為…包尿布\\uf020\\uf077\\uf072\\uf061\\uf070\\uf020\\uf05b\\uf072\\uf038\\uf070\\uf05d\\uf020vt. 包裝，包；n. [U] 包裹物（布或紙）\\uf020\\uf066\\uf061\\uf073\\uf068\\uf069\\uf06f\\uf06e\\uf020\\uf05b\\uf060\\uf066\\uf038\\uf053\\uf031\\uf06e\\uf05d\\uf020n. [U] 流行，時裝，方式\\uf020\\uf063\\uf061\\uf073\\uf075\\uf061\\uf06c\\uf020\\uf05b\\uf060\\uf06b\\uf038\\uf05a\\uf055\\uf031\\uf06c\\uf05d\\uf020adj. 偶然的，臨時的；隨便的，非正式的（服裝）\\uf020 裝飾 \\uf064\\uf065\\uf063\\uf06f\\uf072\\uf061\\uf074\\uf069\\uf06f\\uf06e\\uf020\\uf05b\\uf026\\uf064\\uf045\\uf06b\\uf031\\uf060\\uf072\\uf065\\uf053\\uf031\\uf06e\\uf05d\\uf020n. [U] 裝飾；[C] 裝飾物\\uf020\\uf06a\\uf065\\uf077\\uf065\\uf06c\\uf020\\uf05b\\uf060\\uf064\\uf05a\\uf075\\uf031\\uf06c\\uf05d\\uf020n. [C] 寶石，珠寶，可貴之物\\uf020\\uf070\\uf065\\uf061\\uf072\\uf06c\\uf020\\uf05b\\uf070\\uf033\\uf06c\\uf05d\\uf020n. [C/U] 珍珠\\uf020\\uf062\\uf072\\uf061\\uf063\\uf065\\uf06c\\uf065\\uf074\\uf020\\uf05b\\uf060\\uf062\\uf072\\uf065\\uf073\\uf06c\\uf049\\uf074\\uf05d\\uf020n. [C] 手鐲\\uf020\\uf06c\\uf069\\uf070\\uf073\\uf074\\uf069\\uf063\\uf06b\\uf020\\uf05b\\uf060\\uf06c\\uf049\\uf070\\uf026\\uf073\\uf074\\uf049\\uf06b\\uf05d\\uf020n. [C/U] 口紅\\uf020\\uf070\\uf065\\uf072\\uf066\\uf075\\uf06d\\uf065\\uf020\\uf05b\\uf060\\uf070\\uf033\\uf066\\uf06a\\uf075\\uf06d\\uf05d\\uf020n. [U] 香水\\uf020\\uf063\\uf06f\\uf06c\\uf06c\\uf065\\uf063\\uf074\\uf069\\uf06f\\uf06e\\uf020\\uf05b\\uf06b\\uf031\\uf060\\uf06c\\uf045\\uf06b\\uf053\\uf031\\uf06e\\uf05d\\uf020n. [C] 蒐集物\\uf020\\uf06c\\uf075\\uf078\\uf075\\uf072\\uf079\\uf020\\uf05b\\uf060\\uf06c\\uf05e\\uf06b\\uf053\\uf031\\uf072\\uf049\\uf05d\\uf020n. [C] 奢侈品； [U] 奢侈，奢侈的享受\\uf020 居住 \\uf063\\uf061\\uf062\\uf069\\uf06e\\uf020\\uf05b\\uf060\\uf06b\\uf038\\uf062\\uf049\\uf06e\\uf05d\\uf020n. [C] 小木屋，船艙，機艙\\uf020\\uf065\\uf06e\\uf074\\uf072\\uf079\\uf020\\uf05b\\uf060\\uf045\\uf06e\\uf074\\uf072\\uf049\\uf05d\\uf020n. [U] 進入，進入權，入口\\uf020\\uf063\\uf06f\\uf06c\\uf075\\uf06d\\uf06e\\uf020\\uf05b\\uf060\\uf06b\\uf041\\uf06c\\uf031\\uf06d\\uf05d\\uf020n. 圓柱，縱列，專欄\\uf020\\uf063\\uf068\\uf069\\uf06d\\uf06e\\uf065\\uf079\\uf020\\uf05b\\uf060\\uf074\\uf053\\uf049\\uf06d\\uf06e\\uf049\\uf05d\\uf020n. [C] 煙囪\\uf020\\uf066\\uf069\\uf072\\uf065\\uf070\\uf06c\\uf061\\uf063\\uf065\\uf020\\uf05b\\uf060\\uf066\\uf061\\uf049\\uf072\\uf026\\uf070\\uf06c\\uf065\\uf073\\uf05d\\uf020n. [C] 壁爐\\uf020\\uf063\\uf061\\uf062\\uf069\\uf06e\\uf065\\uf074\\uf020\\uf05b\\uf060\\uf06b\\uf038\\uf062\\uf049\\uf06e\\uf031\\uf074\\uf05d\\uf020n. [C] 櫥櫃；內閣\\uf020\\uf063\\uf06f\\uf075\\uf063\\uf068\\uf020\\uf05b\\uf06b\\uf061\\uf055\\uf074\\uf053\\uf05d\\uf020n. 長沙發\\uf020\\uf06b\\uf06e\\uf06f\\uf062\\uf020\\uf05b\\uf06e\\uf041\\uf062\\uf05d\\uf020n. [C] 門把\\uf020\\uf066\\uf072\\uf061\\uf06d\\uf065\\uf020\\uf05b\\uf066\\uf072\\uf065\\uf06d\\uf05d\\uf020n. [C] 框架；vt. 裝框\\uf020\\uf066\\uf075\\uf072\\uf06e\\uf069\\uf073\\uf068\\uf020\\uf05b\\uf060\\uf066\\uf033\\uf06e\\uf049\\uf053\\uf05d\\uf020vt. 配備傢俱，提供\\uf020\\uf066\\uf075\\uf072\\uf06e\\uf069\\uf074\\uf075\\uf072\\uf065\\uf020\\uf05b\\uf060\\uf066\\uf033\\uf06e\\uf049\\uf074\\uf053\\uf032\\uf05d\\uf020n. [U] 傢俱\\uf020\\uf073\\uf074\\uf075\\uf066\\uf066\\uf020\\uf05b\\uf073\\uf074\\uf05e\\uf066\\uf05d\\uf020n. [U] 東西；vt. 塞滿\\uf020\\uf065\\uf073\\uf073\\uf065\\uf06e\\uf074\\uf069\\uf061\\uf06c\\uf020\\uf05b\\uf049\\uf060\\uf073\\uf045\\uf06e\\uf053\\uf031\\uf06c\\uf05d\\uf020adj. 必需的，不可或缺的； n. [C] (usu. pl.) 必需品，不可或缺的東西\\uf020\\uf06e\\uf065\\uf063\\uf065\\uf073\\uf073\\uf069\\uf074\\uf079\\uf020\\uf05b\\uf06e\\uf031\\uf060\\uf073\\uf045\\uf073\\uf031\\uf026\\uf074\\uf049\\uf05d\\uf020n. [U] 需要，必要；[C] （生活）必需品\\uf020\\x0c;\\n\\nchore [tfor] n. [C]\\nmop [map] n. [C]\\nbroom Cbrum] n. [C)\\njunk\\n[d3A0k] n. [U)\\nmess [me]\\ntidy\\ncleaning\\n\\n(klin10]\\n\\nn. [U)\\n\\nn. [C] (usu. sing.)\\nvi.\\n\\n\\'\\n\\n; •ft. (infml.)\\n\\n\\'\\n\\nadj.\\n\\nbasin Cbeslj n. [C]\\ntap [tæp] n.\\nhose [hoz] n.\\ntub [tAb] n.\\n\\n\\'\\n\\n; •n.\\n\\n;\\n\\nCræm-pu] n. [U]\\n\\nClofan]\\n\\nn.\\n\\nn. [C]\\n\\n; [U)\\n\\nlotion\\n\\ntissue\\n\\nlocation\\n\\nn. [C]\\n\\nSite\\n\\nn.\\n\\n,\\n\\n,\\n\\n\\'\\n\\n\\'\\n\\nn. [C]\\n\\nCnebæ,hud] n. [C]\\n\\nn. [C]\\n\\n\\'\\n\\n[\\'sA,b3\\'b]\\n\\n[rfmot]\\nCaut,dor]\\n\\nn. [C]\\n[ka-mjunatl]\\n\\nsatellite\\nneighborhood\\nsuburb\\ncommunity\\nremote\\noutdoor\\nshelter\\nskyscraper Cskal,skrepa•] n. [C]\\nlobby\\ncounter\\naquarium [a kwerpm]\\n\\n(kaunt»]\\n\\n(labl]\\n\\nn. [C]\\n\\nn. [C]\\n\\nn. [C]\\n\\nadj.\\n\\nadj.\\n\\nn. [U)\\n\\nnursery\\n\\nn.\\n\\n; vt.\\n\\n\\'\\n\\n\\'\\n\\n\\'\\n\\n11  \\uf063\\uf068\\uf06f\\uf072\\uf065\\uf020\\uf05b\\uf074\\uf053\\uf04f\\uf072\\uf05d n. [C] 雜務\\uf020\\uf06d\\uf06f\\uf070\\uf020\\uf05b\\uf06d\\uf041\\uf070\\uf05d\\uf020n. [C] 拖把；vt. 用拖把拖\\uf020\\uf062\\uf072\\uf06f\\uf06f\\uf06d\\uf020\\uf05b\\uf062\\uf072\\uf075\\uf06d\\uf05d\\uf020n. [C] 掃把\\uf020\\uf06a\\uf075\\uf06e\\uf06b\\uf020\\uf05b\\uf064\\uf05a\\uf05e\\uf039\\uf06b\\uf05d\\uf020n. [U] 垃圾\\uf020\\uf06d\\uf065\\uf073\\uf073\\uf020\\uf05b\\uf06d\\uf045\\uf073\\uf05d\\uf020n. [C] (usu. sing.) 雜亂，髒亂；vt. (infml.) 使雜亂，弄髒\\uf020\\uf074\\uf069\\uf064\\uf079\\uf020\\uf05b\\uf060\\uf074\\uf061\\uf049\\uf064\\uf049\\uf05d\\uf020vi. 收拾，整理；adj. 整潔的\\uf020\\uf063\\uf06c\\uf065\\uf061\\uf06e\\uf069\\uf06e\\uf067\\uf020\\uf05b\\uf060\\uf06b\\uf06c\\uf069\\uf06e\\uf049\\uf039\\uf05d\\uf020n. [U] 打掃\\uf020 衛浴 \\uf062\\uf061\\uf073\\uf069\\uf06e\\uf020\\uf05b\\uf060\\uf062\\uf065\\uf073\\uf04e\\uf05d\\uf020n. [C] 洗臉盆，盆地\\uf020\\uf074\\uf061\\uf070\\uf020\\uf05b\\uf074\\uf038\\uf070\\uf05d\\uf020n. [C] 水龍頭；vt. 輕拍；vi. 輕敲\\uf020\\uf068\\uf06f\\uf073\\uf065\\uf020\\uf05b\\uf068\\uf06f\\uf07a\\uf05d\\uf020n. [C] 水管；vt. 用水管澆水、沖洗\\uf020\\uf074\\uf075\\uf062\\uf020\\uf05b\\uf074\\uf05e\\uf062\\uf05d\\uf020n. [C] 澡盆，浴缸\\uf020\\uf073\\uf068\\uf061\\uf06d\\uf070\\uf06f\\uf06f\\uf020\\uf05b\\uf053\\uf038\\uf06d\\uf060\\uf070\\uf075\\uf05d\\uf020n. [U] 洗髮精\\uf020\\uf06c\\uf06f\\uf074\\uf069\\uf06f\\uf06e\\uf020\\uf05b\\uf060\\uf06c\\uf06f\\uf053\\uf031\\uf06e\\uf05d\\uf020n. [U/C] 乳液\\uf020\\uf074\\uf069\\uf073\\uf073\\uf075\\uf065\\uf020\\uf05b\\uf060\\uf074\\uf049\\uf053\\uf075\\uf05d\\uf020n. [C] 衛生紙；[U] 動植物的組織\\uf020 地點 \\uf06c\\uf06f\\uf063\\uf061\\uf074\\uf069\\uf06f\\uf06e\\uf020\\uf05b\\uf06c\\uf06f\\uf060\\uf06b\\uf065\\uf053\\uf031\\uf06e\\uf05d\\uf020n. [C] 地點，位置\\uf020\\uf073\\uf069\\uf074\\uf065\\uf020\\uf05b\\uf073\\uf061\\uf049\\uf074\\uf05d\\uf020n. [C] 位置，地點，網站；vt. 使坐落在\\uf020\\uf073\\uf061\\uf074\\uf065\\uf06c\\uf06c\\uf069\\uf074\\uf065\\uf020\\uf05b\\uf060\\uf073\\uf038\\uf074\\uf04c\\uf026\\uf06c\\uf061\\uf049\\uf074\\uf05d\\uf020n. [C] 衛星，衛星城市\\uf020\\uf06e\\uf065\\uf069\\uf067\\uf068\\uf062\\uf06f\\uf072\\uf068\\uf06f\\uf06f\\uf064\\uf020\\uf05b\\uf060\\uf06e\\uf065\\uf062\\uf032\\uf026\\uf068\\uf035\\uf064\\uf05d\\uf020n. [C] 鄰近地區\\uf020\\uf073\\uf075\\uf062\\uf075\\uf072\\uf062\\uf020\\uf05b\\uf060\\uf073\\uf05e\\uf026\\uf062\\uf033\\uf062\\uf05d\\uf020n. [C] 郊區\\uf020\\uf063\\uf06f\\uf06d\\uf06d\\uf075\\uf06e\\uf069\\uf074\\uf079\\uf020\\uf05b\\uf06b\\uf031\\uf060\\uf06d\\uf06a\\uf075\\uf06e\\uf031\\uf074\\uf049\\uf05d\\uf020n. [C] 社區，…界\\uf020\\uf072\\uf065\\uf06d\\uf06f\\uf074\\uf065\\uf020\\uf05b\\uf072\\uf049\\uf060\\uf06d\\uf06f\\uf074\\uf05d\\uf020adj. 遙遠的，偏僻的，久遠的\\uf020\\uf06f\\uf075\\uf074\\uf064\\uf06f\\uf06f\\uf072\\uf020\\uf05b\\uf060\\uf061\\uf055\\uf074\\uf026\\uf064\\uf04f\\uf072\\uf05d\\uf020adj. 戶外的，露天的\\uf020\\uf073\\uf068\\uf065\\uf06c\\uf074\\uf065\\uf072\\uf020\\uf05b\\uf060\\uf053\\uf045\\uf06c\\uf074\\uf032\\uf05d\\uf020n. [U] 庇護，(暫時的) 住所；vt. 庇護，掩護\\uf020\\uf073\\uf06b\\uf079\\uf073\\uf063\\uf072\\uf061\\uf070\\uf065\\uf072\\uf020\\uf05b\\uf060\\uf073\\uf06b\\uf061\\uf049\\uf026\\uf073\\uf06b\\uf072\\uf065\\uf070\\uf032\\uf05d\\uf020n. [C] 摩天大樓\\uf020\\uf06c\\uf06f\\uf062\\uf062\\uf079\\uf020\\uf05b\\uf060\\uf06c\\uf041\\uf062\\uf049\\uf05d\\uf020n. [C] 大廳\\uf020\\uf063\\uf06f\\uf075\\uf06e\\uf074\\uf065\\uf072\\uf020\\uf05b\\uf060\\uf06b\\uf061\\uf035\\uf06e\\uf074\\uf032\\uf05d\\uf020n. [C] 櫃檯\\uf020\\uf061\\uf071\\uf075\\uf061\\uf072\\uf069\\uf075\\uf06d\\uf020\\uf05b\\uf031\\uf060\\uf06b\\uf077\\uf045\\uf072\\uf049\\uf031\\uf06d\\uf05d\\uf020n. [C] 水族館，水族箱\\uf020\\uf06e\\uf075\\uf072\\uf073\\uf065\\uf072\\uf079\\uf020\\uf05b\\uf060\\uf06e\\uf033\\uf073\\uf031\\uf072\\uf049\\uf05d\\uf020n. [C] 托兒所，育嬰室\\uf020\\x0c(faun m] n. [C]\\n\\nfountain\\nbarrier Cbærl.>] n. [C]\\nmemorial\\n\\n[ma-moæl]\\n\\n\\'\\n\\n\\'\\nn. [C]\\n\\n;\\n\\n\\'\\n; adj.\\n\\n\\'\\nn. [C]\\n( GÉ)\\n\\n\\'\\n\\nn.[C]\\n\\nrotamabil]\\n\\npedal\\nhelmet ChElm1t] n. [C)\\nautomobile\\nshuttle Cfat!] n.\\nengine CEd3m] n.\\nmotor\\nn.\\nbrake [brek] n. [C]\\n\\n[-motö]\\n\\n,\\n\\n[d3Et] n. [C]\\n\\n[tlA0k] n. [C]\\n\\ntrunk\\ncarriage [\\'kær1d3] n. [C]\\nwagon [Awegan] n. [C]\\nsledge [slEd3] n. [C]\\njet\\nhelicopter ÜhE11,kapt»] n. [C]\\nPilot\\nn. [U)\\nradar Credo:]\\ncabin Ckæbm] n. [C)\\ncanoe [ka-nu]\\nn. [C]\\n\\n(pall-ot] n.\\n\\n,\\n\\n\\'\\n\\n,\\n\\n\\'\\n\\nfives!] n. [C]\\n\\nvessel\\ndeck [dek] n. [Cl\\n\\n\\'\\n\\n\\'\\n\\nn. [C]/vi.\\nvt.\\n\\n;\\n\\n[bntn\\n\\n; n.\\n\\nvoyage\\nlaunch\\n\\nharbor\\n\\ntransportation\\n\\n[,trænsp-tefan]\\n\\nn. [U)\\n\\n12  \\uf064\\uf075\\uf06d\\uf070\\uf020\\uf05b\\uf064\\uf05e\\uf06d\\uf070\\uf05d\\uf020vt. 丟棄，甩掉（人）；n. [C] 垃圾場\\uf020\\uf066\\uf06f\\uf075\\uf06e\\uf074\\uf061\\uf069\\uf06e\\uf020\\uf05b\\uf060\\uf066\\uf061\\uf055\\uf06e\\uf074\\uf04e\\uf05d\\uf020n. [C] 噴泉，噴水池\\uf020\\uf062\\uf061\\uf072\\uf072\\uf069\\uf065\\uf072\\uf020\\uf05b\\uf060\\uf062\\uf038\\uf072\\uf049\\uf032\\uf05d\\uf020n. [C] 柵欄，屏障；障礙，妨礙\\uf020\\uf06d\\uf065\\uf06d\\uf06f\\uf072\\uf069\\uf061\\uf06c\\uf020\\uf05b\\uf06d\\uf031\\uf060\\uf06d\\uf06f\\uf072\\uf049\\uf031\\uf06c\\uf05d\\uf020n. [C] 紀念碑；adj. 紀念的\\uf020 交通 《工具》 \\uf070\\uf065\\uf064\\uf061\\uf06c\\uf020\\uf05b\\uf060\\uf070\\uf045\\uf064\\uf04c\\uf05d\\uf020n. [C] 踏板；vi. 騎自行車\\uf020\\uf068\\uf065\\uf06c\\uf06d\\uf065\\uf074\\uf020\\uf05b\\uf060\\uf068\\uf045\\uf06c\\uf06d\\uf049\\uf074\\uf05d\\uf020n. [C] 頭盔，安全帽\\uf020\\uf061\\uf075\\uf074\\uf06f\\uf06d\\uf06f\\uf062\\uf069\\uf06c\\uf065\\uf020\\uf05b\\uf060\\uf04f\\uf074\\uf031\\uf06d\\uf031\\uf062\\uf069\\uf06c\\uf05d\\uf020n. [C] 汽車\\uf020\\uf073\\uf068\\uf075\\uf074\\uf074\\uf06c\\uf065\\uf020\\uf05b\\uf060\\uf053\\uf05e\\uf074\\uf04c\\uf05d\\uf020n. 梭子，（往返）交通車\\uf020\\uf065\\uf06e\\uf067\\uf069\\uf06e\\uf065\\uf020\\uf05b\\uf060\\uf045\\uf064\\uf05a\\uf049\\uf06e\\uf05d\\uf020n. 引擎\\uf020\\uf06d\\uf06f\\uf074\\uf06f\\uf072\\uf020\\uf05b\\uf060\\uf06d\\uf06f\\uf074\\uf032\\uf05d\\uf020n. 馬達\\uf020\\uf062\\uf072\\uf061\\uf06b\\uf065\\uf020\\uf05b\\uf062\\uf072\\uf065\\uf06b\\uf05d\\uf020n. [C] 煞車\\uf020\\uf068\\uf06f\\uf072\\uf06e\\uf020\\uf05b\\uf068\\uf04f\\uf072\\uf06e\\uf05d\\uf020n. （動物的）角，號角，（汽車的）喇叭\\uf020\\uf074\\uf072\\uf075\\uf06e\\uf06b\\uf020\\uf05b\\uf074\\uf072\\uf05e\\uf039\\uf06b\\uf05d\\uf020n. [C] 後車廂，象鼻，樹幹\\uf020\\uf063\\uf061\\uf072\\uf072\\uf069\\uf061\\uf067\\uf065\\uf020\\uf05b\\uf060\\uf06b\\uf038\\uf072\\uf049\\uf064\\uf05a\\uf05d\\uf020n. [C] 馬車\\uf020\\uf077\\uf061\\uf067\\uf06f\\uf06e\\uf020\\uf05b\\uf060\\uf077\\uf065\\uf047\\uf031\\uf06e\\uf05d\\uf020n. [C] 運貨馬車\\uf020\\uf073\\uf06c\\uf065\\uf064\\uf067\\uf065\\uf020\\uf05b\\uf073\\uf06c\\uf045\\uf064\\uf05a\\uf05d\\uf020n. [C] 雪橇\\uf020\\uf06a\\uf065\\uf074\\uf020\\uf05b\\uf064\\uf05a\\uf045\\uf074\\uf05d\\uf020n. [C] 嗔射機\\uf020\\uf068\\uf065\\uf06c\\uf069\\uf063\\uf06f\\uf070\\uf074\\uf065\\uf072\\uf020\\uf05b\\uf060\\uf068\\uf045\\uf06c\\uf049\\uf026\\uf06b\\uf041\\uf070\\uf074\\uf032\\uf05d\\uf020n. [C] 直昇機\\uf020\\uf070\\uf069\\uf06c\\uf06f\\uf074\\uf020\\uf05b\\uf060\\uf070\\uf061\\uf049\\uf06c\\uf031\\uf074\\uf05d\\uf020n. 飛行員，舵手；vt. 駕駛（飛機）\\uf020\\uf072\\uf061\\uf064\\uf061\\uf072\\uf020\\uf05b\\uf060\\uf072\\uf065\\uf064\\uf041\\uf072\\uf05d\\uf020n. [U] 雷達\\uf020\\uf063\\uf061\\uf062\\uf069\\uf06e\\uf020\\uf05b\\uf060\\uf06b\\uf038\\uf062\\uf049\\uf06e\\uf05d\\uf020n. [C] 小木屋，船艙，機艙\\uf020\\uf063\\uf061\\uf06e\\uf06f\\uf065\\uf020\\uf05b\\uf06b\\uf031\\uf060\\uf06e\\uf075\\uf05d\\uf020n. [C] 獨木舟\\uf020\\uf066\\uf065\\uf072\\uf072\\uf079\\uf020\\uf05b\\uf060\\uf066\\uf045\\uf072\\uf049\\uf05d\\uf020n. [C] 渡輪；vt. （搭渡輪）渡過\\uf020\\uf076\\uf065\\uf073\\uf073\\uf065\\uf06c\\uf020\\uf05b\\uf060\\uf076\\uf045\\uf073\\uf04c\\uf05d\\uf020n. [C] 船艦，容器，血管 \\uf020\\uf064\\uf065\\uf063\\uf06b\\uf020\\uf05b\\uf064\\uf045\\uf06b\\uf05d\\uf020n. [C] 甲板\\uf020\\uf076\\uf06f\\uf079\\uf061\\uf067\\uf065\\uf020\\uf05b\\uf060\\uf076\\uf04f\\uf049\\uf064\\uf05a\\uf05d\\uf020n. [C] / vi. 航海，航行\\uf020\\uf06c\\uf061\\uf075\\uf06e\\uf063\\uf068\\uf020\\uf05b\\uf06c\\uf04f\\uf06e\\uf074\\uf053\\uf05d\\uf020vt. 使船下水；發起，發動；n. [C] 發起，發動\\uf020\\uf068\\uf061\\uf072\\uf062\\uf06f\\uf072\\uf020\\uf05b\\uf060\\uf068\\uf041\\uf072\\uf062\\uf032\\uf05d\\uf020n. [C] 港口\\uf020《其他》 \\uf074\\uf072\\uf061\\uf06e\\uf073\\uf070\\uf06f\\uf072\\uf074\\uf061\\uf074\\uf069\\uf06f\\uf06e\\uf020\\uf05b\\uf026\\uf074\\uf072\\uf038\\uf06e\\uf073\\uf070\\uf032\\uf060\\uf074\\uf065\\uf053\\uf031\\uf06e\\uf05d\\uf020n. [U] 交通運輸\\uf020\\x0ctransport\\ncarrier\\n\\n[træns-port]\\n[•kærræ] n. [C]\\n\\n[U)\\n\\'\\n\\n\\'\\n\\n;\\n\\ntow\\n\\naboard\\n\\nlicense\\n\\nprep. adv.\\n\\n±\\n\\nfuel Cfjual] n.\\n;\\ngasoline Cgæsa,lin] n. CLT]\\nexhaust\\n\\nft.\\n\\nroute\\n\\n[rut] n. [C]\\n\\navenue\\n\\nn.\\n\\n;\\n\\ngas)\\n\\n; n.\\n\\nn. [C]\\n\\ntrail\\npassage Cpæs1d3] n.\\nunderpass\\naccident Üæksadant]\\nbang\\nn.\\nbump [bAmp]\\nn.\\ncrash [kræn\\n\\n•ft.\\n\\nwreck\\n\\n;\\n\\n\\' —Z (2-3-)\\n\\nn. [C]\\n\\n;\\n\\n,\\n\\n,\\n\\n; vi.\\n\\nn. [C]\\n\\nn. [C]\\n\\n[a-kauntant]\\n\\nn. [C]\\n\\n[lafbænan]\\nCnavalrst]\\n\\naccountant\\nn. [C]\\ncarpenter Ckarpant»]\\nhairdresser Cher ,dresa•] n. [C)\\nlibrarian\\nnovelist\\nlifeguard Clarf,gard] n. [C]\\npianist\\nn. [C]\\nconductor\\n[kan-dAkt»]\\nsalesperson [\\'selzpslfl\\nspy [spar] n. [C]\\ndetective\\n\\n; vi.\\n[dÜtEkt1V] n. [C]\\n\\n[pfæmst]\\n\\nn. [C) æ4)\\nn. [C]\\n\\n\\'\\n\\n\\'\\n\\n\\'\\n\\nteller\\n\\n; adj.\\n\\n13  \\uf074\\uf072\\uf061\\uf06e\\uf073\\uf070\\uf06f\\uf072\\uf074\\uf020\\uf05b\\uf074\\uf072\\uf038\\uf06e\\uf073\\uf060\\uf070\\uf04f\\uf072\\uf074\\uf05d\\uf020vt. / n. [U] 運送，運輸\\uf020\\uf063\\uf061\\uf072\\uf072\\uf069\\uf065\\uf072\\uf020\\uf05b\\uf060\\uf06b\\uf038\\uf072\\uf049\\uf032\\uf05d n. [C] 運輸公司，運送者；帶原者\\uf020\\uf074\\uf06f\\uf077\\uf020\\uf05b\\uf074\\uf06f\\uf05d\\uf020vt. （用工具車）拖曳（車輛）\\uf020\\uf061\\uf062\\uf06f\\uf061\\uf072\\uf064\\uf020\\uf05b\\uf031\\uf060\\uf062\\uf06f\\uf072\\uf064\\uf05d\\uf020prep. / adv. 在（車、船或飛機）上\\uf020\\uf06c\\uf069\\uf063\\uf065\\uf06e\\uf073\\uf065\\uf020\\uf05b\\uf060\\uf06c\\uf061\\uf049\\uf073\\uf04e\\uf073\\uf05d\\uf020n. [C] 執照\\uf020\\uf066\\uf075\\uf065\\uf06c\\uf020\\uf05b\\uf060\\uf066\\uf06a\\uf075\\uf031\\uf06c\\uf05d\\uf020n. [C/U] 燃料；vi. 加燃料；vt. 激起\\uf020\\uf067\\uf061\\uf073\\uf06f\\uf06c\\uf069\\uf06e\\uf065\\uf020\\uf05b\\uf060\\uf047\\uf038\\uf073\\uf031\\uf026\\uf06c\\uf069\\uf06e\\uf05d\\uf020n. [U] 汽油（簡寫為gas）\\uf020\\uf065\\uf078\\uf068\\uf061\\uf075\\uf073\\uf074\\uf020\\uf05b\\uf049\\uf047\\uf060\\uf07a\\uf04f\\uf073\\uf074\\uf05d\\uf020vt. 耗盡，使筋疲力盡；n. [U] 廢氣\\uf020\\uf072\\uf06f\\uf075\\uf074\\uf065\\uf020\\uf05b\\uf072\\uf075\\uf074\\uf05d\\uf020n. [C] 路線\\uf020\\uf061\\uf076\\uf065\\uf06e\\uf075\\uf065\\uf020\\uf05b\\uf060\\uf038\\uf076\\uf031\\uf026\\uf06e\\uf06a\\uf075\\uf05d\\uf020n. [C] 大道，方法\\uf020\\uf074\\uf072\\uf061\\uf069\\uf06c\\uf020\\uf05b\\uf074\\uf072\\uf065\\uf06c\\uf05d\\uf020n. [C] 小徑；vt. 跟蹤，拖著\\uf020\\uf070\\uf061\\uf073\\uf073\\uf061\\uf067\\uf065\\uf020\\uf05b\\uf060\\uf070\\uf038\\uf073\\uf049\\uf064\\uf05a\\uf05d\\uf020n. 通道，一段（文字）\\uf020\\uf075\\uf06e\\uf064\\uf065\\uf072\\uf070\\uf061\\uf073\\uf073\\uf020\\uf05b\\uf060\\uf05e\\uf06e\\uf064\\uf032\\uf026\\uf070\\uf038\\uf073\\uf05d n. [C] 地下道\\uf020\\uf061\\uf063\\uf063\\uf069\\uf064\\uf065\\uf06e\\uf074\\uf020\\uf05b\\uf060\\uf038\\uf06b\\uf073\\uf031\\uf064\\uf031\\uf06e\\uf074\\uf05d 意外（尤指車禍）\\uf020\\uf062\\uf061\\uf06e\\uf067\\uf020\\uf05b\\uf062\\uf038\\uf039\\uf05d\\uf020n. 砰的一聲；vt. 猛然撞擊\\uf020\\uf062\\uf075\\uf06d\\uf070\\uf020\\uf05b\\uf062\\uf05e\\uf06d\\uf070\\uf05d\\uf020vt. 衝撞\\uf020\\uf063\\uf072\\uf061\\uf073\\uf068\\uf020\\uf05b\\uf06b\\uf072\\uf038\\uf053\\uf05d\\uf020n. [C] 破裂聲，撞擊聲，(車輛)相撞，(飛機)墜毀；vi. 墜落，撞擊\\uf020\\uf077\\uf072\\uf065\\uf063\\uf06b\\uf020\\uf05b\\uf072\\uf045\\uf06b\\uf05d\\uf020vt.毀壞；n. [C]（交通工具）失事，殘骸\\uf020 工作 《人》 \\uf061\\uf063\\uf063\\uf06f\\uf075\\uf06e\\uf074\\uf061\\uf06e\\uf074\\uf020\\uf05b\\uf031\\uf060\\uf06b\\uf061\\uf055\\uf06e\\uf074\\uf031\\uf06e\\uf074\\uf05d n. [C] 會計師\\uf020\\uf063\\uf061\\uf072\\uf070\\uf065\\uf06e\\uf074\\uf065\\uf072\\uf020\\uf05b\\uf060\\uf06b\\uf041\\uf072\\uf070\\uf031\\uf06e\\uf074\\uf032\\uf05d\\uf020n. [C] 木匠\\uf020\\uf068\\uf061\\uf069\\uf072\\uf064\\uf072\\uf065\\uf073\\uf073\\uf065\\uf072\\uf020\\uf05b\\uf060\\uf068\\uf045\\uf072\\uf026\\uf064\\uf072\\uf045\\uf073\\uf032\\uf05d\\uf020n. [C] 美髮師\\uf020\\uf06c\\uf069\\uf062\\uf072\\uf061\\uf072\\uf069\\uf061\\uf06e\\uf020\\uf05b\\uf06c\\uf061\\uf049\\uf060\\uf062\\uf072\\uf045\\uf072\\uf049\\uf031\\uf06e\\uf05d\\uf020n. [C] 圖書館員\\uf020\\uf06e\\uf06f\\uf076\\uf065\\uf06c\\uf069\\uf073\\uf074\\uf020\\uf05b\\uf060\\uf06e\\uf041\\uf076\\uf031\\uf06c\\uf049\\uf073\\uf074\\uf05d\\uf020n. [C] 小說家\\uf020\\uf06c\\uf069\\uf066\\uf065\\uf067\\uf075\\uf061\\uf072\\uf064\\uf020\\uf05b\\uf060\\uf06c\\uf061\\uf049\\uf066\\uf026\\uf047\\uf041\\uf072\\uf064\\uf05d\\uf020n. [C] 救生員\\uf020\\uf070\\uf069\\uf061\\uf06e\\uf069\\uf073\\uf074\\uf020\\uf05b\\uf070\\uf049\\uf060\\uf038\\uf06e\\uf049\\uf073\\uf074\\uf05d\\uf020n. [C] 鋼琴家\\uf020\\uf063\\uf06f\\uf06e\\uf064\\uf075\\uf063\\uf074\\uf06f\\uf072\\uf020\\uf05b\\uf06b\\uf031\\uf06e\\uf060\\uf064\\uf05e\\uf06b\\uf074\\uf032\\uf05d\\uf020n. [C] （樂團）指揮，列車長，導體\\uf020\\uf073\\uf061\\uf06c\\uf065\\uf073\\uf070\\uf065\\uf072\\uf073\\uf06f\\uf06e\\uf020\\uf05b\\uf060\\uf073\\uf065\\uf06c\\uf07a\\uf026\\uf070\\uf033\\uf073\\uf04e\\uf05d\\uf020n. [C] 推銷員，業務員\\uf020\\uf073\\uf070\\uf079\\uf020\\uf05b\\uf073\\uf070\\uf061\\uf049\\uf05d\\uf020n. [C] 間諜；vi. 偵察\\uf020\\uf064\\uf065\\uf074\\uf065\\uf063\\uf074\\uf069\\uf076\\uf065\\uf020\\uf05b\\uf064\\uf049\\uf060\\uf074\\uf045\\uf06b\\uf074\\uf049\\uf076\\uf05d\\uf020n. [C] 偵探；adj. 偵測的\\uf020\\uf074\\uf065\\uf06c\\uf06c\\uf065\\uf072\\uf020\\uf05b\\uf060\\uf074\\uf045\\uf06c\\uf032\\uf05d\\uf020n. [C] （銀行）出納員\\uf020\\x0cn. [C]\\n\\n(tjutö]\\n\\n[med] n. [C]\\n\\nn. [C]\\n[,vcllan-tn]\\n\\nnanny\\ntutor\\nvolunteer\\nmaid\\nmessenger C&n1Es1yi3ö]n. [C]\\npanel\\nstaff\\namateur Cæma,tfU1]\\nfull-time\\nsuperior\\nslave [siev] n.\\n\\n[\\'pænal] n. [C]\\n[stæt) n. [C] (usu.sing.)\\nn. [C]\\nadj. f adv.\\n\\n[,furtalm]\\n[s.-pma]\\n\\nadj.\\n\\n; vi.\\n\\n\\'\\n\\n\\'\\n\\'\\n\\n\\'\\n\\n\\'\\n\\n; ad\\'.\\n(Z)\\n; n.\\n\\n\\' _E*$\\n\\nnewcomer\\n\\nn. [C]\\n\\nn. [C]\\n\\ncareer\\nprofession [pra&fEfan] n. [C]\\ncharity\\n\\nn.[U]\\n\\n\\'\\n\\n; adj.\\n\\n(3*$)\\n; [O\\n\\nerrand\\n\\nn.\\n\\nn.\\n\\n[Sift] Vt.\\n\\n[u]\\n[lm&pbl] Vt.\\nit.\\n\\'.t.\\n\\nshift\\nlabor Clebö]\\nemploy\\nengage [m-ged3]\\ndevote\\ncooperate [ko-apa,ret]\\nit.\\n[m spEkt]\\n[dls-mrs] Vt.\\n\\n[dÜvot]\\n\\ndismiss\\nresign [rfzam]\\nretire\\ntransfer\\n\\n[II-tan]\\n\\nvi.\\n\\nvi.\\n\\n[træns&f$ Vt.f•d.\\n\\n\\'\\n\\n(Ret)\\n\\n; n. [C]\\n\\n\\'\\n\\n\\'\\n\\n; vi.\\n\\n\\'\\n\\nvi.\\n\\n\\'\\n\\n\\'\\n\\n; Vt.\\n\\n\\'\\n\\n;\\n( TN)\\n\\n\\'\\n\\n\\'\\n\\ncapital\\ncapitalism Ükæpatl Isam] n. [U]\\n\\nn [C]\\n\\n; adj.\\n\\n5E.FJ$\\n\\n14  \\uf06e\\uf061\\uf06e\\uf06e\\uf079\\uf020\\uf05b\\uf060\\uf06e\\uf038\\uf06e\\uf049\\uf05d\\uf020n. [C] 專業保姆，（兒語）奶奶\\uf020\\uf074\\uf075\\uf074\\uf06f\\uf072\\uf020\\uf05b\\uf060\\uf074\\uf06a\\uf075\\uf074\\uf032\\uf05d\\uf020n. [C] 家庭教師\\uf020\\uf076\\uf06f\\uf06c\\uf075\\uf06e\\uf074\\uf065\\uf065\\uf072\\uf020\\uf05b\\uf026\\uf076\\uf041\\uf06c\\uf031\\uf06e\\uf060\\uf074\\uf049\\uf072\\uf05d\\uf020n. [C] 志願者，志工；vi. 自願做… \\uf020\\uf06d\\uf061\\uf069\\uf064\\uf020\\uf05b\\uf06d\\uf065\\uf064\\uf05d\\uf020n. [C] 侍女\\uf020\\uf06d\\uf065\\uf073\\uf073\\uf065\\uf06e\\uf067\\uf065\\uf072\\uf020\\uf05b\\uf060\\uf06d\\uf045\\uf073\\uf04e\\uf064\\uf05a\\uf032\\uf05d\\uf020n. [C] 送信人，信差\\uf020\\uf070\\uf061\\uf06e\\uf065\\uf06c\\uf020\\uf05b\\uf060\\uf070\\uf038\\uf06e\\uf031\\uf06c\\uf05d n. [C] 專家小組，鑲板，嵌板，儀表板\\uf020\\uf073\\uf074\\uf061\\uf066\\uf066\\uf020\\uf05b\\uf073\\uf074\\uf038\\uf066\\uf05d\\uf020n. [C] (usu.sing.) 全體員工\\uf020\\uf061\\uf06d\\uf061\\uf074\\uf065\\uf075\\uf072\\uf020\\uf05b\\uf060\\uf038\\uf06d\\uf031\\uf026\\uf074\\uf053\\uf055\\uf072\\uf05d\\uf020n. [C] 業餘人士；adj. 業餘的\\uf020\\uf066\\uf075\\uf06c\\uf06c\\uf02d\\uf074\\uf069\\uf06d\\uf065\\uf020\\uf05b\\uf026\\uf066\\uf055\\uf06c\\uf060\\uf074\\uf061\\uf049\\uf06d\\uf05d\\uf020adj. / adv. 全職的（地）\\uf020\\uf073\\uf075\\uf070\\uf065\\uf072\\uf069\\uf06f\\uf072\\uf020\\uf05b\\uf073\\uf031\\uf060\\uf070\\uf049\\uf072\\uf049\\uf031\\uf05d\\uf020adj. 較優的，上等的；n. 上級長官\\uf020\\uf073\\uf06c\\uf061\\uf076\\uf065\\uf020\\uf05b\\uf073\\uf06c\\uf065\\uf076\\uf05d\\uf020n. [C] 奴隸 ；vi. 苦幹，辛勤的工作\\uf020\\uf06e\\uf065\\uf077\\uf063\\uf06f\\uf06d\\uf065\\uf072\\uf020\\uf05b\\uf06e\\uf06a\\uf075\\uf060\\uf06b\\uf05e\\uf06d\\uf032\\uf05d\\uf020n. [C] 新手\\uf020《事》 \\uf063\\uf061\\uf072\\uf065\\uf065\\uf072\\uf020\\uf05b\\uf06b\\uf031\\uf060\\uf072\\uf049\\uf072\\uf05d\\uf020n. [C] 事業，生涯；adj. 職業的\\uf020\\uf070\\uf072\\uf06f\\uf066\\uf065\\uf073\\uf073\\uf069\\uf06f\\uf06e\\uf020\\uf05b\\uf070\\uf072\\uf031\\uf060\\uf066\\uf045\\uf053\\uf031\\uf06e\\uf05d\\uf020n. [C] （專業的）職業\\uf020\\uf063\\uf068\\uf061\\uf072\\uf069\\uf074\\uf079\\uf020\\uf05b\\uf060\\uf074\\uf053\\uf038\\uf072\\uf031\\uf074\\uf049\\uf05d\\uf020n. [U] 慈善；[C] 慈善事業\\uf020\\uf065\\uf072\\uf072\\uf061\\uf06e\\uf064\\uf020\\uf05b\\uf060\\uf045\\uf072\\uf031\\uf06e\\uf064\\uf05d\\uf020n. [C] 差事\\uf020\\uf073\\uf068\\uf069\\uf066\\uf074\\uf020\\uf05b\\uf073\\uf049\\uf066\\uf074\\uf05d\\uf020vt. 轉移，改變；n. [C] 輪班\\uf020\\uf06c\\uf061\\uf062\\uf06f\\uf072\\uf020\\uf05b\\uf060\\uf06c\\uf065\\uf062\\uf032\\uf05d\\uf020\\uf06e\\uf02e\\uf020\\uf05b\\uf055\\uf05d\\uf020\\uf028體力\\uf029\\uf020勞動，分娩；vi. 埋頭苦幹，辛勤工作\\uf020\\uf065\\uf06d\\uf070\\uf06c\\uf06f\\uf079\\uf020\\uf05b\\uf049\\uf06d\\uf060\\uf070\\uf06c\\uf04f\\uf049\\uf05d\\uf020vt. 僱用，運用\\uf020\\uf065\\uf06e\\uf067\\uf061\\uf067\\uf065\\uf020\\uf05b\\uf049\\uf06e\\uf060\\uf047\\uf065\\uf064\\uf05a\\uf05d\\uf020vt. 使訂婚；vi. 從事，忙於\\uf020\\uf064\\uf065\\uf076\\uf06f\\uf074\\uf065\\uf020\\uf05b\\uf064\\uf049\\uf060\\uf076\\uf06f\\uf074\\uf05d\\uf020vt. 致力於\\uf020\\uf063\\uf06f\\uf06f\\uf070\\uf065\\uf072\\uf061\\uf074\\uf065\\uf020\\uf05b\\uf06b\\uf06f\\uf060\\uf041\\uf070\\uf031\\uf026\\uf072\\uf065\\uf074\\uf05d\\uf020vi. 合作\\uf020\\uf069\\uf06e\\uf073\\uf070\\uf065\\uf063\\uf074\\uf020\\uf05b\\uf049\\uf06e\\uf060\\uf073\\uf070\\uf045\\uf06b\\uf074\\uf05d\\uf020vt. 檢查，審視；視察，巡查\\uf020\\uf064\\uf069\\uf073\\uf06d\\uf069\\uf073\\uf073\\uf020\\uf05b\\uf064\\uf049\\uf073\\uf060\\uf06d\\uf049\\uf073\\uf05d vt. 去除，解散（下課），解職\\uf020\\uf072\\uf065\\uf073\\uf069\\uf067\\uf06e\\uf020\\uf05b\\uf072\\uf049\\uf060\\uf07a\\uf061\\uf049\\uf06e\\uf05d\\uf020vi. 辭職；vt. 順從\\uf020\\uf072\\uf065\\uf074\\uf069\\uf072\\uf065\\uf020\\uf05b\\uf072\\uf049\\uf060\\uf074\\uf061\\uf049\\uf072\\uf05d\\uf020vi. 退休，睡覺，休息\\uf020\\uf074\\uf072\\uf061\\uf06e\\uf073\\uf066\\uf065\\uf072\\uf020\\uf05b\\uf074\\uf072\\uf038\\uf06e\\uf073\\uf060\\uf066\\uf033\\uf05d\\uf020vt./vi. 調離，移轉； n. 調任\\uf020 商業 《錢》 \\uf063\\uf061\\uf070\\uf069\\uf074\\uf061\\uf06c\\uf020\\uf05b\\uf060\\uf06b\\uf038\\uf070\\uf031\\uf074\\uf04c\\uf05d\\uf020n. [C] 首都，[U]資本；adj. 大寫的，死刑的\\uf020\\uf063\\uf061\\uf070\\uf069\\uf074\\uf061\\uf06c\\uf069\\uf073\\uf06d\\uf020\\uf05b\\uf060\\uf06b\\uf038\\uf070\\uf031\\uf074\\uf04c\\uf026\\uf049\\uf073\\uf031\\uf06d\\uf05d n. [U] 資本主義\\uf020\\x0cadj.\\n\\n[brok]\\n\\nbankrupt Übæokmpt] adj.\\nbroke\\nprofitable\\ninflation\\nexæse\\n\\n(prafltab!]\\n[m&flefan]\\n[1k spens] n.\\n\\nadj.\\nn. [U)\\n\\n\\'\\n\\n,\\n\\n,\\n\\n[,best-selæ] n. [C]\\n\\nproduct CpradAkt] n. [C]\\nbest-seller\\nbargain (bargm]\\nn.\\ncargo Ckargo] n. [U)\\ngoods Cgudz] n. [pl]\\ngrocery (grosgrl] n. [C)\\nparcel\\ncatalogue\\navailable\\nfancy\\nvaluable Cvæljabl] adj.\\n\\n(pars!]\\n\\n(-%t)\\nn. [C]\\nad\\'.\\n\\n\\'\\n\\n; vi.\\n\\n(\\n\\ncatalog)\\n\\n,\\n\\n;\\n\\n\\' -fNÄä-$\\n\\n;\\n\\n;\\n\\n\\'\\n\\nn. [C]\\n\\n(klapnt]\\n\\nCm»tfant]\\nn.\\n\\nmerchant\\nclient\\nmembership\\nn. [C]\\naccount\\npartnership\\nr partnæ,flp]\\nagency Ced3ans1] n. [C]\\nman\\n\\n[a-kaunt]\\n\\n\\'\\n\\n\\'\\n\\n,\\n\\nn.\\n\\'\\n\\nn. [VIC]\\n\\n\\'\\n\\nchain\\nheadquarters ChEd,kwoftæz] n. [C] (abbr.AQ) (pl. headquarters)\\n\\nn.\\n\\n;\\n\\nvi.,/vt.\\n\\n[In-vest]\\n\\n[pra-dAkfan]\\n\\ninvest\\nproduction\\nmanufacture\\nimport\\nmanage rmæmd3] Vt.\\nincorporate\\n\\nn.\\n[ mænja•fæktf»]\\n; n.\\n\\n[m -korpa ret] Vt.\\n\\nn.\\n\\n;\\nlvt.\\n\\n\\'\\n\\n15  \\uf062\\uf061\\uf06e\\uf06b\\uf072\\uf075\\uf070\\uf074\\uf020\\uf05b\\uf060\\uf062\\uf038\\uf039\\uf06b\\uf072\\uf05e\\uf070\\uf074\\uf05d adj. 破產的\\uf020\\uf062\\uf072\\uf06f\\uf06b\\uf065\\uf020\\uf05b\\uf062\\uf072\\uf06f\\uf06b\\uf05d\\uf020adj. 一文不名的，破產的\\uf020\\uf070\\uf072\\uf06f\\uf066\\uf069\\uf074\\uf061\\uf062\\uf06c\\uf065\\uf020\\uf05b\\uf060\\uf070\\uf072\\uf041\\uf066\\uf049\\uf074\\uf031\\uf062\\uf04c\\uf05d\\uf020adj. 有利潤的\\uf020\\uf069\\uf06e\\uf066\\uf06c\\uf061\\uf074\\uf069\\uf06f\\uf06e\\uf020\\uf05b\\uf049\\uf06e\\uf060\\uf066\\uf06c\\uf065\\uf053\\uf031\\uf06e\\uf05d\\uf020n. [U] 通貨膨脹，物價上漲\\uf020\\uf065\\uf078\\uf070\\uf065\\uf06e\\uf073\\uf065\\uf020\\uf05b\\uf049\\uf06b\\uf060\\uf073\\uf070\\uf045\\uf06e\\uf073\\uf05d\\uf020n. 花費，費用，代價\\uf020《貨》 \\uf070\\uf072\\uf06f\\uf064\\uf075\\uf063\\uf074\\uf020\\uf05b\\uf060\\uf070\\uf072\\uf041\\uf064\\uf05e\\uf06b\\uf074\\uf05d\\uf020n. [C] 產品，成果，結果\\uf020\\uf062\\uf065\\uf073\\uf074\\uf02d\\uf073\\uf065\\uf06c\\uf06c\\uf065\\uf072\\uf020\\uf05b\\uf026\\uf062\\uf045\\uf073\\uf074\\uf060\\uf073\\uf045\\uf06c\\uf032\\uf05d\\uf020n. [C] 暢銷貨（尤指書）\\uf020\\uf062\\uf061\\uf072\\uf067\\uf061\\uf069\\uf06e\\uf020\\uf05b\\uf060\\uf062\\uf041\\uf072\\uf067\\uf049\\uf06e\\uf05d\\uf020n. 划算品；vi. 討價還價\\uf020\\uf063\\uf061\\uf072\\uf067\\uf06f\\uf020\\uf05b\\uf060\\uf06b\\uf041\\uf072\\uf047\\uf06f\\uf05d\\uf020n. [U] 貨物\\uf020\\uf067\\uf06f\\uf06f\\uf064\\uf073\\uf020\\uf05b\\uf060\\uf047\\uf055\\uf064\\uf07a\\uf05d\\uf020n. [pl] 貨品\\uf020\\uf067\\uf072\\uf06f\\uf063\\uf065\\uf072\\uf079\\uf020\\uf05b\\uf060\\uf047\\uf072\\uf06f\\uf073\\uf031\\uf072\\uf049\\uf05d\\uf020n. [C] 食品雜貨\\uf020\\uf070\\uf061\\uf072\\uf063\\uf065\\uf06c\\uf020\\uf05b\\uf060\\uf070\\uf041\\uf072\\uf073\\uf04c\\uf05d\\uf020n. [C] （英式）包裹（美式為package）\\uf020\\uf063\\uf061\\uf074\\uf061\\uf06c\\uf06f\\uf067\\uf075\\uf065\\uf020\\uf05b\\uf060\\uf06b\\uf038\\uf074\\uf04c\\uf026\\uf04f\\uf047\\uf05d\\uf020n. [C] （商品）型錄 (= catalog)\\uf020\\uf061\\uf076\\uf061\\uf069\\uf06c\\uf061\\uf062\\uf06c\\uf065\\uf020\\uf05b\\uf031\\uf060\\uf076\\uf065\\uf06c\\uf031\\uf062\\uf04c\\uf05d\\uf020adj. 可購得的，可利用的，有空的\\uf020\\uf066\\uf061\\uf06e\\uf063\\uf079\\uf020\\uf05b\\uf060\\uf066\\uf038\\uf06e\\uf073\\uf049\\uf05d\\uf020adj. 別緻的，昂貴的；n. [U] 愛好，想像力；vt. 想像\\uf020\\uf076\\uf061\\uf06c\\uf075\\uf061\\uf062\\uf06c\\uf065\\uf020\\uf05b\\uf060\\uf076\\uf038\\uf06c\\uf06a\\uf031\\uf062\\uf04c\\uf05d\\uf020adj. 很有用的，很重要的；貴重的，有價值的\\uf020《對象、機構》 \\uf06d\\uf065\\uf072\\uf063\\uf068\\uf061\\uf06e\\uf074\\uf020\\uf05b\\uf060\\uf06d\\uf032\\uf074\\uf053\\uf031\\uf06e\\uf074\\uf05d\\uf020n. [C] 商人\\uf020\\uf063\\uf06c\\uf069\\uf065\\uf06e\\uf074\\uf020\\uf05b\\uf060\\uf06b\\uf06c\\uf061\\uf049\\uf031\\uf06e\\uf074\\uf05d\\uf020n. 客戶\\uf020\\uf06d\\uf065\\uf06d\\uf062\\uf065\\uf072\\uf073\\uf068\\uf069\\uf070\\uf020\\uf05b\\uf060\\uf06d\\uf045\\uf06d\\uf062\\uf032\\uf026\\uf053\\uf049\\uf070\\uf05d\\uf020n. 會員身份\\uf020\\uf061\\uf063\\uf063\\uf06f\\uf075\\uf06e\\uf074\\uf020\\uf05b\\uf031\\uf060\\uf06b\\uf061\\uf035\\uf06e\\uf074\\uf05d\\uf020n. [C] 帳號，帳戶，理由，報導；vi. 說明、解釋\\uf020\\uf070\\uf061\\uf072\\uf074\\uf06e\\uf065\\uf072\\uf073\\uf068\\uf069\\uf070\\uf020\\uf05b\\uf060\\uf070\\uf041\\uf072\\uf074\\uf06e\\uf032\\uf026\\uf053\\uf049\\uf070\\uf05d\\uf020n. [U/C] 合夥關係\\uf020\\uf061\\uf067\\uf065\\uf06e\\uf063\\uf079\\uf020\\uf05b\\uf060\\uf065\\uf064\\uf05a\\uf031\\uf06e\\uf073\\uf049\\uf05d\\uf020n. [C] 經銷機構，代理機構\\uf020\\uf06d\\uf061\\uf06c\\uf06c\\uf020\\uf05b\\uf06d\\uf04f\\uf06c\\uf05d\\uf020n. [C] 大型購物中心\\uf020\\uf063\\uf068\\uf061\\uf069\\uf06e\\uf020\\uf05b\\uf034\\uf065\\uf06e\\uf05d\\uf020n. [C] 鏈條，連鎖店；vt. 拴住，鎖住\\uf020\\uf068\\uf065\\uf061\\uf064\\uf071\\uf075\\uf061\\uf072\\uf074\\uf065\\uf072\\uf073\\uf020\\uf05b\\uf060\\uf068\\uf045\\uf064\\uf026\\uf06b\\uf077\\uf04f\\uf072\\uf074\\uf032\\uf07a\\uf05d\\uf020n. [C] (abbr. HQ) (pl. headquarters) 總公司，總部\\uf020《商業行為》 \\uf069\\uf06e\\uf076\\uf065\\uf073\\uf074\\uf020\\uf05b\\uf049\\uf06e\\uf060\\uf076\\uf045\\uf073\\uf074\\uf05d\\uf020vi./vt. 投資\\uf020\\uf070\\uf072\\uf06f\\uf064\\uf075\\uf063\\uf074\\uf069\\uf06f\\uf06e\\uf020\\uf05b\\uf070\\uf072\\uf031\\uf060\\uf064\\uf05e\\uf06b\\uf053\\uf031\\uf06e\\uf05d\\uf020n. [U] 產生；製造\\uf020\\uf06d\\uf061\\uf06e\\uf075\\uf066\\uf061\\uf063\\uf074\\uf075\\uf072\\uf065\\uf020\\uf05b\\uf026\\uf06d\\uf038\\uf06e\\uf06a\\uf031\\uf060\\uf066\\uf038\\uf06b\\uf074\\uf053\\uf032\\uf05d\\uf020n. [U] / vt. 大量製造\\uf020\\uf069\\uf06d\\uf070\\uf06f\\uf072\\uf074\\uf020\\uf05b\\uf049\\uf06d\\uf060\\uf070\\uf04f\\uf072\\uf074\\uf05d\\uf020vt. 進口；n. 進口，進口貨品\\uf020\\uf06d\\uf061\\uf06e\\uf061\\uf067\\uf065\\uf020\\uf05b\\uf060\\uf06d\\uf038\\uf06e\\uf049\\uf064\\uf05a\\uf05d\\uf020vt. 經營，管理，設法做…\\uf020\\uf069\\uf06e\\uf063\\uf06f\\uf072\\uf070\\uf06f\\uf072\\uf061\\uf074\\uf065\\uf020\\uf05b\\uf049\\uf06e\\uf060\\uf06b\\uf04f\\uf072\\uf070\\uf031\\uf026\\uf072\\uf065\\uf074\\uf05d vt. 使結合，合併\\uf020\\x0c/ vi.\\n\\'\\n\\n,\\n\\n\\'\\n\\n[pra&mot] Vt.\\n[pAW11sat1]n.\\n\\nadvertise Üædvæ,talz]\\npromote\\npublicity\\nposter\\ndiscount\\ndiscount\\n\\nCdlskaunt]\\n[ds-kaunt]\\n\\n(postal\\n\\nn. [C]\\n\\nn. [C]\\n•ft.\\n\\nVt.\\n\\nVt.\\n\\n[fEtf]\\n\\nft.\\n\\nn.\\n\\ntesta,met]\\n\\nlabel\\ncalculate Ükælkja,let]\\nestimate\\nfetch\\nconsume\\nafford\\ndelivery\\nwithdraw\\n\\n[kan-sum]\\n\\n[wl&dro]\\n\\n[a-ford]\\n\\nn. [C]\\nvi.\\n\\n\\'\\n\\n;\\n\\n,\\n\\n\\'\\n\\n;\\n\\n; n. [C]\\n\\n\\' fÉ*1Ä\\n\\n; •ft.\\n\\n\\'\\n\\nn.\\n\\n\\'\\n\\n\\'\\n\\n\\'\\n\\n; it.\\n\\nreserve\\n\\nIt.\\n\\n,\\n\\ncommerce\\neconomy\\nindustrial\\ncredit\\ncontract\\n\\n(kamæs]\\n[ükanaml]\\n[m -dastnal]\\n\\n[\\'kredlt]\\n(kan\\n\\nn.\\ntrækt]\\n\\nn. [U]\\nn. [C]\\nadj.\\n; Vt\\nn. [C]\\n\\nfinance\\nbudget\\nproperty\\nwealth\\n\\nbillionaire\\n\\n(famæns]\\n\\nn. [C]\\n\\nn.\\n\\n\\'\\n(D ;\\n\\n[&prapætl] n. [U]\\n\\n\\'\\n\\n\\'\\n\\n[WE19] n. [U)\\n\\nn.\\n\\nsum [Sam] n. [C]\\n\\'\\nsavings [\\'savloz\\' n. [pl.]\\nwage [weds] n. [C] (usu.pl.)\\nn. [C)\\nallowance\\n\\n[a-laugns]\\n\\n; •ft.\\n\\n,\\n\\nfare\\n\\nn.\\n\\n16  \\uf061\\uf064\\uf076\\uf065\\uf072\\uf074\\uf069\\uf073\\uf065\\uf020\\uf05b\\uf060\\uf038\\uf064\\uf076\\uf032\\uf026\\uf074\\uf061\\uf049\\uf07a\\uf05d\\uf020vt. / vi. 登廣告，做廣告\\uf020\\uf070\\uf072\\uf06f\\uf06d\\uf06f\\uf074\\uf065\\uf020\\uf05b\\uf070\\uf072\\uf031\\uf060\\uf06d\\uf06f\\uf074\\uf05d\\uf020vt. 促銷，宣傳，升遷\\uf020\\uf070\\uf075\\uf062\\uf06c\\uf069\\uf063\\uf069\\uf074\\uf079\\uf020\\uf05b\\uf070\\uf05e\\uf062\\uf060\\uf06c\\uf049\\uf073\\uf031\\uf074\\uf049\\uf05d\\uf020n. 宣傳，名氣\\uf020\\uf070\\uf06f\\uf073\\uf074\\uf065\\uf072\\uf020\\uf05b\\uf060\\uf070\\uf06f\\uf073\\uf074\\uf032\\uf05d\\uf020n. [C] 海報\\uf020\\uf064\\uf069\\uf073\\uf063\\uf06f\\uf075\\uf06e\\uf074\\uf020\\uf05b\\uf060\\uf064\\uf049\\uf073\\uf06b\\uf061\\uf055\\uf06e\\uf074\\uf05d\\uf020n. [C] 折扣\\uf020\\uf064\\uf069\\uf073\\uf063\\uf06f\\uf075\\uf06e\\uf074\\uf020\\uf05b\\uf064\\uf049\\uf073\\uf060\\uf06b\\uf061\\uf055\\uf06e\\uf074\\uf05d\\uf020vt. 打折\\uf020\\uf06c\\uf061\\uf062\\uf065\\uf06c\\uf020\\uf05b\\uf060\\uf06c\\uf065\\uf062\\uf04c\\uf05d\\uf020n. [C] 標籤，標記；vt. 標示，加標籤於\\uf020\\uf063\\uf061\\uf06c\\uf063\\uf075\\uf06c\\uf061\\uf074\\uf065\\uf020\\uf05b\\uf060\\uf06b\\uf038\\uf06c\\uf06b\\uf06a\\uf031\\uf026\\uf06c\\uf065\\uf074\\uf05d\\uf020vt. 算，計算\\uf020\\uf065\\uf073\\uf074\\uf069\\uf06d\\uf061\\uf074\\uf065\\uf020\\uf05b\\uf060\\uf045\\uf073\\uf074\\uf031\\uf026\\uf06d\\uf065\\uf074\\uf05d\\uf020vt. 估計，估算；n. [C] 估計值，估算值\\uf020\\uf066\\uf065\\uf074\\uf063\\uf068\\uf020\\uf05b\\uf066\\uf045\\uf074\\uf053\\uf05d\\uf020vt. 取來，賣得\\uf020\\uf063\\uf06f\\uf06e\\uf073\\uf075\\uf06d\\uf065\\uf020\\uf05b\\uf06b\\uf031\\uf06e\\uf060\\uf073\\uf075\\uf06d\\uf05d\\uf020vt. 吃喝，攝取；vt. 消耗，花費\\uf020\\uf061\\uf066\\uf066\\uf06f\\uf072\\uf064\\uf020\\uf05b\\uf031\\uf060\\uf066\\uf04f\\uf072\\uf064\\uf05d\\uf020vt. 付擔得起，買的起\\uf020\\uf064\\uf065\\uf06c\\uf069\\uf076\\uf065\\uf072\\uf079\\uf020\\uf05b\\uf064\\uf049\\uf060\\uf06c\\uf049\\uf076\\uf031\\uf072\\uf049\\uf05d\\uf020n. [C] 遞送，投遞\\uf020\\uf077\\uf069\\uf074\\uf068\\uf064\\uf072\\uf061\\uf077\\uf020\\uf05b\\uf077\\uf049\\uf044\\uf060\\uf064\\uf072\\uf04f\\uf05d\\uf020vi. 退出；vt. 提款\\uf020\\uf072\\uf065\\uf073\\uf065\\uf072\\uf076\\uf065\\uf020\\uf05b\\uf072\\uf049\\uf060\\uf07a\\uf033\\uf076\\uf05d\\uf020vt. 預訂，預約；n. [C] 保護區\\uf020《其他》 \\uf063\\uf06f\\uf06d\\uf06d\\uf065\\uf072\\uf063\\uf065\\uf020\\uf05b\\uf060\\uf06b\\uf041\\uf06d\\uf032\\uf073\\uf05d\\uf020n. [U] 商業，貿易\\uf020\\uf065\\uf063\\uf06f\\uf06e\\uf06f\\uf06d\\uf079\\uf020\\uf05b\\uf049\\uf060\\uf06b\\uf041\\uf06e\\uf031\\uf06d\\uf049\\uf05d\\uf020n. [C] 經濟情況，節儉\\uf020\\uf069\\uf06e\\uf064\\uf075\\uf073\\uf074\\uf072\\uf069\\uf061\\uf06c\\uf020\\uf05b\\uf049\\uf06e\\uf060\\uf064\\uf05e\\uf073\\uf074\\uf072\\uf049\\uf031\\uf06c\\uf05d\\uf020adj. 工業的\\uf020\\uf063\\uf072\\uf065\\uf064\\uf069\\uf074\\uf020\\uf05b\\uf060\\uf06b\\uf072\\uf045\\uf064\\uf049\\uf074\\uf05d\\uf020n. 信譽；vt. 將功勞歸因於…\\uf020\\uf063\\uf06f\\uf06e\\uf074\\uf072\\uf061\\uf063\\uf074\\uf020\\uf05b\\uf060\\uf06b\\uf041\\uf06e\\uf026\\uf074\\uf072\\uf038\\uf06b\\uf074\\uf05d\\uf020n. [C] 合約，契約；vt. 感染、罹患\\uf020 錢財 \\uf066\\uf069\\uf06e\\uf061\\uf06e\\uf063\\uf065\\uf020\\uf05b\\uf060\\uf066\\uf061\\uf049\\uf06e\\uf038\\uf06e\\uf073\\uf05d\\uf020n. [C] 財政，財務\\uf020\\uf062\\uf075\\uf064\\uf067\\uf065\\uf074\\uf020\\uf05b\\uf060\\uf062\\uf05e\\uf064\\uf05a\\uf049\\uf074\\uf05d\\uf020n. [U] 預算 (額)；vt. 規劃時間，規劃預算\\uf020\\uf070\\uf072\\uf06f\\uf070\\uf065\\uf072\\uf074\\uf079\\uf020\\uf05b\\uf060\\uf070\\uf072\\uf041\\uf070\\uf032\\uf074\\uf049\\uf05d\\uf020n. [U] 財產，財物，特性\\uf020\\uf077\\uf065\\uf061\\uf06c\\uf074\\uf068\\uf020\\uf05b\\uf077\\uf045\\uf06c\\uf054\\uf05d\\uf020n. [U] 財富，錢財；[C] 豐富\\uf020\\uf062\\uf069\\uf06c\\uf06c\\uf069\\uf06f\\uf06e\\uf061\\uf069\\uf072\\uf065\\uf020\\uf05b\\uf026\\uf062\\uf049\\uf06c\\uf06a\\uf031\\uf060\\uf06e\\uf045\\uf072\\uf05d\\uf020n. [C] 億萬富翁\\uf020\\uf073\\uf075\\uf06d\\uf020\\uf05b\\uf073\\uf05e\\uf06d\\uf05d\\uf020n. [C] 金額，總額；vt. /vt. 概述 \\uf020\\uf073\\uf061\\uf076\\uf069\\uf06e\\uf067\\uf073\\uf020\\uf05b\\uf060\\uf073\\uf061\\uf076\\uf049\\uf039\\uf07a\\uf03d\\uf020n. [pl.] 存款（恆用複數）\\uf020\\uf077\\uf061\\uf067\\uf065\\uf020\\uf05b\\uf077\\uf065\\uf064\\uf05a\\uf05d\\uf020n. [C] (usu.pl.) 工資，薪水\\uf020\\uf061\\uf06c\\uf06c\\uf06f\\uf077\\uf061\\uf06e\\uf063\\uf065\\uf020\\uf05b\\uf031\\uf060\\uf06c\\uf061\\uf055\\uf031\\uf06e\\uf073\\uf05d\\uf020n. [C] 零用錢\\uf020\\uf066\\uf061\\uf072\\uf065\\uf020\\uf05b\\uf066\\uf045\\uf072\\uf05d\\uf020n. [C] 車資，交通費\\uf020\\x0c; Vt.\\n\\nrent\\n\\nn. [C]\\n\\n(N)\\n\\n[dalm]\\n[Emd]\\nit.\\n\\ntax [tæks] n. [C]\\ndime\\nfund\\nowe [o]\\nmoftgage\\nloan [Ion] n. [C]\\n[bauns]\\nbounce\\n\\n; n.\\n\\n\\'\\n\\n(\\n\\n)\\n\\n(morg1d3] n. ht\\n\\n;\\n\\nvi.\\n\\n,\\n\\n,\\n\\nscholar\\n\\nn. [C]\\n\\nVt.\\nällR ; ft.\\n\\nvi.\\n\\nn.\\n\\nlecture\\nguidance Cgaldans] n. [U]\\ndemonstrate\\nCdEmans,stret]\\ndrill\\ndiscipline\\naward\\nreward\\ndismiss [dls-mrs] Vt.\\n\\nn. [c]\\n[•drsaplm] n. [U]\\nn.\\n; it.\\nn. [C] / Vt.\\n\\'\\n\\n[a-word]\\n[II-word]\\n\\n; vi.\\n\\n,\\n\\n; Vt.\\n\\'\\n\\n\\'\\n(TN)\\n\\n\\'\\n\\nit.\\n\\n[dl\\n\\nfam] Vt.\\n•ft.\\n\\n(mota,vet]\\n[\\'æta,tjud]\\n\\nl,t.\\nmotivate\\nn. [U)\\nattitude\\nbalance Übælans] n. sing.\\npolish\\n\\'\\ndefine\\nabsorb [2b sorb]\\nconcentrate\\nbury\\n[\\'bero\\nrecognize [\\'1Ekag,narz] Vt.\\nimitate\\nmemorize\\nrecite\\n\\n(konsan,tret]\\nit.\\n\\nCmema,rarz]\\n\\n[II-salt] Vt.\\n\\n\\'\\n\\n\\'\\n\\nÜmll,tet]\\n\\nVt.\\n\\n\\'\\n\\n\\'.t.\\n\\n;\\n\\n\\'\\n\\n\\'\\n\\n\\'\\n\\n,\\n\\n\\'\\n\\n\\'\\n\\nvi.\\n\\'\\n\\n\\'\\n\\n\\'\\n\\n17  \\uf072\\uf065\\uf06e\\uf074\\uf020\\uf05b\\uf072\\uf045\\uf06e\\uf074\\uf05d\\uf020n. [U] 租金；vt. 租用，租借\\uf020\\uf074\\uf061\\uf078\\uf020\\uf05b\\uf074\\uf038\\uf06b\\uf073\\uf05d\\uf020n. [C] 稅金；vt. 向…課稅\\uf020\\uf064\\uf069\\uf06d\\uf065\\uf020\\uf05b\\uf064\\uf061\\uf049\\uf06d\\uf05d\\uf020n. [C] （美金）一角（硬幣）\\uf020\\uf066\\uf075\\uf06e\\uf064\\uf020\\uf05b\\uf066\\uf05e\\uf06e\\uf064\\uf05d\\uf020vt. 提供資金，資助；n. [C] 基金\\uf020\\uf06f\\uf077\\uf065\\uf020\\uf05b\\uf06f\\uf05d\\uf020vt. 欠（債）\\uf020\\uf06d\\uf06f\\uf072\\uf074\\uf067\\uf061\\uf067\\uf065\\uf020\\uf05b\\uf060\\uf06d\\uf04f\\uf072\\uf047\\uf049\\uf064\\uf05a\\uf05d\\uf020n. /vt. 典當，（房子）抵押貸款\\uf020\\uf06c\\uf06f\\uf061\\uf06e\\uf020\\uf05b\\uf06c\\uf06f\\uf06e\\uf05d n. [C] 貸款；vt. 借給\\uf020\\uf062\\uf06f\\uf075\\uf06e\\uf063\\uf065\\uf020\\uf05b\\uf062\\uf061\\uf035\\uf06e\\uf073\\uf05d\\uf020vi. 彈回，彈跳，跳票\\uf020 學習 《教》 \\uf073\\uf063\\uf068\\uf06f\\uf06c\\uf061\\uf072\\uf020\\uf05b\\uf060\\uf073\\uf06b\\uf041\\uf06c\\uf032\\uf05d\\uf020n. [C] 學者\\uf020\\uf06c\\uf065\\uf063\\uf074\\uf075\\uf072\\uf065\\uf020\\uf05b\\uf060\\uf06c\\uf045\\uf06b\\uf074\\uf053\\uf032\\uf05d\\uf020n. 講課；vi. 授課；vt. 對…說教\\uf020\\uf067\\uf075\\uf069\\uf064\\uf061\\uf06e\\uf063\\uf065\\uf020\\uf05b\\uf060\\uf047\\uf061\\uf049\\uf064\\uf031\\uf06e\\uf073\\uf05d\\uf020n. [U] 指導\\uf020\\uf064\\uf065\\uf06d\\uf06f\\uf06e\\uf073\\uf074\\uf072\\uf061\\uf074\\uf065\\uf020\\uf05b\\uf060\\uf064\\uf045\\uf06d\\uf031\\uf06e\\uf073\\uf026\\uf073\\uf074\\uf072\\uf065\\uf074\\uf05d\\uf020vt. 示範；vi. 示威\\uf020\\uf064\\uf072\\uf069\\uf06c\\uf06c\\uf020\\uf05b\\uf064\\uf072\\uf049\\uf06c\\uf05d\\uf020n. [C] 鑽子，訓練；vt. 鑽 (孔、洞)，訓練\\uf020\\uf064\\uf069\\uf073\\uf063\\uf069\\uf070\\uf06c\\uf069\\uf06e\\uf065\\uf020\\uf05b\\uf060\\uf064\\uf049\\uf073\\uf031\\uf070\\uf06c\\uf049\\uf06e\\uf05d\\uf020n. [U] 紀律；vt. 嚴格要求\\uf020\\uf061\\uf077\\uf061\\uf072\\uf064\\uf020\\uf05b\\uf031\\uf060\\uf077\\uf04f\\uf072\\uf064\\uf05d\\uf020n. 獎品；vt. 授受，給予\\uf020\\uf072\\uf065\\uf077\\uf061\\uf072\\uf064\\uf020\\uf05b\\uf072\\uf049\\uf060\\uf077\\uf04f\\uf072\\uf064\\uf05d\\uf020n. [C] / vt. 報酬，獎賞\\uf020\\uf064\\uf069\\uf073\\uf06d\\uf069\\uf073\\uf073\\uf020\\uf05b\\uf064\\uf049\\uf073\\uf060\\uf06d\\uf049\\uf073\\uf05d vt. 去除，解散（下課），解職\\uf020《學》 \\uf06d\\uf06f\\uf074\\uf069\\uf076\\uf061\\uf074\\uf065\\uf020\\uf05b\\uf060\\uf06d\\uf06f\\uf074\\uf031\\uf026\\uf076\\uf065\\uf074\\uf05d\\uf020vt. 促使，成為…的動機\\uf020\\uf061\\uf074\\uf074\\uf069\\uf074\\uf075\\uf064\\uf065\\uf020\\uf05b\\uf060\\uf038\\uf074\\uf031\\uf026\\uf074\\uf06a\\uf075\\uf064\\uf05d\\uf020n. [U] 心態，態度\\uf020\\uf062\\uf061\\uf06c\\uf061\\uf06e\\uf063\\uf065\\uf020\\uf05b\\uf060\\uf062\\uf038\\uf06c\\uf031\\uf06e\\uf073\\uf05d\\uf020n. sing. 平衡，均衡；vt. 使相抵消\\uf020\\uf070\\uf06f\\uf06c\\uf069\\uf073\\uf068\\uf020\\uf05b\\uf060\\uf070\\uf041\\uf06c\\uf049\\uf053\\uf05d\\uf020vt. 擦亮，磨光，增進…能力\\uf020\\uf064\\uf065\\uf066\\uf069\\uf06e\\uf065\\uf020\\uf05b\\uf064\\uf049\\uf060\\uf066\\uf061\\uf049\\uf06e\\uf05d\\uf020vt. 定義，界定，認定\\uf020\\uf061\\uf062\\uf073\\uf06f\\uf072\\uf062\\uf020\\uf05b\\uf031\\uf062\\uf060\\uf073\\uf04f\\uf072\\uf062\\uf05d\\uf020vt. 吸收，理解\\uf020\\uf063\\uf06f\\uf06e\\uf063\\uf065\\uf06e\\uf074\\uf072\\uf061\\uf074\\uf065\\uf020\\uf05b\\uf060\\uf06b\\uf041\\uf06e\\uf073\\uf031\\uf06e\\uf026\\uf074\\uf072\\uf065\\uf074\\uf05d\\uf020vi. 專心，集中注意力\\uf020\\uf062\\uf075\\uf072\\uf079\\uf020\\uf05b\\uf060\\uf062\\uf045\\uf072\\uf049\\uf05d\\uf020vt. 埋葬，使投入，使埋首\\uf020\\uf072\\uf065\\uf063\\uf06f\\uf067\\uf06e\\uf069\\uf07a\\uf065\\uf020\\uf05b\\uf060\\uf072\\uf045\\uf06b\\uf031\\uf047\\uf026\\uf06e\\uf061\\uf049\\uf07a\\uf05d\\uf020vt. 辨認，認出，認可\\uf020\\uf069\\uf06d\\uf069\\uf074\\uf061\\uf074\\uf065\\uf020\\uf05b\\uf060\\uf049\\uf06d\\uf049\\uf026\\uf074\\uf065\\uf074\\uf05d\\uf020vt. 模仿\\uf020\\uf06d\\uf065\\uf06d\\uf06f\\uf072\\uf069\\uf07a\\uf065\\uf020\\uf05b\\uf060\\uf06d\\uf045\\uf06d\\uf031\\uf026\\uf072\\uf061\\uf049\\uf07a\\uf05d\\uf020vt. 記住，背熟\\uf020\\uf072\\uf065\\uf063\\uf069\\uf074\\uf065\\uf020\\uf05b\\uf072\\uf049\\uf060\\uf073\\uf061\\uf049\\uf074\\uf05d\\uf020vt. 背誦\\uf020\\x0cn. [U] / Vt.\\n\\n\\'\\n\\nad\\'.\\n\\n[a-nælasrs] n. [C)\\ntrismf]\\n[kanfpleks]\\n\\nanalysis\\nresearch\\ncomplex\\ncomplicate Ckampla,ket]\\nconfuse [kan&fjuz]\\n[kan-SA1t]\\nconsult\\nresolve\\n[rfzalv]\\napplication\\npresentation\\n\\nVt.\\n\\nIt.\\n\\n,\\n\\n\\'\\n\\nn. [C)\\n\\n,\\n\\n[,prezan-tefan]\\n\\nn. [c]\\n\\n,\\n\\n\\'\\n\\n)\\n\\n(13\\'n10] n. [U)\\n(kansept]\\n\\nn. [C]\\n[tek&nik] n. [C]\\n\\nobjective [ab&d3EkIV] n. [C)\\nlearning\\nconcept\\ntechnique\\nfundamental\\nunderstanding\\nmajor Cmed3&] adj.\\nprimary\\nadvanced\\n\\nadj.\\n[ad&vænst] adj.\\n\\n(pral,merr]\\n\\n[,And$stænd10]\\n\\n\\' äfi\\n\\n; adi\\n\\n\\'\\n\\n\\'\\nadj.\\n\\n,\\n\\n;\\n; v.\\n\\n\\'\\n\\n\\'\\n\\nn.\\n• *ä-$\\n\\n\\'\\n\\n\\'\\n\\n;\\n\\n; n.\\n\\nn.\\n\\nadj.\\ntspmtfUal]\\n[,kjUrÜasat1] n.\\n\\'\\n[fmæd3a,nen]\\n\\nmental Cmentl] ad\\'.\\nspiritual\\ncuriosity\\nimage CIml#]\\nimaginary\\nfantastic\\nfancy Cfænsl]\\nnightmare\\nrecall\\n\\n[fæn-tæstlk]\\n\\n[\\'nalt,mer]\\n\\nvt.\\n\\n\\'\\n\\n(Y) $\\n\\n\\'\\nadj.\\n\\n\\'\\n\\n\\'\\n\\n\\'\\n\\n;\\n\\nadj.\\n\\nn. [C]\\n\\nremind\\n\\nvt.\\n\\nassume [a-sum] Vt.\\npresume [prfsum]\\n\\n(#595\\n•ft.\\n\\n;\\n\\n)\\n\\n\\'\\n\\n\\'\\n\\n18  \\uf061\\uf06e\\uf061\\uf06c\\uf079\\uf073\\uf069\\uf073\\uf020\\uf05b\\uf031\\uf060\\uf06e\\uf038\\uf06c\\uf031\\uf073\\uf049\\uf073\\uf05d\\uf020n. [C] 分析\\uf020\\uf072\\uf065\\uf073\\uf065\\uf061\\uf072\\uf063\\uf068\\uf020\\uf05b\\uf060\\uf072\\uf069\\uf073\\uf033\\uf074\\uf053\\uf05d\\uf020n. [U] / vt. 研究，調查\\uf020\\uf063\\uf06f\\uf06d\\uf070\\uf06c\\uf065\\uf078\\uf020\\uf05b\\uf06b\\uf031\\uf06d\\uf060\\uf070\\uf06c\\uf045\\uf06b\\uf073\\uf05d\\uf020adj. 複雜的，費解的\\uf020\\uf063\\uf06f\\uf06d\\uf070\\uf06c\\uf069\\uf063\\uf061\\uf074\\uf065\\uf020\\uf05b\\uf060\\uf06b\\uf041\\uf06d\\uf070\\uf06c\\uf031\\uf026\\uf06b\\uf065\\uf074\\uf05d\\uf020vt. 使複雜化\\uf020\\uf063\\uf06f\\uf06e\\uf066\\uf075\\uf073\\uf065\\uf020\\uf05b\\uf06b\\uf031\\uf06e\\uf060\\uf066\\uf06a\\uf075\\uf07a\\uf05d\\uf020vt. 使困惑，混淆，弄錯\\uf020\\uf063\\uf06f\\uf06e\\uf073\\uf075\\uf06c\\uf074\\uf020\\uf05b\\uf06b\\uf031\\uf06e\\uf060\\uf073\\uf05e\\uf06c\\uf074\\uf05d\\uf020vt.  請教，查閱…；vi. 諮商，研討\\uf020\\uf072\\uf065\\uf073\\uf06f\\uf06c\\uf076\\uf065\\uf020\\uf05b\\uf072\\uf049\\uf060\\uf07a\\uf041\\uf06c\\uf076\\uf05d\\uf020vt. 解決，下決心\\uf020\\uf061\\uf070\\uf070\\uf06c\\uf069\\uf063\\uf061\\uf074\\uf069\\uf06f\\uf06e\\uf020\\uf05b\\uf026\\uf038\\uf070\\uf06c\\uf031\\uf060\\uf06b\\uf065\\uf053\\uf031\\uf06e\\uf05d\\uf020n. [C] 申請，應用，運用\\uf020\\uf070\\uf072\\uf065\\uf073\\uf065\\uf06e\\uf074\\uf061\\uf074\\uf069\\uf06f\\uf06e\\uf020\\uf05b\\uf026\\uf070\\uf072\\uf045\\uf07a\\uf031\\uf06e\\uf060\\uf074\\uf065\\uf053\\uf031\\uf06e\\uf05d\\uf020n. [C] 口頭報告，頒贈（典禮）\\uf020《概念》 \\uf06f\\uf062\\uf06a\\uf065\\uf063\\uf074\\uf069\\uf076\\uf065\\uf020\\uf05b\\uf031\\uf062\\uf060\\uf064\\uf05a\\uf045\\uf06b\\uf074\\uf049\\uf076\\uf05d\\uf020n. [C] 目標，目的；adj. 客觀的\\uf020\\uf06c\\uf065\\uf061\\uf072\\uf06e\\uf069\\uf06e\\uf067\\uf020\\uf05b\\uf060\\uf06c\\uf033\\uf06e\\uf049\\uf039\\uf05d\\uf020n. [U] 學習，學識\\uf020\\uf063\\uf06f\\uf06e\\uf063\\uf065\\uf070\\uf074\\uf020\\uf05b\\uf060\\uf06b\\uf041\\uf06e\\uf073\\uf045\\uf070\\uf074\\uf05d\\uf020n. [C] 觀念，概念\\uf020\\uf074\\uf065\\uf063\\uf068\\uf06e\\uf069\\uf071\\uf075\\uf065\\uf020\\uf05b\\uf074\\uf045\\uf06b\\uf060\\uf06e\\uf069\\uf06b\\uf05d\\uf020n. [C] 技巧，手法\\uf020\\uf066\\uf075\\uf06e\\uf064\\uf061\\uf06d\\uf065\\uf06e\\uf074\\uf061\\uf06c\\uf020\\uf05b\\uf026\\uf066\\uf05e\\uf06e\\uf064\\uf031\\uf060\\uf06d\\uf045\\uf06e\\uf074\\uf04c\\uf05d\\uf020adj. 根本的，非常重要的；n. [C] 基礎\\uf020\\uf075\\uf06e\\uf064\\uf065\\uf072\\uf073\\uf074\\uf061\\uf06e\\uf064\\uf069\\uf06e\\uf067\\uf020\\uf05b\\uf026\\uf05e\\uf06e\\uf064\\uf032\\uf060\\uf073\\uf074\\uf038\\uf06e\\uf064\\uf049\\uf039\\uf05d\\uf020n. 理解力，諒解；adj. 善解人意的\\uf020\\uf06d\\uf061\\uf06a\\uf06f\\uf072\\uf020\\uf05b\\uf060\\uf06d\\uf065\\uf064\\uf05a\\uf032\\uf05d\\uf020adj. 大部分的、重要的，主要的；v. 主修；n. 主修科目\\uf020\\uf070\\uf072\\uf069\\uf06d\\uf061\\uf072\\uf079\\uf020\\uf05b\\uf060\\uf070\\uf072\\uf061\\uf049\\uf026\\uf06d\\uf045\\uf072\\uf049\\uf05d\\uf020adj. 首要的，主要的，初級的\\uf020\\uf061\\uf064\\uf076\\uf061\\uf06e\\uf063\\uf065\\uf064\\uf020\\uf05b\\uf031\\uf064\\uf060\\uf076\\uf038\\uf06e\\uf073\\uf074\\uf05d\\uf020adj. 先進的，進階的\\uf020 心智 \\uf06d\\uf065\\uf06e\\uf074\\uf061\\uf06c\\uf020\\uf05b\\uf060\\uf06d\\uf045\\uf06e\\uf074\\uf04c\\uf05d\\uf020adj. 心智的，心理的\\uf020\\uf073\\uf070\\uf069\\uf072\\uf069\\uf074\\uf075\\uf061\\uf06c\\uf020\\uf05b\\uf060\\uf073\\uf070\\uf049\\uf072\\uf049\\uf074\\uf053\\uf035\\uf031\\uf06c\\uf05d\\uf020adj. 精神 (上) 的\\uf020\\uf063\\uf075\\uf072\\uf069\\uf06f\\uf073\\uf069\\uf074\\uf079\\uf020\\uf05b\\uf026\\uf06b\\uf06a\\uf035\\uf072\\uf049\\uf060\\uf041\\uf073\\uf031\\uf074\\uf049\\uf05d\\uf020n. [U] 好奇心\\uf020\\uf069\\uf06d\\uf061\\uf067\\uf065\\uf020\\uf05b\\uf060\\uf049\\uf06d\\uf049\\uf037\\uf05d\\uf020n. 形象，意象，形像，圖象\\uf020\\uf069\\uf06d\\uf061\\uf067\\uf069\\uf06e\\uf061\\uf072\\uf079\\uf020\\uf05b\\uf049\\uf060\\uf06d\\uf038\\uf064\\uf05a\\uf031\\uf026\\uf06e\\uf045\\uf072\\uf049\\uf05d\\uf020adj. 虛構的，想像的\\uf020\\uf066\\uf061\\uf06e\\uf074\\uf061\\uf073\\uf074\\uf069\\uf063\\uf020\\uf05b\\uf066\\uf038\\uf06e\\uf060\\uf074\\uf038\\uf073\\uf074\\uf049\\uf06b\\uf05d\\uf020adj. 極好的，幻想的\\uf020\\uf066\\uf061\\uf06e\\uf063\\uf079\\uf020\\uf05b\\uf060\\uf066\\uf038\\uf06e\\uf073\\uf049\\uf05d\\uf020adj. 別緻的，昂貴的；n. [U] 愛好，想像力；vt. 想像\\uf020\\uf06e\\uf069\\uf067\\uf068\\uf074\\uf06d\\uf061\\uf072\\uf065\\uf020\\uf05b\\uf060\\uf06e\\uf061\\uf049\\uf074\\uf026\\uf06d\\uf045\\uf072\\uf05d\\uf020n. [C] 惡夢\\uf020\\uf072\\uf065\\uf063\\uf061\\uf06c\\uf06c\\uf020\\uf05b\\uf072\\uf049\\uf060\\uf06b\\uf04f\\uf06c\\uf05d\\uf020vt. 回想，回憶\\uf020\\uf072\\uf065\\uf06d\\uf069\\uf06e\\uf064\\uf020\\uf05b\\uf072\\uf049\\uf060\\uf06d\\uf061\\uf049\\uf06e\\uf064\\uf05d\\uf020vt. 提醒；使回想，使想起\\uf020\\uf061\\uf073\\uf073\\uf075\\uf06d\\uf065\\uf020\\uf05b\\uf031\\uf060\\uf073\\uf075\\uf06d\\uf05d\\uf020vt. （武斷的）假設，認為\\uf020\\uf070\\uf072\\uf065\\uf073\\uf075\\uf06d\\uf065\\uf020\\uf05b\\uf070\\uf072\\uf049\\uf060\\uf073\\uf075\\uf06d\\uf05d\\uf020vt. （有根據的）假設，推定\\uf020\\x0c\\'\\n\\nn. [U)\\n\\n;\\n\\n•ft.\\n\\n\\'\\n\\n\\'\\n\\n\\'.t.\\n\\n[rfzalv]\\n\\nVt.\\n[dÜ&mm]\\n\\nsuppose [so-poz]\\nangle\\nn.\\nconsideration\\n[kan slda-refan]\\nresolve\\ndetermine\\nwit\\ngifted Üglftld] adj.\\nintelligence\\nintellectual\\nn. [U)\\nwisdom Cwlzdam]\\ngenius Cd3injas] n. CU]\\n\\n[Wit] n. [CLT]\\n\\n[m-teladsans] n. [U)\\n[,mtYlEktfU21] ad\\'.\\n\\n; [C]\\n\\n\\'\\n\\n;\\n; n. [C)\\n\\n[æm$blfan]\\n\\nLov$kAm]\\n\\n[tfn] Vt./vi.\\n\\n\\'\\n\\nn. [C]\\nn. [C]\\nVt.\\n\\nambition\\nchallenge\\novercome\\ncheer\\nattempt\\npursue [p$su]\\nstrive\\n[straw]\\naccomplish\\nachieve\\n\\n[a-tfiv]\\n\\nfulfill\\nrenew [rfnju]\\nadvantage\\nbenefit\\n\\n[a-temp ] n. [C]\\n\\n\\'.t.\\n\\nvi.\\n\\n\\'\\n\\n,\\n\\n[$kampllf]\\n\\nVt.\\n\\nvt.\\nVt.\\n\\n\\'\\n\\n\\'\\n\\n\\'.t.\\n\\'\\n\\nn.\\n\\n; aU1.\\n\\n[malt] n. CLT]\\n\\nmight\\nopportunity\\n\\n[cp$tjunatl]\\n\\nn. [C)\\n\\nfame [fem] n. [U)\\npopularity\\n\\n[,papj$læratl]\\n\\nn. [U]\\n\\n19  \\uf073\\uf075\\uf070\\uf070\\uf06f\\uf073\\uf065\\uf020\\uf05b\\uf073\\uf031\\uf060\\uf070\\uf06f\\uf07a\\uf05d\\uf020vt. 猜想，料想，以為\\uf020\\uf061\\uf06e\\uf067\\uf06c\\uf065\\uf020\\uf05b\\uf060\\uf038\\uf06e\\uf047\\uf04c\\uf05d\\uf020n. 角度，觀點\\uf020\\uf063\\uf06f\\uf06e\\uf073\\uf069\\uf064\\uf065\\uf072\\uf061\\uf074\\uf069\\uf06f\\uf06e\\uf020\\uf05b\\uf06b\\uf031\\uf06e\\uf026\\uf073\\uf049\\uf064\\uf031\\uf060\\uf072\\uf065\\uf053\\uf031\\uf06e\\uf05d\\uf020n. [U] 考慮\\uf020\\uf072\\uf065\\uf073\\uf06f\\uf06c\\uf076\\uf065\\uf020\\uf05b\\uf072\\uf049\\uf060\\uf07a\\uf041\\uf06c\\uf076\\uf05d\\uf020vt. 解決，下決心\\uf020\\uf064\\uf065\\uf074\\uf065\\uf072\\uf06d\\uf069\\uf06e\\uf065\\uf020\\uf05b\\uf064\\uf049\\uf060\\uf074\\uf033\\uf06d\\uf049\\uf06e\\uf05d\\uf020vt. 確定；決定\\uf020\\uf077\\uf069\\uf074\\uf020\\uf05b\\uf077\\uf049\\uf074\\uf05d\\uf020n. [C/U] 聰明機智，（說話）風趣幽默，說話風趣的人\\uf020\\uf067\\uf069\\uf066\\uf074\\uf065\\uf064\\uf020\\uf05b\\uf060\\uf047\\uf049\\uf066\\uf074\\uf049\\uf064\\uf05d\\uf020adj. 有天賦的\\uf020\\uf069\\uf06e\\uf074\\uf065\\uf06c\\uf06c\\uf069\\uf067\\uf065\\uf06e\\uf063\\uf065\\uf020\\uf05b\\uf049\\uf06e\\uf060\\uf074\\uf045\\uf06c\\uf031\\uf064\\uf05a\\uf031\\uf06e\\uf073\\uf05d\\uf020n. [U] 聰明才智；情報\\uf020\\uf069\\uf06e\\uf074\\uf065\\uf06c\\uf06c\\uf065\\uf063\\uf074\\uf075\\uf061\\uf06c\\uf020\\uf05b\\uf026\\uf049\\uf06e\\uf074\\uf04c\\uf060\\uf06c\\uf045\\uf06b\\uf074\\uf053\\uf055\\uf031\\uf06c\\uf05d adj. 智力的；n. [C] 智識份子\\uf020\\uf077\\uf069\\uf073\\uf064\\uf06f\\uf06d\\uf020\\uf05b\\uf060\\uf077\\uf049\\uf07a\\uf064\\uf031\\uf06d\\uf05d\\uf020n. [U] 智慧\\uf020\\uf067\\uf065\\uf06e\\uf069\\uf075\\uf073\\uf020\\uf05b\\uf060\\uf064\\uf05a\\uf069\\uf06e\\uf06a\\uf031\\uf073\\uf05d\\uf020n. [U] 天份；[C] 天才\\uf020 抱負 \\uf061\\uf06d\\uf062\\uf069\\uf074\\uf069\\uf06f\\uf06e\\uf020\\uf05b\\uf038\\uf06d\\uf031\\uf060\\uf062\\uf049\\uf053\\uf031\\uf06e\\uf05d\\uf020n. [C] 野心，抱負\\uf020\\uf063\\uf068\\uf061\\uf06c\\uf06c\\uf065\\uf06e\\uf067\\uf065\\uf020\\uf05b\\uf060\\uf034\\uf038\\uf06c\\uf031\\uf06e\\uf064\\uf05a\\uf05d\\uf020n. [C] 挑戰； vt. 考驗(技術或能力)\\uf020\\uf06f\\uf076\\uf065\\uf072\\uf063\\uf06f\\uf06d\\uf065\\uf020\\uf05b\\uf026\\uf06f\\uf076\\uf032\\uf060\\uf06b\\uf05e\\uf06d\\uf05d\\uf020vt. 克服\\uf020\\uf063\\uf068\\uf065\\uf065\\uf072\\uf020\\uf05b\\uf074\\uf053\\uf049\\uf072\\uf05d\\uf020vt./vi. 鼓舞\\uf020\\uf061\\uf074\\uf074\\uf065\\uf06d\\uf070\\uf074\\uf020\\uf05b\\uf031\\uf060\\uf074\\uf045\\uf06d\\uf070\\uf074\\uf05d\\uf020n. [C] 試圖，嘗試\\uf020\\uf070\\uf075\\uf072\\uf073\\uf075\\uf065\\uf020\\uf05b\\uf070\\uf032\\uf060\\uf073\\uf075\\uf05d\\uf020vt. 追求，從事\\uf020\\uf073\\uf074\\uf072\\uf069\\uf076\\uf065\\uf020\\uf05b\\uf073\\uf074\\uf072\\uf061\\uf049\\uf076\\uf05d\\uf020vi. 力爭，奮鬥\\uf020\\uf061\\uf063\\uf063\\uf06f\\uf06d\\uf070\\uf06c\\uf069\\uf073\\uf068\\uf020\\uf05b\\uf031\\uf060\\uf06b\\uf041\\uf06d\\uf070\\uf06c\\uf049\\uf053\\uf05d\\uf020vt. 實現，達成\\uf020\\uf061\\uf063\\uf068\\uf069\\uf065\\uf076\\uf065\\uf020\\uf05b\\uf031\\uf060\\uf074\\uf053\\uf069\\uf076\\uf05d\\uf020vt. 實現，達成\\uf020\\uf066\\uf075\\uf06c\\uf066\\uf069\\uf06c\\uf06c\\uf020\\uf05b\\uf066\\uf035\\uf06c\\uf060\\uf066\\uf049\\uf06c\\uf05d\\uf020vt. 履行，執行；實現\\uf020\\uf072\\uf065\\uf06e\\uf065\\uf077\\uf020\\uf05b\\uf072\\uf049\\uf060\\uf06e\\uf06a\\uf075\\uf05d\\uf020vt. 更新\\uf020\\uf061\\uf064\\uf076\\uf061\\uf06e\\uf074\\uf061\\uf067\\uf065\\uf020\\uf05b\\uf031\\uf064\\uf060\\uf076\\uf038\\uf06e\\uf074\\uf049\\uf064\\uf05a\\uf05d\\uf020n. [C] 優勢，有利條件，好處，優點\\uf020\\uf062\\uf065\\uf06e\\uf065\\uf066\\uf069\\uf074\\uf020\\uf05b\\uf060\\uf062\\uf045\\uf06e\\uf031\\uf066\\uf049\\uf074\\uf05d\\uf020n. [C] 益處，優勢；vt. 有益於；vi. 獲益（於from並用）\\uf020\\uf06d\\uf069\\uf067\\uf068\\uf074\\uf020\\uf05b\\uf06d\\uf061\\uf049\\uf074\\uf05d\\uf020n. [U] 力量；aux. 可能\\uf020\\uf06f\\uf070\\uf070\\uf06f\\uf072\\uf074\\uf075\\uf06e\\uf069\\uf074\\uf079\\uf020\\uf05b\\uf041\\uf070\\uf032\\uf060\\uf074\\uf06a\\uf075\\uf06e\\uf031\\uf074\\uf049\\uf05d\\uf020n. [C] 時機，機會\\uf020 成就 \\uf066\\uf061\\uf06d\\uf065\\uf020\\uf05b\\uf066\\uf065\\uf06d\\uf05d\\uf020n. [U] 名氣\\uf020\\uf070\\uf06f\\uf070\\uf075\\uf06c\\uf061\\uf072\\uf069\\uf074\\uf079\\uf020\\uf05b\\uf026\\uf070\\uf041\\uf070\\uf06a\\uf031\\uf060\\uf06c\\uf038\\uf072\\uf031\\uf074\\uf049\\uf05d\\uf020n. [U] 聲望，名氣\\uf020\\x0creputation\\n\\n[,æpj$tefan]\\n\\nn. [CU)\\n\\n\\'\\n\\n[aut-stænd10] ad\\'.\\n\\nCmarvalas]\\n\\nÜbrlljant]\\n\\nadj.\\n\\nhonorable Canarab!] adj.\\nmarvelous\\nadj.\\nbrilliant\\noutstanding\\nexcellence (Eks!ans] n. [C]\\nprominent\\npromising\\nprosper\\nmerit\\npresentation\\n\\n\\'\\n[,prezan-tefan]\\n\\n[\\'prospæ] vi. OJ\\n\\n[-mE11t] n. [C]\\n\\n(pramanant]\\n\\nad\\'.\\n\\nad\\'.\\n\\n,\\n\\n\\'\\n\\n\\'\\n\\n\\' #FL$\\n\\n\\'\\n\\n\\'\\n\\n\\'\\n\\nn. [C]\\n\\n\\'\\n\\n[bafalad31] n. [U)\\n\\nbiology\\nlogic Clad31k] n.\\nmathematics\\npsychology\\nchemistry\\nphilosophy\\nphotography\\n\\n[,mææ-mætlks]\\n[sal kalad31] n.\\nn. [u)\\n[fa&lasafl] n. [U)\\n\\nCkEmrstn]\\n\\n[f.-tagæfl]\\n\\nn. [U)\\n\\nn. [U)\\n\\nliterature\\n\\nn. [U]\\n\\nverse\\n\\nessay\\n\\nfiction\\n\\nn.\\n\\nn.\\n\\n\\'\\n\\njoumal C&d33-nl]n. [C]\\nbiography\\nlegend C&IEd3and]n. [C]\\nhandbook\\n\\n[\\'hænd,buk]\\n\\n[bar-agrafl] n. [C,\\'TJ]\\n\\nn. [C]\\n\\n\\'\\n\\n20  \\uf072\\uf065\\uf070\\uf075\\uf074\\uf061\\uf074\\uf069\\uf06f\\uf06e\\uf020\\uf05b\\uf026\\uf072\\uf045\\uf070\\uf06a\\uf031\\uf060\\uf074\\uf065\\uf053\\uf031\\uf06e\\uf05d n. [C/U] 名聲，名譽\\uf020\\uf068\\uf06f\\uf06e\\uf06f\\uf072\\uf020\\uf05b\\uf060\\uf041\\uf06e\\uf032\\uf05d\\uf020n. [U] 名譽，榮譽；vt. 給予榮譽，尊重\\uf020\\uf068\\uf06f\\uf06e\\uf06f\\uf072\\uf061\\uf062\\uf06c\\uf065\\uf020\\uf05b\\uf060\\uf041\\uf06e\\uf031\\uf072\\uf031\\uf062\\uf04c\\uf05d\\uf020adj. 光榮的，可尊敬的\\uf020\\uf06d\\uf061\\uf072\\uf076\\uf065\\uf06c\\uf06f\\uf075\\uf073\\uf020\\uf05b\\uf060\\uf06d\\uf041\\uf072\\uf076\\uf031\\uf06c\\uf031\\uf073\\uf05d\\uf020adj. 不可思議的，非凡的\\uf020\\uf062\\uf072\\uf069\\uf06c\\uf06c\\uf069\\uf061\\uf06e\\uf074\\uf020\\uf05b\\uf060\\uf062\\uf072\\uf049\\uf06c\\uf06a\\uf031\\uf06e\\uf074\\uf05d\\uf020adj. 明亮的，出色的\\uf020\\uf06f\\uf075\\uf074\\uf073\\uf074\\uf061\\uf06e\\uf064\\uf069\\uf06e\\uf067\\uf020\\uf05b\\uf061\\uf035\\uf074\\uf060\\uf073\\uf074\\uf038\\uf06e\\uf064\\uf049\\uf039\\uf05d\\uf020adj. 優秀的，傑出的\\uf020\\uf065\\uf078\\uf063\\uf065\\uf06c\\uf06c\\uf065\\uf06e\\uf063\\uf065\\uf020\\uf05b\\uf060\\uf045\\uf06b\\uf073\\uf04c\\uf031\\uf06e\\uf073\\uf05d\\uf020n. [C] 傑出，優異\\uf020\\uf070\\uf072\\uf06f\\uf06d\\uf069\\uf06e\\uf065\\uf06e\\uf074\\uf020\\uf05b\\uf060\\uf070\\uf072\\uf041\\uf06d\\uf031\\uf06e\\uf031\\uf06e\\uf074\\uf05d\\uf020adj. 重要的，知名的\\uf020\\uf070\\uf072\\uf06f\\uf06d\\uf069\\uf073\\uf069\\uf06e\\uf067\\uf020\\uf05b\\uf060\\uf070\\uf072\\uf041\\uf06d\\uf049\\uf073\\uf049\\uf039\\uf05d\\uf020adj. 有為的，有前途的\\uf020\\uf070\\uf072\\uf06f\\uf073\\uf070\\uf065\\uf072\\uf020\\uf05b\\uf060\\uf070\\uf072\\uf041\\uf073\\uf070\\uf032\\uf05d\\uf020vi. 成功，繁榮\\uf020\\uf06d\\uf065\\uf072\\uf069\\uf074\\uf020\\uf05b\\uf060\\uf06d\\uf045\\uf072\\uf049\\uf074\\uf05d\\uf020n. [C] 優點，功績\\uf020\\uf070\\uf072\\uf065\\uf073\\uf065\\uf06e\\uf074\\uf061\\uf074\\uf069\\uf06f\\uf06e\\uf020\\uf05b\\uf026\\uf070\\uf072\\uf045\\uf07a\\uf031\\uf06e\\uf060\\uf074\\uf065\\uf053\\uf031\\uf06e\\uf05d\\uf020n. [C] 口頭報告，頒贈（典禮）\\uf020 學科 \\uf062\\uf069\\uf06f\\uf06c\\uf06f\\uf067\\uf079\\uf020\\uf05b\\uf062\\uf061\\uf049\\uf060\\uf041\\uf06c\\uf031\\uf064\\uf05a\\uf049\\uf05d n. [U] 生物學\\uf020\\uf06c\\uf06f\\uf067\\uf069\\uf063\\uf020\\uf05b\\uf060\\uf06c\\uf041\\uf064\\uf05a\\uf049\\uf06b\\uf05d\\uf020n. [U] 邏輯\\uf020\\uf06d\\uf061\\uf074\\uf068\\uf065\\uf06d\\uf061\\uf074\\uf069\\uf063\\uf073\\uf020\\uf05b\\uf026\\uf06d\\uf038\\uf054\\uf031\\uf060\\uf06d\\uf038\\uf074\\uf049\\uf06b\\uf073\\uf05d\\uf020n. [U] 數學\\uf020\\uf070\\uf073\\uf079\\uf063\\uf068\\uf06f\\uf06c\\uf06f\\uf067\\uf079\\uf020\\uf05b\\uf073\\uf061\\uf049\\uf060\\uf06b\\uf041\\uf06c\\uf031\\uf064\\uf05a\\uf049\\uf05d\\uf020n. [U] 心理學\\uf020\\uf063\\uf068\\uf065\\uf06d\\uf069\\uf073\\uf074\\uf072\\uf079\\uf020\\uf05b\\uf060\\uf06b\\uf045\\uf06d\\uf049\\uf073\\uf074\\uf072\\uf049\\uf05d\\uf020n. [U] 化學；（情感）來電\\uf020\\uf070\\uf068\\uf069\\uf06c\\uf06f\\uf073\\uf06f\\uf070\\uf068\\uf079\\uf020\\uf05b\\uf066\\uf031\\uf060\\uf06c\\uf041\\uf073\\uf031\\uf066\\uf049\\uf05d\\uf020n. [U] 哲學\\uf020\\uf070\\uf068\\uf06f\\uf074\\uf06f\\uf067\\uf072\\uf061\\uf070\\uf068\\uf079\\uf020\\uf05b\\uf066\\uf031\\uf060\\uf074\\uf041\\uf047\\uf072\\uf031\\uf066\\uf049\\uf05d\\uf020n. [U] 攝影\\uf020 文字、文學 《文類》 \\uf06c\\uf069\\uf074\\uf065\\uf072\\uf061\\uf074\\uf075\\uf072\\uf065\\uf020\\uf05b\\uf060\\uf06c\\uf049\\uf074\\uf031\\uf072\\uf031\\uf074\\uf053\\uf032\\uf05d\\uf020n. [U] 文學，文學作品\\uf020\\uf076\\uf065\\uf072\\uf073\\uf065\\uf020\\uf05b\\uf076\\uf033\\uf073\\uf05d\\uf020n. 韻文，詩\\uf020\\uf065\\uf073\\uf073\\uf061\\uf079\\uf020\\uf05b\\uf060\\uf045\\uf073\\uf065\\uf05d\\uf020n. [C] 短文，論說文，專文\\uf020\\uf066\\uf069\\uf063\\uf074\\uf069\\uf06f\\uf06e\\uf020\\uf05b\\uf060\\uf066\\uf049\\uf06b\\uf053\\uf031\\uf06e\\uf05d n. [U] （虛構的）小說\\uf020\\uf06a\\uf06f\\uf075\\uf072\\uf06e\\uf061\\uf06c\\uf020\\uf05b\\uf060\\uf064\\uf05a\\uf033\\uf06e\\uf04c\\uf05d\\uf020n. [C] 期刊，日誌\\uf020\\uf062\\uf069\\uf06f\\uf067\\uf072\\uf061\\uf070\\uf068\\uf079\\uf020\\uf05b\\uf062\\uf061\\uf049\\uf060\\uf041\\uf067\\uf072\\uf031\\uf066\\uf049\\uf05d\\uf020n. [C/U] 傳記\\uf020\\uf06c\\uf065\\uf067\\uf065\\uf06e\\uf064\\uf020\\uf05b\\uf060\\uf06c\\uf045\\uf064\\uf05a\\uf031\\uf06e\\uf064\\uf05d\\uf020n. [C] 傳說\\uf020\\uf068\\uf061\\uf06e\\uf064\\uf062\\uf06f\\uf06f\\uf06b\\uf020\\uf05b\\uf060\\uf068\\uf038\\uf06e\\uf064\\uf026\\uf062\\uf055\\uf06b\\uf05d\\uf020n. [C] 手冊，指南\\uf020\\x0c\\'\\n\\n\\'\\n\\n(ü*)\\n\\n[9im]\\n\\n(kan,tent]\\n\\n\\'\\nn. [S]\\n\\nn. [C)\\nn.\\nn. [C]\\n\\n[tEks] n.\\nit.\\n[plat] n.\\n\\nauthor\\nheading\\ntheme\\ncontent\\ntext\\nspin [spm]\\nplot\\nclimax\\nmoral\\nstyle [stall] n.\\nchapter\\nparagraph Üpæra,græfl n. [C]\\npassage Cpæs1d3]n.\\noutline\\nn.\\ndigest\\nquote [kwot] n.[C]\\n\\nCaut,lam]\\n(dald3ESt] n. [C]\\n\\n[Wæpt»] n.\\n\\nadj.\\n\\n\\'\\n\\n\\'\\n\\nvi.\\n\\n;\\n\\n;\\n\\n; [pl.]\\n\\n; vi.\\n\\n; vi.\\n; n. [0\\n\\n)\\n\\n; Vt\\n\\n\\'\\n\\n[træns&let] Vt.\\n[In-t3•prat]\\nit.\\n\\ntranslate\\ninterpret\\ngrammar Ügræmæ] n. [U)\\nusage [\\'jus1d3] n. [CLT]\\nidiom\\n\\n\\'\\n\\narticle\\n\\n;\\n\\nad\\'.\\n\\nn. [C]\\n\\n(kama]\\n\\n(hænd\\n\\ncomma\\nhandwriting\\ninitial\\ncapital\\noral Coral] adj.\\naccent Cæk,sent] n. [C]\\nconsonant\\nfluent\\n\\nCkasanant]\\n\\n(fluant]\\n\\nn [C]\\n\\nad\\'.\\n\\nn. [U) -3-ä\\n\\n;\\n\\n[C)\\n\\n, [LO-=\\n\\n; ad\\'.\\n\\n5E.FJ$\\n\\n\\'\\n\\nn. [C)\\n\\ncompose\\n\\nit.\\n\\n\\'\\n\\n\\'\\n\\n21  《文章內涵》 \\uf061\\uf075\\uf074\\uf068\\uf06f\\uf072\\uf020\\uf05b\\uf060\\uf04f\\uf054\\uf032\\uf05d\\uf020n. [C] （書或文章的）作者\\uf020\\uf068\\uf065\\uf061\\uf064\\uf069\\uf06e\\uf067\\uf020\\uf05b\\uf060\\uf068\\uf045\\uf064\\uf049\\uf039\\uf05d\\uf020n. [C] 標題，書名\\uf020\\uf074\\uf068\\uf065\\uf06d\\uf065\\uf020\\uf05b\\uf054\\uf069\\uf06d\\uf05d\\uf020n. [C] 主題，中心思想\\uf020\\uf063\\uf06f\\uf06e\\uf074\\uf065\\uf06e\\uf074\\uf020\\uf05b\\uf060\\uf06b\\uf041\\uf06e\\uf026\\uf074\\uf045\\uf06e\\uf074\\uf05d\\uf020n. [S] 含量；[pl.] 內容物，目錄\\uf020\\uf074\\uf065\\uf078\\uf074\\uf020\\uf05b\\uf074\\uf045\\uf06b\\uf073\\uf05d\\uf020n. 正文，原文\\uf020\\uf073\\uf070\\uf069\\uf06e\\uf020\\uf05b\\uf073\\uf070\\uf049\\uf06e\\uf05d\\uf020vt. 紡紗，說（故事）；vi. 旋轉\\uf020\\uf070\\uf06c\\uf06f\\uf074\\uf020\\uf05b\\uf070\\uf06c\\uf041\\uf074\\uf05d\\uf020n. [C] (故事) 情節；陰謀；vi. 密謀\\uf020\\uf063\\uf06c\\uf069\\uf06d\\uf061\\uf078\\uf020\\uf05b\\uf060\\uf06b\\uf06c\\uf061\\uf049\\uf06d\\uf038\\uf06b\\uf073\\uf05d\\uf020vi. 達到頂點；n. [C] 頂點，最高潮\\uf020\\uf06d\\uf06f\\uf072\\uf061\\uf06c\\uf020\\uf05b\\uf060\\uf06d\\uf04f\\uf072\\uf031\\uf06c\\uf05d\\uf020adj. 道德的；n. [C] 寓意\\uf020\\uf073\\uf074\\uf079\\uf06c\\uf065\\uf020\\uf05b\\uf073\\uf074\\uf061\\uf049\\uf06c\\uf05d\\uf020n. 風格\\uf020\\uf063\\uf068\\uf061\\uf070\\uf074\\uf065\\uf072\\uf020\\uf05b\\uf060\\uf034\\uf038\\uf070\\uf074\\uf032\\uf05d\\uf020n. 篇章\\uf020\\uf070\\uf061\\uf072\\uf061\\uf067\\uf072\\uf061\\uf070\\uf068\\uf020\\uf05b\\uf060\\uf070\\uf038\\uf072\\uf031\\uf026\\uf067\\uf072\\uf038\\uf066\\uf05d\\uf020n. [C] 段落\\uf020\\uf070\\uf061\\uf073\\uf073\\uf061\\uf067\\uf065\\uf020\\uf05b\\uf060\\uf070\\uf038\\uf073\\uf049\\uf064\\uf05a\\uf05d\\uf020n. 通道，一段（文字）\\uf020\\uf06f\\uf075\\uf074\\uf06c\\uf069\\uf06e\\uf065\\uf020\\uf05b\\uf060\\uf061\\uf055\\uf074\\uf026\\uf06c\\uf061\\uf049\\uf06e\\uf05d\\uf020n. [C] 大綱，輪廓；vt. 重點說明\\uf020\\uf064\\uf069\\uf067\\uf065\\uf073\\uf074\\uf020\\uf05b\\uf060\\uf064\\uf061\\uf049\\uf064\\uf05a\\uf045\\uf073\\uf074\\uf05d\\uf020n. [C] 摘要\\uf020\\uf071\\uf075\\uf06f\\uf074\\uf065\\uf020\\uf05b\\uf06b\\uf077\\uf06f\\uf074\\uf05d\\uf020n. [C] 引述，引文；vt. 引用，引述\\uf020《語言》 \\uf074\\uf072\\uf061\\uf06e\\uf073\\uf06c\\uf061\\uf074\\uf065\\uf020\\uf05b\\uf074\\uf072\\uf038\\uf06e\\uf073\\uf060\\uf06c\\uf065\\uf074\\uf05d\\uf020vt. 翻譯\\uf020\\uf069\\uf06e\\uf074\\uf065\\uf072\\uf070\\uf072\\uf065\\uf074\\uf020\\uf05b\\uf049\\uf06e\\uf060\\uf074\\uf033\\uf070\\uf072\\uf031\\uf074\\uf05d\\uf020vt. 口譯，解釋，詮釋\\uf020\\uf067\\uf072\\uf061\\uf06d\\uf06d\\uf061\\uf072\\uf020\\uf05b\\uf060\\uf047\\uf072\\uf038\\uf06d\\uf032\\uf05d\\uf020n. [U] 文法\\uf020\\uf075\\uf073\\uf061\\uf067\\uf065\\uf020\\uf05b\\uf060\\uf06a\\uf075\\uf073\\uf049\\uf064\\uf05a\\uf05d\\uf020n. [C/U] 用法\\uf020\\uf069\\uf064\\uf069\\uf06f\\uf06d\\uf020\\uf05b\\uf060\\uf049\\uf064\\uf049\\uf031\\uf06d\\uf05d n. [C] 慣用語，成語\\uf020\\uf061\\uf072\\uf074\\uf069\\uf063\\uf06c\\uf065\\uf020\\uf05b\\uf060\\uf041\\uf072\\uf074\\uf049\\uf06b\\uf04c\\uf05d\\uf020n. [C] 冠詞，文章；物品，（一）件（物品）\\uf020\\uf063\\uf06f\\uf06d\\uf06d\\uf061\\uf020\\uf05b\\uf060\\uf06b\\uf041\\uf06d\\uf031\\uf05d\\uf020n. [C] 逗號\\uf020\\uf068\\uf061\\uf06e\\uf064\\uf077\\uf072\\uf069\\uf074\\uf069\\uf06e\\uf067\\uf020\\uf05b\\uf060\\uf068\\uf038\\uf06e\\uf064\\uf026\\uf072\\uf061\\uf049\\uf074\\uf049\\uf039\\uf05d\\uf020n. [U] 字跡\\uf020\\uf069\\uf06e\\uf069\\uf074\\uf069\\uf061\\uf06c\\uf020\\uf05b\\uf049\\uf060\\uf06e\\uf049\\uf053\\uf031\\uf06c\\uf05d adj. 初期的；n. [C] （姓名的）第一個字母\\uf020\\uf063\\uf061\\uf070\\uf069\\uf074\\uf061\\uf06c\\uf020\\uf05b\\uf060\\uf06b\\uf038\\uf070\\uf031\\uf074\\uf04c\\uf05d\\uf020n. [C] 首都，[U]資本；adj. 大寫的，死刑的\\uf020\\uf06f\\uf072\\uf061\\uf06c\\uf020\\uf05b\\uf060\\uf04f\\uf072\\uf031\\uf06c\\uf05d\\uf020adj. 口語的\\uf020\\uf061\\uf063\\uf063\\uf065\\uf06e\\uf074\\uf020\\uf05b\\uf060\\uf038\\uf06b\\uf026\\uf073\\uf045\\uf06e\\uf074\\uf05d\\uf020n. [C] 口音，腔調\\uf020\\uf063\\uf06f\\uf06e\\uf073\\uf06f\\uf06e\\uf061\\uf06e\\uf074\\uf020\\uf05b\\uf060\\uf06b\\uf041\\uf073\\uf031\\uf06e\\uf031\\uf06e\\uf074\\uf05d\\uf020n. [C] 子音\\uf020\\uf066\\uf06c\\uf075\\uf065\\uf06e\\uf074\\uf020\\uf05b\\uf060\\uf066\\uf06c\\uf075\\uf031\\uf06e\\uf074\\uf05d\\uf020adj. 流利的\\uf020《創作》 \\uf063\\uf06f\\uf06d\\uf070\\uf06f\\uf073\\uf065\\uf020\\uf05b\\uf026\\uf06b\\uf031\\uf06d\\uf060\\uf070\\uf06f\\uf07a\\uf05d\\uf020vt. 構成，組成， 創作 (音樂、詩歌等)\\uf020\\x0cedit CEd1t] Vt.\\nrevise [rÜva1z] Vt.\\n\\n\\'\\n\\n\\'\\n\\nLEkspla-nefan]\\n\\nVt.\\n\\nn. [C]\\n\\naccount\\nexplanation\\n[\\'lla,stret]\\nillustrate\\n[dÜtel] Vt.\\ndetail\\n[por tie]\\nportray\\n(portrat]\\nportrait\\n(kantræst]\\nn. [U]\\ncontrast\\n[,1EprÜzEnt] Vt.\\nrepresent\\nemphasize C&EmfasalZ] ft.\\nfeature\\n\\n•ft.\\nn. [C]\\n\\n\\'\\n\\n,\\n\\n;\\n\\nn. [C]\\n\\n,\\n\\n\\'\\n\\n; n. [C]\\n\\n;\\n\\n; Vt\\n\\n\\'\\n\\n\\'\\n\\n\\'\\n\\nmedium\\n\\n[pl]\\nn. [C]\\n\\n\\'\\n\\nvi.\\n\\n\\'\\n\\n\\'\\n\\ni-gn\\n\\'\\n\\nmedia C&midla] n.\\nbu Ile tin Cbulatm]\\nscoop [skup] n. [C]\\ntune [tjun]\\nchannel\\ncolumn\\n\\n[Wæn!] n. [C)\\n(kalam]\\n\\nn. SE\\'\\n\\nrelease\\n\\npublish CpAb11f] •ft. FIJe ;\\n\\nadi -V-*$\\n\\n; n. [C]\\n\\nn. [U)\\n\\nad\\'.\\n\\n[,paæ-nn] n. [C]\\n\\n\\'\\n\\nCkAltfaral]\\n\\nad\\'.\\n[sfvlljan]\\n\\nevil\\ncivilian\\ncivilization\\ncultural\\nfolk\\npioneer\\nsettler CSEt1a--]\\nracial\\nadj.\\ntribal Ctralb!] adj.\\n\\n[folk]\\n\\n22  \\uf065\\uf064\\uf069\\uf074\\uf020\\uf05b\\uf060\\uf045\\uf064\\uf049\\uf074\\uf05d\\uf020vt. 編輯\\uf020\\uf072\\uf065\\uf076\\uf069\\uf073\\uf065\\uf020\\uf05b\\uf072\\uf049\\uf060\\uf076\\uf061\\uf049\\uf07a\\uf05d\\uf020vt. 修正，修訂，修改\\uf020\\uf061\\uf063\\uf063\\uf06f\\uf075\\uf06e\\uf074\\uf020\\uf05b\\uf031\\uf060\\uf06b\\uf061\\uf035\\uf06e\\uf074\\uf05d\\uf020n. [C] 帳號，帳戶，理由，報導；vi. 說明、解釋\\uf020\\uf065\\uf078\\uf070\\uf06c\\uf061\\uf06e\\uf061\\uf074\\uf069\\uf06f\\uf06e\\uf020\\uf05b\\uf026\\uf045\\uf06b\\uf073\\uf070\\uf06c\\uf031\\uf060\\uf06e\\uf065\\uf053\\uf031\\uf06e\\uf05d\\uf020n. [C] 解釋，說明\\uf020\\uf069\\uf06c\\uf06c\\uf075\\uf073\\uf074\\uf072\\uf061\\uf074\\uf065\\uf020\\uf05b\\uf060\\uf049\\uf06c\\uf031\\uf026\\uf073\\uf074\\uf072\\uf065\\uf074\\uf05d\\uf020vt. 為…畫插圖，說明\\uf020\\uf064\\uf065\\uf074\\uf061\\uf069\\uf06c\\uf020\\uf05b\\uf064\\uf049\\uf060\\uf074\\uf065\\uf06c\\uf05d\\uf020vt. 詳細敘述、說明；n. [C] 細節\\uf020\\uf070\\uf06f\\uf072\\uf074\\uf072\\uf061\\uf079\\uf020\\uf05b\\uf070\\uf06f\\uf072\\uf060\\uf074\\uf072\\uf065\\uf05d\\uf020vt. 描述，描繪\\uf020\\uf070\\uf06f\\uf072\\uf074\\uf072\\uf061\\uf069\\uf074\\uf020\\uf05b\\uf060\\uf070\\uf06f\\uf072\\uf074\\uf072\\uf031\\uf074\\uf05d\\uf020n. [C] 詳細的描繪；肖像畫\\uf020\\uf063\\uf06f\\uf06e\\uf074\\uf072\\uf061\\uf073\\uf074\\uf020\\uf05b\\uf060\\uf06b\\uf041\\uf06e\\uf074\\uf072\\uf038\\uf073\\uf074\\uf05d\\uf020n. [U] 對照，比對；vt. 使對照\\uf020\\uf072\\uf065\\uf070\\uf072\\uf065\\uf073\\uf065\\uf06e\\uf074\\uf020\\uf05b\\uf026\\uf072\\uf045\\uf070\\uf072\\uf049\\uf060\\uf07a\\uf045\\uf06e\\uf074\\uf05d\\uf020vt. 代表，象徵\\uf020\\uf065\\uf06d\\uf070\\uf068\\uf061\\uf073\\uf069\\uf07a\\uf065\\uf020\\uf05b\\uf060\\uf045\\uf06d\\uf066\\uf031\\uf026\\uf073\\uf061\\uf049\\uf07a\\uf05d\\uf020vt. 強調，重視\\uf020\\uf066\\uf065\\uf061\\uf074\\uf075\\uf072\\uf065\\uf020\\uf05b\\uf060\\uf066\\uf069\\uf074\\uf053\\uf032\\uf05d\\uf020n. [C] 正片，影片；特色，特徵； vt. 以…為主要特色、重點\\uf020《媒體》 \\uf06d\\uf065\\uf064\\uf069\\uf061\\uf020\\uf05b\\uf060\\uf06d\\uf069\\uf064\\uf049\\uf031\\uf05d\\uf020\\uf06e\\uf02e\\uf020\\uf05b\\uf070\\uf06c\\uf05d\\uf020媒體（單數\\uf020\\uf06d\\uf065\\uf064\\uf069\\uf075\\uf06d）\\uf020\\uf062\\uf075\\uf06c\\uf06c\\uf065\\uf074\\uf069\\uf06e\\uf020\\uf05b\\uf060\\uf062\\uf055\\uf06c\\uf031\\uf074\\uf049\\uf06e\\uf05d\\uf020n. [C] 告示，公告，新聞快報\\uf020\\uf073\\uf063\\uf06f\\uf06f\\uf070\\uf020\\uf05b\\uf073\\uf06b\\uf075\\uf070\\uf05d\\uf020n. [C] 勺子，獨家新聞\\uf020\\uf074\\uf075\\uf06e\\uf065\\uf020\\uf05b\\uf074\\uf06a\\uf075\\uf06e\\uf05d\\uf020n. [C] 曲調，旋律；vt. 為…調音；vi. 轉到…的頻道\\uf020\\uf063\\uf068\\uf061\\uf06e\\uf06e\\uf065\\uf06c\\uf020\\uf05b\\uf060\\uf034\\uf038\\uf06e\\uf04c\\uf05d\\uf020n. [C] 頻道，管道，海峽\\uf020\\uf063\\uf06f\\uf06c\\uf075\\uf06d\\uf06e\\uf020\\uf05b\\uf060\\uf06b\\uf041\\uf06c\\uf031\\uf06d\\uf05d\\uf020n. 圓柱，（一）縱列，（一）柱；欄，專欄\\uf020\\uf072\\uf065\\uf06c\\uf065\\uf061\\uf073\\uf065\\uf020\\uf05b\\uf072\\uf049\\uf060\\uf06c\\uf069\\uf073\\uf05d\\uf020vt. / n. [U] 釋放，釋出，發行，發佈\\uf020\\uf070\\uf075\\uf062\\uf06c\\uf069\\uf073\\uf068\\uf020\\uf05b\\uf060\\uf070\\uf05e\\uf062\\uf06c\\uf049\\uf053\\uf05d\\uf020vt. 刊登；出版\\uf020 文化 \\uf063\\uf069\\uf076\\uf069\\uf06c\\uf020\\uf05b\\uf060\\uf073\\uf049\\uf076\\uf04c\\uf05d\\uf020adj. 國內的，公明的，文明的，有禮的\\uf020\\uf063\\uf069\\uf076\\uf069\\uf06c\\uf069\\uf061\\uf06e\\uf020\\uf05b\\uf073\\uf049\\uf060\\uf076\\uf049\\uf06c\\uf06a\\uf031\\uf06e\\uf05d\\uf020adj. 平民的；n. [C] 平民\\uf020\\uf063\\uf069\\uf076\\uf069\\uf06c\\uf069\\uf07a\\uf061\\uf074\\uf069\\uf06f\\uf06e\\uf020\\uf05b\\uf026\\uf073\\uf049\\uf076\\uf031\\uf06c\\uf031\\uf060\\uf07a\\uf065\\uf053\\uf031\\uf06e\\uf05d\\uf020n. [U] 文明\\uf020\\uf063\\uf075\\uf06c\\uf074\\uf075\\uf072\\uf061\\uf06c\\uf020\\uf05b\\uf060\\uf06b\\uf05e\\uf06c\\uf074\\uf053\\uf031\\uf072\\uf031\\uf06c\\uf05d\\uf020adj. 文化上的\\uf020\\uf066\\uf06f\\uf06c\\uf06b\\uf020\\uf05b\\uf066\\uf04f\\uf06c\\uf06b\\uf05d\\uf020n. [C] 人們\\uf020\\uf070\\uf069\\uf06f\\uf06e\\uf065\\uf065\\uf072\\uf020\\uf05b\\uf026\\uf070\\uf061\\uf049\\uf031\\uf060\\uf06e\\uf049\\uf072\\uf05d\\uf020n. [C] 開拓著，先鋒；vt. 率先做…\\uf020\\uf073\\uf065\\uf074\\uf074\\uf06c\\uf065\\uf072\\uf020\\uf05b\\uf060\\uf073\\uf045\\uf074\\uf06c\\uf032\\uf05d\\uf020n. [C] 墾荒者，移民\\uf020\\uf072\\uf061\\uf063\\uf069\\uf061\\uf06c\\uf020\\uf05b\\uf060\\uf072\\uf065\\uf053\\uf031\\uf06c\\uf05d\\uf020adj. 種族的\\uf020\\uf074\\uf072\\uf069\\uf062\\uf061\\uf06c\\uf020\\uf05b\\uf060\\uf074\\uf072\\uf061\\uf049\\uf062\\uf04c\\uf05d\\uf020adj. 部落的\\uf020\\x0ctribe\\n\\nn.\\n\\n[kan-venfan]\\n\\nconvention\\ncouftesy Ük3\\'tas1] n. [U/C]\\nmanners Ümæn»z]\\nn. [pl.)\\noccassion\\n[a-kesan]\\nn. [C]\\nmadam [Amædam] n. [C]\\n\\nn. [C]\\n\\n\\'\\n\\n( = ma\\'am)\\n\\nadj.\\n\\n[\\'klæslk!] adj.\\nclassical\\nhistorical\\n[his-torikl]\\npalace Cpælrs] n. [C]\\nknight\\n[nart] n. [C]\\nlord\\nnoble Cnobl] ad\\'.\\nn.\\ncradle\\n\\n[lord] n. [C]\\n\\nruins Crumz]\\n\\nn. [pl]\\n\\n\\'\\n\\n\\'\\n;\\n\\n\\'\\n\\n,\\n\\n\\'\\n\\n\\'\\n\\n\\' \"FIJ \\'\\n\\nit.\\n\\nVt.\\n\\n[kan-strAkt]\\n\\nconstruct\\ncarve Ckarv]\\nsculpture C&skAlptfæ] n. [U)\\nstatue Cstætfu]\\ncolumn\\n(kalam]\\n\\nn. [C]\\nn.\\n\\narch\\n\\nn. [C]\\n\\n(Z)\\n\\nstructure\\npave [pev] Vt.\\ncraft\\n\\'\\npottemy Cpata•l] n. CU]\\nillustrate\\n\\n[kræft] n. [C]\\n\\nvt.\\n\\nsketch\\nportrait\\n\\n[skEtn n. [C]\\n(portrat]\\n\\nn. [C]\\n\\n;\\n\\n; [C]\\n\\n; n. [U)\\n\\n,\\n\\n;\\n\\n23  \\uf074\\uf072\\uf069\\uf062\\uf065\\uf020\\uf05b\\uf074\\uf072\\uf061\\uf049\\uf062\\uf05d\\uf020n. [C] 部落\\uf020\\uf063\\uf06f\\uf06e\\uf076\\uf065\\uf06e\\uf074\\uf069\\uf06f\\uf06e\\uf020\\uf05b\\uf06b\\uf031\\uf06e\\uf060\\uf076\\uf045\\uf06e\\uf053\\uf031\\uf06e\\uf05d\\uf020n. [C] 代表大會，會議；慣例，習俗\\uf020\\uf063\\uf06f\\uf075\\uf072\\uf074\\uf065\\uf073\\uf079\\uf020\\uf05b\\uf060\\uf06b\\uf033\\uf074\\uf031\\uf073\\uf049\\uf05d\\uf020n. [U/C] 禮貌的舉止\\uf020\\uf06d\\uf061\\uf06e\\uf06e\\uf065\\uf072\\uf073\\uf020\\uf05b\\uf060\\uf06d\\uf038\\uf06e\\uf032\\uf07a\\uf05d\\uf020n. [pl.] 禮貌，禮儀\\uf020\\uf06f\\uf063\\uf063\\uf061\\uf073\\uf073\\uf069\\uf06f\\uf06e\\uf020\\uf05b\\uf031\\uf060\\uf06b\\uf065\\uf05a\\uf031\\uf06e\\uf05d\\uf020n. [C] 特殊的大事\\uf020\\uf06d\\uf061\\uf064\\uf061\\uf06d\\uf020\\uf05b\\uf060\\uf06d\\uf038\\uf064\\uf031\\uf06d\\uf05d\\uf020n. [C] 女士（= ma’am）\\uf020 歷史 B.C. / BC (= before Christ) n. 西元前…年 \\uf063\\uf06c\\uf061\\uf073\\uf073\\uf069\\uf063\\uf061\\uf06c\\uf020\\uf05b\\uf060\\uf06b\\uf06c\\uf038\\uf073\\uf049\\uf06b\\uf04c\\uf05d\\uf020adj. 古典的\\uf020\\uf068\\uf069\\uf073\\uf074\\uf06f\\uf072\\uf069\\uf063\\uf061\\uf06c\\uf020\\uf05b\\uf068\\uf049\\uf073\\uf060\\uf074\\uf04f\\uf072\\uf049\\uf06b\\uf04c\\uf05d\\uf020adj. 與歷史有關的\\uf020\\uf070\\uf061\\uf06c\\uf061\\uf063\\uf065\\uf020\\uf05b\\uf060\\uf070\\uf038\\uf06c\\uf049\\uf073\\uf05d\\uf020n. [C] 皇宮\\uf020\\uf06b\\uf06e\\uf069\\uf067\\uf068\\uf074\\uf020\\uf05b\\uf06e\\uf061\\uf049\\uf074\\uf05d\\uf020n. [C] （中古時期）騎士，爵士\\uf020\\uf06c\\uf06f\\uf072\\uf064\\uf020\\uf05b\\uf06c\\uf04f\\uf072\\uf064\\uf05d\\uf020n. [C] 貴族，君主，（L大寫）上帝\\uf020\\uf06e\\uf06f\\uf062\\uf06c\\uf065\\uf020\\uf05b\\uf060\\uf06e\\uf06f\\uf062\\uf04c\\uf05d\\uf020adj. 高貴的，高尚的，貴族的\\uf020\\uf063\\uf072\\uf061\\uf064\\uf06c\\uf065\\uf020\\uf05b\\uf060\\uf06b\\uf072\\uf065\\uf064\\uf04c\\uf05d\\uf020n. [C] 搖籃，發源地；vt. 懷抱\\uf020\\uf072\\uf075\\uf069\\uf06e\\uf073\\uf020\\uf05b\\uf060\\uf072\\uf075\\uf049\\uf06e\\uf07a\\uf05d\\uf020n. [pl] 斷垣殘壁，遺跡\\uf020 藝術 \\uf063\\uf06f\\uf06e\\uf073\\uf074\\uf072\\uf075\\uf063\\uf074\\uf020\\uf05b\\uf06b\\uf031\\uf06e\\uf060\\uf073\\uf074\\uf072\\uf05e\\uf06b\\uf074\\uf05d\\uf020vt. 建築，建造\\uf020\\uf063\\uf061\\uf072\\uf076\\uf065\\uf020\\uf05b\\uf06b\\uf041\\uf072\\uf076\\uf05d\\uf020vt. 雕刻\\uf020\\uf073\\uf063\\uf075\\uf06c\\uf070\\uf074\\uf075\\uf072\\uf065\\uf020\\uf05b\\uf060\\uf073\\uf06b\\uf05e\\uf06c\\uf070\\uf074\\uf053\\uf032\\uf05d\\uf020n. [U] 雕刻；[C] 雕刻品\\uf020\\uf073\\uf074\\uf061\\uf074\\uf075\\uf065\\uf020\\uf05b\\uf060\\uf073\\uf074\\uf038\\uf074\\uf053\\uf075\\uf05d\\uf020n. [C] 雕像\\uf020\\uf063\\uf06f\\uf06c\\uf075\\uf06d\\uf06e\\uf020\\uf05b\\uf060\\uf06b\\uf041\\uf06c\\uf031\\uf06d\\uf05d\\uf020n. 圓柱，縱列，專欄\\uf020\\uf061\\uf072\\uf063\\uf068\\uf020\\uf05b\\uf041\\uf072\\uf074\\uf053\\uf05d\\uf020n. [C] 拱門；vt./vi. （使）成弓形\\uf020\\uf073\\uf074\\uf072\\uf075\\uf063\\uf074\\uf075\\uf072\\uf065\\uf020\\uf05b\\uf060\\uf073\\uf074\\uf072\\uf05e\\uf06b\\uf074\\uf053\\uf032\\uf05d\\uf020n. [C] 建築物；n. [U] 結構\\uf020\\uf070\\uf061\\uf076\\uf065\\uf020\\uf05b\\uf070\\uf065\\uf076\\uf05d\\uf020vt. 鋪（路）\\uf020\\uf063\\uf072\\uf061\\uf066\\uf074\\uf020\\uf05b\\uf06b\\uf072\\uf038\\uf066\\uf074\\uf05d\\uf020n. [C] 手藝，手工藝\\uf020\\uf070\\uf06f\\uf074\\uf074\\uf065\\uf06e\\uf072\\uf079\\uf020\\uf05b\\uf060\\uf070\\uf041\\uf074\\uf032\\uf049\\uf05d\\uf020n. [U] 陶器\\uf020\\uf069\\uf06c\\uf06c\\uf075\\uf073\\uf074\\uf072\\uf061\\uf074\\uf065\\uf020\\uf05b\\uf060\\uf049\\uf06c\\uf031\\uf026\\uf073\\uf074\\uf072\\uf065\\uf074\\uf05d\\uf020vt. 為…畫插圖，說明\\uf020\\uf073\\uf06b\\uf065\\uf074\\uf063\\uf068\\uf020\\uf05b\\uf073\\uf06b\\uf045\\uf074\\uf053\\uf05d\\uf020n. [C] 素描；畫草圖\\uf020\\uf070\\uf06f\\uf072\\uf074\\uf072\\uf061\\uf069\\uf074\\uf020\\uf05b\\uf060\\uf070\\uf06f\\uf072\\uf074\\uf072\\uf031\\uf074\\uf05d\\uf020n. [C] 詳細的描繪；肖像畫\\uf020\\x0cn. [U)\\n\\n•ft.\\nft.\\n\\nportray\\n[poetre]\\nexhibit\\ntg&zlblt]\\ncreation\\n[ku-efan]\\n[krÜet1v] adj.\\ncreative\\nartistic\\n[ar-tlstlk]\\nadj.\\npale [pel] ad\\'.\\nfade [fed]\\n\\n\\'\\n\\'\\n\\n; n. [C]\\n; [C] giJf*\\n\\n\\'\\n\\nEfi\\n\\nmusical\\n\\n[\\'mjuzlk!]\\n\\nadj.\\n\\n; n. [C]\\n\\nopera\\norchestra\\naccompany\\nchorus\\n\\nForklstn]\\n\\nn. [C]\\n\\n[$kAmpam]\\n\\nVt.(fill.)\\n\\n\\'\\n\\n;\\n\\n,\\n\\nn.\\n\\nn.\\n\\nChar-manika]\\nn.\\n\\nconcert\\nconductor\\nharmonica\\nhom [horn]\\ntune [tjun] n. [C]\\nrhythm Cnåam]\\nn. [CU]\\nvolume Cvaljam] n. [U)\\n;\\necho\\n\\n; [U]\\n\\nn.[C)\\n\\nn. [C]\\n,\\n; vt.\\n\\n,\\n\\n(FEE)\\n\\n; vi.\\n\\n,\\n\\n,\\n\\n,\\n\\nstereo Csteno] n. [C]\\nearphone Cll,fon]\\nmicrophone\\nstudio Cstjudl,o]\\nrecording\\n\\nn.\\n[rfkord10]\\n\\nn. [C]\\n[Amalkrz,fonl\\n\\nn.\\n\\n; [U)\\n\\nn. [C]\\n\\'\\n\\n[kilk]\\n\\nclick\\npop [pcp] vi.\\nscream [skrim]\\nbang\\nn.\\n\\nvi.\\n\\n; Vt.\\n; ad\\'.\\n; n. [C]\\n\\n;\\n\\n(Z\\n\\n; vi.\\n\\n24  \\uf070\\uf06f\\uf072\\uf074\\uf072\\uf061\\uf079\\uf020\\uf05b\\uf070\\uf06f\\uf072\\uf060\\uf074\\uf072\\uf065\\uf05d\\uf020vt. 描述，描繪\\uf020\\uf065\\uf078\\uf068\\uf069\\uf062\\uf069\\uf074\\uf020\\uf05b\\uf049\\uf047\\uf060\\uf07a\\uf049\\uf062\\uf049\\uf074\\uf05d\\uf020vt. 展覽，展示；n. [C] 展品\\uf020\\uf063\\uf072\\uf065\\uf061\\uf074\\uf069\\uf06f\\uf06e\\uf020\\uf05b\\uf06b\\uf072\\uf049\\uf060\\uf065\\uf053\\uf031\\uf06e\\uf05d\\uf020n. [U] 創造；[C] 創作品\\uf020\\uf063\\uf072\\uf065\\uf061\\uf074\\uf069\\uf076\\uf065\\uf020\\uf05b\\uf06b\\uf072\\uf049\\uf060\\uf065\\uf074\\uf049\\uf076\\uf05d\\uf020adj. 有創造力的\\uf020\\uf061\\uf072\\uf074\\uf069\\uf073\\uf074\\uf069\\uf063\\uf020\\uf05b\\uf041\\uf072\\uf060\\uf074\\uf049\\uf073\\uf074\\uf049\\uf06b\\uf05d\\uf020adj. 藝術的，美妙的\\uf020\\uf070\\uf061\\uf06c\\uf065\\uf020\\uf05b\\uf070\\uf065\\uf06c\\uf05d\\uf020adj. 蒼白的，灰白的，淡色的\\uf020\\uf066\\uf061\\uf064\\uf065\\uf020\\uf05b\\uf066\\uf065\\uf064\\uf05d\\uf020vi. 褪色，漸弱\\uf020 聲音 《音樂》 \\uf06d\\uf075\\uf073\\uf069\\uf063\\uf061\\uf06c\\uf020\\uf05b\\uf060\\uf06d\\uf06a\\uf075\\uf07a\\uf049\\uf06b\\uf04c\\uf05d\\uf020adj. 音樂的；n. [C] 音樂劇\\uf020\\uf06f\\uf070\\uf065\\uf072\\uf061\\uf020\\uf05b\\uf060\\uf041\\uf070\\uf031\\uf072\\uf031\\uf05d\\uf020n. [C/U] 歌劇\\uf020\\uf06f\\uf072\\uf063\\uf068\\uf065\\uf073\\uf074\\uf072\\uf061\\uf020\\uf05b\\uf060\\uf04f\\uf072\\uf06b\\uf049\\uf073\\uf074\\uf072\\uf031\\uf05d\\uf020n. [C] 管弦樂團\\uf020\\uf061\\uf063\\uf063\\uf06f\\uf06d\\uf070\\uf061\\uf06e\\uf079\\uf020\\uf05b\\uf031\\uf060\\uf06b\\uf05e\\uf06d\\uf070\\uf031\\uf06e\\uf049\\uf05d\\uf020vt. (fml.) 伴隨，陪伴；伴奏，伴唱\\uf020\\uf063\\uf068\\uf06f\\uf072\\uf075\\uf073\\uf020\\uf05b\\uf060\\uf06b\\uf04f\\uf072\\uf031\\uf073\\uf05d\\uf020n. [C] 合唱團，副歌\\uf020\\uf063\\uf06f\\uf06e\\uf063\\uf065\\uf072\\uf074\\uf020\\uf05b\\uf060\\uf06b\\uf041\\uf06e\\uf073\\uf032\\uf074\\uf05d\\uf020n. [C] 音樂會；[U] 一致、協調\\uf020\\uf063\\uf06f\\uf06e\\uf064\\uf075\\uf063\\uf074\\uf06f\\uf072\\uf020\\uf05b\\uf06b\\uf031\\uf06e\\uf060\\uf064\\uf05e\\uf06b\\uf074\\uf032\\uf05d\\uf020n. [C] （樂團）指揮，列車長，導體\\uf020\\uf068\\uf061\\uf072\\uf06d\\uf06f\\uf06e\\uf069\\uf063\\uf061\\uf020\\uf05b\\uf068\\uf041\\uf072\\uf060\\uf06d\\uf041\\uf06e\\uf049\\uf06b\\uf031\\uf05d\\uf020n. [C] 口琴\\uf020\\uf068\\uf06f\\uf072\\uf06e\\uf020\\uf05b\\uf068\\uf04f\\uf072\\uf06e\\uf05d\\uf020n. （動物的）角，號角，（汽車的）喇叭\\uf020\\uf074\\uf075\\uf06e\\uf065\\uf020\\uf05b\\uf074\\uf06a\\uf075\\uf06e\\uf05d\\uf020n. [C] 曲調，旋律；vt. 為…調音；vi. 轉到…的頻道\\uf020\\uf072\\uf068\\uf079\\uf074\\uf068\\uf06d\\uf020\\uf05b\\uf060\\uf072\\uf049\\uf044\\uf031\\uf06d\\uf05d\\uf020n. [C/U] 節奏\\uf020\\uf076\\uf06f\\uf06c\\uf075\\uf06d\\uf065\\uf020\\uf05b\\uf060\\uf076\\uf041\\uf06c\\uf06a\\uf031\\uf06d\\uf05d\\uf020n. [U] 體積，容積，音量，冊\\uf020\\uf065\\uf063\\uf068\\uf06f\\uf020\\uf05b\\uf060\\uf045\\uf06b\\uf06f\\uf05d\\uf020n. [C] 回音；vt. 重複\\uf020\\uf073\\uf074\\uf065\\uf072\\uf065\\uf06f\\uf020\\uf05b\\uf060\\uf073\\uf074\\uf045\\uf072\\uf049\\uf06f\\uf05d\\uf020n. [C] 立體音響；[U] 立體聲\\uf020\\uf065\\uf061\\uf072\\uf070\\uf068\\uf06f\\uf06e\\uf065\\uf020\\uf05b\\uf060\\uf049\\uf072\\uf026\\uf066\\uf06f\\uf06e\\uf05d\\uf020n. [C] （塞耳內的）耳機（之一）\\uf020\\uf06d\\uf069\\uf063\\uf072\\uf06f\\uf070\\uf068\\uf06f\\uf06e\\uf065\\uf020\\uf05b\\uf060\\uf06d\\uf061\\uf049\\uf06b\\uf072\\uf031\\uf026\\uf066\\uf06f\\uf06e\\uf05d\\uf020n. [C] 麥克風\\uf020\\uf073\\uf074\\uf075\\uf064\\uf069\\uf06f\\uf020\\uf05b\\uf060\\uf073\\uf074\\uf06a\\uf075\\uf064\\uf049\\uf026\\uf06f\\uf05d\\uf020n. 播音室，工作室\\uf020\\uf072\\uf065\\uf063\\uf06f\\uf072\\uf064\\uf069\\uf06e\\uf067\\uf020\\uf05b\\uf072\\uf049\\uf060\\uf06b\\uf04f\\uf072\\uf064\\uf049\\uf039\\uf05d\\uf020n. 錄音\\uf020《聲響》 \\uf063\\uf06c\\uf069\\uf063\\uf06b\\uf020\\uf05b\\uf06b\\uf06c\\uf049\\uf06b\\uf05d\\uf020n. [C] 喀喀聲；vt. 發出喀喀聲；vi. 按滑鼠\\uf020\\uf070\\uf06f\\uf070\\uf020\\uf05b\\uf070\\uf041\\uf070\\uf05d\\uf020vi. 發出爆裂聲；adj. 流行的（popular的縮寫）\\uf020\\uf073\\uf063\\uf072\\uf065\\uf061\\uf06d\\uf020\\uf05b\\uf073\\uf06b\\uf072\\uf069\\uf06d\\uf05d\\uf020vi. 尖叫；n. [C] 尖叫聲\\uf020\\uf062\\uf061\\uf06e\\uf067\\uf020\\uf05b\\uf062\\uf038\\uf039\\uf05d\\uf020n. [C] 砰的一聲；vt. 猛然撞擊 \\x0csplash [splæf]\\ndrip [drip] Vt./vi.\\nhush ChAD Vt./vi. (\\n\\n; vi.\\n; n.\\n\\n; n.\\n\\n; n.\\n\\nn. [U]\\n\\n(vaplans]\\nvt.,/vi. (robbed I robbedI robbing)\\n\\n\\'\\n\\n\\'\\n\\n;\\n\\n; vt.\\n\\n; n. CU]\\n\\n; Vt.\\n\\n\\'\\n\\n\\'\\n\\nguilt\\n\\n[gilt] n.[U]\\n\\ncommit\\n\\nViolate\\n\\nE\\n\\nn. u\\n\\n[plat]\\n\\n[Bret] n.\\n\\n(sua,sald]\\n\\nrevenge\\nthread\\nviolence\\nrob [rob]\\nplot\\nmurder Cm3\\'dæ] Vt.\\nn. [U]\\nsuicide\\n; n.\\nfake [fek] adj.\\ndisguise [ds-galz]\\nft./ n. [C/U)\\npickpocket Cplk,paklt] n. [C]\\nburglar\\nPirate\\ngamble [&gæmb!] vi./vt.\\ngang [g30] n. [C]\\nmob\\n[mob] n. [C]\\nsuspect\\n\\n(SAS,pEkt] n. [C]\\n\\nn. [C]\\n\\nn. [C]\\n\\n;\\n\\nenact\\nlawful\\n\\nforbid\\n\\n[m•ækt] Vt\\n[&bfal] adj.\\n\\nVt.\\n\\n,\\n\\n[rfstllkt]\\n\\nrestrict\\nrestriction\\nincident\\n\\n[rÜstr1kfan]\\n\\nn. [C]\\n\\n(msgdant]\\n\\nn. [C]\\n\\n25  \\uf073\\uf070\\uf06c\\uf061\\uf073\\uf068\\uf020\\uf05b\\uf073\\uf070\\uf06c\\uf038\\uf053\\uf05d\\uf020vt. 潑水；vi. 濺起水花；n. 濺起的水花聲\\uf020\\uf064\\uf072\\uf069\\uf070\\uf020\\uf05b\\uf064\\uf072\\uf049\\uf070\\uf05d\\uf020vt./vi. 滴下；n. 滴水聲 \\uf068\\uf075\\uf073\\uf068\\uf020\\uf05b\\uf068\\uf05e\\uf053\\uf05d\\uf020vt./vi.（使）安靜；n. [U]寂靜\\uf020 法律 《罪》 \\uf067\\uf075\\uf069\\uf06c\\uf074\\uf020\\uf05b\\uf047\\uf049\\uf06c\\uf074\\uf05d\\uf020n. [U] 罪責，過失，內疚，自責\\uf020\\uf063\\uf072\\uf069\\uf06d\\uf065\\uf020\\uf05b\\uf06b\\uf072\\uf061\\uf049\\uf06d\\uf05d\\uf05d\\uf020n. [U] 違法行為，犯罪活動\\uf020\\uf063\\uf06f\\uf06d\\uf06d\\uf069\\uf074\\uf020\\uf05b\\uf06b\\uf031\\uf060\\uf06d\\uf049\\uf074\\uf05d\\uf020vt. 犯 (罪或錯誤)\\uf020\\uf076\\uf069\\uf06f\\uf06c\\uf061\\uf074\\uf065\\uf020\\uf05b\\uf060\\uf076\\uf061\\uf049\\uf031\\uf026\\uf06c\\uf065\\uf074\\uf05d\\uf020vt. 侵犯，攪擾；違反，違背 (法律、協議等)\\uf020\\uf072\\uf065\\uf076\\uf065\\uf06e\\uf067\\uf065\\uf020\\uf05b\\uf072\\uf049\\uf060\\uf076\\uf045\\uf06e\\uf064\\uf05a\\uf05d\\uf020n. [U] 報復，報仇；vt. 為…報仇\\uf020\\uf074\\uf068\\uf072\\uf065\\uf061\\uf064\\uf020\\uf05b\\uf054\\uf072\\uf045\\uf074\\uf05d\\uf020n. [C] 威脅，恐嚇\\uf020\\uf076\\uf069\\uf06f\\uf06c\\uf065\\uf06e\\uf063\\uf065\\uf020\\uf05b\\uf060\\uf076\\uf061\\uf049\\uf031\\uf06c\\uf031\\uf06e\\uf073\\uf05d\\uf020n. [U] 暴力，暴行\\uf020\\uf072\\uf06f\\uf062\\uf020\\uf05b\\uf072\\uf041\\uf062\\uf05d\\uf020vt./vi. (robbed | robbed | robbing) 搶劫，盜取\\uf020\\uf070\\uf06c\\uf06f\\uf074\\uf020\\uf05b\\uf070\\uf06c\\uf041\\uf074\\uf05d\\uf020n. [C] (故事) 情節；陰謀；vi. 密謀\\uf020\\uf06d\\uf075\\uf072\\uf064\\uf065\\uf072\\uf020\\uf05b\\uf060\\uf06d\\uf033\\uf064\\uf032\\uf05d\\uf020vt. 謀殺；n. [U] 謀殺\\uf020\\uf073\\uf075\\uf069\\uf063\\uf069\\uf064\\uf065\\uf020\\uf05b\\uf060\\uf073\\uf075\\uf031\\uf026\\uf073\\uf061\\uf049\\uf064\\uf05d\\uf020n. [U] 自殺\\uf020\\uf066\\uf061\\uf06b\\uf065\\uf020\\uf05b\\uf066\\uf065\\uf06b\\uf05d\\uf020adj. 假的；n. 贗品；vt. 偽造，假造\\uf020\\uf064\\uf069\\uf073\\uf067\\uf075\\uf069\\uf073\\uf065\\uf020\\uf05b\\uf064\\uf049\\uf073\\uf060\\uf047\\uf061\\uf049\\uf07a\\uf05d\\uf020vt. / n. [C/U] 假扮，喬裝\\uf020\\uf070\\uf069\\uf063\\uf06b\\uf070\\uf06f\\uf063\\uf06b\\uf065\\uf074\\uf020\\uf05b\\uf060\\uf070\\uf049\\uf06b\\uf026\\uf070\\uf041\\uf06b\\uf049\\uf074\\uf05d n. [C] 扒手\\uf020\\uf062\\uf075\\uf072\\uf067\\uf06c\\uf061\\uf072\\uf020\\uf05b\\uf060\\uf062\\uf033\\uf047\\uf06c\\uf032\\uf05d\\uf020n. [C] 夜賊\\uf020\\uf070\\uf069\\uf072\\uf061\\uf074\\uf065\\uf020\\uf05b\\uf060\\uf070\\uf061\\uf049\\uf072\\uf031\\uf074\\uf05d\\uf020n. [C] 海盜；vt. 盜版\\uf020\\uf067\\uf061\\uf06d\\uf062\\uf06c\\uf065\\uf020\\uf05b\\uf060\\uf047\\uf038\\uf06d\\uf062\\uf04c\\uf05d\\uf020vi./vt. 賭博\\uf020\\uf067\\uf061\\uf06e\\uf067\\uf020\\uf05b\\uf047\\uf036\\uf039\\uf05d\\uf020n. [C] 幫派\\uf020\\uf06d\\uf06f\\uf062\\uf020\\uf05b\\uf06d\\uf041\\uf062\\uf05d\\uf020n. [C] 一群暴民\\uf020\\uf073\\uf075\\uf073\\uf070\\uf065\\uf063\\uf074\\uf020\\uf05b\\uf060\\uf073\\uf05e\\uf073\\uf026\\uf070\\uf045\\uf06b\\uf074\\uf05d\\uf020n. [C] 嫌疑犯\\uf020《法》 \\uf065\\uf06e\\uf061\\uf063\\uf074\\uf020\\uf05b\\uf049\\uf06e\\uf060\\uf038\\uf06b\\uf074\\uf05d\\uf020vt. 制訂（法律）\\uf020\\uf06c\\uf061\\uf077\\uf066\\uf075\\uf06c\\uf020\\uf05b\\uf060\\uf06c\\uf04f\\uf066\\uf031\\uf06c\\uf05d\\uf020adj. 合法的，正當的\\uf020\\uf066\\uf06f\\uf072\\uf062\\uf069\\uf064\\uf020\\uf05b\\uf066\\uf032\\uf060\\uf062\\uf049\\uf064\\uf05d vt. 禁止\\uf020\\uf072\\uf065\\uf073\\uf074\\uf072\\uf069\\uf063\\uf074\\uf020\\uf05b\\uf072\\uf049\\uf060\\uf073\\uf074\\uf072\\uf049\\uf06b\\uf074\\uf05d\\uf020vt. 限制，限定 (數量、尺寸、範圍等)\\uf020\\uf072\\uf065\\uf073\\uf074\\uf072\\uf069\\uf063\\uf074\\uf069\\uf06f\\uf06e\\uf020\\uf05b\\uf072\\uf049\\uf060\\uf073\\uf074\\uf072\\uf049\\uf06b\\uf053\\uf031\\uf06e\\uf05d\\uf020n. [C] 限制\\uf020\\uf069\\uf06e\\uf063\\uf069\\uf064\\uf065\\uf06e\\uf074\\uf020\\uf05b\\uf060\\uf049\\uf06e\\uf073\\uf031\\uf064\\uf031\\uf06e\\uf074\\uf05d\\uf020n. [C] 事件\\uf020\\x0cinvolve\\nevidence\\nproof\\nclue [kill]\\n\\nWitness\\n\\n[m•valv]\\n\\n\\'.t.\\n\\n\\'\\n\\nn. [U]\\n\\n(eudans]\\nn. [U)\\n\\nn.\\n\\nn.\\n\\n; vt.\\n\\nsuspect\\naccuse [$kjuz] Vt.\\ntestify\\n\\n(test.\\n\\n,fal] vtJ•d.\\n\\n,\\n\\n;\\n\\n,\\n_ET\\n\\n[In,vest$gefan]\\n\\nn. [U]\\n\\nn.\\n\\nvt.\\n\\n[pn-tEkfan]\\n\\nexpose\\nappeal [a-pill vi.\\ninvestigation\\njustice\\nprotection\\nguardian\\npenalty CPEnlt1] n. [C]\\nconfine\\n[kan•fam]\\njan [dsel] n. CU]\\ncapital\\n\\n;\\n\\nn. [C,\\'TJ]\\n\\n\\'\\n\\n;\\n\\n\\'\\n\\n\\'\\n\\n\\'\\n\\n(emparø•] n. [C]\\n\\n[a-goratl]\\n[\\'kæbmat]\\nCmmlst»]\\n\\nemperor\\nempire (Empan] n. [C]\\nauthority\\nn. [U)\\ncabinet\\nn. [C]\\nminister\\nn. [C]\\ngovernor CgAv•æna•]n. [C)\\nmayor\\ndiplomat\\nconservative\\nfollower\\nrepublic\\ncolony\\n\\nC&fcloa•] n. [C]\\n[rÜpAb11k] n. [C]\\n\\nn. [C]\\n[\\'dlpla,mæt]\\n\\n[kan-sævatlv]\\n\\n[\\'mead\\n\\nn. [C)\\n\\nn. [C]\\n\\n; n. [C)\\n\\nad\\'.\\n\\n\\'\\n\\n26  \\uf069\\uf06e\\uf076\\uf06f\\uf06c\\uf076\\uf065\\uf020\\uf05b\\uf049\\uf06e\\uf060\\uf076\\uf041\\uf06c\\uf076\\uf05d\\uf020vt. 使捲入，牽連\\uf020\\uf065\\uf076\\uf069\\uf064\\uf065\\uf06e\\uf063\\uf065\\uf020\\uf05b\\uf060\\uf045\\uf076\\uf049\\uf064\\uf031\\uf06e\\uf073\\uf05d\\uf020n. [U] 證據\\uf020\\uf070\\uf072\\uf06f\\uf06f\\uf066\\uf020\\uf05b\\uf070\\uf072\\uf075\\uf066\\uf05d\\uf020n. [U] 證據\\uf020\\uf063\\uf06c\\uf075\\uf065\\uf020\\uf05b\\uf06b\\uf06c\\uf075\\uf05d\\uf020n. [C] 提示，線索\\uf020\\uf077\\uf069\\uf074\\uf06e\\uf065\\uf073\\uf073\\uf020\\uf05b\\uf060\\uf077\\uf049\\uf074\\uf06e\\uf049\\uf073\\uf05d\\uf020n. [C] 證人，見證；vt. 目擊\\uf020\\uf073\\uf075\\uf073\\uf070\\uf065\\uf063\\uf074\\uf020\\uf05b\\uf073\\uf031\\uf060\\uf073\\uf070\\uf045\\uf06b\\uf074\\uf05d\\uf020vt. 懷疑 (某事是事實)\\uf020\\uf061\\uf063\\uf063\\uf075\\uf073\\uf065\\uf020\\uf05b\\uf031\\uf060\\uf06b\\uf06a\\uf075\\uf07a\\uf05d\\uf020vt. 指控\\uf020\\uf074\\uf065\\uf073\\uf074\\uf069\\uf066\\uf079\\uf020\\uf05b\\uf060\\uf074\\uf045\\uf073\\uf074\\uf031\\uf026\\uf066\\uf061\\uf049\\uf05d vt./vi. 作證\\uf020\\uf065\\uf078\\uf070\\uf06f\\uf073\\uf065\\uf020\\uf05b\\uf049\\uf06b\\uf060\\uf073\\uf070\\uf06f\\uf07a\\uf05d\\uf020vt. 揭露，揭穿；露出，使顯露\\uf020\\uf061\\uf070\\uf070\\uf065\\uf061\\uf06c\\uf020\\uf05b\\uf031\\uf060\\uf070\\uf069\\uf06c\\uf05d\\uf020vi. 吸引，呼籲，懇求，上訴\\uf020\\uf069\\uf06e\\uf076\\uf065\\uf073\\uf074\\uf069\\uf067\\uf061\\uf074\\uf069\\uf06f\\uf06e\\uf020\\uf05b\\uf049\\uf06e\\uf026\\uf076\\uf045\\uf073\\uf074\\uf031\\uf060\\uf047\\uf065\\uf053\\uf031\\uf06e\\uf05d\\uf020n. [C/U] 調查\\uf020\\uf06a\\uf075\\uf073\\uf074\\uf069\\uf063\\uf065\\uf020\\uf05b\\uf060\\uf064\\uf05a\\uf05e\\uf073\\uf074\\uf049\\uf073\\uf05d\\uf020n. 公道，正義，司法審判\\uf020\\uf070\\uf072\\uf06f\\uf074\\uf065\\uf063\\uf074\\uf069\\uf06f\\uf06e\\uf020\\uf05b\\uf070\\uf072\\uf031\\uf060\\uf074\\uf045\\uf06b\\uf053\\uf031\\uf06e\\uf05d\\uf020n. [U] 保護\\uf020\\uf067\\uf075\\uf061\\uf072\\uf064\\uf069\\uf061\\uf06e\\uf020\\uf05b\\uf060\\uf047\\uf041\\uf072\\uf064\\uf049\\uf031\\uf06e\\uf05d\\uf020n. [C] 守護者，監護人\\uf020\\uf070\\uf065\\uf06e\\uf061\\uf06c\\uf074\\uf079\\uf020\\uf05b\\uf060\\uf070\\uf045\\uf06e\\uf04c\\uf074\\uf049\\uf05d\\uf020n. [C] 懲罰\\uf020\\uf063\\uf06f\\uf06e\\uf066\\uf069\\uf06e\\uf065\\uf020\\uf05b\\uf06b\\uf031\\uf06e\\uf060\\uf066\\uf061\\uf049\\uf06e\\uf05d\\uf020vt. 監禁，禁閉； 限制，限定\\uf020\\uf06a\\uf061\\uf069\\uf06c\\uf020\\uf05b\\uf064\\uf05a\\uf065\\uf06c\\uf05d\\uf020n. [U] 監獄；vt. 使入獄\\uf020\\uf063\\uf061\\uf070\\uf069\\uf074\\uf061\\uf06c\\uf020\\uf05b\\uf060\\uf06b\\uf038\\uf070\\uf031\\uf074\\uf04c\\uf05d\\uf020n. [C] 首都，[U]資本；adj. 大寫的，死刑的\\uf020 政治 《人、組織》 \\uf065\\uf06d\\uf070\\uf065\\uf072\\uf06f\\uf072\\uf020\\uf05b\\uf060\\uf045\\uf06d\\uf070\\uf031\\uf072\\uf032\\uf05d\\uf020n. [C] 皇帝\\uf020\\uf065\\uf06d\\uf070\\uf069\\uf072\\uf065\\uf020\\uf05b\\uf060\\uf045\\uf06d\\uf070\\uf061\\uf049\\uf072\\uf05d\\uf020n. [C] 帝國\\uf020\\uf061\\uf075\\uf074\\uf068\\uf06f\\uf072\\uf069\\uf074\\uf079\\uf020\\uf05b\\uf031\\uf060\\uf054\\uf04f\\uf072\\uf031\\uf074\\uf049\\uf05d\\uf020n. [U] 權力，權勢；[C] 權威人士；[pl] 有關當局\\uf020\\uf063\\uf061\\uf062\\uf069\\uf06e\\uf065\\uf074\\uf020\\uf05b\\uf060\\uf06b\\uf038\\uf062\\uf049\\uf06e\\uf031\\uf074\\uf05d\\uf020n. [C] 櫥櫃；內閣\\uf020\\uf06d\\uf069\\uf06e\\uf069\\uf073\\uf074\\uf065\\uf072\\uf020\\uf05b\\uf060\\uf06d\\uf049\\uf06e\\uf049\\uf073\\uf074\\uf032\\uf05d\\uf020n. [C] 部長，牧師\\uf020\\uf067\\uf06f\\uf076\\uf065\\uf072\\uf06e\\uf06f\\uf072\\uf020\\uf05b\\uf060\\uf047\\uf05e\\uf076\\uf032\\uf06e\\uf032\\uf05d\\uf020n. [C] 州長，省長\\uf020\\uf06d\\uf061\\uf079\\uf06f\\uf072\\uf020\\uf05b\\uf060\\uf06d\\uf065\\uf032\\uf05d\\uf020n. [C] 市長\\uf020\\uf064\\uf069\\uf070\\uf06c\\uf06f\\uf06d\\uf061\\uf074\\uf020\\uf05b\\uf060\\uf064\\uf049\\uf070\\uf06c\\uf031\\uf026\\uf06d\\uf038\\uf074\\uf05d\\uf020n. [C] 外交官\\uf020\\uf063\\uf06f\\uf06e\\uf073\\uf065\\uf072\\uf076\\uf061\\uf074\\uf069\\uf076\\uf065\\uf020\\uf05b\\uf06b\\uf031\\uf06e\\uf060\\uf073\\uf032\\uf076\\uf031\\uf074\\uf049\\uf076\\uf05d\\uf020adj. 保守的；n. [C] 保守派人士\\uf020\\uf066\\uf06f\\uf06c\\uf06c\\uf06f\\uf077\\uf065\\uf072\\uf020\\uf05b\\uf060\\uf066\\uf041\\uf06c\\uf06f\\uf032\\uf05d\\uf020n. [C] 擁護者，信徒\\uf020\\uf072\\uf065\\uf070\\uf075\\uf062\\uf06c\\uf069\\uf063\\uf020\\uf05b\\uf072\\uf049\\uf060\\uf070\\uf05e\\uf062\\uf06c\\uf049\\uf06b\\uf05d\\uf020n. [C] 共和國\\uf020\\uf063\\uf06f\\uf06c\\uf06f\\uf06e\\uf079\\uf020\\uf05b\\uf060\\uf06b\\uf041\\uf06c\\uf031\\uf06e\\uf049\\uf05d\\uf020n. [C] 殖民地；（一）群（同類且有組織的動物）\\uf020\\x0cä-*l!\\n\\n; adj.\\n\\n, 5E.FJ$\\n\\nn. [C]\\n\\n\\'\\n\\n;\\n\\n\\'\\n\\n\\' grJff\\nn.\\nn. [C]\\n\\nglJ*\\n\\n\\' giJ± ;\\n\\n\\'\\n\\n;\\n\\nCAndæ,graund] adj.\\n\\n\\'\\n\\n; n. [U)\\n\\nn. [C]\\n\\ncapital\\ncongress (kangras]\\nconvention\\n[kan-venfan]\\ncouncil Ckauns!] n. [C)\\ncommittee\\nfound\\nfoundation\\nconference\\nchamber\\nunderground\\n\\n[faun defan]\\n(kanfarans]\\n\\n[faund] Vt. giJ*\\n\\n[kamltl]\\n\\nn. [c]\\n\\nn. [c]\\n\\n[poi] n.\\n\\nCkænda,det]\\n\\nn.\\nn. [C]\\n\\n[fkwalatl]\\n[ÜIEkfan]\\n\\ndemocratic\\nequality\\nelection\\ncandidate\\npoll\\nprotest\\nprotest\\ndemonstrate\\nmarch\\nparade Cpa-red] n. [C] Ivi.\\n\\n[pta-test]\\n(protest]\\n\\nit./vl.\\nn. [C,\\'V]\\n\\nn. [S]\\n\\nCdEmans,stret]\\n\\nadj.\\n\\nn. [C]\\n; Vt.\\n\\n; ft.\\n\\n\\'\\n\\' _ft*\\n\\nappoint\\napprove [a-pruv] vi.\\npermit\\nVt.\\npermit\\noppose [a-poz] Vt.\\ncease [sis] vi.&t.\\n\\n[p$mlt]\\n[\\'pæ,mrt] n. [C]\\n\\n\\'\\n\\nrot\\n\\n[,ov$9ro]\\n\\noverthrow\\nrevolution\\nreform [II-form]\\nestablish\\n[fstæbllfi\\nunite [ju-nalt] Vt.\\n\\nn.\\n\\n\\'.t.\\n\\nn. [C]\\n\\nVt.\\n\\n; vi.\\n\\n( fä?t)\\n\\nVt.\\n\\n; vi.\\n\\n; [C]\\n\\n; vi.\\n\\n27  \\uf063\\uf061\\uf070\\uf069\\uf074\\uf061\\uf06c\\uf020\\uf05b\\uf060\\uf06b\\uf038\\uf070\\uf031\\uf074\\uf04c\\uf05d\\uf020n. [C] 首都，[U]資本；adj. 大寫的，死刑的\\uf020\\uf063\\uf06f\\uf06e\\uf067\\uf072\\uf065\\uf073\\uf073\\uf020\\uf05b\\uf060\\uf06b\\uf041\\uf039\\uf067\\uf072\\uf031\\uf073\\uf05d\\uf020n. [C] 國會\\uf020\\uf063\\uf06f\\uf06e\\uf076\\uf065\\uf06e\\uf074\\uf069\\uf06f\\uf06e\\uf020\\uf05b\\uf06b\\uf031\\uf06e\\uf060\\uf076\\uf045\\uf06e\\uf053\\uf031\\uf06e\\uf05d\\uf020n. [C] 代表大會，會議；慣例，習俗\\uf020\\uf063\\uf06f\\uf075\\uf06e\\uf063\\uf069\\uf06c\\uf020\\uf05b\\uf060\\uf06b\\uf061\\uf055\\uf06e\\uf073\\uf04c\\uf05d\\uf020n. [C] 議會\\uf020\\uf063\\uf06f\\uf06d\\uf06d\\uf069\\uf074\\uf074\\uf065\\uf065\\uf020\\uf05b\\uf06b\\uf031\\uf06d\\uf049\\uf074\\uf049\\uf05d\\uf020n. [c] 委員會\\uf020\\uf066\\uf06f\\uf075\\uf06e\\uf064\\uf020\\uf05b\\uf066\\uf061\\uf035\\uf06e\\uf064\\uf05d\\uf020vt. 創辦，創立\\uf020\\uf066\\uf06f\\uf075\\uf06e\\uf064\\uf061\\uf074\\uf069\\uf06f\\uf06e\\uf020\\uf05b\\uf066\\uf061\\uf035\\uf06e\\uf060\\uf064\\uf065\\uf053\\uf031\\uf06e\\uf05d\\uf020n. [U] 創辦，創立；地基，基礎；基金會\\uf020\\uf063\\uf06f\\uf06e\\uf066\\uf065\\uf072\\uf065\\uf06e\\uf063\\uf065\\uf020\\uf05b\\uf060\\uf06b\\uf041\\uf06e\\uf066\\uf031\\uf072\\uf031\\uf06e\\uf073\\uf05d\\uf020n. [C] 會議\\uf020\\uf063\\uf068\\uf061\\uf06d\\uf062\\uf065\\uf072\\uf020\\uf05b\\uf060\\uf074\\uf053\\uf065\\uf06d\\uf062\\uf032\\uf05d\\uf020n. [C] （官方用途的）房間，室，（會議）廳\\uf020\\uf075\\uf06e\\uf064\\uf065\\uf072\\uf067\\uf072\\uf06f\\uf075\\uf06e\\uf064\\uf020\\uf05b\\uf060\\uf05e\\uf06e\\uf064\\uf032\\uf026\\uf047\\uf072\\uf061\\uf055\\uf06e\\uf064\\uf05d\\uf020adj. 地下的，秘密的；n. [U] 地下組織\\uf020《民主》 \\uf064\\uf065\\uf06d\\uf06f\\uf063\\uf072\\uf061\\uf074\\uf069\\uf063\\uf020\\uf05b\\uf026\\uf064\\uf045\\uf06d\\uf031\\uf060\\uf06b\\uf072\\uf038\\uf074\\uf049\\uf06b\\uf05d\\uf020adj. 民主的\\uf020\\uf065\\uf071\\uf075\\uf061\\uf06c\\uf069\\uf074\\uf079\\uf020\\uf05b\\uf049\\uf060\\uf06b\\uf077\\uf041\\uf06c\\uf031\\uf074\\uf049\\uf05d\\uf020n. [U/C] 平等，同等\\uf020\\uf065\\uf06c\\uf065\\uf063\\uf074\\uf069\\uf06f\\uf06e\\uf020\\uf05b\\uf049\\uf060\\uf06c\\uf045\\uf06b\\uf053\\uf031\\uf06e\\uf05d\\uf020n. [C] 選舉\\uf020\\uf063\\uf061\\uf06e\\uf064\\uf069\\uf064\\uf061\\uf074\\uf065\\uf020\\uf05b\\uf060\\uf06b\\uf038\\uf06e\\uf064\\uf031\\uf026\\uf064\\uf065\\uf074\\uf05d\\uf020n. [C] 候選人\\uf020\\uf070\\uf06f\\uf06c\\uf06c\\uf020\\uf05b\\uf070\\uf06f\\uf06c\\uf05d\\uf020n. [C] 民意測驗；vt. 做問卷調查\\uf020\\uf070\\uf072\\uf06f\\uf074\\uf065\\uf073\\uf074\\uf020\\uf05b\\uf070\\uf072\\uf031\\uf060\\uf074\\uf045\\uf073\\uf074\\uf05d\\uf020vt./vi. 抗議\\uf020\\uf070\\uf072\\uf06f\\uf074\\uf065\\uf073\\uf074\\uf020\\uf05b\\uf060\\uf070\\uf072\\uf06f\\uf074\\uf045\\uf073\\uf074\\uf05d\\uf020n. [C/U] 抗議（行動）\\uf020\\uf064\\uf065\\uf06d\\uf06f\\uf06e\\uf073\\uf074\\uf072\\uf061\\uf074\\uf065\\uf020\\uf05b\\uf060\\uf064\\uf045\\uf06d\\uf031\\uf06e\\uf073\\uf026\\uf073\\uf074\\uf072\\uf065\\uf074\\uf05d\\uf020vt. 示範；vi. 遊行示威\\uf020\\uf06d\\uf061\\uf072\\uf063\\uf068\\uf020\\uf05b\\uf06d\\uf041\\uf072\\uf074\\uf053\\uf05d\\uf020n. [S] 進行，進展；[C] 示威遊行，行軍；vi. 示威遊行\\uf020\\uf070\\uf061\\uf072\\uf061\\uf064\\uf065\\uf020\\uf05b\\uf070\\uf031\\uf060\\uf072\\uf065\\uf064\\uf05d\\uf020n. [C] / vi. （慶祝的）遊行\\uf020《作為》 \\uf061\\uf070\\uf070\\uf06f\\uf069\\uf06e\\uf074\\uf020\\uf05b\\uf031\\uf060\\uf070\\uf04f\\uf049\\uf06e\\uf074\\uf05d\\uf020vt. 選定，約定，指派\\uf020\\uf061\\uf070\\uf070\\uf072\\uf06f\\uf076\\uf065\\uf020\\uf05b\\uf031\\uf060\\uf070\\uf072\\uf075\\uf076\\uf05d\\uf020vi. 贊成，同意；vt. 批准\\uf020\\uf070\\uf065\\uf072\\uf06d\\uf069\\uf074\\uf020\\uf05b\\uf070\\uf032\\uf060\\uf06d\\uf049\\uf074\\uf05d\\uf020vt. 許可，允許\\uf020\\uf070\\uf065\\uf072\\uf06d\\uf069\\uf074\\uf020\\uf05b\\uf060\\uf070\\uf032\\uf026\\uf06d\\uf049\\uf074\\uf05d\\uf020n. [C] 許可證\\uf020\\uf06f\\uf070\\uf070\\uf06f\\uf073\\uf065\\uf020\\uf05b\\uf031\\uf060\\uf070\\uf06f\\uf07a\\uf05d\\uf020vt. 反對，抵制\\uf020\\uf063\\uf065\\uf061\\uf073\\uf065\\uf020\\uf05b\\uf073\\uf069\\uf073\\uf05d\\uf020vi./vt. 停止\\uf020\\uf072\\uf06f\\uf074\\uf020\\uf05b\\uf072\\uf041\\uf074\\uf05d\\uf020vt./vt. （使）腐敗、腐化\\uf020\\uf06f\\uf076\\uf065\\uf072\\uf074\\uf068\\uf072\\uf06f\\uf077\\uf020\\uf05b\\uf026\\uf06f\\uf076\\uf032\\uf060\\uf054\\uf072\\uf06f\\uf05d\\uf020vt. 推翻\\uf020\\uf072\\uf065\\uf076\\uf06f\\uf06c\\uf075\\uf074\\uf069\\uf06f\\uf06e\\uf020\\uf05b\\uf026\\uf072\\uf045\\uf076\\uf031\\uf060\\uf06c\\uf075\\uf053\\uf031\\uf06e\\uf05d n. [C] 革命\\uf020\\uf072\\uf065\\uf066\\uf06f\\uf072\\uf06d\\uf020\\uf05b\\uf072\\uf049\\uf060\\uf066\\uf04f\\uf072\\uf06d\\uf05d\\uf020n. /vt. 改革\\uf020\\uf065\\uf073\\uf074\\uf061\\uf062\\uf06c\\uf069\\uf073\\uf068\\uf020\\uf05b\\uf049\\uf060\\uf073\\uf074\\uf038\\uf062\\uf06c\\uf049\\uf053\\uf05d\\uf020vt. 建立，設立\\uf020\\uf075\\uf06e\\uf069\\uf074\\uf065\\uf020\\uf05b\\uf06a\\uf075\\uf060\\uf06e\\uf061\\uf049\\uf074\\uf05d\\uf020vt. 使聯合；vi. 團結\\uf020\\x0c;\\n\\n\\' __E%\\n\\n\\'\\n\\n\\'\\n\\n\\'\\n\\n\\'\\n\\n\\'\\n\\n\\'\\n\\n\\'\\n\\n[a-pil] vi.\\n\\nassemble [a-sembl]\\nappeal\\nnegotiate\\nrepresent\\n\\n[m gofi,et]\\n[,1EprÜzEnt] Vt.\\n\\n\\'\\nvt./vl.\\n\\nadj.\\n\\nad\\'.\\n\\n[,næf$nælatl]\\n\\n[p$lltlkl]\\n[do-mestlk]\\n\\n[sÜkjurat1] n. [U]\\n[aÜdentat1] n.\\n\\npolitical\\ndomestic\\nnationality\\nborder Cbordæ] n. [C]\\nsecurity\\nidentity\\nstatus\\nn. [U]\\nsystem Cslstam] n.\\napplication\\nregister CIEd31Stæ]\\nsignature Cslgnatf&] n. [C)\\nwelfare\\nprivilege\\n\\n(priv111d3] n. [C]\\n\\n[,æpWkefan]\\n\\ntwel,fE1]\\n\\nn. CLT]\\n\\n(stetas]\\n\\n;\\n\\n\\'\\n\\n; •vt„/vi. BE\\n\\n; (=ID)\\n\\'\\n\\n\\'\\n\\n\\'\\n\\n\\'\\n\\n\\'\\n\\n; n. [C]\\n\\n\\'\\n\\nn. [U)\\n\\'\\n\\n\\'\\n\\nn. [C)\\n\\'\\n\\n\\'\\n\\n\\'\\n\\n\\'\\n\\nn. [C)\\n\\nn. CU]\\n\\n[•budrzam]\\n\\n[fe9] n. [U)\\n\\nadj.\\nad\\'.\\n\\nreligion\\nfaith\\nBuddhism\\ncatholic\\nChristian\\n(kustfan]\\nJewish Cd3u1D ad\\'.\\nlord [lord] n. [C]\\nangel Üænd31] n. [C]\\nfairy\\nclergyman Ck13\\'d31man] n. [C]\\nminister Cmmlst»]\\nmonk\\nwitch\\n\\n[mA0k] n. [C]\\n[Wltf]\\n\\nn. [C]\\n\\n\\' fJJF\\n\\nn. [C]\\n\\nn. [C]\\n\\n(fen]\\n\\n\\'\\n\\n\\'\\n\\n; [U]\\n\\n; n.\\n; n. [C]\\n\\n(L\\n\\n\\' ü5fi\\n\\n28  \\uf061\\uf073\\uf073\\uf065\\uf06d\\uf062\\uf06c\\uf065\\uf020\\uf05b\\uf031\\uf060\\uf073\\uf045\\uf06d\\uf062\\uf04c\\uf05d\\uf020vt. 聚集，集合；組裝\\uf020\\uf061\\uf070\\uf070\\uf065\\uf061\\uf06c\\uf020\\uf05b\\uf031\\uf060\\uf070\\uf069\\uf06c\\uf05d\\uf020vi. 吸引，呼籲，懇求，上訴\\uf020\\uf06e\\uf065\\uf067\\uf06f\\uf074\\uf069\\uf061\\uf074\\uf065\\uf020\\uf05b\\uf06e\\uf049\\uf060\\uf047\\uf06f\\uf053\\uf049\\uf026\\uf065\\uf074\\uf05d\\uf020vt./vi. 談判，交涉，協商\\uf020\\uf072\\uf065\\uf070\\uf072\\uf065\\uf073\\uf065\\uf06e\\uf074\\uf020\\uf05b\\uf026\\uf072\\uf045\\uf070\\uf072\\uf049\\uf060\\uf07a\\uf045\\uf06e\\uf074\\uf05d\\uf020vt. 代表，象徵\\uf020《其他》 \\uf070\\uf06f\\uf06c\\uf069\\uf074\\uf069\\uf063\\uf061\\uf06c\\uf020\\uf05b\\uf070\\uf031\\uf060\\uf06c\\uf049\\uf074\\uf049\\uf06b\\uf04c\\uf05d\\uf020adj. 政治的，政治上的\\uf020\\uf064\\uf06f\\uf06d\\uf065\\uf073\\uf074\\uf069\\uf063\\uf020\\uf05b\\uf064\\uf031\\uf060\\uf06d\\uf045\\uf073\\uf074\\uf049\\uf06b\\uf05d\\uf020adj. 國內的，家庭的\\uf020\\uf06e\\uf061\\uf074\\uf069\\uf06f\\uf06e\\uf061\\uf06c\\uf069\\uf074\\uf079\\uf020\\uf05b\\uf026\\uf06e\\uf038\\uf053\\uf031\\uf060\\uf06e\\uf038\\uf06c\\uf031\\uf074\\uf049\\uf05d\\uf020n. [U] 國籍\\uf020\\uf062\\uf06f\\uf072\\uf064\\uf065\\uf072\\uf020\\uf05b\\uf060\\uf062\\uf04f\\uf072\\uf064\\uf032\\uf05d\\uf020n. [C] 邊界，國界；vt./vi. 毗鄰\\uf020\\uf073\\uf065\\uf063\\uf075\\uf072\\uf069\\uf074\\uf079\\uf020\\uf05b\\uf073\\uf049\\uf060\\uf06b\\uf06a\\uf035\\uf072\\uf031\\uf074\\uf049\\uf05d\\uf020n. [U] 放心，穩妥，安全\\uf020\\uf069\\uf064\\uf065\\uf06e\\uf074\\uf069\\uf074\\uf079\\uf020\\uf05b\\uf061\\uf049\\uf060\\uf064\\uf045\\uf06e\\uf074\\uf031\\uf074\\uf049\\uf05d\\uf020n. [U] 認同；(= ID) 身分\\uf020\\uf073\\uf074\\uf061\\uf074\\uf075\\uf073\\uf020\\uf05b\\uf060\\uf073\\uf074\\uf065\\uf074\\uf031\\uf073\\uf05d\\uf020n. [U] 地位，身分，狀態，情況\\uf020\\uf073\\uf079\\uf073\\uf074\\uf065\\uf06d\\uf020\\uf05b\\uf060\\uf073\\uf049\\uf073\\uf074\\uf031\\uf06d\\uf05d\\uf020n. 系統；制度\\uf020\\uf061\\uf070\\uf070\\uf06c\\uf069\\uf063\\uf061\\uf074\\uf069\\uf06f\\uf06e\\uf020\\uf05b\\uf026\\uf038\\uf070\\uf06c\\uf031\\uf060\\uf06b\\uf065\\uf053\\uf031\\uf06e\\uf05d\\uf020n. [C] 申請，應用，運用\\uf020\\uf072\\uf065\\uf067\\uf069\\uf073\\uf074\\uf065\\uf072\\uf020\\uf05b\\uf060\\uf072\\uf045\\uf064\\uf05a\\uf049\\uf073\\uf074\\uf032\\uf05d\\uf020vt. 註冊，登記；n. [C] 登記表，名冊\\uf020\\uf073\\uf069\\uf067\\uf06e\\uf061\\uf074\\uf075\\uf072\\uf065\\uf020\\uf05b\\uf060\\uf073\\uf049\\uf047\\uf06e\\uf031\\uf074\\uf053\\uf032\\uf05d\\uf020n. [C] 簽名\\uf020\\uf077\\uf065\\uf06c\\uf066\\uf061\\uf072\\uf065\\uf020\\uf05b\\uf060\\uf077\\uf045\\uf06c\\uf026\\uf066\\uf045\\uf072\\uf05d\\uf020n. [U] 幸福，福祉\\uf020\\uf070\\uf072\\uf069\\uf076\\uf069\\uf06c\\uf065\\uf067\\uf065\\uf020\\uf05b\\uf060\\uf070\\uf072\\uf049\\uf076\\uf049\\uf06c\\uf049\\uf064\\uf05a\\uf05d\\uf020n. [C] 特權，榮幸\\uf020 宗教 \\uf072\\uf065\\uf06c\\uf069\\uf067\\uf069\\uf06f\\uf06e\\uf020\\uf05b\\uf072\\uf049\\uf060\\uf06c\\uf049\\uf064\\uf05a\\uf031\\uf06e\\uf05d\\uf020n. [C] 宗教；[U] 宗教信仰\\uf020\\uf066\\uf061\\uf069\\uf074\\uf068\\uf020\\uf05b\\uf066\\uf065\\uf054\\uf05d\\uf020n. [U] 信心，信任，（宗教）信仰\\uf020B\\uf075\\uf064\\uf064\\uf068\\uf069\\uf073\\uf06d\\uf020\\uf05b\\uf060\\uf062\\uf055\\uf064\\uf049\\uf07a\\uf031\\uf06d\\uf05d\\uf020n. [U] 佛教 C\\uf061\\uf074\\uf068\\uf06f\\uf06c\\uf069\\uf063\\uf020\\uf05b\\uf060\\uf06b\\uf038\\uf054\\uf031\\uf06c\\uf049\\uf06b\\uf05d\\uf020adj. 天主教的；n. [C] 天主教徒 C\\uf068\\uf072\\uf069\\uf073\\uf074\\uf069\\uf061\\uf06e\\uf020\\uf05b\\uf060\\uf06b\\uf072\\uf049\\uf073\\uf074\\uf053\\uf031\\uf06e\\uf05d\\uf020adj. 基督教的；n. [C] 基督徒 J\\uf065\\uf077\\uf069\\uf073\\uf068\\uf020\\uf05b\\uf060\\uf064\\uf05a\\uf075\\uf049\\uf053\\uf05d adj. 猶太人的，猶太教的 \\uf06c\\uf06f\\uf072\\uf064\\uf020\\uf05b\\uf06c\\uf04f\\uf072\\uf064\\uf05d\\uf020n. [C] 貴族，君主，（L大寫）上帝\\uf020\\uf061\\uf06e\\uf067\\uf065\\uf06c\\uf020\\uf05b\\uf060\\uf038\\uf06e\\uf064\\uf05a\\uf04c\\uf05d\\uf020n. [C] 天使\\uf020\\uf066\\uf061\\uf069\\uf072\\uf079\\uf020\\uf05b\\uf060\\uf066\\uf045\\uf072\\uf049\\uf05d\\uf020n. [C] 妖精，仙子\\uf020\\uf063\\uf06c\\uf065\\uf072\\uf067\\uf079\\uf06d\\uf061\\uf06e\\uf020\\uf05b\\uf060\\uf06b\\uf06c\\uf033\\uf064\\uf05a\\uf049\\uf06d\\uf031\\uf06e\\uf05d n. [C] 神職人員\\uf020\\uf06d\\uf069\\uf06e\\uf069\\uf073\\uf074\\uf065\\uf072\\uf020\\uf05b\\uf060\\uf06d\\uf049\\uf06e\\uf049\\uf073\\uf074\\uf032\\uf05d\\uf020n. [C] 部長，牧師\\uf020\\uf06d\\uf06f\\uf06e\\uf06b\\uf020\\uf05b\\uf06d\\uf05e\\uf039\\uf06b\\uf05d\\uf020n. [C] 修士，和尚\\uf020\\uf077\\uf069\\uf074\\uf063\\uf068\\uf020\\uf05b\\uf077\\uf049\\uf074\\uf053\\uf05d\\uf020n. [C] 女巫\\uf020\\x0cthe\\n\\n)\\n\\n$ \\'\\n\\n(—5k)\\n\\nfollower\\n\\nn.\\n\\nad\\'.\\n\\nad\\'.\\n[da-vam]\\n[-3811] adj.\\n\\nheaven Chevan] n. [U)\\nholy Choli]\\ndivine\\nearthly\\nmiracle Cmlrak!] n. [C]\\nbible Cbarb!] n. [C] (usu.sing.)\\nmission Cmlfan]\\ncharm [tfarm]\\n\\nn. [C]\\n\\nn.\\n\\nmystery\\n\\nn. [C]\\n\\nmysterious\\nfate [fet] n.\\npredict\\ncurse [k3-s] n. [C] vi\\'vt.\\n\\n[prfdlkt]\\n\\nVt.\\n\\nadj.\\n\\n\\'\\n\\nad\\'.\\n\\nevil\\ndeadbed CdEd,bed] n. [C]\\nfuneral Üfjunaral]\\nn. [C]\\ngrave [grev] n. [C]\\n\\'\\nbury\\n\\nVt.\\n\\n\\'\\n\\n;\\n\\n;\\n\\n; n.\\n\\n\\'\\n\\n\\'\\n\\n;\\n\\n; [0\\n\\n, fix\\n\\nIt.\\n\\nstrength\\n[stre09] n. [U)\\nstrengthen Cstreoean]\\nintelligence\\nstrategy Cstrætad31] n. [C]\\nmarch\\narms [armz]\\n\\n\\'\\n[m-teladsans] n. [U)\\n\\'\\n\\nn.\\nn. [pl]\\n[SPIT] n. [C]\\n[sord] n. [C] EJ\\n[bled] n.\\nCbUIIt] n. [C]\\n\\nspear\\n\\nsword\\n\\nblade\\n\\nbullet\\n\\n29  \\uf066\\uf06f\\uf06c\\uf06c\\uf06f\\uf077\\uf065\\uf072\\uf020\\uf05b\\uf060\\uf066\\uf041\\uf06c\\uf06f\\uf032\\uf05d\\uf020n. [C] 擁護者，信徒\\uf020\\uf068\\uf065\\uf061\\uf076\\uf065\\uf06e\\uf020\\uf05b\\uf060\\uf068\\uf045\\uf076\\uf031\\uf06e\\uf05d\\uf020n. [U] 天堂（不與the連用）\\uf020\\uf068\\uf06f\\uf06c\\uf079\\uf020\\uf05b\\uf060\\uf068\\uf06f\\uf06c\\uf049\\uf05d\\uf020adj. 神聖的\\uf020\\uf064\\uf069\\uf076\\uf069\\uf06e\\uf065\\uf020\\uf05b\\uf064\\uf031\\uf060\\uf076\\uf061\\uf049\\uf06e\\uf05d\\uf020adj. 神（一般）的，美好的\\uf020\\uf065\\uf061\\uf072\\uf074\\uf068\\uf06c\\uf079\\uf020\\uf05b\\uf060\\uf033\\uf054\\uf06c\\uf049\\uf05d\\uf020adj. 塵世的\\uf020\\uf06d\\uf069\\uf072\\uf061\\uf063\\uf06c\\uf065\\uf020\\uf05b\\uf060\\uf06d\\uf049\\uf072\\uf031\\uf06b\\uf04c\\uf05d\\uf020n. [C] 奇蹟\\uf020\\uf062\\uf069\\uf062\\uf06c\\uf065\\uf020\\uf05b\\uf060\\uf062\\uf061\\uf049\\uf062\\uf04c\\uf05d\\uf020n. [C] (usu.sing.) 聖經\\uf020\\uf06d\\uf069\\uf073\\uf073\\uf069\\uf06f\\uf06e\\uf020\\uf05b\\uf060\\uf06d\\uf049\\uf053\\uf031\\uf06e\\uf05d\\uf020n. [C] 傳教，佈道；任務\\uf020\\uf063\\uf068\\uf061\\uf072\\uf06d\\uf020\\uf05b\\uf074\\uf053\\uf041\\uf072\\uf06d\\uf05d\\uf020n. [U]魅力，[C]符咒；vt. 使著迷\\uf020\\uf06d\\uf079\\uf073\\uf074\\uf065\\uf072\\uf079\\uf020\\uf05b\\uf060\\uf06d\\uf049\\uf073\\uf074\\uf031\\uf072\\uf049\\uf05d\\uf020n. [C] 神秘，不可思議的事物\\uf020\\uf06d\\uf079\\uf073\\uf074\\uf065\\uf072\\uf069\\uf06f\\uf075\\uf073\\uf020\\uf05b\\uf026\\uf06d\\uf049\\uf073\\uf060\\uf074\\uf049\\uf072\\uf049\\uf031\\uf073\\uf05d\\uf020adj. 神秘的\\uf020\\uf066\\uf061\\uf074\\uf065\\uf020\\uf05b\\uf066\\uf065\\uf074\\uf05d\\uf020n. 命運\\uf020\\uf070\\uf072\\uf065\\uf064\\uf069\\uf063\\uf074\\uf020\\uf05b\\uf070\\uf072\\uf049\\uf060\\uf064\\uf049\\uf06b\\uf074\\uf05d\\uf020vt. 預測，預言\\uf020\\uf063\\uf075\\uf072\\uf073\\uf065\\uf020\\uf05b\\uf06b\\uf033\\uf073\\uf05d\\uf020n. [C] / vi/vt. 詛咒\\uf020\\uf073\\uf069\\uf06e\\uf020\\uf05b\\uf073\\uf049\\uf06e\\uf05d\\uf020n. [C] （良心、宗教上的）罪\\uf020\\uf065\\uf076\\uf069\\uf06c\\uf020\\uf05b\\uf060\\uf069\\uf076\\uf04c\\uf05d\\uf020adj. 邪惡的，不懷好意的；n. [U] 邪惡，罪惡\\uf020\\uf064\\uf065\\uf061\\uf064\\uf062\\uf065\\uf064\\uf020\\uf05b\\uf060\\uf064\\uf045\\uf064\\uf026\\uf062\\uf045\\uf064\\uf05d\\uf020n. [C] 臨終所躺的床\\uf020\\uf066\\uf075\\uf06e\\uf065\\uf072\\uf061\\uf06c\\uf020\\uf05b\\uf060\\uf066\\uf06a\\uf075\\uf06e\\uf031\\uf072\\uf031\\uf06c\\uf05d\\uf020n. [C] 喪禮\\uf020\\uf067\\uf072\\uf061\\uf076\\uf065\\uf020\\uf05b\\uf047\\uf072\\uf065\\uf076\\uf05d\\uf020n. [C] 墳墓，墓穴\\uf020\\uf062\\uf075\\uf072\\uf079\\uf020\\uf05b\\uf060\\uf062\\uf045\\uf072\\uf049\\uf05d\\uf020vt. 埋葬，使投入，使埋首\\uf020 戰爭 《武力》 \\uf073\\uf074\\uf072\\uf065\\uf06e\\uf067\\uf074\\uf068\\uf020\\uf05b\\uf073\\uf074\\uf072\\uf045\\uf039\\uf054\\uf05d\\uf020n. [U] 力量，力氣，優點\\uf020\\uf073\\uf074\\uf072\\uf065\\uf06e\\uf067\\uf074\\uf068\\uf065\\uf06e\\uf020\\uf05b\\uf060\\uf073\\uf074\\uf072\\uf045\\uf039\\uf054\\uf031\\uf06e\\uf05d\\uf020vt. 增強，加強\\uf020\\uf069\\uf06e\\uf074\\uf065\\uf06c\\uf06c\\uf069\\uf067\\uf065\\uf06e\\uf063\\uf065\\uf020\\uf05b\\uf049\\uf06e\\uf060\\uf074\\uf045\\uf06c\\uf031\\uf064\\uf05a\\uf031\\uf06e\\uf073\\uf05d\\uf020n. [U] 聰明才智；情報\\uf020\\uf073\\uf074\\uf072\\uf061\\uf074\\uf065\\uf067\\uf079\\uf020\\uf05b\\uf060\\uf073\\uf074\\uf072\\uf038\\uf074\\uf031\\uf064\\uf05a\\uf049\\uf05d\\uf020n. [C] 對策，策略\\uf020\\uf06d\\uf061\\uf072\\uf063\\uf068\\uf020\\uf05b\\uf06d\\uf041\\uf072\\uf074\\uf053\\uf05d\\uf020n. [S] 進行，進展；[C] 示威遊行，行軍；vi. 示威遊行\\uf020\\uf061\\uf072\\uf06d\\uf073\\uf020\\uf05b\\uf041\\uf072\\uf06d\\uf07a\\uf05d\\uf020n. [pl] 武器\\uf020\\uf073\\uf070\\uf065\\uf061\\uf072\\uf020\\uf05b\\uf073\\uf070\\uf049\\uf072\\uf05d\\uf020n. [C] 矛\\uf020\\uf073\\uf077\\uf06f\\uf072\\uf064\\uf020\\uf05b\\uf073\\uf04f\\uf072\\uf064\\uf05d\\uf020n. [C] 劍\\uf020\\uf062\\uf06c\\uf061\\uf064\\uf065\\uf020\\uf05b\\uf062\\uf06c\\uf065\\uf064\\uf05d\\uf020n. [C] 刀鋒\\uf020\\uf062\\uf075\\uf06c\\uf06c\\uf065\\uf074\\uf020\\uf05b\\uf060\\uf062\\uf055\\uf06c\\uf049\\uf074\\uf05d\\uf020n. [C] 子彈\\uf020\\x0cn.\\n\\nmissile\\nparachute Cpæra,fut] n. [C]\\nfort\\ntroop [trup] n. [C] (usu.pl.)\\nnavy C&nevl] n. [C]\\n\\nn. [0\\n\\n[ka&mænd] n. [C]\\n\\ncommand\\ncope Ckop] vi.\\ndefense\\n\\n\\'\\n\\nfens] n. [CT)\\n\\nresist\\n\\nvtfvi.\\n\\n[rfustans]\\n\\nresistance\\ndodge [dads] Vt.\\ninvade\\nconquer C&kaoka•]it.\\n\\n[In-ved]\\n\\nVt.\\n\\noccupy\\n\\nvt.\\n\\nn. [U)\\n\\'\\n\\n\\'\\n\\n\\'\\n\\n,\\n\\n;\\n\\n\\'\\n\\n;\\n\\ncapture C&kæptf»] n. [U]\\nrescue [&reskju] n. [U)\\ndefeat\\n\\n[dÜfit]\\n\\nn. [U]/vt.\\nn. [pl]\\n\\n[dÜstr01]\\n\\nruins Crumz]\\ndestroy\\nexplode [Ik,-splod]\\nexplosion\\nrebel\\n\\nvi.\\n\\n; \"t.\\n\\n\\'\\n\\n\\'\\nn. CU]\\n\\n\\'\\n\\n\\'\\n\\n\\'\\n\\n[1k&sp103an] n. [C]\\n\\nvi. (fled I fled I fleeing)\\ntrit]\\n[$bændan]\\n\\nVt.\\n\\nvi\\n\\nflee [fli]\\nretreat\\nabandon\\nspare [sper] •ft.\\nsurrender\\n\\n[sa-ændö]\\n\\n\\'\\n; adj.\\n\\n\\'\\n\\nn. [C] I vi.\\n\\n;\\n\\nsuffer\\n\\nsacrifice Csækrafals] vt./n.\\nrefugee [,1EfjU d3i] n. [C]\\nvictim [Avlktam]\\n\\nn. [C)\\n\\n[C]\\n\\n\\'\\n\\n\\'\\n\\n30  \\uf06d\\uf069\\uf073\\uf073\\uf069\\uf06c\\uf065\\uf020\\uf05b\\uf060\\uf06d\\uf049\\uf073\\uf04c\\uf05d\\uf020n. [C] 飛彈\\uf020\\uf070\\uf061\\uf072\\uf061\\uf063\\uf068\\uf075\\uf074\\uf065\\uf020\\uf05b\\uf060\\uf070\\uf038\\uf072\\uf031\\uf026\\uf053\\uf075\\uf074\\uf05d\\uf020n. [C] 降落傘\\uf020\\uf066\\uf06f\\uf072\\uf074\\uf020\\uf05b\\uf066\\uf04f\\uf072\\uf074\\uf05d\\uf020n. [C] 保壘，要塞\\uf020\\uf074\\uf072\\uf06f\\uf06f\\uf070\\uf020\\uf05b\\uf074\\uf072\\uf075\\uf070\\uf05d\\uf020n. [C] (usu. pl.) 軍隊\\uf020\\uf06e\\uf061\\uf076\\uf079\\uf020\\uf05b\\uf060\\uf06e\\uf065\\uf076\\uf049\\uf05d\\uf020n. [C] 海軍\\uf020《爭戰》 \\uf063\\uf06f\\uf06d\\uf06d\\uf061\\uf06e\\uf064\\uf020\\uf05b\\uf06b\\uf031\\uf060\\uf06d\\uf038\\uf06e\\uf064\\uf05d\\uf020n. [C] 命令；vt. 命令，下令\\uf020\\uf063\\uf06f\\uf070\\uf065\\uf020\\uf05b\\uf06b\\uf06f\\uf070\\uf05d\\uf020vi. 對抗，應付\\uf020\\uf064\\uf065\\uf066\\uf065\\uf06e\\uf073\\uf065\\uf020\\uf05b\\uf064\\uf049\\uf060\\uf066\\uf045\\uf06e\\uf073\\uf05d\\uf020n. [C/U] 防禦，辯護\\uf020\\uf072\\uf065\\uf073\\uf069\\uf073\\uf074\\uf020\\uf05b\\uf072\\uf049\\uf060\\uf07a\\uf049\\uf073\\uf074\\uf05d\\uf020vt. / vi. 抵擋，不受…的損害\\uf020\\uf072\\uf065\\uf073\\uf069\\uf073\\uf074\\uf061\\uf06e\\uf063\\uf065\\uf020\\uf05b\\uf072\\uf049\\uf060\\uf07a\\uf049\\uf073\\uf074\\uf031\\uf06e\\uf073\\uf05d\\uf020n. [U] 抵抗，抵抗力\\uf020\\uf064\\uf06f\\uf064\\uf067\\uf065\\uf020\\uf05b\\uf064\\uf041\\uf064\\uf05a\\uf05d\\uf020vt. 閃躲，迴避（拳頭、子彈、問題）\\uf020\\uf069\\uf06e\\uf076\\uf061\\uf064\\uf065\\uf020\\uf05b\\uf049\\uf06e\\uf060\\uf076\\uf065\\uf064\\uf05d\\uf020vt. 侵入，侵略\\uf020\\uf063\\uf06f\\uf06e\\uf071\\uf075\\uf065\\uf072\\uf020\\uf05b\\uf060\\uf06b\\uf041\\uf039\\uf06b\\uf032\\uf05d\\uf020vt. 佔領，征服\\uf020\\uf06f\\uf063\\uf063\\uf075\\uf070\\uf079\\uf020\\uf05b\\uf060\\uf041\\uf06b\\uf06a\\uf031\\uf026\\uf070\\uf061\\uf049\\uf05d\\uf020vt. 佔領，佔據；使用，佔用\\uf020\\uf073\\uf065\\uf069\\uf07a\\uf065\\uf020\\uf05b\\uf073\\uf069\\uf07a\\uf05d\\uf020vt. 把握，抓住，抓獲，奪取\\uf020\\uf063\\uf061\\uf070\\uf074\\uf075\\uf072\\uf065\\uf020\\uf05b\\uf060\\uf06b\\uf038\\uf070\\uf074\\uf053\\uf032\\uf05d\\uf020n. [U] 逮捕，抓住；vt. 擄獲，捕獲，引起（注意）\\uf020\\uf072\\uf065\\uf073\\uf063\\uf075\\uf065\\uf020\\uf05b\\uf060\\uf072\\uf045\\uf073\\uf06b\\uf06a\\uf075\\uf05d\\uf020n. [U] / vt. 援救，營救\\uf020\\uf064\\uf065\\uf066\\uf065\\uf061\\uf074\\uf020\\uf05b\\uf064\\uf049\\uf060\\uf066\\uf069\\uf074\\uf05d\\uf020vt. 擊敗，打敗； n. [U] 失敗，挫敗\\uf020\\uf072\\uf075\\uf069\\uf06e\\uf020\\uf05b\\uf060\\uf072\\uf075\\uf049\\uf06e\\uf05d\\uf020n. [U] / vt. 破壞，毀壞\\uf020\\uf072\\uf075\\uf069\\uf06e\\uf073\\uf020\\uf05b\\uf060\\uf072\\uf075\\uf049\\uf06e\\uf07a\\uf05d\\uf020n. [pl] 斷垣殘壁，遺跡\\uf020\\uf064\\uf065\\uf073\\uf074\\uf072\\uf06f\\uf079\\uf020\\uf05b\\uf064\\uf049\\uf060\\uf073\\uf074\\uf072\\uf04f\\uf049\\uf05d\\uf020vt. 摧毀，毀滅\\uf020\\uf065\\uf078\\uf070\\uf06c\\uf06f\\uf064\\uf065\\uf020\\uf05b\\uf049\\uf06b\\uf060\\uf073\\uf070\\uf06c\\uf06f\\uf064\\uf05d\\uf020vi. 爆炸，迸發 (感情)，激增\\uf020\\uf065\\uf078\\uf070\\uf06c\\uf06f\\uf073\\uf069\\uf06f\\uf06e\\uf020\\uf05b\\uf049\\uf06b\\uf060\\uf073\\uf070\\uf06c\\uf06f\\uf05a\\uf031\\uf06e\\uf05d\\uf020n. [C] 爆炸\\uf020\\uf072\\uf065\\uf062\\uf065\\uf06c\\uf020\\uf05b\\uf072\\uf049\\uf060\\uf062\\uf045\\uf06c\\uf05d\\uf020vi. 反抗，造反；n. [C] 叛徒\\uf020\\uf066\\uf06c\\uf065\\uf065\\uf020\\uf05b\\uf066\\uf06c\\uf069\\uf05d\\uf020vi. (fled | fled | fleeing) 迅速逃離\\uf020\\uf072\\uf065\\uf074\\uf072\\uf065\\uf061\\uf074\\uf020\\uf05b\\uf072\\uf049\\uf060\\uf074\\uf072\\uf069\\uf074\\uf05d\\uf020vi. 撤退\\uf020\\uf061\\uf062\\uf061\\uf06e\\uf064\\uf06f\\uf06e\\uf020\\uf05b\\uf031\\uf060\\uf062\\uf038\\uf06e\\uf064\\uf031\\uf06e\\uf05d\\uf020vt. 放棄，拋棄\\uf020\\uf073\\uf070\\uf061\\uf072\\uf065\\uf020\\uf05b\\uf073\\uf070\\uf045\\uf072\\uf05d\\uf020vt. 節省，饒恕；adj. 備用的\\uf020\\uf073\\uf075\\uf072\\uf072\\uf065\\uf06e\\uf064\\uf065\\uf072\\uf020\\uf05b\\uf073\\uf031\\uf060\\uf072\\uf045\\uf06e\\uf064\\uf032\\uf05d\\uf020n. [C] / vi. 投降\\uf020\\uf073\\uf075\\uf066\\uf066\\uf065\\uf072\\uf020\\uf05b\\uf060\\uf073\\uf05e\\uf066\\uf032\\uf05d\\uf020vi. 受苦；vt. 遭受，承受\\uf020\\uf073\\uf061\\uf063\\uf072\\uf069\\uf066\\uf069\\uf063\\uf065\\uf020\\uf05b\\uf060\\uf073\\uf038\\uf06b\\uf072\\uf031\\uf066\\uf061\\uf049\\uf073\\uf05d\\uf020vt. / n. [C] 犧牲，獻出\\uf020\\uf072\\uf065\\uf066\\uf075\\uf067\\uf065\\uf065\\uf020\\uf05b\\uf026\\uf072\\uf045\\uf066\\uf06a\\uf055\\uf060\\uf064\\uf05a\\uf069\\uf05d\\uf020n. [C] 難民\\uf020\\uf076\\uf069\\uf063\\uf074\\uf069\\uf06d\\uf020\\uf05b\\uf060\\uf076\\uf049\\uf06b\\uf074\\uf031\\uf06d\\uf05d\\uf020n. [C] 受害者，罹難者\\uf020\\x0c; vi.\\n\\n\\'\\n\\n; adj.\\n\\n\\'\\n\\nn. [C]\\n\\njourney\\nsightseeing\\ntourist\\ntraveler Ctrævala--] n. [C]\\n\\n[\\'salt,si10] n. CLT]\\n\\'\\n\\n(wrist]\\n\\nn. [C]\\n\\nn.\\nvi. (S€*)\\n\\nvi.\\n\\n[dÜpart]\\n\\n[\\'lma,gret]\\n\\nadventure\\nimmigrate\\ndepart\\nluggage [\\'IAg1d3] n. [U)\\nbackpack Cbæk,pæk] n. [C]\\nsouvenir\\npassport Cpæs,prt]\\n[mo-tE1] n.\\nmotel\\n\\n,mr] n. [C]\\nn.[C]\\n\\n[\\'sav.\\n\\n(ä-R)\\n\\'\\n\\nentertain\\nrecreation\\nperform\\nperformance\\n\\n[,Ent$ten]\\n[,1EkrÜefan]\\nvt.\\n\\nVt.\\n\\n,\\n\\nn. [LLC]\\n\\n\\'\\n\\n;\\n\\n[p$formans]\\n\\nn. [C]\\n\\n\\'\\n\\nn.\\n\\nv.\\n\\nprogram\\ncircus Cs3\\'kas] n. [C)\\ncinema\\n\\n(smama]\\n\\nn. [C]\\n\\nfeature\\n\\n,\\n\\n;\\n\\n[kæst] Vt.\\n\\nn. [C] ZSJJ\\n\\nclip\\ncomedy Ckamadl]\\ntragedy Ctræd3ad1] n. [C] 78JJ \\'\\ncast\\n\\'\\ncostume Ckastjum]\\nPOP [pcp]\\ndisco (dlsko]\\nactivity\\n\\n; n. [C]\\nn. [C]\\n\\n[æk&tlvatl] n. [C]\\n\\nn. [C]\\n\\n; ad\\'. jtfifi\\n\\n;\\n\\n31  旅遊 \\uf06a\\uf06f\\uf075\\uf072\\uf06e\\uf065\\uf079\\uf020\\uf05b\\uf060\\uf064\\uf05a\\uf033\\uf06e\\uf049\\uf05d\\uf020n. [C] 旅行，旅程；vi. 旅行\\uf020\\uf073\\uf069\\uf067\\uf068\\uf074\\uf073\\uf065\\uf065\\uf069\\uf06e\\uf067\\uf020\\uf05b\\uf060\\uf073\\uf061\\uf049\\uf074\\uf026\\uf073\\uf069\\uf049\\uf039\\uf05d\\uf020n. [U] 觀光，遊覽\\uf020\\uf074\\uf06f\\uf075\\uf072\\uf069\\uf073\\uf074\\uf020\\uf05b\\uf060\\uf074\\uf035\\uf072\\uf049\\uf073\\uf074\\uf05d\\uf020n. [C] 觀光客，遊客；adj. 觀光的\\uf020\\uf074\\uf072\\uf061\\uf076\\uf065\\uf06c\\uf065\\uf072\\uf020\\uf05b\\uf060\\uf074\\uf072\\uf038\\uf076\\uf031\\uf06c\\uf032\\uf05d\\uf020n. [C] 旅客，旅行者\\uf020\\uf061\\uf064\\uf076\\uf065\\uf06e\\uf074\\uf075\\uf072\\uf065\\uf020\\uf05b\\uf031\\uf064\\uf060\\uf076\\uf045\\uf06e\\uf074\\uf053\\uf032\\uf05d\\uf020n. 冒險，奇遇\\uf020\\uf069\\uf06d\\uf06d\\uf069\\uf067\\uf072\\uf061\\uf074\\uf065\\uf020\\uf05b\\uf060\\uf049\\uf06d\\uf031\\uf026\\uf047\\uf072\\uf065\\uf074\\uf05d\\uf020vi. (自他國) 移入，移居\\uf020\\uf064\\uf065\\uf070\\uf061\\uf072\\uf074\\uf020\\uf05b\\uf064\\uf049\\uf060\\uf070\\uf041\\uf072\\uf074\\uf05d\\uf020vi. 出發\\uf020\\uf06c\\uf075\\uf067\\uf067\\uf061\\uf067\\uf065\\uf020\\uf05b\\uf060\\uf06c\\uf05e\\uf047\\uf049\\uf064\\uf05a\\uf05d\\uf020n. [U] 行李（英式）\\uf020\\uf062\\uf061\\uf063\\uf06b\\uf070\\uf061\\uf063\\uf06b\\uf020\\uf05b\\uf060\\uf062\\uf038\\uf06b\\uf026\\uf070\\uf038\\uf06b\\uf05d\\uf020n. [C] 背包，行囊\\uf020\\uf073\\uf06f\\uf075\\uf076\\uf065\\uf06e\\uf069\\uf072\\uf020\\uf05b\\uf060\\uf073\\uf075\\uf076\\uf031\\uf026\\uf06e\\uf049\\uf072\\uf05d\\uf020n. [C] 紀念品\\uf020\\uf070\\uf061\\uf073\\uf073\\uf070\\uf06f\\uf072\\uf074\\uf020\\uf05b\\uf060\\uf070\\uf038\\uf073\\uf026\\uf070\\uf04f\\uf072\\uf074\\uf05d\\uf020n.[C] 護照\\uf020\\uf06d\\uf06f\\uf074\\uf065\\uf06c\\uf020\\uf05b\\uf06d\\uf06f\\uf060\\uf074\\uf045\\uf06c\\uf05d\\uf020n. [C] 汽車旅館\\uf020 娛樂 \\uf065\\uf06e\\uf074\\uf065\\uf072\\uf074\\uf061\\uf069\\uf06e\\uf020\\uf05b\\uf026\\uf045\\uf06e\\uf074\\uf032\\uf060\\uf074\\uf065\\uf06e\\uf05d\\uf020vt. 使快樂，娛樂某人\\uf020\\uf072\\uf065\\uf063\\uf072\\uf065\\uf061\\uf074\\uf069\\uf06f\\uf06e\\uf020\\uf05b\\uf026\\uf072\\uf045\\uf06b\\uf072\\uf049\\uf060\\uf065\\uf053\\uf031\\uf06e\\uf05d\\uf020n. [U/C] 消遣，休閒娛樂\\uf020\\uf070\\uf065\\uf072\\uf066\\uf06f\\uf072\\uf06d\\uf020\\uf05b\\uf070\\uf032\\uf060\\uf066\\uf04f\\uf072\\uf06d\\uf05d\\uf020vt. 履行，執行；表演，演出\\uf020\\uf070\\uf065\\uf072\\uf066\\uf06f\\uf072\\uf06d\\uf061\\uf06e\\uf063\\uf065\\uf020\\uf05b\\uf070\\uf032\\uf060\\uf066\\uf04f\\uf072\\uf06d\\uf031\\uf06e\\uf073\\uf05d\\uf020n. [C] 表演，演出\\uf020\\uf070\\uf072\\uf06f\\uf067\\uf072\\uf061\\uf06d\\uf020\\uf05b\\uf060\\uf070\\uf072\\uf06f\\uf067\\uf072\\uf038\\uf06d\\uf05d\\uf020n. （廣播或電視）節目、程式 v. 設計程式\\uf020\\uf063\\uf069\\uf072\\uf063\\uf075\\uf073\\uf020\\uf05b\\uf060\\uf073\\uf033\\uf06b\\uf031\\uf073\\uf05d\\uf020n. [C] 馬戲團\\uf020\\uf063\\uf069\\uf06e\\uf065\\uf06d\\uf061\\uf020\\uf05b\\uf060\\uf073\\uf049\\uf06e\\uf031\\uf06d\\uf031\\uf05d\\uf020n. [C] 電影院\\uf020\\uf066\\uf065\\uf061\\uf074\\uf075\\uf072\\uf065\\uf020\\uf05b\\uf060\\uf066\\uf069\\uf074\\uf053\\uf032\\uf05d\\uf020n. [C] 正片，影片；特色，特徵； vt. 以…為主要特色、重點\\uf020\\uf063\\uf06c\\uf069\\uf070\\uf020\\uf05b\\uf06b\\uf06c\\uf049\\uf070\\uf05d\\uf020n. [C] (電視、電影的) 片段；vt. 修剪\\uf020\\uf063\\uf06f\\uf06d\\uf065\\uf064\\uf079\\uf020\\uf05b\\uf060\\uf06b\\uf041\\uf06d\\uf031\\uf064\\uf049\\uf05d\\uf020n. [C] 喜劇\\uf020\\uf074\\uf072\\uf061\\uf067\\uf065\\uf064\\uf079\\uf020\\uf05b\\uf060\\uf074\\uf072\\uf038\\uf064\\uf05a\\uf031\\uf064\\uf049\\uf05d\\uf020n. [C] 悲劇，慘劇\\uf020\\uf063\\uf061\\uf073\\uf074\\uf020\\uf05b\\uf06b\\uf038\\uf073\\uf074\\uf05d\\uf020vt. 扔，擲；n. [C] 卡司；石膏\\uf020\\uf063\\uf06f\\uf073\\uf074\\uf075\\uf06d\\uf065\\uf020\\uf05b\\uf060\\uf06b\\uf041\\uf073\\uf074\\uf06a\\uf075\\uf06d\\uf05d\\uf020n. [C] 戲服\\uf020\\uf070\\uf06f\\uf070\\uf020\\uf05b\\uf070\\uf041\\uf070\\uf05d\\uf020vi. 發出爆裂聲；adj. 流行的（= popular）\\uf020\\uf064\\uf069\\uf073\\uf063\\uf06f\\uf020\\uf05b\\uf060\\uf064\\uf049\\uf073\\uf06b\\uf06f\\uf05d\\uf020n. [C] 迪斯可舞廳、音樂\\uf020\\uf061\\uf063\\uf074\\uf069\\uf076\\uf069\\uf074\\uf079\\uf020\\uf05b\\uf038\\uf06b\\uf060\\uf074\\uf049\\uf076\\uf031\\uf074\\uf049\\uf05d\\uf020n. [C] 活動\\uf020\\x0cbingo\\nfireworks\\nfirecracker\\ncelebrate\\n\\nüblogo] n.\\n\\nn. Cpl.]\\nn. [C]\\n\\n(fall\\n\\n(SEIa bret] Vt.\\n\\nn.\\n\\n\\'\\n[pftlsa,pet]\\n\\nreception\\nhost\\n[host]\\nparticipate\\naudience Codæns] n. [C]\\nfan [fæn] n. [C)\\nidol Cald!] n. [C)\\n\\nvi.\\n\\n\\'\\n\\n\\'\\n\\nn. [U)\\n\\nad\\'.\\n\\n; Vt.\\n\\n\\'\\n\\n[W,nem]\\n\\nChaus,hold]\\n\\nCtfalld,hud]\\n[do-mestlk]\\n\\ngeneration\\nn. [C)\\nbackground Übæk,graund] n. [C)\\norigin Coradsm] n. [C] (usu.pl.)\\nsurname\\nn. [C]\\nancestor Cænses»] n. [C]\\nchildhood\\ndomestic\\nhousehold\\nhometown\\nrelative CIElat1V] adj.\\n\\'\\nhousekeeper Chaus,kipa•] n. [C]\\nnanny\\n\\'\\n[\\'næm] n. [C]\\nstepchild Cstep, falld]\\norphan Corfan] n. [C]\\nadopt\\nspoil\\ninfant\\n\\n[a-dapt] Vt.\\n[spall] vt.\\n\\nn. [C]\\nn. [C]\\n\\nn. [C)\\n\\n(lnfant]\\n\\nn. [C]\\n\\n\\'\\n\\n;\\n\\nVI.\\n\\n\\' —f*-\\n\\n\\'\\n\\n\\'\\n\\n\\'\\n\\n\\'\\n\\n\\'\\n\\n\\'\\n\\n(\\n\\n(SÜD\\n\\n; n. [C]\\n\\ncradle\\n\\nn.\\n\\n[twm]\\n\\nn. [C] eE%Z—\\n\\ntwin\\ntender\\nyoungster ÜjASta-•]n. [C]\\n\\nad\\'.\\n\\n;\\n\\n; adj.\\n\\n,\\n\\n32  \\uf062\\uf069\\uf06e\\uf067\\uf06f\\uf020\\uf05b\\uf060\\uf062\\uf049\\uf039\\uf047\\uf06f\\uf05d\\uf020n. [U] 賓果遊戲\\uf020\\uf066\\uf069\\uf072\\uf065\\uf077\\uf06f\\uf072\\uf06b\\uf073\\uf020\\uf05b\\uf060\\uf066\\uf061\\uf049\\uf072\\uf026\\uf077\\uf033\\uf06b\\uf073\\uf05d\\uf020n. [pl.] 煙火\\uf020\\uf066\\uf069\\uf072\\uf065\\uf063\\uf072\\uf061\\uf063\\uf06b\\uf065\\uf072\\uf020\\uf05b\\uf060\\uf066\\uf061\\uf049\\uf072\\uf026\\uf06b\\uf072\\uf038\\uf06b\\uf032\\uf05d\\uf020n. [C] 鞭炮\\uf020\\uf063\\uf065\\uf06c\\uf065\\uf062\\uf072\\uf061\\uf074\\uf065\\uf020\\uf05b\\uf060\\uf073\\uf045\\uf06c\\uf031\\uf026\\uf062\\uf072\\uf065\\uf074\\uf05d\\uf020vt. 慶祝\\uf020\\uf072\\uf065\\uf063\\uf065\\uf070\\uf074\\uf069\\uf06f\\uf06e\\uf020\\uf05b\\uf072\\uf049\\uf060\\uf073\\uf045\\uf070\\uf053\\uf031\\uf06e\\uf05d n. [C] 接待，回應，招待會\\uf020\\uf068\\uf06f\\uf073\\uf074\\uf020\\uf05b\\uf068\\uf06f\\uf073\\uf074\\uf05d\\uf020vt. 主辦，主持\\uf020\\uf070\\uf061\\uf072\\uf074\\uf069\\uf063\\uf069\\uf070\\uf061\\uf074\\uf065\\uf020\\uf05b\\uf070\\uf041\\uf072\\uf060\\uf074\\uf049\\uf073\\uf031\\uf026\\uf070\\uf065\\uf074\\uf05d\\uf020vi. 參與，參加\\uf020\\uf061\\uf075\\uf064\\uf069\\uf065\\uf06e\\uf063\\uf065\\uf020\\uf05b\\uf060\\uf04f\\uf064\\uf049\\uf031\\uf06e\\uf073\\uf05d\\uf020n. [C] 觀眾，聽眾\\uf020\\uf066\\uf061\\uf06e\\uf020\\uf05b\\uf066\\uf038\\uf06e\\uf05d\\uf020n. [C] 電扇，…迷\\uf020\\uf069\\uf064\\uf06f\\uf06c\\uf020\\uf05b\\uf060\\uf061\\uf049\\uf064\\uf04c\\uf05d\\uf020n. [C] 偶像\\uf020 家庭 \\uf067\\uf065\\uf06e\\uf065\\uf072\\uf061\\uf074\\uf069\\uf06f\\uf06e\\uf020\\uf05b\\uf026\\uf064\\uf05a\\uf045\\uf06e\\uf031\\uf060\\uf072\\uf065\\uf053\\uf031\\uf06e\\uf05d\\uf020n. [C] 世代，一代\\uf020\\uf062\\uf061\\uf063\\uf06b\\uf067\\uf072\\uf06f\\uf075\\uf06e\\uf064\\uf020\\uf05b\\uf060\\uf062\\uf038\\uf06b\\uf026\\uf047\\uf072\\uf061\\uf035\\uf06e\\uf064\\uf05d\\uf020n. [C] (家世、經歷等) 背景\\uf020\\uf06f\\uf072\\uf069\\uf067\\uf069\\uf06e\\uf020\\uf05b\\uf060\\uf04f\\uf072\\uf031\\uf064\\uf05a\\uf049\\uf06e\\uf05d\\uf020n. [C] (usu. pl.) 起源，由來，出身\\uf020\\uf073\\uf075\\uf072\\uf06e\\uf061\\uf06d\\uf065\\uf020\\uf05b\\uf060\\uf073\\uf033\\uf026\\uf06e\\uf065\\uf06d\\uf05d\\uf020n. [C] 姓；vt. 給予…姓氏\\uf020\\uf061\\uf06e\\uf063\\uf065\\uf073\\uf074\\uf06f\\uf072\\uf020\\uf05b\\uf060\\uf038\\uf06e\\uf073\\uf045\\uf073\\uf032\\uf05d\\uf020n. [C] 祖先，前身\\uf020\\uf063\\uf068\\uf069\\uf06c\\uf064\\uf068\\uf06f\\uf06f\\uf064\\uf020\\uf05b\\uf060\\uf074\\uf053\\uf061\\uf049\\uf06c\\uf064\\uf026\\uf068\\uf035\\uf064\\uf05d\\uf020n. [U] 童年時期，童年\\uf020\\uf064\\uf06f\\uf06d\\uf065\\uf073\\uf074\\uf069\\uf063\\uf020\\uf05b\\uf064\\uf031\\uf060\\uf06d\\uf045\\uf073\\uf074\\uf049\\uf06b\\uf05d\\uf020adj. 國內的，家庭的\\uf020\\uf068\\uf06f\\uf075\\uf073\\uf065\\uf068\\uf06f\\uf06c\\uf064\\uf020\\uf05b\\uf060\\uf068\\uf061\\uf055\\uf073\\uf026\\uf068\\uf06f\\uf06c\\uf064\\uf05d\\uf020n. [C] 家庭\\uf020\\uf068\\uf06f\\uf06d\\uf065\\uf074\\uf06f\\uf077\\uf06e\\uf020\\uf05b\\uf026\\uf068\\uf06f\\uf06d\\uf060\\uf074\\uf061\\uf055\\uf06e\\uf05d\\uf020n. [C] 故鄉，家鄉\\uf020\\uf072\\uf065\\uf06c\\uf061\\uf074\\uf069\\uf076\\uf065\\uf020\\uf05b\\uf060\\uf072\\uf045\\uf06c\\uf031\\uf074\\uf049\\uf076\\uf05d\\uf020adj. 有關聯的，相對的，相當的；n. [C] 親戚\\uf020\\uf068\\uf06f\\uf075\\uf073\\uf065\\uf06b\\uf065\\uf065\\uf070\\uf065\\uf072\\uf020\\uf05b\\uf060\\uf068\\uf061\\uf055\\uf073\\uf026\\uf06b\\uf069\\uf070\\uf032\\uf05d\\uf020n. [C] 家庭主婦，管家\\uf020\\uf06e\\uf061\\uf06e\\uf06e\\uf079\\uf020\\uf05b\\uf060\\uf06e\\uf038\\uf06e\\uf049\\uf05d\\uf020n. [C] 專業保姆，（兒語）奶奶\\uf020\\uf073\\uf074\\uf065\\uf070\\uf063\\uf068\\uf069\\uf06c\\uf064\\uf020\\uf05b\\uf060\\uf073\\uf074\\uf045\\uf070\\uf026\\uf074\\uf053\\uf061\\uf049\\uf06c\\uf064\\uf05d\\uf020n. [C] 繼子\\uf020\\uf06f\\uf072\\uf070\\uf068\\uf061\\uf06e\\uf020\\uf05b\\uf060\\uf04f\\uf072\\uf066\\uf031\\uf06e\\uf05d\\uf020n. [C] 孤兒\\uf020\\uf061\\uf064\\uf06f\\uf070\\uf074\\uf020\\uf05b\\uf031\\uf060\\uf064\\uf041\\uf070\\uf074\\uf05d\\uf020vt. 採用，收養\\uf020\\uf073\\uf070\\uf06f\\uf069\\uf06c\\uf020\\uf05b\\uf073\\uf070\\uf04f\\uf049\\uf06c\\uf05d\\uf020vt. 破壞，寵壞；vi. （食物）腐敗\\uf020\\uf069\\uf06e\\uf066\\uf061\\uf06e\\uf074\\uf020\\uf05b\\uf060\\uf049\\uf06e\\uf066\\uf031\\uf06e\\uf074\\uf05d\\uf020n. [C] 嬰兒\\uf020\\uf063\\uf072\\uf061\\uf064\\uf06c\\uf065\\uf020\\uf05b\\uf060\\uf06b\\uf072\\uf065\\uf064\\uf04c\\uf05d\\uf020n. [C] 搖籃，發源地；vt. 懷抱\\uf020\\uf074\\uf077\\uf069\\uf06e\\uf020\\uf05b\\uf074\\uf077\\uf049\\uf06e\\uf05d\\uf020n. [C] 雙胞胎之一；adj. 孿生的\\uf020\\uf074\\uf065\\uf06e\\uf064\\uf065\\uf072\\uf020\\uf05b\\uf060\\uf074\\uf045\\uf06e\\uf064\\uf032\\uf05d\\uf020adj. 溫柔的，慈愛的，（年紀）稚嫩的\\uf020\\uf079\\uf06f\\uf075\\uf06e\\uf067\\uf073\\uf074\\uf065\\uf072\\uf020\\uf05b\\uf060\\uf06a\\uf05e\\uf073\\uf074\\uf032\\uf05d\\uf020n. [C] 年輕人\\uf020\\x0c(ju9fal]\\n\\nyouthful\\naging Fed310] ad\\'.\\nliving\\n\\nn.\\n\\nad\\'.\\n\\n(A)\\n\\n$\\n\\n; ad\\'.\\n\\n[m kaunt»]\\n\\n[$kwent]\\n\\n•ft.\\n[$kAmpam]\\nvi.\\n\\nIt. In.\\n\\n\\'\\n\\n\\'\\nVt.(fill.)\\n\\n\\'\\n\\n;\\n\\n,\\n\\nencounter\\nacquaint\\naccompany\\nrely\\nchemistry\\nmagnetic\\ncharm [tfarm]\\ncrush [klAf]\\n\\nbond\\n\\n[mæg-nEt1k] adj.\\n\\nn.\\n\\n;\\n\\nn.\\n\\n;\\n\\n; vt. fE*-2E\\n\\n\\'\\n\\n\\'\\n\\'\\n\\n;\\n\\'\\n; vi.\\n\\n•ft.\\n\\n[braid]\\n\\nCmtamat]\\n\\n[pra poz!] n. [C]\\n\\nintimate\\nadj.\\ndarling Cdar110] n. [C]\\nproposal\\nengage [m-ged3]\\nbride\\nhoneymoon\\ndiu)rce\\ndump\\nisolate Falsa,let]\\nseparation [,sepa-refan] n. [C]\\n\\nn. [C]\\nChAm,mun]\\n\\n[da-vors] Vt. / n. [C,\\'TJ)\\n\\nVt\\n\\n,\\n\\nn. [C,\\'TJ]\\n\\n(A)\\n\\n; n. [C]\\n\\n\\' FIJ\\n\\nn.\\n\\nn.[C]\\n[\\'niknem]\\n\\nfriendship\\npal\\npeer\\nnickname\\nmutual\\natmosphere Cætmas fir] n. Sing.(the —\\nharmony\\n\\n[AmjutfU21] adj.\\n\\n,\\nn. [C]\\n\\nCharmanl]\\n\\nn.\\n\\n;\\n\\n\\'\\n\\n,\\n\\n\\'\\n\\n33  \\uf079\\uf06f\\uf075\\uf074\\uf068\\uf066\\uf075\\uf06c\\uf020\\uf05b\\uf060\\uf06a\\uf075\\uf054\\uf066\\uf031\\uf06c\\uf05d\\uf020adj.  年輕（人）的\\uf020\\uf061\\uf067\\uf069\\uf06e\\uf067\\uf020\\uf05b\\uf060\\uf065\\uf064\\uf05a\\uf049\\uf039\\uf05d\\uf020adj. 逐漸年邁的\\uf020\\uf06c\\uf069\\uf076\\uf069\\uf06e\\uf067\\uf020\\uf05b\\uf060\\uf06c\\uf049\\uf076\\uf049\\uf039\\uf05d\\uf020n. [C] 生計；adj. 活著的，現在的\\uf020 關係 《愛戀》 \\uf065\\uf06e\\uf063\\uf06f\\uf075\\uf06e\\uf074\\uf065\\uf072\\uf020\\uf05b\\uf049\\uf06e\\uf060\\uf06b\\uf061\\uf055\\uf06e\\uf074\\uf032\\uf05d\\uf020vt. / n. 遭遇，邂逅\\uf020\\uf061\\uf063\\uf071\\uf075\\uf061\\uf069\\uf06e\\uf074\\uf020\\uf05b\\uf031\\uf060\\uf06b\\uf077\\uf065\\uf06e\\uf074\\uf05d\\uf020vt. 使熟悉，使認識\\uf020\\uf061\\uf063\\uf063\\uf06f\\uf06d\\uf070\\uf061\\uf06e\\uf079\\uf020\\uf05b\\uf031\\uf060\\uf06b\\uf05e\\uf06d\\uf070\\uf031\\uf06e\\uf049\\uf05d\\uf020vt. (fml.) 伴隨，陪伴；伴奏，伴唱\\uf020\\uf072\\uf065\\uf06c\\uf079\\uf020\\uf05b\\uf072\\uf049\\uf060\\uf06c\\uf061\\uf049\\uf05d\\uf020vi. 依賴，信賴\\uf020\\uf063\\uf068\\uf065\\uf06d\\uf069\\uf073\\uf074\\uf072\\uf079\\uf020\\uf05b\\uf060\\uf06b\\uf045\\uf06d\\uf049\\uf073\\uf074\\uf072\\uf049\\uf05d\\uf020n. [U] 化學；（情感）來電，相互吸引\\uf020\\uf06d\\uf061\\uf067\\uf06e\\uf065\\uf074\\uf069\\uf063\\uf020\\uf05b\\uf06d\\uf038\\uf047\\uf060\\uf06e\\uf045\\uf074\\uf049\\uf06b\\uf05d\\uf020adj. 有磁性的；有魅力的\\uf020\\uf063\\uf068\\uf061\\uf072\\uf06d\\uf020\\uf05b\\uf074\\uf053\\uf041\\uf072\\uf06d\\uf05d\\uf020n. [U]魅力，[C]符咒；vt. 使著迷\\uf020\\uf063\\uf072\\uf075\\uf073\\uf068\\uf020\\uf05b\\uf06b\\uf072\\uf05e\\uf053\\uf05d\\uf020n. [C] 迷戀；vt. 壓扁，壓碎\\uf020\\uf062\\uf06f\\uf06e\\uf064\\uf020\\uf05b\\uf062\\uf041\\uf06e\\uf064\\uf05d\\uf020n. [C] 黏合處，（親近的）聯繫，關係\\uf020\\uf069\\uf06e\\uf074\\uf069\\uf06d\\uf061\\uf074\\uf065\\uf020\\uf05b\\uf060\\uf049\\uf06e\\uf074\\uf031\\uf06d\\uf031\\uf074\\uf05d\\uf020adj. 親密的，密切的\\uf020\\uf064\\uf061\\uf072\\uf06c\\uf069\\uf06e\\uf067\\uf020\\uf05b\\uf060\\uf064\\uf041\\uf072\\uf06c\\uf049\\uf039\\uf05d\\uf020n. [C] 親愛的；adj. 可愛的\\uf020\\uf070\\uf072\\uf06f\\uf070\\uf06f\\uf073\\uf061\\uf06c\\uf020\\uf05b\\uf070\\uf072\\uf031\\uf060\\uf070\\uf06f\\uf07a\\uf04c\\uf05d\\uf020n. [C] 提議，建議，求婚\\uf020\\uf065\\uf06e\\uf067\\uf061\\uf067\\uf065\\uf020\\uf05b\\uf049\\uf06e\\uf060\\uf047\\uf065\\uf064\\uf05a\\uf05d\\uf020vt. 使訂婚；vi. 從事，忙於\\uf020\\uf062\\uf072\\uf069\\uf064\\uf065\\uf020\\uf05b\\uf062\\uf072\\uf061\\uf049\\uf064\\uf05d\\uf020n. [C] 新娘\\uf020\\uf068\\uf06f\\uf06e\\uf065\\uf079\\uf06d\\uf06f\\uf06f\\uf06e\\uf020\\uf05b\\uf060\\uf068\\uf05e\\uf06e\\uf049\\uf026\\uf06d\\uf075\\uf06e\\uf05d n. [C/U] 蜜月\\uf020\\uf064\\uf069\\uf076\\uf06f\\uf072\\uf063\\uf065\\uf020\\uf05b\\uf064\\uf031\\uf060\\uf076\\uf04f\\uf072\\uf073\\uf05d\\uf020vt. / n. [C/U] 離婚\\uf020\\uf064\\uf075\\uf06d\\uf070\\uf020\\uf05b\\uf064\\uf05e\\uf06d\\uf070\\uf05d\\uf020vt. 丟棄，甩掉（人）；n. [C] 垃圾場\\uf020\\uf069\\uf073\\uf06f\\uf06c\\uf061\\uf074\\uf065\\uf020\\uf05b\\uf060\\uf061\\uf049\\uf073\\uf031\\uf026\\uf06c\\uf065\\uf074\\uf05d\\uf020vt. 使隔離、孤立\\uf020\\uf073\\uf065\\uf070\\uf061\\uf072\\uf061\\uf074\\uf069\\uf06f\\uf06e\\uf020\\uf05b\\uf026\\uf073\\uf045\\uf070\\uf031\\uf060\\uf072\\uf065\\uf053\\uf031\\uf06e\\uf05d\\uf020n. [C] 分離，離別\\uf020《其他》 \\uf066\\uf072\\uf069\\uf065\\uf06e\\uf064\\uf073\\uf068\\uf069\\uf070\\uf020\\uf05b\\uf060\\uf066\\uf072\\uf045\\uf06e\\uf028\\uf064\\uf029\\uf026\\uf053\\uf049\\uf070\\uf05d\\uf020n. 友情，友誼\\uf020\\uf070\\uf061\\uf06c\\uf020\\uf05b\\uf070\\uf038\\uf06c\\uf05d\\uf020n. [C] 夥伴，哥兒們（口語）\\uf020\\uf070\\uf065\\uf065\\uf072\\uf020\\uf05b\\uf070\\uf049\\uf072\\uf05d\\uf020n. [C] 同輩，同儕\\uf020\\uf06e\\uf069\\uf063\\uf06b\\uf06e\\uf061\\uf06d\\uf065\\uf020\\uf05b\\uf060\\uf06e\\uf049\\uf06b\\uf06e\\uf065\\uf06d\\uf05d\\uf020n. [C] 綽號；vt. 取綽號\\uf020\\uf06d\\uf075\\uf074\\uf075\\uf061\\uf06c\\uf020\\uf05b\\uf060\\uf06d\\uf06a\\uf075\\uf074\\uf053\\uf035\\uf031\\uf06c\\uf05d\\uf020adj. 相互、彼此的\\uf020\\uf061\\uf074\\uf06d\\uf06f\\uf073\\uf070\\uf068\\uf065\\uf072\\uf065\\uf020\\uf05b\\uf060\\uf038\\uf074\\uf06d\\uf031\\uf073\\uf026\\uf066\\uf049\\uf072\\uf05d\\uf020n. sing. (the ～)大氣(層) ， 氣氛，氛圍\\uf020\\uf068\\uf061\\uf072\\uf06d\\uf06f\\uf06e\\uf079\\uf020\\uf05b\\uf060\\uf068\\uf041\\uf072\\uf06d\\uf031\\uf06e\\uf049\\uf05d\\uf020n. [U] 和諧，和睦\\uf020\\x0caccess\\n\\nn.\\n\\navailable\\nprivacy Cpralvasl] n. CU]\\n\\nad\\'.\\n\\npersonality\\ntemper\\n\\n(temp]\\n\\nn. [C) tE\\'tÉ\\n\\nn. [C] (usu.Sing.)\\n\\nstrength\\nvirtue\\nconscience\\n\\n[WtfU]\\n\\n[stre09] n. [U)\\n\\n\\'\\n\\nn. [C]\\nEkanfans]\\n\\n\\'\\n\\n\\'\\nn. [C)\\n\\n\\'\\n\\n\\'\\n\\n\\'\\n\\n(5)\\n\\n\\'\\n\\'\\n\\n\\'\\n\\n\\'\\n\\n;\\n\\n,\\n\\n,\\n\\n; adj. \"Afifi\\n\\n\\'\\nn.\\n\\n\\'\\n\\nn. [U)\\n\\nn. ladi\\n\\nadj.\\nn. [U)\\n\\n(6)\\n\\n\\'\\n\\n\\'\\n\\n[,d3En$rcsat1] n. [U)\\n\\n[sm-srr] ad\\'.\\n(3-mst]\\n\\npatience\\nsincere\\neamest\\ngenuine Üd3Enjum] ad\\'.\\ntruthful\\nCtruefal]\\nhonesty Camstl]\\nloyal\\nadj.\\nrespectable [rüspEktab!] adj.\\nenthusiasm [In-ejuzl æzam] n. [U)\\ngenerosity\\ntender CtEndæ] adj.\\ngoodness Cgudms] n. [U)\\nmercy C&nBs1] n. [U)\\nnoble cnob!] ad\\'.\\ngrace [gres] n. [U)\\nelegant CEIagant] adj.\\ninnocence Cmasqs] n. [U)\\ninnocent\\nromantic\\nunderstanding\\n\\n(masot]\\n[ro-mæntlk]\\n\\n[,And$stænd10]\\n\\n\\'\\n\\n\\'\\n\\n\\'\\n\\nadj.\\n\\n34  \\uf061\\uf063\\uf063\\uf065\\uf073\\uf073\\uf020\\uf05b\\uf060\\uf038\\uf06b\\uf026\\uf073\\uf045\\uf073\\uf05d\\uf020n. [U] (用某物、見到某人的) 機會； vt. 存取 (電腦資料、數據等)\\uf020\\uf061\\uf076\\uf061\\uf069\\uf06c\\uf061\\uf062\\uf06c\\uf065\\uf020\\uf05b\\uf031\\uf060\\uf076\\uf065\\uf06c\\uf031\\uf062\\uf04c\\uf05d\\uf020adj. 可購得的，可利用的，有空的\\uf020\\uf070\\uf072\\uf069\\uf076\\uf061\\uf063\\uf079\\uf020\\uf05b\\uf060\\uf070\\uf072\\uf061\\uf049\\uf076\\uf031\\uf073\\uf049\\uf05d\\uf020n. [U] 隱私\\uf020 個性 《中性》 \\uf070\\uf065\\uf072\\uf073\\uf06f\\uf06e\\uf061\\uf06c\\uf069\\uf074\\uf079\\uf020\\uf05b\\uf026\\uf070\\uf032\\uf073\\uf04e\\uf060\\uf038\\uf06c\\uf031\\uf074\\uf049\\uf05d\\uf020n. [C] 個性\\uf020\\uf074\\uf065\\uf06d\\uf070\\uf065\\uf072\\uf020\\uf05b\\uf060\\uf074\\uf065\\uf06d\\uf070\\uf032\\uf05d\\uf020n. [C] (usu. sing.) 脾氣\\uf020《正面》 \\uf073\\uf074\\uf072\\uf065\\uf06e\\uf067\\uf074\\uf068\\uf020\\uf05b\\uf073\\uf074\\uf072\\uf045\\uf039\\uf054\\uf05d\\uf020n. [U] 力量，力氣，優點\\uf020\\uf076\\uf069\\uf072\\uf074\\uf075\\uf065\\uf020\\uf05b\\uf060\\uf076\\uf033\\uf074\\uf053\\uf035\\uf05d\\uf020n. [C] 美德，優點，長處\\uf020\\uf063\\uf06f\\uf06e\\uf073\\uf063\\uf069\\uf065\\uf06e\\uf063\\uf065\\uf020\\uf05b\\uf060\\uf06b\\uf041\\uf06e\\uf053\\uf031\\uf06e\\uf073\\uf05d\\uf020n. [C] 良心\\uf020\\uf070\\uf061\\uf074\\uf069\\uf065\\uf06e\\uf063\\uf065\\uf020\\uf05b\\uf060\\uf070\\uf065\\uf053\\uf031\\uf06e\\uf073\\uf05d\\uf020n. [U] 耐心\\uf020\\uf073\\uf069\\uf06e\\uf063\\uf065\\uf072\\uf065\\uf020\\uf05b\\uf073\\uf049\\uf06e\\uf060\\uf073\\uf049\\uf072\\uf05d\\uf020adj. 真誠的\\uf020\\uf065\\uf061\\uf072\\uf06e\\uf065\\uf073\\uf074\\uf020\\uf05b\\uf060\\uf033\\uf06e\\uf049\\uf073\\uf074\\uf05d\\uf020n. / adj. 認真（的），誠摯（的）\\uf020\\uf067\\uf065\\uf06e\\uf075\\uf069\\uf06e\\uf065\\uf020\\uf05b\\uf060\\uf064\\uf05a\\uf045\\uf06e\\uf06a\\uf075\\uf049\\uf06e\\uf05d\\uf020adj. 真誠的，誠懇的\\uf020\\uf074\\uf072\\uf075\\uf074\\uf068\\uf066\\uf075\\uf06c\\uf020\\uf05b\\uf060\\uf074\\uf072\\uf075\\uf054\\uf066\\uf031\\uf06c\\uf05d\\uf020adj. 誠實的，真實的\\uf020\\uf068\\uf06f\\uf06e\\uf065\\uf073\\uf074\\uf079\\uf020\\uf05b\\uf060\\uf041\\uf06e\\uf049\\uf073\\uf074\\uf049\\uf05d\\uf020n. [U] 老實，誠實\\uf020\\uf06c\\uf06f\\uf079\\uf061\\uf06c\\uf020\\uf05b\\uf060\\uf06c\\uf04f\\uf049\\uf031\\uf06c\\uf05d\\uf020adj. 忠實的，忠誠的\\uf020\\uf072\\uf065\\uf073\\uf070\\uf065\\uf063\\uf074\\uf061\\uf062\\uf06c\\uf065\\uf020\\uf05b\\uf072\\uf049\\uf060\\uf073\\uf070\\uf045\\uf06b\\uf074\\uf031\\uf062\\uf04c\\uf05d\\uf020adj. 值得尊敬的，相當不錯的\\uf020\\uf065\\uf06e\\uf074\\uf068\\uf075\\uf073\\uf069\\uf061\\uf073\\uf06d\\uf020\\uf05b\\uf049\\uf06e\\uf060\\uf054\\uf06a\\uf075\\uf07a\\uf049\\uf026\\uf038\\uf07a\\uf031\\uf06d\\uf05d\\uf020n. [U] 熱心，熱忱\\uf020\\uf067\\uf065\\uf06e\\uf065\\uf072\\uf06f\\uf073\\uf069\\uf074\\uf079\\uf020\\uf05b\\uf026\\uf064\\uf05a\\uf045\\uf06e\\uf031\\uf060\\uf072\\uf041\\uf073\\uf031\\uf074\\uf049\\uf05d\\uf020n. [U] 慷慨，大方\\uf020\\uf074\\uf065\\uf06e\\uf064\\uf065\\uf072\\uf020\\uf05b\\uf060\\uf074\\uf045\\uf06e\\uf064\\uf032\\uf05d\\uf020adj. 溫柔的，慈愛的，（年紀）稚嫩的\\uf020\\uf067\\uf06f\\uf06f\\uf064\\uf06e\\uf065\\uf073\\uf073\\uf020\\uf05b\\uf060\\uf047\\uf055\\uf064\\uf06e\\uf049\\uf073\\uf05d\\uf020n. [U] 仁慈，善良\\uf020\\uf06d\\uf065\\uf072\\uf063\\uf079\\uf020\\uf05b\\uf060\\uf06d\\uf033\\uf073\\uf049\\uf05d\\uf020n. [U] 仁慈\\uf020\\uf06e\\uf06f\\uf062\\uf06c\\uf065\\uf020\\uf05b\\uf060\\uf06e\\uf06f\\uf062\\uf04c\\uf05d\\uf020adj. 高貴的，高尚的，貴族的\\uf020\\uf067\\uf072\\uf061\\uf063\\uf065\\uf020\\uf05b\\uf067\\uf072\\uf065\\uf073\\uf05d\\uf020n. [U] 大方，優雅\\uf020\\uf065\\uf06c\\uf065\\uf067\\uf061\\uf06e\\uf074\\uf020\\uf05b\\uf060\\uf045\\uf06c\\uf031\\uf047\\uf031\\uf06e\\uf074\\uf05d\\uf020adj. 優雅的\\uf020\\uf069\\uf06e\\uf06e\\uf06f\\uf063\\uf065\\uf06e\\uf063\\uf065\\uf020\\uf05b\\uf060\\uf049\\uf06e\\uf031\\uf073\\uf04e\\uf073\\uf05d\\uf020n. [U] 清白，無罪\\uf020\\uf069\\uf06e\\uf06e\\uf06f\\uf063\\uf065\\uf06e\\uf074\\uf020\\uf05b\\uf060\\uf049\\uf06e\\uf031\\uf073\\uf04e\\uf074\\uf05d\\uf020adj. 天真無邪的，純真的；清白的，無罪的\\uf020\\uf072\\uf06f\\uf06d\\uf061\\uf06e\\uf074\\uf069\\uf063\\uf020\\uf05b\\uf072\\uf06f\\uf060\\uf06d\\uf038\\uf06e\\uf074\\uf049\\uf06b\\uf05d\\uf020adj. 浪漫的，愛情的；n. 浪漫主義者\\uf020\\uf075\\uf06e\\uf064\\uf065\\uf072\\uf073\\uf074\\uf061\\uf06e\\uf064\\uf069\\uf06e\\uf067\\uf020\\uf05b\\uf026\\uf05e\\uf06e\\uf064\\uf032\\uf060\\uf073\\uf074\\uf038\\uf06e\\uf064\\uf049\\uf039\\uf05d\\uf020n. 理解力，諒解；adj. 善解人意的\\uf020\\x0cadj.\\n\\nad\\'.\\n\\n[bold]\\n\\n(90t,fal]\\n\\n[ma&tjuratl] n.\\n\\nthoughtful\\nadj.\\nsensitive Esensatrv] adj.\\nhumorous Chjumaras] ad\\'.\\nmature [ma•tjur]\\nmaturity\\nbold\\ndare [der] vi. / aux.\\nliberal Cllbaral]\\nmild\\nmodest\\nobedient\\nad\\'.\\ndiligent Cd11ad3ant] ad\\'.\\ntough\\n\\n[a-bidjant]\\n\\n[\\'madlst]\\n\\n(A)\\n\\n,\\n\\'\\n\\n;\\n\\nadj.\\n\\nad\\'.\\n\\nadj.\\n\\n\\'\\n\\n\\'\\n\\n\\'\\n\\n;\\n\\n; vi.\\n\\n\\'\\n\\n\\'\\n\\n,\\n\\n\\'\\n\\'\\n\\nadj.\\n\\nadi\\n\\n\\'\\n\\nadj.\\n\\n\\'\\n\\n;\\n\\näAfi\\n\\n\\'\\n\\n\\'\\n\\n;\\n\\n\\'\\n\\n[Jolt-saltld]\\nadj.\\n\\npessimistic\\npassive Cpæsw] ad\\'.\\nstingy\\n(stmd31] adj.\\nadj.\\nstubborn\\ndiehard\\nadj.\\naggressive [a-gresw] ad\\'.\\nvain [venl adj.\\nshortsighted\\ntricky\\n(triki\\ncunning CkAmn] adj.\\nchangeable ctfend32b!]\\nqueer\\njerk\\nignorance\\nignorant\\ntimid Ctlmrd]\\ncoward Ckau»d]\\nmischief\\nlousy Clauzl]\\nharsh [harf]\\n\\n(Ignaæns]\\n(Ignorant]\\nadj.\\n\\n[kwlr] ad\\'.\\n\\nadj.\\nadj.\\n\\nn. [C]\\n\\nn. [U)\\n\\nn. [U]\\nad\\'.\\n\\n,\\n\\n;\\n\\n\\'\\n\\n\\'\\n\\n35  \\uf074\\uf068\\uf06f\\uf075\\uf067\\uf068\\uf074\\uf066\\uf075\\uf06c\\uf020\\uf05b\\uf060\\uf054\\uf04f\\uf074\\uf026\\uf066\\uf031\\uf06c\\uf05d\\uf020adj. 體貼的，有思想的\\uf020\\uf073\\uf065\\uf06e\\uf073\\uf069\\uf074\\uf069\\uf076\\uf065\\uf020\\uf05b\\uf060\\uf073\\uf045\\uf06e\\uf073\\uf031\\uf074\\uf049\\uf076\\uf05d\\uf020adj. 敏感的；體貼的，善解人意的\\uf020\\uf068\\uf075\\uf06d\\uf06f\\uf072\\uf06f\\uf075\\uf073\\uf020\\uf05b\\uf060\\uf068\\uf06a\\uf075\\uf06d\\uf031\\uf072\\uf031\\uf073\\uf05d\\uf020adj. 幽默的\\uf020\\uf06d\\uf061\\uf074\\uf075\\uf072\\uf065\\uf020\\uf05b\\uf06d\\uf031\\uf060\\uf074\\uf06a\\uf035\\uf072\\uf05d\\uf020adj. 成熟的；vi. 發育成熟，變成熟\\uf020\\uf06d\\uf061\\uf074\\uf075\\uf072\\uf069\\uf074\\uf079\\uf020\\uf05b\\uf06d\\uf031\\uf060\\uf074\\uf06a\\uf035\\uf072\\uf031\\uf074\\uf049\\uf05d\\uf020n. [U] 成熟\\uf020\\uf062\\uf06f\\uf06c\\uf064\\uf020\\uf05b\\uf062\\uf06f\\uf06c\\uf064\\uf05d\\uf020adj. 勇敢的，無畏的\\uf020\\uf064\\uf061\\uf072\\uf065\\uf020\\uf05b\\uf064\\uf045\\uf072\\uf05d\\uf020vi. / aux. 膽敢，敢於\\uf020\\uf06c\\uf069\\uf062\\uf065\\uf072\\uf061\\uf06c\\uf020\\uf05b\\uf060\\uf06c\\uf049\\uf062\\uf031\\uf072\\uf031\\uf06c\\uf05d\\uf020adj. 自由的，開明的\\uf020\\uf06d\\uf069\\uf06c\\uf064\\uf020\\uf05b\\uf06d\\uf061\\uf049\\uf06c\\uf064\\uf05d\\uf020adj. 輕微的；溫和的（天氣、個性）\\uf020\\uf06d\\uf06f\\uf064\\uf065\\uf073\\uf074\\uf020\\uf05b\\uf060\\uf06d\\uf041\\uf064\\uf049\\uf073\\uf074\\uf05d\\uf020adj. 謙遜的，謙虛的\\uf020\\uf06f\\uf062\\uf065\\uf064\\uf069\\uf065\\uf06e\\uf074\\uf020\\uf05b\\uf031\\uf060\\uf062\\uf069\\uf064\\uf06a\\uf031\\uf06e\\uf074\\uf05d\\uf020adj. 服從的，遵守的\\uf020\\uf064\\uf069\\uf06c\\uf069\\uf067\\uf065\\uf06e\\uf074\\uf020\\uf05b\\uf060\\uf064\\uf049\\uf06c\\uf031\\uf064\\uf05a\\uf031\\uf06e\\uf074\\uf05d\\uf020adj. 勤奮的，勤勉的\\uf020\\uf074\\uf06f\\uf075\\uf067\\uf068\\uf020\\uf05b\\uf074\\uf05e\\uf066\\uf05d\\uf020adj. （人）堅強的，不屈不撓的；（事情）艱難的，棘手的\\uf020《負面》 \\uf070\\uf065\\uf073\\uf073\\uf069\\uf06d\\uf069\\uf073\\uf074\\uf069\\uf063\\uf020\\uf05b\\uf026\\uf070\\uf045\\uf073\\uf031\\uf060\\uf06d\\uf049\\uf073\\uf074\\uf049\\uf06b\\uf05d\\uf020adj. 悲觀的\\uf020\\uf070\\uf061\\uf073\\uf073\\uf069\\uf076\\uf065\\uf020\\uf05b\\uf060\\uf070\\uf038\\uf073\\uf049\\uf076\\uf05d\\uf020adj. 被動的\\uf020\\uf073\\uf074\\uf069\\uf06e\\uf067\\uf079\\uf020\\uf05b\\uf060\\uf073\\uf074\\uf049\\uf06e\\uf064\\uf05a\\uf049\\uf05d\\uf020adj. 小器的\\uf020\\uf073\\uf074\\uf075\\uf062\\uf062\\uf06f\\uf072\\uf06e\\uf020\\uf05b\\uf060\\uf073\\uf074\\uf05e\\uf062\\uf032\\uf06e\\uf05d\\uf020adj. 固執的，頑固的\\uf020\\uf064\\uf069\\uf065\\uf068\\uf061\\uf072\\uf064\\uf020\\uf05b\\uf060\\uf064\\uf061\\uf049\\uf026\\uf068\\uf041\\uf072\\uf064\\uf05d\\uf020adj. 頑固的，倔強的；n. [C] 死硬派，頑固份子\\uf020\\uf061\\uf067\\uf067\\uf072\\uf065\\uf073\\uf073\\uf069\\uf076\\uf065\\uf020\\uf05b\\uf031\\uf060\\uf067\\uf072\\uf045\\uf073\\uf049\\uf076\\uf05d\\uf020adj. 有侵略性的，積極進取的\\uf020\\uf076\\uf061\\uf069\\uf06e\\uf020\\uf05b\\uf076\\uf065\\uf06e\\uf05d\\uf020adj. 空虛的，徒勞的；虛榮的，自負的\\uf020\\uf073\\uf068\\uf06f\\uf072\\uf074\\uf073\\uf069\\uf067\\uf068\\uf074\\uf065\\uf064\\uf020\\uf05b\\uf026\\uf053\\uf04f\\uf072\\uf074\\uf060\\uf073\\uf061\\uf049\\uf074\\uf049\\uf064\\uf05d\\uf020adj. 近視的，短視近利的\\uf020\\uf074\\uf072\\uf069\\uf063\\uf06b\\uf079\\uf020\\uf05b\\uf060\\uf074\\uf072\\uf049\\uf06b\\uf049\\uf05d\\uf020adj. 狡猾的，微妙的，難以處理的\\uf020\\uf063\\uf075\\uf06e\\uf06e\\uf069\\uf06e\\uf067\\uf020\\uf05b\\uf060\\uf06b\\uf05e\\uf06e\\uf049\\uf039\\uf05d\\uf020adj. 狡猾的，奸詐的\\uf020\\uf063\\uf068\\uf061\\uf06e\\uf067\\uf065\\uf061\\uf062\\uf06c\\uf065\\uf020\\uf05b\\uf060\\uf074\\uf053\\uf065\\uf06e\\uf064\\uf05a\\uf031\\uf062\\uf04c\\uf05d\\uf020adj. 善變的\\uf020\\uf071\\uf075\\uf065\\uf065\\uf072\\uf020\\uf05b\\uf06b\\uf077\\uf049\\uf072\\uf05d\\uf020adj. 古怪的\\uf020\\uf06a\\uf065\\uf072\\uf06b\\uf020\\uf05b\\uf064\\uf05a\\uf033\\uf06b\\uf05d\\uf020vt. 突然猛拉、推；n. [C] 蠢蛋，古怪的人\\uf020\\uf069\\uf067\\uf06e\\uf06f\\uf072\\uf061\\uf06e\\uf063\\uf065\\uf020\\uf05b\\uf060\\uf049\\uf047\\uf06e\\uf031\\uf072\\uf031\\uf06e\\uf073\\uf05d\\uf020n. [U] 無知\\uf020\\uf069\\uf067\\uf06e\\uf06f\\uf072\\uf061\\uf06e\\uf074\\uf020\\uf05b\\uf060\\uf049\\uf047\\uf06e\\uf031\\uf072\\uf031\\uf06e\\uf074\\uf05d\\uf020adj. 無知的，不知道的\\uf020\\uf074\\uf069\\uf06d\\uf069\\uf064\\uf020\\uf05b\\uf060\\uf074\\uf049\\uf06d\\uf049\\uf064\\uf05d\\uf020adj. 膽小的\\uf020\\uf063\\uf06f\\uf077\\uf061\\uf072\\uf064\\uf020\\uf05b\\uf060\\uf06b\\uf061\\uf035\\uf032\\uf064\\uf05d\\uf020n. [C] 懦夫，膽小鬼\\uf020\\uf06d\\uf069\\uf073\\uf063\\uf068\\uf069\\uf065\\uf066\\uf020\\uf05b\\uf060\\uf06d\\uf049\\uf073\\uf074\\uf053\\uf049\\uf066\\uf05d\\uf020n. [U] 淘氣，頑皮\\uf020\\uf06c\\uf06f\\uf075\\uf073\\uf079\\uf020\\uf05b\\uf060\\uf06c\\uf061\\uf055\\uf07a\\uf049\\uf05d\\uf020adj. 差勁的\\uf020\\uf068\\uf061\\uf072\\uf073\\uf068\\uf020\\uf05b\\uf068\\uf041\\uf072\\uf053\\uf05d\\uf020adj. 嚴厲的\\uf020\\x0c\\'\\nadj.\\n\\'\\n\\n\\'\\n\\n\\'\\n\\n; n. [C]\\nn.\\n\\n,\\n\\n\\'\\n\\n[mud]\\n\\nn. [C]\\n[Ümofnal]\\n\\n\\'\\n\\nemotional\\neager Ciga•] adj.\\nurge [3\\'d3] Vt.\\nconfidence\\ndignity C&drgnatl] n.\\nad\\'.\\naware\\nimpress am-pres]\\n\\nCkanfadans]\\n\\n;\\n\\n\\'\\n\\n,\\n,\\n\\n,\\n\\n,\\n\\n\\'\\n\\nad\\'.\\n\\nadj.\\n\\nadj.\\n\\n[fond]\\n\\n[m gorab!]\\n\\nadj.\\n\\n[dÜla1t] n. CU]\\n\\nreadiness Credm1S] n. CLT]\\nagreeable\\namuse [a-mjuz]\\ndelight\\nenjoyable\\nmerry Emeril\\nlaughter C&læftö] n. [U]\\nbeam &im] n. [C)\\nfond\\nadj.\\ncontent\\ntent]\\nsatisfaction\\nsatisfactory\\nglow [glo] vi.\\nhopeful Chopfal] adj.\\namaze [a-mez] Vt.\\npassion [\\'pæfan] n. [U]\\nadmire\\n\\'\\nadmirable Üædmarab!] adj.\\nappreciate\\nthankful\\ngrateful\\nfortunate\\n\\n[\\'éænkfal]\\n(gretfal]\\n\\n[,sætrs-fæktan]\\n\\n[ad-mall]\\n\\nVt.\\n\\nChrtfanat]\\n\\nadi\\n\\nadj.\\n\\nad\\'.\\n\\n; vi.\\n\\nn. CU]\\nadj.\\n\\n\\'\\n\\n\\'\\n\\n,\\n\\n\\'\\n\\n\\'\\n\\n,\\n\\n,\\n\\n\\'\\n\\n,\\n\\n\\'\\n\\n; n. sing.\\n\\n;\\n\\n\\'\\n\\n,\\n\\n, E.\\n\\n36  情緒 《中性》 \\uf06d\\uf06f\\uf06f\\uf064\\uf020\\uf05b\\uf06d\\uf075\\uf064\\uf05d\\uf020n. [C] 情緒，心情\\uf020\\uf065\\uf06d\\uf06f\\uf074\\uf069\\uf06f\\uf06e\\uf061\\uf06c\\uf020\\uf05b\\uf049\\uf060\\uf06d\\uf06f\\uf053\\uf06e\\uf031\\uf06c\\uf05d\\uf020adj. 情緒的，激動的，情緒化的\\uf020\\uf065\\uf061\\uf067\\uf065\\uf072\\uf020\\uf05b\\uf060\\uf069\\uf047\\uf032\\uf05d\\uf020adj. 渴望的，急切的\\uf020\\uf075\\uf072\\uf067\\uf065\\uf020\\uf05b\\uf033\\uf064\\uf05a\\uf05d\\uf020vt. 力勸，激勵；n. [C] 強烈的欲望，衝動\\uf020\\uf063\\uf06f\\uf06e\\uf066\\uf069\\uf064\\uf065\\uf06e\\uf063\\uf065\\uf020\\uf05b\\uf060\\uf06b\\uf041\\uf06e\\uf066\\uf031\\uf064\\uf031\\uf06e\\uf073\\uf05d\\uf020n. [U] 信心，自信\\uf020\\uf064\\uf069\\uf067\\uf06e\\uf069\\uf074\\uf079\\uf020\\uf05b\\uf060\\uf064\\uf049\\uf047\\uf06e\\uf031\\uf074\\uf049\\uf05d\\uf020n. [U] 尊嚴，自尊\\uf020\\uf061\\uf077\\uf061\\uf072\\uf065\\uf020\\uf05b\\uf031\\uf060\\uf077\\uf045\\uf072\\uf05d\\uf020adj. 察覺的，知道的\\uf020\\uf069\\uf06d\\uf070\\uf072\\uf065\\uf073\\uf073\\uf020\\uf05b\\uf049\\uf06d\\uf060\\uf070\\uf072\\uf045\\uf073\\uf05d\\uf020vt. 使印象深刻\\uf020《正面》 \\uf072\\uf065\\uf061\\uf064\\uf069\\uf06e\\uf065\\uf073\\uf073\\uf020\\uf05b\\uf060\\uf072\\uf045\\uf064\\uf049\\uf06e\\uf049\\uf073\\uf05d\\uf020n. [U] 準備好的狀態，樂意\\uf020\\uf061\\uf067\\uf072\\uf065\\uf065\\uf061\\uf062\\uf06c\\uf065\\uf020\\uf05b\\uf031\\uf060\\uf047\\uf072\\uf069\\uf031\\uf062\\uf04c\\uf05d\\uf020adj. 令人喜悅的，可接受的，贊成的\\uf020\\uf061\\uf06d\\uf075\\uf073\\uf065\\uf020\\uf05b\\uf031\\uf060\\uf06d\\uf06a\\uf075\\uf07a\\uf05d\\uf020vt. 使開心，使歡樂\\uf020\\uf064\\uf065\\uf06c\\uf069\\uf067\\uf068\\uf074\\uf020\\uf05b\\uf064\\uf049\\uf060\\uf06c\\uf061\\uf049\\uf074\\uf05d\\uf020n. [U] 愉快，高興；vt. 使愉快，使高興\\uf020\\uf065\\uf06e\\uf06a\\uf06f\\uf079\\uf061\\uf062\\uf06c\\uf065\\uf020\\uf05b\\uf049\\uf06e\\uf060\\uf037\\uf04f\\uf049\\uf031\\uf062\\uf04c\\uf05d\\uf020adj. 使人愉快的\\uf020\\uf06d\\uf065\\uf072\\uf072\\uf079\\uf020\\uf05b\\uf060\\uf06d\\uf045\\uf072\\uf049\\uf05d\\uf020adj. 愉快的\\uf020\\uf06c\\uf061\\uf075\\uf067\\uf068\\uf074\\uf065\\uf072\\uf020\\uf05b\\uf060\\uf06c\\uf038\\uf066\\uf074\\uf032\\uf05d\\uf020n. [U] 笑，笑聲\\uf020\\uf062\\uf065\\uf061\\uf06d\\uf020\\uf05b\\uf062\\uf069\\uf06d\\uf05d n. [C] 光線，光束；vi. 眉開眼笑\\uf020\\uf066\\uf06f\\uf06e\\uf064\\uf020\\uf05b\\uf066\\uf041\\uf06e\\uf064\\uf05d\\uf020adj. 愛好的，喜愛的\\uf020\\uf063\\uf06f\\uf06e\\uf074\\uf065\\uf06e\\uf074\\uf020\\uf05b\\uf06b\\uf031\\uf06e\\uf060\\uf074\\uf045\\uf06e\\uf074\\uf05d\\uf020adj. 滿意的，滿足的； vt. 使滿足，使滿意\\uf020\\uf073\\uf061\\uf074\\uf069\\uf073\\uf066\\uf061\\uf063\\uf074\\uf069\\uf06f\\uf06e\\uf020\\uf05b\\uf026\\uf073\\uf038\\uf074\\uf049\\uf073\\uf060\\uf066\\uf038\\uf06b\\uf053\\uf031\\uf06e\\uf05d\\uf020n. [U] 滿意，滿足\\uf020\\uf073\\uf061\\uf074\\uf069\\uf073\\uf066\\uf061\\uf063\\uf074\\uf06f\\uf072\\uf079\\uf020\\uf05b\\uf026\\uf073\\uf038\\uf074\\uf049\\uf073\\uf060\\uf066\\uf038\\uf06b\\uf074\\uf031\\uf072\\uf049\\uf05d\\uf020adj. 令人滿意的\\uf020\\uf067\\uf06c\\uf06f\\uf077\\uf020\\uf05b\\uf047\\uf06c\\uf06f\\uf05d\\uf020vi. 發出暗淡的光，微微發亮；n. sing. 微光；喜悅，滿足\\uf020\\uf068\\uf06f\\uf070\\uf065\\uf066\\uf075\\uf06c\\uf020\\uf05b\\uf060\\uf068\\uf06f\\uf070\\uf066\\uf031\\uf06c\\uf05d\\uf020adj. 抱有希望的，充滿希望的\\uf020\\uf061\\uf06d\\uf061\\uf07a\\uf065\\uf020\\uf05b\\uf031\\uf060\\uf06d\\uf065\\uf07a\\uf05d\\uf020vt. 使驚奇，使驚嘆\\uf020\\uf070\\uf061\\uf073\\uf073\\uf069\\uf06f\\uf06e\\uf020\\uf05b\\uf060\\uf070\\uf038\\uf053\\uf031\\uf06e\\uf05d\\uf020n. [U] 熱情，激情\\uf020\\uf061\\uf064\\uf06d\\uf069\\uf072\\uf065\\uf020\\uf05b\\uf031\\uf064\\uf060\\uf06d\\uf061\\uf049\\uf072\\uf05d\\uf020vt. 欣賞，欽佩\\uf020\\uf061\\uf064\\uf06d\\uf069\\uf072\\uf061\\uf062\\uf06c\\uf065\\uf020\\uf05b\\uf060\\uf038\\uf064\\uf06d\\uf031\\uf072\\uf031\\uf062\\uf04c\\uf05d\\uf020adj. 值得讚美的，令人欽佩的\\uf020\\uf061\\uf070\\uf070\\uf072\\uf065\\uf063\\uf069\\uf061\\uf074\\uf065\\uf020\\uf05b\\uf031\\uf060\\uf070\\uf072\\uf069\\uf053\\uf049\\uf026\\uf065\\uf074\\uf05d\\uf020vt. 感激，感謝，欣賞，賞識\\uf020\\uf074\\uf068\\uf061\\uf06e\\uf06b\\uf066\\uf075\\uf06c\\uf020\\uf05b\\uf060\\uf054\\uf038\\uf06e\\uf06b\\uf066\\uf031\\uf06c\\uf05d\\uf020adj. 感謝的，感激的\\uf020\\uf067\\uf072\\uf061\\uf074\\uf065\\uf066\\uf075\\uf06c\\uf020\\uf05b\\uf060\\uf047\\uf072\\uf065\\uf074\\uf066\\uf031\\uf06c\\uf05d\\uf020adj. 感激的，感謝的\\uf020\\uf066\\uf06f\\uf072\\uf074\\uf075\\uf06e\\uf061\\uf074\\uf065\\uf020\\uf05b\\uf060\\uf066\\uf04f\\uf072\\uf074\\uf053\\uf031\\uf06e\\uf031\\uf074\\uf05d\\uf020adj. 幸運的\\uf020\\x0c[,s1mpa91] n. [U)\\n\\nsympathy\\npity [\\'Pltl] n. CLT]\\n\\ncherish\\n\\nconcern\\n\\ncomfort\\n\\n\\'\\n\\n;\\n\\n;\\n\\nit.\\n\\nn.\\n\\n\\'\\n\\n•\\n\\n;\\n\\n\\'\\n\\n; n.\\n\\n; Vt.\\n\\n\\'\\n\\n; vi. YYäZ\\n\\nrelief\\nn. sing.\\nspark [spark] n. [C]\\ninspire [m span] Vt.\\n\\n\\'\\n\\n\\'\\n\\n, k-*fi\\n\\n,\\n\\n\\'\\n\\n,\\n\\n\\'\\n\\n;\\n\\n\\'\\n\\n\\'\\n\\nstale [stel] adj.\\ntiresome\\nbore [bar] Vt.\\nunpleasant\\ntolerate\\n\\n(talrsam]\\n\\nadi\\n\\n; n. [C]\\n[An-plezot] ad\\'.\\n\\n\\'\\n\\nadj.\\n\\nad\\'.\\n\\n[rflAktant]\\nad\\'.\\n\\nendure [In-djurl Vt.\\nreluctant\\nupset\\ndesperate\\nfrustrate Cfmstret]\\nfrustration\\n\\nit.\\n[frAs-trefan]\\n\\nn. lvt.\\n\\nenvy\\nadj.\\njealous\\nn. [U]\\nhatred Chetrld]\\nn.\\ndisgust\\nuneasy\\nadj.\\nrestless Crestlrs] adi\\npressure Cpref»]\\nn. [U]\\nanxious Cæokfas] ad\\'.\\ndread\\n\\n[An -in]\\n\\nn. [u]\\n\\npanic\\nhorrify\\nhorror\\n\\n(hora,fal]\\n(hora\\']\\n\\nVt.\\nn. [U)\\n\\nn. [U)\\n\\n\\'\\n\\n;\\n\\n;\\n\\n\\'\\n\\nterror\\nmiserable Ürmzarab!] adj.\\n\\nn. CU]\\n\\n\\'\\n\\n37  \\uf063\\uf068\\uf065\\uf072\\uf069\\uf073\\uf068\\uf020\\uf05b\\uf060\\uf074\\uf053\\uf045\\uf072\\uf049\\uf053\\uf05d\\uf020vt. 珍藏，將…視為珍貴，關愛，愛護\\uf020\\uf073\\uf079\\uf06d\\uf070\\uf061\\uf074\\uf068\\uf079\\uf020\\uf05b\\uf026\\uf073\\uf049\\uf06d\\uf070\\uf031\\uf054\\uf049\\uf05d\\uf020n. [U] 同情 (心)\\uf020\\uf070\\uf069\\uf074\\uf079\\uf020\\uf05b\\uf060\\uf070\\uf049\\uf074\\uf049\\uf05d\\uf020n. [U] 同情，憐憫；[S] 可惜；vt. 同情，憐憫\\uf020\\uf063\\uf06f\\uf06e\\uf063\\uf065\\uf072\\uf06e\\uf020\\uf05b\\uf06b\\uf031\\uf06e\\uf060\\uf073\\uf033\\uf06e\\uf05d\\uf020vt. 與…有關係，使關心、擔心；n. 關心、掛念\\uf020\\uf063\\uf06f\\uf06d\\uf066\\uf06f\\uf072\\uf074\\uf020\\uf05b\\uf060\\uf06b\\uf05e\\uf06d\\uf066\\uf032\\uf074\\uf05d\\uf020n. [U] 安慰，慰藉，舒適；vt. 安慰，慰問\\uf020\\uf072\\uf065\\uf06c\\uf069\\uf065\\uf066\\uf020\\uf05b\\uf072\\uf049\\uf060\\uf06c\\uf069\\uf066\\uf05d\\uf020n. sing. 寬慰，放心，解除，減輕\\uf020\\uf073\\uf070\\uf061\\uf072\\uf06b\\uf020\\uf05b\\uf073\\uf070\\uf041\\uf072\\uf06b\\uf05d\\uf020n. [C] 小火花；vt. 激發，引發；vi. 冒火花\\uf020\\uf069\\uf06e\\uf073\\uf070\\uf069\\uf072\\uf065\\uf020\\uf05b\\uf049\\uf06e\\uf060\\uf073\\uf070\\uf061\\uf049\\uf072\\uf05d\\uf020vt. 鼓舞，激勵\\uf020《負面》 \\uf073\\uf074\\uf061\\uf06c\\uf065\\uf020\\uf05b\\uf073\\uf074\\uf065\\uf06c\\uf05d\\uf020adj. 不新鮮的，無新意的，倦怠的\\uf020\\uf074\\uf069\\uf072\\uf065\\uf073\\uf06f\\uf06d\\uf065\\uf020\\uf05b\\uf060\\uf074\\uf061\\uf049\\uf072\\uf073\\uf031\\uf06d\\uf05d\\uf020adj. 令人厭倦的\\uf020\\uf062\\uf06f\\uf072\\uf065\\uf020\\uf05b\\uf062\\uf04f\\uf072\\uf05d\\uf020\\uf076\\uf074\\uf02e\\uf020使厭煩；n. [C] 令人厭煩的人或物\\uf020\\uf075\\uf06e\\uf070\\uf06c\\uf065\\uf061\\uf073\\uf061\\uf06e\\uf074\\uf020\\uf05b\\uf05e\\uf06e\\uf060\\uf070\\uf06c\\uf045\\uf07a\\uf04e\\uf074\\uf05d\\uf020adj. 令人不愉快的\\uf020\\uf074\\uf06f\\uf06c\\uf065\\uf072\\uf061\\uf074\\uf065\\uf020\\uf05b\\uf060\\uf074\\uf041\\uf06c\\uf031\\uf026\\uf072\\uf065\\uf074\\uf05d\\uf020vt. 容忍，忍受\\uf020\\uf065\\uf06e\\uf064\\uf075\\uf072\\uf065\\uf020\\uf05b\\uf049\\uf06e\\uf060\\uf064\\uf06a\\uf035\\uf072\\uf05d\\uf020vt. 忍受，忍耐\\uf020\\uf072\\uf065\\uf06c\\uf075\\uf063\\uf074\\uf061\\uf06e\\uf074\\uf020\\uf05b\\uf072\\uf049\\uf060\\uf06c\\uf05e\\uf06b\\uf074\\uf031\\uf06e\\uf074\\uf05d\\uf020adj. 不情願的，無可奈何的\\uf020\\uf075\\uf070\\uf073\\uf065\\uf074\\uf020\\uf05b\\uf05e\\uf070\\uf060\\uf073\\uf045\\uf074\\uf05d\\uf020adj. 腸胃不適的；沮喪的，失望的，使心煩意亂\\uf020\\uf064\\uf065\\uf073\\uf070\\uf065\\uf072\\uf061\\uf074\\uf065\\uf020\\uf05b\\uf060\\uf064\\uf045\\uf073\\uf070\\uf028\\uf031\\uf029\\uf072\\uf049\\uf074\\uf05d\\uf020adj. (因絕望而) 拼命、不顧一切的，極度渴望的\\uf020\\uf066\\uf072\\uf075\\uf073\\uf074\\uf072\\uf061\\uf074\\uf065\\uf020\\uf05b\\uf060\\uf066\\uf072\\uf05e\\uf073\\uf074\\uf072\\uf065\\uf074\\uf05d\\uf020vt. 使挫折\\uf020\\uf066\\uf072\\uf075\\uf073\\uf074\\uf072\\uf061\\uf074\\uf069\\uf06f\\uf06e\\uf020\\uf05b\\uf066\\uf072\\uf05e\\uf073\\uf060\\uf074\\uf072\\uf065\\uf053\\uf031\\uf06e\\uf05d\\uf020n. [U] 挫折\\uf020\\uf065\\uf06e\\uf076\\uf079\\uf020\\uf05b\\uf060\\uf045\\uf06e\\uf076\\uf049\\uf05d\\uf020n. /vt. 羨慕（希望也擁有別人有的事物）\\uf020\\uf06a\\uf065\\uf061\\uf06c\\uf06f\\uf075\\uf073\\uf020\\uf05b\\uf060\\uf064\\uf05a\\uf045\\uf06c\\uf031\\uf073\\uf05d\\uf020adj. 嫉妒的，吃醋的\\uf020\\uf068\\uf061\\uf074\\uf072\\uf065\\uf064\\uf020\\uf05b\\uf060\\uf068\\uf065\\uf074\\uf072\\uf049\\uf064\\uf05d\\uf020n. [U] 憎恨，厭惡\\uf020\\uf064\\uf069\\uf073\\uf067\\uf075\\uf073\\uf074\\uf020\\uf05b\\uf064\\uf049\\uf073\\uf060\\uf047\\uf05e\\uf073\\uf074\\uf05d\\uf020n. 厭惡；vt. 使人厭惡、噁心\\uf020\\uf075\\uf06e\\uf065\\uf061\\uf073\\uf079\\uf020\\uf05b\\uf05e\\uf06e\\uf060\\uf069\\uf07a\\uf049\\uf05d\\uf020adj. 不安的\\uf020\\uf072\\uf065\\uf073\\uf074\\uf06c\\uf065\\uf073\\uf073\\uf020\\uf05b\\uf060\\uf072\\uf045\\uf073\\uf074\\uf06c\\uf049\\uf073\\uf05d\\uf020adj. 無休止的，焦躁不安的\\uf020\\uf070\\uf072\\uf065\\uf073\\uf073\\uf075\\uf072\\uf065\\uf020\\uf05b\\uf060\\uf070\\uf072\\uf045\\uf053\\uf032\\uf05d\\uf020n. [U] 壓力；逼迫，脅迫\\uf020\\uf061\\uf06e\\uf078\\uf069\\uf06f\\uf075\\uf073\\uf020\\uf05b\\uf060\\uf038\\uf039\\uf06b\\uf053\\uf031\\uf073\\uf05d\\uf020adj. 焦急的，憂慮的\\uf020\\uf064\\uf072\\uf065\\uf061\\uf064\\uf020\\uf05b\\uf064\\uf072\\uf045\\uf064\\uf05d\\uf020n. [U] 害怕，畏懼；vt. 害怕，畏懼\\uf020\\uf070\\uf061\\uf06e\\uf069\\uf063\\uf020\\uf05b\\uf060\\uf070\\uf038\\uf06e\\uf049\\uf06b\\uf05d\\uf020n. / vi. 恐慌，驚慌\\uf020\\uf068\\uf06f\\uf072\\uf072\\uf069\\uf066\\uf079\\uf020\\uf05b\\uf060\\uf068\\uf04f\\uf072\\uf031\\uf026\\uf066\\uf061\\uf049\\uf05d\\uf020vt. 使恐懼，驚嚇\\uf020\\uf068\\uf06f\\uf072\\uf072\\uf06f\\uf072\\uf020\\uf05b\\uf060\\uf068\\uf04f\\uf072\\uf032\\uf05d\\uf020n. [U] 恐懼\\uf020\\uf074\\uf065\\uf072\\uf072\\uf06f\\uf072\\uf020\\uf05b\\uf060\\uf074\\uf045\\uf072\\uf032\\uf05d\\uf020n. [U] （暴行引起的）驚駭，極度恐懼\\uf020\\uf06d\\uf069\\uf073\\uf065\\uf072\\uf061\\uf062\\uf06c\\uf065\\uf020\\uf05b\\uf060\\uf06d\\uf049\\uf07a\\uf031\\uf072\\uf031\\uf062\\uf04c\\uf05d\\uf020adj. 悲慘的，痛苦的\\uf020\\x0cn. [LLC]\\n\\n\\'\\n\\n\\'\\n\\n,\\n\\n\\'\\nadj.\\n\\nn.\\nadj.\\n\\'\\n[mftærasmant]\\n\\'\\n\\nn.\\n[a-femd]\\n[a-nor] Vt.\\n\\nmisery\\npartial Cparfal]\\nembarrassment\\nshame [fem]\\nashamed\\nannoy\\nrage [reds] n. [U/C]\\ndepress [dÜprES] Vt.\\ndisappoint\\ndiscourage [dls&k3\\'1d3] Vt.\\nhesitate Chezl,tet]\\nvi\\nconfess Ckan&fes]Vt.,/vi\\n\\n[,drsa-pmt]\\n\\n; vi.\\n\\n\\'\\n\\n\\'\\n\\nn.[C]\\n\\n[glit] n.[U]\\n\\nregret\\nguilt\\nsorrow (saro]\\nsorrowful\\ngrief\\nsob [sab] vi./n.\\nweep [wip] vi.\\nsigh [Sal] n. / vi.\\n\\n(sarofal]\\n[gri$ n. [U]\\n\\nn. [C,\\'TJ]\\nadj.\\n\\'\\n\\n\\'\\n\\n\\'\\n\\ncommunicate\\n\\nmjuna,ket]\\n\\nvi.\\n\\n\\'\\n\\n; Vt.\\n\\nn.\\n\\nft. / n. [T-T\\n\\n\\' 3&F_\\n\\nn. [C)\\n\\n\\'\\n\\n\\'\\n\\n;\\n\\n\\'\\n\\ncommunication\\nexchange [Iks&tfend3]\\ninteract\\nvi.\\nconversation\\n\\n[,int$ækt]\\n\\n[,kanv$sefan]\\n\\nvi.\\n\\nconverse\\nexpression [1k sprefan] n. [C]\\nconvey\\n\\n[kan•ve] Vt.\\n\\n\\'\\n\\nrefer\\nrepetition\\n\\n\\'\\n\\nvi.\\n[,æpftlfan]\\n\\n\\'\\n\\nn. [CLT)\\n\\n\\'\\n\\n38  \\uf06d\\uf069\\uf073\\uf065\\uf072\\uf079\\uf020\\uf05b\\uf060\\uf06d\\uf049\\uf07a\\uf031\\uf072\\uf049\\uf05d\\uf020n. [U] 悲慘，苦難，窮困\\uf020\\uf070\\uf061\\uf072\\uf074\\uf069\\uf061\\uf06c\\uf020\\uf05b\\uf060\\uf070\\uf041\\uf072\\uf053\\uf031\\uf06c\\uf05d\\uf020adj. 部分的，偏心的\\uf020\\uf065\\uf06d\\uf062\\uf061\\uf072\\uf072\\uf061\\uf073\\uf073\\uf06d\\uf065\\uf06e\\uf074\\uf020\\uf05b\\uf049\\uf06d\\uf060\\uf062\\uf038\\uf072\\uf031\\uf073\\uf06d\\uf031\\uf06e\\uf074\\uf05d\\uf020n. [U/C] 難堪，尷尬（的事）\\uf020\\uf073\\uf068\\uf061\\uf06d\\uf065\\uf020\\uf05b\\uf053\\uf065\\uf06d\\uf05d\\uf020n. 羞愧，可恥，遺憾\\uf020\\uf061\\uf073\\uf068\\uf061\\uf06d\\uf065\\uf064\\uf020\\uf05b\\uf031\\uf060\\uf053\\uf065\\uf06d\\uf064\\uf05d\\uf020adj. 感到可恥的\\uf020\\uf061\\uf06e\\uf06e\\uf06f\\uf079\\uf020\\uf05b\\uf031\\uf060\\uf06e\\uf04f\\uf049\\uf05d\\uf020vt. 惹惱，使生氣\\uf020\\uf072\\uf061\\uf067\\uf065\\uf020\\uf05b\\uf072\\uf065\\uf064\\uf05a\\uf05d\\uf020n. [U/C] 盛怒；vi. 憤怒，震怒\\uf020\\uf064\\uf065\\uf070\\uf072\\uf065\\uf073\\uf073\\uf020\\uf05b\\uf064\\uf049\\uf060\\uf070\\uf072\\uf045\\uf073\\uf05d\\uf020vt. 使沮喪\\uf020\\uf064\\uf069\\uf073\\uf061\\uf070\\uf070\\uf06f\\uf069\\uf06e\\uf074\\uf020\\uf05b\\uf026\\uf064\\uf049\\uf073\\uf031\\uf060\\uf070\\uf04f\\uf049\\uf06e\\uf074\\uf05d\\uf020vt. 使失望\\uf020\\uf064\\uf069\\uf073\\uf063\\uf06f\\uf075\\uf072\\uf061\\uf067\\uf065\\uf020\\uf05b\\uf064\\uf049\\uf073\\uf060\\uf06b\\uf033\\uf049\\uf064\\uf05a\\uf05d\\uf020vt. 使氣餒，使打消念頭\\uf020\\uf068\\uf065\\uf073\\uf069\\uf074\\uf061\\uf074\\uf065\\uf020\\uf05b\\uf060\\uf068\\uf045\\uf07a\\uf049\\uf026\\uf074\\uf065\\uf074\\uf05d\\uf020vi. 猶豫\\uf020\\uf063\\uf06f\\uf06e\\uf066\\uf065\\uf073\\uf073\\uf020\\uf05b\\uf06b\\uf031\\uf06e\\uf060\\uf066\\uf045\\uf073\\uf05d vt./vi 坦承，懺悔\\uf020\\uf072\\uf065\\uf067\\uf072\\uf065\\uf074\\uf020\\uf05b\\uf072\\uf049\\uf060\\uf047\\uf072\\uf045\\uf074\\uf05d\\uf020n. [C] 遺憾，後悔；vt. 為…感到遺憾、後悔\\uf020\\uf067\\uf075\\uf069\\uf06c\\uf074\\uf020\\uf05b\\uf047\\uf049\\uf06c\\uf074\\uf05d\\uf020n. [U] 罪責，過失，內疚，自責\\uf020\\uf073\\uf06f\\uf072\\uf072\\uf06f\\uf077\\uf020\\uf05b\\uf060\\uf073\\uf041\\uf072\\uf06f\\uf05d\\uf020n. [C/U] 悲傷\\uf020\\uf073\\uf06f\\uf072\\uf072\\uf06f\\uf077\\uf066\\uf075\\uf06c\\uf020\\uf05b\\uf060\\uf073\\uf041\\uf072\\uf06f\\uf066\\uf031\\uf06c\\uf05d\\uf020adj. 悲傷的\\uf020\\uf067\\uf072\\uf069\\uf065\\uf066\\uf020\\uf05b\\uf047\\uf072\\uf069\\uf066\\uf05d\\uf020n. [U] 悲痛，哀慟\\uf020\\uf073\\uf06f\\uf062\\uf020\\uf05b\\uf073\\uf041\\uf062\\uf05d\\uf020vi. / n. 啜泣，抽噎\\uf020\\uf077\\uf065\\uf065\\uf070\\uf020\\uf05b\\uf077\\uf069\\uf070\\uf05d\\uf020vi. 流淚，哭泣\\uf020\\uf073\\uf069\\uf067\\uf068\\uf020\\uf05b\\uf073\\uf061\\uf049\\uf05d\\uf020n. / vi. 嘆氣\\uf020 溝通 《一般》 \\uf063\\uf06f\\uf06d\\uf06d\\uf075\\uf06e\\uf069\\uf063\\uf061\\uf074\\uf065\\uf020\\uf05b\\uf06b\\uf031\\uf060\\uf06d\\uf06a\\uf075\\uf06e\\uf031\\uf026\\uf06b\\uf065\\uf074\\uf05d\\uf020vi. 溝通，交流；vt. 傳達（意見）\\uf020\\uf063\\uf06f\\uf06d\\uf06d\\uf075\\uf06e\\uf069\\uf063\\uf061\\uf074\\uf069\\uf06f\\uf06e\\uf020\\uf05b\\uf06b\\uf031\\uf026\\uf06d\\uf06a\\uf075\\uf06e\\uf031\\uf060\\uf06b\\uf065\\uf053\\uf031\\uf06e\\uf05d\\uf020n. [U] 溝通\\uf020\\uf065\\uf078\\uf063\\uf068\\uf061\\uf06e\\uf067\\uf065\\uf020\\uf05b\\uf049\\uf06b\\uf073\\uf060\\uf074\\uf053\\uf065\\uf06e\\uf064\\uf05a\\uf05d\\uf020vt. / n. [U ]交換，交流\\uf020\\uf069\\uf06e\\uf074\\uf065\\uf072\\uf061\\uf063\\uf074\\uf020\\uf05b\\uf026\\uf069\\uf06e\\uf074\\uf032\\uf060\\uf038\\uf06b\\uf074\\uf05d\\uf020vi. 互動\\uf020\\uf063\\uf06f\\uf06e\\uf076\\uf065\\uf072\\uf073\\uf061\\uf074\\uf069\\uf06f\\uf06e\\uf020\\uf05b\\uf026\\uf06b\\uf041\\uf06e\\uf076\\uf032\\uf060\\uf073\\uf065\\uf053\\uf031\\uf06e\\uf05d\\uf020n. [C] 對話\\uf020\\uf063\\uf06f\\uf06e\\uf076\\uf065\\uf072\\uf073\\uf065\\uf020\\uf05b\\uf06b\\uf031\\uf06e\\uf060\\uf076\\uf033\\uf073\\uf05d\\uf020vi. 交談\\uf020\\uf065\\uf078\\uf070\\uf072\\uf065\\uf073\\uf073\\uf069\\uf06f\\uf06e\\uf020\\uf05b\\uf049\\uf06b\\uf060\\uf073\\uf070\\uf072\\uf045\\uf053\\uf031\\uf06e\\uf05d\\uf020n. [C] 表達，表情，用語\\uf020\\uf063\\uf06f\\uf06e\\uf076\\uf065\\uf079\\uf020\\uf05b\\uf06b\\uf031\\uf06e\\uf060\\uf076\\uf065\\uf05d\\uf020vt. 傳達，表達 (感情、想法等)；傳送，運送\\uf020\\uf072\\uf065\\uf066\\uf065\\uf072\\uf020\\uf05b\\uf072\\uf049\\uf060\\uf066\\uf033\\uf05d\\uf020vi. 言及，提到，查…\\uf020\\uf072\\uf065\\uf070\\uf065\\uf074\\uf069\\uf074\\uf069\\uf06f\\uf06e\\uf020\\uf05b\\uf026\\uf072\\uf045\\uf070\\uf049\\uf060\\uf074\\uf049\\uf053\\uf031\\uf06e\\uf05d\\uf020n. [C/U] 重複，反覆\\uf020\\x0c\\'\\n\\nn. [C] vi.\\nit.\\n\\ngreeting Cgrit10] n. CLT]\\nchat\\n[tfæt]\\nbless [blES]\\nflatter C&flæta--]\\ncongratulate Ckan-grætfa,let]\\nreception\\nfarewell\\n\\n[rfsepfan]\\n\\nn. [C)\\n\\nn. [C]\\n\\n\\'\\n\\n\\'\\n\\n\"t\\n\\n\\'\\n\\n\\'\\n\\nn.\\n\\n; vtJvi.\\n\\nn.\\n\\nn. [U)\\n\\n[Anansens] n. [U/S]\\n\\n[,mrs lid] Vt.\\n\\n;\\n\\n; vi.\\n\\'\\n\\nmurmur\\n\\nrumor\\n\\ngossip\\nnonsense\\nmislead\\nboast\\n\\n[bost]\\n\\nvi.\\n\\n,\\n\\n\\'\\n\\n;\\n\\n\\'\\n\\n,\\n\\n[kam plent] n. [C]\\n\\n,\\n\\n; vi.\\n\\n[C]\\nn. [C]\\n\\nexaggerate\\nliar C&lal»] n. [C]\\ncomplaint\\nwam [worn]\\ndisturb\\n[dÜst3\\'b]\\ndispute [dÜsp•ut]\\n(kwonl]\\nquarrel\\n[swer] Vt.\\nswear\\n[dæm]\\nIt.\\ndamn\\n,sarz] •ft.\\nt kilt.\\ncriticize\\nblame\\n[blem]\\n/ n.[C]\\nscold [skold]\\noffend\\ntease [tiz]\\nft.\\ninsult CmsAlt]\\napologize [a-pala d3arz] vi.\\nrefusal\\nrejection\\n\\n[rfd3Ekfan]\\n\\n\\'-E.g ; ad\\'.\\n\\n[rffjuz!]\\n\\n[a-fend]\\n\\nn.\\n\\nit.\\n\\n,\\n\\nn. [C]\\n\\n\\'E-Z\\n\\n\\'\\n\\n,\\n\\n\\'\\n\\'\\n\\nn. CLT]\\n\\n39  《問候》 \\uf067\\uf072\\uf065\\uf065\\uf074\\uf069\\uf06e\\uf067\\uf020\\uf05b\\uf060\\uf047\\uf072\\uf069\\uf074\\uf049\\uf039\\uf05d\\uf020n. [U] 問候，致意\\uf020\\uf063\\uf068\\uf061\\uf074\\uf020\\uf05b\\uf074\\uf053\\uf038\\uf074\\uf05d\\uf020n. [C] vi. 閒聊\\uf020\\uf062\\uf06c\\uf065\\uf073\\uf073\\uf020\\uf05b\\uf062\\uf06c\\uf045\\uf073\\uf05d\\uf020vt. 祝福，保佑\\uf020\\uf066\\uf06c\\uf061\\uf074\\uf074\\uf065\\uf072\\uf020\\uf05b\\uf060\\uf066\\uf06c\\uf038\\uf074\\uf032\\uf05d\\uf020vt. 諂媚，使受寵若驚\\uf020\\uf063\\uf06f\\uf06e\\uf067\\uf072\\uf061\\uf074\\uf075\\uf06c\\uf061\\uf074\\uf065\\uf020\\uf05b\\uf06b\\uf031\\uf06e\\uf060\\uf047\\uf072\\uf038\\uf074\\uf053\\uf031\\uf026\\uf06c\\uf065\\uf074\\uf05d\\uf020vt. 道賀，慶賀\\uf020\\uf072\\uf065\\uf063\\uf065\\uf070\\uf074\\uf069\\uf06f\\uf06e\\uf020\\uf05b\\uf072\\uf049\\uf060\\uf073\\uf045\\uf070\\uf053\\uf031\\uf06e\\uf05d n. [C] 接待，回應，招待會\\uf020\\uf066\\uf061\\uf072\\uf065\\uf077\\uf065\\uf06c\\uf06c\\uf020\\uf05b\\uf026\\uf066\\uf045\\uf072\\uf060\\uf077\\uf045\\uf06c\\uf05d\\uf020n. [C] 告別，送別\\uf020《紛爭》 \\uf06d\\uf075\\uf072\\uf06d\\uf075\\uf072\\uf020\\uf05b\\uf060\\uf06d\\uf033\\uf06d\\uf032\\uf05d\\uf020n. 低語聲；vt./vi. 低語說，私下抱怨\\uf020\\uf072\\uf075\\uf06d\\uf06f\\uf072\\uf020\\uf05b\\uf060\\uf072\\uf075\\uf06d\\uf032\\uf05d\\uf020n. [C/U] 謠言，傳言；vt. 傳播謠言\\uf020\\uf067\\uf06f\\uf073\\uf073\\uf069\\uf070\\uf020\\uf05b\\uf060\\uf047\\uf041\\uf073\\uf049\\uf070\\uf05d\\uf020n. [U] 八卦，流言蜚語；vi. 聊八卦\\uf020\\uf06e\\uf06f\\uf06e\\uf073\\uf065\\uf06e\\uf073\\uf065\\uf020\\uf05b\\uf060\\uf06e\\uf041\\uf06e\\uf073\\uf045\\uf06e\\uf073\\uf05d\\uf020n. [U/S] 胡說八道，廢話\\uf020\\uf06d\\uf069\\uf073\\uf06c\\uf065\\uf061\\uf064\\uf020\\uf05b\\uf026\\uf06d\\uf049\\uf073\\uf060\\uf06c\\uf069\\uf064\\uf05d\\uf020vt. 使誤信、誤導\\uf020\\uf062\\uf06f\\uf061\\uf073\\uf074\\uf020\\uf05b\\uf062\\uf06f\\uf073\\uf074\\uf05d\\uf020vi. 自誇；vt. 以擁有…而自豪\\uf020\\uf065\\uf078\\uf061\\uf067\\uf067\\uf065\\uf072\\uf061\\uf074\\uf065\\uf020\\uf05b\\uf049\\uf047\\uf060\\uf07a\\uf038\\uf064\\uf05a\\uf031\\uf026\\uf072\\uf065\\uf074\\uf05d\\uf020vt. 誇張，誇大\\uf020\\uf06c\\uf069\\uf061\\uf072\\uf020\\uf05b\\uf060\\uf06c\\uf061\\uf049\\uf032\\uf05d\\uf020n. [C] 說謊者\\uf020\\uf063\\uf06f\\uf06d\\uf070\\uf06c\\uf061\\uf069\\uf06e\\uf074\\uf020\\uf05b\\uf06b\\uf031\\uf06d\\uf060\\uf070\\uf06c\\uf065\\uf06e\\uf074\\uf05d\\uf020n. [C] 抱怨，投訴\\uf020\\uf077\\uf061\\uf072\\uf06e\\uf020\\uf05b\\uf077\\uf04f\\uf072\\uf06e\\uf05d\\uf020vt. 警告，告誡\\uf020\\uf064\\uf069\\uf073\\uf074\\uf075\\uf072\\uf062\\uf020\\uf05b\\uf064\\uf049\\uf060\\uf073\\uf074\\uf033\\uf062\\uf05d\\uf020vt./vi. 打擾，干擾\\uf020\\uf064\\uf069\\uf073\\uf070\\uf075\\uf074\\uf065\\uf020\\uf05b\\uf064\\uf049\\uf060\\uf073\\uf070\\uf06a\\uf075\\uf074\\uf05d\\uf020n. [C] 爭論，糾紛；vt./vi. 爭論，爭執\\uf020\\uf071\\uf075\\uf061\\uf072\\uf072\\uf065\\uf06c\\uf020\\uf05b\\uf060\\uf06b\\uf077\\uf04f\\uf072\\uf031\\uf06c\\uf05d\\uf020n. [C] / vi. 爭執，口角\\uf020\\uf073\\uf077\\uf065\\uf061\\uf072\\uf020\\uf05b\\uf073\\uf077\\uf045\\uf072\\uf05d\\uf020vt. 發誓；vi. 說髒話\\uf020\\uf064\\uf061\\uf06d\\uf06e\\uf020\\uf05b\\uf064\\uf038\\uf06d\\uf05d\\uf020vt. 咒罵；adj. 該死的\\uf020\\uf063\\uf072\\uf069\\uf074\\uf069\\uf063\\uf069\\uf07a\\uf065\\uf020\\uf05b\\uf060\\uf06b\\uf072\\uf049\\uf074\\uf031\\uf026\\uf073\\uf061\\uf049\\uf07a\\uf05d\\uf020vt. 批評，批判\\uf020\\uf062\\uf06c\\uf061\\uf06d\\uf065\\uf020\\uf05b\\uf062\\uf06c\\uf065\\uf06d\\uf05d\\uf020vt. / n. [C] 怪罪，責備\\uf020\\uf073\\uf063\\uf06f\\uf06c\\uf064\\uf020\\uf05b\\uf073\\uf06b\\uf06f\\uf06c\\uf064\\uf05d\\uf020vt. 斥責\\uf020\\uf06f\\uf066\\uf066\\uf065\\uf06e\\uf064\\uf020\\uf05b\\uf031\\uf060\\uf066\\uf045\\uf06e\\uf064\\uf05d\\uf020vt. 冒犯，得罪\\uf020\\uf074\\uf065\\uf061\\uf073\\uf065\\uf020\\uf05b\\uf074\\uf069\\uf07a\\uf05d\\uf020vt. 揶揄\\uf020\\uf069\\uf06e\\uf073\\uf075\\uf06c\\uf074\\uf020\\uf05b\\uf060\\uf049\\uf06e\\uf073\\uf05e\\uf06c\\uf074\\uf05d\\uf020n. [C] / vt. 侮辱\\uf020\\uf061\\uf070\\uf06f\\uf06c\\uf06f\\uf067\\uf069\\uf07a\\uf065\\uf020\\uf05b\\uf031\\uf060\\uf070\\uf041\\uf06c\\uf031\\uf026\\uf064\\uf05a\\uf061\\uf049\\uf07a\\uf05d\\uf020vi. 道歉\\uf020\\uf072\\uf065\\uf066\\uf075\\uf073\\uf061\\uf06c\\uf020\\uf05b\\uf072\\uf049\\uf060\\uf066\\uf06a\\uf075\\uf07a\\uf04c\\uf05d\\uf020n. [U] 拒絕\\uf020\\uf072\\uf065\\uf06a\\uf065\\uf063\\uf074\\uf069\\uf06f\\uf06e\\uf020\\uf05b\\uf072\\uf049\\uf060\\uf064\\uf05a\\uf045\\uf06b\\uf053\\uf031\\uf06e\\uf05d\\uf020n. [U] 拒絕\\uf020 \\x0cintroduction\\nmention\\n\\n[,mtr$dAkfan]\\nvt.,/n.\\n\\nCmenfan]\\n\\nn. [C]\\n\\n\\'\\n\\n\\'\\n\\n\\'\\n\\n\\'.t.\\n\\n\\'\\n\\nn. [U]\\n\\n\\'\\n\\ninterrupt\\ninterruption\\ncomment\\nremark\\nconclude\\n\\n[II-mark]\\n\\nCka,ment]\\nn.\\n[kan-klud]\\n\\nn. [C]/vt.\\n\\nVt.\\n\\nVt.\\n\\n\\'\\n\\n\\'\\n\\n\\'\\n\\n\\'\\n\\n\\'\\n\\n\\'\\n\\n\\'\\n\\nadvice\\nproposal\\nsuggest\\n\\nn.\\n\\n[pra poz!] n. [C]\\n[sa&d3Est] Vt\\n\\n\\'\\n\\n\\'\\n\\nn.\\nVt.\\n\\n[\\'klæra,fal]\\n\\nrequest\\nclarify\\nconvince\\n[kan-vms]\\npersuade [p-swed]\\npersuasive [p.•-swesw] ad\\'.\\nurge\\n\\n•ft.\\n\\nvt.\\n\\n,\\n\\n; n. [C]\\n\\nassure\\n\\n[mfplal]\\n\\nguarantee [,gæran-ti] Vt\\n\\'\\nsignal Csrgnl] vi.\\nindirect\\n[,md$1Ekt]\\nad\\'.\\nimply\\nVt.\\ncue Ckju] n. [C]/ Vt\\nindication\\nreveal\\nreact\\nrespond [n spand] Vt.\\n\\n[rÜVi1] vt.\\n[rfækt]\\n\\n[,md$kefan]\\n\\n\\'\\n\\n; n. [C)\\n\\n\\'\\n\\n; n. [C]\\n\\'\\n\\n\\'\\n\\nn. [C]\\n\\n\\'\\n\\nVt.\\n\\n\\'\\n\\n[ mf$mefan]\\n\\'.t.\\n\\n[a-nauns]\\n\\ninform [mhrm]\\ninformation\\nannounce\\ndeclare [dÜklE1]\\nslc„gan (slogan]\\n\\n\\'\\n\\nn. [C]\\n\\nn. [U)\\n\\n(z info)\\n\\n40  《談論》 \\uf069\\uf06e\\uf074\\uf072\\uf06f\\uf064\\uf075\\uf063\\uf074\\uf069\\uf06f\\uf06e\\uf020\\uf05b\\uf026\\uf049\\uf06e\\uf074\\uf072\\uf031\\uf060\\uf064\\uf05e\\uf06b\\uf053\\uf031\\uf06e\\uf05d\\uf020n. [C] 介紹，引進，前言\\uf020\\uf06d\\uf065\\uf06e\\uf074\\uf069\\uf06f\\uf06e\\uf020\\uf05b\\uf060\\uf06d\\uf045\\uf06e\\uf053\\uf031\\uf06e\\uf05d\\uf020vt. / n. [U]提及，談到\\uf020\\uf069\\uf06e\\uf074\\uf065\\uf072\\uf072\\uf075\\uf070\\uf074\\uf020\\uf05b\\uf026\\uf049\\uf06e\\uf074\\uf031\\uf060\\uf072\\uf05e\\uf070\\uf074\\uf05d\\uf020vt. 打擾，打岔\\uf020\\uf069\\uf06e\\uf074\\uf065\\uf072\\uf072\\uf075\\uf070\\uf074\\uf069\\uf06f\\uf06e\\uf020\\uf05b\\uf026\\uf049\\uf06e\\uf074\\uf031\\uf060\\uf072\\uf05e\\uf070\\uf053\\uf031\\uf06e\\uf05d\\uf020n. [U] 打擾，干擾\\uf020\\uf063\\uf06f\\uf06d\\uf06d\\uf065\\uf06e\\uf074\\uf020\\uf05b\\uf060\\uf06b\\uf041\\uf026\\uf06d\\uf045\\uf06e\\uf074\\uf05d\\uf020n. [C] / vt. （表達）意見，評論\\uf020\\uf072\\uf065\\uf06d\\uf061\\uf072\\uf06b\\uf020\\uf05b\\uf072\\uf049\\uf060\\uf06d\\uf041\\uf072\\uf06b\\uf05d\\uf020n. [C] / vt. 談論，評論\\uf020\\uf063\\uf06f\\uf06e\\uf063\\uf06c\\uf075\\uf064\\uf065\\uf020\\uf05b\\uf06b\\uf031\\uf06e\\uf060\\uf06b\\uf06c\\uf075\\uf064\\uf05d\\uf020vt. 做出…結論，斷定\\uf020\\uf061\\uf064\\uf076\\uf069\\uf063\\uf065\\uf020\\uf05b\\uf031\\uf064\\uf060\\uf076\\uf061\\uf049\\uf073\\uf05d\\uf020n. [U] 建議，忠告\\uf020\\uf070\\uf072\\uf06f\\uf070\\uf06f\\uf073\\uf061\\uf06c\\uf020\\uf05b\\uf070\\uf072\\uf031\\uf060\\uf070\\uf06f\\uf07a\\uf04c\\uf05d\\uf020n. [C] 提議，建議，求婚\\uf020\\uf073\\uf075\\uf067\\uf067\\uf065\\uf073\\uf074\\uf020\\uf05b\\uf073\\uf031\\uf060\\uf064\\uf05a\\uf045\\uf073\\uf074\\uf05d\\uf020vt. 顯示，提議，建議，暗示\\uf020\\uf072\\uf065\\uf071\\uf075\\uf065\\uf073\\uf074\\uf020\\uf05b\\uf072\\uf049\\uf060\\uf06b\\uf077\\uf045\\uf073\\uf074\\uf05d\\uf020n. [C] / vt. 要求，請求\\uf020\\uf063\\uf06c\\uf061\\uf072\\uf069\\uf066\\uf079\\uf020\\uf05b\\uf060\\uf06b\\uf06c\\uf038\\uf072\\uf031\\uf026\\uf066\\uf061\\uf049\\uf05d\\uf020vt. 澄清，說明\\uf020\\uf063\\uf06f\\uf06e\\uf076\\uf069\\uf06e\\uf063\\uf065\\uf020\\uf05b\\uf06b\\uf031\\uf06e\\uf060\\uf076\\uf049\\uf06e\\uf073\\uf05d\\uf020vt. 使相信，使信服\\uf020\\uf070\\uf065\\uf072\\uf073\\uf075\\uf061\\uf064\\uf065\\uf020\\uf05b\\uf070\\uf032\\uf060\\uf073\\uf077\\uf065\\uf064\\uf05d\\uf020vt. 說服\\uf020\\uf070\\uf065\\uf072\\uf073\\uf075\\uf061\\uf073\\uf069\\uf076\\uf065\\uf020\\uf05b\\uf070\\uf032\\uf060\\uf073\\uf077\\uf065\\uf073\\uf049\\uf076\\uf05d\\uf020adj. 有說服力的\\uf020\\uf075\\uf072\\uf067\\uf065\\uf020\\uf05b\\uf033\\uf064\\uf05a\\uf05d\\uf020vt. 力勸，激勵；n. [C] 強烈的欲望，衝動\\uf020\\uf061\\uf073\\uf073\\uf075\\uf072\\uf065\\uf020\\uf05b\\uf031\\uf060\\uf053\\uf055\\uf072\\uf05d\\uf020vt. 向（某人）保證\\uf020\\uf067\\uf075\\uf061\\uf072\\uf061\\uf06e\\uf074\\uf065\\uf065\\uf020\\uf05b\\uf026\\uf047\\uf038\\uf072\\uf031\\uf06e\\uf060\\uf074\\uf069\\uf05d\\uf020vt. 擔保，保證；n. [C] 承諾，保證\\uf020\\uf073\\uf069\\uf067\\uf06e\\uf061\\uf06c\\uf020\\uf05b\\uf060\\uf073\\uf049\\uf047\\uf06e\\uf04c\\uf05d\\uf020vi. 示意，打信號；n. [C] 信號\\uf020\\uf069\\uf06e\\uf064\\uf069\\uf072\\uf065\\uf063\\uf074\\uf020\\uf05b\\uf026\\uf049\\uf06e\\uf064\\uf031\\uf060\\uf072\\uf045\\uf06b\\uf074\\uf05d\\uf020adj. 間接的，迂迴的\\uf020\\uf069\\uf06d\\uf070\\uf06c\\uf079\\uf020\\uf05b\\uf049\\uf06d\\uf060\\uf070\\uf06c\\uf061\\uf049\\uf05d\\uf020vt. 暗示\\uf020\\uf063\\uf075\\uf065\\uf020\\uf05b\\uf06b\\uf06a\\uf075\\uf05d\\uf020n. [C] / vt. 暗示，提示\\uf020\\uf069\\uf06e\\uf064\\uf069\\uf063\\uf061\\uf074\\uf069\\uf06f\\uf06e\\uf020\\uf05b\\uf026\\uf049\\uf06e\\uf064\\uf031\\uf060\\uf06b\\uf065\\uf053\\uf031\\uf06e\\uf05d\\uf020n. [C] 象徵，表示\\uf020\\uf072\\uf065\\uf076\\uf065\\uf061\\uf06c\\uf020\\uf05b\\uf072\\uf049\\uf060\\uf076\\uf069\\uf06c\\uf05d\\uf020vt. 透露，洩露\\uf020\\uf072\\uf065\\uf061\\uf063\\uf074\\uf020\\uf05b\\uf072\\uf049\\uf060\\uf038\\uf06b\\uf074\\uf05d\\uf020vi. 反應，回應\\uf020\\uf072\\uf065\\uf073\\uf070\\uf06f\\uf06e\\uf064\\uf020\\uf05b\\uf072\\uf049\\uf060\\uf073\\uf070\\uf041\\uf06e\\uf064\\uf05d\\uf020vt. 回答，答覆，反應\\uf020《公開》 \\uf069\\uf06e\\uf066\\uf06f\\uf072\\uf06d\\uf020\\uf05b\\uf049\\uf06e\\uf060\\uf066\\uf04f\\uf072\\uf06d\\uf05d\\uf020vt. 通知，知會\\uf020\\uf069\\uf06e\\uf066\\uf06f\\uf072\\uf06d\\uf061\\uf074\\uf069\\uf06f\\uf06e\\uf020\\uf05b\\uf026\\uf049\\uf06e\\uf066\\uf032\\uf060\\uf06d\\uf065\\uf053\\uf031\\uf06e\\uf05d\\uf020n. [U] 資訊 (= info)\\uf020\\uf061\\uf06e\\uf06e\\uf06f\\uf075\\uf06e\\uf063\\uf065\\uf020\\uf05b\\uf031\\uf060\\uf06e\\uf061\\uf035\\uf06e\\uf073\\uf05d\\uf020vt. 宣布，宣告（指公開某項資訊）\\uf020\\uf064\\uf065\\uf063\\uf06c\\uf061\\uf072\\uf065\\uf020\\uf05b\\uf064\\uf049\\uf060\\uf06b\\uf06c\\uf045\\uf072\\uf05d\\uf020vt. 公布，聲明（有大聲宣告的意味）\\uf020\\uf073\\uf06c\\uf06f\\uf067\\uf061\\uf06e\\uf020\\uf05b\\uf060\\uf073\\uf06c\\uf06f\\uf047\\uf031\\uf06e\\uf05d\\uf020n. [C] 口號\\uf020 \\x0ckit\\n\\n[kit] n. [C]\\n\\narticle\\n\\n[æks] n. [C]\\n\\nax(e)\\nchop [trap]\\nshovel\\n\\nft. In.\\n\\ntJ \\'\\n\\nchain\\nwhip\\nhook\\n\\nscrew\\n\\nn. [C)\\n\\n[ftn]\\n[(h)wrp] n. [C]\\n[hUk] n. [C)\\n\\nn.\\n\\n;\\n\\n,\\n\\nvi.\\n\\n; \\'.t.\\n\\n;\\n\\n\\'\\n\\n;\\n\\n;\\n\\nn. [C]\\ndrill\\nclip [kilP] n [C]\\ncord [kord]\\npole [POI] n. [C)\\nCan e\\n\\nn.\\n\\n;\\n\\n\\'\\n\\n,\\n\\n\\'\\n\\n;\\n\\n)\\n\\nladder Ülædö] n. [C]\\ncontainer\\n[kan•tena•]\\nvessel fives!] n. [C]\\nvase [ves] n. [C]\\nlocker\\nn.\\naquarium [a kwerpm]\\nsack [sæk] n. [C)\\n\\n[\\'10k.]\\n\\nbond\\n\\nn. [C]\\n\\n\\'\\n\\n( ü*fi)\\n\\nn. [C]\\n\\n\\'\\n\\n[sfment]\\n\\nn. [U)\\n\\nfasten C&fæsq]vi./%t\\ncement\\nadjust\\nmend\\nrepair\\nclip [kilP]\\n\\n[ad-d3Ast] Vt.\\n[mend] Vt.\\n[II-per] n. [U]\\n\\n;\\n\\n\\'\\n\\n\\'\\n\\n•\\n\\n; Vt.\\n;\\n\\' äiE\\n\\'\\n\\n;\\n\\n41  工具 《物品》 \\uf06b\\uf069\\uf074\\uf020\\uf05b\\uf06b\\uf049\\uf074\\uf05d\\uf020n. [C] 成套工具，成套配備\\uf020\\uf061\\uf072\\uf074\\uf069\\uf063\\uf06c\\uf065\\uf020\\uf05b\\uf060\\uf041\\uf072\\uf074\\uf049\\uf06b\\uf04c\\uf05d\\uf020n. [C] 冠詞，文章；物品，（一）件（物品）\\uf020\\uf061\\uf078\\uf028\\uf065\\uf029\\uf020\\uf05b\\uf038\\uf06b\\uf073\\uf05d\\uf020n. [C] 斧頭\\uf020\\uf063\\uf068\\uf06f\\uf070\\uf020\\uf05b\\uf074\\uf053\\uf061\\uf070\\uf05d\\uf020vt. / n. 切，砍\\uf020\\uf073\\uf068\\uf06f\\uf076\\uf065\\uf06c\\uf020\\uf05b\\uf060\\uf073\\uf05e\\uf076\\uf04c\\uf05d\\uf020n. [C] 鏟子；vt. 鏟（雪）\\uf020\\uf063\\uf068\\uf061\\uf069\\uf06e\\uf020\\uf05b\\uf034\\uf065\\uf06e\\uf05d\\uf020n. [C] 鏈條，連鎖店；vt. 拴住，鎖住\\uf020\\uf077\\uf068\\uf069\\uf070\\uf020\\uf05b\\uf028\\uf068\\uf029\\uf077\\uf049\\uf070\\uf05d\\uf020n. [C] 鞭子；vt. 用鞭子抽打\\uf020\\uf068\\uf06f\\uf06f\\uf06b\\uf020\\uf05b\\uf068\\uf055\\uf06b\\uf05d\\uf020n. [C] 鉤子；vt. 鉤住\\uf020\\uf073\\uf063\\uf072\\uf065\\uf077\\uf020\\uf05b\\uf073\\uf06b\\uf072\\uf075\\uf05d\\uf020n. 螺絲；vt. 用螺絲鎖，搞砸；vi. 搞砸\\uf020\\uf064\\uf072\\uf069\\uf06c\\uf06c\\uf020\\uf05b\\uf064\\uf072\\uf049\\uf06c\\uf05d\\uf020n. [C] 鑽子，訓練；vt. 鑽 (孔、洞)，訓練\\uf020\\uf063\\uf06c\\uf069\\uf070\\uf020\\uf05b\\uf06b\\uf06c\\uf049\\uf070\\uf05d\\uf020n. [C] 迴紋針；vt. 夾住\\uf020\\uf063\\uf06f\\uf072\\uf064\\uf020\\uf05b\\uf06b\\uf04f\\uf072\\uf064\\uf05d\\uf020n. [C] 線，細繩；電話線，電線\\uf020\\uf070\\uf06f\\uf06c\\uf065\\uf020\\uf05b\\uf070\\uf06f\\uf06c\\uf05d\\uf020n. [C] 竿子，極，磁極\\uf020\\uf063\\uf061\\uf06e\\uf065\\uf020\\uf05b\\uf06b\\uf065\\uf06e\\uf05d\\uf020n. 手杖；vt. 用手杖打（人）\\uf020\\uf06c\\uf061\\uf064\\uf064\\uf065\\uf072\\uf020\\uf05b\\uf060\\uf06c\\uf038\\uf064\\uf032\\uf05d\\uf020n. [C] 梯子\\uf020\\uf063\\uf06f\\uf06e\\uf074\\uf061\\uf069\\uf06e\\uf065\\uf072\\uf020\\uf05b\\uf06b\\uf031\\uf06e\\uf060\\uf074\\uf065\\uf06e\\uf032\\uf05d\\uf020n. [C] 容器\\uf020\\uf076\\uf065\\uf073\\uf073\\uf065\\uf06c\\uf020\\uf05b\\uf060\\uf076\\uf045\\uf073\\uf04c\\uf05d\\uf020n. [C] 船艦，（裝液體的）容器，血管 \\uf020\\uf076\\uf061\\uf073\\uf065\\uf020\\uf05b\\uf076\\uf065\\uf073\\uf05d\\uf020n. [C] 花瓶\\uf020\\uf06c\\uf06f\\uf063\\uf06b\\uf065\\uf072\\uf020\\uf05b\\uf060\\uf06c\\uf041\\uf06b\\uf032\\uf05d\\uf020n. [C] 置物櫃\\uf020\\uf061\\uf071\\uf075\\uf061\\uf072\\uf069\\uf075\\uf06d\\uf020\\uf05b\\uf031\\uf060\\uf06b\\uf077\\uf045\\uf072\\uf049\\uf031\\uf06d\\uf05d\\uf020n. [C] 水族館，水族箱\\uf020\\uf073\\uf061\\uf063\\uf06b\\uf020\\uf05b\\uf073\\uf038\\uf06b\\uf05d\\uf020n. [C] 大袋子\\uf020\\uf062\\uf06f\\uf06e\\uf064\\uf020\\uf05b\\uf062\\uf041\\uf06e\\uf064\\uf05d\\uf020n. [C] 黏合處，（親近的）聯繫，關係\\uf020《動作》 \\uf066\\uf061\\uf073\\uf074\\uf065\\uf06e\\uf020\\uf05b\\uf060\\uf066\\uf038\\uf073\\uf04e\\uf05d\\uf020vi./vt. 繫緊；固定\\uf020\\uf063\\uf065\\uf06d\\uf065\\uf06e\\uf074\\uf020\\uf05b\\uf073\\uf049\\uf060\\uf06d\\uf045\\uf06e\\uf074\\uf05d\\uf020n. [U] 水泥；vt. 使黏和、強固\\uf020\\uf061\\uf064\\uf06a\\uf075\\uf073\\uf074\\uf020\\uf05b\\uf031\\uf064\\uf060\\uf064\\uf05a\\uf05e\\uf073\\uf074\\uf05d\\uf020vt. 調整，調節；vi. 適應\\uf020\\uf06d\\uf065\\uf06e\\uf064\\uf020\\uf05b\\uf06d\\uf045\\uf06e\\uf064\\uf05d\\uf020vt. 修理，修補，改正\\uf020\\uf072\\uf065\\uf070\\uf061\\uf069\\uf072\\uf020\\uf05b\\uf072\\uf049\\uf060\\uf070\\uf045\\uf072\\uf05d\\uf020n. [U] / vt. 修理，修補\\uf020\\uf063\\uf06c\\uf069\\uf070\\uf020\\uf05b\\uf06b\\uf06c\\uf049\\uf070\\uf05d\\uf020n. [C] (電視、電影的) 片段；vt. 修剪\\uf020 \\x0cadj.\\n[1,1Ektranlk]\\n\\n[flEktnk]\\n\\nelectric\\nelectronic\\nplug [pl.n.g] n. [C]\\nsocket Esakit]\\nswitch\\nreceiver\\n\\nsix.]\\n\\nn. [C]\\nn. [C]\\n\\nadj.\\n\\n;\\n\\n)\\n\\n;\\n\\n,\\n\\n; it.\\n\\nn. [C]\\n\\n(\\n\\n)\\n\\ncord\\n\\n,\\n\\n;\\n\\n,\\n\\n(mobile phone -3±4)\\n\\n\\'\\n\\n; vt.\\n\\nadi\\n\\n[bA1b] n. [C]\\n\\nmobile (mob!]\\nn.\\ntelegraph\\nfax [fæks] n. [C]\\n;\\nbattery Cbætan] n. [C]\\nbulb\\nfan [fæn] n.\\nair-conditioner\\nCukan,dlfana•]\\ntypewriter Ctarp,raltæ] n. [C)\\npanel\\nappliance\\ndevice\\nfacility\\nequip [fkwlp]\\nmachinery\\ntechnolc„gical\\noperation\\ndisconnect\\n\\ntap-reran]\\nLd1ska-nEkt]\\n\\nn. [C]\\nn. (usu. PL)\\n\\n[divas\\n[fa-sllarl]\\n\\n[mg-Jinan]\\n\\nn. [C)\\n\\nn.\\n\\nn. CU]\\n\\n[\\'pænal] n. [C] SZ\\'JSÅ \\'\\n\\naccount\\n\\n[a-kaunt]\\n\\nn. [C]\\n\\nn.\\n\\ncode\\npassword Cpæsw»d] n. [C)\\ncrack\\nhardware Chard,wer]\\n\\n[kræk] vi.\\n\\nn. [U]\\n\\n;\\n\\nVt.(equippedI equippedIequipping)\\n\\n\\'\\n\\n\\'\\n\\n\\'\\n\\nn.\\n\\n\\'\\n\\nadj.\\n\\n\\'\\n\\n; n. [C]\\n\\n\\'\\n\\n\\'\\n\\n,\\n\\n\\'\\n\\n;\\n\\n42  電子產品 \\uf065\\uf06c\\uf065\\uf063\\uf074\\uf072\\uf069\\uf063\\uf020\\uf05b\\uf049\\uf060\\uf06c\\uf045\\uf06b\\uf074\\uf072\\uf049\\uf06b\\uf05d\\uf020adj. 電的，用電操作的\\uf020\\uf065\\uf06c\\uf065\\uf063\\uf074\\uf072\\uf06f\\uf06e\\uf069\\uf063\\uf020\\uf05b\\uf049\\uf026\\uf06c\\uf045\\uf06b\\uf060\\uf074\\uf072\\uf041\\uf06e\\uf049\\uf06b\\uf05d\\uf020adj. 電子的\\uf020\\uf070\\uf06c\\uf075\\uf067\\uf020\\uf05b\\uf070\\uf06c\\uf05e\\uf047\\uf05d\\uf020n. [C] 插頭；vt. 把…插入（插頭）\\uf020\\uf073\\uf06f\\uf063\\uf06b\\uf065\\uf074\\uf020\\uf05b\\uf060\\uf073\\uf041\\uf06b\\uf049\\uf074\\uf05d\\uf020n. [C] 插座\\uf020\\uf073\\uf077\\uf069\\uf074\\uf063\\uf068\\uf020\\uf05b\\uf073\\uf077\\uf049\\uf074\\uf053\\uf05d\\uf020n. [C] 開關；改變，轉變；vt. 扳動開關，轉換，轉變\\uf020\\uf072\\uf065\\uf063\\uf065\\uf069\\uf076\\uf065\\uf072\\uf020\\uf05b\\uf072\\uf049\\uf060\\uf073\\uf069\\uf076\\uf032\\uf05d\\uf020n. [C] （電話）聽筒\\uf020\\uf063\\uf06f\\uf072\\uf064\\uf020\\uf05b\\uf06b\\uf04f\\uf072\\uf064\\uf05d\\uf020n. [C] 線，細繩；電話線，電線\\uf020\\uf06d\\uf06f\\uf062\\uf069\\uf06c\\uf065\\uf020\\uf05b\\uf060\\uf06d\\uf06f\\uf062\\uf04c\\uf05d\\uf020adj. 可移動的（mobile phone 手機），流動的\\uf020\\uf074\\uf065\\uf06c\\uf065\\uf067\\uf072\\uf061\\uf070\\uf068\\uf020\\uf05b\\uf060\\uf074\\uf045\\uf06c\\uf031\\uf026\\uf067\\uf072\\uf038\\uf066\\uf05d\\uf020n. [U] 電報；vt. 用電報發送\\uf020\\uf066\\uf061\\uf078\\uf020\\uf05b\\uf066\\uf038\\uf06b\\uf073\\uf05d\\uf020n. [C] 傳真；vt. 傳真\\uf020\\uf062\\uf061\\uf074\\uf074\\uf065\\uf072\\uf079\\uf020\\uf05b\\uf060\\uf062\\uf038\\uf074\\uf031\\uf072\\uf049\\uf05d\\uf020n. [C] 電池\\uf020\\uf062\\uf075\\uf06c\\uf062\\uf020\\uf05b\\uf062\\uf05e\\uf06c\\uf062\\uf05d\\uf020n. [C] 電燈泡\\uf020\\uf066\\uf061\\uf06e\\uf020\\uf05b\\uf066\\uf038\\uf06e\\uf05d\\uf020n. [C] 電扇，…迷\\uf020\\uf061\\uf069\\uf072\\uf02d\\uf063\\uf06f\\uf06e\\uf064\\uf069\\uf074\\uf069\\uf06f\\uf06e\\uf065\\uf072\\uf020\\uf05b\\uf060\\uf045\\uf072\\uf06b\\uf031\\uf06e\\uf026\\uf064\\uf049\\uf053\\uf031\\uf06e\\uf032\\uf05d\\uf020n. 冷氣機\\uf020\\uf074\\uf079\\uf070\\uf065\\uf077\\uf072\\uf069\\uf074\\uf065\\uf072\\uf020\\uf05b\\uf060\\uf074\\uf061\\uf049\\uf070\\uf026\\uf072\\uf061\\uf049\\uf074\\uf032\\uf05d\\uf020n. [C] 打字機\\uf020\\uf070\\uf061\\uf06e\\uf065\\uf06c\\uf020\\uf05b\\uf060\\uf070\\uf038\\uf06e\\uf031\\uf06c\\uf05d n. [C] 專家小組，鑲板，嵌板，儀表板\\uf020\\uf061\\uf070\\uf070\\uf06c\\uf069\\uf061\\uf06e\\uf063\\uf065\\uf020\\uf05b\\uf031\\uf060\\uf070\\uf06c\\uf061\\uf049\\uf031\\uf06e\\uf073\\uf05d\\uf020n. [C] （家電）用品，裝置\\uf020\\uf064\\uf065\\uf076\\uf069\\uf063\\uf065\\uf020\\uf05b\\uf064\\uf049\\uf060\\uf076\\uf061\\uf049\\uf073\\uf05d\\uf020n. [C] 裝置，設備\\uf020\\uf066\\uf061\\uf063\\uf069\\uf06c\\uf069\\uf074\\uf079\\uf020\\uf05b\\uf066\\uf031\\uf060\\uf073\\uf049\\uf06c\\uf031\\uf072\\uf049\\uf05d\\uf020n. (usu. pl.) 設施，設備\\uf020\\uf065\\uf071\\uf075\\uf069\\uf070\\uf020\\uf05b\\uf049\\uf060\\uf06b\\uf077\\uf049\\uf070\\uf05d\\uf020vt. (equipped | equipped | equipping) 配備，裝備\\uf020\\uf06d\\uf061\\uf063\\uf068\\uf069\\uf06e\\uf065\\uf072\\uf079\\uf020\\uf05b\\uf06d\\uf031\\uf060\\uf053\\uf069\\uf06e\\uf031\\uf072\\uf049\\uf05d\\uf020n. [U] 機器（總稱）\\uf020\\uf074\\uf065\\uf063\\uf068\\uf06e\\uf06f\\uf06c\\uf06f\\uf067\\uf069\\uf063\\uf061\\uf06c\\uf020\\uf05b\\uf026\\uf074\\uf045\\uf06b\\uf06e\\uf031\\uf060\\uf06c\\uf041\\uf064\\uf05a\\uf049\\uf06b\\uf04c\\uf05d\\uf020adj. 科技的\\uf020\\uf06f\\uf070\\uf065\\uf072\\uf061\\uf074\\uf069\\uf06f\\uf06e\\uf020\\uf05b\\uf026\\uf041\\uf070\\uf031\\uf060\\uf072\\uf065\\uf053\\uf031\\uf06e\\uf05d\\uf020n. [U] 運轉，運作；n. [C] 手術\\uf020\\uf064\\uf069\\uf073\\uf063\\uf06f\\uf06e\\uf06e\\uf065\\uf063\\uf074\\uf020\\uf05b\\uf026\\uf064\\uf049\\uf073\\uf06b\\uf031\\uf060\\uf06e\\uf045\\uf06b\\uf074\\uf05d\\uf020切斷\\uf020 電腦、網路 \\uf061\\uf063\\uf063\\uf06f\\uf075\\uf06e\\uf074\\uf020\\uf05b\\uf031\\uf060\\uf06b\\uf061\\uf035\\uf06e\\uf074\\uf05d\\uf020n. [C] 帳號，帳戶，理由，報導；vi. 說明、解釋\\uf020\\uf063\\uf06f\\uf064\\uf065\\uf020\\uf05b\\uf06b\\uf06f\\uf064\\uf05d\\uf020n. [C/U] 密碼，代碼；vt. 加密碼，加密碼\\uf020\\uf070\\uf061\\uf073\\uf073\\uf077\\uf06f\\uf072\\uf064\\uf020\\uf05b\\uf060\\uf070\\uf038\\uf073\\uf077\\uf032\\uf064\\uf05d\\uf020n. [C] 密碼\\uf020\\uf063\\uf072\\uf061\\uf063\\uf06b\\uf020\\uf05b\\uf06b\\uf072\\uf038\\uf06b\\uf05d\\uf020vi. 破裂；vt. 解開（密碼）\\uf020\\uf068\\uf061\\uf072\\uf064\\uf077\\uf061\\uf072\\uf065\\uf020\\uf05b\\uf060\\uf068\\uf041\\uf072\\uf064\\uf026\\uf077\\uf045\\uf072\\uf05d\\uf020n. [U] 硬體\\uf020\\x0ckeyboard\\n\\n(ki bold]\\n\\nn. [C]\\n\\n)\\n\\ninput\\nmonitor\\nchip [tfrp]\\n\\nCmanatæ]\\n\\nvt.,/vi.\\n\\n[d:sk] n. [C]\\n\\ndisk\\nCD [si-di] n. [C] (z compact disc)\\nnetwork\\nweb [web] n.\\n\\nÜnet,vwk]\\n\\nn. [C]\\n\\n\\'\\n\\n(Web)\\n\\n\\'.t. _EÄ\\n\\nn.\\n\\n[Aplod]\\n\\nSite\\nupload\\ndownload\\nfile\\naccess Üæk,ses] n.\\n\\nn. [C)\\n\\n(daun,lod]\\n\\n;\\n\\n.\\n\\n; vt.\\n\\n;\\n\\n[In-sol]\\n\\ninstall\\nprogram (program]\\nclick\\ndigital Cd1d31tl] adj.\\nportable Cprtabl]\\n\\n[kilk]\\n\\nadi\\n\\nn.\\n\\n; ft.\\n\\nv.\\n\\n; vi.\\n\\n\\'\\n\\n( Qi\"\\n\\n)\\n\\nscientific\\ndiscovery\\nexplore [Ik-splor] Vt.\\nobserve\\n\\nad\\'.\\n[dÜskAvær1] n. [U]\\n\\'\\n\\nclassify Üklæsa,far] Vt.\\nconnect\\n\\n[ka-nEkt]\\n\\n\\'.t.\\n\\n\\'\\n\\n\\'\\n\\nn. [C]\\n\\n\\'\\n\\n[Ik-speramant]\\nClæbra,totl]\\n\\nn. [C] (=lab)\\n\\nlaboratory\\ntheory\\n\\nn.\\n\\nfactor\\nformulat C&formjala] n. [C]\\n\\nn.\\n\\n\\'\\n\\n43  \\uf06b\\uf065\\uf079\\uf062\\uf06f\\uf061\\uf072\\uf064\\uf020\\uf05b\\uf060\\uf06b\\uf069\\uf026\\uf062\\uf04f\\uf072\\uf064\\uf05d\\uf020n. [C] （電腦、樂器）鍵盤\\uf020\\uf069\\uf06e\\uf070\\uf075\\uf074\\uf020\\uf05b\\uf060\\uf049\\uf06e\\uf026\\uf070\\uf035\\uf074\\uf05d\\uf020n. [U] (知識、思想等) 輸入，投入；vt. 輸入\\uf020\\uf06d\\uf06f\\uf06e\\uf069\\uf074\\uf06f\\uf072\\uf020\\uf05b\\uf060\\uf06d\\uf041\\uf06e\\uf031\\uf074\\uf032\\uf05d\\uf020vt./vi. 監視；n. [C] 監視器，螢幕\\uf020\\uf063\\uf068\\uf069\\uf070\\uf020\\uf05b\\uf074\\uf053\\uf049\\uf070\\uf05d\\uf020n. [C] 碎片，（炸薯）片，電腦晶片； vt. 打破，使缺角、掉碎片\\uf020\\uf064\\uf069\\uf073\\uf06b\\uf020\\uf05b\\uf064\\uf049\\uf073\\uf06b\\uf05d\\uf020n. [C] 光碟片\\uf020CD \\uf05b\\uf073\\uf069\\uf060\\uf064\\uf069\\uf05d\\uf020n. [C] (= compact disc) 雷射唱片 \\uf06e\\uf065\\uf074\\uf077\\uf06f\\uf072\\uf06b\\uf020\\uf05b\\uf060\\uf06e\\uf045\\uf074\\uf026\\uf077\\uf033\\uf06b\\uf05d\\uf020n. [C] 網狀系統，網絡\\uf020\\uf077\\uf065\\uf062\\uf020\\uf05b\\uf077\\uf045\\uf062\\uf05d\\uf020n. [C] 蜘蛛網，全球資訊網（Web）\\uf020\\uf073\\uf069\\uf074\\uf065\\uf020\\uf05b\\uf073\\uf061\\uf049\\uf074\\uf05d\\uf020n. [C] 位置，地點；網站\\uf020\\uf075\\uf070\\uf06c\\uf06f\\uf061\\uf064\\uf020\\uf05b\\uf05e\\uf070\\uf060\\uf06c\\uf06f\\uf064\\uf05d\\uf020vt. 上傳（檔案）\\uf020\\uf064\\uf06f\\uf077\\uf06e\\uf06c\\uf06f\\uf061\\uf064\\uf020\\uf05b\\uf060\\uf064\\uf061\\uf055\\uf06e\\uf026\\uf06c\\uf06f\\uf064\\uf05d\\uf020vt. 下載（檔案）\\uf020\\uf066\\uf069\\uf06c\\uf065\\uf020\\uf05b\\uf066\\uf061\\uf049\\uf06c\\uf05d\\uf020n. [C] 檔案，卷宗； vt. 把…歸檔、存檔\\uf020\\uf061\\uf063\\uf063\\uf065\\uf073\\uf073\\uf020\\uf05b\\uf060\\uf038\\uf06b\\uf026\\uf073\\uf045\\uf073\\uf05d\\uf020n. [U] (用某物、見到某人的) 機會； vt. 存取 (電腦資料、數據等)\\uf020\\uf069\\uf06e\\uf073\\uf074\\uf061\\uf06c\\uf06c\\uf020\\uf05b\\uf049\\uf06e\\uf060\\uf073\\uf074\\uf04f\\uf06c\\uf05d\\uf020vt. 安裝，設置\\uf020\\uf070\\uf072\\uf06f\\uf067\\uf072\\uf061\\uf06d\\uf020\\uf05b\\uf060\\uf070\\uf072\\uf06f\\uf067\\uf072\\uf038\\uf06d\\uf05d\\uf020n. 節目、程式 v. 設計程式\\uf020\\uf063\\uf06c\\uf069\\uf063\\uf06b\\uf020\\uf05b\\uf06b\\uf06c\\uf049\\uf06b\\uf05d\\uf020n. [C] 喀喀聲；vt. 發出喀喀聲；vi. 按滑鼠\\uf020\\uf064\\uf069\\uf067\\uf069\\uf074\\uf061\\uf06c\\uf020\\uf05b\\uf060\\uf064\\uf049\\uf064\\uf05a\\uf049\\uf074\\uf04c\\uf05d\\uf020adj. 數位的\\uf020\\uf070\\uf06f\\uf072\\uf074\\uf061\\uf062\\uf06c\\uf065\\uf020\\uf05b\\uf060\\uf070\\uf04f\\uf072\\uf074\\uf031\\uf062\\uf04c\\uf05d\\uf020adj. 可攜帶的，手提的（電腦）\\uf020 科學 \\uf073\\uf063\\uf069\\uf065\\uf06e\\uf074\\uf069\\uf066\\uf069\\uf063\\uf020\\uf05b\\uf026\\uf073\\uf061\\uf049\\uf031\\uf06e\\uf060\\uf074\\uf049\\uf066\\uf049\\uf06b\\uf05d\\uf020adj. 科學的\\uf020\\uf064\\uf069\\uf073\\uf063\\uf06f\\uf076\\uf065\\uf072\\uf079\\uf020\\uf05b\\uf064\\uf049\\uf060\\uf073\\uf06b\\uf05e\\uf076\\uf031\\uf072\\uf049\\uf05d\\uf020n. [U] 發現\\uf020\\uf065\\uf078\\uf070\\uf06c\\uf06f\\uf072\\uf065\\uf020\\uf05b\\uf049\\uf06b\\uf060\\uf073\\uf070\\uf06c\\uf06f\\uf072\\uf05d\\uf020vt. 探索，探究\\uf020\\uf06f\\uf062\\uf073\\uf065\\uf072\\uf076\\uf065\\uf020\\uf05b\\uf031\\uf062\\uf060\\uf07a\\uf033\\uf076\\uf05d\\uf020vt. 觀察到，看到，遵守\\uf020\\uf063\\uf06c\\uf061\\uf073\\uf073\\uf069\\uf066\\uf079\\uf020\\uf05b\\uf060\\uf06b\\uf06c\\uf038\\uf073\\uf031\\uf026\\uf066\\uf061\\uf049\\uf05d\\uf020vt. 劃分，分類\\uf020\\uf063\\uf06f\\uf06e\\uf06e\\uf065\\uf063\\uf074\\uf020\\uf05b\\uf06b\\uf031\\uf060\\uf06e\\uf045\\uf06b\\uf074\\uf05d\\uf020vt. 連接，關聯\\uf020\\uf065\\uf078\\uf070\\uf065\\uf072\\uf069\\uf06d\\uf065\\uf06e\\uf074\\uf020\\uf05b\\uf049\\uf06b\\uf060\\uf073\\uf070\\uf045\\uf072\\uf031\\uf06d\\uf031\\uf06e\\uf074\\uf05d\\uf020n. [C] 實驗，試驗\\uf020\\uf06c\\uf061\\uf062\\uf06f\\uf072\\uf061\\uf074\\uf06f\\uf072\\uf079\\uf020\\uf05b\\uf060\\uf06c\\uf038\\uf062\\uf072\\uf031\\uf026\\uf074\\uf06f\\uf072\\uf049\\uf05d\\uf020n. [C] (=lab) 實驗室\\uf020\\uf074\\uf068\\uf065\\uf06f\\uf072\\uf079\\uf020\\uf05b\\uf060\\uf054\\uf069\\uf031\\uf072\\uf049\\uf05d\\uf020n. [C] 學說，理論\\uf020\\uf066\\uf061\\uf063\\uf074\\uf06f\\uf072\\uf020\\uf05b\\uf060\\uf066\\uf038\\uf06b\\uf074\\uf032\\uf05d\\uf020n. [C] 因素，要素\\uf020\\uf066\\uf06f\\uf072\\uf06d\\uf075\\uf06c\\uf061\\uf074\\uf020\\uf05b\\uf060\\uf066\\uf04f\\uf072\\uf06d\\uf06a\\uf031\\uf06c\\uf031\\uf05d\\uf020n. [C] 配方，公式\\uf020\\x0c; [C]\\n\\n\\'\\n\\n\\'\\n\\n[melt]\\n\\n\\'\\n\\nn.\\n\\nadj.\\n\\n; vi.\\n\\n\\'\\n\\n\\'\\n\\nn. [U)\\n\\n[pta-mætlk]\\n\\n[In-venfan]\\n[In-ventö]\\nn. [C)\\n[ad&vænst] adj.\\n[,art$flfal]\\nadj.\\n\\ninvention\\ninventor\\nadvanced\\nartificial\\nautomatic\\nprocess (proses] n. [C]\\ncycle Balk!]\\nrecycle [ri&salkl] Vt.\\nmelt\\nvi.&t.\\nregulate (regja,let]\\nformation\\ncontent\\nconstitute\\ncompose\\nconsist\\ncombine\\n[kanftam]\\nassemble [a-sembl]\\n\\'.t.\\nnuclear Ünjucll&] adj.\\nmicroscope Cmalkra ,skop] n. [C]\\nconductor\\n\\nn. [S]\\nIt.\\n\\n(kansta,tjut]\\n\\n[Or-mefan]\\n\\n(kan,tent]\\n\\n[kan-srst]\\n\\nvi.\\n\\n•ft.\\n\\n•ft.\\n\\nn. [U]\\n\\n\\'\\n; [PL]\\n\\n;\\n\\n[C]\\n\\'\\n\\n\\'\\n\\n\\' grJF\\n\\n*R-E)\\n\\n\\'\\n\\n\\'\\n\\n(e of)\\n\\n\\'\\n\\n;\\n\\n\\'\\n\\n[mæg-nEt1k] adj.\\nmagnetic\\naccuracy C&ækjarasr]n. [U]\\naccurate Üækjarat] adj.\\n\\n\\'\\n\\n\\'\\n\\n;\\n\\n[\\'haldrad3an] n. [U]\\n\\nsubstance CSAbstans] n. [C]\\nbrass [bræs] n. [U)\\nlead [led]\\nhydrogen\\nvinegar\\ncement\\nplaster\\ncast\\n\\nn. [U)\\nn.\\nn. [U) ETTE\\n\\'\\n; n. -RZ\\n\\n[\\'vlmgö]\\n[sfm€nt]\\n\\n[kæst] Vt.\\n\\n; Vt.\\n\\n44  \\uf069\\uf06e\\uf076\\uf065\\uf06e\\uf074\\uf069\\uf06f\\uf06e\\uf020\\uf05b\\uf049\\uf06e\\uf060\\uf076\\uf045\\uf06e\\uf053\\uf031\\uf06e\\uf05d\\uf020n. [U] 發明；[C] 發明物\\uf020\\uf069\\uf06e\\uf076\\uf065\\uf06e\\uf074\\uf06f\\uf072\\uf020\\uf05b\\uf049\\uf06e\\uf060\\uf076\\uf045\\uf06e\\uf074\\uf032\\uf05d\\uf020n. [C] 發明家\\uf020\\uf061\\uf064\\uf076\\uf061\\uf06e\\uf063\\uf065\\uf064\\uf020\\uf05b\\uf031\\uf064\\uf060\\uf076\\uf038\\uf06e\\uf073\\uf074\\uf05d\\uf020adj. 先進的，進階的\\uf020\\uf061\\uf072\\uf074\\uf069\\uf066\\uf069\\uf063\\uf069\\uf061\\uf06c\\uf020\\uf05b\\uf026\\uf041\\uf072\\uf074\\uf031\\uf060\\uf066\\uf049\\uf053\\uf031\\uf06c\\uf05d\\uf020adj. 人造的，不自然的\\uf020\\uf061\\uf075\\uf074\\uf06f\\uf06d\\uf061\\uf074\\uf069\\uf063\\uf020\\uf05b\\uf026\\uf04f\\uf074\\uf031\\uf060\\uf06d\\uf038\\uf074\\uf049\\uf06b\\uf05d\\uf020adj. 自動的\\uf020\\uf070\\uf072\\uf06f\\uf063\\uf065\\uf073\\uf073\\uf020\\uf05b\\uf060\\uf070\\uf072\\uf041\\uf073\\uf045\\uf073\\uf05d\\uf020n. [C] 過程\\uf020\\uf063\\uf079\\uf063\\uf06c\\uf065\\uf020\\uf05b\\uf060\\uf073\\uf061\\uf049\\uf06b\\uf04c\\uf05d\\uf020n. [C] 循環；vi. 騎自行車\\uf020\\uf072\\uf065\\uf063\\uf079\\uf063\\uf06c\\uf065\\uf020\\uf05b\\uf072\\uf069\\uf060\\uf073\\uf061\\uf049\\uf06b\\uf04c\\uf05d\\uf020vt. 重覆利用，回收\\uf020\\uf06d\\uf065\\uf06c\\uf074\\uf020\\uf05b\\uf06d\\uf045\\uf06c\\uf074\\uf05d\\uf020vi./vt. 融化，熔化\\uf020\\uf072\\uf065\\uf067\\uf075\\uf06c\\uf061\\uf074\\uf065\\uf020\\uf05b\\uf060\\uf072\\uf045\\uf047\\uf06a\\uf031\\uf026\\uf06c\\uf065\\uf074\\uf05d\\uf020vt. 規範，調節\\uf020\\uf066\\uf06f\\uf072\\uf06d\\uf061\\uf074\\uf069\\uf06f\\uf06e\\uf020\\uf05b\\uf066\\uf04f\\uf072\\uf060\\uf06d\\uf065\\uf053\\uf031\\uf06e\\uf05d\\uf020n. [U] 組成，形成； [C] 組成物\\uf020\\uf063\\uf06f\\uf06e\\uf074\\uf065\\uf06e\\uf074\\uf020\\uf05b\\uf060\\uf06b\\uf041\\uf06e\\uf026\\uf074\\uf045\\uf06e\\uf074\\uf05d\\uf020n. [S] 含量；[pl.] 內容物，目錄\\uf020\\uf063\\uf06f\\uf06e\\uf073\\uf074\\uf069\\uf074\\uf075\\uf074\\uf065\\uf020\\uf05b\\uf060\\uf06b\\uf041\\uf06e\\uf073\\uf074\\uf031\\uf026\\uf074\\uf06a\\uf075\\uf074\\uf05d vt. 組成，構成\\uf020\\uf063\\uf06f\\uf06d\\uf070\\uf06f\\uf073\\uf065\\uf020\\uf05b\\uf026\\uf06b\\uf031\\uf06d\\uf060\\uf070\\uf06f\\uf07a\\uf05d\\uf020vt. 構成，組成， 創作 (音樂、詩歌等)\\uf020\\uf063\\uf06f\\uf06e\\uf073\\uf069\\uf073\\uf074\\uf020\\uf05b\\uf06b\\uf031\\uf06e\\uf060\\uf073\\uf049\\uf073\\uf074\\uf05d\\uf020vi. 由…組成 (+ of)\\uf020\\uf063\\uf06f\\uf06d\\uf062\\uf069\\uf06e\\uf065\\uf020\\uf05b\\uf06b\\uf031\\uf06d\\uf060\\uf062\\uf061\\uf049\\uf06e\\uf05d\\uf020vt. 結合，組合\\uf020\\uf061\\uf073\\uf073\\uf065\\uf06d\\uf062\\uf06c\\uf065\\uf020\\uf05b\\uf031\\uf060\\uf073\\uf045\\uf06d\\uf062\\uf04c\\uf05d\\uf020vt. 聚集，集合；組裝，組合\\uf020\\uf06e\\uf075\\uf063\\uf06c\\uf065\\uf061\\uf072\\uf020\\uf05b\\uf060\\uf06e\\uf06a\\uf075\\uf063\\uf06c\\uf049\\uf032\\uf05d adj. 核子的\\uf020\\uf06d\\uf069\\uf063\\uf072\\uf06f\\uf073\\uf063\\uf06f\\uf070\\uf065\\uf020\\uf05b\\uf060\\uf06d\\uf061\\uf049\\uf06b\\uf072\\uf031\\uf026\\uf073\\uf06b\\uf06f\\uf070\\uf05d\\uf020n. [C] 顯微鏡\\uf020\\uf063\\uf06f\\uf06e\\uf064\\uf075\\uf063\\uf074\\uf06f\\uf072\\uf020\\uf05b\\uf06b\\uf031\\uf06e\\uf060\\uf064\\uf05e\\uf06b\\uf074\\uf032\\uf05d\\uf020n. [C] （樂團）指揮，列車長，導體\\uf020\\uf06d\\uf061\\uf067\\uf06e\\uf065\\uf074\\uf069\\uf063\\uf020\\uf05b\\uf06d\\uf038\\uf047\\uf060\\uf06e\\uf045\\uf074\\uf049\\uf06b\\uf05d\\uf020adj. 有磁性的；有魅力的\\uf020\\uf061\\uf063\\uf063\\uf075\\uf072\\uf061\\uf063\\uf079\\uf020\\uf05b\\uf060\\uf038\\uf06b\\uf06a\\uf031\\uf072\\uf031\\uf073\\uf049\\uf05d\\uf020n. [U] 準確，精確\\uf020\\uf061\\uf063\\uf063\\uf075\\uf072\\uf061\\uf074\\uf065\\uf020\\uf05b\\uf060\\uf038\\uf06b\\uf06a\\uf031\\uf072\\uf031\\uf074\\uf05d\\uf020adj. 準確的，正確無誤的\\uf020 物質 \\uf073\\uf075\\uf062\\uf073\\uf074\\uf061\\uf06e\\uf063\\uf065\\uf020\\uf05b\\uf060\\uf073\\uf05e\\uf062\\uf073\\uf074\\uf031\\uf06e\\uf073\\uf05d\\uf020n. [C] 物質\\uf020\\uf062\\uf072\\uf061\\uf073\\uf073\\uf020\\uf05b\\uf062\\uf072\\uf038\\uf073\\uf05d\\uf020n. [U] 黃銅\\uf020\\uf06c\\uf065\\uf061\\uf064\\uf020\\uf05b\\uf06c\\uf045\\uf064\\uf05d\\uf020n. [U] 鉛\\uf020\\uf068\\uf079\\uf064\\uf072\\uf06f\\uf067\\uf065\\uf06e\\uf020\\uf05b\\uf060\\uf068\\uf061\\uf049\\uf064\\uf072\\uf031\\uf064\\uf05a\\uf031\\uf06e\\uf05d n. [U] 氫\\uf020\\uf076\\uf069\\uf06e\\uf065\\uf067\\uf061\\uf072\\uf020\\uf05b\\uf060\\uf076\\uf049\\uf06e\\uf049\\uf047\\uf032\\uf05d\\uf020n. [U] 醋\\uf020\\uf063\\uf065\\uf06d\\uf065\\uf06e\\uf074\\uf020\\uf05b\\uf073\\uf049\\uf060\\uf06d\\uf045\\uf06e\\uf074\\uf05d\\uf020n. [U] 水泥；vt. 使黏和、強固\\uf020\\uf070\\uf06c\\uf061\\uf073\\uf074\\uf065\\uf072\\uf020\\uf05b\\uf060\\uf070\\uf06c\\uf038\\uf073\\uf074\\uf032\\uf05d\\uf020n. [U] 石灰泥，熟石膏\\uf020\\uf063\\uf061\\uf073\\uf074\\uf020\\uf05b\\uf06b\\uf038\\uf073\\uf074\\uf05d\\uf020vt. 扔，擲；n. 卡司，石膏\\uf020\\x0c;\\n\\n;\\n\\n;\\n\\nn. [C]\\n\\nn. [U)\\n\\nn. [U)\\n\\nplastic Cplæs 1k] n.\\ndye [darl\\n[wæks] n. [C]\\nwax\\nrust\\n[rASt] n. [U)\\nprotein Eprotim]\\ntvaltamm]\\nvitamin\\nmineral\\nC&mmmal] n. [C)\\nmarble cmarb!]\\nn. CLT]\\nash [æn\\npowder Cpaudö] n.\\ndust\\ndusty\\nbubble\\nfoam [fom]\\nharden [•hardo ] vt/vi.\\npollute\\npoisonous Cporzoas] adj.\\nacid [-æsld] adj./n.[C]\\nraw [10] ad\\'.\\n\\nad\\'.\\nn. [C]\\n\\n[pa&lut]\\n\\n[dASt]\\n\\nn.[U]\\n\\n\\'\\n\\n; add.\\n\\n; Vi.\\n\\n\\'\\n\\n; adi\\n\\n\\'\\n\\n; [C]\\n\\n; \\'.t.\\n;\\n\\n;\\n\\n(6)\\n\\n\\'\\n\\n;\\n\\n\\'\\n\\ncanyon Ckænjan] n. [C]\\nbasin Cbeslfl n. [C]\\ncape [kep] n. [C]\\nchannel\\n\\nn.\\n\\n\\'\\n\\n[ma&rin] adj.\\n\\nbay [be] n. [C]\\nmarine\\nspray [spre] n. [U] 7X7Z\\ndrift\\ncliff\\nsteep [stiP] adj.\\niceberg Carsb3\\'g] n. [C] *LLJ\\n\\ndllft]\\n[kilf) n.\\n\\nn. [C]\\n\\n45  \\uf070\\uf06c\\uf061\\uf073\\uf074\\uf069\\uf063\\uf020\\uf05b\\uf060\\uf070\\uf06c\\uf038\\uf073\\uf074\\uf049\\uf06b\\uf05d\\uf020n. [U] 塑膠；adj. 塑膠的\\uf020\\uf064\\uf079\\uf065\\uf020\\uf05b\\uf064\\uf061\\uf049\\uf05d  n. [U] 染料；vt.把…染色\\uf020\\uf077\\uf061\\uf078\\uf020\\uf05b\\uf077\\uf038\\uf06b\\uf073\\uf05d\\uf020n. [C] 蠟；vt. 打蠟\\uf020\\uf072\\uf075\\uf073\\uf074\\uf020\\uf05b\\uf072\\uf05e\\uf073\\uf074\\uf05d\\uf020n. [U] 鏽；vt. 使生鏽；vi. 生鏽，荒廢\\uf020\\uf070\\uf072\\uf06f\\uf074\\uf065\\uf069\\uf06e\\uf020\\uf05b\\uf060\\uf070\\uf072\\uf06f\\uf074\\uf069\\uf049\\uf06e\\uf05d\\uf020n. [U] 蛋白質\\uf020\\uf076\\uf069\\uf074\\uf061\\uf06d\\uf069\\uf06e\\uf020\\uf05b\\uf060\\uf076\\uf061\\uf049\\uf074\\uf031\\uf06d\\uf049\\uf06e\\uf05d\\uf020n. [C] 維他命\\uf020\\uf06d\\uf069\\uf06e\\uf065\\uf072\\uf061\\uf06c\\uf020\\uf05b\\uf060\\uf06d\\uf049\\uf06e\\uf049\\uf072\\uf031\\uf06c\\uf05d n. [C] 礦物，礦物質；adj. 礦物的\\uf020\\uf06d\\uf061\\uf072\\uf062\\uf06c\\uf065\\uf020\\uf05b\\uf060\\uf06d\\uf041\\uf072\\uf062\\uf04c\\uf05d\\uf020n. [U] 大理石；[C] 玻璃彈珠\\uf020\\uf061\\uf073\\uf068\\uf020\\uf05b\\uf038\\uf053\\uf05d\\uf020n. [C] 灰\\uf020\\uf070\\uf06f\\uf077\\uf064\\uf065\\uf072\\uf020\\uf05b\\uf060\\uf070\\uf061\\uf035\\uf064\\uf032\\uf05d\\uf020n. [U] 粉末；vt. 灑粉\\uf020\\uf064\\uf075\\uf073\\uf074\\uf020\\uf05b\\uf064\\uf05e\\uf073\\uf074\\uf05d\\uf020n. [U] 灰塵，塵土；vt. 擦去灰塵\\uf020\\uf064\\uf075\\uf073\\uf074\\uf079\\uf020\\uf05b\\uf060\\uf064\\uf05e\\uf073\\uf074\\uf049\\uf05d\\uf020adj. 滿是灰塵的\\uf020\\uf062\\uf075\\uf062\\uf062\\uf06c\\uf065\\uf020\\uf05b\\uf060\\uf062\\uf05e\\uf062\\uf04c\\uf05d\\uf020n. [C] 氣泡；vi. 冒泡，起泡，沸騰\\uf020\\uf066\\uf06f\\uf061\\uf06d\\uf020\\uf05b\\uf066\\uf06f\\uf06d\\uf05d\\uf020n. [U] 泡沫；vi. 起泡\\uf020\\uf068\\uf061\\uf072\\uf064\\uf065\\uf06e\\uf020\\uf05b\\uf060\\uf068\\uf041\\uf072\\uf064\\uf04e\\uf05d\\uf020vt./vi. （使）變硬，硬化\\uf020\\uf070\\uf06f\\uf06c\\uf06c\\uf075\\uf074\\uf065\\uf020\\uf05b\\uf070\\uf031\\uf060\\uf06c\\uf075\\uf074\\uf05d\\uf020vt. 污染(空氣、水等)\\uf020\\uf070\\uf06f\\uf069\\uf073\\uf06f\\uf06e\\uf06f\\uf075\\uf073\\uf020\\uf05b\\uf060\\uf070\\uf04f\\uf049\\uf07a\\uf04e\\uf031\\uf073\\uf05d\\uf020adj. 有毒的\\uf020\\uf061\\uf063\\uf069\\uf064\\uf020\\uf05b\\uf060\\uf038\\uf073\\uf049\\uf064\\uf05d\\uf020adj. / n. [C] 酸性（的）\\uf020\\uf072\\uf061\\uf077\\uf020\\uf05b\\uf072\\uf04f\\uf05d\\uf020adj. 生的，未加工的\\uf020 地球科學 《地理》 \\uf063\\uf061\\uf06e\\uf079\\uf06f\\uf06e\\uf020\\uf05b\\uf060\\uf06b\\uf038\\uf06e\\uf06a\\uf031\\uf06e\\uf05d\\uf020n. [C] 峽谷\\uf020\\uf062\\uf061\\uf073\\uf069\\uf06e\\uf020\\uf05b\\uf060\\uf062\\uf065\\uf073\\uf04e\\uf05d\\uf020n. [C] 洗臉盆，盆地\\uf020\\uf063\\uf061\\uf070\\uf065\\uf020\\uf05b\\uf06b\\uf065\\uf070\\uf05d\\uf020n. [C] 斗篷，披風；岬，海角\\uf020\\uf063\\uf068\\uf061\\uf06e\\uf06e\\uf065\\uf06c\\uf020\\uf05b\\uf060\\uf034\\uf038\\uf06e\\uf04c\\uf05d\\uf020n. [C] 頻道，管道，海峽\\uf020\\uf062\\uf061\\uf079\\uf020\\uf05b\\uf062\\uf065\\uf05d\\uf020n. [C] 海灣\\uf020\\uf06d\\uf061\\uf072\\uf069\\uf06e\\uf065\\uf020\\uf05b\\uf06d\\uf031\\uf060\\uf072\\uf069\\uf06e\\uf05d\\uf020adj. 海洋的\\uf020\\uf073\\uf070\\uf072\\uf061\\uf079\\uf020\\uf05b\\uf073\\uf070\\uf072\\uf065\\uf05d\\uf020n. [U] 水花，浪花，噴霧劑；vi./vt. 噴灑\\uf020\\uf064\\uf072\\uf069\\uf066\\uf074\\uf020\\uf05b\\uf064\\uf072\\uf049\\uf066\\uf074\\uf05d\\uf020n. [C] 漂流，漂流物，堆積物；vi.飄，漂移，不知不覺陷入\\uf020\\uf063\\uf06c\\uf069\\uf066\\uf066\\uf020\\uf05b\\uf06b\\uf06c\\uf049\\uf066\\uf05d\\uf020n. [C] 懸崖\\uf020\\uf073\\uf074\\uf065\\uf065\\uf070\\uf020\\uf05b\\uf073\\uf074\\uf069\\uf070\\uf05d\\uf020adj. 陡峭的，急遽的\\uf020\\uf069\\uf063\\uf065\\uf062\\uf065\\uf072\\uf067\\uf020\\uf05b\\uf060\\uf061\\uf049\\uf073\\uf026\\uf062\\uf033\\uf047\\uf05d\\uf020n. [C] 冰山\\uf020\\x0cn. [C] _VQL_Ü\\n\\nn.\\n\\n[kræk] n.\\n\\nCtEra,or1]\\n\\nn.\\n[\\'kantanant]\\n\\nvolcano\\n[val-keno]\\npeak [Pik] n. [C]\\nPit\\ncrack\\ngap [gæp] n. [C] (usu.Sing.)\\nterritory\\ncontinent\\npole [POI] n. [C)\\nhorizon\\ndam [dEm] n. [C]\\nbrook\\npebble\\nlandmark\\n\\n[ha-rarzo] n. [S]\\n\\n[bruk] n. [C]\\n\\n\\'\\n\\n; n. [C] (usu.sing.)\\n\\n\\'\\n\\n\\'\\n\\nn. [C]\\n\\n\\'\\n\\n; Cpl]\\n\\nn. [C]\\nn. [C]\\n[\\'lænd,mark]\\nÜlændskep] n. [C]\\n\\nn. [C]\\n\\nCmauntanas]\\n\\nad\\'.\\n\\n\\'\\n\\ndistrict\\nmoutainous\\nenclose\\n\\n[muz]\\n\\n•ft.\\n\\n\\'\\n\\n; EtEä_E\\n\\nsurround\\n\\nft.\\n\\n;\\n\\nClænd,slald]\\n\\nlandslide\\nn. [C]\\ncollapse [k$læps] n. [U)/ vi.\\nregional C&rid3anl] ad\\'.\\ndense [dens] adj.\\n\\n\\'\\n\\n\\'\\n\\n\\'\\n\\nÜv3•d3m] n. [C]\\n\\n; adj.\\n\\nenvironment\\nreserve [rfz.v]\\n\\n[m -varranmant]\\n\\nVt.\\n\\n\\'\\n\\nn. [S] (the-)\\n; n. [C]\\n\\nn. [C]\\n\\nadj.\\nadj.\\n\\nbreeze [briz] n. [C]\\nCsalklon]\\ncy:lone\\nstormy\\n(storml]\\ncurrent C&knnt]\\natmosphere Cætmas fir] n.\\nmist\\nmoist\\nadj.\\ndamp [dæmp] ad\\'.\\n\\n[mist]\\n[most]\\n\\nn. [C,\\'TJ]\\n\\n\\'\\n\\n\\'\\n\\n\\'\\n\\n;\\n(the —\\n\\n\\'\\n\\n\\'\\n\\n46  \\uf076\\uf06f\\uf06c\\uf063\\uf061\\uf06e\\uf06f\\uf020\\uf05b\\uf076\\uf041\\uf06c\\uf060\\uf06b\\uf065\\uf06e\\uf06f\\uf05d\\uf020n. [C] 火山\\uf020\\uf070\\uf065\\uf061\\uf06b\\uf020\\uf05b\\uf070\\uf069\\uf06b\\uf05d\\uf020n. [C] 山頂，最高峰\\uf020\\uf070\\uf069\\uf074\\uf020\\uf05b\\uf070\\uf049\\uf074\\uf05d\\uf020n. [C] 坑\\uf020\\uf063\\uf072\\uf061\\uf063\\uf06b\\uf020\\uf05b\\uf06b\\uf072\\uf038\\uf06b\\uf05d\\uf020n. [C] 裂痕，縫隙\\uf020\\uf067\\uf061\\uf070\\uf020\\uf05b\\uf047\\uf038\\uf070\\uf05d\\uf020n. [C] (usu. sing.) 裂口，缺口；n. [C] (usu. sing.) (意見的) 分歧\\uf020\\uf074\\uf065\\uf072\\uf072\\uf069\\uf074\\uf06f\\uf072\\uf079\\uf020\\uf05b\\uf060\\uf074\\uf045\\uf072\\uf031\\uf026\\uf074\\uf04f\\uf072\\uf049\\uf05d\\uf020n. 領土，屬地，地盤，區域\\uf020\\uf063\\uf06f\\uf06e\\uf074\\uf069\\uf06e\\uf065\\uf06e\\uf074\\uf020\\uf05b\\uf060\\uf06b\\uf041\\uf06e\\uf074\\uf031\\uf06e\\uf031\\uf06e\\uf074\\uf05d\\uf020n. [C] 大陸，洲\\uf020\\uf070\\uf06f\\uf06c\\uf065\\uf020\\uf05b\\uf070\\uf06f\\uf06c\\uf05d\\uf020n. [C] 竿子，極，磁極\\uf020\\uf068\\uf06f\\uf072\\uf069\\uf07a\\uf06f\\uf06e\\uf020\\uf05b\\uf068\\uf031\\uf060\\uf072\\uf061\\uf049\\uf07a\\uf04e\\uf05d\\uf020n. [S] 地平線；[pl] 範圍，眼界\\uf020\\uf064\\uf061\\uf06d\\uf020\\uf05b\\uf064\\uf045\\uf06d\\uf05d\\uf020n. [C] 水壩\\uf020\\uf062\\uf072\\uf06f\\uf06f\\uf06b\\uf020\\uf05b\\uf062\\uf072\\uf055\\uf06b\\uf05d\\uf020n. [C] 溪流\\uf020\\uf070\\uf065\\uf062\\uf062\\uf06c\\uf065\\uf020\\uf05b\\uf060\\uf070\\uf045\\uf062\\uf04c\\uf05d\\uf020n. [C] 鵝卵石\\uf020\\uf06c\\uf061\\uf06e\\uf064\\uf06d\\uf061\\uf072\\uf06b\\uf020\\uf05b\\uf060\\uf06c\\uf038\\uf06e\\uf064\\uf026\\uf06d\\uf041\\uf072\\uf06b\\uf05d\\uf020n. [C] 地標\\uf020\\uf06c\\uf061\\uf06e\\uf064\\uf073\\uf063\\uf061\\uf070\\uf065\\uf020\\uf05b\\uf060\\uf06c\\uf038\\uf06e\\uf064\\uf073\\uf06b\\uf065\\uf070\\uf05d\\uf020n. [C] 風景，景緻\\uf020\\uf064\\uf069\\uf073\\uf074\\uf072\\uf069\\uf063\\uf074\\uf020\\uf05b\\uf060\\uf064\\uf049\\uf073\\uf074\\uf072\\uf049\\uf06b\\uf074\\uf05d\\uf020n. [C] （行政）區\\uf020\\uf06d\\uf06f\\uf075\\uf074\\uf061\\uf069\\uf06e\\uf06f\\uf075\\uf073\\uf020\\uf05b\\uf060\\uf06d\\uf061\\uf055\\uf06e\\uf074\\uf031\\uf06e\\uf031\\uf073\\uf05d\\uf020adj. 多山的\\uf020\\uf065\\uf06e\\uf063\\uf06c\\uf06f\\uf073\\uf065\\uf020\\uf05b\\uf049\\uf06e\\uf060\\uf06b\\uf06c\\uf06f\\uf07a\\uf05d\\uf020vt. 圍住，環繞；隨信附上，封入，附寄\\uf020\\uf073\\uf075\\uf072\\uf072\\uf06f\\uf075\\uf06e\\uf064\\uf020\\uf05b\\uf073\\uf031\\uf060\\uf072\\uf061\\uf035\\uf06e\\uf064\\uf05d\\uf020vt. 圍繞，環繞；密切相關\\uf020\\uf06c\\uf061\\uf06e\\uf064\\uf073\\uf06c\\uf069\\uf064\\uf065\\uf020\\uf05b\\uf060\\uf06c\\uf038\\uf06e\\uf064\\uf026\\uf073\\uf06c\\uf061\\uf049\\uf064\\uf05d\\uf020n. [C] 坍方\\uf020\\uf063\\uf06f\\uf06c\\uf06c\\uf061\\uf070\\uf073\\uf065\\uf020\\uf05b\\uf06b\\uf031\\uf060\\uf06c\\uf038\\uf070\\uf073\\uf05d\\uf020n. [U] / vi. 倒塌，崩壞\\uf020\\uf072\\uf065\\uf067\\uf069\\uf06f\\uf06e\\uf061\\uf06c\\uf020\\uf05b\\uf060\\uf072\\uf069\\uf064\\uf05a\\uf031\\uf06e\\uf04c\\uf05d\\uf020adj. 地區的，地域的\\uf020\\uf064\\uf065\\uf06e\\uf073\\uf065\\uf020\\uf05b\\uf064\\uf045\\uf06e\\uf073\\uf05d\\uf020adj. 密集的，稠密的\\uf020\\uf076\\uf069\\uf072\\uf067\\uf069\\uf06e\\uf020\\uf05b\\uf060\\uf076\\uf033\\uf064\\uf05a\\uf049\\uf06e\\uf05d\\uf020n. [C] 處女；adj. 未開發的\\uf020\\uf065\\uf06e\\uf076\\uf069\\uf072\\uf06f\\uf06e\\uf06d\\uf065\\uf06e\\uf074\\uf020\\uf05b\\uf049\\uf06e\\uf060\\uf076\\uf061\\uf049\\uf072\\uf031\\uf06e\\uf06d\\uf031\\uf06e\\uf074\\uf05d\\uf020n. [S] (the~) 自然環境\\uf020\\uf072\\uf065\\uf073\\uf065\\uf072\\uf076\\uf065\\uf020\\uf05b\\uf072\\uf049\\uf060\\uf07a\\uf033\\uf076\\uf05d\\uf020vt. 預訂，預約；n. [C] 保護區\\uf020《氣候》 \\uf062\\uf072\\uf065\\uf065\\uf07a\\uf065\\uf020\\uf05b\\uf062\\uf072\\uf069\\uf07a\\uf05d\\uf020n. [C] 微風\\uf020\\uf063\\uf079\\uf063\\uf06c\\uf06f\\uf06e\\uf065\\uf020\\uf05b\\uf060\\uf073\\uf061\\uf049\\uf06b\\uf06c\\uf06f\\uf06e\\uf05d\\uf020n. [C] 旋風，颶風\\uf020\\uf073\\uf074\\uf06f\\uf072\\uf06d\\uf079\\uf020\\uf05b\\uf060\\uf073\\uf074\\uf04f\\uf072\\uf06d\\uf049\\uf05d\\uf020adj. 暴風雨的，激烈的\\uf020\\uf063\\uf075\\uf072\\uf072\\uf065\\uf06e\\uf074\\uf020\\uf05b\\uf060\\uf06b\\uf033\\uf031\\uf06e\\uf074\\uf05d\\uf020adj. 現在的，當前的；水流，氣流\\uf020\\uf061\\uf074\\uf06d\\uf06f\\uf073\\uf070\\uf068\\uf065\\uf072\\uf065\\uf020\\uf05b\\uf060\\uf038\\uf074\\uf06d\\uf031\\uf073\\uf026\\uf066\\uf049\\uf072\\uf05d\\uf020n. sing. (the ～)大氣(層) ， 氣氛，氛圍\\uf020\\uf06d\\uf069\\uf073\\uf074\\uf020\\uf05b\\uf06d\\uf049\\uf073\\uf074\\uf05d\\uf020n. [C/U] 薄霧\\uf020\\uf06d\\uf06f\\uf069\\uf073\\uf074\\uf020\\uf05b\\uf06d\\uf04f\\uf049\\uf073\\uf074\\uf05d\\uf020adj. 潮濕的，溼潤的（正面）\\uf020\\uf064\\uf061\\uf06d\\uf070\\uf020\\uf05b\\uf064\\uf038\\uf06d\\uf070\\uf05d\\uf020adj. 潮濕的，有濕氣的（負面）\\uf020\\x0c;\\n; vi.\\n\\n\\'\\n\\n)\\n\\nad\\'.\\n\\n;\\n\\n\\'\\n\\n; n. sing.\\n; vi.\\n\\n;\\n\\n\\'\\n\\n\\'\\n\\n\\'\\n\\n; vi. AX7ä\\n\\n; It.\\n\\nn. [C] (pl. phemmena)\\n\\nhumidity\\n\\nChju-nudatl] n. [U)\\n\\nram\\n\\nn.\\n\\nicy ram]\\nfreeze [friz]\\nchill\\ntropical\\n\\n[tfll]\\n\\nvi.\\n\\nn.\\n\\n(traprkl]\\n\\n\\'\\n\\nad\\'.\\n\\n; Vt.\\n\\nn. CLT]\\n\\nadj.\\n\\n\\'\\n\\n[fa-nama,nan]\\n\\nphenomenon\\nsolar\\n(solö]\\nsunlight\\nlighten\\nbeam &im] n. [C)\\nglow [glo] vi.\\ndim [dim]\\n(\\nadj.\\ndarkness Cdarkms]\\nflame\\nspark [spark] n. [C]\\nprimitive\\n(pamatlv]\\nshadow [Jædo]\\n[rfsors]\\nresource\\n\\'\\ndisaster\\n[dÜzæst»]\\nuniverse Cjunavs•s] n. sing.(the\\nMars\\nsatellite\\n\\nn. [C]\\nn. [C] (usu.pl.)\\n\\nn. CU]\\n; \\'h.\\n\\n[marz] n.\\n\\n[Hem] n.\\n\\nn. [C]\\n\\nn. [C]\\n\\norbit\\n\\nn.\\n\\n;\\n\\nadi\\n\\ncurve [k3-v] n. [C]\\ncircular\\noval\\ncone [kon]\\ncubic Ckjublk]\\nad\\'.\\nglobe [glob] n. [C]\\n\\nadj.\\nn. [C]\\n\\n;\\n\\n\\'\\n\\n; n.\\n\\n\\'\\n\\n47  \\uf068\\uf075\\uf06d\\uf069\\uf064\\uf069\\uf074\\uf079\\uf020\\uf05b\\uf068\\uf06a\\uf075\\uf060\\uf06d\\uf049\\uf064\\uf031\\uf074\\uf049\\uf05d\\uf020n. [U] 潮濕，溼度\\uf020\\uf072\\uf061\\uf069\\uf06e\\uf020\\uf05b\\uf060\\uf072\\uf065\\uf06e\\uf026\\uf066\\uf04f\\uf06c\\uf05d\\uf020n. [U] 降雨\\uf020\\uf069\\uf063\\uf079\\uf020\\uf05b\\uf060\\uf061\\uf049\\uf073\\uf049\\uf05d\\uf020adj. 結冰的，冰涼的\\uf020\\uf066\\uf072\\uf065\\uf065\\uf07a\\uf065\\uf020\\uf05b\\uf066\\uf072\\uf069\\uf07a\\uf05d\\uf020vi. 結冰，凝固\\uf020\\uf063\\uf068\\uf069\\uf06c\\uf06c\\uf020\\uf05b\\uf074\\uf053\\uf049\\uf06c\\uf05d\\uf020n. sing. 寒氣，寒冷；vt. 使感覺冷\\uf020\\uf074\\uf072\\uf06f\\uf070\\uf069\\uf063\\uf061\\uf06c\\uf020\\uf05b\\uf060\\uf074\\uf072\\uf041\\uf070\\uf049\\uf06b\\uf04c\\uf05d\\uf020adj. 熱帶的\\uf020《自然現象》 \\uf070\\uf068\\uf065\\uf06e\\uf06f\\uf06d\\uf065\\uf06e\\uf06f\\uf06e\\uf020\\uf05b\\uf066\\uf031\\uf060\\uf06e\\uf041\\uf06d\\uf031\\uf026\\uf06e\\uf041\\uf06e\\uf05d\\uf020n. [C] (pl. phenomena) 現象\\uf020\\uf073\\uf06f\\uf06c\\uf061\\uf072\\uf020\\uf05b\\uf060\\uf073\\uf06f\\uf06c\\uf032\\uf05d\\uf020adj. 太陽的，與太陽有關的\\uf020\\uf073\\uf075\\uf06e\\uf06c\\uf069\\uf067\\uf068\\uf074\\uf020\\uf05b\\uf060\\uf073\\uf05e\\uf06e\\uf026\\uf06c\\uf061\\uf049\\uf074\\uf05d\\uf020n. [U] 日光\\uf020\\uf06c\\uf069\\uf067\\uf068\\uf074\\uf065\\uf06e\\uf020\\uf05b\\uf060\\uf06c\\uf061\\uf049\\uf074\\uf04e\\uf05d\\uf020vi. 變亮，放晴；vt. 照亮，減輕，舒緩\\uf020\\uf062\\uf065\\uf061\\uf06d\\uf020\\uf05b\\uf062\\uf069\\uf06d\\uf05d n. [C] 光線，光束；vi. 眉開眼笑\\uf020\\uf067\\uf06c\\uf06f\\uf077\\uf020\\uf05b\\uf047\\uf06c\\uf06f\\uf05d\\uf020vi. 發出暗淡的光，微微發亮；n. sing. 微光；喜悅，滿足\\uf020\\uf064\\uf069\\uf06d\\uf020\\uf05b\\uf064\\uf049\\uf06d\\uf05d\\uf020adj. （光線）昏暗的，暗淡的；vi. 變昏暗，變暗淡\\uf020\\uf064\\uf061\\uf072\\uf06b\\uf06e\\uf065\\uf073\\uf073\\uf020\\uf05b\\uf060\\uf064\\uf041\\uf072\\uf06b\\uf06e\\uf049\\uf073\\uf05d\\uf020n. [U] 黑暗\\uf020\\uf066\\uf06c\\uf061\\uf06d\\uf065\\uf020\\uf05b\\uf066\\uf06c\\uf065\\uf06d\\uf05d\\uf020n. 火焰；vi. 燃燒\\uf020\\uf073\\uf070\\uf061\\uf072\\uf06b\\uf020\\uf05b\\uf073\\uf070\\uf041\\uf072\\uf06b\\uf05d\\uf020n. [C] 小火花；vt. 激發，引發；vi. 冒火花\\uf020\\uf070\\uf072\\uf069\\uf06d\\uf069\\uf074\\uf069\\uf076\\uf065\\uf020\\uf05b\\uf060\\uf070\\uf072\\uf049\\uf06d\\uf031\\uf074\\uf049\\uf076\\uf05d\\uf020adj. 原始的\\uf020\\uf073\\uf068\\uf061\\uf064\\uf06f\\uf077\\uf020\\uf05b\\uf060\\uf053\\uf038\\uf064\\uf06f\\uf05d\\uf020n. [C] 影子，陰影；vt. 以影籠罩\\uf020\\uf072\\uf065\\uf073\\uf06f\\uf075\\uf072\\uf063\\uf065\\uf020\\uf05b\\uf072\\uf049\\uf060\\uf073\\uf06f\\uf072\\uf073\\uf05d\\uf020n. [C] (usu. pl.) 資源\\uf020\\uf064\\uf069\\uf073\\uf061\\uf073\\uf074\\uf065\\uf072\\uf020\\uf05b\\uf064\\uf049\\uf060\\uf07a\\uf038\\uf073\\uf074\\uf032\\uf05d\\uf020n. [C] 災難，災害\\uf020\\uf075\\uf06e\\uf069\\uf076\\uf065\\uf072\\uf073\\uf065\\uf020\\uf05b\\uf060\\uf06a\\uf075\\uf06e\\uf031\\uf076\\uf033\\uf073\\uf05d\\uf020n. sing. (the ～) 宇宙\\uf020M\\uf061\\uf072\\uf073\\uf020\\uf05b\\uf06d\\uf041\\uf072\\uf07a\\uf05d\\uf020n. 火星 \\uf073\\uf061\\uf074\\uf065\\uf06c\\uf06c\\uf069\\uf074\\uf065\\uf020\\uf05b\\uf060\\uf073\\uf038\\uf074\\uf04c\\uf026\\uf06c\\uf061\\uf049\\uf074\\uf05d\\uf020n. [C] 衛星，衛星城市\\uf020\\uf06f\\uf072\\uf062\\uf069\\uf074\\uf020\\uf05b\\uf060\\uf04f\\uf072\\uf062\\uf049\\uf074\\uf05d\\uf020n. [C/U] 軌道；vt. 繞軌道運行\\uf020 形狀 \\uf063\\uf075\\uf072\\uf076\\uf065\\uf020\\uf05b\\uf06b\\uf033\\uf076\\uf05d\\uf020n. [C] 曲線；vi. 彎曲\\uf020\\uf063\\uf069\\uf072\\uf063\\uf075\\uf06c\\uf061\\uf072\\uf020\\uf05b\\uf060\\uf073\\uf033\\uf06b\\uf06a\\uf031\\uf06c\\uf032\\uf05d\\uf020adj. 圓形的\\uf020\\uf06f\\uf076\\uf061\\uf06c\\uf020\\uf05b\\uf060\\uf06f\\uf076\\uf04c\\uf05d\\uf020adj. 橢圓形的；n. [C] 橢圓\\uf020\\uf063\\uf06f\\uf06e\\uf065\\uf020\\uf05b\\uf06b\\uf06f\\uf06e\\uf05d\\uf020n. [C] 圓錐體\\uf020\\uf063\\uf075\\uf062\\uf069\\uf063\\uf020\\uf05b\\uf060\\uf06b\\uf06a\\uf075\\uf062\\uf049\\uf06b\\uf05d\\uf020adj. 立方體的，（數學）立方的\\uf020\\uf067\\uf06c\\uf06f\\uf062\\uf065\\uf020\\uf05b\\uf047\\uf06c\\uf06f\\uf062\\uf05d\\uf020n. [C] 球體，地球，地球儀\\uf020\\x0csolid Csalld]\\n\\nn.\\n\\nprep.\\n\\nbeneath Cofnie]\\nunderground\\nunderground\\nopposite Capazlt] prep.\\n\\nCAndæ,graund] adj.\\n[,And$graund]\\nadv.\\n\\n; n. [TJ\\n\\n\\'\\n\\n\\'\\n\\n; adj.\\n\\n\\'\\n\\nhalfway\\n\\n[,hæFwe]\\n\\nad\\'.\\n\\n; adv.\\n\\nelsewhere\\n\\nadv.\\n\\n(faröæ]\\n\\nadj./adv.\\n\\n( it)\\n\\n[fore] adv.\\nadj.\\n\\nfafther\\nforth\\nlatter\\n\\ndose\\n\\n;\\nn. [C)\\n\\n(—)\\n\\n) # (k)\\n\\n\\'\\n\\nn.[C]\\nn.\\n\\ngrain [gren] n. [C]\\nhandful\\nChændfal]\\nbunch\\ncolumn\\n(kalam]\\nheap [hip] n. [C]\\nn. [C]\\nflock\\n[flak]\\nherd [IBd]\\nn. [C]\\ncolony\\narray\\nvolume\\n\\n[a-re] n. [C)\\n\\nbarrel Cbæral] n. [C]\\njar\\narticle\\n\\n[d3ar] n. [C]\\n\\n(\\n\\ngram [gram] n. [C]\\nton [tAn] n. [C]\\n\\n(\\n\\n)\\n\\n; vi.\\n•\\n\\n; Vt.\\n\\nn. [C)\\n\\nSing.\\n\\n(\\n\\n)\\n\\n\\'\\n\\n(\\n\\n)\\n\\n(—)\\n\\n(\\n\\n)\\n\\n48  \\uf073\\uf06f\\uf06c\\uf069\\uf064\\uf020\\uf05b\\uf060\\uf073\\uf041\\uf06c\\uf049\\uf064\\uf05d\\uf020\\uf06e\\uf02e\\uf020\\uf05b\\uf043\\uf05d固體；adj. 固體的，堅固的\\uf020 位置 \\uf062\\uf065\\uf06e\\uf065\\uf061\\uf074\\uf068\\uf020\\uf05b\\uf062\\uf049\\uf060\\uf06e\\uf069\\uf054\\uf05d\\uf020prep. 在…正下方\\uf020\\uf075\\uf06e\\uf064\\uf065\\uf072\\uf067\\uf072\\uf06f\\uf075\\uf06e\\uf064\\uf020\\uf05b\\uf060\\uf05e\\uf06e\\uf064\\uf032\\uf026\\uf047\\uf072\\uf061\\uf055\\uf06e\\uf064\\uf05d\\uf020adj. 地下的，秘密的；n. [U] 地下組織\\uf020\\uf075\\uf06e\\uf064\\uf065\\uf072\\uf067\\uf072\\uf06f\\uf075\\uf06e\\uf064\\uf020\\uf05b\\uf026\\uf05e\\uf06e\\uf064\\uf032\\uf060\\uf047\\uf072\\uf061\\uf055\\uf06e\\uf064\\uf05d\\uf020adv. 在地下，秘密地\\uf020\\uf06f\\uf070\\uf070\\uf06f\\uf073\\uf069\\uf074\\uf065\\uf020\\uf05b\\uf060\\uf041\\uf070\\uf031\\uf07a\\uf049\\uf074\\uf05d\\uf020prep. 在…的對面；adj. 相對的，相反的； n. 相反的情形\\uf020\\uf068\\uf061\\uf06c\\uf066\\uf077\\uf061\\uf079\\uf020\\uf05b\\uf026\\uf068\\uf038\\uf066\\uf060\\uf077\\uf065\\uf05d\\uf020adj. 中途的；adv. 在半路上\\uf020\\uf065\\uf06c\\uf073\\uf065\\uf077\\uf068\\uf065\\uf072\\uf065\\uf020\\uf05b\\uf060\\uf045\\uf06c\\uf073\\uf026\\uf028\\uf068\\uf029\\uf077\\uf045\\uf072\\uf05d\\uf020adv. 在別處\\uf020\\uf066\\uf061\\uf072\\uf074\\uf068\\uf065\\uf072\\uf020\\uf05b\\uf060\\uf066\\uf061\\uf072\\uf044\\uf032\\uf05d\\uf020adj./adv. 更遠的（地） \\uf020\\uf066\\uf06f\\uf072\\uf074\\uf068\\uf020\\uf05b\\uf066\\uf04f\\uf072\\uf054\\uf05d\\uf020adv. 向前，向外\\uf020\\uf06c\\uf061\\uf074\\uf074\\uf065\\uf072\\uf020\\uf05b\\uf060\\uf06c\\uf038\\uf074\\uf032\\uf05d\\uf020adj. 後者的\\uf020 數量 《單位》 \\uf064\\uf06f\\uf073\\uf065\\uf020\\uf05b\\uf064\\uf06f\\uf073\\uf05d\\uf020n. [C] （一）劑 (藥物)\\uf020\\uf067\\uf072\\uf061\\uf069\\uf06e\\uf020\\uf05b\\uf047\\uf072\\uf065\\uf06e\\uf05d\\uf020n. [C] 穀粒；（一）顆粒、細粒\\uf020\\uf068\\uf061\\uf06e\\uf064\\uf066\\uf075\\uf06c\\uf020\\uf05b\\uf060\\uf068\\uf038\\uf06e\\uf064\\uf066\\uf031\\uf06c\\uf05d\\uf020n. [C] （一）把\\uf020\\uf062\\uf075\\uf06e\\uf063\\uf068\\uf020\\uf05b\\uf062\\uf05e\\uf06e\\uf074\\uf053\\uf05d\\uf020n. [C] （一）束，（一）群（人）\\uf020\\uf063\\uf06f\\uf06c\\uf075\\uf06d\\uf06e\\uf020\\uf05b\\uf060\\uf06b\\uf041\\uf06c\\uf031\\uf06d\\uf05d\\uf020n. 圓柱，（一）縱列，（一）柱，專欄\\uf020\\uf068\\uf065\\uf061\\uf070\\uf020\\uf05b\\uf068\\uf069\\uf070\\uf05d\\uf020n. [C] （一）堆\\uf020\\uf066\\uf06c\\uf06f\\uf063\\uf06b\\uf020\\uf05b\\uf066\\uf06c\\uf041\\uf06b\\uf05d\\uf020n. [C] （一）群；vi. 聚集\\uf020\\uf068\\uf065\\uf072\\uf064\\uf020\\uf05b\\uf068\\uf033\\uf064\\uf05d\\uf020n. [C] （一）畜群、牧群；vt. 放牧\\uf020\\uf063\\uf06f\\uf06c\\uf06f\\uf06e\\uf079\\uf020\\uf05b\\uf060\\uf06b\\uf041\\uf06c\\uf031\\uf06e\\uf049\\uf05d\\uf020n. [C] 殖民地；（一）群（同類且有組織的動物）\\uf020\\uf061\\uf072\\uf072\\uf061\\uf079\\uf020\\uf05b\\uf031\\uf060\\uf072\\uf065\\uf05d\\uf020n. [C] usu. sing. （一）批，（一）系列\\uf020\\uf076\\uf06f\\uf06c\\uf075\\uf06d\\uf065\\uf020\\uf05b\\uf060\\uf076\\uf041\\uf06c\\uf06a\\uf031\\uf06d\\uf05d\\uf020n. [U] 體積，容積，音量，（一）冊\\uf020\\uf062\\uf061\\uf072\\uf072\\uf065\\uf06c\\uf020\\uf05b\\uf060\\uf062\\uf038\\uf072\\uf031\\uf06c\\uf05d\\uf020n. [C] （一）桶\\uf020\\uf06a\\uf061\\uf072\\uf020\\uf05b\\uf064\\uf05a\\uf041\\uf072\\uf05d\\uf020n. [C] （一）罐\\uf020\\uf061\\uf072\\uf074\\uf069\\uf063\\uf06c\\uf065\\uf020\\uf05b\\uf060\\uf041\\uf072\\uf074\\uf049\\uf06b\\uf04c\\uf05d\\uf020n. [C] 冠詞，文章；物品，（一）件（物品）\\uf020\\uf067\\uf072\\uf061\\uf06d\\uf020\\uf05b\\uf047\\uf072\\uf038\\uf06d\\uf05d\\uf020n. [C] 公克\\uf020\\uf074\\uf06f\\uf06e\\uf020\\uf05b\\uf074\\uf05e\\uf06e\\uf05d\\uf020n. [C] 噸\\uf020\\x0cn. [C]\\n\\nacre rekæ]\\nmeter Cmit»]\\npint\\n\\n[pamt] n. [C]\\n\\nn. [C]\\n\\n/t_SR\\n\\nÜmæksamam]\\n(mmamam]\\n\\nmaximum\\nminimum\\naverage Cævar1d3] ad\\'.\\n\\n( —\\n\\nn. [C] *7t1Ä\\nn. [C] *\\'JMÄ \\'\\n\\n; n.\\n\\n\\'\\n\\n(fml.)\\nad\\'.\\n\\nadj.\\n\\nadj.\\n\\n\\'\\nadj.\\n\\n[væst] adj.\\n\\n[kan-sldarabl]\\n\\nplentiful Cplentlfal]\\npron.\\nplenty\\nnumerous Cnjumaæs]\\nconsiderable\\nvast\\nmultiple\\nscarce [skus]\\nodd [ad] adj.\\ncountable\\n[\\'kaon tab!] adj.\\nsingular C&slrjgjal»] adj./n.\\nindividual\\nload god]\\ncapacity [ka-pæsatl] n. [C)\\npercentage [pacsent1d3] n. [C]\\nportion Cporfan] n. [C]\\nadj.\\npartial Cparfal]\\nmajor Cmed3&] adj.\\ndecrease\\nn.\\nreduce [n djus] Vt. Efä \\'\\novertake\\nmushroom\\n\\nCmAfrum]\\n\\nn. [C]\\n\\n[,ov$tek]\\n\\nVt.\\n\\nit.\\n\\n[S]\\nadj. TE,3J$\\n\\n\\'\\n\\n\\'\\n\\n; vi.\\n\\n\\'\\n\\n\\'\\n\\n\\'\\n\\n\\'\\n\\n; adj.\\nadj. *\\'JMÄ$\\n\\n•\\n\\nJ\\n\\n•\\n\\n\\'\\n\\nfrequency\\nfrequent\\n\\n(frikwansl]\\n\\nn. [C]\\n\\n(frikwant]\\n\\nadj.\\n\\n\\'\\n\\n49  \\uf061\\uf063\\uf072\\uf065\\uf020\\uf05b\\uf060\\uf065\\uf06b\\uf032\\uf05d\\uf020n. [C] 英畝\\uf020\\uf06d\\uf065\\uf074\\uf065\\uf072\\uf020\\uf05b\\uf060\\uf06d\\uf069\\uf074\\uf032\\uf05d\\uf020n. [C] 公尺\\uf020\\uf070\\uf069\\uf06e\\uf074\\uf020\\uf05b\\uf070\\uf061\\uf049\\uf06e\\uf074\\uf05d\\uf020n. [C] 品脫（= 半公升）\\uf020《數量》 \\uf06d\\uf061\\uf078\\uf069\\uf06d\\uf075\\uf06d\\uf020\\uf05b\\uf060\\uf06d\\uf038\\uf06b\\uf073\\uf031\\uf06d\\uf031\\uf06d\\uf05d\\uf020n. [C] 最大值，最大量；adj. 最大值、最大量的\\uf020\\uf06d\\uf069\\uf06e\\uf069\\uf06d\\uf075\\uf06d\\uf020\\uf05b\\uf060\\uf06d\\uf049\\uf06e\\uf031\\uf06d\\uf031\\uf06d\\uf05d n. [C] 最小值，最小量；adj. 最小值的、最小量的\\uf020\\uf061\\uf076\\uf065\\uf072\\uf061\\uf067\\uf065\\uf020\\uf05b\\uf060\\uf038\\uf076\\uf031\\uf072\\uf049\\uf064\\uf05a\\uf05d\\uf020adj. 平均的；n. sing. 平均值，平均數； vt. 平均為…，平均達到…\\uf020\\uf070\\uf06c\\uf065\\uf06e\\uf074\\uf069\\uf066\\uf075\\uf06c\\uf020\\uf05b\\uf060\\uf070\\uf06c\\uf045\\uf06e\\uf074\\uf049\\uf066\\uf031\\uf06c\\uf05d\\uf020adj. 大量的，充足的\\uf020\\uf070\\uf06c\\uf065\\uf06e\\uf074\\uf079\\uf020\\uf05b\\uf060\\uf070\\uf06c\\uf045\\uf06e\\uf074\\uf049\\uf05d\\uf020pron. 大量，許多（與of並用）\\uf020\\uf06e\\uf075\\uf06d\\uf065\\uf072\\uf06f\\uf075\\uf073\\uf020\\uf05b\\uf060\\uf06e\\uf06a\\uf075\\uf06d\\uf031\\uf072\\uf031\\uf073\\uf05d\\uf020adj. (fml.) 很多的\\uf020\\uf063\\uf06f\\uf06e\\uf073\\uf069\\uf064\\uf065\\uf072\\uf061\\uf062\\uf06c\\uf065\\uf020\\uf05b\\uf06b\\uf031\\uf06e\\uf060\\uf073\\uf049\\uf064\\uf031\\uf072\\uf031\\uf062\\uf04c\\uf05d\\uf020adj. 相當多，相當大；相當重要的\\uf020\\uf076\\uf061\\uf073\\uf074\\uf020\\uf05b\\uf076\\uf038\\uf073\\uf074\\uf05d\\uf020adj. 廣大的，大量的\\uf020\\uf06d\\uf075\\uf06c\\uf074\\uf069\\uf070\\uf06c\\uf065\\uf020\\uf05b\\uf060\\uf06d\\uf05e\\uf06c\\uf074\\uf031\\uf070\\uf04c\\uf05d\\uf020adj. 多重的，數量多的\\uf020\\uf073\\uf063\\uf061\\uf072\\uf063\\uf065\\uf020\\uf05b\\uf073\\uf06b\\uf045\\uf072\\uf073\\uf05d\\uf020adj. 稀少的\\uf020\\uf06f\\uf064\\uf064\\uf020\\uf05b\\uf041\\uf064\\uf05d\\uf020adj. 奇數的，不成對的，奇怪的\\uf020\\uf063\\uf06f\\uf075\\uf06e\\uf074\\uf061\\uf062\\uf06c\\uf065\\uf020\\uf05b\\uf060\\uf06b\\uf061\\uf055\\uf06e\\uf074\\uf031\\uf062\\uf04c\\uf05d\\uf020adj. 可數的\\uf020\\uf073\\uf069\\uf06e\\uf067\\uf075\\uf06c\\uf061\\uf072\\uf020\\uf05b\\uf060\\uf073\\uf049\\uf039\\uf047\\uf06a\\uf031\\uf06c\\uf032\\uf05d\\uf020adj. / n. [S] 單數（的）\\uf020\\uf069\\uf06e\\uf064\\uf069\\uf076\\uf069\\uf064\\uf075\\uf061\\uf06c\\uf020\\uf05b\\uf026\\uf049\\uf06e\\uf064\\uf031\\uf060\\uf076\\uf049\\uf064\\uf05a\\uf035\\uf031\\uf06c\\uf05d\\uf020adj. 個別的，單獨的；[C] 個人\\uf020\\uf06c\\uf06f\\uf061\\uf064\\uf020\\uf05b\\uf06c\\uf06f\\uf064\\uf05d\\uf020vt. 裝滿，裝入；n. [C] 裝載量\\uf020\\uf063\\uf061\\uf070\\uf061\\uf063\\uf069\\uf074\\uf079\\uf020\\uf05b\\uf06b\\uf031\\uf060\\uf070\\uf038\\uf073\\uf031\\uf074\\uf049\\uf05d\\uf020n. [C] 容量，能力\\uf020\\uf070\\uf065\\uf072\\uf063\\uf065\\uf06e\\uf074\\uf061\\uf067\\uf065\\uf020\\uf05b\\uf070\\uf032\\uf060\\uf073\\uf045\\uf06e\\uf074\\uf049\\uf064\\uf05a\\uf05d\\uf020n. [C] 百分比，百分率\\uf020\\uf070\\uf06f\\uf072\\uf074\\uf069\\uf06f\\uf06e\\uf020\\uf05b\\uf060\\uf070\\uf04f\\uf072\\uf053\\uf031\\uf06e\\uf05d\\uf020n. [C] 部分\\uf020\\uf070\\uf061\\uf072\\uf074\\uf069\\uf061\\uf06c\\uf020\\uf05b\\uf060\\uf070\\uf041\\uf072\\uf053\\uf031\\uf06c\\uf05d\\uf020adj. 部分的，偏心的\\uf020\\uf06d\\uf061\\uf06a\\uf06f\\uf072\\uf020\\uf05b\\uf060\\uf06d\\uf065\\uf064\\uf05a\\uf032\\uf05d\\uf020adj. 大部分的、重要的，主要的；v. 主修；n. 主修科目\\uf020\\uf064\\uf065\\uf063\\uf072\\uf065\\uf061\\uf073\\uf065\\uf020\\uf05b\\uf060\\uf064\\uf069\\uf06b\\uf072\\uf069\\uf073\\uf05d\\uf020n. [C] / vi.（使）減少\\uf020\\uf072\\uf065\\uf064\\uf075\\uf063\\uf065\\uf020\\uf05b\\uf072\\uf049\\uf060\\uf064\\uf06a\\uf075\\uf073\\uf05d\\uf020vt. 降低，減少\\uf020\\uf06f\\uf076\\uf065\\uf072\\uf074\\uf061\\uf06b\\uf065\\uf020\\uf05b\\uf026\\uf06f\\uf076\\uf032\\uf060\\uf074\\uf065\\uf06b\\uf05d\\uf020vt. （數量或程度上）超越，趕上\\uf020\\uf06d\\uf075\\uf073\\uf068\\uf072\\uf06f\\uf06f\\uf06d\\uf020\\uf05b\\uf060\\uf06d\\uf05e\\uf053\\uf072\\uf075\\uf06d\\uf05d\\uf020n. [C] 洋菇；vi. 急速增加或發展\\uf020 頻率、速度 \\uf066\\uf072\\uf065\\uf071\\uf075\\uf065\\uf06e\\uf063\\uf079\\uf020\\uf05b\\uf060\\uf066\\uf072\\uf069\\uf06b\\uf077\\uf031\\uf06e\\uf073\\uf049\\uf05d\\uf020n. [C] 頻率\\uf020\\uf066\\uf072\\uf065\\uf071\\uf075\\uf065\\uf06e\\uf074\\uf020\\uf05b\\uf060\\uf066\\uf072\\uf069\\uf06b\\uf077\\uf031\\uf06e\\uf074\\uf05d\\uf020adj. 常常的，頻繁的\\uf020\\x0cad\\'.\\n\\n; v.\\n\\nn. [U]\\n\\nadj.\\n\\nadv.\\n\\n[Ühfansl]\\n[l&flfant]\\n\\nadi\\n[kan-tmjuas]\\n\\nseldom Cseldam]\\nconstant Ckanstant]\\ncontinuous\\nrate [ret] n.\\nefficiency\\nefficient\\npace [pes] n. smg.\\nimmediate\\nprompt\\nswift\\nhaste [hest] n.\\ngradual Cgrædsual] adj.\\n\\n[prompt]\\nadj.\\n\\n[swift]\\n\\nadj.\\n\\n[Ümidrat]\\n\\nad\\'.\\n\\n; Vt.\\n\\nfitt\\n\\n; adj.\\n\\n\\'\\n\\n\\'\\n\\nscale [Skel] n. sing.\\nrank [ræok] n.\\nswell\\nvi.\\ndeepen (dipan]\\nad\\'.\\nmere\\n\\nvt/ti\\n\\n; \\'h.\\n\\n& )\\n\\n*7!-!\\n\\n\\'\\n\\n\\'\\n\\n,\\n\\n\\'\\n\\nadv.\\n\\'\\n\\n;\\n\\nadj.\\n\\n[slalt] adj.\\nad\\'.\\n\\nsomewhat\\nslight\\nmild\\nadj.\\nshallow [Jælo]\\nmoderate Cmadarat]\\nbadly C&bædll] adv.\\ndearly\\nadv.\\nfairly\\nadv.\\nhighly Charli] adv.\\nlargely Clard311] adv.\\nrough [rAf) adj.\\nroughly ÜrAf11] adv.\\nenlarge [In -lards]\\nexpand [1k-spænd] vi/vt.\\n\\n(full]\\n\\n\\'\\n\\n;\\n\\n50  \\uf073\\uf065\\uf06c\\uf064\\uf06f\\uf06d\\uf020\\uf05b\\uf060\\uf073\\uf045\\uf06c\\uf064\\uf031\\uf06d\\uf05d\\uf020adv. 鮮少\\uf020\\uf063\\uf06f\\uf06e\\uf073\\uf074\\uf061\\uf06e\\uf074\\uf020\\uf05b\\uf060\\uf06b\\uf041\\uf06e\\uf073\\uf074\\uf031\\uf06e\\uf074\\uf05d\\uf020adj. 持續不斷、穩定的\\uf020\\uf063\\uf06f\\uf06e\\uf074\\uf069\\uf06e\\uf075\\uf06f\\uf075\\uf073\\uf020\\uf05b\\uf06b\\uf031\\uf06e\\uf060\\uf074\\uf049\\uf06e\\uf06a\\uf075\\uf031\\uf073\\uf05d\\uf020adj. 持續、不間斷的\\uf020\\uf072\\uf061\\uf074\\uf065\\uf020\\uf05b\\uf072\\uf065\\uf074\\uf05d\\uf020n. [C] 速率、率，比率；v. 評比為\\uf020\\uf065\\uf066\\uf066\\uf069\\uf063\\uf069\\uf065\\uf06e\\uf063\\uf079\\uf020\\uf05b\\uf049\\uf060\\uf066\\uf049\\uf053\\uf031\\uf06e\\uf073\\uf049\\uf05d\\uf020n. [U] 效率\\uf020\\uf065\\uf066\\uf066\\uf069\\uf063\\uf069\\uf065\\uf06e\\uf074\\uf020\\uf05b\\uf049\\uf060\\uf066\\uf049\\uf053\\uf031\\uf06e\\uf074\\uf05d\\uf020adj. 有效率的\\uf020\\uf070\\uf061\\uf063\\uf065\\uf020\\uf05b\\uf070\\uf065\\uf073\\uf05d\\uf020n. sing. 速度，進度\\uf020\\uf069\\uf06d\\uf06d\\uf065\\uf064\\uf069\\uf061\\uf074\\uf065\\uf020\\uf05b\\uf049\\uf060\\uf06d\\uf069\\uf064\\uf049\\uf031\\uf074\\uf05d\\uf020adj. 立即的\\uf020\\uf070\\uf072\\uf06f\\uf06d\\uf070\\uf074\\uf020\\uf05b\\uf070\\uf072\\uf041\\uf06d\\uf070\\uf074\\uf05d\\uf020adj. 立即的；vt. 促使\\uf020\\uf073\\uf077\\uf069\\uf066\\uf074\\uf020\\uf05b\\uf073\\uf077\\uf049\\uf066\\uf074\\uf05d\\uf020adj. 迅速的，敏捷的\\uf020\\uf068\\uf061\\uf073\\uf074\\uf065\\uf020\\uf05b\\uf068\\uf065\\uf073\\uf074\\uf05d\\uf020n. [U] 倉促，匆忙；adj. 倉促的，草率的\\uf020\\uf067\\uf072\\uf061\\uf064\\uf075\\uf061\\uf06c\\uf020\\uf05b\\uf060\\uf047\\uf072\\uf038\\uf064\\uf05a\\uf035\\uf031\\uf06c\\uf05d\\uf020adj. 逐漸的\\uf020 程度 \\uf073\\uf063\\uf061\\uf06c\\uf065\\uf020\\uf05b\\uf073\\uf06b\\uf065\\uf06c\\uf05d\\uf020n. sing. 規模，程度\\uf020\\uf072\\uf061\\uf06e\\uf06b\\uf020\\uf05b\\uf072\\uf038\\uf039\\uf06b\\uf05d\\uf020n. 等級；vi. 排名\\uf020\\uf073\\uf077\\uf065\\uf06c\\uf06c\\uf020\\uf05b\\uf073\\uf077\\uf045\\uf06c\\uf05d\\uf020vi. 腫大，膨脹\\uf020\\uf064\\uf065\\uf065\\uf070\\uf065\\uf06e\\uf020\\uf05b\\uf060\\uf064\\uf069\\uf070\\uf031\\uf06e\\uf05d\\uf020vt./vi （使）變深、強烈\\uf020\\uf06d\\uf065\\uf072\\uf065\\uf020\\uf05b\\uf06d\\uf049\\uf072\\uf05d\\uf020adj. 僅僅的，只不過\\uf020\\uf073\\uf06f\\uf06d\\uf065\\uf077\\uf068\\uf061\\uf074\\uf020\\uf05b\\uf060\\uf073\\uf05e\\uf06d\\uf028\\uf068\\uf029\\uf077\\uf041\\uf074\\uf05d\\uf020adv. 稍微，有些\\uf020\\uf073\\uf06c\\uf069\\uf067\\uf068\\uf074\\uf020\\uf05b\\uf073\\uf06c\\uf061\\uf049\\uf074\\uf05d\\uf020adj. 少量的，輕微的\\uf020\\uf06d\\uf069\\uf06c\\uf064\\uf020\\uf05b\\uf06d\\uf061\\uf049\\uf06c\\uf064\\uf05d\\uf020adj. 輕微的；溫和的（天氣、個性）\\uf020\\uf073\\uf068\\uf061\\uf06c\\uf06c\\uf06f\\uf077\\uf020\\uf05b\\uf060\\uf053\\uf038\\uf06c\\uf06f\\uf05d\\uf020adj. 淺的，膚淺的\\uf020\\uf06d\\uf06f\\uf064\\uf065\\uf072\\uf061\\uf074\\uf065\\uf020\\uf05b\\uf060\\uf06d\\uf041\\uf064\\uf031\\uf072\\uf031\\uf074\\uf05d\\uf020adj. 中等的，適度的\\uf020\\uf062\\uf061\\uf064\\uf06c\\uf079\\uf020\\uf05b\\uf060\\uf062\\uf038\\uf064\\uf06c\\uf049\\uf05d\\uf020adv. 拙劣地，差勁地，嚴重地，非常\\uf020\\uf064\\uf065\\uf061\\uf072\\uf06c\\uf079\\uf020\\uf05b\\uf060\\uf064\\uf049\\uf072\\uf06c\\uf049\\uf05d\\uf020adv. 非常，昂貴地，付出很大代價地\\uf020\\uf066\\uf061\\uf069\\uf072\\uf06c\\uf079\\uf020\\uf05b\\uf060\\uf066\\uf045\\uf072\\uf06c\\uf049\\uf05d\\uf020adv. 相當地，蠻…\\uf020\\uf068\\uf069\\uf067\\uf068\\uf06c\\uf079\\uf020\\uf05b\\uf060\\uf068\\uf061\\uf049\\uf06c\\uf049\\uf05d\\uf020adv. 極，非常\\uf020\\uf06c\\uf061\\uf072\\uf067\\uf065\\uf06c\\uf079\\uf020\\uf05b\\uf060\\uf06c\\uf041\\uf072\\uf064\\uf05a\\uf06c\\uf049\\uf05d\\uf020adv. 大大地，大部分\\uf020\\uf072\\uf06f\\uf075\\uf067\\uf068\\uf020\\uf05b\\uf072\\uf05e\\uf066\\uf05d\\uf020adj. 粗糙的；大略的\\uf020\\uf072\\uf06f\\uf075\\uf067\\uf068\\uf06c\\uf079\\uf020\\uf05b\\uf060\\uf072\\uf05e\\uf066\\uf06c\\uf049\\uf05d\\uf020adv. 大概\\uf020\\uf065\\uf06e\\uf06c\\uf061\\uf072\\uf067\\uf065\\uf020\\uf05b\\uf049\\uf06e\\uf060\\uf06c\\uf041\\uf072\\uf064\\uf05a\\uf05d\\uf020vt. 放大\\uf020\\uf065\\uf078\\uf070\\uf061\\uf06e\\uf064\\uf020\\uf05b\\uf049\\uf06b\\uf060\\uf073\\uf070\\uf038\\uf06e\\uf064\\uf05d\\uf020vi./vt. 擴大，增加\\uf020\\x0c\\'\\n; n.\\n\\n\\'\\n\\n\\'\\n\\n,\\n\\n\\'\\n\\n\\'\\n\\n\\'\\n\\nadj.\\n\\nad\\'.\\n\\n[IRstEnd]\\n(pral,merr]\\n\\nextend\\nprimary\\nextreme\\nkeen\\nsignificant\\ngrave [grev]\\nintense\\nfierce [firs] adj.\\n\\n(fml.)\\n[m tens] adj.\\n\\nstiff\\n\\n,\\n\\nad\\'.\\n[slg&mftkant] adj.\\n\\n\\'\\n\\n,\\n\\n\\'\\n\\nad\\'.\\nabsolute Cæbsa,lut]\\nadequate Üædlkvvæt] ad\\'.\\nadditional\\nadj.\\n\\nannual\\n[&ænjual] adi\\ndecade CdEked] n. [C]\\n\\nn. [C]\\nera\\neve [iv] n. [S]\\neventual\\nforever\\nhourly\\n\\n[f$EV&]\\n[\\'aurll]\\n\\ninitial\\n\\n[Üventfual]\\n\\nad\\'.\\n\\n\\'\\n\\nadv.\\n\\nadj. / adv.\\n\\n(Z)\\n\\nClalf,talm]\\n(Endlrs]\\n\\nn. [C) (usu.sing.)\\n\\'\\n\\nadv.\\nn. [U]\\nad\\'.\\n\\nlag [læg]\\nlately Cletll]\\nleisure Cli3ö]\\nleisurelyÜli3æ11]\\nlifetime\\nendless\\npermanent\\ndurable\\ncasual\\nremote\\novemight\\n\\n[\\'kæsual]\\n[rfmot]\\n\\nadj.\\n[-pmanant]\\nadj.\\n\\nadj.\\nad\\'.\\n[\\'ovæ,nalt]\\n\\n,\\n\\n; adv.\\n\\nad\\'.\\n\\n\\'\\n\\'\\n\\n\\'\\n\\n\\'\\n\\n\\'\\n\\n;\\n\\'\\n\\nadj.\\n\\n\\'\\n\\n; adv.\\n\\n51  \\uf065\\uf078\\uf074\\uf065\\uf06e\\uf064\\uf020\\uf05b\\uf049\\uf06b\\uf060\\uf073\\uf074\\uf045\\uf06e\\uf064\\uf05d\\uf020vt. 擴大，延伸\\uf020\\uf070\\uf072\\uf069\\uf06d\\uf061\\uf072\\uf079\\uf020\\uf05b\\uf060\\uf070\\uf072\\uf061\\uf049\\uf026\\uf06d\\uf045\\uf072\\uf049\\uf05d\\uf020adj. 首要的，主要的，初級的\\uf020\\uf065\\uf078\\uf074\\uf072\\uf065\\uf06d\\uf065\\uf020\\uf05b\\uf049\\uf06b\\uf060\\uf073\\uf074\\uf072\\uf069\\uf06d\\uf05d\\uf020adj. 極大的，極度的；n. [C] 極端，極度\\uf020\\uf06b\\uf065\\uf065\\uf06e\\uf020\\uf05b\\uf06b\\uf069\\uf06e\\uf05d\\uf020adj. 激烈的，敏銳的，渴望的\\uf020\\uf073\\uf069\\uf067\\uf06e\\uf069\\uf066\\uf069\\uf063\\uf061\\uf06e\\uf074\\uf020\\uf05b\\uf073\\uf049\\uf047\\uf060\\uf06e\\uf049\\uf066\\uf049\\uf06b\\uf031\\uf06e\\uf074\\uf05d\\uf020adj. 重大的，顯著的\\uf020\\uf067\\uf072\\uf061\\uf076\\uf065\\uf020\\uf05b\\uf047\\uf072\\uf065\\uf076\\uf05d\\uf020adj. (fml.) 嚴重的，重大的\\uf020\\uf069\\uf06e\\uf074\\uf065\\uf06e\\uf073\\uf065\\uf020\\uf05b\\uf049\\uf06e\\uf060\\uf074\\uf045\\uf06e\\uf073\\uf05d\\uf020adj. 強烈的\\uf020\\uf066\\uf069\\uf065\\uf072\\uf063\\uf065\\uf020\\uf05b\\uf066\\uf049\\uf072\\uf073\\uf05d\\uf020adj. 激烈的，猛烈的\\uf020\\uf073\\uf074\\uf069\\uf066\\uf066\\uf020\\uf05b\\uf073\\uf074\\uf049\\uf066\\uf05d\\uf020adj. 硬的，激烈的，嚴厲的\\uf020\\uf061\\uf062\\uf073\\uf06f\\uf06c\\uf075\\uf074\\uf065\\uf020\\uf05b\\uf060\\uf038\\uf062\\uf073\\uf031\\uf026\\uf06c\\uf075\\uf074\\uf05d\\uf020adj. 十足的，完全的\\uf020\\uf061\\uf064\\uf065\\uf071\\uf075\\uf061\\uf074\\uf065\\uf020\\uf05b\\uf060\\uf038\\uf064\\uf049\\uf06b\\uf077\\uf031\\uf074\\uf05d\\uf020adj. 足夠的，充分的\\uf020\\uf061\\uf064\\uf064\\uf069\\uf074\\uf069\\uf06f\\uf06e\\uf061\\uf06c\\uf020\\uf05b\\uf031\\uf060\\uf064\\uf049\\uf053\\uf031\\uf06e\\uf031\\uf06c\\uf05d\\uf020adj. 額外的，另加的\\uf020 時間 \\uf061\\uf06e\\uf06e\\uf075\\uf061\\uf06c\\uf020\\uf05b\\uf060\\uf038\\uf06e\\uf06a\\uf055\\uf031\\uf06c\\uf05d\\uf020adj. 每年的，一年的\\uf020\\uf064\\uf065\\uf063\\uf061\\uf064\\uf065\\uf020\\uf05b\\uf060\\uf064\\uf045\\uf06b\\uf065\\uf064\\uf05d\\uf020n. [C] 十年\\uf020\\uf065\\uf072\\uf061\\uf020\\uf05b\\uf060\\uf049\\uf072\\uf031\\uf05d\\uf020n. [C] 時代，年代\\uf020\\uf065\\uf076\\uf065\\uf020\\uf05b\\uf069\\uf076\\uf05d\\uf020n. [S] 前夕\\uf020\\uf065\\uf076\\uf065\\uf06e\\uf074\\uf075\\uf061\\uf06c\\uf020\\uf05b\\uf049\\uf060\\uf076\\uf045\\uf06e\\uf074\\uf053\\uf035\\uf031\\uf06c\\uf05d\\uf020adj. 最後的，最終的\\uf020\\uf066\\uf06f\\uf072\\uf065\\uf076\\uf065\\uf072\\uf020\\uf05b\\uf066\\uf032\\uf060\\uf045\\uf076\\uf032\\uf05d\\uf020adv. 永遠\\uf020\\uf068\\uf06f\\uf075\\uf072\\uf06c\\uf079\\uf020\\uf05b\\uf060\\uf061\\uf055\\uf072\\uf06c\\uf049\\uf05d\\uf020adj. / adv. 每小時的（地）\\uf020\\uf069\\uf06e\\uf069\\uf074\\uf069\\uf061\\uf06c\\uf020\\uf05b\\uf049\\uf060\\uf06e\\uf049\\uf053\\uf031\\uf06c\\uf05d adj. 初期的；n. [C] （姓名的）第一個字母\\uf020\\uf06c\\uf061\\uf067\\uf020\\uf05b\\uf06c\\uf038\\uf047\\uf05d\\uf020n. [C] / vi. 落後，間歇\\uf020\\uf06c\\uf061\\uf074\\uf065\\uf06c\\uf079\\uf020\\uf05b\\uf060\\uf06c\\uf065\\uf074\\uf06c\\uf049\\uf05d\\uf020adv. 最近\\uf020\\uf06c\\uf065\\uf069\\uf073\\uf075\\uf072\\uf065\\uf020\\uf05b\\uf060\\uf06c\\uf069\\uf05a\\uf032\\uf05d\\uf020n. [U] 閒暇，空閒時間\\uf020\\uf06c\\uf065\\uf069\\uf073\\uf075\\uf072\\uf065\\uf06c\\uf079\\uf05b\\uf060\\uf06c\\uf069\\uf05a\\uf032\\uf06c\\uf049\\uf05d\\uf020adj. 休閒的；adv. 從容不迫地\\uf020\\uf06c\\uf069\\uf066\\uf065\\uf074\\uf069\\uf06d\\uf065\\uf020\\uf05b\\uf060\\uf06c\\uf061\\uf049\\uf066\\uf026\\uf074\\uf061\\uf049\\uf06d\\uf05d\\uf020n. [C] (usu.sing.) 一生，終生\\uf020\\uf065\\uf06e\\uf064\\uf06c\\uf065\\uf073\\uf073\\uf020\\uf05b\\uf060\\uf045\\uf06e\\uf064\\uf06c\\uf049\\uf073\\uf05d\\uf020adj. 無窮無盡的，不斷的\\uf020\\uf070\\uf065\\uf072\\uf06d\\uf061\\uf06e\\uf065\\uf06e\\uf074\\uf020\\uf05b\\uf060\\uf070\\uf033\\uf06d\\uf031\\uf06e\\uf031\\uf06e\\uf074\\uf05d\\uf020adj. 永久性的，長久的\\uf020\\uf064\\uf075\\uf072\\uf061\\uf062\\uf06c\\uf065\\uf020\\uf05b\\uf060\\uf064\\uf06a\\uf055\\uf072\\uf031\\uf062\\uf04c\\uf05d\\uf020adj. 持久的，耐用的\\uf020\\uf063\\uf061\\uf073\\uf075\\uf061\\uf06c\\uf020\\uf05b\\uf060\\uf06b\\uf038\\uf05a\\uf055\\uf031\\uf06c\\uf05d\\uf020adj. 偶然的，臨時的；隨便的，非正式的\\uf020\\uf072\\uf065\\uf06d\\uf06f\\uf074\\uf065\\uf020\\uf05b\\uf072\\uf049\\uf060\\uf06d\\uf06f\\uf074\\uf05d\\uf020adj. 遙遠的，偏僻的，久遠的\\uf020\\uf06f\\uf076\\uf065\\uf072\\uf06e\\uf069\\uf067\\uf068\\uf074\\uf020\\uf05b\\uf060\\uf06f\\uf076\\uf032\\uf026\\uf06e\\uf061\\uf049\\uf074\\uf05d\\uf020adj. 突然的，很快的；adv. 一夕之間，整晚\\uf020\\x0cadv. f n.\\n\\'\\n\\n\\'\\n\\nadv.\\n\\nC&min (h)wafl]\\n[\\'naug,dez]\\nad\\'.\\n\\nmeanwhile\\nnowadays\\ncurrent\\nprevious Cprivlas] adj.\\nafterward(s) C&æftævv.d] adv.\\nsometime\\nadv.\\ndue [dju] ad\\'.\\nmidnight\\nschedule\\nawait\\n\\n[•mld,nalt]\\n[\\'skEd3ul]\\n\\n[a-wet] vt.\\n\\nn. [C]\\n\\nn. [C)\\n\\ntalm]\\n\\n,\\n\\n#MJfi\\n\\n;\\n\\n,\\n\\n\\'\\n\\n\\'\\n\\npause\\npostpone [post-pon]\\ndeadline\\n\\nlam] n.\\n\\n•ft.\\n\\n\\'\\n\\ncircumstance\\ncondition\\n\\nSituation\\n\\nCs3\\'kam,stæns]\\n\\nCkan&dlfan] n.\\n\\nn. [C] (usu.pl.)\\n\\'\\n\\n\\'\\n\\n\\'\\n\\nn.\\n\\nn. [C]\\n\\n[trend]\\n\\n[II-men]\\n\\n(kantekst]\\n\\nn. [C]\\nvi.\\n\\ncontext\\ntrend\\nremain\\nre ain [rften]\\npossess [pa us] Vt.(fml.)\\nobtain Cab-ten]\\n\\n\\'.t. (fml)\\n\\n\\'\\n\\n,\\n\\n,\\n\\nn. [C)\\n\\nsimilarity\\nresemble [rfz€mbl] Vt.\\ncorrespond [,kora-spand]\\nidentical\\nadi\\nfamiliar\\nconverse\\n\\n[aÜdent1kal]\\n[fa-mllja•] adj.\\nad\\'.\\n\\n,\\n\\n,\\n\\n_ETÄ\\n\\n,\\n\\n,\\n\\n\\'\\n\\n\\'\\n\\n; n.\\n\\n52  \\uf06d\\uf065\\uf061\\uf06e\\uf077\\uf068\\uf069\\uf06c\\uf065\\uf020\\uf05b\\uf060\\uf06d\\uf069\\uf06e\\uf026\\uf028\\uf068\\uf029\\uf077\\uf061\\uf049\\uf06c\\uf05d\\uf020adv. / n. 在此期間，同時\\uf020\\uf06e\\uf06f\\uf077\\uf061\\uf064\\uf061\\uf079\\uf073\\uf020\\uf05b\\uf060\\uf06e\\uf061\\uf035\\uf031\\uf026\\uf064\\uf065\\uf07a\\uf05d\\uf020adv. 當今，現今\\uf020\\uf063\\uf075\\uf072\\uf072\\uf065\\uf06e\\uf074\\uf020\\uf05b\\uf060\\uf06b\\uf033\\uf031\\uf06e\\uf074\\uf05d\\uf020adj. 現在的，當前的；水流，氣流\\uf020\\uf070\\uf072\\uf065\\uf076\\uf069\\uf06f\\uf075\\uf073\\uf020\\uf05b\\uf060\\uf070\\uf072\\uf069\\uf076\\uf049\\uf031\\uf073\\uf05d\\uf020adj. 先前的\\uf020\\uf061\\uf066\\uf074\\uf065\\uf072\\uf077\\uf061\\uf072\\uf064\\uf028\\uf073\\uf029\\uf020\\uf05b\\uf060\\uf038\\uf066\\uf074\\uf032\\uf077\\uf032\\uf064\\uf05d\\uf020adv. 後來，之後\\uf020\\uf073\\uf06f\\uf06d\\uf065\\uf074\\uf069\\uf06d\\uf065\\uf020\\uf05b\\uf060\\uf073\\uf05e\\uf06d\\uf026\\uf074\\uf061\\uf049\\uf06d\\uf05d\\uf020adv. 某個時候\\uf020\\uf064\\uf075\\uf065\\uf020\\uf05b\\uf064\\uf06a\\uf075\\uf05d\\uf020adj. 預期的，預計的，由於\\uf020\\uf06d\\uf069\\uf064\\uf06e\\uf069\\uf067\\uf068\\uf074\\uf020\\uf05b\\uf060\\uf06d\\uf049\\uf064\\uf026\\uf06e\\uf061\\uf049\\uf074\\uf05d\\uf020n. [C] 午夜\\uf020\\uf073\\uf063\\uf068\\uf065\\uf064\\uf075\\uf06c\\uf065\\uf020\\uf05b\\uf060\\uf073\\uf06b\\uf045\\uf064\\uf05a\\uf035\\uf06c\\uf05d\\uf020n. [C] 計劃表，日程表；vt. 為…排定時間\\uf020\\uf061\\uf077\\uf061\\uf069\\uf074\\uf020\\uf05b\\uf031\\uf060\\uf077\\uf065\\uf074\\uf05d vt. 等候，等待\\uf020\\uf070\\uf061\\uf075\\uf073\\uf065\\uf020\\uf05b\\uf070\\uf04f\\uf07a\\uf05d\\uf020n. [C] / vi. 暫停，停頓\\uf020\\uf070\\uf06f\\uf073\\uf074\\uf070\\uf06f\\uf06e\\uf065\\uf020\\uf05b\\uf070\\uf06f\\uf073\\uf074\\uf060\\uf070\\uf06f\\uf06e\\uf05d\\uf020vt. 延期，延緩\\uf020\\uf064\\uf065\\uf061\\uf064\\uf06c\\uf069\\uf06e\\uf065\\uf020\\uf05b\\uf060\\uf064\\uf045\\uf064\\uf026\\uf06c\\uf061\\uf049\\uf06e\\uf05d\\uf020n. 截止日，最後期限\\uf020 狀態 \\uf063\\uf069\\uf072\\uf063\\uf075\\uf06d\\uf073\\uf074\\uf061\\uf06e\\uf063\\uf065\\uf020\\uf05b\\uf060\\uf073\\uf033\\uf06b\\uf031\\uf06d\\uf026\\uf073\\uf074\\uf038\\uf06e\\uf073\\uf05d\\uf020n. [C] (usu. pl.) 條件，情況\\uf020\\uf063\\uf06f\\uf06e\\uf064\\uf069\\uf074\\uf069\\uf06f\\uf06e\\uf020\\uf05b\\uf06b\\uf031\\uf06e\\uf060\\uf064\\uf049\\uf053\\uf031\\uf06e\\uf05d\\uf020n. 狀況，狀態，條件\\uf020\\uf073\\uf069\\uf074\\uf075\\uf061\\uf074\\uf069\\uf06f\\uf06e\\uf020\\uf05b\\uf026\\uf073\\uf049\\uf074\\uf053\\uf035\\uf060\\uf065\\uf053\\uf031\\uf06e\\uf05d\\uf020n. [C] 處境，情況，形勢\\uf020\\uf063\\uf06f\\uf06e\\uf074\\uf065\\uf078\\uf074\\uf020\\uf05b\\uf060\\uf06b\\uf041\\uf06e\\uf074\\uf045\\uf06b\\uf073\\uf074\\uf05d\\uf020n. [C] （事件的）背景，環境，上下文\\uf020\\uf074\\uf072\\uf065\\uf06e\\uf064\\uf020\\uf05b\\uf074\\uf072\\uf045\\uf06e\\uf064\\uf05d\\uf020n. [C] 趨勢，潮流\\uf020\\uf072\\uf065\\uf06d\\uf061\\uf069\\uf06e\\uf020\\uf05b\\uf072\\uf049\\uf060\\uf06d\\uf065\\uf06e\\uf05d\\uf020vi. 保持不變，依然是\\uf020\\uf072\\uf065\\uf074\\uf061\\uf069\\uf06e\\uf020\\uf05b\\uf072\\uf049\\uf060\\uf074\\uf065\\uf06e\\uf05d\\uf020vt. (fml.) 保持，保留，保有\\uf020\\uf070\\uf06f\\uf073\\uf073\\uf065\\uf073\\uf073\\uf020\\uf05b\\uf070\\uf031\\uf060\\uf07a\\uf045\\uf073\\uf05d\\uf020vt. (fml.) 擁有\\uf020\\uf06f\\uf062\\uf074\\uf061\\uf069\\uf06e\\uf020\\uf05b\\uf031\\uf062\\uf060\\uf074\\uf065\\uf06e\\uf05d\\uf020vt. 獲得，贏得\\uf020 異同 \\uf073\\uf069\\uf06d\\uf069\\uf06c\\uf061\\uf072\\uf069\\uf074\\uf079\\uf020\\uf05b\\uf026\\uf073\\uf049\\uf06d\\uf031\\uf060\\uf06c\\uf038\\uf072\\uf031\\uf074\\uf049\\uf05d\\uf020n. [C] 相似處，類似點\\uf020\\uf072\\uf065\\uf073\\uf065\\uf06d\\uf062\\uf06c\\uf065\\uf020\\uf05b\\uf072\\uf049\\uf060\\uf07a\\uf045\\uf06d\\uf062\\uf04c\\uf05d\\uf020vt. 和…相似\\uf020\\uf063\\uf06f\\uf072\\uf072\\uf065\\uf073\\uf070\\uf06f\\uf06e\\uf064\\uf020\\uf05b\\uf026\\uf06b\\uf04f\\uf072\\uf031\\uf060\\uf073\\uf070\\uf041\\uf06e\\uf064\\uf05d\\uf020vi. 符合，一致\\uf020\\uf069\\uf064\\uf065\\uf06e\\uf074\\uf069\\uf063\\uf061\\uf06c\\uf020\\uf05b\\uf061\\uf049\\uf060\\uf064\\uf045\\uf06e\\uf074\\uf049\\uf06b\\uf031\\uf06c\\uf05d\\uf020adj. 一模一樣、相同的\\uf020\\uf066\\uf061\\uf06d\\uf069\\uf06c\\uf069\\uf061\\uf072\\uf020\\uf05b\\uf066\\uf031\\uf060\\uf06d\\uf049\\uf06c\\uf06a\\uf032\\uf05d\\uf020adj. 熟悉的，眾所皆知的\\uf020\\uf063\\uf06f\\uf06e\\uf076\\uf065\\uf072\\uf073\\uf065\\uf020\\uf05b\\uf060\\uf06b\\uf041\\uf06e\\uf026\\uf076\\uf033\\uf073\\uf05d\\uf020adj. 相反的；n. [S] 相反，相反的事物\\uf020\\x0cdiffer\\n\\nvi.\\n\\nvary\\ndistinguish\\ncomparison\\n\\n\\'\\n\\n; Vt.\\n\\nvi.\\n[dÜst10gw1f] Vt.\\n[kam-pærlsan] n.\\n\\n\\'\\n\\n\\'\\n\\ndue [dju] adj.\\nsake [sek] n. [C]\\nstem [stem] n. [C]\\ncontribute\\nprompt\\naffect\\nimpact Clmpækt] vi. / n. [C] (usu.sing.)\\nconsequence (kansa,kwens]\\noutcome\\n\\n[kan-tnbjut]\\nadj.\\n\\nCaut,kAm] n. [C]\\n\\n\\'\\n; •ft.\\n\\n[prompt]\\n\\n[$fEkt]\\n\\nn. [C]\\n\\nvi.\\n\\ndeserve\\n\\n,\\n\\n; ft.\\n\\n;\\n\\n[U]\\n\\n,\\n\\nmeaningful\\n\\nadj.\\n\\n(mimofal]\\n[prfsals] adj.\\nadj.\\n\\n\\'\\n\\nadj.\\n\\n[a-propriat]\\n\\n(prapæ] adj.\\nadj.\\n\\ntruthful\\ngenuine Üd3Enjum] ad\\'.\\nappropriate\\nproper\\nsuitable (sutab!]\\npreferable Cprefaæb!] adj.\\nmagnificent\\nrespectable [rüspEktab!] adj.\\ninfluential\\nadj.\\ndesirable [dÜzanab!] adj.\\nbrilliant\\n\\nÜbrlljant]\\n\\nadj.\\n\\nadi\\n\\n;\\n\\n\\'\\n\\n\\'\\n\\n.\\n\\n\\'\\n\\n\\'\\n\\n,\\n\\n53  \\uf064\\uf069\\uf066\\uf066\\uf065\\uf072\\uf020\\uf05b\\uf060\\uf064\\uf049\\uf066\\uf032\\uf05d\\uf020vi. 不同，差異\\uf020\\uf076\\uf061\\uf072\\uf079\\uf020\\uf05b\\uf060\\uf076\\uf045\\uf072\\uf049\\uf05d\\uf020vi. 不同，變化；vt. 改變\\uf020\\uf064\\uf069\\uf073\\uf074\\uf069\\uf06e\\uf067\\uf075\\uf069\\uf073\\uf068\\uf020\\uf05b\\uf064\\uf049\\uf060\\uf073\\uf074\\uf049\\uf039\\uf047\\uf077\\uf049\\uf053\\uf05d\\uf020vt. 分辨，區別\\uf020\\uf063\\uf06f\\uf06d\\uf070\\uf061\\uf072\\uf069\\uf073\\uf06f\\uf06e\\uf020\\uf05b\\uf06b\\uf031\\uf06d\\uf060\\uf070\\uf038\\uf072\\uf049\\uf073\\uf031\\uf06e\\uf05d\\uf020n. 相較，相比\\uf020 因果 \\uf064\\uf075\\uf065\\uf020\\uf05b\\uf064\\uf06a\\uf075\\uf05d\\uf020adj. 預期的，預計的，由於\\uf020\\uf073\\uf061\\uf06b\\uf065\\uf020\\uf05b\\uf073\\uf065\\uf06b\\uf05d\\uf020n. [C] 理由，緣故\\uf020\\uf073\\uf074\\uf065\\uf06d\\uf020\\uf05b\\uf073\\uf074\\uf045\\uf06d\\uf05d\\uf020n. [C] 莖；vi. 起因於；vt. 阻止\\uf020\\uf063\\uf06f\\uf06e\\uf074\\uf072\\uf069\\uf062\\uf075\\uf074\\uf065\\uf020\\uf05b\\uf06b\\uf031\\uf06e\\uf060\\uf074\\uf072\\uf049\\uf062\\uf06a\\uf075\\uf074\\uf05d\\uf020vi. 促成，造成；vt. 捐助，捐獻\\uf020\\uf070\\uf072\\uf06f\\uf06d\\uf070\\uf074\\uf020\\uf05b\\uf070\\uf072\\uf041\\uf06d\\uf070\\uf074\\uf05d\\uf020adj. 立即的；vt. 促使\\uf020\\uf061\\uf066\\uf066\\uf065\\uf063\\uf074\\uf020\\uf05b\\uf031\\uf060\\uf066\\uf045\\uf06b\\uf074\\uf05d\\uf020vt. 影響\\uf020\\uf069\\uf06d\\uf070\\uf061\\uf063\\uf074\\uf020\\uf05b\\uf060\\uf049\\uf06d\\uf070\\uf038\\uf06b\\uf074\\uf05d\\uf020vi. / n. [C] (usu. sing.) 影響； [U] 撞擊，碰撞\\uf020\\uf063\\uf06f\\uf06e\\uf073\\uf065\\uf071\\uf075\\uf065\\uf06e\\uf063\\uf065\\uf020\\uf05b\\uf060\\uf06b\\uf041\\uf06e\\uf073\\uf031\\uf026\\uf06b\\uf077\\uf045\\uf06e\\uf073\\uf05d\\uf020n. [C] 結果，後果\\uf020\\uf06f\\uf075\\uf074\\uf063\\uf06f\\uf06d\\uf065\\uf020\\uf05b\\uf060\\uf061\\uf055\\uf074\\uf026\\uf06b\\uf05e\\uf06d\\uf05d n. [C] 結果\\uf020\\uf064\\uf065\\uf073\\uf065\\uf072\\uf076\\uf065\\uf020\\uf05b\\uf064\\uf049\\uf060\\uf07a\\uf033\\uf076\\uf05d\\uf020vt. 值得，應該得到\\uf020 修飾語 《正向》\\uf020\\uf06d\\uf065\\uf061\\uf06e\\uf069\\uf06e\\uf067\\uf066\\uf075\\uf06c\\uf020\\uf05b\\uf060\\uf06d\\uf069\\uf06e\\uf049\\uf039\\uf066\\uf031\\uf06c\\uf05d\\uf020adj. 有意義的\\uf020\\uf070\\uf072\\uf065\\uf063\\uf069\\uf073\\uf065\\uf020\\uf05b\\uf070\\uf072\\uf049\\uf060\\uf073\\uf061\\uf049\\uf073\\uf05d\\uf020adj. 精確的，正確的\\uf020\\uf074\\uf072\\uf075\\uf074\\uf068\\uf066\\uf075\\uf06c\\uf020\\uf05b\\uf060\\uf074\\uf072\\uf075\\uf054\\uf066\\uf031\\uf06c\\uf05d\\uf020adj. 誠實的，真實的\\uf020\\uf067\\uf065\\uf06e\\uf075\\uf069\\uf06e\\uf065\\uf020\\uf05b\\uf060\\uf064\\uf05a\\uf045\\uf06e\\uf06a\\uf075\\uf049\\uf06e\\uf05d\\uf020adj. 真正的；正版的\\uf020\\uf061\\uf070\\uf070\\uf072\\uf06f\\uf070\\uf072\\uf069\\uf061\\uf074\\uf065\\uf020\\uf05b\\uf031\\uf060\\uf070\\uf072\\uf06f\\uf070\\uf072\\uf069\\uf031\\uf074\\uf05d\\uf020adj. 適當的，合適的\\uf020\\uf070\\uf072\\uf06f\\uf070\\uf065\\uf072\\uf020\\uf05b\\uf060\\uf070\\uf072\\uf041\\uf070\\uf032\\uf05d\\uf020adj. 正確的，適當的\\uf020\\uf073\\uf075\\uf069\\uf074\\uf061\\uf062\\uf06c\\uf065\\uf020\\uf05b\\uf060\\uf073\\uf075\\uf074\\uf031\\uf062\\uf04c\\uf05d\\uf020adj. 適合的\\uf020\\uf070\\uf072\\uf065\\uf066\\uf065\\uf072\\uf061\\uf062\\uf06c\\uf065\\uf020\\uf05b\\uf060\\uf070\\uf072\\uf045\\uf066\\uf031\\uf072\\uf031\\uf062\\uf04c\\uf05d\\uf020adj. 更合適的，更好的\\uf020\\uf06d\\uf061\\uf067\\uf06e\\uf069\\uf066\\uf069\\uf063\\uf065\\uf06e\\uf074\\uf020\\uf05b\\uf06d\\uf038\\uf047\\uf060\\uf06e\\uf049\\uf066\\uf031\\uf073\\uf04e\\uf074\\uf05d\\uf020adj. 值得讚揚的，壯麗的\\uf020\\uf072\\uf065\\uf073\\uf070\\uf065\\uf063\\uf074\\uf061\\uf062\\uf06c\\uf065\\uf020\\uf05b\\uf072\\uf049\\uf060\\uf073\\uf070\\uf045\\uf06b\\uf074\\uf031\\uf062\\uf04c\\uf05d\\uf020adj. 值得尊敬的，相當不錯的\\uf020\\uf069\\uf06e\\uf066\\uf06c\\uf075\\uf065\\uf06e\\uf074\\uf069\\uf061\\uf06c\\uf020\\uf05b\\uf026\\uf049\\uf06e\\uf066\\uf06c\\uf035\\uf060\\uf045\\uf06e\\uf053\\uf031\\uf06c\\uf05d\\uf020adj. 有影響力的\\uf020\\uf064\\uf065\\uf073\\uf069\\uf072\\uf061\\uf062\\uf06c\\uf065\\uf020\\uf05b\\uf064\\uf049\\uf060\\uf07a\\uf061\\uf049\\uf072\\uf031\\uf062\\uf04c\\uf05d\\uf020adj. 值得嚮往、值得擁有的\\uf020\\uf062\\uf072\\uf069\\uf06c\\uf06c\\uf069\\uf061\\uf06e\\uf074\\uf020\\uf05b\\uf060\\uf062\\uf072\\uf049\\uf06c\\uf06a\\uf031\\uf06e\\uf074\\uf05d\\uf020adj. 明亮的，出色的\\uf020\\x0c\\'\\n; adj.\\n\\'\\n\\n,\\n\\n, hRfi\\n\\n;\\n\\n;\\n\\nad\\'.\\n\\n,\\n\\n;\\n\\n\\'\\n\\'\\n\\n\\'\\n\\nrx [C] (usupl.)\\nadj.\\nad\\'.\\n[kan-vin•ans]\\nadj.\\n\\nn. [U)\\n\\nn. [U]\\n\\n,\\n\\n\\'\\n\\n[fæn-tæstlk]\\nadj.\\n(fevarab!] ad\\'.\\n\\nvivid C&vrvld] ad\\'.\\nmagical Ümæ.*lk!] adj.\\ndarling\\nfantastic\\nfau)rable\\nfancy\\nprecious Cprefas] adj\\nconsiderable\\nvaluable Cvæljabl] adj.\\nvital Cvartl] adj.\\n[Üsenfal]\\nessential\\n\\nadj.\\n\\nadj.\\n\\n[patfEkfan]\\n[•930] adi\\n\\nfunctional\\npractical\\nconvenience\\nideal\\nperfection\\nthorough\\npure [pjur] ad\\'.\\nprime [pralm] adj.\\ndominant\\nsuperior\\n[s.-pma] adj.\\ndurable Cdjurabl] adj.\\ncapable Ckepab!] adj.\\ncapacity [ka-pæsatl] n. [C)\\nsufficient\\nunique\\n\\n[sa&ftfant]\\nad\\'.\\n\\n(damanant]\\n\\n[ju-nik]\\n\\nadj\\n\\n,\\n\\n\\'\\nadj.\\n\\n(dEfamt]\\n\\ntypical Ctlplk!] adj.\\ncharacteristic\\ndefinite\\nadj.\\nspecific [spa•slflk] adj.\\napparent\\nobvious Cabvlas]\\n\\nadj.\\n\\n[a-pærant] ad\\'.\\n\\n; n. [S]\\n\\'\\n\\' _E*fi\\n\\n; n.\\n\\n\\'\\n\\'\\n\\n\\'\\n\\n\\'\\n\\n,\\n\\n\\'\\n\\nn. [C]\\n\\n\\'\\n\\n, adj.\\n\\n\\'\\n\\n\\'\\n\\n54  \\uf076\\uf069\\uf076\\uf069\\uf064\\uf020\\uf05b\\uf060\\uf076\\uf049\\uf076\\uf049\\uf064\\uf05d\\uf020adj. 生動的\\uf020\\uf06d\\uf061\\uf067\\uf069\\uf063\\uf061\\uf06c\\uf020\\uf05b\\uf060\\uf06d\\uf038\\uf037\\uf049\\uf06b\\uf04c\\uf05d\\uf020adj. 魔術的，神奇的\\uf020\\uf064\\uf061\\uf072\\uf06c\\uf069\\uf06e\\uf067\\uf020\\uf05b\\uf060\\uf064\\uf041\\uf072\\uf06c\\uf049\\uf039\\uf05d\\uf020n. [C] 親愛的；adj. 吸引人的，可愛的\\uf020\\uf066\\uf061\\uf06e\\uf074\\uf061\\uf073\\uf074\\uf069\\uf063\\uf020\\uf05b\\uf066\\uf038\\uf06e\\uf060\\uf074\\uf038\\uf073\\uf074\\uf049\\uf06b\\uf05d\\uf020adj. 極好的，幻想的\\uf020\\uf066\\uf061\\uf076\\uf06f\\uf072\\uf061\\uf062\\uf06c\\uf065\\uf020\\uf05b\\uf060\\uf066\\uf065\\uf076\\uf031\\uf072\\uf031\\uf062\\uf04c\\uf05d adj. 有利的\\uf020\\uf066\\uf061\\uf06e\\uf063\\uf079\\uf020\\uf05b\\uf060\\uf066\\uf038\\uf06e\\uf073\\uf049\\uf05d\\uf020adj. 別緻的，昂貴的；n. [U] 愛好，想像力；vt. 想像\\uf020\\uf070\\uf072\\uf065\\uf063\\uf069\\uf06f\\uf075\\uf073\\uf020\\uf05b\\uf060\\uf070\\uf072\\uf045\\uf053\\uf031\\uf073\\uf05d\\uf020adj. 貴重的，珍貴的\\uf020\\uf063\\uf06f\\uf06e\\uf073\\uf069\\uf064\\uf065\\uf072\\uf061\\uf062\\uf06c\\uf065\\uf020\\uf05b\\uf06b\\uf031\\uf06e\\uf060\\uf073\\uf049\\uf064\\uf031\\uf072\\uf031\\uf062\\uf04c\\uf05d\\uf020adj. 相當多，相當大；相當重要的\\uf020\\uf076\\uf061\\uf06c\\uf075\\uf061\\uf062\\uf06c\\uf065\\uf020\\uf05b\\uf060\\uf076\\uf038\\uf06c\\uf06a\\uf031\\uf062\\uf04c\\uf05d\\uf020adj. 很有用的，很重要的；貴重的，有價值的\\uf020\\uf076\\uf069\\uf074\\uf061\\uf06c\\uf020\\uf05b\\uf060\\uf076\\uf061\\uf049\\uf074\\uf04c\\uf05d\\uf020adj. 維持生命必需的，極重要的\\uf020\\uf065\\uf073\\uf073\\uf065\\uf06e\\uf074\\uf069\\uf061\\uf06c\\uf020\\uf05b\\uf049\\uf060\\uf073\\uf045\\uf06e\\uf053\\uf031\\uf06c\\uf05d\\uf020adj. 必需的，不可或缺的； n. [C] (usu. pl.) 必需品，不可或缺的東西\\uf020\\uf066\\uf075\\uf06e\\uf063\\uf074\\uf069\\uf06f\\uf06e\\uf061\\uf06c\\uf020\\uf05b\\uf060\\uf066\\uf05e\\uf039\\uf06b\\uf053\\uf031\\uf06e\\uf04c\\uf05d\\uf020adj. 功用的，實用的\\uf020\\uf070\\uf072\\uf061\\uf063\\uf074\\uf069\\uf063\\uf061\\uf06c\\uf020\\uf05b\\uf060\\uf070\\uf072\\uf038\\uf06b\\uf074\\uf049\\uf06b\\uf031\\uf06c\\uf05d\\uf020adj. 實用的，實際的\\uf020\\uf063\\uf06f\\uf06e\\uf076\\uf065\\uf06e\\uf069\\uf065\\uf06e\\uf063\\uf065\\uf020\\uf05b\\uf06b\\uf031\\uf06e\\uf060\\uf076\\uf069\\uf06e\\uf06a\\uf031\\uf06e\\uf073\\uf05d\\uf020n. [U] 方便，便利性\\uf020\\uf069\\uf064\\uf065\\uf061\\uf06c\\uf020\\uf05b\\uf061\\uf049\\uf060\\uf064\\uf069\\uf031\\uf06c\\uf05d\\uf020adj. 理想的；n. [C] 理想\\uf020\\uf070\\uf065\\uf072\\uf066\\uf065\\uf063\\uf074\\uf069\\uf06f\\uf06e\\uf020\\uf05b\\uf070\\uf032\\uf060\\uf066\\uf045\\uf06b\\uf053\\uf031\\uf06e\\uf05d\\uf020n. [U] 完美\\uf020\\uf074\\uf068\\uf06f\\uf072\\uf06f\\uf075\\uf067\\uf068\\uf020\\uf05b\\uf060\\uf054\\uf033\\uf06f\\uf05d\\uf020adj. 詳盡的，完備的\\uf020\\uf070\\uf075\\uf072\\uf065\\uf020\\uf05b\\uf070\\uf06a\\uf055\\uf072\\uf05d\\uf020adj. 純粹的，純潔的\\uf020\\uf070\\uf072\\uf069\\uf06d\\uf065\\uf020\\uf05b\\uf070\\uf072\\uf061\\uf049\\uf06d\\uf05d\\uf020adj. 主要的，最好的；n. [S] 精華部分\\uf020\\uf064\\uf06f\\uf06d\\uf069\\uf06e\\uf061\\uf06e\\uf074\\uf020\\uf05b\\uf060\\uf064\\uf041\\uf06d\\uf031\\uf06e\\uf031\\uf06e\\uf074\\uf05d adj. 支配的，主要的\\uf020\\uf073\\uf075\\uf070\\uf065\\uf072\\uf069\\uf06f\\uf072\\uf020\\uf05b\\uf073\\uf031\\uf060\\uf070\\uf049\\uf072\\uf049\\uf031\\uf05d\\uf020adj. 較優的，上等的；n. 上級長官\\uf020\\uf064\\uf075\\uf072\\uf061\\uf062\\uf06c\\uf065\\uf020\\uf05b\\uf060\\uf064\\uf06a\\uf055\\uf072\\uf031\\uf062\\uf04c\\uf05d\\uf020adj. 持久的，耐用的\\uf020\\uf063\\uf061\\uf070\\uf061\\uf062\\uf06c\\uf065\\uf020\\uf05b\\uf060\\uf06b\\uf065\\uf070\\uf031\\uf062\\uf04c\\uf05d\\uf020adj. 有能力的，能做出…的\\uf020\\uf063\\uf061\\uf070\\uf061\\uf063\\uf069\\uf074\\uf079\\uf020\\uf05b\\uf06b\\uf031\\uf060\\uf070\\uf038\\uf073\\uf031\\uf074\\uf049\\uf05d\\uf020n. [C] 容量，能力\\uf020\\uf073\\uf075\\uf066\\uf066\\uf069\\uf063\\uf069\\uf065\\uf06e\\uf074\\uf020\\uf05b\\uf073\\uf031\\uf060\\uf066\\uf049\\uf053\\uf031\\uf06e\\uf074\\uf05d\\uf020adj. 充足的，足夠的\\uf020\\uf075\\uf06e\\uf069\\uf071\\uf075\\uf065\\uf020\\uf05b\\uf06a\\uf075\\uf060\\uf06e\\uf069\\uf06b\\uf05d\\uf020adj. 獨特的，獨一無二的\\uf020《中性》 \\uf074\\uf079\\uf070\\uf069\\uf063\\uf061\\uf06c\\uf020\\uf05b\\uf060\\uf074\\uf049\\uf070\\uf049\\uf06b\\uf04c\\uf05d\\uf020adj. 典型的，具代表性的\\uf020\\uf063\\uf068\\uf061\\uf072\\uf061\\uf063\\uf074\\uf065\\uf072\\uf069\\uf073\\uf074\\uf069\\uf063\\uf020\\uf05b\\uf026\\uf06b\\uf038\\uf072\\uf031\\uf06b\\uf074\\uf031\\uf060\\uf072\\uf049\\uf073\\uf074\\uf049\\uf06b\\uf05d\\uf020n. [C] 特色，特徵；adj. 特有、典型的\\uf020\\uf064\\uf065\\uf066\\uf069\\uf06e\\uf069\\uf074\\uf065\\uf020\\uf05b\\uf060\\uf064\\uf045\\uf066\\uf031\\uf06e\\uf049\\uf074\\uf05d\\uf020adj. 明確的，確定的\\uf020\\uf073\\uf070\\uf065\\uf063\\uf069\\uf066\\uf069\\uf063\\uf020\\uf05b\\uf073\\uf070\\uf031\\uf060\\uf073\\uf049\\uf066\\uf049\\uf06b\\uf05d\\uf020adj. 特定的，特有的，明確的\\uf020\\uf061\\uf070\\uf070\\uf061\\uf072\\uf065\\uf06e\\uf074\\uf020\\uf05b\\uf031\\uf060\\uf070\\uf038\\uf072\\uf031\\uf06e\\uf074\\uf05d\\uf020adj. 明顯的，顯而易見的\\uf020\\uf06f\\uf062\\uf076\\uf069\\uf06f\\uf075\\uf073\\uf020\\uf05b\\uf060\\uf041\\uf062\\uf076\\uf049\\uf031\\uf073\\uf05d\\uf020adj. 明顯的，顯然的\\uf020\\x0c\\'\\n\\n\\'\\n\\n; n.\\n\\n; n. [C]\\nBJf5-\\'±S ,\\n\\nad\\'.\\n\\nn. [U]\\n\\nad\\'.\\n\\n(norm!]\\n\\n[dr$mætlk]\\n\\nstriking\\ndramatic\\nabstract Üæbstrækt] adj.\\nacceptable [ak-septabl] adj.\\nacceptance [arseptans]\\nnormal\\nadj.\\nreasonable Frizznab!] adj.\\nhabitual\\nad\\'.\\nportable\\nrelative CIElat1V] adj.\\nroutine\\nad\\'.\\nsteady\\nrealistic\\nspare [sper] •ft.\\nempty\\n(Emptl]\\nloose [lus] ad\\'.\\n[tart] adj.\\ntight\\nadj.\\nsticky\\n[stlkl]\\nshiny\\nadj.\\n[Jam:]\\nstiff\\ndelicate Cdellkat]\\n\\n[liftin]\\n(stEdI]\\n\\nad\\'.\\n\\'\\n\\nadj.\\n\\nadj.\\n\\nadj.\\n\\nadj.\\n\\n\\'\\n\\n;\\n\\n\\'\\n\\n; n. [U)\\n\\'\\n\\n\\'\\n\\n\\'\\n\\n; adj.\\n\\n\\'\\n\\n,\\n\\n;\\n\\n; Vt.\\n\\nadj.\\n\\n[smud]\\n\\nsensitive\\nsmooth\\nslippery C&sllpan] adj.\\nflexible\\nadj.\\nmobile (mob!]\\nunknown\\nadj.\\nprobable [&prabab!] ad\\'.\\nunexFted\\nunlikely\\nrelative Crelatlv]\\n\\n[An lalkll]\\n\\n[An-non]\\n\\nadj.\\n\\nadj.\\n\\nawkward C&okwa--d]adj.\\nawful\\n\\n(of!] adj.\\n\\n,\\n\\n[,Amk-spekt1d] adj.\\n\\n\\'\\n\\n\\'\\n\\n; n. [C]\\n\\n\\'\\n\\n55  \\uf073\\uf074\\uf072\\uf069\\uf06b\\uf069\\uf06e\\uf067\\uf020\\uf05b\\uf060\\uf073\\uf074\\uf072\\uf061\\uf049\\uf06b\\uf049\\uf039\\uf05d\\uf020adj. 明顯的，醒目的\\uf020\\uf064\\uf072\\uf061\\uf06d\\uf061\\uf074\\uf069\\uf063\\uf020\\uf05b\\uf064\\uf072\\uf031\\uf060\\uf06d\\uf038\\uf074\\uf049\\uf06b\\uf05d\\uf020adj. 戲劇性的，誇張的\\uf020\\uf061\\uf062\\uf073\\uf074\\uf072\\uf061\\uf063\\uf074\\uf020\\uf05b\\uf060\\uf038\\uf062\\uf073\\uf074\\uf072\\uf038\\uf06b\\uf074\\uf05d\\uf020adj. 抽象的\\uf020\\uf061\\uf063\\uf063\\uf065\\uf070\\uf074\\uf061\\uf062\\uf06c\\uf065\\uf020\\uf05b\\uf031\\uf06b\\uf060\\uf073\\uf045\\uf070\\uf074\\uf031\\uf062\\uf04c\\uf05d\\uf020adj. 可接受的\\uf020\\uf061\\uf063\\uf063\\uf065\\uf070\\uf074\\uf061\\uf06e\\uf063\\uf065\\uf020\\uf05b\\uf031\\uf06b\\uf060\\uf073\\uf045\\uf070\\uf074\\uf031\\uf06e\\uf073\\uf05d\\uf020n. [U] 接受，收下\\uf020\\uf06e\\uf06f\\uf072\\uf06d\\uf061\\uf06c\\uf020\\uf05b\\uf060\\uf06e\\uf04f\\uf072\\uf06d\\uf04c\\uf05d\\uf020adj. 正常的；n. [U] 正常\\uf020\\uf072\\uf065\\uf061\\uf073\\uf06f\\uf06e\\uf061\\uf062\\uf06c\\uf065\\uf020\\uf05b\\uf060\\uf072\\uf069\\uf07a\\uf031\\uf06e\\uf031\\uf062\\uf04c\\uf05d\\uf020adj. 合理的，有理由的\\uf020\\uf068\\uf061\\uf062\\uf069\\uf074\\uf075\\uf061\\uf06c\\uf020\\uf05b\\uf068\\uf031\\uf060\\uf062\\uf049\\uf074\\uf053\\uf055\\uf031\\uf06c\\uf05d\\uf020adj. 習慣的，慣常的\\uf020\\uf070\\uf06f\\uf072\\uf074\\uf061\\uf062\\uf06c\\uf065\\uf020\\uf05b\\uf060\\uf070\\uf04f\\uf072\\uf074\\uf031\\uf062\\uf04c\\uf05d\\uf020adj. 可攜帶的，手提的\\uf020\\uf072\\uf065\\uf06c\\uf061\\uf074\\uf069\\uf076\\uf065\\uf020\\uf05b\\uf060\\uf072\\uf045\\uf06c\\uf031\\uf074\\uf049\\uf076\\uf05d\\uf020adj. 有關聯的，相對的，相當的；n. [C] 親戚\\uf020\\uf072\\uf06f\\uf075\\uf074\\uf069\\uf06e\\uf065\\uf020\\uf05b\\uf072\\uf075\\uf060\\uf074\\uf069\\uf06e\\uf05d\\uf020adj. 例行的，慣例的；n. [U] 例行公事，慣例\\uf020\\uf073\\uf074\\uf065\\uf061\\uf064\\uf079\\uf020\\uf05b\\uf060\\uf073\\uf074\\uf045\\uf064\\uf049\\uf05d\\uf020adj. 穩定的，持續的，漸進的\\uf020\\uf072\\uf065\\uf061\\uf06c\\uf069\\uf073\\uf074\\uf069\\uf063\\uf020\\uf05b\\uf026\\uf072\\uf049\\uf031\\uf060\\uf06c\\uf049\\uf073\\uf074\\uf049\\uf06b\\uf05d\\uf020adj. 現實的，實際的\\uf020\\uf073\\uf070\\uf061\\uf072\\uf065\\uf020\\uf05b\\uf073\\uf070\\uf045\\uf072\\uf05d\\uf020vt. 節省，饒恕；adj. 備用的\\uf020\\uf065\\uf06d\\uf070\\uf074\\uf079\\uf020\\uf05b\\uf060\\uf045\\uf06d\\uf070\\uf074\\uf049\\uf05d\\uf020adj. 空的；vt. 使變空\\uf020\\uf06c\\uf06f\\uf06f\\uf073\\uf065\\uf020\\uf05b\\uf06c\\uf075\\uf073\\uf05d\\uf020adj. 寬鬆的，鬆脫的\\uf020\\uf074\\uf069\\uf067\\uf068\\uf074\\uf020\\uf05b\\uf074\\uf061\\uf049\\uf074\\uf05d\\uf020adj. 緊的\\uf020\\uf073\\uf074\\uf069\\uf063\\uf06b\\uf079\\uf020\\uf05b\\uf073\\uf074\\uf049\\uf06b\\uf049\\uf05d\\uf020adj. 黏的\\uf020\\uf073\\uf068\\uf069\\uf06e\\uf079\\uf020\\uf05b\\uf060\\uf053\\uf061\\uf049\\uf06e\\uf049\\uf05d\\uf020adj. 發亮的，有光澤的\\uf020\\uf073\\uf074\\uf069\\uf066\\uf066\\uf020\\uf05b\\uf073\\uf074\\uf049\\uf066\\uf05d\\uf020adj. 硬的，激烈的，嚴厲的\\uf020\\uf064\\uf065\\uf06c\\uf069\\uf063\\uf061\\uf074\\uf065\\uf020\\uf05b\\uf060\\uf064\\uf045\\uf06c\\uf049\\uf06b\\uf031\\uf074\\uf05d\\uf020adj. 脆弱的，易碎的；精緻的\\uf020\\uf073\\uf065\\uf06e\\uf073\\uf069\\uf074\\uf069\\uf076\\uf065\\uf020\\uf05b\\uf060\\uf073\\uf045\\uf06e\\uf073\\uf031\\uf074\\uf049\\uf076\\uf05d\\uf020adj. 敏感的，需審慎處理的\\uf020\\uf073\\uf06d\\uf06f\\uf06f\\uf074\\uf068\\uf020\\uf05b\\uf073\\uf06d\\uf075\\uf044\\uf05d\\uf020adj. 平滑的，順利的；vt. 使平整，使光滑\\uf020\\uf073\\uf06c\\uf069\\uf070\\uf070\\uf065\\uf072\\uf079\\uf020\\uf05b\\uf060\\uf073\\uf06c\\uf049\\uf070\\uf031\\uf072\\uf049\\uf05d\\uf020adj. 滑溜溜的\\uf020\\uf066\\uf06c\\uf065\\uf078\\uf069\\uf062\\uf06c\\uf065\\uf020\\uf05b\\uf060\\uf066\\uf06c\\uf045\\uf06b\\uf073\\uf031\\uf062\\uf04c\\uf05d\\uf020adj. 有彈性的\\uf020\\uf06d\\uf06f\\uf062\\uf069\\uf06c\\uf065\\uf020\\uf05b\\uf060\\uf06d\\uf06f\\uf062\\uf04c\\uf05d\\uf020adj. 可移動的，流動的\\uf020\\uf075\\uf06e\\uf06b\\uf06e\\uf06f\\uf077\\uf06e\\uf020\\uf05b\\uf05e\\uf06e\\uf060\\uf06e\\uf06f\\uf06e\\uf05d\\uf020adj. 未知的\\uf020\\uf070\\uf072\\uf06f\\uf062\\uf061\\uf062\\uf06c\\uf065\\uf020\\uf05b\\uf060\\uf070\\uf072\\uf041\\uf062\\uf031\\uf062\\uf04c\\uf05d\\uf020adj. 有可能的\\uf020\\uf075\\uf06e\\uf065\\uf078\\uf070\\uf065\\uf063\\uf074\\uf065\\uf064\\uf020\\uf05b\\uf026\\uf05e\\uf06e\\uf049\\uf06b\\uf060\\uf073\\uf070\\uf045\\uf06b\\uf074\\uf049\\uf064\\uf05d\\uf020adj. 意外的，沒料到的\\uf020\\uf075\\uf06e\\uf06c\\uf069\\uf06b\\uf065\\uf06c\\uf079\\uf020\\uf05b\\uf05e\\uf06e\\uf060\\uf06c\\uf061\\uf049\\uf06b\\uf06c\\uf049\\uf05d\\uf020adj. 不大可能的\\uf020\\uf072\\uf065\\uf06c\\uf061\\uf074\\uf069\\uf076\\uf065\\uf020\\uf05b\\uf060\\uf072\\uf045\\uf06c\\uf031\\uf074\\uf049\\uf076\\uf05d\\uf020adj. 有關聯的，相對的，相當的；n. [C] 親戚\\uf020《負向》 \\uf061\\uf077\\uf06b\\uf077\\uf061\\uf072\\uf064\\uf020\\uf05b\\uf060\\uf04f\\uf06b\\uf077\\uf032\\uf064\\uf05d\\uf020adj. 笨拙的，令人尷尬的\\uf020\\uf061\\uf077\\uf066\\uf075\\uf06c\\uf020\\uf05b\\uf060\\uf04f\\uf066\\uf04c\\uf05d\\uf020adj. 糟糕的，很差的\\uf020\\x0cbadly C&bædll] adv.\\n\\n(A)\\n\\nadj.\\nadj.\\n\\nsevere\\ntricky\\ntough\\nscary cskE11] adj.\\nbrutal Cbrutl] adj.\\ncruelty Ckrualtl]\\nn.\\nlimitation\\n[,llm$tefan]\\nneedy Cnidl]\\nodd [ad] adj.\\npeculiar\\ndoubtful\\nrisk\\n\\n[pÜkjuljæ]\\nCdautfal]\\n\\n[risk] n.\\n\\nadi\\n\\n\\'\\nadj.\\nad\\'.\\nVt.\\n\\nadj.\\n\\nvain\\nmissing C&m1S10]adj. AE6i$ \\'\\n\\n;\\n\\nefi\\n\\n*-3-93\\n\\n, RØfi\\n\\n,\\n\\n\\'\\n\\n\\'\\n\\nn. [C,\\'T-T]\\n\\n\\'\\n\\n\\'\\n\\'\\n\\n;\\n\\n[bÜhev]\\n\\nvi.\\n[bl hevj»]\\n\\nbehave\\nbehavior\\ndeed [did] n. [C]\\n\\n; it.\\nn. CU]\\n\\n\\' EJE\\n\\n\\'\\n\\n\\'\\n\\n[kæst] Vt.\\n\\nstab [stæb] Vt.\\ntoss [tos] Vt.\\ncast\\ntug [tAg] n. [C) / vi./vt.\\njerk\\nfetch\\ninsert\\nfold\\ntap [tæp] n.\\nwrap [ræp]\\nseal\\n•n.\\n\\n[fEtf] Vt.\\n[m-sm]\\nl,t.\\n\\n[fold]\\n\\n[Sill\\n\\n•ft.\\n\\n,\\n\\n\\'\\n\\n\\'\\n\\n;\\n, @\\n\\n\\' \"\\n\\n)\\n\\n\\'\\n\\n; n. [O\\n\\n; vi.\\n\\n; n.\\n\\n56  \\uf062\\uf061\\uf064\\uf06c\\uf079\\uf020\\uf05b\\uf060\\uf062\\uf038\\uf064\\uf06c\\uf049\\uf05d\\uf020adv. 拙劣地，差勁地，嚴重地，非常\\uf020\\uf073\\uf065\\uf076\\uf065\\uf072\\uf065\\uf020\\uf05b\\uf073\\uf031\\uf060\\uf076\\uf049\\uf072\\uf05d\\uf020adj. (問題、病痛等) 嚴重的\\uf020\\uf074\\uf072\\uf069\\uf063\\uf06b\\uf079\\uf020\\uf05b\\uf060\\uf074\\uf072\\uf049\\uf06b\\uf049\\uf05d\\uf020adj. 狡猾的，微妙的，難以處理的\\uf020\\uf074\\uf06f\\uf075\\uf067\\uf068\\uf020\\uf05b\\uf074\\uf05e\\uf066\\uf05d\\uf020adj. （人）堅強的，不屈不撓的；（事情）艱難的，棘手的\\uf020\\uf073\\uf063\\uf061\\uf072\\uf079\\uf020\\uf05b\\uf060\\uf073\\uf06b\\uf045\\uf072\\uf049\\uf05d\\uf020adj. 可怕的\\uf020\\uf062\\uf072\\uf075\\uf074\\uf061\\uf06c\\uf020\\uf05b\\uf060\\uf062\\uf072\\uf075\\uf074\\uf04c\\uf05d\\uf020adj. 殘暴的，兇殘的\\uf020\\uf063\\uf072\\uf075\\uf065\\uf06c\\uf074\\uf079\\uf020\\uf05b\\uf060\\uf06b\\uf072\\uf075\\uf031\\uf06c\\uf074\\uf049\\uf05d\\uf020n. [U] 殘忍，殘酷\\uf020\\uf06c\\uf069\\uf06d\\uf069\\uf074\\uf061\\uf074\\uf069\\uf06f\\uf06e\\uf020\\uf05b\\uf026\\uf06c\\uf049\\uf06d\\uf031\\uf060\\uf074\\uf065\\uf053\\uf031\\uf06e\\uf05d\\uf020n. [C/U] 限制，缺點\\uf020\\uf06e\\uf065\\uf065\\uf064\\uf079\\uf020\\uf05b\\uf060\\uf06e\\uf069\\uf064\\uf049\\uf05d\\uf020adj. 非常貧窮的\\uf020\\uf06f\\uf064\\uf064\\uf020\\uf05b\\uf041\\uf064\\uf05d\\uf020adj. 奇數的，不成對的，奇怪的\\uf020\\uf070\\uf065\\uf063\\uf075\\uf06c\\uf069\\uf061\\uf072\\uf020\\uf05b\\uf070\\uf049\\uf060\\uf06b\\uf06a\\uf075\\uf06c\\uf06a\\uf032\\uf05d\\uf020adj. 奇怪的，怪異的\\uf020\\uf064\\uf06f\\uf075\\uf062\\uf074\\uf066\\uf075\\uf06c\\uf020\\uf05b\\uf060\\uf064\\uf061\\uf055\\uf074\\uf066\\uf031\\uf06c\\uf05d\\uf020adj. 起疑的，可疑的\\uf020\\uf072\\uf069\\uf073\\uf06b\\uf020\\uf05b\\uf072\\uf049\\uf073\\uf06b\\uf05d\\uf020n. 風險；vt. 冒…的風險\\uf020\\uf076\\uf061\\uf069\\uf06e\\uf020\\uf05b\\uf076\\uf065\\uf06e\\uf05d\\uf020adj. 空虛的，徒勞的；虛榮的，自負的\\uf020\\uf06d\\uf069\\uf073\\uf073\\uf069\\uf06e\\uf067\\uf020\\uf05b\\uf060\\uf06d\\uf049\\uf073\\uf049\\uf039\\uf05d\\uf020adj.\\uf020失蹤的，缺的\\uf020 動作、行為 《一般》 \\uf062\\uf065\\uf068\\uf061\\uf076\\uf065\\uf020\\uf05b\\uf062\\uf049\\uf060\\uf068\\uf065\\uf076\\uf05d\\uf020vi. 表現；vt. 使守規矩\\uf020\\uf062\\uf065\\uf068\\uf061\\uf076\\uf069\\uf06f\\uf072\\uf020\\uf05b\\uf062\\uf049\\uf060\\uf068\\uf065\\uf076\\uf06a\\uf032\\uf05d\\uf020n. [U] 行為，舉止\\uf020\\uf064\\uf065\\uf065\\uf064\\uf020\\uf05b\\uf064\\uf069\\uf064\\uf05d\\uf020n. [C] 行為\\uf020《手部動作》 \\uf073\\uf074\\uf061\\uf062\\uf020\\uf05b\\uf073\\uf074\\uf038\\uf062\\uf05d\\uf020vt. 刺，戳，桶\\uf020\\uf074\\uf06f\\uf073\\uf073\\uf020\\uf05b\\uf074\\uf04f\\uf073\\uf05d\\uf020vt. （隨意）扔，擲\\uf020\\uf063\\uf061\\uf073\\uf074\\uf020\\uf05b\\uf06b\\uf038\\uf073\\uf074\\uf05d\\uf020vt. 扔，擲，拋（魚線，魚網）；n. 卡司，石膏\\uf020\\uf074\\uf075\\uf067\\uf020\\uf05b\\uf074\\uf05e\\uf047\\uf05d\\uf020n. [C] / vi./vt. （快速的）拉，拽\\uf020\\uf06a\\uf065\\uf072\\uf06b\\uf020\\uf05b\\uf064\\uf05a\\uf033\\uf06b\\uf05d\\uf020vt. 突然猛拉、推；n. [C] 蠢蛋，古怪的人\\uf020\\uf066\\uf065\\uf074\\uf063\\uf068\\uf020\\uf05b\\uf066\\uf045\\uf074\\uf053\\uf05d\\uf020vt. 取來，賣得\\uf020\\uf069\\uf06e\\uf073\\uf065\\uf072\\uf074\\uf020\\uf05b\\uf049\\uf06e\\uf060\\uf073\\uf033\\uf074\\uf05d\\uf020vt. 插入，放進\\uf020\\uf066\\uf06f\\uf06c\\uf064\\uf020\\uf05b\\uf066\\uf06f\\uf06c\\uf064\\uf05d\\uf020vt. 折疊\\uf020\\uf074\\uf061\\uf070\\uf020\\uf05b\\uf074\\uf038\\uf070\\uf05d\\uf020n. [C] 水龍頭；vt. 輕拍；vi. 輕敲\\uf020\\uf077\\uf072\\uf061\\uf070\\uf020\\uf05b\\uf072\\uf038\\uf070\\uf05d\\uf020vt. 包裝，包；n. [U] 包裹物（布或紙）\\uf020\\uf073\\uf065\\uf061\\uf06c\\uf020\\uf05b\\uf073\\uf069\\uf06c\\uf05d\\uf020vt. 封上，封住；n. [C] 封條，海豹\\uf020\\x0cenclose\\nblend\\n\\n[muz]\\n\\nit.\\n[blend] Vt.,/vi.\\n\\n[dÜstr1bjut] Vt.\\n\\n\\'\\n\\n;\\n\\nft.\\n\\nsqueeze [skwiz] vt./l,l\\nscatter Cskætö]\\nfit\\ndistribute\\n[stAfl n. [U)\\nstuff\\npreserve [prüBv]\\nwipe [walp]\\nit.\\nerase [fres] Vt.\\n\\nVt.\\n\\'\\n,\\n\\nglide [glam] vi.\\nwander\\n(wandö]\\n\\nidle\\n\\n; n.\\n\\n; vi.\\n\\n\\'\\n\\n\\'\\n\\n\\'\\n\\n\\'\\n\\n,\\n\\n\\'\\n\\n; vt.\\n\\n\\'\\n\\n; n.\\n\\n; Vt.\\n\\n; it.\\n\\nit.\\n\\n\\'\\n\\n; n. sing.\\n\\nn. [C] / vi.\\n\\n[halt]\\n\\nseek [sik] Vt.\\ntrace [tres] Vt.\\ntrail\\nn. [C]\\nproceed [pta-sid]\\nhalt\\napproach [a-protf]\\narrivial\\n[a-raw!] n.\\nflock\\nbounce\\nspin [spm]\\n\\n[bauns]\\nit.\\n\\nn. [C]\\n\\n[flak]\\n\\nvi.\\n\\n\\'\\n\\n\\'\\n\\n(\\n\\n)\\n\\n\\'\\n\\n; vi.\\n\\n\\'\\n\\nn. [U]\\n;\\n\\' EJE\\n\\n; vi.\\n\\n,\\n\\n,\\n\\n\\'\\n\\n\\'\\n\\n;\\n\\n,\\n\\n\\'.t.\\n\\n•ft.\\n\\n[In-fur]\\n\\n[prfvent]\\n\\n[a-slst] vt./vi.\\n\\npreparation\\ninsure\\nprevent\\nassist\\nassistance [a•slstans]\\ninterfere\\npioneer\\nlaunch\\nenforce\\n\\n[,mt$hr]\\n[,paæ-nn] n. [C]\\n[bntn\\n[mhrs]\\n\\nVt.\\n\\nvt.\\n\\nvi.\\n\\n\\'\\n\\nn. [U)\\n\\n\\'\\n\\n;\\n\\n\\'\\n\\n57  \\uf065\\uf06e\\uf063\\uf06c\\uf06f\\uf073\\uf065\\uf020\\uf05b\\uf049\\uf06e\\uf060\\uf06b\\uf06c\\uf06f\\uf07a\\uf05d\\uf020vt. 圍住，環繞；隨信附上，封入，附寄\\uf020\\uf062\\uf06c\\uf065\\uf06e\\uf064\\uf020\\uf05b\\uf062\\uf06c\\uf045\\uf06e\\uf064\\uf05d\\uf020vt./vi. 混合\\uf020\\uf073\\uf074\\uf069\\uf072\\uf020\\uf05b\\uf073\\uf074\\uf033\\uf05d\\uf020vt. 攪拌\\uf020\\uf073\\uf071\\uf075\\uf065\\uf065\\uf07a\\uf065\\uf020\\uf05b\\uf073\\uf06b\\uf077\\uf069\\uf07a\\uf05d\\uf020vt./vi. 擠出，擰出；n. 壓榨，緊握\\uf020\\uf073\\uf063\\uf061\\uf074\\uf074\\uf065\\uf072\\uf020\\uf05b\\uf060\\uf073\\uf06b\\uf038\\uf074\\uf032\\uf05d\\uf020vt. 撒，使分散；vi. 分散\\uf020\\uf064\\uf069\\uf073\\uf074\\uf072\\uf069\\uf062\\uf075\\uf074\\uf065\\uf020\\uf05b\\uf064\\uf049\\uf060\\uf073\\uf074\\uf072\\uf049\\uf062\\uf06a\\uf075\\uf074\\uf05d vt. 分配，分發\\uf020\\uf073\\uf074\\uf075\\uf066\\uf066\\uf020\\uf05b\\uf073\\uf074\\uf05e\\uf066\\uf05d\\uf020n. [U] 東西；vt. 塞滿\\uf020\\uf070\\uf072\\uf065\\uf073\\uf065\\uf072\\uf076\\uf065\\uf020\\uf05b\\uf070\\uf072\\uf049\\uf060\\uf07a\\uf033\\uf076\\uf05d\\uf020vt. 保存，維持，醃製；n. [pl] 果醬，蜜餞\\uf020\\uf077\\uf069\\uf070\\uf065\\uf020\\uf05b\\uf077\\uf061\\uf049\\uf070\\uf05d\\uf020vt. 擦拭，消滅\\uf020\\uf065\\uf072\\uf061\\uf073\\uf065\\uf020\\uf05b\\uf049\\uf060\\uf072\\uf065\\uf073\\uf05d\\uf020vt. 擦掉，抹去；抹滅，消除\\uf020《腳與行徑》 \\uf067\\uf06c\\uf069\\uf064\\uf065\\uf020\\uf05b\\uf047\\uf06c\\uf061\\uf049\\uf064\\uf05d\\uf020vi. 滑行\\uf020\\uf077\\uf061\\uf06e\\uf064\\uf065\\uf072\\uf020\\uf05b\\uf060\\uf077\\uf041\\uf06e\\uf064\\uf032\\uf05d\\uf020vt./vi. 遊蕩，徘徊\\uf020\\uf069\\uf064\\uf06c\\uf065\\uf020\\uf05b\\uf060\\uf061\\uf049\\uf064\\uf04c\\uf05d\\uf020aj. 遊手好閒的；vt. 虛度（光陰）；vi. 閒蕩\\uf020\\uf073\\uf065\\uf065\\uf06b\\uf020\\uf05b\\uf073\\uf069\\uf06b\\uf05d\\uf020vt. 尋找\\uf020\\uf074\\uf072\\uf061\\uf063\\uf065\\uf020\\uf05b\\uf074\\uf072\\uf065\\uf073\\uf05d\\uf020vt. 追溯（源頭，起因）；n. 蹤跡\\uf020\\uf074\\uf072\\uf061\\uf069\\uf06c\\uf020\\uf05b\\uf074\\uf072\\uf065\\uf06c\\uf05d\\uf020n. [C] 小徑；vt. 跟蹤，拖著\\uf020\\uf070\\uf072\\uf06f\\uf063\\uf065\\uf065\\uf064\\uf020\\uf05b\\uf070\\uf072\\uf031\\uf060\\uf073\\uf069\\uf064\\uf05d\\uf020vi. 前進，持續進行\\uf020\\uf068\\uf061\\uf06c\\uf074\\uf020\\uf05b\\uf068\\uf04f\\uf06c\\uf074\\uf05d\\uf020n. [C] / vi. 停止行進；vt. 使停頓\\uf020\\uf061\\uf070\\uf070\\uf072\\uf06f\\uf061\\uf063\\uf068\\uf020\\uf05b\\uf031\\uf060\\uf070\\uf072\\uf06f\\uf074\\uf053\\uf05d\\uf020vt. 接近，靠近；n. sing. 接近，靠近\\uf020\\uf061\\uf072\\uf072\\uf069\\uf076\\uf069\\uf061\\uf06c\\uf020\\uf05b\\uf031\\uf060\\uf072\\uf061\\uf049\\uf076\\uf04c\\uf05d\\uf020n. 到達，抵達\\uf020\\uf066\\uf06c\\uf06f\\uf063\\uf06b\\uf020\\uf05b\\uf066\\uf06c\\uf041\\uf06b\\uf05d\\uf020n. [C] （一）群；vi. 聚集\\uf020\\uf062\\uf06f\\uf075\\uf06e\\uf063\\uf065\\uf020\\uf05b\\uf062\\uf061\\uf035\\uf06e\\uf073\\uf05d\\uf020vi. 彈回，彈跳，跳票\\uf020\\uf073\\uf070\\uf069\\uf06e\\uf020\\uf05b\\uf073\\uf070\\uf049\\uf06e\\uf05d\\uf020vt. 紡紗，說（故事）；vi. 旋轉\\uf020《執行》 \\uf070\\uf072\\uf065\\uf070\\uf061\\uf072\\uf061\\uf074\\uf069\\uf06f\\uf06e\\uf020\\uf05b\\uf026\\uf070\\uf072\\uf045\\uf070\\uf031\\uf060\\uf072\\uf065\\uf053\\uf031\\uf06e\\uf05d\\uf020n. [U] 準備，預備\\uf020\\uf069\\uf06e\\uf073\\uf075\\uf072\\uf065\\uf020\\uf05b\\uf049\\uf06e\\uf060\\uf053\\uf035\\uf072\\uf05d\\uf020vt. 為…保險；保證，確保\\uf020\\uf070\\uf072\\uf065\\uf076\\uf065\\uf06e\\uf074\\uf020\\uf05b\\uf070\\uf072\\uf049\\uf060\\uf076\\uf045\\uf06e\\uf074\\uf05d\\uf020vt. 預防，阻止\\uf020\\uf061\\uf073\\uf073\\uf069\\uf073\\uf074\\uf020\\uf05b\\uf031\\uf060\\uf073\\uf049\\uf073\\uf074\\uf05d\\uf020vt./vi. 幫助，協助\\uf020\\uf061\\uf073\\uf073\\uf069\\uf073\\uf074\\uf061\\uf06e\\uf063\\uf065\\uf020\\uf05b\\uf031\\uf060\\uf073\\uf049\\uf073\\uf074\\uf031\\uf06e\\uf073\\uf05d\\uf020n. [U] 幫助，協助\\uf020\\uf069\\uf06e\\uf074\\uf065\\uf072\\uf066\\uf065\\uf072\\uf065\\uf020\\uf05b\\uf026\\uf049\\uf06e\\uf074\\uf032\\uf060\\uf066\\uf049\\uf072\\uf05d\\uf020vi. 干預，妨礙\\uf020\\uf070\\uf069\\uf06f\\uf06e\\uf065\\uf065\\uf072\\uf020\\uf05b\\uf026\\uf070\\uf061\\uf049\\uf031\\uf060\\uf06e\\uf049\\uf072\\uf05d\\uf020n. [C] 開拓著，先鋒；vt. 率先做…\\uf020\\uf06c\\uf061\\uf075\\uf06e\\uf063\\uf068\\uf020\\uf05b\\uf06c\\uf04f\\uf06e\\uf074\\uf053\\uf05d\\uf020vt. 使船下水；發起，發動；n. [C] 發起，發動\\uf020\\uf065\\uf06e\\uf066\\uf06f\\uf072\\uf063\\uf065\\uf020\\uf05b\\uf049\\uf06e\\uf060\\uf066\\uf04f\\uf072\\uf073\\uf05d\\uf020vt. 實施，執行\\uf020\\x0cperform [pa•hrm]\\nadopt\\n[a-dapt] Vt.\\nspare [sper] •ft.\\nreplace [rfples] Vt.\\nskip [skip] Vt.\\nlid\\n\\nVt. NC-i ,\\n\\n;\\n\\n\\'\\n\\n; adj.\\n\\n\\'\\n\\n\\'\\n\\nwithdraw\\n\\n[wld-dn]\\n\\nvi.\\n\\n\\'\\n\\n[rÜflEkt] Vt.\\n\\narise [a-ralz] vi. (fml.)\\nemerge [fm3\\'d3]\\nvi.\\nreflect\\nshift\\ntransform\\nrelate [rflet]\\n\\n\\'\\n[trænshrm]\\n\\n[Sift] Vt.\\n\\n•ft.\\n\\n\\'\\n\\n\\'\\n\\n;\\n; n. [C]\\n\\n\\'\\n\\nVt.\\n\\'\\n\\n[a-sofl,et]\\n\\nft.\\n\\n[kræk] vi.\\n[split] Vt.\\n[spall] vt.\\n\\ncrack\\nsplit\\nspoil\\nendanger\\nstrip [stnp] Vt.\\nremove\\neliminate\\n\\n[In-dend3&]\\n\\'\\n\\nmuv] Vt.\\n[Ülmpnet]\\n\\n[tend]\\n\\nvi.\\n[m tend]\\n\\n•ft.\\n\\ntend\\nintend\\nadapt\\nadjust\\nalert\\n\\n; •ft.\\n\\n( zæ)\\n\\n\\'\\n\\n; vi.\\n\\n\\'\\n\\n\\'\\n\\n\\'\\n\\n;\\n\\n\\'\\n\\n; vi.\\n\\n%\\n\\n; vt.\\n\\n;\\n\\n;\\n\\nvt/n.\\n\\nneglect\\ndismiss [dls-mrs]lt.\\nappeal\\n[a-pil] vi.\\n\\n\\'\\n\\n)\\n\\'\\n\\n\\'\\n\\' _Eä\\n\\n58  \\uf070\\uf065\\uf072\\uf066\\uf06f\\uf072\\uf06d\\uf020\\uf05b\\uf070\\uf032\\uf060\\uf066\\uf04f\\uf072\\uf06d\\uf05d\\uf020vt. 履行，執行；表演，演出\\uf020\\uf061\\uf064\\uf06f\\uf070\\uf074\\uf020\\uf05b\\uf031\\uf060\\uf064\\uf041\\uf070\\uf074\\uf05d\\uf020vt. 採用，收養\\uf020\\uf073\\uf070\\uf061\\uf072\\uf065\\uf020\\uf05b\\uf073\\uf070\\uf045\\uf072\\uf05d\\uf020vt. 節省，饒恕；adj. 備用的\\uf020\\uf072\\uf065\\uf070\\uf06c\\uf061\\uf063\\uf065\\uf020\\uf05b\\uf072\\uf049\\uf060\\uf070\\uf06c\\uf065\\uf073\\uf05d\\uf020vt. 取代\\uf020\\uf073\\uf06b\\uf069\\uf070\\uf020\\uf05b\\uf073\\uf06b\\uf049\\uf070\\uf05d\\uf020vt. 跳過，略過\\uf020\\uf072\\uf069\\uf064\\uf020\\uf05b\\uf072\\uf049\\uf064\\uf05d\\uf020vt. 使擺脫；adj. 擺脫的\\uf020\\uf077\\uf069\\uf074\\uf068\\uf064\\uf072\\uf061\\uf077\\uf020\\uf05b\\uf077\\uf049\\uf044\\uf060\\uf064\\uf072\\uf04f\\uf05d\\uf020vi. 退出，撒回；vt. 提款\\uf020《現象》 \\uf061\\uf072\\uf069\\uf073\\uf065\\uf020\\uf05b\\uf031\\uf060\\uf072\\uf061\\uf049\\uf07a\\uf05d\\uf020vi. (fml.) 發生，出現\\uf020\\uf065\\uf06d\\uf065\\uf072\\uf067\\uf065\\uf020\\uf05b\\uf049\\uf060\\uf06d\\uf033\\uf064\\uf05a\\uf05d\\uf020vi. (從暗處、躲藏處) 出現\\uf020\\uf072\\uf065\\uf066\\uf06c\\uf065\\uf063\\uf074\\uf020\\uf05b\\uf072\\uf049\\uf060\\uf066\\uf06c\\uf045\\uf06b\\uf074\\uf05d\\uf020vt. 反映，顯示；映出(影像)\\uf020\\uf073\\uf068\\uf069\\uf066\\uf074\\uf020\\uf05b\\uf073\\uf049\\uf066\\uf074\\uf05d\\uf020vt. 轉移，改變；n. [C] 輪班\\uf020\\uf074\\uf072\\uf061\\uf06e\\uf073\\uf066\\uf06f\\uf072\\uf06d\\uf020\\uf05b\\uf074\\uf072\\uf038\\uf06e\\uf073\\uf060\\uf066\\uf04f\\uf072\\uf06d\\uf05d\\uf020vt. 變化，改變\\uf020\\uf072\\uf065\\uf06c\\uf061\\uf074\\uf065\\uf020\\uf05b\\uf072\\uf049\\uf060\\uf06c\\uf065\\uf074\\uf05d\\uf020vt. 使有關聯，把…聯繫起來\\uf020\\uf061\\uf073\\uf073\\uf06f\\uf063\\uf069\\uf061\\uf074\\uf065\\uf020\\uf05b\\uf031\\uf060\\uf073\\uf06f\\uf053\\uf049\\uf026\\uf065\\uf074\\uf05d\\uf020vt. 使有關聯\\uf020《破壞》 \\uf063\\uf072\\uf075\\uf073\\uf068\\uf020\\uf05b\\uf06b\\uf072\\uf05e\\uf053\\uf05d\\uf020n. [C] 迷戀；vt. 壓扁，壓碎\\uf020\\uf063\\uf072\\uf061\\uf063\\uf06b\\uf020\\uf05b\\uf06b\\uf072\\uf038\\uf06b\\uf05d\\uf020vi. 破裂；vt. 解開（密碼）\\uf020\\uf073\\uf070\\uf06c\\uf069\\uf074\\uf020\\uf05b\\uf073\\uf070\\uf06c\\uf049\\uf074\\uf05d\\uf020vt. 劈開，分裂；vi. 分開\\uf020\\uf073\\uf070\\uf06f\\uf069\\uf06c\\uf020\\uf05b\\uf073\\uf070\\uf04f\\uf049\\uf06c\\uf05d\\uf020vt. 破壞（興致、美感），寵壞；vi. （食物）腐敗\\uf020\\uf065\\uf06e\\uf064\\uf061\\uf06e\\uf067\\uf065\\uf072\\uf020\\uf05b\\uf049\\uf06e\\uf060\\uf064\\uf065\\uf06e\\uf064\\uf05a\\uf032\\uf05d\\uf020vt. 使處於險境，危害\\uf020\\uf073\\uf074\\uf072\\uf069\\uf070\\uf020\\uf05b\\uf073\\uf074\\uf072\\uf049\\uf070\\uf05d\\uf020vt. 移除，剝除（表面、皮膚、衣服）\\uf020\\uf072\\uf065\\uf06d\\uf06f\\uf076\\uf065\\uf020\\uf05b\\uf072\\uf049\\uf060\\uf06d\\uf075\\uf076\\uf05d\\uf020vt. 消除，去除；移開，拿開\\uf020\\uf065\\uf06c\\uf069\\uf06d\\uf069\\uf06e\\uf061\\uf074\\uf065\\uf020\\uf05b\\uf049\\uf060\\uf06c\\uf049\\uf06d\\uf031\\uf06e\\uf065\\uf074\\uf05d\\uf020vt. 除去，淘汰\\uf020《抽象動作》 \\uf074\\uf065\\uf06e\\uf064\\uf020\\uf05b\\uf074\\uf045\\uf06e\\uf064\\uf05d\\uf020vi. 傾向，往往會\\uf020\\uf069\\uf06e\\uf074\\uf065\\uf06e\\uf064\\uf020\\uf05b\\uf049\\uf06e\\uf060\\uf074\\uf045\\uf06e\\uf064\\uf05d\\uf020vt. 計畫，想要\\uf020\\uf061\\uf064\\uf061\\uf070\\uf074\\uf020\\uf05b\\uf031\\uf060\\uf064\\uf038\\uf070\\uf074\\uf05d\\uf020vt. 適應 (新狀況)，適合 (新用途)\\uf020\\uf061\\uf064\\uf06a\\uf075\\uf073\\uf074\\uf020\\uf05b\\uf031\\uf064\\uf060\\uf064\\uf05a\\uf05e\\uf073\\uf074\\uf05d\\uf020vt. 調整，調節；vi. 適應\\uf020\\uf061\\uf06c\\uf065\\uf072\\uf074\\uf020\\uf05b\\uf031\\uf060\\uf06c\\uf033\\uf074\\uf05d\\uf020 n. [C] 警報；vt. 使警覺，向…發出警報；提醒，使意識到； adj. 有警覺的\\uf020\\uf06e\\uf065\\uf067\\uf06c\\uf065\\uf063\\uf074\\uf020\\uf05b\\uf06e\\uf049\\uf060\\uf047\\uf06c\\uf045\\uf06b\\uf074\\uf05d\\uf020vt. / n. [U] 忽略，疏忽\\uf020\\uf064\\uf069\\uf073\\uf06d\\uf069\\uf073\\uf073\\uf020\\uf05b\\uf064\\uf049\\uf073\\uf060\\uf06d\\uf049\\uf073\\uf05d vt. 從（腦中）去除，不理會；解散（下課），解職\\uf020\\uf061\\uf070\\uf070\\uf065\\uf061\\uf06c\\uf020\\uf05b\\uf031\\uf060\\uf070\\uf069\\uf06c\\uf05d\\uf020vi. 吸引，呼籲，懇求，上訴\\uf020\\x0cattract\\n\\n; vi.\\n\\'\\n\\ndip [dip] Vt.\\nspill\\n[spl] Vt\\nsplash [splæf]\\nspray [spre] n. [U] 7X7Z \\'\\nflush\\n\\n[flAD vi/vt./n.[C]\\n\\n; vi.\\n\\n,\\n\\n; n.\\n\\ndrift\\n\\nn.\\n\\n[flot]\\n\\nfloat\\ndrip [drip] Vt./vi.\\npour\\nleak [11k]\\n\\n[pot] Vt.\\n\\n\\'\\nn.\\n\\n\\'\\n\\n,\\n\\n; n.\\n\\n; vi„/vt\\n\\n; vi.\\n\\n,\\n\\n,\\n\\n[dren]\\n\\n;\\n\\n[Ik-sepfan] n. [C]\\n[m&klud10] prep.\\n[rfgard10]\\n[mor-ovæ]\\n\\nprep.(fml.)\\nadv.\\n[ neva•ö$lEs]\\n\\nadv.\\n\\n\\'\\n\\n\\'\\n\\n\\'\\n\\nought\\n[ot]\\nexception\\nincluding\\nregarding\\nmoreover\\nnevertheless\\nspite [spar] n.\\nwhereby\\nactually\\nnamely\\nindeed\\ninstead\\n\\n[In-did]\\n\\n[(h)wer-bal]\\n\\n(#Qinsp1teof\\nadv.\\nadv.\\n\\nadv. -tgtE\\nadv.\\n\\notherwise\\n\\nadv.\\n\\nunless\\n\\n[An-les] conj.\\n\\n\\'\\n\\nRf-t\\n\\n59  \\uf061\\uf074\\uf074\\uf072\\uf061\\uf063\\uf074\\uf020\\uf05b\\uf031\\uf060\\uf074\\uf072\\uf038\\uf06b\\uf074\\uf05d\\uf020vt. 吸引，引起興趣\\uf020《水與液體》 \\uf064\\uf069\\uf070\\uf020\\uf05b\\uf064\\uf049\\uf070\\uf05d\\uf020vt. 浸泡；vi. 沉下，下降\\uf020\\uf073\\uf070\\uf069\\uf06c\\uf06c\\uf020\\uf05b\\uf073\\uf070\\uf049\\uf06c\\uf05d\\uf020vt. 灑出，洩密；n. 灑出物\\uf020\\uf073\\uf070\\uf06c\\uf061\\uf073\\uf068\\uf020\\uf05b\\uf073\\uf070\\uf06c\\uf038\\uf053\\uf05d\\uf020vt. 潑水；vi. 濺起水花；n. 濺起的水花聲\\uf020\\uf073\\uf070\\uf072\\uf061\\uf079\\uf020\\uf05b\\uf073\\uf070\\uf072\\uf065\\uf05d\\uf020n. [U] 水花，浪花，噴霧劑；vi./vt. 噴灑\\uf020\\uf066\\uf06c\\uf075\\uf073\\uf068\\uf020\\uf05b\\uf066\\uf06c\\uf05e\\uf053\\uf05d\\uf020vi./vt. / n. [C] 沖水，臉紅\\uf020\\uf064\\uf072\\uf069\\uf066\\uf074\\uf020\\uf05b\\uf064\\uf072\\uf049\\uf066\\uf074\\uf05d\\uf020n. [C] 漂流，漂流物，堆積物；vi. 飄，漂移，不知不覺陷入\\uf020\\uf066\\uf06c\\uf06f\\uf061\\uf074\\uf020\\uf05b\\uf066\\uf06c\\uf06f\\uf074\\uf05d\\uf020vi. 漂浮\\uf020\\uf064\\uf072\\uf069\\uf070\\uf020\\uf05b\\uf064\\uf072\\uf049\\uf070\\uf05d\\uf020vt./vi. 滴下；n. 滴水聲\\uf020\\uf070\\uf06f\\uf075\\uf072\\uf020\\uf05b\\uf070\\uf06f\\uf072\\uf05d\\uf020vt. 傾注，下大雨\\uf020\\uf06c\\uf065\\uf061\\uf06b\\uf020\\uf05b\\uf06c\\uf069\\uf06b\\uf05d\\uf020vt. / n. [C] 漏（水、油、瓦斯等）\\uf020\\uf064\\uf072\\uf061\\uf069\\uf06e\\uf020\\uf05b\\uf064\\uf072\\uf065\\uf06e\\uf05d\\uf020vt. 排空，放空（液體）；使精疲力竭，耗盡\\uf020 功能性的字 \\uf06f\\uf075\\uf067\\uf068\\uf074\\uf020\\uf05b\\uf04f\\uf074\\uf05d\\uf020aux. 應該（與to並用）\\uf020\\uf065\\uf078\\uf063\\uf065\\uf070\\uf074\\uf069\\uf06f\\uf06e\\uf020\\uf05b\\uf049\\uf06b\\uf060\\uf073\\uf045\\uf070\\uf053\\uf031\\uf06e\\uf05d\\uf020n. [C] 例外，除外\\uf020\\uf069\\uf06e\\uf063\\uf06c\\uf075\\uf064\\uf069\\uf06e\\uf067\\uf020\\uf05b\\uf049\\uf06e\\uf060\\uf06b\\uf06c\\uf075\\uf064\\uf049\\uf039\\uf05d\\uf020prep. 包括，包含\\uf020\\uf072\\uf065\\uf067\\uf061\\uf072\\uf064\\uf069\\uf06e\\uf067\\uf020\\uf05b\\uf072\\uf049\\uf060\\uf047\\uf041\\uf072\\uf064\\uf049\\uf039\\uf05d\\uf020prep. (fml.) 關於\\uf020\\uf06d\\uf06f\\uf072\\uf065\\uf06f\\uf076\\uf065\\uf072\\uf020\\uf05b\\uf06d\\uf06f\\uf072\\uf060\\uf06f\\uf076\\uf032\\uf05d\\uf020adv. 此外，而且\\uf020\\uf06e\\uf065\\uf076\\uf065\\uf072\\uf074\\uf068\\uf065\\uf06c\\uf065\\uf073\\uf073\\uf020\\uf05b\\uf026\\uf06e\\uf045\\uf076\\uf032\\uf044\\uf031\\uf060\\uf06c\\uf045\\uf073\\uf05d\\uf020adv. 儘管如此，然而\\uf020\\uf073\\uf070\\uf069\\uf074\\uf065\\uf020\\uf05b\\uf073\\uf070\\uf061\\uf049\\uf074\\uf05d\\uf020n. 儘管（用於in spite of片語中）\\uf020\\uf077\\uf068\\uf065\\uf072\\uf065\\uf062\\uf079\\uf020\\uf05b\\uf028\\uf068\\uf029\\uf077\\uf045\\uf072\\uf060\\uf062\\uf061\\uf049\\uf05d\\uf020adv. 藉此\\uf020\\uf061\\uf063\\uf074\\uf075\\uf061\\uf06c\\uf06c\\uf079\\uf020\\uf05b\\uf060\\uf038\\uf06b\\uf074\\uf053\\uf035\\uf031\\uf06c\\uf049\\uf05d\\uf020adv. 事實上，實際上\\uf020\\uf06e\\uf061\\uf06d\\uf065\\uf06c\\uf079\\uf020\\uf05b\\uf060\\uf06e\\uf065\\uf06d\\uf06c\\uf049\\uf05d\\uf020adv. 也就是，換言之\\uf020\\uf069\\uf06e\\uf064\\uf065\\uf065\\uf064\\uf020\\uf05b\\uf049\\uf06e\\uf060\\uf064\\uf069\\uf064\\uf05d\\uf020adv. 的確\\uf020\\uf069\\uf06e\\uf073\\uf074\\uf065\\uf061\\uf064\\uf020\\uf05b\\uf049\\uf06e\\uf060\\uf073\\uf074\\uf045\\uf064\\uf05d\\uf020adv. 相反地，而不是，取代\\uf020\\uf06f\\uf074\\uf068\\uf065\\uf072\\uf077\\uf069\\uf073\\uf065\\uf020\\uf05b\\uf060\\uf05e\\uf044\\uf032\\uf026\\uf077\\uf061\\uf049\\uf07a\\uf05d\\uf020adv. 否則，以相反的方式\\uf020\\uf075\\uf06e\\uf06c\\uf065\\uf073\\uf073\\uf020\\uf05b\\uf05e\\uf06e\\uf060\\uf06c\\uf045\\uf073\\uf05d\\uf020conj. 除非\\uf020  \\x0c'"
            ],
            "application/vnd.google.colaboratory.intrinsic+json": {
              "type": "string"
            }
          },
          "metadata": {},
          "execution_count": 8
        }
      ]
    },
    {
      "cell_type": "code",
      "source": [
        "# 將文本轉換為DataFrame\n",
        "df = pd.DataFrame(text.split('\\n'), columns=['word'])"
      ],
      "metadata": {
        "id": "EHTSqmuc6mTd"
      },
      "execution_count": null,
      "outputs": []
    },
    {
      "cell_type": "code",
      "source": [
        "df"
      ],
      "metadata": {
        "colab": {
          "base_uri": "https://localhost:8080/",
          "height": 424
        },
        "id": "OLN5eWzx6_h4",
        "outputId": "7f31938e-7b01-475d-c55b-99efb4ce67bf"
      },
      "execution_count": null,
      "outputs": [
        {
          "output_type": "execute_result",
          "data": {
            "text/plain": [
              "                                                   word\n",
              "0                                        Vooabu0ary COO\n",
              "1                                                      \n",
              "2                                                   the\n",
              "3                                                      \n",
              "4                                                  Ycur\n",
              "...                                                 ...\n",
              "7361                                                  '\n",
              "7362                                                   \n",
              "7363                                               Rf-t\n",
              "7364                                                   \n",
              "7365  59  vt. 吸引，引起興趣《水與液體》 ...\n",
              "\n",
              "[7366 rows x 1 columns]"
            ],
            "text/html": [
              "\n",
              "  <div id=\"df-e417d0ed-b3b5-49c6-902f-3b6a0ade11db\">\n",
              "    <div class=\"colab-df-container\">\n",
              "      <div>\n",
              "<style scoped>\n",
              "    .dataframe tbody tr th:only-of-type {\n",
              "        vertical-align: middle;\n",
              "    }\n",
              "\n",
              "    .dataframe tbody tr th {\n",
              "        vertical-align: top;\n",
              "    }\n",
              "\n",
              "    .dataframe thead th {\n",
              "        text-align: right;\n",
              "    }\n",
              "</style>\n",
              "<table border=\"1\" class=\"dataframe\">\n",
              "  <thead>\n",
              "    <tr style=\"text-align: right;\">\n",
              "      <th></th>\n",
              "      <th>word</th>\n",
              "    </tr>\n",
              "  </thead>\n",
              "  <tbody>\n",
              "    <tr>\n",
              "      <th>0</th>\n",
              "      <td>Vooabu0ary COO</td>\n",
              "    </tr>\n",
              "    <tr>\n",
              "      <th>1</th>\n",
              "      <td></td>\n",
              "    </tr>\n",
              "    <tr>\n",
              "      <th>2</th>\n",
              "      <td>the</td>\n",
              "    </tr>\n",
              "    <tr>\n",
              "      <th>3</th>\n",
              "      <td></td>\n",
              "    </tr>\n",
              "    <tr>\n",
              "      <th>4</th>\n",
              "      <td>Ycur</td>\n",
              "    </tr>\n",
              "    <tr>\n",
              "      <th>...</th>\n",
              "      <td>...</td>\n",
              "    </tr>\n",
              "    <tr>\n",
              "      <th>7361</th>\n",
              "      <td>'</td>\n",
              "    </tr>\n",
              "    <tr>\n",
              "      <th>7362</th>\n",
              "      <td></td>\n",
              "    </tr>\n",
              "    <tr>\n",
              "      <th>7363</th>\n",
              "      <td>Rf-t</td>\n",
              "    </tr>\n",
              "    <tr>\n",
              "      <th>7364</th>\n",
              "      <td></td>\n",
              "    </tr>\n",
              "    <tr>\n",
              "      <th>7365</th>\n",
              "      <td>59  vt. 吸引，引起興趣《水與液體》 ...</td>\n",
              "    </tr>\n",
              "  </tbody>\n",
              "</table>\n",
              "<p>7366 rows × 1 columns</p>\n",
              "</div>\n",
              "      <button class=\"colab-df-convert\" onclick=\"convertToInteractive('df-e417d0ed-b3b5-49c6-902f-3b6a0ade11db')\"\n",
              "              title=\"Convert this dataframe to an interactive table.\"\n",
              "              style=\"display:none;\">\n",
              "        \n",
              "  <svg xmlns=\"http://www.w3.org/2000/svg\" height=\"24px\"viewBox=\"0 0 24 24\"\n",
              "       width=\"24px\">\n",
              "    <path d=\"M0 0h24v24H0V0z\" fill=\"none\"/>\n",
              "    <path d=\"M18.56 5.44l.94 2.06.94-2.06 2.06-.94-2.06-.94-.94-2.06-.94 2.06-2.06.94zm-11 1L8.5 8.5l.94-2.06 2.06-.94-2.06-.94L8.5 2.5l-.94 2.06-2.06.94zm10 10l.94 2.06.94-2.06 2.06-.94-2.06-.94-.94-2.06-.94 2.06-2.06.94z\"/><path d=\"M17.41 7.96l-1.37-1.37c-.4-.4-.92-.59-1.43-.59-.52 0-1.04.2-1.43.59L10.3 9.45l-7.72 7.72c-.78.78-.78 2.05 0 2.83L4 21.41c.39.39.9.59 1.41.59.51 0 1.02-.2 1.41-.59l7.78-7.78 2.81-2.81c.8-.78.8-2.07 0-2.86zM5.41 20L4 18.59l7.72-7.72 1.47 1.35L5.41 20z\"/>\n",
              "  </svg>\n",
              "      </button>\n",
              "      \n",
              "  <style>\n",
              "    .colab-df-container {\n",
              "      display:flex;\n",
              "      flex-wrap:wrap;\n",
              "      gap: 12px;\n",
              "    }\n",
              "\n",
              "    .colab-df-convert {\n",
              "      background-color: #E8F0FE;\n",
              "      border: none;\n",
              "      border-radius: 50%;\n",
              "      cursor: pointer;\n",
              "      display: none;\n",
              "      fill: #1967D2;\n",
              "      height: 32px;\n",
              "      padding: 0 0 0 0;\n",
              "      width: 32px;\n",
              "    }\n",
              "\n",
              "    .colab-df-convert:hover {\n",
              "      background-color: #E2EBFA;\n",
              "      box-shadow: 0px 1px 2px rgba(60, 64, 67, 0.3), 0px 1px 3px 1px rgba(60, 64, 67, 0.15);\n",
              "      fill: #174EA6;\n",
              "    }\n",
              "\n",
              "    [theme=dark] .colab-df-convert {\n",
              "      background-color: #3B4455;\n",
              "      fill: #D2E3FC;\n",
              "    }\n",
              "\n",
              "    [theme=dark] .colab-df-convert:hover {\n",
              "      background-color: #434B5C;\n",
              "      box-shadow: 0px 1px 3px 1px rgba(0, 0, 0, 0.15);\n",
              "      filter: drop-shadow(0px 1px 2px rgba(0, 0, 0, 0.3));\n",
              "      fill: #FFFFFF;\n",
              "    }\n",
              "  </style>\n",
              "\n",
              "      <script>\n",
              "        const buttonEl =\n",
              "          document.querySelector('#df-e417d0ed-b3b5-49c6-902f-3b6a0ade11db button.colab-df-convert');\n",
              "        buttonEl.style.display =\n",
              "          google.colab.kernel.accessAllowed ? 'block' : 'none';\n",
              "\n",
              "        async function convertToInteractive(key) {\n",
              "          const element = document.querySelector('#df-e417d0ed-b3b5-49c6-902f-3b6a0ade11db');\n",
              "          const dataTable =\n",
              "            await google.colab.kernel.invokeFunction('convertToInteractive',\n",
              "                                                     [key], {});\n",
              "          if (!dataTable) return;\n",
              "\n",
              "          const docLinkHtml = 'Like what you see? Visit the ' +\n",
              "            '<a target=\"_blank\" href=https://colab.research.google.com/notebooks/data_table.ipynb>data table notebook</a>'\n",
              "            + ' to learn more about interactive tables.';\n",
              "          element.innerHTML = '';\n",
              "          dataTable['output_type'] = 'display_data';\n",
              "          await google.colab.output.renderOutput(dataTable, element);\n",
              "          const docLink = document.createElement('div');\n",
              "          docLink.innerHTML = docLinkHtml;\n",
              "          element.appendChild(docLink);\n",
              "        }\n",
              "      </script>\n",
              "    </div>\n",
              "  </div>\n",
              "  "
            ]
          },
          "metadata": {},
          "execution_count": 10
        }
      ]
    },
    {
      "cell_type": "code",
      "source": [
        "# 將中文分開放繼續補充置在DataFrame中\n",
        "df['chinese'] = df['word'].str.extract('(.*)')\n",
        "df['word'] = df['word'].str.replace('(.*)', '')"
      ],
      "metadata": {
        "colab": {
          "base_uri": "https://localhost:8080/"
        },
        "id": "b9uCik738JDE",
        "outputId": "0d2d3ffe-ca3a-418d-e751-db27d9a504d1"
      },
      "execution_count": null,
      "outputs": [
        {
          "output_type": "stream",
          "name": "stderr",
          "text": [
            "<ipython-input-13-3ec3fe41398c>:3: FutureWarning: The default value of regex will change from True to False in a future version.\n",
            "  df['word'] = df['word'].str.replace('(.*)', '')\n"
          ]
        }
      ]
    },
    {
      "cell_type": "code",
      "source": [
        "df"
      ],
      "metadata": {
        "id": "6mRaXdJv8-zU",
        "outputId": "fec7b80b-66ba-4fca-ac5d-04b11de7b9a0",
        "colab": {
          "base_uri": "https://localhost:8080/",
          "height": 424
        }
      },
      "execution_count": null,
      "outputs": [
        {
          "output_type": "execute_result",
          "data": {
            "text/plain": [
              "     word                                            chinese\n",
              "0                                             Vooabu0ary COO\n",
              "1                                                           \n",
              "2                                                        the\n",
              "3                                                           \n",
              "4                                                       Ycur\n",
              "...   ...                                                ...\n",
              "7361                                                       '\n",
              "7362                                                        \n",
              "7363                                                    Rf-t\n",
              "7364                                                        \n",
              "7365       59  vt. 吸引，引起興趣《水與液體》 ...\n",
              "\n",
              "[7366 rows x 2 columns]"
            ],
            "text/html": [
              "\n",
              "  <div id=\"df-87388f08-6f8a-4adb-a0ba-78190fb9f21e\">\n",
              "    <div class=\"colab-df-container\">\n",
              "      <div>\n",
              "<style scoped>\n",
              "    .dataframe tbody tr th:only-of-type {\n",
              "        vertical-align: middle;\n",
              "    }\n",
              "\n",
              "    .dataframe tbody tr th {\n",
              "        vertical-align: top;\n",
              "    }\n",
              "\n",
              "    .dataframe thead th {\n",
              "        text-align: right;\n",
              "    }\n",
              "</style>\n",
              "<table border=\"1\" class=\"dataframe\">\n",
              "  <thead>\n",
              "    <tr style=\"text-align: right;\">\n",
              "      <th></th>\n",
              "      <th>word</th>\n",
              "      <th>chinese</th>\n",
              "    </tr>\n",
              "  </thead>\n",
              "  <tbody>\n",
              "    <tr>\n",
              "      <th>0</th>\n",
              "      <td></td>\n",
              "      <td>Vooabu0ary COO</td>\n",
              "    </tr>\n",
              "    <tr>\n",
              "      <th>1</th>\n",
              "      <td></td>\n",
              "      <td></td>\n",
              "    </tr>\n",
              "    <tr>\n",
              "      <th>2</th>\n",
              "      <td></td>\n",
              "      <td>the</td>\n",
              "    </tr>\n",
              "    <tr>\n",
              "      <th>3</th>\n",
              "      <td></td>\n",
              "      <td></td>\n",
              "    </tr>\n",
              "    <tr>\n",
              "      <th>4</th>\n",
              "      <td></td>\n",
              "      <td>Ycur</td>\n",
              "    </tr>\n",
              "    <tr>\n",
              "      <th>...</th>\n",
              "      <td>...</td>\n",
              "      <td>...</td>\n",
              "    </tr>\n",
              "    <tr>\n",
              "      <th>7361</th>\n",
              "      <td></td>\n",
              "      <td>'</td>\n",
              "    </tr>\n",
              "    <tr>\n",
              "      <th>7362</th>\n",
              "      <td></td>\n",
              "      <td></td>\n",
              "    </tr>\n",
              "    <tr>\n",
              "      <th>7363</th>\n",
              "      <td></td>\n",
              "      <td>Rf-t</td>\n",
              "    </tr>\n",
              "    <tr>\n",
              "      <th>7364</th>\n",
              "      <td></td>\n",
              "      <td></td>\n",
              "    </tr>\n",
              "    <tr>\n",
              "      <th>7365</th>\n",
              "      <td></td>\n",
              "      <td>59  vt. 吸引，引起興趣《水與液體》 ...</td>\n",
              "    </tr>\n",
              "  </tbody>\n",
              "</table>\n",
              "<p>7366 rows × 2 columns</p>\n",
              "</div>\n",
              "      <button class=\"colab-df-convert\" onclick=\"convertToInteractive('df-87388f08-6f8a-4adb-a0ba-78190fb9f21e')\"\n",
              "              title=\"Convert this dataframe to an interactive table.\"\n",
              "              style=\"display:none;\">\n",
              "        \n",
              "  <svg xmlns=\"http://www.w3.org/2000/svg\" height=\"24px\"viewBox=\"0 0 24 24\"\n",
              "       width=\"24px\">\n",
              "    <path d=\"M0 0h24v24H0V0z\" fill=\"none\"/>\n",
              "    <path d=\"M18.56 5.44l.94 2.06.94-2.06 2.06-.94-2.06-.94-.94-2.06-.94 2.06-2.06.94zm-11 1L8.5 8.5l.94-2.06 2.06-.94-2.06-.94L8.5 2.5l-.94 2.06-2.06.94zm10 10l.94 2.06.94-2.06 2.06-.94-2.06-.94-.94-2.06-.94 2.06-2.06.94z\"/><path d=\"M17.41 7.96l-1.37-1.37c-.4-.4-.92-.59-1.43-.59-.52 0-1.04.2-1.43.59L10.3 9.45l-7.72 7.72c-.78.78-.78 2.05 0 2.83L4 21.41c.39.39.9.59 1.41.59.51 0 1.02-.2 1.41-.59l7.78-7.78 2.81-2.81c.8-.78.8-2.07 0-2.86zM5.41 20L4 18.59l7.72-7.72 1.47 1.35L5.41 20z\"/>\n",
              "  </svg>\n",
              "      </button>\n",
              "      \n",
              "  <style>\n",
              "    .colab-df-container {\n",
              "      display:flex;\n",
              "      flex-wrap:wrap;\n",
              "      gap: 12px;\n",
              "    }\n",
              "\n",
              "    .colab-df-convert {\n",
              "      background-color: #E8F0FE;\n",
              "      border: none;\n",
              "      border-radius: 50%;\n",
              "      cursor: pointer;\n",
              "      display: none;\n",
              "      fill: #1967D2;\n",
              "      height: 32px;\n",
              "      padding: 0 0 0 0;\n",
              "      width: 32px;\n",
              "    }\n",
              "\n",
              "    .colab-df-convert:hover {\n",
              "      background-color: #E2EBFA;\n",
              "      box-shadow: 0px 1px 2px rgba(60, 64, 67, 0.3), 0px 1px 3px 1px rgba(60, 64, 67, 0.15);\n",
              "      fill: #174EA6;\n",
              "    }\n",
              "\n",
              "    [theme=dark] .colab-df-convert {\n",
              "      background-color: #3B4455;\n",
              "      fill: #D2E3FC;\n",
              "    }\n",
              "\n",
              "    [theme=dark] .colab-df-convert:hover {\n",
              "      background-color: #434B5C;\n",
              "      box-shadow: 0px 1px 3px 1px rgba(0, 0, 0, 0.15);\n",
              "      filter: drop-shadow(0px 1px 2px rgba(0, 0, 0, 0.3));\n",
              "      fill: #FFFFFF;\n",
              "    }\n",
              "  </style>\n",
              "\n",
              "      <script>\n",
              "        const buttonEl =\n",
              "          document.querySelector('#df-87388f08-6f8a-4adb-a0ba-78190fb9f21e button.colab-df-convert');\n",
              "        buttonEl.style.display =\n",
              "          google.colab.kernel.accessAllowed ? 'block' : 'none';\n",
              "\n",
              "        async function convertToInteractive(key) {\n",
              "          const element = document.querySelector('#df-87388f08-6f8a-4adb-a0ba-78190fb9f21e');\n",
              "          const dataTable =\n",
              "            await google.colab.kernel.invokeFunction('convertToInteractive',\n",
              "                                                     [key], {});\n",
              "          if (!dataTable) return;\n",
              "\n",
              "          const docLinkHtml = 'Like what you see? Visit the ' +\n",
              "            '<a target=\"_blank\" href=https://colab.research.google.com/notebooks/data_table.ipynb>data table notebook</a>'\n",
              "            + ' to learn more about interactive tables.';\n",
              "          element.innerHTML = '';\n",
              "          dataTable['output_type'] = 'display_data';\n",
              "          await google.colab.output.renderOutput(dataTable, element);\n",
              "          const docLink = document.createElement('div');\n",
              "          docLink.innerHTML = docLinkHtml;\n",
              "          element.appendChild(docLink);\n",
              "        }\n",
              "      </script>\n",
              "    </div>\n",
              "  </div>\n",
              "  "
            ]
          },
          "metadata": {},
          "execution_count": 14
        }
      ]
    },
    {
      "cell_type": "markdown",
      "source": [
        "## ⚡ **C-將PDF轉為JPG檔，再用OCR**\n",
        "* 1.合併PDF\n",
        "* 2.分割PDF"
      ],
      "metadata": {
        "id": "Dsd0GtQL0baY"
      }
    },
    {
      "cell_type": "code",
      "source": [
        "import os\n",
        "from PyPDF2 import PdfReader\n",
        "from wand.image import Image as wi"
      ],
      "metadata": {
        "id": "je8mLIAB0jeC"
      },
      "execution_count": null,
      "outputs": []
    },
    {
      "cell_type": "code",
      "source": [
        "#指定google雲端路徑，方便儲存與下載檔案\n",
        "import os\n",
        "os.chdir('/content/drive/MyDrive/colab_cloud/pdf/split_pdf')"
      ],
      "metadata": {
        "id": "kDRB1qQg16d7"
      },
      "execution_count": null,
      "outputs": []
    },
    {
      "cell_type": "code",
      "source": [
        "# 將PDF檔案轉換為JPG\n",
        "reader = PdfReader('./4000_vocabulary.pdf')"
      ],
      "metadata": {
        "id": "61284GmQ12r-"
      },
      "execution_count": null,
      "outputs": []
    },
    {
      "cell_type": "code",
      "source": [
        "for page in range(len(reader.pages)):\n",
        "    # 開啟PDF檔案並取得每頁\n",
        "    page_instance = reader.pages[page]\n",
        "    # 將PDF每頁轉換成圖片\n",
        "    image = wi(blob=page_instance.get_data(), resolution=300)\n",
        "    # 將每頁JPG檔案儲存\n",
        "    image.save(f'./jpg/4000{page}.jpg')\n",
        "    print(f'完成圖片下載-4000{page}.jpg')"
      ],
      "metadata": {
        "colab": {
          "base_uri": "https://localhost:8080/",
          "height": 237
        },
        "id": "LYx56ydu13l4",
        "outputId": "77e5913a-d33b-4006-e457-215a1d2b290c"
      },
      "execution_count": null,
      "outputs": [
        {
          "output_type": "error",
          "ename": "AttributeError",
          "evalue": "ignored",
          "traceback": [
            "\u001b[0;31m---------------------------------------------------------------------------\u001b[0m",
            "\u001b[0;31mAttributeError\u001b[0m                            Traceback (most recent call last)",
            "\u001b[0;32m<ipython-input-22-93c7b6379f22>\u001b[0m in \u001b[0;36m<module>\u001b[0;34m\u001b[0m\n\u001b[1;32m      3\u001b[0m     \u001b[0mpage_instance\u001b[0m \u001b[0;34m=\u001b[0m \u001b[0mreader\u001b[0m\u001b[0;34m.\u001b[0m\u001b[0mpages\u001b[0m\u001b[0;34m[\u001b[0m\u001b[0mpage\u001b[0m\u001b[0;34m]\u001b[0m\u001b[0;34m\u001b[0m\u001b[0;34m\u001b[0m\u001b[0m\n\u001b[1;32m      4\u001b[0m     \u001b[0;31m# 將PDF每頁轉換成圖片\u001b[0m\u001b[0;34m\u001b[0m\u001b[0;34m\u001b[0m\u001b[0;34m\u001b[0m\u001b[0m\n\u001b[0;32m----> 5\u001b[0;31m     \u001b[0mimage\u001b[0m \u001b[0;34m=\u001b[0m \u001b[0mwi\u001b[0m\u001b[0;34m(\u001b[0m\u001b[0mblob\u001b[0m\u001b[0;34m=\u001b[0m\u001b[0mpage_instance\u001b[0m\u001b[0;34m.\u001b[0m\u001b[0mget_data\u001b[0m\u001b[0;34m(\u001b[0m\u001b[0;34m)\u001b[0m\u001b[0;34m,\u001b[0m \u001b[0mresolution\u001b[0m\u001b[0;34m=\u001b[0m\u001b[0;36m300\u001b[0m\u001b[0;34m)\u001b[0m\u001b[0;34m\u001b[0m\u001b[0;34m\u001b[0m\u001b[0m\n\u001b[0m\u001b[1;32m      6\u001b[0m     \u001b[0;31m# 將每頁JPG檔案儲存\u001b[0m\u001b[0;34m\u001b[0m\u001b[0;34m\u001b[0m\u001b[0;34m\u001b[0m\u001b[0m\n\u001b[1;32m      7\u001b[0m     \u001b[0mimage\u001b[0m\u001b[0;34m.\u001b[0m\u001b[0msave\u001b[0m\u001b[0;34m(\u001b[0m\u001b[0;34mf'./jpg/4000{page}.jpg'\u001b[0m\u001b[0;34m)\u001b[0m\u001b[0;34m\u001b[0m\u001b[0;34m\u001b[0m\u001b[0m\n",
            "\u001b[0;31mAttributeError\u001b[0m: 'PageObject' object has no attribute 'get_data'"
          ]
        }
      ]
    }
  ]
}