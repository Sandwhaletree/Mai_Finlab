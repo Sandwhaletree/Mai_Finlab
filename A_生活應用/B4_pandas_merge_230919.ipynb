{
  "nbformat": 4,
  "nbformat_minor": 0,
  "metadata": {
    "colab": {
      "provenance": [],
      "mount_file_id": "1ucnr1h8mxyKq9eVEhw0mHsKuWa_SZKTf",
      "authorship_tag": "ABX9TyOAFEyq5R/zKAKzjozSeA5X",
      "include_colab_link": true
    },
    "kernelspec": {
      "name": "python3",
      "display_name": "Python 3"
    },
    "language_info": {
      "name": "python"
    }
  },
  "cells": [
    {
      "cell_type": "markdown",
      "metadata": {
        "id": "view-in-github",
        "colab_type": "text"
      },
      "source": [
        "<a href=\"https://colab.research.google.com/github/Sandwhaletree/Mai_Finlab/blob/main/A_%E7%94%9F%E6%B4%BB%E6%87%89%E7%94%A8/B4_pandas_merge_230919.ipynb\" target=\"_parent\"><img src=\"https://colab.research.google.com/assets/colab-badge.svg\" alt=\"Open In Colab\"/></a>"
      ]
    },
    {
      "cell_type": "code",
      "execution_count": null,
      "metadata": {
        "id": "T-xwBg6-8S3w"
      },
      "outputs": [],
      "source": [
        "import pandas as pd"
      ]
    },
    {
      "cell_type": "code",
      "source": [
        "import os\n",
        "os.chdir('/content/drive/MyDrive/cloud_file/example')"
      ],
      "metadata": {
        "id": "Col8rv8FCtRu"
      },
      "execution_count": null,
      "outputs": []
    },
    {
      "cell_type": "code",
      "source": [
        "#開啟檔案:人力部门对员工信息的统计表\n",
        "file=\"./company.xlsx\"\n",
        "work1 = pd.read_excel(file,sheet_name=0)\n",
        "work1"
      ],
      "metadata": {
        "colab": {
          "base_uri": "https://localhost:8080/",
          "height": 269
        },
        "id": "h9gbPPtEDKVe",
        "outputId": "1fd96fc7-6b8a-4492-9056-d79c5d124e5b"
      },
      "execution_count": null,
      "outputs": [
        {
          "output_type": "execute_result",
          "data": {
            "text/plain": [
              "  员工姓名    公司名称 性别 员工状态 员工等级\n",
              "0   赵一  脑洞有限公司  女   离职   初级\n",
              "1   钱明  脑洞有限公司  男   离职   初级\n",
              "2   周元  脑洞有限公司  男   在职   中级\n",
              "3   李雷  脑洞有限公司  女   离职   中级\n",
              "4   王七  脑洞有限公司  男   在职   高级\n",
              "5   赵三  脑洞有限公司  男   离职   高级\n",
              "6   赵六  脑洞有限公司  女   在职   中级"
            ],
            "text/html": [
              "\n",
              "  <div id=\"df-44377104-fa20-442a-b240-3dd8184219e1\">\n",
              "    <div class=\"colab-df-container\">\n",
              "      <div>\n",
              "<style scoped>\n",
              "    .dataframe tbody tr th:only-of-type {\n",
              "        vertical-align: middle;\n",
              "    }\n",
              "\n",
              "    .dataframe tbody tr th {\n",
              "        vertical-align: top;\n",
              "    }\n",
              "\n",
              "    .dataframe thead th {\n",
              "        text-align: right;\n",
              "    }\n",
              "</style>\n",
              "<table border=\"1\" class=\"dataframe\">\n",
              "  <thead>\n",
              "    <tr style=\"text-align: right;\">\n",
              "      <th></th>\n",
              "      <th>员工姓名</th>\n",
              "      <th>公司名称</th>\n",
              "      <th>性别</th>\n",
              "      <th>员工状态</th>\n",
              "      <th>员工等级</th>\n",
              "    </tr>\n",
              "  </thead>\n",
              "  <tbody>\n",
              "    <tr>\n",
              "      <th>0</th>\n",
              "      <td>赵一</td>\n",
              "      <td>脑洞有限公司</td>\n",
              "      <td>女</td>\n",
              "      <td>离职</td>\n",
              "      <td>初级</td>\n",
              "    </tr>\n",
              "    <tr>\n",
              "      <th>1</th>\n",
              "      <td>钱明</td>\n",
              "      <td>脑洞有限公司</td>\n",
              "      <td>男</td>\n",
              "      <td>离职</td>\n",
              "      <td>初级</td>\n",
              "    </tr>\n",
              "    <tr>\n",
              "      <th>2</th>\n",
              "      <td>周元</td>\n",
              "      <td>脑洞有限公司</td>\n",
              "      <td>男</td>\n",
              "      <td>在职</td>\n",
              "      <td>中级</td>\n",
              "    </tr>\n",
              "    <tr>\n",
              "      <th>3</th>\n",
              "      <td>李雷</td>\n",
              "      <td>脑洞有限公司</td>\n",
              "      <td>女</td>\n",
              "      <td>离职</td>\n",
              "      <td>中级</td>\n",
              "    </tr>\n",
              "    <tr>\n",
              "      <th>4</th>\n",
              "      <td>王七</td>\n",
              "      <td>脑洞有限公司</td>\n",
              "      <td>男</td>\n",
              "      <td>在职</td>\n",
              "      <td>高级</td>\n",
              "    </tr>\n",
              "    <tr>\n",
              "      <th>5</th>\n",
              "      <td>赵三</td>\n",
              "      <td>脑洞有限公司</td>\n",
              "      <td>男</td>\n",
              "      <td>离职</td>\n",
              "      <td>高级</td>\n",
              "    </tr>\n",
              "    <tr>\n",
              "      <th>6</th>\n",
              "      <td>赵六</td>\n",
              "      <td>脑洞有限公司</td>\n",
              "      <td>女</td>\n",
              "      <td>在职</td>\n",
              "      <td>中级</td>\n",
              "    </tr>\n",
              "  </tbody>\n",
              "</table>\n",
              "</div>\n",
              "      <button class=\"colab-df-convert\" onclick=\"convertToInteractive('df-44377104-fa20-442a-b240-3dd8184219e1')\"\n",
              "              title=\"Convert this dataframe to an interactive table.\"\n",
              "              style=\"display:none;\">\n",
              "        \n",
              "  <svg xmlns=\"http://www.w3.org/2000/svg\" height=\"24px\"viewBox=\"0 0 24 24\"\n",
              "       width=\"24px\">\n",
              "    <path d=\"M0 0h24v24H0V0z\" fill=\"none\"/>\n",
              "    <path d=\"M18.56 5.44l.94 2.06.94-2.06 2.06-.94-2.06-.94-.94-2.06-.94 2.06-2.06.94zm-11 1L8.5 8.5l.94-2.06 2.06-.94-2.06-.94L8.5 2.5l-.94 2.06-2.06.94zm10 10l.94 2.06.94-2.06 2.06-.94-2.06-.94-.94-2.06-.94 2.06-2.06.94z\"/><path d=\"M17.41 7.96l-1.37-1.37c-.4-.4-.92-.59-1.43-.59-.52 0-1.04.2-1.43.59L10.3 9.45l-7.72 7.72c-.78.78-.78 2.05 0 2.83L4 21.41c.39.39.9.59 1.41.59.51 0 1.02-.2 1.41-.59l7.78-7.78 2.81-2.81c.8-.78.8-2.07 0-2.86zM5.41 20L4 18.59l7.72-7.72 1.47 1.35L5.41 20z\"/>\n",
              "  </svg>\n",
              "      </button>\n",
              "      \n",
              "  <style>\n",
              "    .colab-df-container {\n",
              "      display:flex;\n",
              "      flex-wrap:wrap;\n",
              "      gap: 12px;\n",
              "    }\n",
              "\n",
              "    .colab-df-convert {\n",
              "      background-color: #E8F0FE;\n",
              "      border: none;\n",
              "      border-radius: 50%;\n",
              "      cursor: pointer;\n",
              "      display: none;\n",
              "      fill: #1967D2;\n",
              "      height: 32px;\n",
              "      padding: 0 0 0 0;\n",
              "      width: 32px;\n",
              "    }\n",
              "\n",
              "    .colab-df-convert:hover {\n",
              "      background-color: #E2EBFA;\n",
              "      box-shadow: 0px 1px 2px rgba(60, 64, 67, 0.3), 0px 1px 3px 1px rgba(60, 64, 67, 0.15);\n",
              "      fill: #174EA6;\n",
              "    }\n",
              "\n",
              "    [theme=dark] .colab-df-convert {\n",
              "      background-color: #3B4455;\n",
              "      fill: #D2E3FC;\n",
              "    }\n",
              "\n",
              "    [theme=dark] .colab-df-convert:hover {\n",
              "      background-color: #434B5C;\n",
              "      box-shadow: 0px 1px 3px 1px rgba(0, 0, 0, 0.15);\n",
              "      filter: drop-shadow(0px 1px 2px rgba(0, 0, 0, 0.3));\n",
              "      fill: #FFFFFF;\n",
              "    }\n",
              "  </style>\n",
              "\n",
              "      <script>\n",
              "        const buttonEl =\n",
              "          document.querySelector('#df-44377104-fa20-442a-b240-3dd8184219e1 button.colab-df-convert');\n",
              "        buttonEl.style.display =\n",
              "          google.colab.kernel.accessAllowed ? 'block' : 'none';\n",
              "\n",
              "        async function convertToInteractive(key) {\n",
              "          const element = document.querySelector('#df-44377104-fa20-442a-b240-3dd8184219e1');\n",
              "          const dataTable =\n",
              "            await google.colab.kernel.invokeFunction('convertToInteractive',\n",
              "                                                     [key], {});\n",
              "          if (!dataTable) return;\n",
              "\n",
              "          const docLinkHtml = 'Like what you see? Visit the ' +\n",
              "            '<a target=\"_blank\" href=https://colab.research.google.com/notebooks/data_table.ipynb>data table notebook</a>'\n",
              "            + ' to learn more about interactive tables.';\n",
              "          element.innerHTML = '';\n",
              "          dataTable['output_type'] = 'display_data';\n",
              "          await google.colab.output.renderOutput(dataTable, element);\n",
              "          const docLink = document.createElement('div');\n",
              "          docLink.innerHTML = docLinkHtml;\n",
              "          element.appendChild(docLink);\n",
              "        }\n",
              "      </script>\n",
              "    </div>\n",
              "  </div>\n",
              "  "
            ]
          },
          "metadata": {},
          "execution_count": 5
        }
      ]
    },
    {
      "cell_type": "code",
      "source": [
        "#開啟檔案:销售部门对员工销售业绩的统计表\n",
        "work2 = pd.read_excel(file,sheet_name=1)\n",
        "work2"
      ],
      "metadata": {
        "colab": {
          "base_uri": "https://localhost:8080/",
          "height": 269
        },
        "id": "GLkqxMkXDykc",
        "outputId": "e948df59-8b85-414d-8d06-272087a2e405"
      },
      "execution_count": null,
      "outputs": [
        {
          "output_type": "execute_result",
          "data": {
            "text/plain": [
              "  员工姓名   销售业绩   提成收入  基本工资  社保金额   创造收益   是否达标\n",
              "0   赵一  30000   6000  2500   125  21375  False\n",
              "1   钱明  20000   4000  2500   125  13375  False\n",
              "2   周元  50000  10000  2500   125  37375   True\n",
              "3   李雷  40000   8000  2500   125  29375  False\n",
              "4   王七  60000  12000  2500   125  45375   True\n",
              "5   赵三  60000  12000  2500   125  45375   True\n",
              "6   赵六  50000  10000  2500   125  37375   True"
            ],
            "text/html": [
              "\n",
              "  <div id=\"df-f6350b24-9ecb-4a21-a5f8-25e0955aba7a\">\n",
              "    <div class=\"colab-df-container\">\n",
              "      <div>\n",
              "<style scoped>\n",
              "    .dataframe tbody tr th:only-of-type {\n",
              "        vertical-align: middle;\n",
              "    }\n",
              "\n",
              "    .dataframe tbody tr th {\n",
              "        vertical-align: top;\n",
              "    }\n",
              "\n",
              "    .dataframe thead th {\n",
              "        text-align: right;\n",
              "    }\n",
              "</style>\n",
              "<table border=\"1\" class=\"dataframe\">\n",
              "  <thead>\n",
              "    <tr style=\"text-align: right;\">\n",
              "      <th></th>\n",
              "      <th>员工姓名</th>\n",
              "      <th>销售业绩</th>\n",
              "      <th>提成收入</th>\n",
              "      <th>基本工资</th>\n",
              "      <th>社保金额</th>\n",
              "      <th>创造收益</th>\n",
              "      <th>是否达标</th>\n",
              "    </tr>\n",
              "  </thead>\n",
              "  <tbody>\n",
              "    <tr>\n",
              "      <th>0</th>\n",
              "      <td>赵一</td>\n",
              "      <td>30000</td>\n",
              "      <td>6000</td>\n",
              "      <td>2500</td>\n",
              "      <td>125</td>\n",
              "      <td>21375</td>\n",
              "      <td>False</td>\n",
              "    </tr>\n",
              "    <tr>\n",
              "      <th>1</th>\n",
              "      <td>钱明</td>\n",
              "      <td>20000</td>\n",
              "      <td>4000</td>\n",
              "      <td>2500</td>\n",
              "      <td>125</td>\n",
              "      <td>13375</td>\n",
              "      <td>False</td>\n",
              "    </tr>\n",
              "    <tr>\n",
              "      <th>2</th>\n",
              "      <td>周元</td>\n",
              "      <td>50000</td>\n",
              "      <td>10000</td>\n",
              "      <td>2500</td>\n",
              "      <td>125</td>\n",
              "      <td>37375</td>\n",
              "      <td>True</td>\n",
              "    </tr>\n",
              "    <tr>\n",
              "      <th>3</th>\n",
              "      <td>李雷</td>\n",
              "      <td>40000</td>\n",
              "      <td>8000</td>\n",
              "      <td>2500</td>\n",
              "      <td>125</td>\n",
              "      <td>29375</td>\n",
              "      <td>False</td>\n",
              "    </tr>\n",
              "    <tr>\n",
              "      <th>4</th>\n",
              "      <td>王七</td>\n",
              "      <td>60000</td>\n",
              "      <td>12000</td>\n",
              "      <td>2500</td>\n",
              "      <td>125</td>\n",
              "      <td>45375</td>\n",
              "      <td>True</td>\n",
              "    </tr>\n",
              "    <tr>\n",
              "      <th>5</th>\n",
              "      <td>赵三</td>\n",
              "      <td>60000</td>\n",
              "      <td>12000</td>\n",
              "      <td>2500</td>\n",
              "      <td>125</td>\n",
              "      <td>45375</td>\n",
              "      <td>True</td>\n",
              "    </tr>\n",
              "    <tr>\n",
              "      <th>6</th>\n",
              "      <td>赵六</td>\n",
              "      <td>50000</td>\n",
              "      <td>10000</td>\n",
              "      <td>2500</td>\n",
              "      <td>125</td>\n",
              "      <td>37375</td>\n",
              "      <td>True</td>\n",
              "    </tr>\n",
              "  </tbody>\n",
              "</table>\n",
              "</div>\n",
              "      <button class=\"colab-df-convert\" onclick=\"convertToInteractive('df-f6350b24-9ecb-4a21-a5f8-25e0955aba7a')\"\n",
              "              title=\"Convert this dataframe to an interactive table.\"\n",
              "              style=\"display:none;\">\n",
              "        \n",
              "  <svg xmlns=\"http://www.w3.org/2000/svg\" height=\"24px\"viewBox=\"0 0 24 24\"\n",
              "       width=\"24px\">\n",
              "    <path d=\"M0 0h24v24H0V0z\" fill=\"none\"/>\n",
              "    <path d=\"M18.56 5.44l.94 2.06.94-2.06 2.06-.94-2.06-.94-.94-2.06-.94 2.06-2.06.94zm-11 1L8.5 8.5l.94-2.06 2.06-.94-2.06-.94L8.5 2.5l-.94 2.06-2.06.94zm10 10l.94 2.06.94-2.06 2.06-.94-2.06-.94-.94-2.06-.94 2.06-2.06.94z\"/><path d=\"M17.41 7.96l-1.37-1.37c-.4-.4-.92-.59-1.43-.59-.52 0-1.04.2-1.43.59L10.3 9.45l-7.72 7.72c-.78.78-.78 2.05 0 2.83L4 21.41c.39.39.9.59 1.41.59.51 0 1.02-.2 1.41-.59l7.78-7.78 2.81-2.81c.8-.78.8-2.07 0-2.86zM5.41 20L4 18.59l7.72-7.72 1.47 1.35L5.41 20z\"/>\n",
              "  </svg>\n",
              "      </button>\n",
              "      \n",
              "  <style>\n",
              "    .colab-df-container {\n",
              "      display:flex;\n",
              "      flex-wrap:wrap;\n",
              "      gap: 12px;\n",
              "    }\n",
              "\n",
              "    .colab-df-convert {\n",
              "      background-color: #E8F0FE;\n",
              "      border: none;\n",
              "      border-radius: 50%;\n",
              "      cursor: pointer;\n",
              "      display: none;\n",
              "      fill: #1967D2;\n",
              "      height: 32px;\n",
              "      padding: 0 0 0 0;\n",
              "      width: 32px;\n",
              "    }\n",
              "\n",
              "    .colab-df-convert:hover {\n",
              "      background-color: #E2EBFA;\n",
              "      box-shadow: 0px 1px 2px rgba(60, 64, 67, 0.3), 0px 1px 3px 1px rgba(60, 64, 67, 0.15);\n",
              "      fill: #174EA6;\n",
              "    }\n",
              "\n",
              "    [theme=dark] .colab-df-convert {\n",
              "      background-color: #3B4455;\n",
              "      fill: #D2E3FC;\n",
              "    }\n",
              "\n",
              "    [theme=dark] .colab-df-convert:hover {\n",
              "      background-color: #434B5C;\n",
              "      box-shadow: 0px 1px 3px 1px rgba(0, 0, 0, 0.15);\n",
              "      filter: drop-shadow(0px 1px 2px rgba(0, 0, 0, 0.3));\n",
              "      fill: #FFFFFF;\n",
              "    }\n",
              "  </style>\n",
              "\n",
              "      <script>\n",
              "        const buttonEl =\n",
              "          document.querySelector('#df-f6350b24-9ecb-4a21-a5f8-25e0955aba7a button.colab-df-convert');\n",
              "        buttonEl.style.display =\n",
              "          google.colab.kernel.accessAllowed ? 'block' : 'none';\n",
              "\n",
              "        async function convertToInteractive(key) {\n",
              "          const element = document.querySelector('#df-f6350b24-9ecb-4a21-a5f8-25e0955aba7a');\n",
              "          const dataTable =\n",
              "            await google.colab.kernel.invokeFunction('convertToInteractive',\n",
              "                                                     [key], {});\n",
              "          if (!dataTable) return;\n",
              "\n",
              "          const docLinkHtml = 'Like what you see? Visit the ' +\n",
              "            '<a target=\"_blank\" href=https://colab.research.google.com/notebooks/data_table.ipynb>data table notebook</a>'\n",
              "            + ' to learn more about interactive tables.';\n",
              "          element.innerHTML = '';\n",
              "          dataTable['output_type'] = 'display_data';\n",
              "          await google.colab.output.renderOutput(dataTable, element);\n",
              "          const docLink = document.createElement('div');\n",
              "          docLink.innerHTML = docLinkHtml;\n",
              "          element.appendChild(docLink);\n",
              "        }\n",
              "      </script>\n",
              "    </div>\n",
              "  </div>\n",
              "  "
            ]
          },
          "metadata": {},
          "execution_count": 6
        }
      ]
    },
    {
      "cell_type": "code",
      "source": [
        "#合併兩張表 #因為有相同主鍵\"員工姓名\"，故不須指定主鍵\n",
        "pd.merge(work2,work1)"
      ],
      "metadata": {
        "colab": {
          "base_uri": "https://localhost:8080/",
          "height": 452
        },
        "id": "bkCYSEmxDyss",
        "outputId": "d9cbac66-feb5-429a-d92c-08345f91d536"
      },
      "execution_count": null,
      "outputs": [
        {
          "output_type": "execute_result",
          "data": {
            "text/plain": [
              "  员工姓名   销售业绩   提成收入  基本工资  社保金额   创造收益   是否达标    公司名称 性别 员工状态 员工等级\n",
              "0   赵一  30000   6000  2500   125  21375  False  脑洞有限公司  女   离职   初级\n",
              "1   钱明  20000   4000  2500   125  13375  False  脑洞有限公司  男   离职   初级\n",
              "2   周元  50000  10000  2500   125  37375   True  脑洞有限公司  男   在职   中级\n",
              "3   李雷  40000   8000  2500   125  29375  False  脑洞有限公司  女   离职   中级\n",
              "4   王七  60000  12000  2500   125  45375   True  脑洞有限公司  男   在职   高级\n",
              "5   赵三  60000  12000  2500   125  45375   True  脑洞有限公司  男   离职   高级\n",
              "6   赵六  50000  10000  2500   125  37375   True  脑洞有限公司  女   在职   中级"
            ],
            "text/html": [
              "\n",
              "  <div id=\"df-71d5fbe3-bde8-4577-bc83-e7e19f88d168\">\n",
              "    <div class=\"colab-df-container\">\n",
              "      <div>\n",
              "<style scoped>\n",
              "    .dataframe tbody tr th:only-of-type {\n",
              "        vertical-align: middle;\n",
              "    }\n",
              "\n",
              "    .dataframe tbody tr th {\n",
              "        vertical-align: top;\n",
              "    }\n",
              "\n",
              "    .dataframe thead th {\n",
              "        text-align: right;\n",
              "    }\n",
              "</style>\n",
              "<table border=\"1\" class=\"dataframe\">\n",
              "  <thead>\n",
              "    <tr style=\"text-align: right;\">\n",
              "      <th></th>\n",
              "      <th>员工姓名</th>\n",
              "      <th>销售业绩</th>\n",
              "      <th>提成收入</th>\n",
              "      <th>基本工资</th>\n",
              "      <th>社保金额</th>\n",
              "      <th>创造收益</th>\n",
              "      <th>是否达标</th>\n",
              "      <th>公司名称</th>\n",
              "      <th>性别</th>\n",
              "      <th>员工状态</th>\n",
              "      <th>员工等级</th>\n",
              "    </tr>\n",
              "  </thead>\n",
              "  <tbody>\n",
              "    <tr>\n",
              "      <th>0</th>\n",
              "      <td>赵一</td>\n",
              "      <td>30000</td>\n",
              "      <td>6000</td>\n",
              "      <td>2500</td>\n",
              "      <td>125</td>\n",
              "      <td>21375</td>\n",
              "      <td>False</td>\n",
              "      <td>脑洞有限公司</td>\n",
              "      <td>女</td>\n",
              "      <td>离职</td>\n",
              "      <td>初级</td>\n",
              "    </tr>\n",
              "    <tr>\n",
              "      <th>1</th>\n",
              "      <td>钱明</td>\n",
              "      <td>20000</td>\n",
              "      <td>4000</td>\n",
              "      <td>2500</td>\n",
              "      <td>125</td>\n",
              "      <td>13375</td>\n",
              "      <td>False</td>\n",
              "      <td>脑洞有限公司</td>\n",
              "      <td>男</td>\n",
              "      <td>离职</td>\n",
              "      <td>初级</td>\n",
              "    </tr>\n",
              "    <tr>\n",
              "      <th>2</th>\n",
              "      <td>周元</td>\n",
              "      <td>50000</td>\n",
              "      <td>10000</td>\n",
              "      <td>2500</td>\n",
              "      <td>125</td>\n",
              "      <td>37375</td>\n",
              "      <td>True</td>\n",
              "      <td>脑洞有限公司</td>\n",
              "      <td>男</td>\n",
              "      <td>在职</td>\n",
              "      <td>中级</td>\n",
              "    </tr>\n",
              "    <tr>\n",
              "      <th>3</th>\n",
              "      <td>李雷</td>\n",
              "      <td>40000</td>\n",
              "      <td>8000</td>\n",
              "      <td>2500</td>\n",
              "      <td>125</td>\n",
              "      <td>29375</td>\n",
              "      <td>False</td>\n",
              "      <td>脑洞有限公司</td>\n",
              "      <td>女</td>\n",
              "      <td>离职</td>\n",
              "      <td>中级</td>\n",
              "    </tr>\n",
              "    <tr>\n",
              "      <th>4</th>\n",
              "      <td>王七</td>\n",
              "      <td>60000</td>\n",
              "      <td>12000</td>\n",
              "      <td>2500</td>\n",
              "      <td>125</td>\n",
              "      <td>45375</td>\n",
              "      <td>True</td>\n",
              "      <td>脑洞有限公司</td>\n",
              "      <td>男</td>\n",
              "      <td>在职</td>\n",
              "      <td>高级</td>\n",
              "    </tr>\n",
              "    <tr>\n",
              "      <th>5</th>\n",
              "      <td>赵三</td>\n",
              "      <td>60000</td>\n",
              "      <td>12000</td>\n",
              "      <td>2500</td>\n",
              "      <td>125</td>\n",
              "      <td>45375</td>\n",
              "      <td>True</td>\n",
              "      <td>脑洞有限公司</td>\n",
              "      <td>男</td>\n",
              "      <td>离职</td>\n",
              "      <td>高级</td>\n",
              "    </tr>\n",
              "    <tr>\n",
              "      <th>6</th>\n",
              "      <td>赵六</td>\n",
              "      <td>50000</td>\n",
              "      <td>10000</td>\n",
              "      <td>2500</td>\n",
              "      <td>125</td>\n",
              "      <td>37375</td>\n",
              "      <td>True</td>\n",
              "      <td>脑洞有限公司</td>\n",
              "      <td>女</td>\n",
              "      <td>在职</td>\n",
              "      <td>中级</td>\n",
              "    </tr>\n",
              "  </tbody>\n",
              "</table>\n",
              "</div>\n",
              "      <button class=\"colab-df-convert\" onclick=\"convertToInteractive('df-71d5fbe3-bde8-4577-bc83-e7e19f88d168')\"\n",
              "              title=\"Convert this dataframe to an interactive table.\"\n",
              "              style=\"display:none;\">\n",
              "        \n",
              "  <svg xmlns=\"http://www.w3.org/2000/svg\" height=\"24px\"viewBox=\"0 0 24 24\"\n",
              "       width=\"24px\">\n",
              "    <path d=\"M0 0h24v24H0V0z\" fill=\"none\"/>\n",
              "    <path d=\"M18.56 5.44l.94 2.06.94-2.06 2.06-.94-2.06-.94-.94-2.06-.94 2.06-2.06.94zm-11 1L8.5 8.5l.94-2.06 2.06-.94-2.06-.94L8.5 2.5l-.94 2.06-2.06.94zm10 10l.94 2.06.94-2.06 2.06-.94-2.06-.94-.94-2.06-.94 2.06-2.06.94z\"/><path d=\"M17.41 7.96l-1.37-1.37c-.4-.4-.92-.59-1.43-.59-.52 0-1.04.2-1.43.59L10.3 9.45l-7.72 7.72c-.78.78-.78 2.05 0 2.83L4 21.41c.39.39.9.59 1.41.59.51 0 1.02-.2 1.41-.59l7.78-7.78 2.81-2.81c.8-.78.8-2.07 0-2.86zM5.41 20L4 18.59l7.72-7.72 1.47 1.35L5.41 20z\"/>\n",
              "  </svg>\n",
              "      </button>\n",
              "      \n",
              "  <style>\n",
              "    .colab-df-container {\n",
              "      display:flex;\n",
              "      flex-wrap:wrap;\n",
              "      gap: 12px;\n",
              "    }\n",
              "\n",
              "    .colab-df-convert {\n",
              "      background-color: #E8F0FE;\n",
              "      border: none;\n",
              "      border-radius: 50%;\n",
              "      cursor: pointer;\n",
              "      display: none;\n",
              "      fill: #1967D2;\n",
              "      height: 32px;\n",
              "      padding: 0 0 0 0;\n",
              "      width: 32px;\n",
              "    }\n",
              "\n",
              "    .colab-df-convert:hover {\n",
              "      background-color: #E2EBFA;\n",
              "      box-shadow: 0px 1px 2px rgba(60, 64, 67, 0.3), 0px 1px 3px 1px rgba(60, 64, 67, 0.15);\n",
              "      fill: #174EA6;\n",
              "    }\n",
              "\n",
              "    [theme=dark] .colab-df-convert {\n",
              "      background-color: #3B4455;\n",
              "      fill: #D2E3FC;\n",
              "    }\n",
              "\n",
              "    [theme=dark] .colab-df-convert:hover {\n",
              "      background-color: #434B5C;\n",
              "      box-shadow: 0px 1px 3px 1px rgba(0, 0, 0, 0.15);\n",
              "      filter: drop-shadow(0px 1px 2px rgba(0, 0, 0, 0.3));\n",
              "      fill: #FFFFFF;\n",
              "    }\n",
              "  </style>\n",
              "\n",
              "      <script>\n",
              "        const buttonEl =\n",
              "          document.querySelector('#df-71d5fbe3-bde8-4577-bc83-e7e19f88d168 button.colab-df-convert');\n",
              "        buttonEl.style.display =\n",
              "          google.colab.kernel.accessAllowed ? 'block' : 'none';\n",
              "\n",
              "        async function convertToInteractive(key) {\n",
              "          const element = document.querySelector('#df-71d5fbe3-bde8-4577-bc83-e7e19f88d168');\n",
              "          const dataTable =\n",
              "            await google.colab.kernel.invokeFunction('convertToInteractive',\n",
              "                                                     [key], {});\n",
              "          if (!dataTable) return;\n",
              "\n",
              "          const docLinkHtml = 'Like what you see? Visit the ' +\n",
              "            '<a target=\"_blank\" href=https://colab.research.google.com/notebooks/data_table.ipynb>data table notebook</a>'\n",
              "            + ' to learn more about interactive tables.';\n",
              "          element.innerHTML = '';\n",
              "          dataTable['output_type'] = 'display_data';\n",
              "          await google.colab.output.renderOutput(dataTable, element);\n",
              "          const docLink = document.createElement('div');\n",
              "          docLink.innerHTML = docLinkHtml;\n",
              "          element.appendChild(docLink);\n",
              "        }\n",
              "      </script>\n",
              "    </div>\n",
              "  </div>\n",
              "  "
            ]
          },
          "metadata": {},
          "execution_count": 10
        }
      ]
    },
    {
      "cell_type": "markdown",
      "source": [
        "#### **參數on**\n",
        "* 看出有两列列名是一样的，工号和员工姓名\n",
        "* 发现索引是5的记录虽然员工姓名一样但是工号不一样，有可能一个公司中出现了重名的员工"
      ],
      "metadata": {
        "id": "JGD3DdSXGGcn"
      }
    },
    {
      "cell_type": "code",
      "source": [
        "#帶工號之销售部门对员工销售业绩的统计表\n",
        "work3 = pd.read_excel(file,sheet_name=2)\n",
        "work3"
      ],
      "metadata": {
        "colab": {
          "base_uri": "https://localhost:8080/",
          "height": 206
        },
        "id": "szwkRdpsDyu_",
        "outputId": "b90697ff-3ba4-4617-c7af-89effe4faf74"
      },
      "execution_count": null,
      "outputs": [
        {
          "output_type": "execute_result",
          "data": {
            "text/plain": [
              "   工号 员工姓名   销售业绩   提成收入  基本工资  社保金额   创造收益   是否达标\n",
              "0   1   赵一  30000   6000  2500   125  21375  False\n",
              "1   2   钱明  20000   4000  2500   125  13375  False\n",
              "2   3   周元  50000  10000  2500   125  37375   True\n",
              "3   4   李雷  40000   8000  2500   125  29375  False\n",
              "4   5   王七  60000  12000  2500   125  45375   True"
            ],
            "text/html": [
              "\n",
              "  <div id=\"df-98dca6b6-0ee2-4e56-a56a-e3a8ce959c25\">\n",
              "    <div class=\"colab-df-container\">\n",
              "      <div>\n",
              "<style scoped>\n",
              "    .dataframe tbody tr th:only-of-type {\n",
              "        vertical-align: middle;\n",
              "    }\n",
              "\n",
              "    .dataframe tbody tr th {\n",
              "        vertical-align: top;\n",
              "    }\n",
              "\n",
              "    .dataframe thead th {\n",
              "        text-align: right;\n",
              "    }\n",
              "</style>\n",
              "<table border=\"1\" class=\"dataframe\">\n",
              "  <thead>\n",
              "    <tr style=\"text-align: right;\">\n",
              "      <th></th>\n",
              "      <th>工号</th>\n",
              "      <th>员工姓名</th>\n",
              "      <th>销售业绩</th>\n",
              "      <th>提成收入</th>\n",
              "      <th>基本工资</th>\n",
              "      <th>社保金额</th>\n",
              "      <th>创造收益</th>\n",
              "      <th>是否达标</th>\n",
              "    </tr>\n",
              "  </thead>\n",
              "  <tbody>\n",
              "    <tr>\n",
              "      <th>0</th>\n",
              "      <td>1</td>\n",
              "      <td>赵一</td>\n",
              "      <td>30000</td>\n",
              "      <td>6000</td>\n",
              "      <td>2500</td>\n",
              "      <td>125</td>\n",
              "      <td>21375</td>\n",
              "      <td>False</td>\n",
              "    </tr>\n",
              "    <tr>\n",
              "      <th>1</th>\n",
              "      <td>2</td>\n",
              "      <td>钱明</td>\n",
              "      <td>20000</td>\n",
              "      <td>4000</td>\n",
              "      <td>2500</td>\n",
              "      <td>125</td>\n",
              "      <td>13375</td>\n",
              "      <td>False</td>\n",
              "    </tr>\n",
              "    <tr>\n",
              "      <th>2</th>\n",
              "      <td>3</td>\n",
              "      <td>周元</td>\n",
              "      <td>50000</td>\n",
              "      <td>10000</td>\n",
              "      <td>2500</td>\n",
              "      <td>125</td>\n",
              "      <td>37375</td>\n",
              "      <td>True</td>\n",
              "    </tr>\n",
              "    <tr>\n",
              "      <th>3</th>\n",
              "      <td>4</td>\n",
              "      <td>李雷</td>\n",
              "      <td>40000</td>\n",
              "      <td>8000</td>\n",
              "      <td>2500</td>\n",
              "      <td>125</td>\n",
              "      <td>29375</td>\n",
              "      <td>False</td>\n",
              "    </tr>\n",
              "    <tr>\n",
              "      <th>4</th>\n",
              "      <td>5</td>\n",
              "      <td>王七</td>\n",
              "      <td>60000</td>\n",
              "      <td>12000</td>\n",
              "      <td>2500</td>\n",
              "      <td>125</td>\n",
              "      <td>45375</td>\n",
              "      <td>True</td>\n",
              "    </tr>\n",
              "  </tbody>\n",
              "</table>\n",
              "</div>\n",
              "      <button class=\"colab-df-convert\" onclick=\"convertToInteractive('df-98dca6b6-0ee2-4e56-a56a-e3a8ce959c25')\"\n",
              "              title=\"Convert this dataframe to an interactive table.\"\n",
              "              style=\"display:none;\">\n",
              "        \n",
              "  <svg xmlns=\"http://www.w3.org/2000/svg\" height=\"24px\"viewBox=\"0 0 24 24\"\n",
              "       width=\"24px\">\n",
              "    <path d=\"M0 0h24v24H0V0z\" fill=\"none\"/>\n",
              "    <path d=\"M18.56 5.44l.94 2.06.94-2.06 2.06-.94-2.06-.94-.94-2.06-.94 2.06-2.06.94zm-11 1L8.5 8.5l.94-2.06 2.06-.94-2.06-.94L8.5 2.5l-.94 2.06-2.06.94zm10 10l.94 2.06.94-2.06 2.06-.94-2.06-.94-.94-2.06-.94 2.06-2.06.94z\"/><path d=\"M17.41 7.96l-1.37-1.37c-.4-.4-.92-.59-1.43-.59-.52 0-1.04.2-1.43.59L10.3 9.45l-7.72 7.72c-.78.78-.78 2.05 0 2.83L4 21.41c.39.39.9.59 1.41.59.51 0 1.02-.2 1.41-.59l7.78-7.78 2.81-2.81c.8-.78.8-2.07 0-2.86zM5.41 20L4 18.59l7.72-7.72 1.47 1.35L5.41 20z\"/>\n",
              "  </svg>\n",
              "      </button>\n",
              "      \n",
              "  <style>\n",
              "    .colab-df-container {\n",
              "      display:flex;\n",
              "      flex-wrap:wrap;\n",
              "      gap: 12px;\n",
              "    }\n",
              "\n",
              "    .colab-df-convert {\n",
              "      background-color: #E8F0FE;\n",
              "      border: none;\n",
              "      border-radius: 50%;\n",
              "      cursor: pointer;\n",
              "      display: none;\n",
              "      fill: #1967D2;\n",
              "      height: 32px;\n",
              "      padding: 0 0 0 0;\n",
              "      width: 32px;\n",
              "    }\n",
              "\n",
              "    .colab-df-convert:hover {\n",
              "      background-color: #E2EBFA;\n",
              "      box-shadow: 0px 1px 2px rgba(60, 64, 67, 0.3), 0px 1px 3px 1px rgba(60, 64, 67, 0.15);\n",
              "      fill: #174EA6;\n",
              "    }\n",
              "\n",
              "    [theme=dark] .colab-df-convert {\n",
              "      background-color: #3B4455;\n",
              "      fill: #D2E3FC;\n",
              "    }\n",
              "\n",
              "    [theme=dark] .colab-df-convert:hover {\n",
              "      background-color: #434B5C;\n",
              "      box-shadow: 0px 1px 3px 1px rgba(0, 0, 0, 0.15);\n",
              "      filter: drop-shadow(0px 1px 2px rgba(0, 0, 0, 0.3));\n",
              "      fill: #FFFFFF;\n",
              "    }\n",
              "  </style>\n",
              "\n",
              "      <script>\n",
              "        const buttonEl =\n",
              "          document.querySelector('#df-98dca6b6-0ee2-4e56-a56a-e3a8ce959c25 button.colab-df-convert');\n",
              "        buttonEl.style.display =\n",
              "          google.colab.kernel.accessAllowed ? 'block' : 'none';\n",
              "\n",
              "        async function convertToInteractive(key) {\n",
              "          const element = document.querySelector('#df-98dca6b6-0ee2-4e56-a56a-e3a8ce959c25');\n",
              "          const dataTable =\n",
              "            await google.colab.kernel.invokeFunction('convertToInteractive',\n",
              "                                                     [key], {});\n",
              "          if (!dataTable) return;\n",
              "\n",
              "          const docLinkHtml = 'Like what you see? Visit the ' +\n",
              "            '<a target=\"_blank\" href=https://colab.research.google.com/notebooks/data_table.ipynb>data table notebook</a>'\n",
              "            + ' to learn more about interactive tables.';\n",
              "          element.innerHTML = '';\n",
              "          dataTable['output_type'] = 'display_data';\n",
              "          await google.colab.output.renderOutput(dataTable, element);\n",
              "          const docLink = document.createElement('div');\n",
              "          docLink.innerHTML = docLinkHtml;\n",
              "          element.appendChild(docLink);\n",
              "        }\n",
              "      </script>\n",
              "    </div>\n",
              "  </div>\n",
              "  "
            ]
          },
          "metadata": {},
          "execution_count": 11
        }
      ]
    },
    {
      "cell_type": "code",
      "source": [
        "#帶工號之人力部门对员工信息的统计表\n",
        "work4 = pd.read_excel(file,sheet_name=3)\n",
        "work4"
      ],
      "metadata": {
        "colab": {
          "base_uri": "https://localhost:8080/",
          "height": 269
        },
        "id": "nSWN3sTTF9yK",
        "outputId": "8318e968-2825-43c4-ddaf-9f410d3d121c"
      },
      "execution_count": null,
      "outputs": [
        {
          "output_type": "execute_result",
          "data": {
            "text/plain": [
              "   工号 员工姓名    公司名称 性别 员工状态 员工等级\n",
              "0   1   赵一  脑洞有限公司  女   离职   初级\n",
              "1   2   钱明  脑洞有限公司  男   离职   初级\n",
              "2   3   周元  脑洞有限公司  男   在职   中级\n",
              "3   4   李雷  脑洞有限公司  女   离职   中级\n",
              "4   8   王七  脑洞有限公司  男   在职   高级\n",
              "5   6   赵三  脑洞有限公司  男   离职   高级\n",
              "6   7   赵六  脑洞有限公司  女   在职   中级"
            ],
            "text/html": [
              "\n",
              "  <div id=\"df-f1f86678-6c04-4acc-80f6-80950d9e4ee6\">\n",
              "    <div class=\"colab-df-container\">\n",
              "      <div>\n",
              "<style scoped>\n",
              "    .dataframe tbody tr th:only-of-type {\n",
              "        vertical-align: middle;\n",
              "    }\n",
              "\n",
              "    .dataframe tbody tr th {\n",
              "        vertical-align: top;\n",
              "    }\n",
              "\n",
              "    .dataframe thead th {\n",
              "        text-align: right;\n",
              "    }\n",
              "</style>\n",
              "<table border=\"1\" class=\"dataframe\">\n",
              "  <thead>\n",
              "    <tr style=\"text-align: right;\">\n",
              "      <th></th>\n",
              "      <th>工号</th>\n",
              "      <th>员工姓名</th>\n",
              "      <th>公司名称</th>\n",
              "      <th>性别</th>\n",
              "      <th>员工状态</th>\n",
              "      <th>员工等级</th>\n",
              "    </tr>\n",
              "  </thead>\n",
              "  <tbody>\n",
              "    <tr>\n",
              "      <th>0</th>\n",
              "      <td>1</td>\n",
              "      <td>赵一</td>\n",
              "      <td>脑洞有限公司</td>\n",
              "      <td>女</td>\n",
              "      <td>离职</td>\n",
              "      <td>初级</td>\n",
              "    </tr>\n",
              "    <tr>\n",
              "      <th>1</th>\n",
              "      <td>2</td>\n",
              "      <td>钱明</td>\n",
              "      <td>脑洞有限公司</td>\n",
              "      <td>男</td>\n",
              "      <td>离职</td>\n",
              "      <td>初级</td>\n",
              "    </tr>\n",
              "    <tr>\n",
              "      <th>2</th>\n",
              "      <td>3</td>\n",
              "      <td>周元</td>\n",
              "      <td>脑洞有限公司</td>\n",
              "      <td>男</td>\n",
              "      <td>在职</td>\n",
              "      <td>中级</td>\n",
              "    </tr>\n",
              "    <tr>\n",
              "      <th>3</th>\n",
              "      <td>4</td>\n",
              "      <td>李雷</td>\n",
              "      <td>脑洞有限公司</td>\n",
              "      <td>女</td>\n",
              "      <td>离职</td>\n",
              "      <td>中级</td>\n",
              "    </tr>\n",
              "    <tr>\n",
              "      <th>4</th>\n",
              "      <td>8</td>\n",
              "      <td>王七</td>\n",
              "      <td>脑洞有限公司</td>\n",
              "      <td>男</td>\n",
              "      <td>在职</td>\n",
              "      <td>高级</td>\n",
              "    </tr>\n",
              "    <tr>\n",
              "      <th>5</th>\n",
              "      <td>6</td>\n",
              "      <td>赵三</td>\n",
              "      <td>脑洞有限公司</td>\n",
              "      <td>男</td>\n",
              "      <td>离职</td>\n",
              "      <td>高级</td>\n",
              "    </tr>\n",
              "    <tr>\n",
              "      <th>6</th>\n",
              "      <td>7</td>\n",
              "      <td>赵六</td>\n",
              "      <td>脑洞有限公司</td>\n",
              "      <td>女</td>\n",
              "      <td>在职</td>\n",
              "      <td>中级</td>\n",
              "    </tr>\n",
              "  </tbody>\n",
              "</table>\n",
              "</div>\n",
              "      <button class=\"colab-df-convert\" onclick=\"convertToInteractive('df-f1f86678-6c04-4acc-80f6-80950d9e4ee6')\"\n",
              "              title=\"Convert this dataframe to an interactive table.\"\n",
              "              style=\"display:none;\">\n",
              "        \n",
              "  <svg xmlns=\"http://www.w3.org/2000/svg\" height=\"24px\"viewBox=\"0 0 24 24\"\n",
              "       width=\"24px\">\n",
              "    <path d=\"M0 0h24v24H0V0z\" fill=\"none\"/>\n",
              "    <path d=\"M18.56 5.44l.94 2.06.94-2.06 2.06-.94-2.06-.94-.94-2.06-.94 2.06-2.06.94zm-11 1L8.5 8.5l.94-2.06 2.06-.94-2.06-.94L8.5 2.5l-.94 2.06-2.06.94zm10 10l.94 2.06.94-2.06 2.06-.94-2.06-.94-.94-2.06-.94 2.06-2.06.94z\"/><path d=\"M17.41 7.96l-1.37-1.37c-.4-.4-.92-.59-1.43-.59-.52 0-1.04.2-1.43.59L10.3 9.45l-7.72 7.72c-.78.78-.78 2.05 0 2.83L4 21.41c.39.39.9.59 1.41.59.51 0 1.02-.2 1.41-.59l7.78-7.78 2.81-2.81c.8-.78.8-2.07 0-2.86zM5.41 20L4 18.59l7.72-7.72 1.47 1.35L5.41 20z\"/>\n",
              "  </svg>\n",
              "      </button>\n",
              "      \n",
              "  <style>\n",
              "    .colab-df-container {\n",
              "      display:flex;\n",
              "      flex-wrap:wrap;\n",
              "      gap: 12px;\n",
              "    }\n",
              "\n",
              "    .colab-df-convert {\n",
              "      background-color: #E8F0FE;\n",
              "      border: none;\n",
              "      border-radius: 50%;\n",
              "      cursor: pointer;\n",
              "      display: none;\n",
              "      fill: #1967D2;\n",
              "      height: 32px;\n",
              "      padding: 0 0 0 0;\n",
              "      width: 32px;\n",
              "    }\n",
              "\n",
              "    .colab-df-convert:hover {\n",
              "      background-color: #E2EBFA;\n",
              "      box-shadow: 0px 1px 2px rgba(60, 64, 67, 0.3), 0px 1px 3px 1px rgba(60, 64, 67, 0.15);\n",
              "      fill: #174EA6;\n",
              "    }\n",
              "\n",
              "    [theme=dark] .colab-df-convert {\n",
              "      background-color: #3B4455;\n",
              "      fill: #D2E3FC;\n",
              "    }\n",
              "\n",
              "    [theme=dark] .colab-df-convert:hover {\n",
              "      background-color: #434B5C;\n",
              "      box-shadow: 0px 1px 3px 1px rgba(0, 0, 0, 0.15);\n",
              "      filter: drop-shadow(0px 1px 2px rgba(0, 0, 0, 0.3));\n",
              "      fill: #FFFFFF;\n",
              "    }\n",
              "  </style>\n",
              "\n",
              "      <script>\n",
              "        const buttonEl =\n",
              "          document.querySelector('#df-f1f86678-6c04-4acc-80f6-80950d9e4ee6 button.colab-df-convert');\n",
              "        buttonEl.style.display =\n",
              "          google.colab.kernel.accessAllowed ? 'block' : 'none';\n",
              "\n",
              "        async function convertToInteractive(key) {\n",
              "          const element = document.querySelector('#df-f1f86678-6c04-4acc-80f6-80950d9e4ee6');\n",
              "          const dataTable =\n",
              "            await google.colab.kernel.invokeFunction('convertToInteractive',\n",
              "                                                     [key], {});\n",
              "          if (!dataTable) return;\n",
              "\n",
              "          const docLinkHtml = 'Like what you see? Visit the ' +\n",
              "            '<a target=\"_blank\" href=https://colab.research.google.com/notebooks/data_table.ipynb>data table notebook</a>'\n",
              "            + ' to learn more about interactive tables.';\n",
              "          element.innerHTML = '';\n",
              "          dataTable['output_type'] = 'display_data';\n",
              "          await google.colab.output.renderOutput(dataTable, element);\n",
              "          const docLink = document.createElement('div');\n",
              "          docLink.innerHTML = docLinkHtml;\n",
              "          element.appendChild(docLink);\n",
              "        }\n",
              "      </script>\n",
              "    </div>\n",
              "  </div>\n",
              "  "
            ]
          },
          "metadata": {},
          "execution_count": 12
        }
      ]
    },
    {
      "cell_type": "code",
      "source": [
        "#不指定主鍵\n",
        "pd.merge(work3,work4) #因預設inner，只有工號&員工姓名相同的，才會合併"
      ],
      "metadata": {
        "colab": {
          "base_uri": "https://localhost:8080/",
          "height": 305
        },
        "id": "iU6E4U4cGGls",
        "outputId": "ba382cbb-d8c6-45a8-975d-4ef41751898d"
      },
      "execution_count": null,
      "outputs": [
        {
          "output_type": "execute_result",
          "data": {
            "text/plain": [
              "   工号 员工姓名   销售业绩   提成收入  基本工资  社保金额   创造收益   是否达标    公司名称 性别 员工状态 员工等级\n",
              "0   1   赵一  30000   6000  2500   125  21375  False  脑洞有限公司  女   离职   初级\n",
              "1   2   钱明  20000   4000  2500   125  13375  False  脑洞有限公司  男   离职   初级\n",
              "2   3   周元  50000  10000  2500   125  37375   True  脑洞有限公司  男   在职   中级\n",
              "3   4   李雷  40000   8000  2500   125  29375  False  脑洞有限公司  女   离职   中级"
            ],
            "text/html": [
              "\n",
              "  <div id=\"df-7951f045-1eb5-438c-9b1f-c2f5532f1987\">\n",
              "    <div class=\"colab-df-container\">\n",
              "      <div>\n",
              "<style scoped>\n",
              "    .dataframe tbody tr th:only-of-type {\n",
              "        vertical-align: middle;\n",
              "    }\n",
              "\n",
              "    .dataframe tbody tr th {\n",
              "        vertical-align: top;\n",
              "    }\n",
              "\n",
              "    .dataframe thead th {\n",
              "        text-align: right;\n",
              "    }\n",
              "</style>\n",
              "<table border=\"1\" class=\"dataframe\">\n",
              "  <thead>\n",
              "    <tr style=\"text-align: right;\">\n",
              "      <th></th>\n",
              "      <th>工号</th>\n",
              "      <th>员工姓名</th>\n",
              "      <th>销售业绩</th>\n",
              "      <th>提成收入</th>\n",
              "      <th>基本工资</th>\n",
              "      <th>社保金额</th>\n",
              "      <th>创造收益</th>\n",
              "      <th>是否达标</th>\n",
              "      <th>公司名称</th>\n",
              "      <th>性别</th>\n",
              "      <th>员工状态</th>\n",
              "      <th>员工等级</th>\n",
              "    </tr>\n",
              "  </thead>\n",
              "  <tbody>\n",
              "    <tr>\n",
              "      <th>0</th>\n",
              "      <td>1</td>\n",
              "      <td>赵一</td>\n",
              "      <td>30000</td>\n",
              "      <td>6000</td>\n",
              "      <td>2500</td>\n",
              "      <td>125</td>\n",
              "      <td>21375</td>\n",
              "      <td>False</td>\n",
              "      <td>脑洞有限公司</td>\n",
              "      <td>女</td>\n",
              "      <td>离职</td>\n",
              "      <td>初级</td>\n",
              "    </tr>\n",
              "    <tr>\n",
              "      <th>1</th>\n",
              "      <td>2</td>\n",
              "      <td>钱明</td>\n",
              "      <td>20000</td>\n",
              "      <td>4000</td>\n",
              "      <td>2500</td>\n",
              "      <td>125</td>\n",
              "      <td>13375</td>\n",
              "      <td>False</td>\n",
              "      <td>脑洞有限公司</td>\n",
              "      <td>男</td>\n",
              "      <td>离职</td>\n",
              "      <td>初级</td>\n",
              "    </tr>\n",
              "    <tr>\n",
              "      <th>2</th>\n",
              "      <td>3</td>\n",
              "      <td>周元</td>\n",
              "      <td>50000</td>\n",
              "      <td>10000</td>\n",
              "      <td>2500</td>\n",
              "      <td>125</td>\n",
              "      <td>37375</td>\n",
              "      <td>True</td>\n",
              "      <td>脑洞有限公司</td>\n",
              "      <td>男</td>\n",
              "      <td>在职</td>\n",
              "      <td>中级</td>\n",
              "    </tr>\n",
              "    <tr>\n",
              "      <th>3</th>\n",
              "      <td>4</td>\n",
              "      <td>李雷</td>\n",
              "      <td>40000</td>\n",
              "      <td>8000</td>\n",
              "      <td>2500</td>\n",
              "      <td>125</td>\n",
              "      <td>29375</td>\n",
              "      <td>False</td>\n",
              "      <td>脑洞有限公司</td>\n",
              "      <td>女</td>\n",
              "      <td>离职</td>\n",
              "      <td>中级</td>\n",
              "    </tr>\n",
              "  </tbody>\n",
              "</table>\n",
              "</div>\n",
              "      <button class=\"colab-df-convert\" onclick=\"convertToInteractive('df-7951f045-1eb5-438c-9b1f-c2f5532f1987')\"\n",
              "              title=\"Convert this dataframe to an interactive table.\"\n",
              "              style=\"display:none;\">\n",
              "        \n",
              "  <svg xmlns=\"http://www.w3.org/2000/svg\" height=\"24px\"viewBox=\"0 0 24 24\"\n",
              "       width=\"24px\">\n",
              "    <path d=\"M0 0h24v24H0V0z\" fill=\"none\"/>\n",
              "    <path d=\"M18.56 5.44l.94 2.06.94-2.06 2.06-.94-2.06-.94-.94-2.06-.94 2.06-2.06.94zm-11 1L8.5 8.5l.94-2.06 2.06-.94-2.06-.94L8.5 2.5l-.94 2.06-2.06.94zm10 10l.94 2.06.94-2.06 2.06-.94-2.06-.94-.94-2.06-.94 2.06-2.06.94z\"/><path d=\"M17.41 7.96l-1.37-1.37c-.4-.4-.92-.59-1.43-.59-.52 0-1.04.2-1.43.59L10.3 9.45l-7.72 7.72c-.78.78-.78 2.05 0 2.83L4 21.41c.39.39.9.59 1.41.59.51 0 1.02-.2 1.41-.59l7.78-7.78 2.81-2.81c.8-.78.8-2.07 0-2.86zM5.41 20L4 18.59l7.72-7.72 1.47 1.35L5.41 20z\"/>\n",
              "  </svg>\n",
              "      </button>\n",
              "      \n",
              "  <style>\n",
              "    .colab-df-container {\n",
              "      display:flex;\n",
              "      flex-wrap:wrap;\n",
              "      gap: 12px;\n",
              "    }\n",
              "\n",
              "    .colab-df-convert {\n",
              "      background-color: #E8F0FE;\n",
              "      border: none;\n",
              "      border-radius: 50%;\n",
              "      cursor: pointer;\n",
              "      display: none;\n",
              "      fill: #1967D2;\n",
              "      height: 32px;\n",
              "      padding: 0 0 0 0;\n",
              "      width: 32px;\n",
              "    }\n",
              "\n",
              "    .colab-df-convert:hover {\n",
              "      background-color: #E2EBFA;\n",
              "      box-shadow: 0px 1px 2px rgba(60, 64, 67, 0.3), 0px 1px 3px 1px rgba(60, 64, 67, 0.15);\n",
              "      fill: #174EA6;\n",
              "    }\n",
              "\n",
              "    [theme=dark] .colab-df-convert {\n",
              "      background-color: #3B4455;\n",
              "      fill: #D2E3FC;\n",
              "    }\n",
              "\n",
              "    [theme=dark] .colab-df-convert:hover {\n",
              "      background-color: #434B5C;\n",
              "      box-shadow: 0px 1px 3px 1px rgba(0, 0, 0, 0.15);\n",
              "      filter: drop-shadow(0px 1px 2px rgba(0, 0, 0, 0.3));\n",
              "      fill: #FFFFFF;\n",
              "    }\n",
              "  </style>\n",
              "\n",
              "      <script>\n",
              "        const buttonEl =\n",
              "          document.querySelector('#df-7951f045-1eb5-438c-9b1f-c2f5532f1987 button.colab-df-convert');\n",
              "        buttonEl.style.display =\n",
              "          google.colab.kernel.accessAllowed ? 'block' : 'none';\n",
              "\n",
              "        async function convertToInteractive(key) {\n",
              "          const element = document.querySelector('#df-7951f045-1eb5-438c-9b1f-c2f5532f1987');\n",
              "          const dataTable =\n",
              "            await google.colab.kernel.invokeFunction('convertToInteractive',\n",
              "                                                     [key], {});\n",
              "          if (!dataTable) return;\n",
              "\n",
              "          const docLinkHtml = 'Like what you see? Visit the ' +\n",
              "            '<a target=\"_blank\" href=https://colab.research.google.com/notebooks/data_table.ipynb>data table notebook</a>'\n",
              "            + ' to learn more about interactive tables.';\n",
              "          element.innerHTML = '';\n",
              "          dataTable['output_type'] = 'display_data';\n",
              "          await google.colab.output.renderOutput(dataTable, element);\n",
              "          const docLink = document.createElement('div');\n",
              "          docLink.innerHTML = docLinkHtml;\n",
              "          element.appendChild(docLink);\n",
              "        }\n",
              "      </script>\n",
              "    </div>\n",
              "  </div>\n",
              "  "
            ]
          },
          "metadata": {},
          "execution_count": 13
        }
      ]
    },
    {
      "cell_type": "code",
      "source": [
        "#指定主鍵\n",
        "pd.merge(work3,work4,on=\"员工姓名\")"
      ],
      "metadata": {
        "colab": {
          "base_uri": "https://localhost:8080/",
          "height": 354
        },
        "id": "2GHQ29IAGGoN",
        "outputId": "ace5fde6-1e8b-4426-efc5-8d0954e9da2a"
      },
      "execution_count": null,
      "outputs": [
        {
          "output_type": "execute_result",
          "data": {
            "text/plain": [
              "   工号_x 员工姓名   销售业绩   提成收入  基本工资  社保金额   创造收益   是否达标  工号_y    公司名称 性别 员工状态  \\\n",
              "0     1   赵一  30000   6000  2500   125  21375  False     1  脑洞有限公司  女   离职   \n",
              "1     2   钱明  20000   4000  2500   125  13375  False     2  脑洞有限公司  男   离职   \n",
              "2     3   周元  50000  10000  2500   125  37375   True     3  脑洞有限公司  男   在职   \n",
              "3     4   李雷  40000   8000  2500   125  29375  False     4  脑洞有限公司  女   离职   \n",
              "4     5   王七  60000  12000  2500   125  45375   True     8  脑洞有限公司  男   在职   \n",
              "\n",
              "  员工等级  \n",
              "0   初级  \n",
              "1   初级  \n",
              "2   中级  \n",
              "3   中级  \n",
              "4   高级  "
            ],
            "text/html": [
              "\n",
              "  <div id=\"df-e83599a8-8f82-4807-ba29-b7672feab1a7\">\n",
              "    <div class=\"colab-df-container\">\n",
              "      <div>\n",
              "<style scoped>\n",
              "    .dataframe tbody tr th:only-of-type {\n",
              "        vertical-align: middle;\n",
              "    }\n",
              "\n",
              "    .dataframe tbody tr th {\n",
              "        vertical-align: top;\n",
              "    }\n",
              "\n",
              "    .dataframe thead th {\n",
              "        text-align: right;\n",
              "    }\n",
              "</style>\n",
              "<table border=\"1\" class=\"dataframe\">\n",
              "  <thead>\n",
              "    <tr style=\"text-align: right;\">\n",
              "      <th></th>\n",
              "      <th>工号_x</th>\n",
              "      <th>员工姓名</th>\n",
              "      <th>销售业绩</th>\n",
              "      <th>提成收入</th>\n",
              "      <th>基本工资</th>\n",
              "      <th>社保金额</th>\n",
              "      <th>创造收益</th>\n",
              "      <th>是否达标</th>\n",
              "      <th>工号_y</th>\n",
              "      <th>公司名称</th>\n",
              "      <th>性别</th>\n",
              "      <th>员工状态</th>\n",
              "      <th>员工等级</th>\n",
              "    </tr>\n",
              "  </thead>\n",
              "  <tbody>\n",
              "    <tr>\n",
              "      <th>0</th>\n",
              "      <td>1</td>\n",
              "      <td>赵一</td>\n",
              "      <td>30000</td>\n",
              "      <td>6000</td>\n",
              "      <td>2500</td>\n",
              "      <td>125</td>\n",
              "      <td>21375</td>\n",
              "      <td>False</td>\n",
              "      <td>1</td>\n",
              "      <td>脑洞有限公司</td>\n",
              "      <td>女</td>\n",
              "      <td>离职</td>\n",
              "      <td>初级</td>\n",
              "    </tr>\n",
              "    <tr>\n",
              "      <th>1</th>\n",
              "      <td>2</td>\n",
              "      <td>钱明</td>\n",
              "      <td>20000</td>\n",
              "      <td>4000</td>\n",
              "      <td>2500</td>\n",
              "      <td>125</td>\n",
              "      <td>13375</td>\n",
              "      <td>False</td>\n",
              "      <td>2</td>\n",
              "      <td>脑洞有限公司</td>\n",
              "      <td>男</td>\n",
              "      <td>离职</td>\n",
              "      <td>初级</td>\n",
              "    </tr>\n",
              "    <tr>\n",
              "      <th>2</th>\n",
              "      <td>3</td>\n",
              "      <td>周元</td>\n",
              "      <td>50000</td>\n",
              "      <td>10000</td>\n",
              "      <td>2500</td>\n",
              "      <td>125</td>\n",
              "      <td>37375</td>\n",
              "      <td>True</td>\n",
              "      <td>3</td>\n",
              "      <td>脑洞有限公司</td>\n",
              "      <td>男</td>\n",
              "      <td>在职</td>\n",
              "      <td>中级</td>\n",
              "    </tr>\n",
              "    <tr>\n",
              "      <th>3</th>\n",
              "      <td>4</td>\n",
              "      <td>李雷</td>\n",
              "      <td>40000</td>\n",
              "      <td>8000</td>\n",
              "      <td>2500</td>\n",
              "      <td>125</td>\n",
              "      <td>29375</td>\n",
              "      <td>False</td>\n",
              "      <td>4</td>\n",
              "      <td>脑洞有限公司</td>\n",
              "      <td>女</td>\n",
              "      <td>离职</td>\n",
              "      <td>中级</td>\n",
              "    </tr>\n",
              "    <tr>\n",
              "      <th>4</th>\n",
              "      <td>5</td>\n",
              "      <td>王七</td>\n",
              "      <td>60000</td>\n",
              "      <td>12000</td>\n",
              "      <td>2500</td>\n",
              "      <td>125</td>\n",
              "      <td>45375</td>\n",
              "      <td>True</td>\n",
              "      <td>8</td>\n",
              "      <td>脑洞有限公司</td>\n",
              "      <td>男</td>\n",
              "      <td>在职</td>\n",
              "      <td>高级</td>\n",
              "    </tr>\n",
              "  </tbody>\n",
              "</table>\n",
              "</div>\n",
              "      <button class=\"colab-df-convert\" onclick=\"convertToInteractive('df-e83599a8-8f82-4807-ba29-b7672feab1a7')\"\n",
              "              title=\"Convert this dataframe to an interactive table.\"\n",
              "              style=\"display:none;\">\n",
              "        \n",
              "  <svg xmlns=\"http://www.w3.org/2000/svg\" height=\"24px\"viewBox=\"0 0 24 24\"\n",
              "       width=\"24px\">\n",
              "    <path d=\"M0 0h24v24H0V0z\" fill=\"none\"/>\n",
              "    <path d=\"M18.56 5.44l.94 2.06.94-2.06 2.06-.94-2.06-.94-.94-2.06-.94 2.06-2.06.94zm-11 1L8.5 8.5l.94-2.06 2.06-.94-2.06-.94L8.5 2.5l-.94 2.06-2.06.94zm10 10l.94 2.06.94-2.06 2.06-.94-2.06-.94-.94-2.06-.94 2.06-2.06.94z\"/><path d=\"M17.41 7.96l-1.37-1.37c-.4-.4-.92-.59-1.43-.59-.52 0-1.04.2-1.43.59L10.3 9.45l-7.72 7.72c-.78.78-.78 2.05 0 2.83L4 21.41c.39.39.9.59 1.41.59.51 0 1.02-.2 1.41-.59l7.78-7.78 2.81-2.81c.8-.78.8-2.07 0-2.86zM5.41 20L4 18.59l7.72-7.72 1.47 1.35L5.41 20z\"/>\n",
              "  </svg>\n",
              "      </button>\n",
              "      \n",
              "  <style>\n",
              "    .colab-df-container {\n",
              "      display:flex;\n",
              "      flex-wrap:wrap;\n",
              "      gap: 12px;\n",
              "    }\n",
              "\n",
              "    .colab-df-convert {\n",
              "      background-color: #E8F0FE;\n",
              "      border: none;\n",
              "      border-radius: 50%;\n",
              "      cursor: pointer;\n",
              "      display: none;\n",
              "      fill: #1967D2;\n",
              "      height: 32px;\n",
              "      padding: 0 0 0 0;\n",
              "      width: 32px;\n",
              "    }\n",
              "\n",
              "    .colab-df-convert:hover {\n",
              "      background-color: #E2EBFA;\n",
              "      box-shadow: 0px 1px 2px rgba(60, 64, 67, 0.3), 0px 1px 3px 1px rgba(60, 64, 67, 0.15);\n",
              "      fill: #174EA6;\n",
              "    }\n",
              "\n",
              "    [theme=dark] .colab-df-convert {\n",
              "      background-color: #3B4455;\n",
              "      fill: #D2E3FC;\n",
              "    }\n",
              "\n",
              "    [theme=dark] .colab-df-convert:hover {\n",
              "      background-color: #434B5C;\n",
              "      box-shadow: 0px 1px 3px 1px rgba(0, 0, 0, 0.15);\n",
              "      filter: drop-shadow(0px 1px 2px rgba(0, 0, 0, 0.3));\n",
              "      fill: #FFFFFF;\n",
              "    }\n",
              "  </style>\n",
              "\n",
              "      <script>\n",
              "        const buttonEl =\n",
              "          document.querySelector('#df-e83599a8-8f82-4807-ba29-b7672feab1a7 button.colab-df-convert');\n",
              "        buttonEl.style.display =\n",
              "          google.colab.kernel.accessAllowed ? 'block' : 'none';\n",
              "\n",
              "        async function convertToInteractive(key) {\n",
              "          const element = document.querySelector('#df-e83599a8-8f82-4807-ba29-b7672feab1a7');\n",
              "          const dataTable =\n",
              "            await google.colab.kernel.invokeFunction('convertToInteractive',\n",
              "                                                     [key], {});\n",
              "          if (!dataTable) return;\n",
              "\n",
              "          const docLinkHtml = 'Like what you see? Visit the ' +\n",
              "            '<a target=\"_blank\" href=https://colab.research.google.com/notebooks/data_table.ipynb>data table notebook</a>'\n",
              "            + ' to learn more about interactive tables.';\n",
              "          element.innerHTML = '';\n",
              "          dataTable['output_type'] = 'display_data';\n",
              "          await google.colab.output.renderOutput(dataTable, element);\n",
              "          const docLink = document.createElement('div');\n",
              "          docLink.innerHTML = docLinkHtml;\n",
              "          element.appendChild(docLink);\n",
              "        }\n",
              "      </script>\n",
              "    </div>\n",
              "  </div>\n",
              "  "
            ]
          },
          "metadata": {},
          "execution_count": 14
        }
      ]
    },
    {
      "cell_type": "markdown",
      "source": [
        "#### **参数leftindex和rightindex**\n",
        "* 考虑用索引作为拼接的主键，leftindex和rightindex默认为False，就是不以索引作为主键，调整为True就可以了"
      ],
      "metadata": {
        "id": "9Bgnyxw_Gvus"
      }
    },
    {
      "cell_type": "code",
      "source": [
        "#建立第一個Series\n",
        "dow = pd.Series([\"Sunday\", \"Monday\", \"Tuesday\", \"Wednesday\", \"Thursday\", \"Friday\", \"Saturday\"], name=\"Day\")\n",
        "dow"
      ],
      "metadata": {
        "colab": {
          "base_uri": "https://localhost:8080/"
        },
        "id": "85rng5Pc8eIL",
        "outputId": "1586fdbf-85f8-43a9-d0ba-122b6c9ca5ee"
      },
      "execution_count": null,
      "outputs": [
        {
          "output_type": "execute_result",
          "data": {
            "text/plain": [
              "0       Sunday\n",
              "1       Monday\n",
              "2      Tuesday\n",
              "3    Wednesday\n",
              "4     Thursday\n",
              "5       Friday\n",
              "6     Saturday\n",
              "Name: Day, dtype: object"
            ]
          },
          "metadata": {},
          "execution_count": 2
        }
      ]
    },
    {
      "cell_type": "code",
      "source": [
        "#將dow轉為DF格式\n",
        "df_dow = pd.DataFrame(dow)\n",
        "df_dow"
      ],
      "metadata": {
        "colab": {
          "base_uri": "https://localhost:8080/",
          "height": 269
        },
        "id": "k2TW-OBd8kQu",
        "outputId": "bc080e40-61c1-474b-8672-c3478f89c399"
      },
      "execution_count": null,
      "outputs": [
        {
          "output_type": "execute_result",
          "data": {
            "text/plain": [
              "         Day\n",
              "0     Sunday\n",
              "1     Monday\n",
              "2    Tuesday\n",
              "3  Wednesday\n",
              "4   Thursday\n",
              "5     Friday\n",
              "6   Saturday"
            ],
            "text/html": [
              "\n",
              "  <div id=\"df-fa54a38a-4eab-4ce4-b89c-4e3a5bbe7c3c\">\n",
              "    <div class=\"colab-df-container\">\n",
              "      <div>\n",
              "<style scoped>\n",
              "    .dataframe tbody tr th:only-of-type {\n",
              "        vertical-align: middle;\n",
              "    }\n",
              "\n",
              "    .dataframe tbody tr th {\n",
              "        vertical-align: top;\n",
              "    }\n",
              "\n",
              "    .dataframe thead th {\n",
              "        text-align: right;\n",
              "    }\n",
              "</style>\n",
              "<table border=\"1\" class=\"dataframe\">\n",
              "  <thead>\n",
              "    <tr style=\"text-align: right;\">\n",
              "      <th></th>\n",
              "      <th>Day</th>\n",
              "    </tr>\n",
              "  </thead>\n",
              "  <tbody>\n",
              "    <tr>\n",
              "      <th>0</th>\n",
              "      <td>Sunday</td>\n",
              "    </tr>\n",
              "    <tr>\n",
              "      <th>1</th>\n",
              "      <td>Monday</td>\n",
              "    </tr>\n",
              "    <tr>\n",
              "      <th>2</th>\n",
              "      <td>Tuesday</td>\n",
              "    </tr>\n",
              "    <tr>\n",
              "      <th>3</th>\n",
              "      <td>Wednesday</td>\n",
              "    </tr>\n",
              "    <tr>\n",
              "      <th>4</th>\n",
              "      <td>Thursday</td>\n",
              "    </tr>\n",
              "    <tr>\n",
              "      <th>5</th>\n",
              "      <td>Friday</td>\n",
              "    </tr>\n",
              "    <tr>\n",
              "      <th>6</th>\n",
              "      <td>Saturday</td>\n",
              "    </tr>\n",
              "  </tbody>\n",
              "</table>\n",
              "</div>\n",
              "      <button class=\"colab-df-convert\" onclick=\"convertToInteractive('df-fa54a38a-4eab-4ce4-b89c-4e3a5bbe7c3c')\"\n",
              "              title=\"Convert this dataframe to an interactive table.\"\n",
              "              style=\"display:none;\">\n",
              "        \n",
              "  <svg xmlns=\"http://www.w3.org/2000/svg\" height=\"24px\"viewBox=\"0 0 24 24\"\n",
              "       width=\"24px\">\n",
              "    <path d=\"M0 0h24v24H0V0z\" fill=\"none\"/>\n",
              "    <path d=\"M18.56 5.44l.94 2.06.94-2.06 2.06-.94-2.06-.94-.94-2.06-.94 2.06-2.06.94zm-11 1L8.5 8.5l.94-2.06 2.06-.94-2.06-.94L8.5 2.5l-.94 2.06-2.06.94zm10 10l.94 2.06.94-2.06 2.06-.94-2.06-.94-.94-2.06-.94 2.06-2.06.94z\"/><path d=\"M17.41 7.96l-1.37-1.37c-.4-.4-.92-.59-1.43-.59-.52 0-1.04.2-1.43.59L10.3 9.45l-7.72 7.72c-.78.78-.78 2.05 0 2.83L4 21.41c.39.39.9.59 1.41.59.51 0 1.02-.2 1.41-.59l7.78-7.78 2.81-2.81c.8-.78.8-2.07 0-2.86zM5.41 20L4 18.59l7.72-7.72 1.47 1.35L5.41 20z\"/>\n",
              "  </svg>\n",
              "      </button>\n",
              "      \n",
              "  <style>\n",
              "    .colab-df-container {\n",
              "      display:flex;\n",
              "      flex-wrap:wrap;\n",
              "      gap: 12px;\n",
              "    }\n",
              "\n",
              "    .colab-df-convert {\n",
              "      background-color: #E8F0FE;\n",
              "      border: none;\n",
              "      border-radius: 50%;\n",
              "      cursor: pointer;\n",
              "      display: none;\n",
              "      fill: #1967D2;\n",
              "      height: 32px;\n",
              "      padding: 0 0 0 0;\n",
              "      width: 32px;\n",
              "    }\n",
              "\n",
              "    .colab-df-convert:hover {\n",
              "      background-color: #E2EBFA;\n",
              "      box-shadow: 0px 1px 2px rgba(60, 64, 67, 0.3), 0px 1px 3px 1px rgba(60, 64, 67, 0.15);\n",
              "      fill: #174EA6;\n",
              "    }\n",
              "\n",
              "    [theme=dark] .colab-df-convert {\n",
              "      background-color: #3B4455;\n",
              "      fill: #D2E3FC;\n",
              "    }\n",
              "\n",
              "    [theme=dark] .colab-df-convert:hover {\n",
              "      background-color: #434B5C;\n",
              "      box-shadow: 0px 1px 3px 1px rgba(0, 0, 0, 0.15);\n",
              "      filter: drop-shadow(0px 1px 2px rgba(0, 0, 0, 0.3));\n",
              "      fill: #FFFFFF;\n",
              "    }\n",
              "  </style>\n",
              "\n",
              "      <script>\n",
              "        const buttonEl =\n",
              "          document.querySelector('#df-fa54a38a-4eab-4ce4-b89c-4e3a5bbe7c3c button.colab-df-convert');\n",
              "        buttonEl.style.display =\n",
              "          google.colab.kernel.accessAllowed ? 'block' : 'none';\n",
              "\n",
              "        async function convertToInteractive(key) {\n",
              "          const element = document.querySelector('#df-fa54a38a-4eab-4ce4-b89c-4e3a5bbe7c3c');\n",
              "          const dataTable =\n",
              "            await google.colab.kernel.invokeFunction('convertToInteractive',\n",
              "                                                     [key], {});\n",
              "          if (!dataTable) return;\n",
              "\n",
              "          const docLinkHtml = 'Like what you see? Visit the ' +\n",
              "            '<a target=\"_blank\" href=https://colab.research.google.com/notebooks/data_table.ipynb>data table notebook</a>'\n",
              "            + ' to learn more about interactive tables.';\n",
              "          element.innerHTML = '';\n",
              "          dataTable['output_type'] = 'display_data';\n",
              "          await google.colab.output.renderOutput(dataTable, element);\n",
              "          const docLink = document.createElement('div');\n",
              "          docLink.innerHTML = docLinkHtml;\n",
              "          element.appendChild(docLink);\n",
              "        }\n",
              "      </script>\n",
              "    </div>\n",
              "  </div>\n",
              "  "
            ]
          },
          "metadata": {},
          "execution_count": 4
        }
      ]
    },
    {
      "cell_type": "code",
      "source": [
        "#建立第二個Series\n",
        "crime = pd.Series([\"1\", \"2\", \"3\", \"2\", \"2\", \"1\", \"3\"], name=\"crime_type\")\n",
        "df_crime = pd.DataFrame(crime)\n",
        "df_crime"
      ],
      "metadata": {
        "colab": {
          "base_uri": "https://localhost:8080/",
          "height": 269
        },
        "id": "vmsCZ3_98xOA",
        "outputId": "69e42f39-3de9-4f49-9f31-f1954c1dc123"
      },
      "execution_count": null,
      "outputs": [
        {
          "output_type": "execute_result",
          "data": {
            "text/plain": [
              "  crime_type\n",
              "0          1\n",
              "1          2\n",
              "2          3\n",
              "3          2\n",
              "4          2\n",
              "5          1\n",
              "6          3"
            ],
            "text/html": [
              "\n",
              "  <div id=\"df-aba2fe17-0883-4b75-8649-2d35cd037cde\">\n",
              "    <div class=\"colab-df-container\">\n",
              "      <div>\n",
              "<style scoped>\n",
              "    .dataframe tbody tr th:only-of-type {\n",
              "        vertical-align: middle;\n",
              "    }\n",
              "\n",
              "    .dataframe tbody tr th {\n",
              "        vertical-align: top;\n",
              "    }\n",
              "\n",
              "    .dataframe thead th {\n",
              "        text-align: right;\n",
              "    }\n",
              "</style>\n",
              "<table border=\"1\" class=\"dataframe\">\n",
              "  <thead>\n",
              "    <tr style=\"text-align: right;\">\n",
              "      <th></th>\n",
              "      <th>crime_type</th>\n",
              "    </tr>\n",
              "  </thead>\n",
              "  <tbody>\n",
              "    <tr>\n",
              "      <th>0</th>\n",
              "      <td>1</td>\n",
              "    </tr>\n",
              "    <tr>\n",
              "      <th>1</th>\n",
              "      <td>2</td>\n",
              "    </tr>\n",
              "    <tr>\n",
              "      <th>2</th>\n",
              "      <td>3</td>\n",
              "    </tr>\n",
              "    <tr>\n",
              "      <th>3</th>\n",
              "      <td>2</td>\n",
              "    </tr>\n",
              "    <tr>\n",
              "      <th>4</th>\n",
              "      <td>2</td>\n",
              "    </tr>\n",
              "    <tr>\n",
              "      <th>5</th>\n",
              "      <td>1</td>\n",
              "    </tr>\n",
              "    <tr>\n",
              "      <th>6</th>\n",
              "      <td>3</td>\n",
              "    </tr>\n",
              "  </tbody>\n",
              "</table>\n",
              "</div>\n",
              "      <button class=\"colab-df-convert\" onclick=\"convertToInteractive('df-aba2fe17-0883-4b75-8649-2d35cd037cde')\"\n",
              "              title=\"Convert this dataframe to an interactive table.\"\n",
              "              style=\"display:none;\">\n",
              "        \n",
              "  <svg xmlns=\"http://www.w3.org/2000/svg\" height=\"24px\"viewBox=\"0 0 24 24\"\n",
              "       width=\"24px\">\n",
              "    <path d=\"M0 0h24v24H0V0z\" fill=\"none\"/>\n",
              "    <path d=\"M18.56 5.44l.94 2.06.94-2.06 2.06-.94-2.06-.94-.94-2.06-.94 2.06-2.06.94zm-11 1L8.5 8.5l.94-2.06 2.06-.94-2.06-.94L8.5 2.5l-.94 2.06-2.06.94zm10 10l.94 2.06.94-2.06 2.06-.94-2.06-.94-.94-2.06-.94 2.06-2.06.94z\"/><path d=\"M17.41 7.96l-1.37-1.37c-.4-.4-.92-.59-1.43-.59-.52 0-1.04.2-1.43.59L10.3 9.45l-7.72 7.72c-.78.78-.78 2.05 0 2.83L4 21.41c.39.39.9.59 1.41.59.51 0 1.02-.2 1.41-.59l7.78-7.78 2.81-2.81c.8-.78.8-2.07 0-2.86zM5.41 20L4 18.59l7.72-7.72 1.47 1.35L5.41 20z\"/>\n",
              "  </svg>\n",
              "      </button>\n",
              "      \n",
              "  <style>\n",
              "    .colab-df-container {\n",
              "      display:flex;\n",
              "      flex-wrap:wrap;\n",
              "      gap: 12px;\n",
              "    }\n",
              "\n",
              "    .colab-df-convert {\n",
              "      background-color: #E8F0FE;\n",
              "      border: none;\n",
              "      border-radius: 50%;\n",
              "      cursor: pointer;\n",
              "      display: none;\n",
              "      fill: #1967D2;\n",
              "      height: 32px;\n",
              "      padding: 0 0 0 0;\n",
              "      width: 32px;\n",
              "    }\n",
              "\n",
              "    .colab-df-convert:hover {\n",
              "      background-color: #E2EBFA;\n",
              "      box-shadow: 0px 1px 2px rgba(60, 64, 67, 0.3), 0px 1px 3px 1px rgba(60, 64, 67, 0.15);\n",
              "      fill: #174EA6;\n",
              "    }\n",
              "\n",
              "    [theme=dark] .colab-df-convert {\n",
              "      background-color: #3B4455;\n",
              "      fill: #D2E3FC;\n",
              "    }\n",
              "\n",
              "    [theme=dark] .colab-df-convert:hover {\n",
              "      background-color: #434B5C;\n",
              "      box-shadow: 0px 1px 3px 1px rgba(0, 0, 0, 0.15);\n",
              "      filter: drop-shadow(0px 1px 2px rgba(0, 0, 0, 0.3));\n",
              "      fill: #FFFFFF;\n",
              "    }\n",
              "  </style>\n",
              "\n",
              "      <script>\n",
              "        const buttonEl =\n",
              "          document.querySelector('#df-aba2fe17-0883-4b75-8649-2d35cd037cde button.colab-df-convert');\n",
              "        buttonEl.style.display =\n",
              "          google.colab.kernel.accessAllowed ? 'block' : 'none';\n",
              "\n",
              "        async function convertToInteractive(key) {\n",
              "          const element = document.querySelector('#df-aba2fe17-0883-4b75-8649-2d35cd037cde');\n",
              "          const dataTable =\n",
              "            await google.colab.kernel.invokeFunction('convertToInteractive',\n",
              "                                                     [key], {});\n",
              "          if (!dataTable) return;\n",
              "\n",
              "          const docLinkHtml = 'Like what you see? Visit the ' +\n",
              "            '<a target=\"_blank\" href=https://colab.research.google.com/notebooks/data_table.ipynb>data table notebook</a>'\n",
              "            + ' to learn more about interactive tables.';\n",
              "          element.innerHTML = '';\n",
              "          dataTable['output_type'] = 'display_data';\n",
              "          await google.colab.output.renderOutput(dataTable, element);\n",
              "          const docLink = document.createElement('div');\n",
              "          docLink.innerHTML = docLinkHtml;\n",
              "          element.appendChild(docLink);\n",
              "        }\n",
              "      </script>\n",
              "    </div>\n",
              "  </div>\n",
              "  "
            ]
          },
          "metadata": {},
          "execution_count": 5
        }
      ]
    },
    {
      "cell_type": "code",
      "source": [
        "#有相同index值，合併表格\n",
        "pd.merge(df_crime,df_dow,left_index=True,right_index=True) #要有相同的key才行合併"
      ],
      "metadata": {
        "colab": {
          "base_uri": "https://localhost:8080/",
          "height": 269
        },
        "id": "AE_prAEBGv4u",
        "outputId": "13ac55a1-f292-4013-e389-fac72f1c3969"
      },
      "execution_count": null,
      "outputs": [
        {
          "output_type": "execute_result",
          "data": {
            "text/plain": [
              "  crime_type        Day\n",
              "0          1     Sunday\n",
              "1          2     Monday\n",
              "2          3    Tuesday\n",
              "3          2  Wednesday\n",
              "4          2   Thursday\n",
              "5          1     Friday\n",
              "6          3   Saturday"
            ],
            "text/html": [
              "\n",
              "  <div id=\"df-f1953601-8db4-4882-aed4-625d76967283\">\n",
              "    <div class=\"colab-df-container\">\n",
              "      <div>\n",
              "<style scoped>\n",
              "    .dataframe tbody tr th:only-of-type {\n",
              "        vertical-align: middle;\n",
              "    }\n",
              "\n",
              "    .dataframe tbody tr th {\n",
              "        vertical-align: top;\n",
              "    }\n",
              "\n",
              "    .dataframe thead th {\n",
              "        text-align: right;\n",
              "    }\n",
              "</style>\n",
              "<table border=\"1\" class=\"dataframe\">\n",
              "  <thead>\n",
              "    <tr style=\"text-align: right;\">\n",
              "      <th></th>\n",
              "      <th>crime_type</th>\n",
              "      <th>Day</th>\n",
              "    </tr>\n",
              "  </thead>\n",
              "  <tbody>\n",
              "    <tr>\n",
              "      <th>0</th>\n",
              "      <td>1</td>\n",
              "      <td>Sunday</td>\n",
              "    </tr>\n",
              "    <tr>\n",
              "      <th>1</th>\n",
              "      <td>2</td>\n",
              "      <td>Monday</td>\n",
              "    </tr>\n",
              "    <tr>\n",
              "      <th>2</th>\n",
              "      <td>3</td>\n",
              "      <td>Tuesday</td>\n",
              "    </tr>\n",
              "    <tr>\n",
              "      <th>3</th>\n",
              "      <td>2</td>\n",
              "      <td>Wednesday</td>\n",
              "    </tr>\n",
              "    <tr>\n",
              "      <th>4</th>\n",
              "      <td>2</td>\n",
              "      <td>Thursday</td>\n",
              "    </tr>\n",
              "    <tr>\n",
              "      <th>5</th>\n",
              "      <td>1</td>\n",
              "      <td>Friday</td>\n",
              "    </tr>\n",
              "    <tr>\n",
              "      <th>6</th>\n",
              "      <td>3</td>\n",
              "      <td>Saturday</td>\n",
              "    </tr>\n",
              "  </tbody>\n",
              "</table>\n",
              "</div>\n",
              "      <button class=\"colab-df-convert\" onclick=\"convertToInteractive('df-f1953601-8db4-4882-aed4-625d76967283')\"\n",
              "              title=\"Convert this dataframe to an interactive table.\"\n",
              "              style=\"display:none;\">\n",
              "        \n",
              "  <svg xmlns=\"http://www.w3.org/2000/svg\" height=\"24px\"viewBox=\"0 0 24 24\"\n",
              "       width=\"24px\">\n",
              "    <path d=\"M0 0h24v24H0V0z\" fill=\"none\"/>\n",
              "    <path d=\"M18.56 5.44l.94 2.06.94-2.06 2.06-.94-2.06-.94-.94-2.06-.94 2.06-2.06.94zm-11 1L8.5 8.5l.94-2.06 2.06-.94-2.06-.94L8.5 2.5l-.94 2.06-2.06.94zm10 10l.94 2.06.94-2.06 2.06-.94-2.06-.94-.94-2.06-.94 2.06-2.06.94z\"/><path d=\"M17.41 7.96l-1.37-1.37c-.4-.4-.92-.59-1.43-.59-.52 0-1.04.2-1.43.59L10.3 9.45l-7.72 7.72c-.78.78-.78 2.05 0 2.83L4 21.41c.39.39.9.59 1.41.59.51 0 1.02-.2 1.41-.59l7.78-7.78 2.81-2.81c.8-.78.8-2.07 0-2.86zM5.41 20L4 18.59l7.72-7.72 1.47 1.35L5.41 20z\"/>\n",
              "  </svg>\n",
              "      </button>\n",
              "      \n",
              "  <style>\n",
              "    .colab-df-container {\n",
              "      display:flex;\n",
              "      flex-wrap:wrap;\n",
              "      gap: 12px;\n",
              "    }\n",
              "\n",
              "    .colab-df-convert {\n",
              "      background-color: #E8F0FE;\n",
              "      border: none;\n",
              "      border-radius: 50%;\n",
              "      cursor: pointer;\n",
              "      display: none;\n",
              "      fill: #1967D2;\n",
              "      height: 32px;\n",
              "      padding: 0 0 0 0;\n",
              "      width: 32px;\n",
              "    }\n",
              "\n",
              "    .colab-df-convert:hover {\n",
              "      background-color: #E2EBFA;\n",
              "      box-shadow: 0px 1px 2px rgba(60, 64, 67, 0.3), 0px 1px 3px 1px rgba(60, 64, 67, 0.15);\n",
              "      fill: #174EA6;\n",
              "    }\n",
              "\n",
              "    [theme=dark] .colab-df-convert {\n",
              "      background-color: #3B4455;\n",
              "      fill: #D2E3FC;\n",
              "    }\n",
              "\n",
              "    [theme=dark] .colab-df-convert:hover {\n",
              "      background-color: #434B5C;\n",
              "      box-shadow: 0px 1px 3px 1px rgba(0, 0, 0, 0.15);\n",
              "      filter: drop-shadow(0px 1px 2px rgba(0, 0, 0, 0.3));\n",
              "      fill: #FFFFFF;\n",
              "    }\n",
              "  </style>\n",
              "\n",
              "      <script>\n",
              "        const buttonEl =\n",
              "          document.querySelector('#df-f1953601-8db4-4882-aed4-625d76967283 button.colab-df-convert');\n",
              "        buttonEl.style.display =\n",
              "          google.colab.kernel.accessAllowed ? 'block' : 'none';\n",
              "\n",
              "        async function convertToInteractive(key) {\n",
              "          const element = document.querySelector('#df-f1953601-8db4-4882-aed4-625d76967283');\n",
              "          const dataTable =\n",
              "            await google.colab.kernel.invokeFunction('convertToInteractive',\n",
              "                                                     [key], {});\n",
              "          if (!dataTable) return;\n",
              "\n",
              "          const docLinkHtml = 'Like what you see? Visit the ' +\n",
              "            '<a target=\"_blank\" href=https://colab.research.google.com/notebooks/data_table.ipynb>data table notebook</a>'\n",
              "            + ' to learn more about interactive tables.';\n",
              "          element.innerHTML = '';\n",
              "          dataTable['output_type'] = 'display_data';\n",
              "          await google.colab.output.renderOutput(dataTable, element);\n",
              "          const docLink = document.createElement('div');\n",
              "          docLink.innerHTML = docLinkHtml;\n",
              "          element.appendChild(docLink);\n",
              "        }\n",
              "      </script>\n",
              "    </div>\n",
              "  </div>\n",
              "  "
            ]
          },
          "metadata": {},
          "execution_count": 15
        }
      ]
    },
    {
      "cell_type": "markdown",
      "source": [
        "#### **参数how**\n",
        "* how参数控制拼接方式，默认内连接（inner），那么不同的拼接方式对结果有怎样的影响呢，内连接是只将两个表主键一致的信息拼接到一起"
      ],
      "metadata": {
        "id": "m9BrMuKrGv-X"
      }
    },
    {
      "cell_type": "code",
      "source": [
        "#外连接outer，保留两个表的所有信息，沒有資料則填上NaN\n",
        "pd.merge(work3,work4,how=\"outer\")"
      ],
      "metadata": {
        "colab": {
          "base_uri": "https://localhost:8080/",
          "height": 483
        },
        "id": "GH_Niu_LGwCg",
        "outputId": "6f9e3053-b989-4adf-b255-fad2ce5d86f3"
      },
      "execution_count": null,
      "outputs": [
        {
          "output_type": "execute_result",
          "data": {
            "text/plain": [
              "   工号 员工姓名     销售业绩     提成收入    基本工资   社保金额     创造收益   是否达标    公司名称   性别 员工状态  \\\n",
              "0   1   赵一  30000.0   6000.0  2500.0  125.0  21375.0  False  脑洞有限公司    女   离职   \n",
              "1   2   钱明  20000.0   4000.0  2500.0  125.0  13375.0  False  脑洞有限公司    男   离职   \n",
              "2   3   周元  50000.0  10000.0  2500.0  125.0  37375.0   True  脑洞有限公司    男   在职   \n",
              "3   4   李雷  40000.0   8000.0  2500.0  125.0  29375.0  False  脑洞有限公司    女   离职   \n",
              "4   5   王七  60000.0  12000.0  2500.0  125.0  45375.0   True     NaN  NaN  NaN   \n",
              "5   8   王七      NaN      NaN     NaN    NaN      NaN    NaN  脑洞有限公司    男   在职   \n",
              "6   6   赵三      NaN      NaN     NaN    NaN      NaN    NaN  脑洞有限公司    男   离职   \n",
              "7   7   赵六      NaN      NaN     NaN    NaN      NaN    NaN  脑洞有限公司    女   在职   \n",
              "\n",
              "  员工等级  \n",
              "0   初级  \n",
              "1   初级  \n",
              "2   中级  \n",
              "3   中级  \n",
              "4  NaN  \n",
              "5   高级  \n",
              "6   高级  \n",
              "7   中级  "
            ],
            "text/html": [
              "\n",
              "  <div id=\"df-f204ac1c-c142-44a7-81a7-7fef447253fc\">\n",
              "    <div class=\"colab-df-container\">\n",
              "      <div>\n",
              "<style scoped>\n",
              "    .dataframe tbody tr th:only-of-type {\n",
              "        vertical-align: middle;\n",
              "    }\n",
              "\n",
              "    .dataframe tbody tr th {\n",
              "        vertical-align: top;\n",
              "    }\n",
              "\n",
              "    .dataframe thead th {\n",
              "        text-align: right;\n",
              "    }\n",
              "</style>\n",
              "<table border=\"1\" class=\"dataframe\">\n",
              "  <thead>\n",
              "    <tr style=\"text-align: right;\">\n",
              "      <th></th>\n",
              "      <th>工号</th>\n",
              "      <th>员工姓名</th>\n",
              "      <th>销售业绩</th>\n",
              "      <th>提成收入</th>\n",
              "      <th>基本工资</th>\n",
              "      <th>社保金额</th>\n",
              "      <th>创造收益</th>\n",
              "      <th>是否达标</th>\n",
              "      <th>公司名称</th>\n",
              "      <th>性别</th>\n",
              "      <th>员工状态</th>\n",
              "      <th>员工等级</th>\n",
              "    </tr>\n",
              "  </thead>\n",
              "  <tbody>\n",
              "    <tr>\n",
              "      <th>0</th>\n",
              "      <td>1</td>\n",
              "      <td>赵一</td>\n",
              "      <td>30000.0</td>\n",
              "      <td>6000.0</td>\n",
              "      <td>2500.0</td>\n",
              "      <td>125.0</td>\n",
              "      <td>21375.0</td>\n",
              "      <td>False</td>\n",
              "      <td>脑洞有限公司</td>\n",
              "      <td>女</td>\n",
              "      <td>离职</td>\n",
              "      <td>初级</td>\n",
              "    </tr>\n",
              "    <tr>\n",
              "      <th>1</th>\n",
              "      <td>2</td>\n",
              "      <td>钱明</td>\n",
              "      <td>20000.0</td>\n",
              "      <td>4000.0</td>\n",
              "      <td>2500.0</td>\n",
              "      <td>125.0</td>\n",
              "      <td>13375.0</td>\n",
              "      <td>False</td>\n",
              "      <td>脑洞有限公司</td>\n",
              "      <td>男</td>\n",
              "      <td>离职</td>\n",
              "      <td>初级</td>\n",
              "    </tr>\n",
              "    <tr>\n",
              "      <th>2</th>\n",
              "      <td>3</td>\n",
              "      <td>周元</td>\n",
              "      <td>50000.0</td>\n",
              "      <td>10000.0</td>\n",
              "      <td>2500.0</td>\n",
              "      <td>125.0</td>\n",
              "      <td>37375.0</td>\n",
              "      <td>True</td>\n",
              "      <td>脑洞有限公司</td>\n",
              "      <td>男</td>\n",
              "      <td>在职</td>\n",
              "      <td>中级</td>\n",
              "    </tr>\n",
              "    <tr>\n",
              "      <th>3</th>\n",
              "      <td>4</td>\n",
              "      <td>李雷</td>\n",
              "      <td>40000.0</td>\n",
              "      <td>8000.0</td>\n",
              "      <td>2500.0</td>\n",
              "      <td>125.0</td>\n",
              "      <td>29375.0</td>\n",
              "      <td>False</td>\n",
              "      <td>脑洞有限公司</td>\n",
              "      <td>女</td>\n",
              "      <td>离职</td>\n",
              "      <td>中级</td>\n",
              "    </tr>\n",
              "    <tr>\n",
              "      <th>4</th>\n",
              "      <td>5</td>\n",
              "      <td>王七</td>\n",
              "      <td>60000.0</td>\n",
              "      <td>12000.0</td>\n",
              "      <td>2500.0</td>\n",
              "      <td>125.0</td>\n",
              "      <td>45375.0</td>\n",
              "      <td>True</td>\n",
              "      <td>NaN</td>\n",
              "      <td>NaN</td>\n",
              "      <td>NaN</td>\n",
              "      <td>NaN</td>\n",
              "    </tr>\n",
              "    <tr>\n",
              "      <th>5</th>\n",
              "      <td>8</td>\n",
              "      <td>王七</td>\n",
              "      <td>NaN</td>\n",
              "      <td>NaN</td>\n",
              "      <td>NaN</td>\n",
              "      <td>NaN</td>\n",
              "      <td>NaN</td>\n",
              "      <td>NaN</td>\n",
              "      <td>脑洞有限公司</td>\n",
              "      <td>男</td>\n",
              "      <td>在职</td>\n",
              "      <td>高级</td>\n",
              "    </tr>\n",
              "    <tr>\n",
              "      <th>6</th>\n",
              "      <td>6</td>\n",
              "      <td>赵三</td>\n",
              "      <td>NaN</td>\n",
              "      <td>NaN</td>\n",
              "      <td>NaN</td>\n",
              "      <td>NaN</td>\n",
              "      <td>NaN</td>\n",
              "      <td>NaN</td>\n",
              "      <td>脑洞有限公司</td>\n",
              "      <td>男</td>\n",
              "      <td>离职</td>\n",
              "      <td>高级</td>\n",
              "    </tr>\n",
              "    <tr>\n",
              "      <th>7</th>\n",
              "      <td>7</td>\n",
              "      <td>赵六</td>\n",
              "      <td>NaN</td>\n",
              "      <td>NaN</td>\n",
              "      <td>NaN</td>\n",
              "      <td>NaN</td>\n",
              "      <td>NaN</td>\n",
              "      <td>NaN</td>\n",
              "      <td>脑洞有限公司</td>\n",
              "      <td>女</td>\n",
              "      <td>在职</td>\n",
              "      <td>中级</td>\n",
              "    </tr>\n",
              "  </tbody>\n",
              "</table>\n",
              "</div>\n",
              "      <button class=\"colab-df-convert\" onclick=\"convertToInteractive('df-f204ac1c-c142-44a7-81a7-7fef447253fc')\"\n",
              "              title=\"Convert this dataframe to an interactive table.\"\n",
              "              style=\"display:none;\">\n",
              "        \n",
              "  <svg xmlns=\"http://www.w3.org/2000/svg\" height=\"24px\"viewBox=\"0 0 24 24\"\n",
              "       width=\"24px\">\n",
              "    <path d=\"M0 0h24v24H0V0z\" fill=\"none\"/>\n",
              "    <path d=\"M18.56 5.44l.94 2.06.94-2.06 2.06-.94-2.06-.94-.94-2.06-.94 2.06-2.06.94zm-11 1L8.5 8.5l.94-2.06 2.06-.94-2.06-.94L8.5 2.5l-.94 2.06-2.06.94zm10 10l.94 2.06.94-2.06 2.06-.94-2.06-.94-.94-2.06-.94 2.06-2.06.94z\"/><path d=\"M17.41 7.96l-1.37-1.37c-.4-.4-.92-.59-1.43-.59-.52 0-1.04.2-1.43.59L10.3 9.45l-7.72 7.72c-.78.78-.78 2.05 0 2.83L4 21.41c.39.39.9.59 1.41.59.51 0 1.02-.2 1.41-.59l7.78-7.78 2.81-2.81c.8-.78.8-2.07 0-2.86zM5.41 20L4 18.59l7.72-7.72 1.47 1.35L5.41 20z\"/>\n",
              "  </svg>\n",
              "      </button>\n",
              "      \n",
              "  <style>\n",
              "    .colab-df-container {\n",
              "      display:flex;\n",
              "      flex-wrap:wrap;\n",
              "      gap: 12px;\n",
              "    }\n",
              "\n",
              "    .colab-df-convert {\n",
              "      background-color: #E8F0FE;\n",
              "      border: none;\n",
              "      border-radius: 50%;\n",
              "      cursor: pointer;\n",
              "      display: none;\n",
              "      fill: #1967D2;\n",
              "      height: 32px;\n",
              "      padding: 0 0 0 0;\n",
              "      width: 32px;\n",
              "    }\n",
              "\n",
              "    .colab-df-convert:hover {\n",
              "      background-color: #E2EBFA;\n",
              "      box-shadow: 0px 1px 2px rgba(60, 64, 67, 0.3), 0px 1px 3px 1px rgba(60, 64, 67, 0.15);\n",
              "      fill: #174EA6;\n",
              "    }\n",
              "\n",
              "    [theme=dark] .colab-df-convert {\n",
              "      background-color: #3B4455;\n",
              "      fill: #D2E3FC;\n",
              "    }\n",
              "\n",
              "    [theme=dark] .colab-df-convert:hover {\n",
              "      background-color: #434B5C;\n",
              "      box-shadow: 0px 1px 3px 1px rgba(0, 0, 0, 0.15);\n",
              "      filter: drop-shadow(0px 1px 2px rgba(0, 0, 0, 0.3));\n",
              "      fill: #FFFFFF;\n",
              "    }\n",
              "  </style>\n",
              "\n",
              "      <script>\n",
              "        const buttonEl =\n",
              "          document.querySelector('#df-f204ac1c-c142-44a7-81a7-7fef447253fc button.colab-df-convert');\n",
              "        buttonEl.style.display =\n",
              "          google.colab.kernel.accessAllowed ? 'block' : 'none';\n",
              "\n",
              "        async function convertToInteractive(key) {\n",
              "          const element = document.querySelector('#df-f204ac1c-c142-44a7-81a7-7fef447253fc');\n",
              "          const dataTable =\n",
              "            await google.colab.kernel.invokeFunction('convertToInteractive',\n",
              "                                                     [key], {});\n",
              "          if (!dataTable) return;\n",
              "\n",
              "          const docLinkHtml = 'Like what you see? Visit the ' +\n",
              "            '<a target=\"_blank\" href=https://colab.research.google.com/notebooks/data_table.ipynb>data table notebook</a>'\n",
              "            + ' to learn more about interactive tables.';\n",
              "          element.innerHTML = '';\n",
              "          dataTable['output_type'] = 'display_data';\n",
              "          await google.colab.output.renderOutput(dataTable, element);\n",
              "          const docLink = document.createElement('div');\n",
              "          docLink.innerHTML = docLinkHtml;\n",
              "          element.appendChild(docLink);\n",
              "        }\n",
              "      </script>\n",
              "    </div>\n",
              "  </div>\n",
              "  "
            ]
          },
          "metadata": {},
          "execution_count": 16
        }
      ]
    },
    {
      "cell_type": "code",
      "source": [
        "#how=left，保留左表所有信息，並把把有相同資訊的右表一併合併，沒有資料則填上NaN\n",
        "pd.merge(work3,work4,how=\"left\")"
      ],
      "metadata": {
        "colab": {
          "base_uri": "https://localhost:8080/",
          "height": 337
        },
        "id": "pS18yE9SdmVU",
        "outputId": "500cb5ed-c920-4bd5-aaa9-e6eaf8ef0ac5"
      },
      "execution_count": null,
      "outputs": [
        {
          "output_type": "execute_result",
          "data": {
            "text/plain": [
              "   工号 员工姓名   销售业绩   提成收入  基本工资  社保金额   创造收益   是否达标    公司名称   性别 员工状态 员工等级\n",
              "0   1   赵一  30000   6000  2500   125  21375  False  脑洞有限公司    女   离职   初级\n",
              "1   2   钱明  20000   4000  2500   125  13375  False  脑洞有限公司    男   离职   初级\n",
              "2   3   周元  50000  10000  2500   125  37375   True  脑洞有限公司    男   在职   中级\n",
              "3   4   李雷  40000   8000  2500   125  29375  False  脑洞有限公司    女   离职   中级\n",
              "4   5   王七  60000  12000  2500   125  45375   True     NaN  NaN  NaN  NaN"
            ],
            "text/html": [
              "\n",
              "  <div id=\"df-1be15ce2-85e3-4089-aa2e-f14d9e88e839\">\n",
              "    <div class=\"colab-df-container\">\n",
              "      <div>\n",
              "<style scoped>\n",
              "    .dataframe tbody tr th:only-of-type {\n",
              "        vertical-align: middle;\n",
              "    }\n",
              "\n",
              "    .dataframe tbody tr th {\n",
              "        vertical-align: top;\n",
              "    }\n",
              "\n",
              "    .dataframe thead th {\n",
              "        text-align: right;\n",
              "    }\n",
              "</style>\n",
              "<table border=\"1\" class=\"dataframe\">\n",
              "  <thead>\n",
              "    <tr style=\"text-align: right;\">\n",
              "      <th></th>\n",
              "      <th>工号</th>\n",
              "      <th>员工姓名</th>\n",
              "      <th>销售业绩</th>\n",
              "      <th>提成收入</th>\n",
              "      <th>基本工资</th>\n",
              "      <th>社保金额</th>\n",
              "      <th>创造收益</th>\n",
              "      <th>是否达标</th>\n",
              "      <th>公司名称</th>\n",
              "      <th>性别</th>\n",
              "      <th>员工状态</th>\n",
              "      <th>员工等级</th>\n",
              "    </tr>\n",
              "  </thead>\n",
              "  <tbody>\n",
              "    <tr>\n",
              "      <th>0</th>\n",
              "      <td>1</td>\n",
              "      <td>赵一</td>\n",
              "      <td>30000</td>\n",
              "      <td>6000</td>\n",
              "      <td>2500</td>\n",
              "      <td>125</td>\n",
              "      <td>21375</td>\n",
              "      <td>False</td>\n",
              "      <td>脑洞有限公司</td>\n",
              "      <td>女</td>\n",
              "      <td>离职</td>\n",
              "      <td>初级</td>\n",
              "    </tr>\n",
              "    <tr>\n",
              "      <th>1</th>\n",
              "      <td>2</td>\n",
              "      <td>钱明</td>\n",
              "      <td>20000</td>\n",
              "      <td>4000</td>\n",
              "      <td>2500</td>\n",
              "      <td>125</td>\n",
              "      <td>13375</td>\n",
              "      <td>False</td>\n",
              "      <td>脑洞有限公司</td>\n",
              "      <td>男</td>\n",
              "      <td>离职</td>\n",
              "      <td>初级</td>\n",
              "    </tr>\n",
              "    <tr>\n",
              "      <th>2</th>\n",
              "      <td>3</td>\n",
              "      <td>周元</td>\n",
              "      <td>50000</td>\n",
              "      <td>10000</td>\n",
              "      <td>2500</td>\n",
              "      <td>125</td>\n",
              "      <td>37375</td>\n",
              "      <td>True</td>\n",
              "      <td>脑洞有限公司</td>\n",
              "      <td>男</td>\n",
              "      <td>在职</td>\n",
              "      <td>中级</td>\n",
              "    </tr>\n",
              "    <tr>\n",
              "      <th>3</th>\n",
              "      <td>4</td>\n",
              "      <td>李雷</td>\n",
              "      <td>40000</td>\n",
              "      <td>8000</td>\n",
              "      <td>2500</td>\n",
              "      <td>125</td>\n",
              "      <td>29375</td>\n",
              "      <td>False</td>\n",
              "      <td>脑洞有限公司</td>\n",
              "      <td>女</td>\n",
              "      <td>离职</td>\n",
              "      <td>中级</td>\n",
              "    </tr>\n",
              "    <tr>\n",
              "      <th>4</th>\n",
              "      <td>5</td>\n",
              "      <td>王七</td>\n",
              "      <td>60000</td>\n",
              "      <td>12000</td>\n",
              "      <td>2500</td>\n",
              "      <td>125</td>\n",
              "      <td>45375</td>\n",
              "      <td>True</td>\n",
              "      <td>NaN</td>\n",
              "      <td>NaN</td>\n",
              "      <td>NaN</td>\n",
              "      <td>NaN</td>\n",
              "    </tr>\n",
              "  </tbody>\n",
              "</table>\n",
              "</div>\n",
              "      <button class=\"colab-df-convert\" onclick=\"convertToInteractive('df-1be15ce2-85e3-4089-aa2e-f14d9e88e839')\"\n",
              "              title=\"Convert this dataframe to an interactive table.\"\n",
              "              style=\"display:none;\">\n",
              "        \n",
              "  <svg xmlns=\"http://www.w3.org/2000/svg\" height=\"24px\"viewBox=\"0 0 24 24\"\n",
              "       width=\"24px\">\n",
              "    <path d=\"M0 0h24v24H0V0z\" fill=\"none\"/>\n",
              "    <path d=\"M18.56 5.44l.94 2.06.94-2.06 2.06-.94-2.06-.94-.94-2.06-.94 2.06-2.06.94zm-11 1L8.5 8.5l.94-2.06 2.06-.94-2.06-.94L8.5 2.5l-.94 2.06-2.06.94zm10 10l.94 2.06.94-2.06 2.06-.94-2.06-.94-.94-2.06-.94 2.06-2.06.94z\"/><path d=\"M17.41 7.96l-1.37-1.37c-.4-.4-.92-.59-1.43-.59-.52 0-1.04.2-1.43.59L10.3 9.45l-7.72 7.72c-.78.78-.78 2.05 0 2.83L4 21.41c.39.39.9.59 1.41.59.51 0 1.02-.2 1.41-.59l7.78-7.78 2.81-2.81c.8-.78.8-2.07 0-2.86zM5.41 20L4 18.59l7.72-7.72 1.47 1.35L5.41 20z\"/>\n",
              "  </svg>\n",
              "      </button>\n",
              "      \n",
              "  <style>\n",
              "    .colab-df-container {\n",
              "      display:flex;\n",
              "      flex-wrap:wrap;\n",
              "      gap: 12px;\n",
              "    }\n",
              "\n",
              "    .colab-df-convert {\n",
              "      background-color: #E8F0FE;\n",
              "      border: none;\n",
              "      border-radius: 50%;\n",
              "      cursor: pointer;\n",
              "      display: none;\n",
              "      fill: #1967D2;\n",
              "      height: 32px;\n",
              "      padding: 0 0 0 0;\n",
              "      width: 32px;\n",
              "    }\n",
              "\n",
              "    .colab-df-convert:hover {\n",
              "      background-color: #E2EBFA;\n",
              "      box-shadow: 0px 1px 2px rgba(60, 64, 67, 0.3), 0px 1px 3px 1px rgba(60, 64, 67, 0.15);\n",
              "      fill: #174EA6;\n",
              "    }\n",
              "\n",
              "    [theme=dark] .colab-df-convert {\n",
              "      background-color: #3B4455;\n",
              "      fill: #D2E3FC;\n",
              "    }\n",
              "\n",
              "    [theme=dark] .colab-df-convert:hover {\n",
              "      background-color: #434B5C;\n",
              "      box-shadow: 0px 1px 3px 1px rgba(0, 0, 0, 0.15);\n",
              "      filter: drop-shadow(0px 1px 2px rgba(0, 0, 0, 0.3));\n",
              "      fill: #FFFFFF;\n",
              "    }\n",
              "  </style>\n",
              "\n",
              "      <script>\n",
              "        const buttonEl =\n",
              "          document.querySelector('#df-1be15ce2-85e3-4089-aa2e-f14d9e88e839 button.colab-df-convert');\n",
              "        buttonEl.style.display =\n",
              "          google.colab.kernel.accessAllowed ? 'block' : 'none';\n",
              "\n",
              "        async function convertToInteractive(key) {\n",
              "          const element = document.querySelector('#df-1be15ce2-85e3-4089-aa2e-f14d9e88e839');\n",
              "          const dataTable =\n",
              "            await google.colab.kernel.invokeFunction('convertToInteractive',\n",
              "                                                     [key], {});\n",
              "          if (!dataTable) return;\n",
              "\n",
              "          const docLinkHtml = 'Like what you see? Visit the ' +\n",
              "            '<a target=\"_blank\" href=https://colab.research.google.com/notebooks/data_table.ipynb>data table notebook</a>'\n",
              "            + ' to learn more about interactive tables.';\n",
              "          element.innerHTML = '';\n",
              "          dataTable['output_type'] = 'display_data';\n",
              "          await google.colab.output.renderOutput(dataTable, element);\n",
              "          const docLink = document.createElement('div');\n",
              "          docLink.innerHTML = docLinkHtml;\n",
              "          element.appendChild(docLink);\n",
              "        }\n",
              "      </script>\n",
              "    </div>\n",
              "  </div>\n",
              "  "
            ]
          },
          "metadata": {},
          "execution_count": 17
        }
      ]
    },
    {
      "cell_type": "code",
      "source": [
        "#how=right，保留右表所有信息，並把把有相同資訊的左表一併合併，沒有資料則填上NaN\n",
        "pd.merge(work3,work4,how=\"right\")"
      ],
      "metadata": {
        "colab": {
          "base_uri": "https://localhost:8080/",
          "height": 452
        },
        "id": "BzM0oTnCdmlM",
        "outputId": "5b5ace7d-084f-4d2c-c73c-5d98dff4e397"
      },
      "execution_count": null,
      "outputs": [
        {
          "output_type": "execute_result",
          "data": {
            "text/plain": [
              "   工号 员工姓名     销售业绩     提成收入    基本工资   社保金额     创造收益   是否达标    公司名称 性别 员工状态  \\\n",
              "0   1   赵一  30000.0   6000.0  2500.0  125.0  21375.0  False  脑洞有限公司  女   离职   \n",
              "1   2   钱明  20000.0   4000.0  2500.0  125.0  13375.0  False  脑洞有限公司  男   离职   \n",
              "2   3   周元  50000.0  10000.0  2500.0  125.0  37375.0   True  脑洞有限公司  男   在职   \n",
              "3   4   李雷  40000.0   8000.0  2500.0  125.0  29375.0  False  脑洞有限公司  女   离职   \n",
              "4   8   王七      NaN      NaN     NaN    NaN      NaN    NaN  脑洞有限公司  男   在职   \n",
              "5   6   赵三      NaN      NaN     NaN    NaN      NaN    NaN  脑洞有限公司  男   离职   \n",
              "6   7   赵六      NaN      NaN     NaN    NaN      NaN    NaN  脑洞有限公司  女   在职   \n",
              "\n",
              "  员工等级  \n",
              "0   初级  \n",
              "1   初级  \n",
              "2   中级  \n",
              "3   中级  \n",
              "4   高级  \n",
              "5   高级  \n",
              "6   中级  "
            ],
            "text/html": [
              "\n",
              "  <div id=\"df-abbda1a3-6012-42ce-84b2-69ccf596fc90\">\n",
              "    <div class=\"colab-df-container\">\n",
              "      <div>\n",
              "<style scoped>\n",
              "    .dataframe tbody tr th:only-of-type {\n",
              "        vertical-align: middle;\n",
              "    }\n",
              "\n",
              "    .dataframe tbody tr th {\n",
              "        vertical-align: top;\n",
              "    }\n",
              "\n",
              "    .dataframe thead th {\n",
              "        text-align: right;\n",
              "    }\n",
              "</style>\n",
              "<table border=\"1\" class=\"dataframe\">\n",
              "  <thead>\n",
              "    <tr style=\"text-align: right;\">\n",
              "      <th></th>\n",
              "      <th>工号</th>\n",
              "      <th>员工姓名</th>\n",
              "      <th>销售业绩</th>\n",
              "      <th>提成收入</th>\n",
              "      <th>基本工资</th>\n",
              "      <th>社保金额</th>\n",
              "      <th>创造收益</th>\n",
              "      <th>是否达标</th>\n",
              "      <th>公司名称</th>\n",
              "      <th>性别</th>\n",
              "      <th>员工状态</th>\n",
              "      <th>员工等级</th>\n",
              "    </tr>\n",
              "  </thead>\n",
              "  <tbody>\n",
              "    <tr>\n",
              "      <th>0</th>\n",
              "      <td>1</td>\n",
              "      <td>赵一</td>\n",
              "      <td>30000.0</td>\n",
              "      <td>6000.0</td>\n",
              "      <td>2500.0</td>\n",
              "      <td>125.0</td>\n",
              "      <td>21375.0</td>\n",
              "      <td>False</td>\n",
              "      <td>脑洞有限公司</td>\n",
              "      <td>女</td>\n",
              "      <td>离职</td>\n",
              "      <td>初级</td>\n",
              "    </tr>\n",
              "    <tr>\n",
              "      <th>1</th>\n",
              "      <td>2</td>\n",
              "      <td>钱明</td>\n",
              "      <td>20000.0</td>\n",
              "      <td>4000.0</td>\n",
              "      <td>2500.0</td>\n",
              "      <td>125.0</td>\n",
              "      <td>13375.0</td>\n",
              "      <td>False</td>\n",
              "      <td>脑洞有限公司</td>\n",
              "      <td>男</td>\n",
              "      <td>离职</td>\n",
              "      <td>初级</td>\n",
              "    </tr>\n",
              "    <tr>\n",
              "      <th>2</th>\n",
              "      <td>3</td>\n",
              "      <td>周元</td>\n",
              "      <td>50000.0</td>\n",
              "      <td>10000.0</td>\n",
              "      <td>2500.0</td>\n",
              "      <td>125.0</td>\n",
              "      <td>37375.0</td>\n",
              "      <td>True</td>\n",
              "      <td>脑洞有限公司</td>\n",
              "      <td>男</td>\n",
              "      <td>在职</td>\n",
              "      <td>中级</td>\n",
              "    </tr>\n",
              "    <tr>\n",
              "      <th>3</th>\n",
              "      <td>4</td>\n",
              "      <td>李雷</td>\n",
              "      <td>40000.0</td>\n",
              "      <td>8000.0</td>\n",
              "      <td>2500.0</td>\n",
              "      <td>125.0</td>\n",
              "      <td>29375.0</td>\n",
              "      <td>False</td>\n",
              "      <td>脑洞有限公司</td>\n",
              "      <td>女</td>\n",
              "      <td>离职</td>\n",
              "      <td>中级</td>\n",
              "    </tr>\n",
              "    <tr>\n",
              "      <th>4</th>\n",
              "      <td>8</td>\n",
              "      <td>王七</td>\n",
              "      <td>NaN</td>\n",
              "      <td>NaN</td>\n",
              "      <td>NaN</td>\n",
              "      <td>NaN</td>\n",
              "      <td>NaN</td>\n",
              "      <td>NaN</td>\n",
              "      <td>脑洞有限公司</td>\n",
              "      <td>男</td>\n",
              "      <td>在职</td>\n",
              "      <td>高级</td>\n",
              "    </tr>\n",
              "    <tr>\n",
              "      <th>5</th>\n",
              "      <td>6</td>\n",
              "      <td>赵三</td>\n",
              "      <td>NaN</td>\n",
              "      <td>NaN</td>\n",
              "      <td>NaN</td>\n",
              "      <td>NaN</td>\n",
              "      <td>NaN</td>\n",
              "      <td>NaN</td>\n",
              "      <td>脑洞有限公司</td>\n",
              "      <td>男</td>\n",
              "      <td>离职</td>\n",
              "      <td>高级</td>\n",
              "    </tr>\n",
              "    <tr>\n",
              "      <th>6</th>\n",
              "      <td>7</td>\n",
              "      <td>赵六</td>\n",
              "      <td>NaN</td>\n",
              "      <td>NaN</td>\n",
              "      <td>NaN</td>\n",
              "      <td>NaN</td>\n",
              "      <td>NaN</td>\n",
              "      <td>NaN</td>\n",
              "      <td>脑洞有限公司</td>\n",
              "      <td>女</td>\n",
              "      <td>在职</td>\n",
              "      <td>中级</td>\n",
              "    </tr>\n",
              "  </tbody>\n",
              "</table>\n",
              "</div>\n",
              "      <button class=\"colab-df-convert\" onclick=\"convertToInteractive('df-abbda1a3-6012-42ce-84b2-69ccf596fc90')\"\n",
              "              title=\"Convert this dataframe to an interactive table.\"\n",
              "              style=\"display:none;\">\n",
              "        \n",
              "  <svg xmlns=\"http://www.w3.org/2000/svg\" height=\"24px\"viewBox=\"0 0 24 24\"\n",
              "       width=\"24px\">\n",
              "    <path d=\"M0 0h24v24H0V0z\" fill=\"none\"/>\n",
              "    <path d=\"M18.56 5.44l.94 2.06.94-2.06 2.06-.94-2.06-.94-.94-2.06-.94 2.06-2.06.94zm-11 1L8.5 8.5l.94-2.06 2.06-.94-2.06-.94L8.5 2.5l-.94 2.06-2.06.94zm10 10l.94 2.06.94-2.06 2.06-.94-2.06-.94-.94-2.06-.94 2.06-2.06.94z\"/><path d=\"M17.41 7.96l-1.37-1.37c-.4-.4-.92-.59-1.43-.59-.52 0-1.04.2-1.43.59L10.3 9.45l-7.72 7.72c-.78.78-.78 2.05 0 2.83L4 21.41c.39.39.9.59 1.41.59.51 0 1.02-.2 1.41-.59l7.78-7.78 2.81-2.81c.8-.78.8-2.07 0-2.86zM5.41 20L4 18.59l7.72-7.72 1.47 1.35L5.41 20z\"/>\n",
              "  </svg>\n",
              "      </button>\n",
              "      \n",
              "  <style>\n",
              "    .colab-df-container {\n",
              "      display:flex;\n",
              "      flex-wrap:wrap;\n",
              "      gap: 12px;\n",
              "    }\n",
              "\n",
              "    .colab-df-convert {\n",
              "      background-color: #E8F0FE;\n",
              "      border: none;\n",
              "      border-radius: 50%;\n",
              "      cursor: pointer;\n",
              "      display: none;\n",
              "      fill: #1967D2;\n",
              "      height: 32px;\n",
              "      padding: 0 0 0 0;\n",
              "      width: 32px;\n",
              "    }\n",
              "\n",
              "    .colab-df-convert:hover {\n",
              "      background-color: #E2EBFA;\n",
              "      box-shadow: 0px 1px 2px rgba(60, 64, 67, 0.3), 0px 1px 3px 1px rgba(60, 64, 67, 0.15);\n",
              "      fill: #174EA6;\n",
              "    }\n",
              "\n",
              "    [theme=dark] .colab-df-convert {\n",
              "      background-color: #3B4455;\n",
              "      fill: #D2E3FC;\n",
              "    }\n",
              "\n",
              "    [theme=dark] .colab-df-convert:hover {\n",
              "      background-color: #434B5C;\n",
              "      box-shadow: 0px 1px 3px 1px rgba(0, 0, 0, 0.15);\n",
              "      filter: drop-shadow(0px 1px 2px rgba(0, 0, 0, 0.3));\n",
              "      fill: #FFFFFF;\n",
              "    }\n",
              "  </style>\n",
              "\n",
              "      <script>\n",
              "        const buttonEl =\n",
              "          document.querySelector('#df-abbda1a3-6012-42ce-84b2-69ccf596fc90 button.colab-df-convert');\n",
              "        buttonEl.style.display =\n",
              "          google.colab.kernel.accessAllowed ? 'block' : 'none';\n",
              "\n",
              "        async function convertToInteractive(key) {\n",
              "          const element = document.querySelector('#df-abbda1a3-6012-42ce-84b2-69ccf596fc90');\n",
              "          const dataTable =\n",
              "            await google.colab.kernel.invokeFunction('convertToInteractive',\n",
              "                                                     [key], {});\n",
              "          if (!dataTable) return;\n",
              "\n",
              "          const docLinkHtml = 'Like what you see? Visit the ' +\n",
              "            '<a target=\"_blank\" href=https://colab.research.google.com/notebooks/data_table.ipynb>data table notebook</a>'\n",
              "            + ' to learn more about interactive tables.';\n",
              "          element.innerHTML = '';\n",
              "          dataTable['output_type'] = 'display_data';\n",
              "          await google.colab.output.renderOutput(dataTable, element);\n",
              "          const docLink = document.createElement('div');\n",
              "          docLink.innerHTML = docLinkHtml;\n",
              "          element.appendChild(docLink);\n",
              "        }\n",
              "      </script>\n",
              "    </div>\n",
              "  </div>\n",
              "  "
            ]
          },
          "metadata": {},
          "execution_count": 18
        }
      ]
    },
    {
      "cell_type": "markdown",
      "source": [
        "#### **参数lefton和righton**\n",
        "* 有的时候还会有这种情况，两个表里没有完全一致的列名，但是有信息一致的列，例如下边这种情况，都有\"员工姓名\"这一列，但是名字不一样"
      ],
      "metadata": {
        "id": "v0GLsoHqdmtK"
      }
    },
    {
      "cell_type": "code",
      "source": [
        "work5 = pd.read_excel(file,sheet_name=4)\n",
        "work5"
      ],
      "metadata": {
        "colab": {
          "base_uri": "https://localhost:8080/",
          "height": 269
        },
        "id": "bVYSw7SQiZwC",
        "outputId": "ecc853bd-2ca5-44a9-a199-8c16487120db"
      },
      "execution_count": null,
      "outputs": [
        {
          "output_type": "execute_result",
          "data": {
            "text/plain": [
              "   工号  姓名    公司名称 性别 员工状态 员工等级\n",
              "0   1  赵一  脑洞有限公司  女   离职   初级\n",
              "1   2  钱明  脑洞有限公司  男   离职   初级\n",
              "2   3  周元  脑洞有限公司  男   在职   中级\n",
              "3   4  李雷  脑洞有限公司  女   离职   中级\n",
              "4   8  王七  脑洞有限公司  男   在职   高级\n",
              "5   6  赵三  脑洞有限公司  男   离职   高级\n",
              "6   7  赵六  脑洞有限公司  女   在职   中级"
            ],
            "text/html": [
              "\n",
              "  <div id=\"df-52ebd50e-1914-487d-a9b0-c859f1cd71c6\">\n",
              "    <div class=\"colab-df-container\">\n",
              "      <div>\n",
              "<style scoped>\n",
              "    .dataframe tbody tr th:only-of-type {\n",
              "        vertical-align: middle;\n",
              "    }\n",
              "\n",
              "    .dataframe tbody tr th {\n",
              "        vertical-align: top;\n",
              "    }\n",
              "\n",
              "    .dataframe thead th {\n",
              "        text-align: right;\n",
              "    }\n",
              "</style>\n",
              "<table border=\"1\" class=\"dataframe\">\n",
              "  <thead>\n",
              "    <tr style=\"text-align: right;\">\n",
              "      <th></th>\n",
              "      <th>工号</th>\n",
              "      <th>姓名</th>\n",
              "      <th>公司名称</th>\n",
              "      <th>性别</th>\n",
              "      <th>员工状态</th>\n",
              "      <th>员工等级</th>\n",
              "    </tr>\n",
              "  </thead>\n",
              "  <tbody>\n",
              "    <tr>\n",
              "      <th>0</th>\n",
              "      <td>1</td>\n",
              "      <td>赵一</td>\n",
              "      <td>脑洞有限公司</td>\n",
              "      <td>女</td>\n",
              "      <td>离职</td>\n",
              "      <td>初级</td>\n",
              "    </tr>\n",
              "    <tr>\n",
              "      <th>1</th>\n",
              "      <td>2</td>\n",
              "      <td>钱明</td>\n",
              "      <td>脑洞有限公司</td>\n",
              "      <td>男</td>\n",
              "      <td>离职</td>\n",
              "      <td>初级</td>\n",
              "    </tr>\n",
              "    <tr>\n",
              "      <th>2</th>\n",
              "      <td>3</td>\n",
              "      <td>周元</td>\n",
              "      <td>脑洞有限公司</td>\n",
              "      <td>男</td>\n",
              "      <td>在职</td>\n",
              "      <td>中级</td>\n",
              "    </tr>\n",
              "    <tr>\n",
              "      <th>3</th>\n",
              "      <td>4</td>\n",
              "      <td>李雷</td>\n",
              "      <td>脑洞有限公司</td>\n",
              "      <td>女</td>\n",
              "      <td>离职</td>\n",
              "      <td>中级</td>\n",
              "    </tr>\n",
              "    <tr>\n",
              "      <th>4</th>\n",
              "      <td>8</td>\n",
              "      <td>王七</td>\n",
              "      <td>脑洞有限公司</td>\n",
              "      <td>男</td>\n",
              "      <td>在职</td>\n",
              "      <td>高级</td>\n",
              "    </tr>\n",
              "    <tr>\n",
              "      <th>5</th>\n",
              "      <td>6</td>\n",
              "      <td>赵三</td>\n",
              "      <td>脑洞有限公司</td>\n",
              "      <td>男</td>\n",
              "      <td>离职</td>\n",
              "      <td>高级</td>\n",
              "    </tr>\n",
              "    <tr>\n",
              "      <th>6</th>\n",
              "      <td>7</td>\n",
              "      <td>赵六</td>\n",
              "      <td>脑洞有限公司</td>\n",
              "      <td>女</td>\n",
              "      <td>在职</td>\n",
              "      <td>中级</td>\n",
              "    </tr>\n",
              "  </tbody>\n",
              "</table>\n",
              "</div>\n",
              "      <button class=\"colab-df-convert\" onclick=\"convertToInteractive('df-52ebd50e-1914-487d-a9b0-c859f1cd71c6')\"\n",
              "              title=\"Convert this dataframe to an interactive table.\"\n",
              "              style=\"display:none;\">\n",
              "        \n",
              "  <svg xmlns=\"http://www.w3.org/2000/svg\" height=\"24px\"viewBox=\"0 0 24 24\"\n",
              "       width=\"24px\">\n",
              "    <path d=\"M0 0h24v24H0V0z\" fill=\"none\"/>\n",
              "    <path d=\"M18.56 5.44l.94 2.06.94-2.06 2.06-.94-2.06-.94-.94-2.06-.94 2.06-2.06.94zm-11 1L8.5 8.5l.94-2.06 2.06-.94-2.06-.94L8.5 2.5l-.94 2.06-2.06.94zm10 10l.94 2.06.94-2.06 2.06-.94-2.06-.94-.94-2.06-.94 2.06-2.06.94z\"/><path d=\"M17.41 7.96l-1.37-1.37c-.4-.4-.92-.59-1.43-.59-.52 0-1.04.2-1.43.59L10.3 9.45l-7.72 7.72c-.78.78-.78 2.05 0 2.83L4 21.41c.39.39.9.59 1.41.59.51 0 1.02-.2 1.41-.59l7.78-7.78 2.81-2.81c.8-.78.8-2.07 0-2.86zM5.41 20L4 18.59l7.72-7.72 1.47 1.35L5.41 20z\"/>\n",
              "  </svg>\n",
              "      </button>\n",
              "      \n",
              "  <style>\n",
              "    .colab-df-container {\n",
              "      display:flex;\n",
              "      flex-wrap:wrap;\n",
              "      gap: 12px;\n",
              "    }\n",
              "\n",
              "    .colab-df-convert {\n",
              "      background-color: #E8F0FE;\n",
              "      border: none;\n",
              "      border-radius: 50%;\n",
              "      cursor: pointer;\n",
              "      display: none;\n",
              "      fill: #1967D2;\n",
              "      height: 32px;\n",
              "      padding: 0 0 0 0;\n",
              "      width: 32px;\n",
              "    }\n",
              "\n",
              "    .colab-df-convert:hover {\n",
              "      background-color: #E2EBFA;\n",
              "      box-shadow: 0px 1px 2px rgba(60, 64, 67, 0.3), 0px 1px 3px 1px rgba(60, 64, 67, 0.15);\n",
              "      fill: #174EA6;\n",
              "    }\n",
              "\n",
              "    [theme=dark] .colab-df-convert {\n",
              "      background-color: #3B4455;\n",
              "      fill: #D2E3FC;\n",
              "    }\n",
              "\n",
              "    [theme=dark] .colab-df-convert:hover {\n",
              "      background-color: #434B5C;\n",
              "      box-shadow: 0px 1px 3px 1px rgba(0, 0, 0, 0.15);\n",
              "      filter: drop-shadow(0px 1px 2px rgba(0, 0, 0, 0.3));\n",
              "      fill: #FFFFFF;\n",
              "    }\n",
              "  </style>\n",
              "\n",
              "      <script>\n",
              "        const buttonEl =\n",
              "          document.querySelector('#df-52ebd50e-1914-487d-a9b0-c859f1cd71c6 button.colab-df-convert');\n",
              "        buttonEl.style.display =\n",
              "          google.colab.kernel.accessAllowed ? 'block' : 'none';\n",
              "\n",
              "        async function convertToInteractive(key) {\n",
              "          const element = document.querySelector('#df-52ebd50e-1914-487d-a9b0-c859f1cd71c6');\n",
              "          const dataTable =\n",
              "            await google.colab.kernel.invokeFunction('convertToInteractive',\n",
              "                                                     [key], {});\n",
              "          if (!dataTable) return;\n",
              "\n",
              "          const docLinkHtml = 'Like what you see? Visit the ' +\n",
              "            '<a target=\"_blank\" href=https://colab.research.google.com/notebooks/data_table.ipynb>data table notebook</a>'\n",
              "            + ' to learn more about interactive tables.';\n",
              "          element.innerHTML = '';\n",
              "          dataTable['output_type'] = 'display_data';\n",
              "          await google.colab.output.renderOutput(dataTable, element);\n",
              "          const docLink = document.createElement('div');\n",
              "          docLink.innerHTML = docLinkHtml;\n",
              "          element.appendChild(docLink);\n",
              "        }\n",
              "      </script>\n",
              "    </div>\n",
              "  </div>\n",
              "  "
            ]
          },
          "metadata": {},
          "execution_count": 20
        }
      ]
    },
    {
      "cell_type": "code",
      "source": [
        "work3"
      ],
      "metadata": {
        "colab": {
          "base_uri": "https://localhost:8080/",
          "height": 206
        },
        "id": "R09cNPVijPXr",
        "outputId": "0c911e96-ae06-4232-e2ca-fe8d88f09f6b"
      },
      "execution_count": null,
      "outputs": [
        {
          "output_type": "execute_result",
          "data": {
            "text/plain": [
              "   工号 员工姓名   销售业绩   提成收入  基本工资  社保金额   创造收益   是否达标\n",
              "0   1   赵一  30000   6000  2500   125  21375  False\n",
              "1   2   钱明  20000   4000  2500   125  13375  False\n",
              "2   3   周元  50000  10000  2500   125  37375   True\n",
              "3   4   李雷  40000   8000  2500   125  29375  False\n",
              "4   5   王七  60000  12000  2500   125  45375   True"
            ],
            "text/html": [
              "\n",
              "  <div id=\"df-10e7863c-6034-4d6c-8b09-2ab60ad78e9a\">\n",
              "    <div class=\"colab-df-container\">\n",
              "      <div>\n",
              "<style scoped>\n",
              "    .dataframe tbody tr th:only-of-type {\n",
              "        vertical-align: middle;\n",
              "    }\n",
              "\n",
              "    .dataframe tbody tr th {\n",
              "        vertical-align: top;\n",
              "    }\n",
              "\n",
              "    .dataframe thead th {\n",
              "        text-align: right;\n",
              "    }\n",
              "</style>\n",
              "<table border=\"1\" class=\"dataframe\">\n",
              "  <thead>\n",
              "    <tr style=\"text-align: right;\">\n",
              "      <th></th>\n",
              "      <th>工号</th>\n",
              "      <th>员工姓名</th>\n",
              "      <th>销售业绩</th>\n",
              "      <th>提成收入</th>\n",
              "      <th>基本工资</th>\n",
              "      <th>社保金额</th>\n",
              "      <th>创造收益</th>\n",
              "      <th>是否达标</th>\n",
              "    </tr>\n",
              "  </thead>\n",
              "  <tbody>\n",
              "    <tr>\n",
              "      <th>0</th>\n",
              "      <td>1</td>\n",
              "      <td>赵一</td>\n",
              "      <td>30000</td>\n",
              "      <td>6000</td>\n",
              "      <td>2500</td>\n",
              "      <td>125</td>\n",
              "      <td>21375</td>\n",
              "      <td>False</td>\n",
              "    </tr>\n",
              "    <tr>\n",
              "      <th>1</th>\n",
              "      <td>2</td>\n",
              "      <td>钱明</td>\n",
              "      <td>20000</td>\n",
              "      <td>4000</td>\n",
              "      <td>2500</td>\n",
              "      <td>125</td>\n",
              "      <td>13375</td>\n",
              "      <td>False</td>\n",
              "    </tr>\n",
              "    <tr>\n",
              "      <th>2</th>\n",
              "      <td>3</td>\n",
              "      <td>周元</td>\n",
              "      <td>50000</td>\n",
              "      <td>10000</td>\n",
              "      <td>2500</td>\n",
              "      <td>125</td>\n",
              "      <td>37375</td>\n",
              "      <td>True</td>\n",
              "    </tr>\n",
              "    <tr>\n",
              "      <th>3</th>\n",
              "      <td>4</td>\n",
              "      <td>李雷</td>\n",
              "      <td>40000</td>\n",
              "      <td>8000</td>\n",
              "      <td>2500</td>\n",
              "      <td>125</td>\n",
              "      <td>29375</td>\n",
              "      <td>False</td>\n",
              "    </tr>\n",
              "    <tr>\n",
              "      <th>4</th>\n",
              "      <td>5</td>\n",
              "      <td>王七</td>\n",
              "      <td>60000</td>\n",
              "      <td>12000</td>\n",
              "      <td>2500</td>\n",
              "      <td>125</td>\n",
              "      <td>45375</td>\n",
              "      <td>True</td>\n",
              "    </tr>\n",
              "  </tbody>\n",
              "</table>\n",
              "</div>\n",
              "      <button class=\"colab-df-convert\" onclick=\"convertToInteractive('df-10e7863c-6034-4d6c-8b09-2ab60ad78e9a')\"\n",
              "              title=\"Convert this dataframe to an interactive table.\"\n",
              "              style=\"display:none;\">\n",
              "        \n",
              "  <svg xmlns=\"http://www.w3.org/2000/svg\" height=\"24px\"viewBox=\"0 0 24 24\"\n",
              "       width=\"24px\">\n",
              "    <path d=\"M0 0h24v24H0V0z\" fill=\"none\"/>\n",
              "    <path d=\"M18.56 5.44l.94 2.06.94-2.06 2.06-.94-2.06-.94-.94-2.06-.94 2.06-2.06.94zm-11 1L8.5 8.5l.94-2.06 2.06-.94-2.06-.94L8.5 2.5l-.94 2.06-2.06.94zm10 10l.94 2.06.94-2.06 2.06-.94-2.06-.94-.94-2.06-.94 2.06-2.06.94z\"/><path d=\"M17.41 7.96l-1.37-1.37c-.4-.4-.92-.59-1.43-.59-.52 0-1.04.2-1.43.59L10.3 9.45l-7.72 7.72c-.78.78-.78 2.05 0 2.83L4 21.41c.39.39.9.59 1.41.59.51 0 1.02-.2 1.41-.59l7.78-7.78 2.81-2.81c.8-.78.8-2.07 0-2.86zM5.41 20L4 18.59l7.72-7.72 1.47 1.35L5.41 20z\"/>\n",
              "  </svg>\n",
              "      </button>\n",
              "      \n",
              "  <style>\n",
              "    .colab-df-container {\n",
              "      display:flex;\n",
              "      flex-wrap:wrap;\n",
              "      gap: 12px;\n",
              "    }\n",
              "\n",
              "    .colab-df-convert {\n",
              "      background-color: #E8F0FE;\n",
              "      border: none;\n",
              "      border-radius: 50%;\n",
              "      cursor: pointer;\n",
              "      display: none;\n",
              "      fill: #1967D2;\n",
              "      height: 32px;\n",
              "      padding: 0 0 0 0;\n",
              "      width: 32px;\n",
              "    }\n",
              "\n",
              "    .colab-df-convert:hover {\n",
              "      background-color: #E2EBFA;\n",
              "      box-shadow: 0px 1px 2px rgba(60, 64, 67, 0.3), 0px 1px 3px 1px rgba(60, 64, 67, 0.15);\n",
              "      fill: #174EA6;\n",
              "    }\n",
              "\n",
              "    [theme=dark] .colab-df-convert {\n",
              "      background-color: #3B4455;\n",
              "      fill: #D2E3FC;\n",
              "    }\n",
              "\n",
              "    [theme=dark] .colab-df-convert:hover {\n",
              "      background-color: #434B5C;\n",
              "      box-shadow: 0px 1px 3px 1px rgba(0, 0, 0, 0.15);\n",
              "      filter: drop-shadow(0px 1px 2px rgba(0, 0, 0, 0.3));\n",
              "      fill: #FFFFFF;\n",
              "    }\n",
              "  </style>\n",
              "\n",
              "      <script>\n",
              "        const buttonEl =\n",
              "          document.querySelector('#df-10e7863c-6034-4d6c-8b09-2ab60ad78e9a button.colab-df-convert');\n",
              "        buttonEl.style.display =\n",
              "          google.colab.kernel.accessAllowed ? 'block' : 'none';\n",
              "\n",
              "        async function convertToInteractive(key) {\n",
              "          const element = document.querySelector('#df-10e7863c-6034-4d6c-8b09-2ab60ad78e9a');\n",
              "          const dataTable =\n",
              "            await google.colab.kernel.invokeFunction('convertToInteractive',\n",
              "                                                     [key], {});\n",
              "          if (!dataTable) return;\n",
              "\n",
              "          const docLinkHtml = 'Like what you see? Visit the ' +\n",
              "            '<a target=\"_blank\" href=https://colab.research.google.com/notebooks/data_table.ipynb>data table notebook</a>'\n",
              "            + ' to learn more about interactive tables.';\n",
              "          element.innerHTML = '';\n",
              "          dataTable['output_type'] = 'display_data';\n",
              "          await google.colab.output.renderOutput(dataTable, element);\n",
              "          const docLink = document.createElement('div');\n",
              "          docLink.innerHTML = docLinkHtml;\n",
              "          element.appendChild(docLink);\n",
              "        }\n",
              "      </script>\n",
              "    </div>\n",
              "  </div>\n",
              "  "
            ]
          },
          "metadata": {},
          "execution_count": 21
        }
      ]
    },
    {
      "cell_type": "code",
      "source": [
        "pd.merge(work3,work5,left_on=\"员工姓名\",right_on=\"姓名\")"
      ],
      "metadata": {
        "colab": {
          "base_uri": "https://localhost:8080/",
          "height": 458
        },
        "id": "OpsHQ9P-jRCv",
        "outputId": "edaea11b-eacd-4633-81de-602ee62943c3"
      },
      "execution_count": null,
      "outputs": [
        {
          "output_type": "execute_result",
          "data": {
            "text/plain": [
              "   工号_x 员工姓名   销售业绩   提成收入  基本工资  社保金额   创造收益   是否达标  工号_y  姓名    公司名称 性别  \\\n",
              "0     1   赵一  30000   6000  2500   125  21375  False     1  赵一  脑洞有限公司  女   \n",
              "1     2   钱明  20000   4000  2500   125  13375  False     2  钱明  脑洞有限公司  男   \n",
              "2     3   周元  50000  10000  2500   125  37375   True     3  周元  脑洞有限公司  男   \n",
              "3     4   李雷  40000   8000  2500   125  29375  False     4  李雷  脑洞有限公司  女   \n",
              "4     5   王七  60000  12000  2500   125  45375   True     8  王七  脑洞有限公司  男   \n",
              "\n",
              "  员工状态 员工等级  \n",
              "0   离职   初级  \n",
              "1   离职   初级  \n",
              "2   在职   中级  \n",
              "3   离职   中级  \n",
              "4   在职   高级  "
            ],
            "text/html": [
              "\n",
              "  <div id=\"df-a9b434d9-29e8-4346-8109-c3832fe3c3db\">\n",
              "    <div class=\"colab-df-container\">\n",
              "      <div>\n",
              "<style scoped>\n",
              "    .dataframe tbody tr th:only-of-type {\n",
              "        vertical-align: middle;\n",
              "    }\n",
              "\n",
              "    .dataframe tbody tr th {\n",
              "        vertical-align: top;\n",
              "    }\n",
              "\n",
              "    .dataframe thead th {\n",
              "        text-align: right;\n",
              "    }\n",
              "</style>\n",
              "<table border=\"1\" class=\"dataframe\">\n",
              "  <thead>\n",
              "    <tr style=\"text-align: right;\">\n",
              "      <th></th>\n",
              "      <th>工号_x</th>\n",
              "      <th>员工姓名</th>\n",
              "      <th>销售业绩</th>\n",
              "      <th>提成收入</th>\n",
              "      <th>基本工资</th>\n",
              "      <th>社保金额</th>\n",
              "      <th>创造收益</th>\n",
              "      <th>是否达标</th>\n",
              "      <th>工号_y</th>\n",
              "      <th>姓名</th>\n",
              "      <th>公司名称</th>\n",
              "      <th>性别</th>\n",
              "      <th>员工状态</th>\n",
              "      <th>员工等级</th>\n",
              "    </tr>\n",
              "  </thead>\n",
              "  <tbody>\n",
              "    <tr>\n",
              "      <th>0</th>\n",
              "      <td>1</td>\n",
              "      <td>赵一</td>\n",
              "      <td>30000</td>\n",
              "      <td>6000</td>\n",
              "      <td>2500</td>\n",
              "      <td>125</td>\n",
              "      <td>21375</td>\n",
              "      <td>False</td>\n",
              "      <td>1</td>\n",
              "      <td>赵一</td>\n",
              "      <td>脑洞有限公司</td>\n",
              "      <td>女</td>\n",
              "      <td>离职</td>\n",
              "      <td>初级</td>\n",
              "    </tr>\n",
              "    <tr>\n",
              "      <th>1</th>\n",
              "      <td>2</td>\n",
              "      <td>钱明</td>\n",
              "      <td>20000</td>\n",
              "      <td>4000</td>\n",
              "      <td>2500</td>\n",
              "      <td>125</td>\n",
              "      <td>13375</td>\n",
              "      <td>False</td>\n",
              "      <td>2</td>\n",
              "      <td>钱明</td>\n",
              "      <td>脑洞有限公司</td>\n",
              "      <td>男</td>\n",
              "      <td>离职</td>\n",
              "      <td>初级</td>\n",
              "    </tr>\n",
              "    <tr>\n",
              "      <th>2</th>\n",
              "      <td>3</td>\n",
              "      <td>周元</td>\n",
              "      <td>50000</td>\n",
              "      <td>10000</td>\n",
              "      <td>2500</td>\n",
              "      <td>125</td>\n",
              "      <td>37375</td>\n",
              "      <td>True</td>\n",
              "      <td>3</td>\n",
              "      <td>周元</td>\n",
              "      <td>脑洞有限公司</td>\n",
              "      <td>男</td>\n",
              "      <td>在职</td>\n",
              "      <td>中级</td>\n",
              "    </tr>\n",
              "    <tr>\n",
              "      <th>3</th>\n",
              "      <td>4</td>\n",
              "      <td>李雷</td>\n",
              "      <td>40000</td>\n",
              "      <td>8000</td>\n",
              "      <td>2500</td>\n",
              "      <td>125</td>\n",
              "      <td>29375</td>\n",
              "      <td>False</td>\n",
              "      <td>4</td>\n",
              "      <td>李雷</td>\n",
              "      <td>脑洞有限公司</td>\n",
              "      <td>女</td>\n",
              "      <td>离职</td>\n",
              "      <td>中级</td>\n",
              "    </tr>\n",
              "    <tr>\n",
              "      <th>4</th>\n",
              "      <td>5</td>\n",
              "      <td>王七</td>\n",
              "      <td>60000</td>\n",
              "      <td>12000</td>\n",
              "      <td>2500</td>\n",
              "      <td>125</td>\n",
              "      <td>45375</td>\n",
              "      <td>True</td>\n",
              "      <td>8</td>\n",
              "      <td>王七</td>\n",
              "      <td>脑洞有限公司</td>\n",
              "      <td>男</td>\n",
              "      <td>在职</td>\n",
              "      <td>高级</td>\n",
              "    </tr>\n",
              "  </tbody>\n",
              "</table>\n",
              "</div>\n",
              "      <button class=\"colab-df-convert\" onclick=\"convertToInteractive('df-a9b434d9-29e8-4346-8109-c3832fe3c3db')\"\n",
              "              title=\"Convert this dataframe to an interactive table.\"\n",
              "              style=\"display:none;\">\n",
              "        \n",
              "  <svg xmlns=\"http://www.w3.org/2000/svg\" height=\"24px\"viewBox=\"0 0 24 24\"\n",
              "       width=\"24px\">\n",
              "    <path d=\"M0 0h24v24H0V0z\" fill=\"none\"/>\n",
              "    <path d=\"M18.56 5.44l.94 2.06.94-2.06 2.06-.94-2.06-.94-.94-2.06-.94 2.06-2.06.94zm-11 1L8.5 8.5l.94-2.06 2.06-.94-2.06-.94L8.5 2.5l-.94 2.06-2.06.94zm10 10l.94 2.06.94-2.06 2.06-.94-2.06-.94-.94-2.06-.94 2.06-2.06.94z\"/><path d=\"M17.41 7.96l-1.37-1.37c-.4-.4-.92-.59-1.43-.59-.52 0-1.04.2-1.43.59L10.3 9.45l-7.72 7.72c-.78.78-.78 2.05 0 2.83L4 21.41c.39.39.9.59 1.41.59.51 0 1.02-.2 1.41-.59l7.78-7.78 2.81-2.81c.8-.78.8-2.07 0-2.86zM5.41 20L4 18.59l7.72-7.72 1.47 1.35L5.41 20z\"/>\n",
              "  </svg>\n",
              "      </button>\n",
              "      \n",
              "  <style>\n",
              "    .colab-df-container {\n",
              "      display:flex;\n",
              "      flex-wrap:wrap;\n",
              "      gap: 12px;\n",
              "    }\n",
              "\n",
              "    .colab-df-convert {\n",
              "      background-color: #E8F0FE;\n",
              "      border: none;\n",
              "      border-radius: 50%;\n",
              "      cursor: pointer;\n",
              "      display: none;\n",
              "      fill: #1967D2;\n",
              "      height: 32px;\n",
              "      padding: 0 0 0 0;\n",
              "      width: 32px;\n",
              "    }\n",
              "\n",
              "    .colab-df-convert:hover {\n",
              "      background-color: #E2EBFA;\n",
              "      box-shadow: 0px 1px 2px rgba(60, 64, 67, 0.3), 0px 1px 3px 1px rgba(60, 64, 67, 0.15);\n",
              "      fill: #174EA6;\n",
              "    }\n",
              "\n",
              "    [theme=dark] .colab-df-convert {\n",
              "      background-color: #3B4455;\n",
              "      fill: #D2E3FC;\n",
              "    }\n",
              "\n",
              "    [theme=dark] .colab-df-convert:hover {\n",
              "      background-color: #434B5C;\n",
              "      box-shadow: 0px 1px 3px 1px rgba(0, 0, 0, 0.15);\n",
              "      filter: drop-shadow(0px 1px 2px rgba(0, 0, 0, 0.3));\n",
              "      fill: #FFFFFF;\n",
              "    }\n",
              "  </style>\n",
              "\n",
              "      <script>\n",
              "        const buttonEl =\n",
              "          document.querySelector('#df-a9b434d9-29e8-4346-8109-c3832fe3c3db button.colab-df-convert');\n",
              "        buttonEl.style.display =\n",
              "          google.colab.kernel.accessAllowed ? 'block' : 'none';\n",
              "\n",
              "        async function convertToInteractive(key) {\n",
              "          const element = document.querySelector('#df-a9b434d9-29e8-4346-8109-c3832fe3c3db');\n",
              "          const dataTable =\n",
              "            await google.colab.kernel.invokeFunction('convertToInteractive',\n",
              "                                                     [key], {});\n",
              "          if (!dataTable) return;\n",
              "\n",
              "          const docLinkHtml = 'Like what you see? Visit the ' +\n",
              "            '<a target=\"_blank\" href=https://colab.research.google.com/notebooks/data_table.ipynb>data table notebook</a>'\n",
              "            + ' to learn more about interactive tables.';\n",
              "          element.innerHTML = '';\n",
              "          dataTable['output_type'] = 'display_data';\n",
              "          await google.colab.output.renderOutput(dataTable, element);\n",
              "          const docLink = document.createElement('div');\n",
              "          docLink.innerHTML = docLinkHtml;\n",
              "          element.appendChild(docLink);\n",
              "        }\n",
              "      </script>\n",
              "    </div>\n",
              "  </div>\n",
              "  "
            ]
          },
          "metadata": {},
          "execution_count": 25
        }
      ]
    },
    {
      "cell_type": "markdown",
      "source": [
        "#### 正則表達式"
      ],
      "metadata": {
        "id": "f5r3KlN-7bez"
      }
    },
    {
      "cell_type": "code",
      "source": [
        "import re\n",
        "role = re.compile(r'\\d\\d\\d')       # 連續三個數字\n",
        "result = role.search('abc123xyz994d')  # 使用 search 方法，使用建立的規則，搜尋 abc123xyz\n",
        "print(result.group())"
      ],
      "metadata": {
        "colab": {
          "base_uri": "https://localhost:8080/"
        },
        "id": "KMSMVWQP7Ypp",
        "outputId": "c844b22b-5c53-4a4d-b308-6867b3b7bc11"
      },
      "execution_count": null,
      "outputs": [
        {
          "output_type": "stream",
          "name": "stdout",
          "text": [
            "123\n"
          ]
        }
      ]
    },
    {
      "cell_type": "code",
      "source": [
        "import re\n",
        "role = re.compile(r'hello', flags=re.I)  # 匹配 hello，不論大小寫\n",
        "result = role.search('HeLlo World')\n",
        "print(result.group())                    # HeLlo"
      ],
      "metadata": {
        "colab": {
          "base_uri": "https://localhost:8080/"
        },
        "id": "Vqvy8Kjijk_q",
        "outputId": "6f7d5578-485e-4ea8-bc3f-bd0d6ad2fa93"
      },
      "execution_count": null,
      "outputs": [
        {
          "output_type": "stream",
          "name": "stdout",
          "text": [
            "HeLlo\n"
          ]
        }
      ]
    },
    {
      "cell_type": "code",
      "source": [
        "import re\n",
        "role = re.compile(r'hello', flags=re.I)\n",
        "result_search = role.search('HeLlo World, Hello oxxo') #尋找第一個匹配的字元，有匹配回傳 None\n",
        "result_match =00('HeLlo World, Hello oxxo') #從開頭開始，尋找第一個匹配的字元\n",
        "result_fullmatch1 = role.fullmatch('HeLlo World, Hello oxxo') #回傳整個字串都匹配的結果\n",
        "result_fullmatch2 = role.fullmatch('HeLlo') #回傳整個字串都匹配的結果\n",
        "result_split = role.split('HeLlo World, Hello oxxo') #使用匹配的字串，將原始字串分割為串列。\n",
        "result_findall = role.findall('HeLlo World, Hello oxxo') #找出全部匹配的字串，回傳為一個串列。\n",
        "result_finditer = role.finditer('HeLlo World, Hello oxxo') #\t找出全部匹配的字串，回傳為一個迭代器物件。\n",
        "result_sub = role.sub('oxxo','HeLlo World, Hello oxxo') #從 string 找出全部匹配的字串，並使用 repl 的字串取代，count 預設 0 表示全部取代，設定次數可指定取代的個數。\n",
        "\n",
        "print(\"result_search:\",result_search)          # <re.Match object; span=(0, 5), match='HeLlo'>\n",
        "print(\"result_match\",result_match)           # <re.Match object; span=(0, 5), match='HeLlo'>\n",
        "print(\"result_fullmatch1\",result_fullmatch1)      # None\n",
        "print(\"result_fullmatch2\",result_fullmatch2)      # <re.Match object; span=(0, 5), match='HeLlo'>\n",
        "print(\"result_split\",result_split)           # ['', ' World, ', ' oxxo']\n",
        "print(\"result_findall\",result_findall)         # ['HeLlo', 'Hello']\n",
        "print(\"result_finditer\",list(result_finditer))  # [<re.Match object; span=(0, 5), match='HeLlo'>, <re.Match object; span=(13, 18), match='Hello'>]\n",
        "print(\"result_sub\",result_sub)             # oxxo World, oxxo oxxo"
      ],
      "metadata": {
        "colab": {
          "base_uri": "https://localhost:8080/"
        },
        "id": "ytdXqJs-777F",
        "outputId": "1cc31c63-4008-463e-8aad-87e7f6b80892"
      },
      "execution_count": null,
      "outputs": [
        {
          "output_type": "stream",
          "name": "stdout",
          "text": [
            "result_search: <re.Match object; span=(0, 5), match='HeLlo'>\n",
            "result_match <re.Match object; span=(0, 5), match='HeLlo'>\n",
            "result_fullmatch1 None\n",
            "result_fullmatch2 <re.Match object; span=(0, 5), match='HeLlo'>\n",
            "result_split ['', ' World, ', ' oxxo']\n",
            "result_findall ['HeLlo', 'Hello']\n",
            "result_finditer [<re.Match object; span=(0, 5), match='HeLlo'>, <re.Match object; span=(13, 18), match='Hello'>]\n",
            "result_sub oxxo World, oxxo oxxo\n"
          ]
        }
      ]
    },
    {
      "cell_type": "code",
      "source": [
        "line = 'the quick brown fox jumped over a lazy dog'\n",
        "regex = re.compile('\\s+')\n",
        "regex.split(line)"
      ],
      "metadata": {
        "colab": {
          "base_uri": "https://localhost:8080/"
        },
        "id": "4-er4UK48RU7",
        "outputId": "96ca9861-63b9-41b2-80ea-98564bd850fd"
      },
      "execution_count": null,
      "outputs": [
        {
          "output_type": "execute_result",
          "data": {
            "text/plain": [
              "['the', 'quick', 'brown', 'fox', 'jumped', 'over', 'a', 'lazy', 'dog']"
            ]
          },
          "metadata": {},
          "execution_count": 7
        }
      ]
    },
    {
      "cell_type": "code",
      "source": [
        "for s in [\" \", \"abc \", \" abc\"]:\n",
        "     if regex.match(s):\n",
        "         print(repr(s), \"matches\")\n",
        "     else:\n",
        "         print(repr(s), \"does not match\")"
      ],
      "metadata": {
        "colab": {
          "base_uri": "https://localhost:8080/"
        },
        "id": "6pQ08UVwjoHZ",
        "outputId": "14f66535-298a-430a-97c1-cdd643eaa74e"
      },
      "execution_count": null,
      "outputs": [
        {
          "output_type": "stream",
          "name": "stdout",
          "text": [
            "' ' matches\n",
            "'abc ' does not match\n",
            "' abc' matches\n"
          ]
        }
      ]
    },
    {
      "cell_type": "code",
      "source": [
        "line = 'the quick brown fox jumped over a lazy dog'\n",
        "regex = re.compile('fox')\n",
        "match = regex.search(line)\n",
        "match.start()"
      ],
      "metadata": {
        "colab": {
          "base_uri": "https://localhost:8080/"
        },
        "id": "wBK-LZs7kKA6",
        "outputId": "775c14d9-5131-4301-cb33-07f7add9669e"
      },
      "execution_count": null,
      "outputs": [
        {
          "output_type": "execute_result",
          "data": {
            "text/plain": [
              "16"
            ]
          },
          "metadata": {},
          "execution_count": 9
        }
      ]
    },
    {
      "cell_type": "code",
      "source": [
        "regex.sub('BEAR', line)"
      ],
      "metadata": {
        "colab": {
          "base_uri": "https://localhost:8080/",
          "height": 36
        },
        "id": "IvfkUAAekKFS",
        "outputId": "d05d76e5-9458-4962-90e3-9f84ab98eedd"
      },
      "execution_count": null,
      "outputs": [
        {
          "output_type": "execute_result",
          "data": {
            "text/plain": [
              "'the quick brown BEAR jumped over a lazy dog'"
            ],
            "application/vnd.google.colaboratory.intrinsic+json": {
              "type": "string"
            }
          },
          "metadata": {},
          "execution_count": 10
        }
      ]
    },
    {
      "cell_type": "code",
      "source": [
        "text = \"To email Guido, try guido@python.org or the older address \"\\\n",
        "         \"guido@google.com.\"\n",
        "email = re.compile('\\w+@\\w+\\.[a-z]{3}')\n",
        "email.findall(text)\n",
        "\n",
        "#我們可以進行進一步的操作，像是把電子郵件地址換成其他的字元串，達到保護個資的作用\n",
        "email.sub('--@--.--', text)"
      ],
      "metadata": {
        "colab": {
          "base_uri": "https://localhost:8080/",
          "height": 36
        },
        "id": "85fFkhyrkKKG",
        "outputId": "bec466d2-93e4-4f68-cbb4-ad6d6e07e557"
      },
      "execution_count": null,
      "outputs": [
        {
          "output_type": "execute_result",
          "data": {
            "text/plain": [
              "'To email Guido, try --@--.-- or the older address --@--.--.'"
            ],
            "application/vnd.google.colaboratory.intrinsic+json": {
              "type": "string"
            }
          },
          "metadata": {},
          "execution_count": 11
        }
      ]
    },
    {
      "cell_type": "code",
      "source": [
        "regex = re.compile(r'\\$')      #r表明是一個原始字串(raw string)，\\代表特殊的字元\n",
        "regex.findall(\"the cost is $20\")\n",
        "\n",
        "print('a\\tb\\tc')     #\\t是代表tab作用\n",
        "print(r'a\\tb\\tc')    #在原始字串中不會作用"
      ],
      "metadata": {
        "colab": {
          "base_uri": "https://localhost:8080/"
        },
        "id": "hjZyaa0qkKPe",
        "outputId": "04697859-befc-483e-df97-420b8911e765"
      },
      "execution_count": null,
      "outputs": [
        {
          "output_type": "stream",
          "name": "stdout",
          "text": [
            "a\tb\tc\n",
            "a\\tb\\tc\n"
          ]
        }
      ]
    },
    {
      "cell_type": "code",
      "source": [
        "#匹配1個英文+1個數字 ex:A4\n",
        "regex = re.compile('[A-Z][0-9]')\n",
        "regex.findall('1043879, G2, H6')"
      ],
      "metadata": {
        "colab": {
          "base_uri": "https://localhost:8080/"
        },
        "id": "0BzoVF_DlJkY",
        "outputId": "c29f75cd-5492-4c51-83a1-8cda27bd1b35"
      },
      "execution_count": null,
      "outputs": [
        {
          "output_type": "execute_result",
          "data": {
            "text/plain": [
              "['G2', 'H6']"
            ]
          },
          "metadata": {},
          "execution_count": 13
        }
      ]
    },
    {
      "cell_type": "code",
      "source": [
        "#匹配3個字母或3個數字的字串 ex:DAD AFD\n",
        "regex = re.compile(r'\\w{3}')\n",
        "regex.findall('The quick brown fox')"
      ],
      "metadata": {
        "colab": {
          "base_uri": "https://localhost:8080/"
        },
        "id": "A2-dGVaalJ3_",
        "outputId": "9dae5d41-3d3e-4f13-cd88-7a08ad3162b4"
      },
      "execution_count": null,
      "outputs": [
        {
          "output_type": "execute_result",
          "data": {
            "text/plain": [
              "['The', 'qui', 'bro', 'fox']"
            ]
          },
          "metadata": {},
          "execution_count": 14
        }
      ]
    },
    {
      "cell_type": "code",
      "source": [
        "#匹配1個字母或1個數字；+會匹配前面字元出現1或多次重複的情形\n",
        "regex = re.compile(r'\\w+')\n",
        "regex.findall('The quick brown fox')"
      ],
      "metadata": {
        "colab": {
          "base_uri": "https://localhost:8080/"
        },
        "id": "RtvDuh1clJ-x",
        "outputId": "f7324f55-98c6-4b63-d44b-0ee6eb96d3fe"
      },
      "execution_count": null,
      "outputs": [
        {
          "output_type": "execute_result",
          "data": {
            "text/plain": [
              "['The', 'quick', 'brown', 'fox']"
            ]
          },
          "metadata": {},
          "execution_count": 15
        }
      ]
    },
    {
      "cell_type": "code",
      "source": [
        "#匹配1個字母或1個數字；+會匹配前面字元出現1或多次重複的情形\n",
        "regex = re.compile(r'\\fo?')\n",
        "regex.findall('The quick brown fox')"
      ],
      "metadata": {
        "colab": {
          "base_uri": "https://localhost:8080/"
        },
        "id": "dq551-RkqtwR",
        "outputId": "a7e15003-b029-44f6-a888-047c0057d43a"
      },
      "execution_count": null,
      "outputs": [
        {
          "output_type": "execute_result",
          "data": {
            "text/plain": [
              "[]"
            ]
          },
          "metadata": {},
          "execution_count": 18
        }
      ]
    },
    {
      "cell_type": "code",
      "source": [
        "email2 = re.compile(r'[\\w.]+@\\w+\\.[a-z]{3}')\n",
        "email2.findall('barack.obama@whitehouse.gov')"
      ],
      "metadata": {
        "colab": {
          "base_uri": "https://localhost:8080/"
        },
        "id": "G6NtNnltqtzK",
        "outputId": "31c09cf6-3f62-4cce-eddd-fc5e462df289"
      },
      "execution_count": null,
      "outputs": [
        {
          "output_type": "execute_result",
          "data": {
            "text/plain": [
              "['barack.obama@whitehouse.gov']"
            ]
          },
          "metadata": {},
          "execution_count": 19
        }
      ]
    },
    {
      "cell_type": "code",
      "source": [
        "email3 = re.compile(r'([\\w.]+)@(\\w+)\\.([a-z]{3})')\n",
        "text = \"To email Guido, try guido@python.org or the older address \"\\\n",
        "\"guido@google.com.\"\n",
        "email3.findall(text)"
      ],
      "metadata": {
        "colab": {
          "base_uri": "https://localhost:8080/"
        },
        "id": "dr5Eafqjri1l",
        "outputId": "e65bcf79-1e7f-47be-ec5b-3913e6dff6ce"
      },
      "execution_count": null,
      "outputs": [
        {
          "output_type": "execute_result",
          "data": {
            "text/plain": [
              "[('guido', 'python', 'org'), ('guido', 'google', 'com')]"
            ]
          },
          "metadata": {},
          "execution_count": 20
        }
      ]
    },
    {
      "cell_type": "code",
      "source": [
        "email4 = re.compile(r'(?P<user>[\\w.]+)@(?P<domain>\\w+)'\\\n",
        "                       '.(?P<suffix>[a-z]{3})')\n",
        "match = email4.match('guido@python.org')\n",
        "match.groupdict()"
      ],
      "metadata": {
        "colab": {
          "base_uri": "https://localhost:8080/"
        },
        "id": "uo9D2YoOrjAR",
        "outputId": "ae81d0d9-1d44-451d-94ae-0380610549bb"
      },
      "execution_count": null,
      "outputs": [
        {
          "output_type": "execute_result",
          "data": {
            "text/plain": [
              "{'user': 'guido', 'domain': 'python', 'suffix': 'org'}"
            ]
          },
          "metadata": {},
          "execution_count": 21
        }
      ]
    },
    {
      "cell_type": "code",
      "source": [
        "result = re.match(\"He\",\"Hello World\")\n",
        "if not result:\n",
        "    print(\"Keyword not found\")\n",
        "print(\"Match!\")"
      ],
      "metadata": {
        "colab": {
          "base_uri": "https://localhost:8080/"
        },
        "id": "qd7yg1pOuX8V",
        "outputId": "52aa141d-5c86-4167-c6b9-e703424d5697"
      },
      "execution_count": null,
      "outputs": [
        {
          "output_type": "stream",
          "name": "stdout",
          "text": [
            "Match!\n"
          ]
        }
      ]
    },
    {
      "cell_type": "code",
      "source": [
        "def phone(text):\n",
        "  if len(text) != 12: #電話號碼長度不對，則回傳\"False\"\n",
        "    return False\n",
        "  for i in range(0,3):\n",
        "      if not text[i].isdecimal(): #檢查前3位否為數字\n",
        "        return False\n",
        "  if text[3] != '-': #第四位若非\"-\"，則回傳\"False\"\n",
        "        return False\n",
        "  for i in range(4,7): #檢查前5-7位否為數字\n",
        "    if not text[i].isdecimal():\n",
        "      return False\n",
        "  if text[7] != '-': #第八位若非\"-\"，則回傳\"False\"\n",
        "    return False\n",
        "  for i in range(9,12): #檢查前10-12位否為數字\n",
        "    if not text[i].isdecimal():\n",
        "      return False\n",
        "  return True"
      ],
      "metadata": {
        "id": "FrzwR5-v2Z2i"
      },
      "execution_count": null,
      "outputs": []
    },
    {
      "cell_type": "code",
      "source": [
        "print('415-555-4242 is a phone number:')\n",
        "print(phone('415-555-4242' ) )\n",
        "print('Moshi moshi is a phone number:')\n",
        "print(phone('Moshi moshi'))"
      ],
      "metadata": {
        "colab": {
          "base_uri": "https://localhost:8080/"
        },
        "id": "Ok0yYfMw5R4f",
        "outputId": "a2a575a0-0b6a-4c3a-b619-93f497b4b974"
      },
      "execution_count": null,
      "outputs": [
        {
          "output_type": "stream",
          "name": "stdout",
          "text": [
            "415-555-4242 is a phone number:\n",
            "True\n",
            "Moshi moshi is a phone number:\n",
            "False\n"
          ]
        }
      ]
    },
    {
      "cell_type": "code",
      "source": [
        "phoneRegex = re.compile(r'\\d\\d\\d-\\d\\d\\d-\\d\\d\\d\\d') #指定正規模式，並儲存Regex物件至變數\n",
        "mo = phoneRegex.search('415-555-4242 is a phone number') #物件.search()，若有則回傳match物件\n",
        "print(mo.group()) #match物件.group()=回傳對比符合之文字"
      ],
      "metadata": {
        "colab": {
          "base_uri": "https://localhost:8080/"
        },
        "id": "fBW4jr_CABSA",
        "outputId": "ba6721f3-a59f-4eab-bce7-d4e229611c47"
      },
      "execution_count": null,
      "outputs": [
        {
          "output_type": "stream",
          "name": "stdout",
          "text": [
            "415-555-4242\n"
          ]
        }
      ]
    },
    {
      "cell_type": "code",
      "source": [
        "#使用括號\n",
        "phoneRegex = re.compile(r'(\\d\\d\\d)-(\\d\\d\\d-\\d\\d\\d\\d)') #指定正規模式，並儲存Regex物件至變數\n",
        "mo = phoneRegex.search('415-555-4242 is a phone number') #物件.search()，若有則回傳match物件\n",
        "print('mo.group():',mo.group()) #回傳整個符合文字\n",
        "print('mo.group(0):',mo.group(0)) #回傳整個符合文字\n",
        "print('mo.group(1):',mo.group(1)) #回傳第一組\n",
        "print('mo.group(2):',mo.group(2)) #回傳第二組\n",
        "print('mo.groups():',mo.groups()) #一次取得所有分組"
      ],
      "metadata": {
        "colab": {
          "base_uri": "https://localhost:8080/"
        },
        "id": "bANvXFEmABec",
        "outputId": "3a393845-b9d2-4987-e9bb-fd1c4e249da4"
      },
      "execution_count": null,
      "outputs": [
        {
          "output_type": "stream",
          "name": "stdout",
          "text": [
            "mo.group(): 415-555-4242\n",
            "mo.group(0): 415-555-4242\n",
            "mo.group(1): 415\n",
            "mo.group(2): 555-4242\n",
            "mo.groups(): ('415', '555-4242')\n"
          ]
        }
      ]
    },
    {
      "cell_type": "code",
      "source": [
        "#使用括號\n",
        "phoneRegex = re.compile(r'(\\(\\d\\d\\d\\)) (\\d\\d\\d-\\d\\d\\d\\d)') #指定正規模式，並儲存Regex物件至變數\n",
        "mo = phoneRegex.search('(415) 555-4242 is a phone number') #物件.search()，若有則回傳match物件\n",
        "print('mo.group():',mo.group()) #回傳整個符合文字\n",
        "print('mo.group(0):',mo.group(0)) #回傳整個符合文字\n",
        "print('mo.group(1):',mo.group(1)) #回傳第一組\n",
        "print('mo.group(2):',mo.group(2)) #回傳第二組\n",
        "print('mo.groups():',mo.groups()) #一次取得所有分組"
      ],
      "metadata": {
        "colab": {
          "base_uri": "https://localhost:8080/"
        },
        "id": "PfsbGVzdEe6K",
        "outputId": "9e02d8e5-cf11-4ac9-da3d-83b0ec91c871"
      },
      "execution_count": null,
      "outputs": [
        {
          "output_type": "stream",
          "name": "stdout",
          "text": [
            "mo.group(): (415) 555-4242\n",
            "mo.group(0): (415) 555-4242\n",
            "mo.group(1): (415)\n",
            "mo.group(2): 555-4242\n",
            "mo.groups(): ('(415)', '555-4242')\n"
          ]
        }
      ]
    },
    {
      "cell_type": "code",
      "source": [
        "#比對多個分組 ex:尋找Batman或Tina Fey\n",
        "heroRegex = re.compile (r'Batman|Tina Fey')\n",
        "mo1 = heroRegex.search('Batman and Tina Fey.')\n",
        "mo1.group() #回傳整個符合文字"
      ],
      "metadata": {
        "colab": {
          "base_uri": "https://localhost:8080/",
          "height": 36
        },
        "id": "2KhDDf9LJ_se",
        "outputId": "1bbd5631-c29c-47c4-e1ae-b7938b5c0d86"
      },
      "execution_count": null,
      "outputs": [
        {
          "output_type": "execute_result",
          "data": {
            "text/plain": [
              "'Batman'"
            ],
            "application/vnd.google.colaboratory.intrinsic+json": {
              "type": "string"
            }
          },
          "metadata": {},
          "execution_count": 55
        }
      ]
    },
    {
      "cell_type": "code",
      "source": [
        "mo2 = heroRegex.search('Tina Fey and Batman.')\n",
        "mo2.group()"
      ],
      "metadata": {
        "colab": {
          "base_uri": "https://localhost:8080/",
          "height": 36
        },
        "id": "xQGapLpHJ_3C",
        "outputId": "1a8b5107-c9a8-4e67-ba7e-719267de3cf3"
      },
      "execution_count": null,
      "outputs": [
        {
          "output_type": "execute_result",
          "data": {
            "text/plain": [
              "'Tina Fey'"
            ],
            "application/vnd.google.colaboratory.intrinsic+json": {
              "type": "string"
            }
          },
          "metadata": {},
          "execution_count": 56
        }
      ]
    },
    {
      "cell_type": "code",
      "source": [
        "batRegex= re.compile(r'Bat(man|mobile|copter|bat)')\n",
        "mo = batRegex. search('Batmobile lost a wheel')\n",
        "print(\"mo.group():\",mo.group())\n",
        "print(\"mo.group(1):\",mo.group(1)) #返回第一個括號分組內比對符合文字mobile"
      ],
      "metadata": {
        "colab": {
          "base_uri": "https://localhost:8080/"
        },
        "id": "ukrVOQawJ_6z",
        "outputId": "585a1fdf-6f32-4d6d-e482-a4676824a3d6"
      },
      "execution_count": null,
      "outputs": [
        {
          "output_type": "stream",
          "name": "stdout",
          "text": [
            "mo.group(): Batmobile\n",
            "mo.group(1): mobile\n"
          ]
        }
      ]
    },
    {
      "cell_type": "code",
      "source": [
        "#?=可要與不要>(wo)可要可不要\n",
        "batRegex= re.compile(r'Bat(wo)?man')\n",
        "mo1 = batRegex.search('The Adventures of Batman')\n",
        "mo1.group()"
      ],
      "metadata": {
        "colab": {
          "base_uri": "https://localhost:8080/",
          "height": 36
        },
        "id": "z7MJR2DaZkVF",
        "outputId": "d9979e52-6f61-4191-ab57-b91421512386"
      },
      "execution_count": null,
      "outputs": [
        {
          "output_type": "execute_result",
          "data": {
            "text/plain": [
              "'Batman'"
            ],
            "application/vnd.google.colaboratory.intrinsic+json": {
              "type": "string"
            }
          },
          "metadata": {},
          "execution_count": 70
        }
      ]
    },
    {
      "cell_type": "code",
      "source": [
        "mo2 = batRegex.search('The Adventures of Batwoman')\n",
        "mo2.group()"
      ],
      "metadata": {
        "colab": {
          "base_uri": "https://localhost:8080/",
          "height": 36
        },
        "id": "c9gdLpazZnkR",
        "outputId": "6b70ecee-5423-49a8-ceeb-564a3a49dbe2"
      },
      "execution_count": null,
      "outputs": [
        {
          "output_type": "execute_result",
          "data": {
            "text/plain": [
              "'Batwoman'"
            ],
            "application/vnd.google.colaboratory.intrinsic+json": {
              "type": "string"
            }
          },
          "metadata": {},
          "execution_count": 69
        }
      ]
    },
    {
      "cell_type": "code",
      "source": [
        "batRegex= re.compile(r'Bat(wo)*man')\n",
        "mo1 = batRegex. search('The Adventures of Batman')\n",
        "mo1.group()"
      ],
      "metadata": {
        "colab": {
          "base_uri": "https://localhost:8080/",
          "height": 36
        },
        "id": "CcSggp3Kabjy",
        "outputId": "8b521dcf-4e93-4891-9337-13f0b19c8912"
      },
      "execution_count": null,
      "outputs": [
        {
          "output_type": "execute_result",
          "data": {
            "text/plain": [
              "'Batman'"
            ],
            "application/vnd.google.colaboratory.intrinsic+json": {
              "type": "string"
            }
          },
          "metadata": {},
          "execution_count": 71
        }
      ]
    },
    {
      "cell_type": "code",
      "source": [
        "mo2 = batRegex. search('The Adventures of Batwoman')\n",
        "mo2.group()"
      ],
      "metadata": {
        "colab": {
          "base_uri": "https://localhost:8080/",
          "height": 36
        },
        "id": "CphGnT0Wae_W",
        "outputId": "78272f7b-2978-4bfd-ad50-dd28efa748d8"
      },
      "execution_count": null,
      "outputs": [
        {
          "output_type": "execute_result",
          "data": {
            "text/plain": [
              "'Batwoman'"
            ],
            "application/vnd.google.colaboratory.intrinsic+json": {
              "type": "string"
            }
          },
          "metadata": {},
          "execution_count": 72
        }
      ]
    },
    {
      "cell_type": "code",
      "source": [
        "mo3 = batRegex. search('The Adventures of Batwowowowoman')\n",
        "mo3.group()"
      ],
      "metadata": {
        "colab": {
          "base_uri": "https://localhost:8080/",
          "height": 36
        },
        "id": "dlvP5Clyah2j",
        "outputId": "10b4aadd-4311-441f-edc9-29128d2e9781"
      },
      "execution_count": null,
      "outputs": [
        {
          "output_type": "execute_result",
          "data": {
            "text/plain": [
              "'Batwowowowoman'"
            ],
            "application/vnd.google.colaboratory.intrinsic+json": {
              "type": "string"
            }
          },
          "metadata": {},
          "execution_count": 74
        }
      ]
    },
    {
      "cell_type": "code",
      "source": [
        "batRegex= re.compile(r'Bat(wo)+man')\n",
        "mo1 = batRegex. search('The Adventures of Batwoman')\n",
        "mo1.group()"
      ],
      "metadata": {
        "colab": {
          "base_uri": "https://localhost:8080/",
          "height": 36
        },
        "id": "8Tp7TfTpbcTO",
        "outputId": "5f373ef3-fcb9-47a7-da6a-8fa1877cdac9"
      },
      "execution_count": null,
      "outputs": [
        {
          "output_type": "execute_result",
          "data": {
            "text/plain": [
              "'Batwoman'"
            ],
            "application/vnd.google.colaboratory.intrinsic+json": {
              "type": "string"
            }
          },
          "metadata": {},
          "execution_count": 76
        }
      ]
    },
    {
      "cell_type": "code",
      "source": [
        "mo2 = batRegex. search('The Adventures of Batwowoman')\n",
        "mo2.group()"
      ],
      "metadata": {
        "colab": {
          "base_uri": "https://localhost:8080/",
          "height": 36
        },
        "id": "SSOdTGBobiyG",
        "outputId": "a0305536-4d16-475b-cb74-06f3e2969303"
      },
      "execution_count": null,
      "outputs": [
        {
          "output_type": "execute_result",
          "data": {
            "text/plain": [
              "'Batwowoman'"
            ],
            "application/vnd.google.colaboratory.intrinsic+json": {
              "type": "string"
            }
          },
          "metadata": {},
          "execution_count": 77
        }
      ]
    },
    {
      "cell_type": "code",
      "source": [
        "mo3 = batRegex. search('The Adventures of Batman')\n",
        "mo3 = None"
      ],
      "metadata": {
        "id": "yyi0fBkqbpir"
      },
      "execution_count": null,
      "outputs": []
    },
    {
      "cell_type": "code",
      "source": [
        "#貪婪模式\n",
        "greedyHaRegex = re.compile(r'(Ha){3,5}')\n",
        "mo1 = greedyHaRegex.search('HaHaHaHaHa')\n",
        "mo1.group()"
      ],
      "metadata": {
        "colab": {
          "base_uri": "https://localhost:8080/",
          "height": 36
        },
        "id": "rgRembDqbtxq",
        "outputId": "cac39f28-25d2-4234-b2db-9d3d748376e3"
      },
      "execution_count": null,
      "outputs": [
        {
          "output_type": "execute_result",
          "data": {
            "text/plain": [
              "'HaHaHaHaHa'"
            ],
            "application/vnd.google.colaboratory.intrinsic+json": {
              "type": "string"
            }
          },
          "metadata": {},
          "execution_count": 82
        }
      ]
    },
    {
      "cell_type": "code",
      "source": [
        "#非貪婪模式\n",
        "nongreedyHaRegex= re.compile(r'(Ha){3,5}?')\n",
        "mo2 = nongreedyHaRegex.search('HaHaHaHaHa')\n",
        "mo2.group()"
      ],
      "metadata": {
        "colab": {
          "base_uri": "https://localhost:8080/",
          "height": 36
        },
        "id": "W-VZ-QcJdDlX",
        "outputId": "72b3fd3d-872d-40cd-cba9-cfd7d043cc00"
      },
      "execution_count": null,
      "outputs": [
        {
          "output_type": "execute_result",
          "data": {
            "text/plain": [
              "'HaHaHa'"
            ],
            "application/vnd.google.colaboratory.intrinsic+json": {
              "type": "string"
            }
          },
          "metadata": {},
          "execution_count": 83
        }
      ]
    },
    {
      "cell_type": "code",
      "source": [
        "#finall()，返回所有符合之字串\n",
        "phoneNumRegex = re.compile(r'\\d\\d\\d-\\d\\d\\d-\\d\\d\\d\\d') # has no groups\n",
        "phoneNumRegex.findall ('Cell: 415-555-9999 Work : 212-555-0000')"
      ],
      "metadata": {
        "colab": {
          "base_uri": "https://localhost:8080/"
        },
        "id": "R7gAk7_Iexa_",
        "outputId": "0c9000a8-4523-45fa-eb8b-10e5a502b329"
      },
      "execution_count": null,
      "outputs": [
        {
          "output_type": "execute_result",
          "data": {
            "text/plain": [
              "['415-555-9999', '212-555-0000']"
            ]
          },
          "metadata": {},
          "execution_count": 87
        }
      ]
    },
    {
      "cell_type": "code",
      "source": [
        "#有分組 #finall()，返回所有符合之一個多元組的串列\n",
        "phoneNumRegex = re.compile(r'(\\d\\d\\d)-(\\d\\d\\d)-(\\d\\d\\d\\d)') # has groups\n",
        "phoneNumRegex. findall('Cell : 415-555-9999 Work: 212-555-0000')"
      ],
      "metadata": {
        "colab": {
          "base_uri": "https://localhost:8080/"
        },
        "id": "CiQmaH2Pexeo",
        "outputId": "8a0c50f1-02dc-4204-dc2d-828ec66afac4"
      },
      "execution_count": null,
      "outputs": [
        {
          "output_type": "execute_result",
          "data": {
            "text/plain": [
              "[('415', '555', '9999'), ('212', '555', '0000')]"
            ]
          },
          "metadata": {},
          "execution_count": 89
        }
      ]
    },
    {
      "cell_type": "code",
      "source": [
        "xmasRegex = re.compile(r'\\d+\\s\\w+')\n",
        "xmasRegex.findall('12 drummers, 11 pipers, 10 lords, 9 ladies, 8 maids, 7 swans,6 geese, 5 rings, 4 birds, 3 hens, 2 doves, 1 partridge')"
      ],
      "metadata": {
        "colab": {
          "base_uri": "https://localhost:8080/"
        },
        "id": "C3j_KHeRexiE",
        "outputId": "d44f8b3e-e764-40a1-a623-925bb133cc66"
      },
      "execution_count": null,
      "outputs": [
        {
          "output_type": "execute_result",
          "data": {
            "text/plain": [
              "['12 drummers',\n",
              " '11 pipers',\n",
              " '10 lords',\n",
              " '9 ladies',\n",
              " '8 maids',\n",
              " '7 swans',\n",
              " '6 geese',\n",
              " '5 rings',\n",
              " '4 birds',\n",
              " '3 hens',\n",
              " '2 doves',\n",
              " '1 partridge']"
            ]
          },
          "metadata": {},
          "execution_count": 91
        }
      ]
    },
    {
      "cell_type": "code",
      "source": [
        "vowelRegex = re.compile(r'[aeiouAEIOU]')\n",
        "vowelRegex.findall('Robocop eats baby food. BABY FOOD. ')"
      ],
      "metadata": {
        "colab": {
          "base_uri": "https://localhost:8080/"
        },
        "id": "_f7MI76ZjC_6",
        "outputId": "7882a1ce-f907-4ddc-edaa-bcd38fc20ee0"
      },
      "execution_count": null,
      "outputs": [
        {
          "output_type": "execute_result",
          "data": {
            "text/plain": [
              "['o', 'o', 'o', 'e', 'a', 'a', 'o', 'o', 'A', 'O', 'O']"
            ]
          },
          "metadata": {},
          "execution_count": 94
        }
      ]
    },
    {
      "cell_type": "code",
      "source": [
        "vowelRegex = re.compile(r'[^aeiouAEIOU]')\n",
        "vowelRegex.findall('Robocop eats baby food. BABY FOOD. ')"
      ],
      "metadata": {
        "colab": {
          "base_uri": "https://localhost:8080/"
        },
        "id": "6059F5PzoMA4",
        "outputId": "869a1d06-3e20-4d22-ba91-0b93bf4c7c86"
      },
      "execution_count": null,
      "outputs": [
        {
          "output_type": "execute_result",
          "data": {
            "text/plain": [
              "['R',\n",
              " 'b',\n",
              " 'c',\n",
              " 'p',\n",
              " ' ',\n",
              " 't',\n",
              " 's',\n",
              " ' ',\n",
              " 'b',\n",
              " 'b',\n",
              " 'y',\n",
              " ' ',\n",
              " 'f',\n",
              " 'd',\n",
              " '.',\n",
              " ' ',\n",
              " 'B',\n",
              " 'B',\n",
              " 'Y',\n",
              " ' ',\n",
              " 'F',\n",
              " 'D',\n",
              " '.',\n",
              " ' ']"
            ]
          },
          "metadata": {},
          "execution_count": 95
        }
      ]
    },
    {
      "cell_type": "code",
      "source": [
        "beginsWithHello = re.compile(r'^Hello')\n",
        "beginsWithHello.search('Hello world!')"
      ],
      "metadata": {
        "colab": {
          "base_uri": "https://localhost:8080/"
        },
        "id": "TwfqxuoAo5Px",
        "outputId": "a0ebca66-ac39-4ea6-929f-ab231ecb03f9"
      },
      "execution_count": null,
      "outputs": [
        {
          "output_type": "execute_result",
          "data": {
            "text/plain": [
              "<re.Match object; span=(0, 5), match='Hello'>"
            ]
          },
          "metadata": {},
          "execution_count": 96
        }
      ]
    },
    {
      "cell_type": "code",
      "source": [
        "beginsWithHello.search('He said Hello .')"
      ],
      "metadata": {
        "id": "Kk62VlHkpD7T"
      },
      "execution_count": null,
      "outputs": []
    },
    {
      "cell_type": "code",
      "source": [
        "endsWithNumber = re.compile(r'\\d$') #找出0-9為結尾的字串\n",
        "endsWithNumber. search('Your number is 42')"
      ],
      "metadata": {
        "colab": {
          "base_uri": "https://localhost:8080/"
        },
        "id": "GjcQZs7Xo5a3",
        "outputId": "2a60f5ba-5428-4b49-c00a-d5e019d5c520"
      },
      "execution_count": null,
      "outputs": [
        {
          "output_type": "execute_result",
          "data": {
            "text/plain": [
              "<re.Match object; span=(16, 17), match='2'>"
            ]
          },
          "metadata": {},
          "execution_count": 101
        }
      ]
    },
    {
      "cell_type": "code",
      "source": [
        "endsWithNumber.search('Your number is forty two.') == None"
      ],
      "metadata": {
        "colab": {
          "base_uri": "https://localhost:8080/"
        },
        "id": "EuF-rbrppcLI",
        "outputId": "eaa9ddf5-8802-4844-a793-e8237cf189fc"
      },
      "execution_count": null,
      "outputs": [
        {
          "output_type": "execute_result",
          "data": {
            "text/plain": [
              "True"
            ]
          },
          "metadata": {},
          "execution_count": 102
        }
      ]
    },
    {
      "cell_type": "code",
      "source": [
        "wholeStringIsNum = re.compile(r'^\\d+$') #對比開頭到結尾都是數字0-9之字串\n",
        "wholeStringIsNum.search('1234567890')"
      ],
      "metadata": {
        "colab": {
          "base_uri": "https://localhost:8080/"
        },
        "id": "dPe_Mf9cpaud",
        "outputId": "facb6ace-e7f1-439c-f8aa-535636ead587"
      },
      "execution_count": null,
      "outputs": [
        {
          "output_type": "execute_result",
          "data": {
            "text/plain": [
              "<re.Match object; span=(0, 10), match='1234567890'>"
            ]
          },
          "metadata": {},
          "execution_count": 110
        }
      ]
    },
    {
      "cell_type": "code",
      "source": [
        "wholeStringIsNum.search('12345xyz67890') == None"
      ],
      "metadata": {
        "colab": {
          "base_uri": "https://localhost:8080/"
        },
        "id": "2ggMZvABqVWe",
        "outputId": "e2c2d843-b593-4443-acf5-af5998d0e266"
      },
      "execution_count": null,
      "outputs": [
        {
          "output_type": "execute_result",
          "data": {
            "text/plain": [
              "True"
            ]
          },
          "metadata": {},
          "execution_count": 106
        }
      ]
    },
    {
      "cell_type": "code",
      "source": [
        "wholeStringIsNum.search('12 34567890') == None"
      ],
      "metadata": {
        "colab": {
          "base_uri": "https://localhost:8080/"
        },
        "id": "x0_q24AZqXt7",
        "outputId": "a5633619-2dd0-435b-cc50-8bd26af9abb2"
      },
      "execution_count": null,
      "outputs": [
        {
          "output_type": "execute_result",
          "data": {
            "text/plain": [
              "True"
            ]
          },
          "metadata": {},
          "execution_count": 107
        }
      ]
    },
    {
      "cell_type": "code",
      "source": [
        "namesRegex = re.compile(r'Agent lwt')\n",
        "namesRegex.sub('CENSORED', 'Agent Alice gave the secret documents to Agent Bob.')"
      ],
      "metadata": {
        "colab": {
          "base_uri": "https://localhost:8080/",
          "height": 36
        },
        "id": "u6vuRZpztzMw",
        "outputId": "8f325d28-ae4a-4ddb-812f-b5d0bc01d7e0"
      },
      "execution_count": null,
      "outputs": [
        {
          "output_type": "execute_result",
          "data": {
            "text/plain": [
              "'Agent Alice gave the secret documents to Agent Bob.'"
            ],
            "application/vnd.google.colaboratory.intrinsic+json": {
              "type": "string"
            }
          },
          "metadata": {},
          "execution_count": 111
        }
      ]
    },
    {
      "cell_type": "code",
      "source": [
        "\n",
        "'CENSORED gave the secret documents to CENSORED.'\n",
        "事時可能會需要用到比對找到的文字本身作為取代的一部分,因此在sub(\n",
        "每一個引數中可輸入1·2、3·等等,這個意思是「輸入分組1、2.3..等\n",
        "的文字當作替換取代的文字」。\n",
        "例來說,假設想要刪改隱藏密探的名字,只顯示名字的第一個字母,那就要\n",
        "使用正規表示式 Agentww先到探名字·作第一個引\n",
        "傳入subo中。字內的以分組找到符合的字母當作取代的文字,\n",
        "組1就是正規表示式中的(w)組。\n",
        ">>> agentNamesRegex= re.compile(I'Agent (1w)lw*')\n",
        ">>> agentNamesRegex.sub(I'|1****', ', 'Agent Alice told Agent Carol that Agent Eve knew\n",
        "Agent Bob was a double agent.')"
      ],
      "metadata": {
        "id": "pRcKzKeXtzSw"
      },
      "execution_count": null,
      "outputs": []
    },
    {
      "cell_type": "code",
      "source": [
        "import re\n",
        "phoneRegex = re.compile(r'''(\n",
        "  (\\d{3}|\\(\\d{3}\\))?  #area code\n",
        "  (\\s|-|\\.)? #separator\n",
        "  \\d{3} # first3 digits\n",
        "  (\\s|-|\\.) # separator\n",
        "  \\d{4} # last 4 digits\n",
        "  (\\s*(ext|x|ext.)\\s*\\d{2,5})? #extension\n",
        "  )''',re.VERBOSE)"
      ],
      "metadata": {
        "id": "KY_Rqg9OtzYM"
      },
      "execution_count": null,
      "outputs": []
    }
  ]
}