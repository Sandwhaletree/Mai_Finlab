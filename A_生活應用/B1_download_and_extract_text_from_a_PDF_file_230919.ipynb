{
  "nbformat": 4,
  "nbformat_minor": 0,
  "metadata": {
    "colab": {
      "provenance": [],
      "mount_file_id": "1cqhQsdYISFnFrcElDae3SBkej2krCvPy",
      "authorship_tag": "ABX9TyNB4ihRdSuX7WyRUsJC9Voz",
      "include_colab_link": true
    },
    "kernelspec": {
      "name": "python3",
      "display_name": "Python 3"
    },
    "language_info": {
      "name": "python"
    }
  },
  "cells": [
    {
      "cell_type": "markdown",
      "metadata": {
        "id": "view-in-github",
        "colab_type": "text"
      },
      "source": [
        "<a href=\"https://colab.research.google.com/github/Sandwhaletree/Mai_Finlab/blob/main/A_%E7%94%9F%E6%B4%BB%E6%87%89%E7%94%A8/B1_download_and_extract_text_from_a_PDF_file_230919.ipynb\" target=\"_parent\"><img src=\"https://colab.research.google.com/assets/colab-badge.svg\" alt=\"Open In Colab\"/></a>"
      ]
    },
    {
      "cell_type": "code",
      "execution_count": null,
      "metadata": {
        "id": "92n5cvKpG2P1"
      },
      "outputs": [],
      "source": [
        "import os\n",
        "os.chdir('/content/drive/MyDrive/colab_cloud/finlab')"
      ]
    },
    {
      "cell_type": "markdown",
      "source": [
        "## 👉 1.取得pdf檔之表格\n",
        "* 參考網址\n",
        "  * [Using ChatGPT AI to write Python code to download and extract text from a PDF file](https://www.youtube.com/watch?v=DoyRTMlVFTU)"
      ],
      "metadata": {
        "id": "GXgKR8mmvcDG"
      }
    },
    {
      "cell_type": "code",
      "source": [
        "%pip install PyPDF2"
      ],
      "metadata": {
        "colab": {
          "base_uri": "https://localhost:8080/"
        },
        "id": "gPBya30Nr0Xu",
        "outputId": "eb7ab922-3c54-43cd-d8c8-aca9e6a23895"
      },
      "execution_count": null,
      "outputs": [
        {
          "output_type": "stream",
          "name": "stdout",
          "text": [
            "Looking in indexes: https://pypi.org/simple, https://us-python.pkg.dev/colab-wheels/public/simple/\n",
            "Collecting PyPDF2\n",
            "  Downloading pypdf2-2.12.1-py3-none-any.whl (222 kB)\n",
            "\u001b[K     |████████████████████████████████| 222 kB 9.2 MB/s \n",
            "\u001b[?25hRequirement already satisfied: typing_extensions>=3.10.0.0 in /usr/local/lib/python3.8/dist-packages (from PyPDF2) (4.4.0)\n",
            "Installing collected packages: PyPDF2\n",
            "Successfully installed PyPDF2-2.12.1\n"
          ]
        }
      ]
    },
    {
      "cell_type": "code",
      "source": [
        "import requests\n",
        "import io\n",
        "import PyPDF2\n",
        "import pandas as pd\n",
        "import openpyxl"
      ],
      "metadata": {
        "id": "2myBgT1ApYfo"
      },
      "execution_count": null,
      "outputs": []
    },
    {
      "cell_type": "code",
      "source": [
        "# 設定下載PDF檔案的網址 #財報合併報表-勝一\n",
        "url = 'https://doc.twse.com.tw/pdf/202203_1773_AI1_20221217_183229.pdf'"
      ],
      "metadata": {
        "id": "GW3oQPXqrye8"
      },
      "execution_count": null,
      "outputs": []
    },
    {
      "cell_type": "code",
      "source": [
        "# 使用requests庫下載PDF檔案\n",
        "response = requests.get(url)"
      ],
      "metadata": {
        "id": "h2gMgZOlryns"
      },
      "execution_count": null,
      "outputs": []
    },
    {
      "cell_type": "code",
      "source": [
        "# 將PDF檔案轉成一個字元串\n",
        "pdf_data = response.content"
      ],
      "metadata": {
        "id": "xfjWb0TmryxO"
      },
      "execution_count": null,
      "outputs": []
    },
    {
      "cell_type": "code",
      "source": [
        "# 將字元串轉成一個PDF文件物件\n",
        "pdf_file = io.BytesIO(pdf_data)\n",
        "\n",
        "# 使用PyPDF2庫讀取PDF文件\n",
        "pdf_reader = PyPDF2.PdfFileReader(pdf_file)"
      ],
      "metadata": {
        "id": "0SQu4CbHsMJC"
      },
      "execution_count": null,
      "outputs": []
    },
    {
      "cell_type": "code",
      "source": [
        "# 讀取特定頁數的資料\n",
        "page_5 = pdf_reader.getPage(4) # 第5頁的索引為4\n",
        "page_6 = pdf_reader.getPage(5) # 第6頁的索引為5\n",
        "page_7 = pdf_reader.getPage(6) # 第7頁的索引為6\n",
        "page_8 = pdf_reader.getPage(7) # 第8頁的索引為7"
      ],
      "metadata": {
        "id": "UqWmke5lsOe-"
      },
      "execution_count": null,
      "outputs": []
    },
    {
      "cell_type": "code",
      "source": [
        "# 將資料轉成文字\n",
        "text_5 = page_5.extractText()\n",
        "text_6 = page_6.extractText()\n",
        "text_7 = page_7.extractText()\n",
        "text_8 = page_8.extractText()"
      ],
      "metadata": {
        "id": "P2C9ZYeRsQDi"
      },
      "execution_count": null,
      "outputs": []
    },
    {
      "cell_type": "code",
      "source": [
        "# 將文字轉成資料表\n",
        "df_5 = pd.read_fwf(io.StringIO(text_5))\n",
        "df_6 = pd.read_fwf(io.StringIO(text_6))\n",
        "df_7 = pd.read_fwf(io.StringIO(text_7))\n",
        "df_8 = pd.read_fwf(io.StringIO(text_8))"
      ],
      "metadata": {
        "id": "QSY5IOq8sRv_"
      },
      "execution_count": null,
      "outputs": []
    },
    {
      "cell_type": "code",
      "source": [
        "df_5"
      ],
      "metadata": {
        "colab": {
          "base_uri": "https://localhost:8080/",
          "height": 971
        },
        "id": "82EPnGyYvRHw",
        "outputId": "66ddd0ef-d737-462b-9641-60e59af24d9e"
      },
      "execution_count": null,
      "outputs": [
        {
          "output_type": "execute_result",
          "data": {
            "text/plain": [
              "                                －  － 4 勝一化工股份有限公司及子公司  Unnamed: 1\n",
              "0                                             合併資產負債表         NaN\n",
              "1                    民國111年9月30日、110年12月31日及110年9月30日         NaN\n",
              "2     (民國111年及110年9月30日僅經核閱，未依 一般公認審計準則查核 )  單位：新台幣仟元         NaN\n",
              "3                      111年9月30日 110年12月31日 110年9月30日         NaN\n",
              "4                        代碼 資  產 金  額 ％ 金  額 ％ 金  額 ％         NaN\n",
              "5                                                流動資產         NaN\n",
              "6   1100   現金及約當現金 (附註六(一))  $  444,514   3   $  3...         3.0\n",
              "7   1150   應收票據淨額 (附註六(二))  28,185    -  30,040   ...         NaN\n",
              "8   1170   應收帳款淨額 (附註六(三))  1,477,829   12  1,635,...         NaN\n",
              "9   1200   其他應收款  39,608    -  35,219    -  42,374...         NaN\n",
              "10  1220   本期所得稅資產   6,344    -  4,219    -  3,089...         NaN\n",
              "11  130x   存貨(附註六(四))  1,624,741   13  1,454,097  ...         NaN\n",
              "12  1410   預付款項 (附註六(五))  146,780    1  204,551   ...         NaN\n",
              "13  1476   其他金融資產 -流動(附註八)  55,598    -  58,598   ...         NaN\n",
              "14  11xx     流動資產合計   3,823,599   30  3,723,808   ...         NaN\n",
              "15                                              非流動資產         NaN\n",
              "16                             1517   透過其他綜合損益按公允價值衡量         NaN\n",
              "17  之金融資產 -非流動(附註六(六))  211,621    2  204,982    2...         NaN\n",
              "18  1550   採用權益法之投資 (附註六(七))  1,036,890    8  931,...         NaN\n",
              "19  1600   不動產、廠房及設備 (附註六(八))  7,205,052   57  5,6...         NaN\n",
              "20  1755   使用權資產 (附註六(九))  196,352    2  203,999  ...         NaN\n",
              "21  1760   投資性不動產淨額 (附註六(十))  122,926    1  125,96...         NaN\n",
              "22  1780   無形資產 (附註六(十一))  8,316    -  6,575    - ...         NaN\n",
              "23  1840   遞延所得稅資產   103,204    1  78,743    1  77...         NaN\n",
              "24  1920   存出保證金   43,092    -  42,743    -  60,59...         NaN\n",
              "25  15xx     非流動資產合計   8,927,453   70  7,215,605  ...         NaN\n",
              "26  1xxx  資產總計   $  12,751,052  100   $  10,939,41...         NaN\n",
              "27                                              (接次頁)         NaN"
            ],
            "text/html": [
              "\n",
              "  <div id=\"df-360fa23b-796c-437f-a913-be0b110653f2\">\n",
              "    <div class=\"colab-df-container\">\n",
              "      <div>\n",
              "<style scoped>\n",
              "    .dataframe tbody tr th:only-of-type {\n",
              "        vertical-align: middle;\n",
              "    }\n",
              "\n",
              "    .dataframe tbody tr th {\n",
              "        vertical-align: top;\n",
              "    }\n",
              "\n",
              "    .dataframe thead th {\n",
              "        text-align: right;\n",
              "    }\n",
              "</style>\n",
              "<table border=\"1\" class=\"dataframe\">\n",
              "  <thead>\n",
              "    <tr style=\"text-align: right;\">\n",
              "      <th></th>\n",
              "      <th>－  － 4 勝一化工股份有限公司及子公司</th>\n",
              "      <th>Unnamed: 1</th>\n",
              "    </tr>\n",
              "  </thead>\n",
              "  <tbody>\n",
              "    <tr>\n",
              "      <th>0</th>\n",
              "      <td>合併資產負債表</td>\n",
              "      <td>NaN</td>\n",
              "    </tr>\n",
              "    <tr>\n",
              "      <th>1</th>\n",
              "      <td>民國111年9月30日、110年12月31日及110年9月30日</td>\n",
              "      <td>NaN</td>\n",
              "    </tr>\n",
              "    <tr>\n",
              "      <th>2</th>\n",
              "      <td>(民國111年及110年9月30日僅經核閱，未依 一般公認審計準則查核 )  單位：新台幣仟元</td>\n",
              "      <td>NaN</td>\n",
              "    </tr>\n",
              "    <tr>\n",
              "      <th>3</th>\n",
              "      <td>111年9月30日 110年12月31日 110年9月30日</td>\n",
              "      <td>NaN</td>\n",
              "    </tr>\n",
              "    <tr>\n",
              "      <th>4</th>\n",
              "      <td>代碼 資  產 金  額 ％ 金  額 ％ 金  額 ％</td>\n",
              "      <td>NaN</td>\n",
              "    </tr>\n",
              "    <tr>\n",
              "      <th>5</th>\n",
              "      <td>流動資產</td>\n",
              "      <td>NaN</td>\n",
              "    </tr>\n",
              "    <tr>\n",
              "      <th>6</th>\n",
              "      <td>1100   現金及約當現金 (附註六(一))  $  444,514   3   $  3...</td>\n",
              "      <td>3.0</td>\n",
              "    </tr>\n",
              "    <tr>\n",
              "      <th>7</th>\n",
              "      <td>1150   應收票據淨額 (附註六(二))  28,185    -  30,040   ...</td>\n",
              "      <td>NaN</td>\n",
              "    </tr>\n",
              "    <tr>\n",
              "      <th>8</th>\n",
              "      <td>1170   應收帳款淨額 (附註六(三))  1,477,829   12  1,635,...</td>\n",
              "      <td>NaN</td>\n",
              "    </tr>\n",
              "    <tr>\n",
              "      <th>9</th>\n",
              "      <td>1200   其他應收款  39,608    -  35,219    -  42,374...</td>\n",
              "      <td>NaN</td>\n",
              "    </tr>\n",
              "    <tr>\n",
              "      <th>10</th>\n",
              "      <td>1220   本期所得稅資產   6,344    -  4,219    -  3,089...</td>\n",
              "      <td>NaN</td>\n",
              "    </tr>\n",
              "    <tr>\n",
              "      <th>11</th>\n",
              "      <td>130x   存貨(附註六(四))  1,624,741   13  1,454,097  ...</td>\n",
              "      <td>NaN</td>\n",
              "    </tr>\n",
              "    <tr>\n",
              "      <th>12</th>\n",
              "      <td>1410   預付款項 (附註六(五))  146,780    1  204,551   ...</td>\n",
              "      <td>NaN</td>\n",
              "    </tr>\n",
              "    <tr>\n",
              "      <th>13</th>\n",
              "      <td>1476   其他金融資產 -流動(附註八)  55,598    -  58,598   ...</td>\n",
              "      <td>NaN</td>\n",
              "    </tr>\n",
              "    <tr>\n",
              "      <th>14</th>\n",
              "      <td>11xx     流動資產合計   3,823,599   30  3,723,808   ...</td>\n",
              "      <td>NaN</td>\n",
              "    </tr>\n",
              "    <tr>\n",
              "      <th>15</th>\n",
              "      <td>非流動資產</td>\n",
              "      <td>NaN</td>\n",
              "    </tr>\n",
              "    <tr>\n",
              "      <th>16</th>\n",
              "      <td>1517   透過其他綜合損益按公允價值衡量</td>\n",
              "      <td>NaN</td>\n",
              "    </tr>\n",
              "    <tr>\n",
              "      <th>17</th>\n",
              "      <td>之金融資產 -非流動(附註六(六))  211,621    2  204,982    2...</td>\n",
              "      <td>NaN</td>\n",
              "    </tr>\n",
              "    <tr>\n",
              "      <th>18</th>\n",
              "      <td>1550   採用權益法之投資 (附註六(七))  1,036,890    8  931,...</td>\n",
              "      <td>NaN</td>\n",
              "    </tr>\n",
              "    <tr>\n",
              "      <th>19</th>\n",
              "      <td>1600   不動產、廠房及設備 (附註六(八))  7,205,052   57  5,6...</td>\n",
              "      <td>NaN</td>\n",
              "    </tr>\n",
              "    <tr>\n",
              "      <th>20</th>\n",
              "      <td>1755   使用權資產 (附註六(九))  196,352    2  203,999  ...</td>\n",
              "      <td>NaN</td>\n",
              "    </tr>\n",
              "    <tr>\n",
              "      <th>21</th>\n",
              "      <td>1760   投資性不動產淨額 (附註六(十))  122,926    1  125,96...</td>\n",
              "      <td>NaN</td>\n",
              "    </tr>\n",
              "    <tr>\n",
              "      <th>22</th>\n",
              "      <td>1780   無形資產 (附註六(十一))  8,316    -  6,575    - ...</td>\n",
              "      <td>NaN</td>\n",
              "    </tr>\n",
              "    <tr>\n",
              "      <th>23</th>\n",
              "      <td>1840   遞延所得稅資產   103,204    1  78,743    1  77...</td>\n",
              "      <td>NaN</td>\n",
              "    </tr>\n",
              "    <tr>\n",
              "      <th>24</th>\n",
              "      <td>1920   存出保證金   43,092    -  42,743    -  60,59...</td>\n",
              "      <td>NaN</td>\n",
              "    </tr>\n",
              "    <tr>\n",
              "      <th>25</th>\n",
              "      <td>15xx     非流動資產合計   8,927,453   70  7,215,605  ...</td>\n",
              "      <td>NaN</td>\n",
              "    </tr>\n",
              "    <tr>\n",
              "      <th>26</th>\n",
              "      <td>1xxx  資產總計   $  12,751,052  100   $  10,939,41...</td>\n",
              "      <td>NaN</td>\n",
              "    </tr>\n",
              "    <tr>\n",
              "      <th>27</th>\n",
              "      <td>(接次頁)</td>\n",
              "      <td>NaN</td>\n",
              "    </tr>\n",
              "  </tbody>\n",
              "</table>\n",
              "</div>\n",
              "      <button class=\"colab-df-convert\" onclick=\"convertToInteractive('df-360fa23b-796c-437f-a913-be0b110653f2')\"\n",
              "              title=\"Convert this dataframe to an interactive table.\"\n",
              "              style=\"display:none;\">\n",
              "        \n",
              "  <svg xmlns=\"http://www.w3.org/2000/svg\" height=\"24px\"viewBox=\"0 0 24 24\"\n",
              "       width=\"24px\">\n",
              "    <path d=\"M0 0h24v24H0V0z\" fill=\"none\"/>\n",
              "    <path d=\"M18.56 5.44l.94 2.06.94-2.06 2.06-.94-2.06-.94-.94-2.06-.94 2.06-2.06.94zm-11 1L8.5 8.5l.94-2.06 2.06-.94-2.06-.94L8.5 2.5l-.94 2.06-2.06.94zm10 10l.94 2.06.94-2.06 2.06-.94-2.06-.94-.94-2.06-.94 2.06-2.06.94z\"/><path d=\"M17.41 7.96l-1.37-1.37c-.4-.4-.92-.59-1.43-.59-.52 0-1.04.2-1.43.59L10.3 9.45l-7.72 7.72c-.78.78-.78 2.05 0 2.83L4 21.41c.39.39.9.59 1.41.59.51 0 1.02-.2 1.41-.59l7.78-7.78 2.81-2.81c.8-.78.8-2.07 0-2.86zM5.41 20L4 18.59l7.72-7.72 1.47 1.35L5.41 20z\"/>\n",
              "  </svg>\n",
              "      </button>\n",
              "      \n",
              "  <style>\n",
              "    .colab-df-container {\n",
              "      display:flex;\n",
              "      flex-wrap:wrap;\n",
              "      gap: 12px;\n",
              "    }\n",
              "\n",
              "    .colab-df-convert {\n",
              "      background-color: #E8F0FE;\n",
              "      border: none;\n",
              "      border-radius: 50%;\n",
              "      cursor: pointer;\n",
              "      display: none;\n",
              "      fill: #1967D2;\n",
              "      height: 32px;\n",
              "      padding: 0 0 0 0;\n",
              "      width: 32px;\n",
              "    }\n",
              "\n",
              "    .colab-df-convert:hover {\n",
              "      background-color: #E2EBFA;\n",
              "      box-shadow: 0px 1px 2px rgba(60, 64, 67, 0.3), 0px 1px 3px 1px rgba(60, 64, 67, 0.15);\n",
              "      fill: #174EA6;\n",
              "    }\n",
              "\n",
              "    [theme=dark] .colab-df-convert {\n",
              "      background-color: #3B4455;\n",
              "      fill: #D2E3FC;\n",
              "    }\n",
              "\n",
              "    [theme=dark] .colab-df-convert:hover {\n",
              "      background-color: #434B5C;\n",
              "      box-shadow: 0px 1px 3px 1px rgba(0, 0, 0, 0.15);\n",
              "      filter: drop-shadow(0px 1px 2px rgba(0, 0, 0, 0.3));\n",
              "      fill: #FFFFFF;\n",
              "    }\n",
              "  </style>\n",
              "\n",
              "      <script>\n",
              "        const buttonEl =\n",
              "          document.querySelector('#df-360fa23b-796c-437f-a913-be0b110653f2 button.colab-df-convert');\n",
              "        buttonEl.style.display =\n",
              "          google.colab.kernel.accessAllowed ? 'block' : 'none';\n",
              "\n",
              "        async function convertToInteractive(key) {\n",
              "          const element = document.querySelector('#df-360fa23b-796c-437f-a913-be0b110653f2');\n",
              "          const dataTable =\n",
              "            await google.colab.kernel.invokeFunction('convertToInteractive',\n",
              "                                                     [key], {});\n",
              "          if (!dataTable) return;\n",
              "\n",
              "          const docLinkHtml = 'Like what you see? Visit the ' +\n",
              "            '<a target=\"_blank\" href=https://colab.research.google.com/notebooks/data_table.ipynb>data table notebook</a>'\n",
              "            + ' to learn more about interactive tables.';\n",
              "          element.innerHTML = '';\n",
              "          dataTable['output_type'] = 'display_data';\n",
              "          await google.colab.output.renderOutput(dataTable, element);\n",
              "          const docLink = document.createElement('div');\n",
              "          docLink.innerHTML = docLinkHtml;\n",
              "          element.appendChild(docLink);\n",
              "        }\n",
              "      </script>\n",
              "    </div>\n",
              "  </div>\n",
              "  "
            ]
          },
          "metadata": {},
          "execution_count": 22
        }
      ]
    },
    {
      "cell_type": "code",
      "source": [
        "%pip install PyPDF2"
      ],
      "metadata": {
        "colab": {
          "base_uri": "https://localhost:8080/"
        },
        "id": "40fh0DadtiB3",
        "outputId": "91a82786-66cf-4731-a523-9ecedfaa68cb"
      },
      "execution_count": null,
      "outputs": [
        {
          "output_type": "stream",
          "name": "stdout",
          "text": [
            "Looking in indexes: https://pypi.org/simple, https://us-python.pkg.dev/colab-wheels/public/simple/\n",
            "Requirement already satisfied: PypDF2 in /usr/local/lib/python3.8/dist-packages (2.12.1)\n",
            "Requirement already satisfied: typing_extensions>=3.10.0.0 in /usr/local/lib/python3.8/dist-packages (from PypDF2) (4.4.0)\n"
          ]
        }
      ]
    },
    {
      "cell_type": "code",
      "source": [
        "import io\n",
        "import requests\n",
        "from PyPDF2 import PdfFileReader"
      ],
      "metadata": {
        "id": "helUe1jNtfiP"
      },
      "execution_count": null,
      "outputs": []
    },
    {
      "cell_type": "code",
      "source": [
        "def extract_text_from_paf(url, page_number):\n",
        "  # download the POF fiie\n",
        "  response = requests.get(url)\n",
        "  # convert the bytes object to a file-like object\n",
        "  paf_file = io.BytesIO(response.content)\n",
        "  # open the PDF file using PyPDF2\n",
        "  paf_reader = PdfFileReader (pdf_file)\n",
        "  # extract the text from the specified page\n",
        "  page = paf_reader.getPage(page_number)\n",
        "  text = page.extractText()\n",
        "  # return the extracted text\n",
        "  return text"
      ],
      "metadata": {
        "id": "HzP3c3lQsat8"
      },
      "execution_count": null,
      "outputs": []
    },
    {
      "cell_type": "code",
      "source": [
        "# specify the URL of the PDF file you want to download\n",
        "url= 'https://doc.twse.com.tw/pdf/202203_1773_AI1_20221217_183229.pdf'\n",
        "# specify the page number you want to extract text from\n",
        "page_number = 5\n",
        "# extract the text from the specified page\n",
        "text = extract_text_from_paf(url, page_number)\n",
        "# print the extracted text\n",
        "print(text)"
      ],
      "metadata": {
        "colab": {
          "base_uri": "https://localhost:8080/"
        },
        "id": "HrDYz6j0uRSF",
        "outputId": "26d3565f-421b-4ed6-9561-a0764f5e35b2"
      },
      "execution_count": null,
      "outputs": [
        {
          "output_type": "stream",
          "name": "stdout",
          "text": [
            "－  － 4-1 (承前頁) \n",
            "111年9月30日 110年12月31日 110年9月30日 \n",
            "代碼 負 債 及 權 益 金  額 ％ 金  額 ％ 金  額 ％ \n",
            " 流動負債  \n",
            "2100   短期借款 (附註六(十二))  $  543,000   4   $  482,000    4   $  423,000    4 \n",
            "2130   合約負債 -流動  6,495    -  22,087    -  27,691    - \n",
            "2150   應付票據   25,931    -  28,179    -  15,962    - \n",
            "2170   應付帳款   267,059    2  582,041    6  524,958    5 \n",
            "2200   其他應付款 (附註六(十三))  901,855    7  827,827    8  673,106    8 \n",
            "2230   本期所得稅負債   377,784    3  382,982    4  284,405    3 \n",
            "2250   負債準備 -流動(附註六(十四))  40,737    -  47,000    -  27,139    - \n",
            "2280   租賃負債－流動 (附註六(九))  3,693    -  3,659    -  4,005    - \n",
            "2320   一年或一營業週期內到期長期負債\n",
            "(附註六(十五))  329,778    3  419,978    4  467,200    5 \n",
            "2399   其他流動負債 -其他  554    -  950    -  950    - \n",
            "21xx     流動負債合計   2,496,886   20  2,796,703   26  2,448,416   25 \n",
            " 非流動負債  \n",
            "2540   長期借款 (附註六(十五))  2,315,774   18  1,097,202   10  969,760    9 \n",
            "2570   遞延所得稅負債   82,697    1  68,317    1  73,377    1 \n",
            "2580   租賃負債－非流動 (附註六(九))  151,230    1  154,118    1  154,930    2 \n",
            "2640   淨確定福利負債 -非流動(附註六(十\n",
            "六))  23,615    -  30,977    -  30,812    - \n",
            "2645   存入保證金   8,355    -  8,319    -  8,319    - \n",
            "2670   其他非流動負債 -其他  -    -  316    -  554    - \n",
            "25xx     非流動負債合計   2,581,671   20  1,359,249   12  1,237,752   12 \n",
            "2xxx  負債總計   5,078,557   40  4,155,952   38  3,686,168   37 \n",
            " 權益 \n",
            " 歸屬於母公司業主之權益  \n",
            "3100   股本(附註六(十七)) \n",
            "3110    普通股股本   2,500,000   20  2,000,000   19  2,000,000   20 \n",
            "3200   資本公積 (附註六(十八))  103,724    1  103,724    1  103,724    1 \n",
            "3300   保留盈餘 (附註六(十九)) \n",
            "3310    法定盈餘公積   1,385,717   11  1,224,084   11  1,224,084   12 \n",
            "3320    特別盈餘公積   77,010    1  107,171    1  107,171    1 \n",
            "3350    未分配盈餘   3,635,634   29  3,425,493   31  3,011,944   30 \n",
            "3400   其他權益 (附註六(二十))  (29,590)      -  (77,011)     (1)  (86,056)     (1) \n",
            "31xx     歸屬於母公司業主之權益合計   7,672,495   60  6,783,461   62  6,360,867   63 \n",
            "36xx  非控制權益   -    -  -    -  -    - \n",
            "3xxx  權益總計   7,672,495   60  6,783,461   62  6,360,867   63 \n",
            " 負債及權益總計   $  12,751,052  100   $  10,939,413  100  $  10,047,035  100 \n",
            "(請參閱合併財務報告附註 ) \n",
            "董事長：孫靜源   經理人：孫靜源   會計主管：黃有慶  \n"
          ]
        }
      ]
    }
  ]
}