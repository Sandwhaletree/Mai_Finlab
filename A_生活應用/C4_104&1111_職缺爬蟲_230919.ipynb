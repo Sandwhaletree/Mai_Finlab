{
  "nbformat": 4,
  "nbformat_minor": 0,
  "metadata": {
    "colab": {
      "provenance": [],
      "mount_file_id": "1dT5jOhUYA_RURXs2RaRW5hQK94mHWmEA",
      "authorship_tag": "ABX9TyOSUetfar+p1zEHW00tKUUS",
      "include_colab_link": true
    },
    "kernelspec": {
      "name": "python3",
      "display_name": "Python 3"
    },
    "language_info": {
      "name": "python"
    }
  },
  "cells": [
    {
      "cell_type": "markdown",
      "metadata": {
        "id": "view-in-github",
        "colab_type": "text"
      },
      "source": [
        "<a href=\"https://colab.research.google.com/github/Sandwhaletree/Mai_Finlab/blob/main/A_%E7%94%9F%E6%B4%BB%E6%87%89%E7%94%A8/C4_104%261111_%E8%81%B7%E7%BC%BA%E7%88%AC%E8%9F%B2_230919.ipynb\" target=\"_parent\"><img src=\"https://colab.research.google.com/assets/colab-badge.svg\" alt=\"Open In Colab\"/></a>"
      ]
    },
    {
      "cell_type": "markdown",
      "source": [
        "# **🔥🔥🔥 104&1111求職爬蟲**"
      ],
      "metadata": {
        "id": "dlLjUC4odYdY"
      }
    },
    {
      "cell_type": "code",
      "execution_count": null,
      "metadata": {
        "colab": {
          "base_uri": "https://localhost:8080/"
        },
        "id": "4WLDEmKet_Vq",
        "outputId": "6e15d646-89eb-4f08-fcfc-65a84ea0fad2"
      },
      "outputs": [
        {
          "output_type": "stream",
          "name": "stdout",
          "text": [
            "Looking in indexes: https://pypi.org/simple, https://us-python.pkg.dev/colab-wheels/public/simple/\n",
            "Collecting selenium\n",
            "  Downloading selenium-4.6.1-py3-none-any.whl (6.0 MB)\n",
            "\u001b[K     |████████████████████████████████| 6.0 MB 9.0 MB/s \n",
            "\u001b[?25hCollecting urllib3[socks]~=1.26\n",
            "  Downloading urllib3-1.26.13-py2.py3-none-any.whl (140 kB)\n",
            "\u001b[K     |████████████████████████████████| 140 kB 49.5 MB/s \n",
            "\u001b[?25hRequirement already satisfied: certifi>=2021.10.8 in /usr/local/lib/python3.7/dist-packages (from selenium) (2022.9.24)\n",
            "Collecting trio-websocket~=0.9\n",
            "  Downloading trio_websocket-0.9.2-py3-none-any.whl (16 kB)\n",
            "Collecting trio~=0.17\n",
            "  Downloading trio-0.22.0-py3-none-any.whl (384 kB)\n",
            "\u001b[K     |████████████████████████████████| 384 kB 50.5 MB/s \n",
            "\u001b[?25hRequirement already satisfied: sortedcontainers in /usr/local/lib/python3.7/dist-packages (from trio~=0.17->selenium) (2.4.0)\n",
            "Collecting async-generator>=1.9\n",
            "  Downloading async_generator-1.10-py3-none-any.whl (18 kB)\n",
            "Collecting exceptiongroup>=1.0.0rc9\n",
            "  Downloading exceptiongroup-1.0.4-py3-none-any.whl (14 kB)\n",
            "Requirement already satisfied: attrs>=19.2.0 in /usr/local/lib/python3.7/dist-packages (from trio~=0.17->selenium) (22.1.0)\n",
            "Collecting outcome\n",
            "  Downloading outcome-1.2.0-py2.py3-none-any.whl (9.7 kB)\n",
            "Requirement already satisfied: idna in /usr/local/lib/python3.7/dist-packages (from trio~=0.17->selenium) (2.10)\n",
            "Collecting sniffio\n",
            "  Downloading sniffio-1.3.0-py3-none-any.whl (10 kB)\n",
            "Collecting wsproto>=0.14\n",
            "  Downloading wsproto-1.2.0-py3-none-any.whl (24 kB)\n",
            "Requirement already satisfied: PySocks!=1.5.7,<2.0,>=1.5.6 in /usr/local/lib/python3.7/dist-packages (from urllib3[socks]~=1.26->selenium) (1.7.1)\n",
            "Collecting h11<1,>=0.9.0\n",
            "  Downloading h11-0.14.0-py3-none-any.whl (58 kB)\n",
            "\u001b[K     |████████████████████████████████| 58 kB 6.6 MB/s \n",
            "\u001b[?25hRequirement already satisfied: typing-extensions in /usr/local/lib/python3.7/dist-packages (from h11<1,>=0.9.0->wsproto>=0.14->trio-websocket~=0.9->selenium) (4.1.1)\n",
            "Installing collected packages: sniffio, outcome, h11, exceptiongroup, async-generator, wsproto, urllib3, trio, trio-websocket, selenium\n",
            "  Attempting uninstall: urllib3\n",
            "    Found existing installation: urllib3 1.24.3\n",
            "    Uninstalling urllib3-1.24.3:\n",
            "      Successfully uninstalled urllib3-1.24.3\n",
            "\u001b[31mERROR: pip's dependency resolver does not currently take into account all the packages that are installed. This behaviour is the source of the following dependency conflicts.\n",
            "requests 2.23.0 requires urllib3!=1.25.0,!=1.25.1,<1.26,>=1.21.1, but you have urllib3 1.26.13 which is incompatible.\u001b[0m\n",
            "Successfully installed async-generator-1.10 exceptiongroup-1.0.4 h11-0.14.0 outcome-1.2.0 selenium-4.6.1 sniffio-1.3.0 trio-0.22.0 trio-websocket-0.9.2 urllib3-1.26.13 wsproto-1.2.0\n",
            "Get:1 https://cloud.r-project.org/bin/linux/ubuntu bionic-cran40/ InRelease [3,626 B]\n",
            "Ign:2 https://developer.download.nvidia.com/compute/machine-learning/repos/ubuntu1804/x86_64  InRelease\n",
            "Get:3 https://developer.download.nvidia.com/compute/cuda/repos/ubuntu1804/x86_64  InRelease [1,581 B]\n",
            "Hit:4 https://developer.download.nvidia.com/compute/machine-learning/repos/ubuntu1804/x86_64  Release\n",
            "Hit:5 http://archive.ubuntu.com/ubuntu bionic InRelease\n",
            "Get:6 http://security.ubuntu.com/ubuntu bionic-security InRelease [88.7 kB]\n",
            "Get:7 http://archive.ubuntu.com/ubuntu bionic-updates InRelease [88.7 kB]\n",
            "Hit:8 http://ppa.launchpad.net/c2d4u.team/c2d4u4.0+/ubuntu bionic InRelease\n",
            "Get:9 https://developer.download.nvidia.com/compute/cuda/repos/ubuntu1804/x86_64  Packages [1,038 kB]\n",
            "Get:10 http://archive.ubuntu.com/ubuntu bionic-backports InRelease [83.3 kB]\n",
            "Hit:11 http://ppa.launchpad.net/cran/libgit2/ubuntu bionic InRelease\n",
            "Hit:13 http://ppa.launchpad.net/deadsnakes/ppa/ubuntu bionic InRelease\n",
            "Hit:14 http://ppa.launchpad.net/graphics-drivers/ppa/ubuntu bionic InRelease\n",
            "Get:15 http://security.ubuntu.com/ubuntu bionic-security/universe amd64 Packages [1,563 kB]\n",
            "Get:16 http://archive.ubuntu.com/ubuntu bionic-updates/universe amd64 Packages [2,338 kB]\n",
            "Get:17 http://security.ubuntu.com/ubuntu bionic-security/main amd64 Packages [3,068 kB]\n",
            "Get:18 http://archive.ubuntu.com/ubuntu bionic-updates/main amd64 Packages [3,496 kB]\n",
            "Get:19 http://archive.ubuntu.com/ubuntu bionic-updates/restricted amd64 Packages [1,303 kB]\n",
            "Fetched 13.1 MB in 3s (4,014 kB/s)\n",
            "Reading package lists... Done\n",
            "Reading package lists... Done\n",
            "Building dependency tree       \n",
            "Reading state information... Done\n",
            "The following package was automatically installed and is no longer required:\n",
            "  libnvidia-common-460\n",
            "Use 'apt autoremove' to remove it.\n",
            "The following additional packages will be installed:\n",
            "  chromium-browser chromium-browser-l10n chromium-codecs-ffmpeg-extra\n",
            "Suggested packages:\n",
            "  webaccounts-chromium-extension unity-chromium-extension\n",
            "The following NEW packages will be installed:\n",
            "  chromium-browser chromium-browser-l10n chromium-chromedriver\n",
            "  chromium-codecs-ffmpeg-extra\n",
            "0 upgraded, 4 newly installed, 0 to remove and 11 not upgraded.\n",
            "Need to get 95.1 MB of archives.\n",
            "After this operation, 319 MB of additional disk space will be used.\n",
            "Get:1 http://archive.ubuntu.com/ubuntu bionic-updates/universe amd64 chromium-codecs-ffmpeg-extra amd64 107.0.5304.87-0ubuntu11.18.04.1 [1,158 kB]\n",
            "Get:2 http://archive.ubuntu.com/ubuntu bionic-updates/universe amd64 chromium-browser amd64 107.0.5304.87-0ubuntu11.18.04.1 [83.1 MB]\n",
            "Get:3 http://archive.ubuntu.com/ubuntu bionic-updates/universe amd64 chromium-browser-l10n all 107.0.5304.87-0ubuntu11.18.04.1 [5,260 kB]\n",
            "Get:4 http://archive.ubuntu.com/ubuntu bionic-updates/universe amd64 chromium-chromedriver amd64 107.0.5304.87-0ubuntu11.18.04.1 [5,570 kB]\n",
            "Fetched 95.1 MB in 3s (29.4 MB/s)\n",
            "Selecting previously unselected package chromium-codecs-ffmpeg-extra.\n",
            "(Reading database ... 123991 files and directories currently installed.)\n",
            "Preparing to unpack .../chromium-codecs-ffmpeg-extra_107.0.5304.87-0ubuntu11.18.04.1_amd64.deb ...\n",
            "Unpacking chromium-codecs-ffmpeg-extra (107.0.5304.87-0ubuntu11.18.04.1) ...\n",
            "Selecting previously unselected package chromium-browser.\n",
            "Preparing to unpack .../chromium-browser_107.0.5304.87-0ubuntu11.18.04.1_amd64.deb ...\n",
            "Unpacking chromium-browser (107.0.5304.87-0ubuntu11.18.04.1) ...\n",
            "Selecting previously unselected package chromium-browser-l10n.\n",
            "Preparing to unpack .../chromium-browser-l10n_107.0.5304.87-0ubuntu11.18.04.1_all.deb ...\n",
            "Unpacking chromium-browser-l10n (107.0.5304.87-0ubuntu11.18.04.1) ...\n",
            "Selecting previously unselected package chromium-chromedriver.\n",
            "Preparing to unpack .../chromium-chromedriver_107.0.5304.87-0ubuntu11.18.04.1_amd64.deb ...\n",
            "Unpacking chromium-chromedriver (107.0.5304.87-0ubuntu11.18.04.1) ...\n",
            "Setting up chromium-codecs-ffmpeg-extra (107.0.5304.87-0ubuntu11.18.04.1) ...\n",
            "Setting up chromium-browser (107.0.5304.87-0ubuntu11.18.04.1) ...\n",
            "update-alternatives: using /usr/bin/chromium-browser to provide /usr/bin/x-www-browser (x-www-browser) in auto mode\n",
            "update-alternatives: using /usr/bin/chromium-browser to provide /usr/bin/gnome-www-browser (gnome-www-browser) in auto mode\n",
            "Setting up chromium-chromedriver (107.0.5304.87-0ubuntu11.18.04.1) ...\n",
            "Setting up chromium-browser-l10n (107.0.5304.87-0ubuntu11.18.04.1) ...\n",
            "Processing triggers for man-db (2.8.3-2ubuntu0.1) ...\n",
            "Processing triggers for hicolor-icon-theme (0.17-2) ...\n",
            "Processing triggers for mime-support (3.60ubuntu1) ...\n",
            "Processing triggers for libc-bin (2.27-3ubuntu1.6) ...\n"
          ]
        },
        {
          "output_type": "stream",
          "name": "stderr",
          "text": [
            "/usr/local/lib/python3.7/dist-packages/requests/__init__.py:91: RequestsDependencyWarning: urllib3 (1.26.13) or chardet (3.0.4) doesn't match a supported version!\n",
            "  RequestsDependencyWarning)\n"
          ]
        }
      ],
      "source": [
        "#安裝selenium、chromium-chromedriver驅動及更新\n",
        "!pip install selenium\n",
        "!apt-get update\n",
        "!apt install chromium-chromedriver\n",
        "\n",
        "import requests\n",
        "from bs4 import BeautifulSoup\n",
        "import re\n",
        "import random\n",
        "import time\n",
        "from urllib.parse import quote\n",
        "from tqdm import tqdm, trange\n",
        "import csv\n",
        "from selenium import webdriver\n",
        "from selenium.webdriver.common.keys import Keys\n",
        "from selenium.webdriver.chrome.options import Options\n",
        "import pandas as pd\n",
        "from datetime import date\n",
        "from IPython.display import clear_output\n",
        "import os,os.path"
      ]
    },
    {
      "cell_type": "code",
      "source": [
        "!ls"
      ],
      "metadata": {
        "id": "bpASq-NsuDj4",
        "colab": {
          "base_uri": "https://localhost:8080/"
        },
        "outputId": "1ebc45d1-cc67-4f5b-c39e-4e4d9f0e5760"
      },
      "execution_count": null,
      "outputs": [
        {
          "output_type": "stream",
          "name": "stdout",
          "text": [
            "drive  sample_data\n"
          ]
        }
      ]
    },
    {
      "cell_type": "code",
      "source": [
        "def get_todate(): # 取檔名用的\n",
        "    return date.today()\n",
        "\n",
        "def selenium_get_Code_104(url):\n",
        "    #chrome_options = Options() # 啟動無頭模式\n",
        "    chrome_options = webdriver.ChromeOptions()\n",
        "    chrome_options.add_argument('--headless')\n",
        "    chrome_options.add_argument('--no-sandbox')\n",
        "    chrome_options.add_argument('--disable-dev-shm-usage')\n",
        "    driver = webdriver.Chrome('chromedriver',options=chrome_options)\n",
        "    driver.get(url)\n",
        "    save = driver.page_source\n",
        "    driver.quit()#關閉瀏覽器\n",
        "    soup = BeautifulSoup(save, \"html.parser\")\n",
        "    page = soup.select('.page-select.js-paging-select.gtm-paging-top')[0].find_all('option')[-1].get('value')\n",
        "    return page\n",
        "\n",
        "def read_url(url):\n",
        "    USER_AGENT_LIST = [\n",
        "        \"Mozilla/4.0 (compatible; MSIE 6.0; Windows NT 5.1; SV1; AcooBrowser; .NET CLR 1.1.4322; .NET CLR 2.0.50727)\",\n",
        "        \"Mozilla/4.0 (compatible; MSIE 7.0; Windows NT 6.0; Acoo Browser; SLCC1; .NET CLR 2.0.50727; Media Center PC 5.0; .NET CLR 3.0.04506)\",\n",
        "        \"Mozilla/4.0 (compatible; MSIE 7.0; AOL 9.5; AOLBuild 4337.35; Windows NT 5.1; .NET CLR 1.1.4322; .NET CLR 2.0.50727)\",\n",
        "        \"Mozilla/5.0 (Windows; U; MSIE 9.0; Windows NT 9.0; en-US)\",\n",
        "        \"Mozilla/5.0 (compatible; MSIE 9.0; Windows NT 6.1; Win64; x64; Trident/5.0; .NET CLR 3.5.30729; .NET CLR 3.0.30729; .NET CLR 2.0.50727; Media Center PC 6.0)\",\n",
        "        \"Mozilla/5.0 (compatible; MSIE 8.0; Windows NT 6.0; Trident/4.0; WOW64; Trident/4.0; SLCC2; .NET CLR 2.0.50727; .NET CLR 3.5.30729; .NET CLR 3.0.30729; .NET CLR 1.0.3705; .NET CLR 1.1.4322)\",\n",
        "        \"Mozilla/4.0 (compatible; MSIE 7.0b; Windows NT 5.2; .NET CLR 1.1.4322; .NET CLR 2.0.50727; InfoPath.2; .NET CLR 3.0.04506.30)\",\n",
        "        \"Mozilla/5.0 (Windows; U; Windows NT 5.1; zh-CN) AppleWebKit/523.15 (KHTML, like Gecko, Safari/419.3) Arora/0.3 (Change: 287 c9dfb30)\",\n",
        "        \"Mozilla/5.0 (X11; U; Linux; en-US) AppleWebKit/527+ (KHTML, like Gecko, Safari/419.3) Arora/0.6\",\n",
        "        \"Mozilla/5.0 (Windows; U; Windows NT 5.1; en-US; rv:1.8.1.2pre) Gecko/20070215 K-Ninja/2.1.1\",\n",
        "        \"Mozilla/5.0 (Windows; U; Windows NT 5.1; zh-CN; rv:1.9) Gecko/20080705 Firefox/3.0 Kapiko/3.0\",\n",
        "        \"Mozilla/5.0 (X11; Linux i686; U;) Gecko/20070322 Kazehakase/0.4.5\",\n",
        "        \"Mozilla/5.0 (X11; U; Linux i686; en-US; rv:1.9.0.8) Gecko Fedora/1.9.0.8-1.fc10 Kazehakase/0.5.6\",\n",
        "        \"Mozilla/5.0 (Windows NT 6.1; WOW64) AppleWebKit/535.11 (KHTML, like Gecko) Chrome/17.0.963.56 Safari/535.11\",\n",
        "        \"Mozilla/5.0 (Macintosh; Intel Mac OS X 10_7_3) AppleWebKit/535.20 (KHTML, like Gecko) Chrome/19.0.1036.7 Safari/535.20\",\n",
        "        \"Opera/9.80 (Macintosh; Intel Mac OS X 10.6.8; U; fr) Presto/2.9.168 Version/11.52\",\n",
        "        \"Mozilla/5.0 (Windows NT 6.1; WOW64) AppleWebKit/536.11 (KHTML, like Gecko) Chrome/20.0.1132.11 TaoBrowser/2.0 Safari/536.11\",\n",
        "        \"Mozilla/5.0 (Windows NT 6.1; WOW64) AppleWebKit/537.1 (KHTML, like Gecko) Chrome/21.0.1180.71 Safari/537.1 LBBROWSER\",\n",
        "        \"Mozilla/5.0 (compatible; MSIE 9.0; Windows NT 6.1; WOW64; Trident/5.0; SLCC2; .NET CLR 2.0.50727; .NET CLR 3.5.30729; .NET CLR 3.0.30729; Media Center PC 6.0; .NET4.0C; .NET4.0E; LBBROWSER)\",\n",
        "        \"Mozilla/4.0 (compatible; MSIE 6.0; Windows NT 5.1; SV1; QQDownload 732; .NET4.0C; .NET4.0E; LBBROWSER)\",\n",
        "        \"Mozilla/5.0 (Windows NT 6.1; WOW64) AppleWebKit/535.11 (KHTML, like Gecko) Chrome/17.0.963.84 Safari/535.11 LBBROWSER\",\n",
        "        \"Mozilla/4.0 (compatible; MSIE 7.0; Windows NT 6.1; WOW64; Trident/5.0; SLCC2; .NET CLR 2.0.50727; .NET CLR 3.5.30729; .NET CLR 3.0.30729; Media Center PC 6.0; .NET4.0C; .NET4.0E)\",\n",
        "        \"Mozilla/5.0 (compatible; MSIE 9.0; Windows NT 6.1; WOW64; Trident/5.0; SLCC2; .NET CLR 2.0.50727; .NET CLR 3.5.30729; .NET CLR 3.0.30729; Media Center PC 6.0; .NET4.0C; .NET4.0E; QQBrowser/7.0.3698.400)\",\n",
        "        \"Mozilla/4.0 (compatible; MSIE 6.0; Windows NT 5.1; SV1; QQDownload 732; .NET4.0C; .NET4.0E)\",\n",
        "        \"Mozilla/4.0 (compatible; MSIE 7.0; Windows NT 5.1; Trident/4.0; SV1; QQDownload 732; .NET4.0C; .NET4.0E; 360SE)\",\n",
        "        \"Mozilla/4.0 (compatible; MSIE 6.0; Windows NT 5.1; SV1; QQDownload 732; .NET4.0C; .NET4.0E)\",\n",
        "        \"Mozilla/4.0 (compatible; MSIE 7.0; Windows NT 6.1; WOW64; Trident/5.0; SLCC2; .NET CLR 2.0.50727; .NET CLR 3.5.30729; .NET CLR 3.0.30729; Media Center PC 6.0; .NET4.0C; .NET4.0E)\",\n",
        "        \"Mozilla/5.0 (Windows NT 5.1) AppleWebKit/537.1 (KHTML, like Gecko) Chrome/21.0.1180.89 Safari/537.1\",\n",
        "        \"Mozilla/5.0 (Windows NT 6.1; WOW64) AppleWebKit/537.1 (KHTML, like Gecko) Chrome/21.0.1180.89 Safari/537.1\",\n",
        "        \"Mozilla/5.0 (iPad; U; CPU OS 4_2_1 like Mac OS X; zh-cn) AppleWebKit/533.17.9 (KHTML, like Gecko) Version/5.0.2 Mobile/8C148 Safari/6533.18.5\",\n",
        "        \"Mozilla/5.0 (Windows NT 6.1; Win64; x64; rv:2.0b13pre) Gecko/20110307 Firefox/4.0b13pre\",\n",
        "        \"Mozilla/5.0 (X11; Ubuntu; Linux x86_64; rv:16.0) Gecko/20100101 Firefox/16.0\",\n",
        "        \"Mozilla/5.0 (Windows NT 6.1; WOW64) AppleWebKit/537.11 (KHTML, like Gecko) Chrome/23.0.1271.64 Safari/537.11\",\n",
        "        \"Mozilla/5.0 (X11; U; Linux x86_64; zh-CN; rv:1.9.2.10) Gecko/20100922 Ubuntu/10.10 (maverick) Firefox/3.6.10\",\n",
        "        \"Mozilla/5.0 (Windows NT 10.0; Win64; x64) AppleWebKit/537.36 (KHTML, like Gecko) Chrome/58.0.3029.110 Safari/537.36\",\n",
        "        ]\n",
        "    USER_AGENT = random.choice(USER_AGENT_LIST)\n",
        "    headers = {'user-agent': USER_AGENT}\n",
        "    s = requests.Session()\n",
        "    req = s.get(url, headers = headers)\n",
        "    soup = BeautifulSoup(req.text, \"html.parser\")\n",
        "    return soup\n",
        "\n",
        "def csv_column_104(path_csv, key_txt): #建立行標題\n",
        "    with open(path_csv + '.csv', mode='a+', newline='', encoding='utf-8') as employee_file:\n",
        "        employee_writer = csv.writer(employee_file, delimiter=',', quotechar='\"', quoting=csv.QUOTE_MINIMAL)\n",
        "        employee_writer.writerow(['日期', '工作名稱', '公司名稱', '公司地址', '薪資', '工作內容', '地區', '經歷', '學歷', '公司人數', '文章編號', '工作網址'])\n",
        "\n",
        "def find_title_104(key_txt):\n",
        "    #路徑組合\n",
        "    today = get_todate()\n",
        "    path_csv = \"%s\" % os.getcwd() + '/' + 'jobs_csv/'+ str(today) + key_txt + '_104人力銀行'\n",
        "    if not os.path.isdir('jobs_csv'): # 確認是否有jobs_csv資料夾  沒有則返回Ture\n",
        "        os.mkdir('jobs_csv') # 建立jobs_csv資料夾\n",
        "        print('建立jobs_csv資料夾完成')\n",
        "    csv_column_104(path_csv, key_txt) #建立行標題\n",
        "    csv_save = \"\"\n",
        "    key = quote(key_txt)\n",
        "    #  104 api searchTempExclude=2  -> 設定排除派遣\n",
        "    find_page_url = 'https://www.104.com.tw/jobs/search/?ro=0&kwop=7&keyword={0}&order=15&asc=0&page=1&mode=s&jobsource=2018indexpoc&searchTempExclude=2'.format(key)\n",
        "    get_sum_page = int(selenium_get_Code_104(find_page_url))\n",
        "    print('共有：' + str(get_sum_page) + ' 頁')\n",
        "    for i in tqdm(range(1, get_sum_page+1)):  #set page 1 to find all max page ,tqdm讀取進度條\n",
        "        url = 'https://www.104.com.tw/jobs/search/?ro=0&kwop=7&keyword={0}&order=15&asc=0&page={1}&mode=s&jobsource=2018indexpoc&searchTempExclude=2'.format(key, i)\n",
        "        #time.sleep(random.randint(2,10)) #隨機等待\n",
        "        soup = read_url(url) #讀取網頁\n",
        "        print('目前爬取頁面是：' + url)\n",
        "        for title_1 in soup.select('.b-block__left'):\n",
        "            #有三個資料是無資料的，遇到無資料就跳過這個迴圈\n",
        "            if title_1.select('.b-list-inline.b-clearfix.job-list-item__company') != soup.select('.b-block__left')[0].select('.b-list-inline.b-clearfix.job-list-item__company'):\n",
        "                #日期\n",
        "                try:\n",
        "                    #正常代表找到 讚 廣告 (業主買廣告)，發生異常代表找不到 讚，執行except找日期\n",
        "                    date_match__ = title_1.select('.b-icon--gray.b-icon--w18')[0].select('use')[0]\n",
        "                    date = '廣告'\n",
        "                except:\n",
        "                    date = title_1.select('.b-tit__date')[0].get_text().replace('\\n','').replace(' ','')\n",
        "\n",
        "                #地區\n",
        "                area = title_1.select('.b-list-inline.b-clearfix.job-list-intro.b-content')[0].find('li').get_text()\n",
        "                #經歷(年資)\n",
        "                experience = title_1.select('.b-list-inline.b-clearfix.job-list-intro.b-content')[0].find_all('li')[1].get_text()\n",
        "                try: #業者沒有輸入學歷，遇到錯誤處理\n",
        "                    #學歷\n",
        "                    education = title_1.select('.b-list-inline.b-clearfix.job-list-intro.b-content')[0].find_all('li')[2].get_text()\n",
        "                except:\n",
        "                    education = \"\"\n",
        "                #工作網址\n",
        "                title_url = title_1.select('.js-job-link')[0].get('href')[2:]\n",
        "                #get 文章編號\n",
        "                title_str = title_url.split('?')[0].split('/')[-1] #get 文章編號\n",
        "                #標題名稱\n",
        "                title = title_1.select('.js-job-link')[0].get_text() #get title\n",
        "                #print(title + title_url + area)\n",
        "                #公司名\n",
        "                company_name = title_1.select('li')[1].find('a').get('title').split('\\n')[0][4:]\n",
        "                try:\n",
        "                    #公司地址\n",
        "                    company_address = title_1.select('li')[1].find('a').get('title').split('\\n')[1][5:]\n",
        "                except:\n",
        "                    company_address = \"\"\n",
        "                try:\n",
        "                    #簡介\n",
        "                    introduction = title_1.select('.job-list-item__info.b-clearfix.b-content')[0].get_text()\n",
        "                    #處理string \\r \\n5 \\n轉成''\n",
        "                    introduction = introduction.replace('\\r','').replace('\\n5','').replace('\\n','')\n",
        "                except:\n",
        "                    introduction = \"\"\n",
        "                #薪資\n",
        "                try:\n",
        "                    salary = title_1.select('.b-tag--default')[0].get_text()\n",
        "                except:\n",
        "                    salary = 0 #沒有寫薪資或待遇面議，設定 0\n",
        "\n",
        "                if salary == '待遇面議':\n",
        "                    salary = \"待遇面議\"\n",
        "                else: #數字處理 25000~35000 取25000最低薪資為主要，三位數 = 日薪，四位數 = 論件計酬\n",
        "                    try:\n",
        "                        salary = re.search('\\d+.\\d+', salary).group()\n",
        "                    except:\n",
        "                        salary = 0\n",
        "                #員工人數\n",
        "                try:\n",
        "                    people = title_1.select('.b-tag--default')[1].get_text()\n",
        "                except:\n",
        "                    people = \"\"\n",
        "                #clear_output() # 清除輸出 用於清除進度讀，註解#不使用：用來檢查出錯的網址\n",
        "\n",
        "                with open(path_csv + '.csv', mode='a+', newline='', encoding='utf-8') as employee_file: #w\n",
        "                    employee_writer = csv.writer(employee_file, delimiter=',', quotechar='\"', quoting=csv.QUOTE_MINIMAL)\n",
        "                    employee_writer.writerow([date, title, company_name, company_address, salary, introduction, area, experience, education, people, title_str, title_url])\n",
        "            else:\n",
        "                continue\n",
        "    return print('爬取104完成：請開啟csv檔案')\n",
        "\n",
        "\n",
        "# input_go = input('輸入關鍵字')\n",
        "# save_title_data = find_title_104(input_go)\n",
        "\n",
        "\n",
        "\n",
        "\n",
        "############ 1111人力銀行 #########\n",
        "\n",
        "\n",
        "def selenium_get_Code_1111(url):\n",
        "    chrome_options = webdriver.ChromeOptions()\n",
        "    chrome_options.add_argument('--headless')\n",
        "    chrome_options.add_argument('--no-sandbox')\n",
        "    chrome_options.add_argument('--disable-dev-shm-usage')\n",
        "    driver = webdriver.Chrome('chromedriver',options=chrome_options)\n",
        "    driver.get(url)\n",
        "    save = driver.page_source\n",
        "    driver.quit()#關閉瀏覽器\n",
        "    soup = BeautifulSoup(save, \"html.parser\")\n",
        "\n",
        "    page = soup.select('.custom-select')[0].select('option')[0].text\n",
        "    page = page.split('/')\n",
        "    page = page[1].strip(' ')\n",
        "    return page\n",
        "\n",
        "\n",
        "def csv_column_1111(path_csv): #建立行標題\n",
        "    with open(path_csv + '.csv', mode='a+', newline='', encoding='utf-8') as employee_file:\n",
        "        employee_writer = csv.writer(employee_file, delimiter=',', quotechar='\"', quoting=csv.QUOTE_MINIMAL)\n",
        "        employee_writer.writerow(['日期', '工作名稱', '公司名稱', '公司地址', '薪資', '工作內容', '地區', '經歷', '學歷', '工作網址'])\n",
        "\n",
        "def find_data_1111(soup):\n",
        "    #錢錢\n",
        "    mnone = soup.select('.needs')\n",
        "    #縣市區域\n",
        "    location = soup.select('.needs')\n",
        "    #日期\n",
        "    get_date = soup.select('.date')\n",
        "    #簡介\n",
        "    jbInfoTxt = soup.select('.jbInfoTxt')\n",
        "    #網址\n",
        "    jobs_url = soup.select('.position0')\n",
        "    #公司名稱、類別、住址\n",
        "    company_data = soup.select('.d-md-flex')\n",
        "    #工作標題\n",
        "    title = soup.select('.position0')\n",
        "    #工作經驗\n",
        "    jobs_exp = soup.select('.needs')\n",
        "    # 學歷\n",
        "    education = soup.select('.needs')\n",
        "    return mnone, location, jbInfoTxt, jobs_url, company_data, title, jobs_exp, get_date, education\n",
        "\n",
        "\n",
        "\n",
        "def find_title_1111(key_txt):\n",
        "    #路徑組合\n",
        "    today = get_todate()\n",
        "    path_csv = 'jobs_csv/' + str(today) + key_txt + '_1111人力銀行'\n",
        "    if not os.path.isdir('jobs_csv'): # 確認是否有jobs_csv資料夾  沒有則返回Ture\n",
        "        os.mkdir('jobs_csv') # 建立jobs_csv資料夾\n",
        "        print('建立jobs_csv資料夾完成')\n",
        "    csv_column_1111(path_csv) #建立行標題\n",
        "    key = quote(key_txt)\n",
        "    find_page_url = 'https://www.1111.com.tw/job-bank/job-index.asp?si=1&ss=s&ks={0}&page=1'.format(key)\n",
        "    #取得最大page數\n",
        "    get_sum_page = int(selenium_get_Code_1111(find_page_url))\n",
        "    print('共有：' + str(get_sum_page) + ' 頁')\n",
        "\n",
        "    for i in tqdm(range(1, get_sum_page+1)):\n",
        "        url = 'https://www.1111.com.tw/job-bank/job-index.asp?si=1&ss=s&ks={0}&page={1}'.format(key, i)\n",
        "        soup = read_url(url) #讀取網頁\n",
        "        #讀取網頁資料\n",
        "        mnone, location, jbInfoTxt, jobs_url, company_data, title, jobs_exp, get_date, education = find_data_1111(soup)\n",
        "        print('目前爬取頁面是：' + url)\n",
        "        for mnone, location, jbInfoTxt, jobs_url, company_data, title, jobs_exp, get_date, education in zip(mnone, location, jbInfoTxt, jobs_url, company_data, title, jobs_exp, get_date, education):\n",
        "            #錢 取最低薪資\n",
        "            try:\n",
        "                mnone = mnone.find_all(\"span\")[1].get_text()\n",
        "                get_mone = re.search('\\d+.\\d+', mnone).group()\n",
        "            except:\n",
        "                get_mone = '面議（經常性薪資4萬/月含以上）' #也可以直接給40000\n",
        "            #日期\n",
        "            get_date = get_date.get_text()[5:]\n",
        "\n",
        "            #縣市區域\n",
        "            location = location.find_all(\"span\")[0].get_text()\n",
        "\n",
        "            #簡介\n",
        "            jbInfoTxt = jbInfoTxt.get_text().replace(\"\\xa0\", \"\") #刪除\\xa0\n",
        "\n",
        "            #工作網址\n",
        "            jobs_url = 'https://www.1111.com.tw{0}'.format(jobs_url.find('a').get('href'))\n",
        "\n",
        "            #公司名\n",
        "            company = company_data.find_all('a')[0].get('title').replace('\\r','').split('\\n')[0][6:]\n",
        "\n",
        "            #公司分類 目前暫不使用\n",
        "            category = company_data.find_all('a')[0].get('title').replace('\\r','').split('\\n')[1][6:]\n",
        "\n",
        "            #公司地址\n",
        "            address = company_data.find_all('a')[0].get('title').replace('\\r','').split('\\n')[2][6:]\n",
        "\n",
        "            #工作標題\n",
        "            title = title.find('a').get('title')\n",
        "\n",
        "            # 工作經驗\n",
        "            jobs_exp = jobs_exp.find_all(\"span\")[2].get_text()\n",
        "\n",
        "            # 學歷\n",
        "            education = education.find_all(\"span\")[3].get_text()\n",
        "            # 儲存\n",
        "\n",
        "            # clear_output() # 清除輸出 用於清除進度讀\n",
        "\n",
        "            with open(path_csv + '.csv', mode='a+', newline='', encoding='utf-8') as employee_file: #w\n",
        "                employee_writer = csv.writer(employee_file, delimiter=',', quotechar='\"', quoting=csv.QUOTE_MINIMAL)\n",
        "                employee_writer.writerow([get_date, title, company, address, get_mone, jbInfoTxt, location, jobs_exp, education, jobs_url])\n",
        "    return print('爬取1111完成：請開啟csv檔案')"
      ],
      "metadata": {
        "id": "WBMiwjchXjgO"
      },
      "execution_count": null,
      "outputs": []
    },
    {
      "cell_type": "code",
      "source": [
        "import os\n",
        "os.getcwd()\n",
        "os.chdir('/content/drive/MyDrive/colab_could/104')"
      ],
      "metadata": {
        "id": "I5nu4SdlNT0k"
      },
      "execution_count": null,
      "outputs": []
    },
    {
      "cell_type": "code",
      "source": [
        "sel = input('請選擇要使用104或是1111，兩種都要爬輸入 2：')\n",
        "\n",
        "while True:\n",
        "    if sel == '104':\n",
        "        input_str = input('請輸入要搜尋的關鍵字，取消請輸入0：')\n",
        "        if input_str == '0':\n",
        "            print('已經取消')\n",
        "            break\n",
        "        find_title_104(input_str)\n",
        "        break\n",
        "    elif sel == '1111':\n",
        "        input_str = input('請輸入要搜尋的關鍵字，取消請輸入0：')\n",
        "        if input_str == '0':\n",
        "            print('已經取消')\n",
        "            break\n",
        "        find_title_1111(input_str)\n",
        "        break\n",
        "    elif sel == '0':\n",
        "        break\n",
        "    elif sel == '2':\n",
        "        input_str = input('請輸入要搜尋的關鍵字，取消請輸入0：')\n",
        "        if input_str == '0':\n",
        "            print('已經取消')\n",
        "            break\n",
        "        print('爬取104、1111')\n",
        "        find_title_104(input_str)\n",
        "        find_title_1111(input_str)\n",
        "        break\n",
        "\n",
        "    else:\n",
        "        print('請輸入正確的選項：輸入 104 或 1111：')\n",
        "        sel = input('請選擇要使用104或是1111：')"
      ],
      "metadata": {
        "colab": {
          "base_uri": "https://localhost:8080/",
          "height": 1000
        },
        "id": "8bCH5nK9Xw6z",
        "outputId": "29cbda3e-f4fc-49b2-cfb3-d054d6ecbb9e"
      },
      "execution_count": null,
      "outputs": [
        {
          "output_type": "stream",
          "name": "stdout",
          "text": [
            "請選擇要使用104或是1111，兩種都要爬輸入 2：2\n",
            "請輸入要搜尋的關鍵字，取消請輸入0：data analysis、business analysis\n",
            "爬取104、1111\n",
            "建立jobs_csv資料夾完成\n",
            "共有：150 頁\n"
          ]
        },
        {
          "output_type": "stream",
          "name": "stderr",
          "text": [
            "\r  0%|          | 0/150 [00:00<?, ?it/s]"
          ]
        },
        {
          "output_type": "stream",
          "name": "stdout",
          "text": [
            "目前爬取頁面是：https://www.104.com.tw/jobs/search/?ro=0&kwop=7&keyword=data%20analysis%E3%80%81business%20analysis&order=15&asc=0&page=1&mode=s&jobsource=2018indexpoc&searchTempExclude=2\n"
          ]
        },
        {
          "output_type": "stream",
          "name": "stderr",
          "text": [
            "  1%|▏         | 2/150 [00:03<04:13,  1.71s/it]"
          ]
        },
        {
          "output_type": "stream",
          "name": "stdout",
          "text": [
            "目前爬取頁面是：https://www.104.com.tw/jobs/search/?ro=0&kwop=7&keyword=data%20analysis%E3%80%81business%20analysis&order=15&asc=0&page=2&mode=s&jobsource=2018indexpoc&searchTempExclude=2\n"
          ]
        },
        {
          "output_type": "stream",
          "name": "stderr",
          "text": [
            "\r  2%|▏         | 3/150 [00:05<03:58,  1.62s/it]"
          ]
        },
        {
          "output_type": "stream",
          "name": "stdout",
          "text": [
            "目前爬取頁面是：https://www.104.com.tw/jobs/search/?ro=0&kwop=7&keyword=data%20analysis%E3%80%81business%20analysis&order=15&asc=0&page=3&mode=s&jobsource=2018indexpoc&searchTempExclude=2\n"
          ]
        },
        {
          "output_type": "stream",
          "name": "stderr",
          "text": [
            "\r  3%|▎         | 4/150 [00:06<04:10,  1.72s/it]"
          ]
        },
        {
          "output_type": "stream",
          "name": "stdout",
          "text": [
            "目前爬取頁面是：https://www.104.com.tw/jobs/search/?ro=0&kwop=7&keyword=data%20analysis%E3%80%81business%20analysis&order=15&asc=0&page=4&mode=s&jobsource=2018indexpoc&searchTempExclude=2\n"
          ]
        },
        {
          "output_type": "stream",
          "name": "stderr",
          "text": [
            "\r  3%|▎         | 5/150 [00:08<04:08,  1.72s/it]"
          ]
        },
        {
          "output_type": "stream",
          "name": "stdout",
          "text": [
            "目前爬取頁面是：https://www.104.com.tw/jobs/search/?ro=0&kwop=7&keyword=data%20analysis%E3%80%81business%20analysis&order=15&asc=0&page=5&mode=s&jobsource=2018indexpoc&searchTempExclude=2\n"
          ]
        },
        {
          "output_type": "stream",
          "name": "stderr",
          "text": [
            "\r  4%|▍         | 6/150 [00:10<04:02,  1.68s/it]"
          ]
        },
        {
          "output_type": "stream",
          "name": "stdout",
          "text": [
            "目前爬取頁面是：https://www.104.com.tw/jobs/search/?ro=0&kwop=7&keyword=data%20analysis%E3%80%81business%20analysis&order=15&asc=0&page=6&mode=s&jobsource=2018indexpoc&searchTempExclude=2\n"
          ]
        },
        {
          "output_type": "stream",
          "name": "stderr",
          "text": [
            "\r  5%|▍         | 7/150 [00:11<03:59,  1.68s/it]"
          ]
        },
        {
          "output_type": "stream",
          "name": "stdout",
          "text": [
            "目前爬取頁面是：https://www.104.com.tw/jobs/search/?ro=0&kwop=7&keyword=data%20analysis%E3%80%81business%20analysis&order=15&asc=0&page=7&mode=s&jobsource=2018indexpoc&searchTempExclude=2\n"
          ]
        },
        {
          "output_type": "stream",
          "name": "stderr",
          "text": [
            "\r  5%|▌         | 8/150 [00:13<03:59,  1.69s/it]"
          ]
        },
        {
          "output_type": "stream",
          "name": "stdout",
          "text": [
            "目前爬取頁面是：https://www.104.com.tw/jobs/search/?ro=0&kwop=7&keyword=data%20analysis%E3%80%81business%20analysis&order=15&asc=0&page=8&mode=s&jobsource=2018indexpoc&searchTempExclude=2\n"
          ]
        },
        {
          "output_type": "stream",
          "name": "stderr",
          "text": [
            "\r  6%|▌         | 9/150 [00:15<03:48,  1.62s/it]"
          ]
        },
        {
          "output_type": "stream",
          "name": "stdout",
          "text": [
            "目前爬取頁面是：https://www.104.com.tw/jobs/search/?ro=0&kwop=7&keyword=data%20analysis%E3%80%81business%20analysis&order=15&asc=0&page=9&mode=s&jobsource=2018indexpoc&searchTempExclude=2\n"
          ]
        },
        {
          "output_type": "stream",
          "name": "stderr",
          "text": [
            "\r  7%|▋         | 10/150 [00:16<03:48,  1.63s/it]"
          ]
        },
        {
          "output_type": "stream",
          "name": "stdout",
          "text": [
            "目前爬取頁面是：https://www.104.com.tw/jobs/search/?ro=0&kwop=7&keyword=data%20analysis%E3%80%81business%20analysis&order=15&asc=0&page=10&mode=s&jobsource=2018indexpoc&searchTempExclude=2\n"
          ]
        },
        {
          "output_type": "stream",
          "name": "stderr",
          "text": [
            "\r  7%|▋         | 11/150 [00:18<03:44,  1.61s/it]"
          ]
        },
        {
          "output_type": "stream",
          "name": "stdout",
          "text": [
            "目前爬取頁面是：https://www.104.com.tw/jobs/search/?ro=0&kwop=7&keyword=data%20analysis%E3%80%81business%20analysis&order=15&asc=0&page=11&mode=s&jobsource=2018indexpoc&searchTempExclude=2\n"
          ]
        },
        {
          "output_type": "stream",
          "name": "stderr",
          "text": [
            "\r  8%|▊         | 12/150 [00:19<03:40,  1.60s/it]"
          ]
        },
        {
          "output_type": "stream",
          "name": "stdout",
          "text": [
            "目前爬取頁面是：https://www.104.com.tw/jobs/search/?ro=0&kwop=7&keyword=data%20analysis%E3%80%81business%20analysis&order=15&asc=0&page=12&mode=s&jobsource=2018indexpoc&searchTempExclude=2\n"
          ]
        },
        {
          "output_type": "stream",
          "name": "stderr",
          "text": [
            "\r  9%|▊         | 13/150 [00:21<03:35,  1.57s/it]"
          ]
        },
        {
          "output_type": "stream",
          "name": "stdout",
          "text": [
            "目前爬取頁面是：https://www.104.com.tw/jobs/search/?ro=0&kwop=7&keyword=data%20analysis%E3%80%81business%20analysis&order=15&asc=0&page=13&mode=s&jobsource=2018indexpoc&searchTempExclude=2\n"
          ]
        },
        {
          "output_type": "stream",
          "name": "stderr",
          "text": [
            "\r  9%|▉         | 14/150 [00:23<03:36,  1.59s/it]"
          ]
        },
        {
          "output_type": "stream",
          "name": "stdout",
          "text": [
            "目前爬取頁面是：https://www.104.com.tw/jobs/search/?ro=0&kwop=7&keyword=data%20analysis%E3%80%81business%20analysis&order=15&asc=0&page=14&mode=s&jobsource=2018indexpoc&searchTempExclude=2\n"
          ]
        },
        {
          "output_type": "stream",
          "name": "stderr",
          "text": [
            "\r 10%|█         | 15/150 [00:24<03:37,  1.61s/it]"
          ]
        },
        {
          "output_type": "stream",
          "name": "stdout",
          "text": [
            "目前爬取頁面是：https://www.104.com.tw/jobs/search/?ro=0&kwop=7&keyword=data%20analysis%E3%80%81business%20analysis&order=15&asc=0&page=15&mode=s&jobsource=2018indexpoc&searchTempExclude=2\n"
          ]
        },
        {
          "output_type": "stream",
          "name": "stderr",
          "text": [
            "\r 11%|█         | 16/150 [00:26<03:41,  1.65s/it]"
          ]
        },
        {
          "output_type": "stream",
          "name": "stdout",
          "text": [
            "目前爬取頁面是：https://www.104.com.tw/jobs/search/?ro=0&kwop=7&keyword=data%20analysis%E3%80%81business%20analysis&order=15&asc=0&page=16&mode=s&jobsource=2018indexpoc&searchTempExclude=2\n"
          ]
        },
        {
          "output_type": "stream",
          "name": "stderr",
          "text": [
            "\r 11%|█▏        | 17/150 [00:28<03:38,  1.64s/it]"
          ]
        },
        {
          "output_type": "stream",
          "name": "stdout",
          "text": [
            "目前爬取頁面是：https://www.104.com.tw/jobs/search/?ro=0&kwop=7&keyword=data%20analysis%E3%80%81business%20analysis&order=15&asc=0&page=17&mode=s&jobsource=2018indexpoc&searchTempExclude=2\n"
          ]
        },
        {
          "output_type": "stream",
          "name": "stderr",
          "text": [
            "\r 12%|█▏        | 18/150 [00:29<03:31,  1.60s/it]"
          ]
        },
        {
          "output_type": "stream",
          "name": "stdout",
          "text": [
            "目前爬取頁面是：https://www.104.com.tw/jobs/search/?ro=0&kwop=7&keyword=data%20analysis%E3%80%81business%20analysis&order=15&asc=0&page=18&mode=s&jobsource=2018indexpoc&searchTempExclude=2\n"
          ]
        },
        {
          "output_type": "stream",
          "name": "stderr",
          "text": [
            "\r 13%|█▎        | 19/150 [00:31<03:32,  1.62s/it]"
          ]
        },
        {
          "output_type": "stream",
          "name": "stdout",
          "text": [
            "目前爬取頁面是：https://www.104.com.tw/jobs/search/?ro=0&kwop=7&keyword=data%20analysis%E3%80%81business%20analysis&order=15&asc=0&page=19&mode=s&jobsource=2018indexpoc&searchTempExclude=2\n"
          ]
        },
        {
          "output_type": "stream",
          "name": "stderr",
          "text": [
            "\r 13%|█▎        | 20/150 [00:32<03:27,  1.59s/it]"
          ]
        },
        {
          "output_type": "stream",
          "name": "stdout",
          "text": [
            "目前爬取頁面是：https://www.104.com.tw/jobs/search/?ro=0&kwop=7&keyword=data%20analysis%E3%80%81business%20analysis&order=15&asc=0&page=20&mode=s&jobsource=2018indexpoc&searchTempExclude=2\n"
          ]
        },
        {
          "output_type": "stream",
          "name": "stderr",
          "text": [
            "\r 14%|█▍        | 21/150 [00:34<03:24,  1.58s/it]"
          ]
        },
        {
          "output_type": "stream",
          "name": "stdout",
          "text": [
            "目前爬取頁面是：https://www.104.com.tw/jobs/search/?ro=0&kwop=7&keyword=data%20analysis%E3%80%81business%20analysis&order=15&asc=0&page=21&mode=s&jobsource=2018indexpoc&searchTempExclude=2\n"
          ]
        },
        {
          "output_type": "stream",
          "name": "stderr",
          "text": [
            "\r 15%|█▍        | 22/150 [00:35<03:22,  1.58s/it]"
          ]
        },
        {
          "output_type": "stream",
          "name": "stdout",
          "text": [
            "目前爬取頁面是：https://www.104.com.tw/jobs/search/?ro=0&kwop=7&keyword=data%20analysis%E3%80%81business%20analysis&order=15&asc=0&page=22&mode=s&jobsource=2018indexpoc&searchTempExclude=2\n"
          ]
        },
        {
          "output_type": "stream",
          "name": "stderr",
          "text": [
            "\r 15%|█▌        | 23/150 [00:37<03:33,  1.68s/it]"
          ]
        },
        {
          "output_type": "stream",
          "name": "stdout",
          "text": [
            "目前爬取頁面是：https://www.104.com.tw/jobs/search/?ro=0&kwop=7&keyword=data%20analysis%E3%80%81business%20analysis&order=15&asc=0&page=23&mode=s&jobsource=2018indexpoc&searchTempExclude=2\n"
          ]
        },
        {
          "output_type": "stream",
          "name": "stderr",
          "text": [
            "\r 16%|█▌        | 24/150 [00:39<03:27,  1.64s/it]"
          ]
        },
        {
          "output_type": "stream",
          "name": "stdout",
          "text": [
            "目前爬取頁面是：https://www.104.com.tw/jobs/search/?ro=0&kwop=7&keyword=data%20analysis%E3%80%81business%20analysis&order=15&asc=0&page=24&mode=s&jobsource=2018indexpoc&searchTempExclude=2\n"
          ]
        },
        {
          "output_type": "stream",
          "name": "stderr",
          "text": [
            "\r 17%|█▋        | 25/150 [00:41<03:27,  1.66s/it]"
          ]
        },
        {
          "output_type": "stream",
          "name": "stdout",
          "text": [
            "目前爬取頁面是：https://www.104.com.tw/jobs/search/?ro=0&kwop=7&keyword=data%20analysis%E3%80%81business%20analysis&order=15&asc=0&page=25&mode=s&jobsource=2018indexpoc&searchTempExclude=2\n"
          ]
        },
        {
          "output_type": "stream",
          "name": "stderr",
          "text": [
            "\r 17%|█▋        | 26/150 [00:42<03:24,  1.65s/it]"
          ]
        },
        {
          "output_type": "stream",
          "name": "stdout",
          "text": [
            "目前爬取頁面是：https://www.104.com.tw/jobs/search/?ro=0&kwop=7&keyword=data%20analysis%E3%80%81business%20analysis&order=15&asc=0&page=26&mode=s&jobsource=2018indexpoc&searchTempExclude=2\n"
          ]
        },
        {
          "output_type": "stream",
          "name": "stderr",
          "text": [
            "\r 18%|█▊        | 27/150 [00:44<03:20,  1.63s/it]"
          ]
        },
        {
          "output_type": "stream",
          "name": "stdout",
          "text": [
            "目前爬取頁面是：https://www.104.com.tw/jobs/search/?ro=0&kwop=7&keyword=data%20analysis%E3%80%81business%20analysis&order=15&asc=0&page=27&mode=s&jobsource=2018indexpoc&searchTempExclude=2\n"
          ]
        },
        {
          "output_type": "stream",
          "name": "stderr",
          "text": [
            "\r 19%|█▊        | 28/150 [00:45<03:21,  1.65s/it]"
          ]
        },
        {
          "output_type": "stream",
          "name": "stdout",
          "text": [
            "目前爬取頁面是：https://www.104.com.tw/jobs/search/?ro=0&kwop=7&keyword=data%20analysis%E3%80%81business%20analysis&order=15&asc=0&page=28&mode=s&jobsource=2018indexpoc&searchTempExclude=2\n"
          ]
        },
        {
          "output_type": "stream",
          "name": "stderr",
          "text": [
            "\r 19%|█▉        | 29/150 [00:47<03:22,  1.67s/it]"
          ]
        },
        {
          "output_type": "stream",
          "name": "stdout",
          "text": [
            "目前爬取頁面是：https://www.104.com.tw/jobs/search/?ro=0&kwop=7&keyword=data%20analysis%E3%80%81business%20analysis&order=15&asc=0&page=29&mode=s&jobsource=2018indexpoc&searchTempExclude=2\n"
          ]
        },
        {
          "output_type": "stream",
          "name": "stderr",
          "text": [
            "\r 20%|██        | 30/150 [00:49<03:16,  1.64s/it]"
          ]
        },
        {
          "output_type": "stream",
          "name": "stdout",
          "text": [
            "目前爬取頁面是：https://www.104.com.tw/jobs/search/?ro=0&kwop=7&keyword=data%20analysis%E3%80%81business%20analysis&order=15&asc=0&page=30&mode=s&jobsource=2018indexpoc&searchTempExclude=2\n"
          ]
        },
        {
          "output_type": "stream",
          "name": "stderr",
          "text": [
            "\r 21%|██        | 31/150 [00:50<03:10,  1.60s/it]"
          ]
        },
        {
          "output_type": "stream",
          "name": "stdout",
          "text": [
            "目前爬取頁面是：https://www.104.com.tw/jobs/search/?ro=0&kwop=7&keyword=data%20analysis%E3%80%81business%20analysis&order=15&asc=0&page=31&mode=s&jobsource=2018indexpoc&searchTempExclude=2\n"
          ]
        },
        {
          "output_type": "stream",
          "name": "stderr",
          "text": [
            "\r 21%|██▏       | 32/150 [00:52<03:05,  1.58s/it]"
          ]
        },
        {
          "output_type": "stream",
          "name": "stdout",
          "text": [
            "目前爬取頁面是：https://www.104.com.tw/jobs/search/?ro=0&kwop=7&keyword=data%20analysis%E3%80%81business%20analysis&order=15&asc=0&page=32&mode=s&jobsource=2018indexpoc&searchTempExclude=2\n"
          ]
        },
        {
          "output_type": "stream",
          "name": "stderr",
          "text": [
            "\r 22%|██▏       | 33/150 [00:53<03:07,  1.60s/it]"
          ]
        },
        {
          "output_type": "stream",
          "name": "stdout",
          "text": [
            "目前爬取頁面是：https://www.104.com.tw/jobs/search/?ro=0&kwop=7&keyword=data%20analysis%E3%80%81business%20analysis&order=15&asc=0&page=33&mode=s&jobsource=2018indexpoc&searchTempExclude=2\n"
          ]
        },
        {
          "output_type": "stream",
          "name": "stderr",
          "text": [
            "\r 23%|██▎       | 34/150 [00:55<03:03,  1.58s/it]"
          ]
        },
        {
          "output_type": "stream",
          "name": "stdout",
          "text": [
            "目前爬取頁面是：https://www.104.com.tw/jobs/search/?ro=0&kwop=7&keyword=data%20analysis%E3%80%81business%20analysis&order=15&asc=0&page=34&mode=s&jobsource=2018indexpoc&searchTempExclude=2\n"
          ]
        },
        {
          "output_type": "stream",
          "name": "stderr",
          "text": [
            "\r 23%|██▎       | 35/150 [00:56<02:59,  1.56s/it]"
          ]
        },
        {
          "output_type": "stream",
          "name": "stdout",
          "text": [
            "目前爬取頁面是：https://www.104.com.tw/jobs/search/?ro=0&kwop=7&keyword=data%20analysis%E3%80%81business%20analysis&order=15&asc=0&page=35&mode=s&jobsource=2018indexpoc&searchTempExclude=2\n"
          ]
        },
        {
          "output_type": "stream",
          "name": "stderr",
          "text": [
            "\r 24%|██▍       | 36/150 [00:58<03:02,  1.60s/it]"
          ]
        },
        {
          "output_type": "stream",
          "name": "stdout",
          "text": [
            "目前爬取頁面是：https://www.104.com.tw/jobs/search/?ro=0&kwop=7&keyword=data%20analysis%E3%80%81business%20analysis&order=15&asc=0&page=36&mode=s&jobsource=2018indexpoc&searchTempExclude=2\n"
          ]
        },
        {
          "output_type": "stream",
          "name": "stderr",
          "text": [
            "\r 25%|██▍       | 37/150 [01:00<03:05,  1.64s/it]"
          ]
        },
        {
          "output_type": "stream",
          "name": "stdout",
          "text": [
            "目前爬取頁面是：https://www.104.com.tw/jobs/search/?ro=0&kwop=7&keyword=data%20analysis%E3%80%81business%20analysis&order=15&asc=0&page=37&mode=s&jobsource=2018indexpoc&searchTempExclude=2\n"
          ]
        },
        {
          "output_type": "stream",
          "name": "stderr",
          "text": [
            "\r 25%|██▌       | 38/150 [01:01<03:00,  1.62s/it]"
          ]
        },
        {
          "output_type": "stream",
          "name": "stdout",
          "text": [
            "目前爬取頁面是：https://www.104.com.tw/jobs/search/?ro=0&kwop=7&keyword=data%20analysis%E3%80%81business%20analysis&order=15&asc=0&page=38&mode=s&jobsource=2018indexpoc&searchTempExclude=2\n"
          ]
        },
        {
          "output_type": "stream",
          "name": "stderr",
          "text": [
            "\r 26%|██▌       | 39/150 [01:03<02:59,  1.62s/it]"
          ]
        },
        {
          "output_type": "stream",
          "name": "stdout",
          "text": [
            "目前爬取頁面是：https://www.104.com.tw/jobs/search/?ro=0&kwop=7&keyword=data%20analysis%E3%80%81business%20analysis&order=15&asc=0&page=39&mode=s&jobsource=2018indexpoc&searchTempExclude=2\n"
          ]
        },
        {
          "output_type": "stream",
          "name": "stderr",
          "text": [
            "\r 27%|██▋       | 40/150 [01:05<02:58,  1.63s/it]"
          ]
        },
        {
          "output_type": "stream",
          "name": "stdout",
          "text": [
            "目前爬取頁面是：https://www.104.com.tw/jobs/search/?ro=0&kwop=7&keyword=data%20analysis%E3%80%81business%20analysis&order=15&asc=0&page=40&mode=s&jobsource=2018indexpoc&searchTempExclude=2\n"
          ]
        },
        {
          "output_type": "stream",
          "name": "stderr",
          "text": [
            "\r 27%|██▋       | 41/150 [01:06<02:56,  1.62s/it]"
          ]
        },
        {
          "output_type": "stream",
          "name": "stdout",
          "text": [
            "目前爬取頁面是：https://www.104.com.tw/jobs/search/?ro=0&kwop=7&keyword=data%20analysis%E3%80%81business%20analysis&order=15&asc=0&page=41&mode=s&jobsource=2018indexpoc&searchTempExclude=2\n"
          ]
        },
        {
          "output_type": "stream",
          "name": "stderr",
          "text": [
            "\r 28%|██▊       | 42/150 [01:08<02:59,  1.66s/it]"
          ]
        },
        {
          "output_type": "stream",
          "name": "stdout",
          "text": [
            "目前爬取頁面是：https://www.104.com.tw/jobs/search/?ro=0&kwop=7&keyword=data%20analysis%E3%80%81business%20analysis&order=15&asc=0&page=42&mode=s&jobsource=2018indexpoc&searchTempExclude=2\n"
          ]
        },
        {
          "output_type": "stream",
          "name": "stderr",
          "text": [
            "\r 29%|██▊       | 43/150 [01:10<02:56,  1.65s/it]"
          ]
        },
        {
          "output_type": "stream",
          "name": "stdout",
          "text": [
            "目前爬取頁面是：https://www.104.com.tw/jobs/search/?ro=0&kwop=7&keyword=data%20analysis%E3%80%81business%20analysis&order=15&asc=0&page=43&mode=s&jobsource=2018indexpoc&searchTempExclude=2\n"
          ]
        },
        {
          "output_type": "stream",
          "name": "stderr",
          "text": [
            "\r 29%|██▉       | 44/150 [01:11<02:53,  1.63s/it]"
          ]
        },
        {
          "output_type": "stream",
          "name": "stdout",
          "text": [
            "目前爬取頁面是：https://www.104.com.tw/jobs/search/?ro=0&kwop=7&keyword=data%20analysis%E3%80%81business%20analysis&order=15&asc=0&page=44&mode=s&jobsource=2018indexpoc&searchTempExclude=2\n"
          ]
        },
        {
          "output_type": "stream",
          "name": "stderr",
          "text": [
            "\r 30%|███       | 45/150 [01:14<03:19,  1.90s/it]"
          ]
        },
        {
          "output_type": "stream",
          "name": "stdout",
          "text": [
            "目前爬取頁面是：https://www.104.com.tw/jobs/search/?ro=0&kwop=7&keyword=data%20analysis%E3%80%81business%20analysis&order=15&asc=0&page=45&mode=s&jobsource=2018indexpoc&searchTempExclude=2\n"
          ]
        },
        {
          "output_type": "stream",
          "name": "stderr",
          "text": [
            "\r 31%|███       | 46/150 [01:15<03:05,  1.79s/it]"
          ]
        },
        {
          "output_type": "stream",
          "name": "stdout",
          "text": [
            "目前爬取頁面是：https://www.104.com.tw/jobs/search/?ro=0&kwop=7&keyword=data%20analysis%E3%80%81business%20analysis&order=15&asc=0&page=46&mode=s&jobsource=2018indexpoc&searchTempExclude=2\n"
          ]
        },
        {
          "output_type": "stream",
          "name": "stderr",
          "text": [
            "\r 31%|███▏      | 47/150 [01:17<02:57,  1.72s/it]"
          ]
        },
        {
          "output_type": "stream",
          "name": "stdout",
          "text": [
            "目前爬取頁面是：https://www.104.com.tw/jobs/search/?ro=0&kwop=7&keyword=data%20analysis%E3%80%81business%20analysis&order=15&asc=0&page=47&mode=s&jobsource=2018indexpoc&searchTempExclude=2\n"
          ]
        },
        {
          "output_type": "stream",
          "name": "stderr",
          "text": [
            "\r 32%|███▏      | 48/150 [01:19<02:59,  1.76s/it]"
          ]
        },
        {
          "output_type": "stream",
          "name": "stdout",
          "text": [
            "目前爬取頁面是：https://www.104.com.tw/jobs/search/?ro=0&kwop=7&keyword=data%20analysis%E3%80%81business%20analysis&order=15&asc=0&page=48&mode=s&jobsource=2018indexpoc&searchTempExclude=2\n"
          ]
        },
        {
          "output_type": "stream",
          "name": "stderr",
          "text": [
            "\r 33%|███▎      | 49/150 [01:20<02:52,  1.71s/it]"
          ]
        },
        {
          "output_type": "stream",
          "name": "stdout",
          "text": [
            "目前爬取頁面是：https://www.104.com.tw/jobs/search/?ro=0&kwop=7&keyword=data%20analysis%E3%80%81business%20analysis&order=15&asc=0&page=49&mode=s&jobsource=2018indexpoc&searchTempExclude=2\n"
          ]
        },
        {
          "output_type": "stream",
          "name": "stderr",
          "text": [
            "\r 33%|███▎      | 50/150 [01:22<03:02,  1.82s/it]"
          ]
        },
        {
          "output_type": "stream",
          "name": "stdout",
          "text": [
            "目前爬取頁面是：https://www.104.com.tw/jobs/search/?ro=0&kwop=7&keyword=data%20analysis%E3%80%81business%20analysis&order=15&asc=0&page=50&mode=s&jobsource=2018indexpoc&searchTempExclude=2\n"
          ]
        },
        {
          "output_type": "stream",
          "name": "stderr",
          "text": [
            "\r 34%|███▍      | 51/150 [01:24<02:56,  1.78s/it]"
          ]
        },
        {
          "output_type": "stream",
          "name": "stdout",
          "text": [
            "目前爬取頁面是：https://www.104.com.tw/jobs/search/?ro=0&kwop=7&keyword=data%20analysis%E3%80%81business%20analysis&order=15&asc=0&page=51&mode=s&jobsource=2018indexpoc&searchTempExclude=2\n"
          ]
        },
        {
          "output_type": "stream",
          "name": "stderr",
          "text": [
            "\r 35%|███▍      | 52/150 [01:26<02:52,  1.76s/it]"
          ]
        },
        {
          "output_type": "stream",
          "name": "stdout",
          "text": [
            "目前爬取頁面是：https://www.104.com.tw/jobs/search/?ro=0&kwop=7&keyword=data%20analysis%E3%80%81business%20analysis&order=15&asc=0&page=52&mode=s&jobsource=2018indexpoc&searchTempExclude=2\n"
          ]
        },
        {
          "output_type": "stream",
          "name": "stderr",
          "text": [
            "\r 35%|███▌      | 53/150 [01:27<02:45,  1.71s/it]"
          ]
        },
        {
          "output_type": "stream",
          "name": "stdout",
          "text": [
            "目前爬取頁面是：https://www.104.com.tw/jobs/search/?ro=0&kwop=7&keyword=data%20analysis%E3%80%81business%20analysis&order=15&asc=0&page=53&mode=s&jobsource=2018indexpoc&searchTempExclude=2\n"
          ]
        },
        {
          "output_type": "stream",
          "name": "stderr",
          "text": [
            "\r 36%|███▌      | 54/150 [01:29<02:43,  1.70s/it]"
          ]
        },
        {
          "output_type": "stream",
          "name": "stdout",
          "text": [
            "目前爬取頁面是：https://www.104.com.tw/jobs/search/?ro=0&kwop=7&keyword=data%20analysis%E3%80%81business%20analysis&order=15&asc=0&page=54&mode=s&jobsource=2018indexpoc&searchTempExclude=2\n"
          ]
        },
        {
          "output_type": "stream",
          "name": "stderr",
          "text": [
            "\r 37%|███▋      | 55/150 [01:31<02:36,  1.64s/it]"
          ]
        },
        {
          "output_type": "stream",
          "name": "stdout",
          "text": [
            "目前爬取頁面是：https://www.104.com.tw/jobs/search/?ro=0&kwop=7&keyword=data%20analysis%E3%80%81business%20analysis&order=15&asc=0&page=55&mode=s&jobsource=2018indexpoc&searchTempExclude=2\n"
          ]
        },
        {
          "output_type": "stream",
          "name": "stderr",
          "text": [
            "\r 37%|███▋      | 56/150 [01:33<02:59,  1.91s/it]"
          ]
        },
        {
          "output_type": "stream",
          "name": "stdout",
          "text": [
            "目前爬取頁面是：https://www.104.com.tw/jobs/search/?ro=0&kwop=7&keyword=data%20analysis%E3%80%81business%20analysis&order=15&asc=0&page=56&mode=s&jobsource=2018indexpoc&searchTempExclude=2\n"
          ]
        },
        {
          "output_type": "stream",
          "name": "stderr",
          "text": [
            "\r 38%|███▊      | 57/150 [01:35<02:46,  1.79s/it]"
          ]
        },
        {
          "output_type": "stream",
          "name": "stdout",
          "text": [
            "目前爬取頁面是：https://www.104.com.tw/jobs/search/?ro=0&kwop=7&keyword=data%20analysis%E3%80%81business%20analysis&order=15&asc=0&page=57&mode=s&jobsource=2018indexpoc&searchTempExclude=2\n"
          ]
        },
        {
          "output_type": "stream",
          "name": "stderr",
          "text": [
            "\r 39%|███▊      | 58/150 [01:36<02:36,  1.70s/it]"
          ]
        },
        {
          "output_type": "stream",
          "name": "stdout",
          "text": [
            "目前爬取頁面是：https://www.104.com.tw/jobs/search/?ro=0&kwop=7&keyword=data%20analysis%E3%80%81business%20analysis&order=15&asc=0&page=58&mode=s&jobsource=2018indexpoc&searchTempExclude=2\n"
          ]
        },
        {
          "output_type": "stream",
          "name": "stderr",
          "text": [
            "\r 39%|███▉      | 59/150 [01:38<02:28,  1.63s/it]"
          ]
        },
        {
          "output_type": "stream",
          "name": "stdout",
          "text": [
            "目前爬取頁面是：https://www.104.com.tw/jobs/search/?ro=0&kwop=7&keyword=data%20analysis%E3%80%81business%20analysis&order=15&asc=0&page=59&mode=s&jobsource=2018indexpoc&searchTempExclude=2\n"
          ]
        },
        {
          "output_type": "stream",
          "name": "stderr",
          "text": [
            "\r 40%|████      | 60/150 [01:39<02:30,  1.68s/it]"
          ]
        },
        {
          "output_type": "stream",
          "name": "stdout",
          "text": [
            "目前爬取頁面是：https://www.104.com.tw/jobs/search/?ro=0&kwop=7&keyword=data%20analysis%E3%80%81business%20analysis&order=15&asc=0&page=60&mode=s&jobsource=2018indexpoc&searchTempExclude=2\n"
          ]
        },
        {
          "output_type": "stream",
          "name": "stderr",
          "text": [
            "\r 41%|████      | 61/150 [01:41<02:29,  1.68s/it]"
          ]
        },
        {
          "output_type": "stream",
          "name": "stdout",
          "text": [
            "目前爬取頁面是：https://www.104.com.tw/jobs/search/?ro=0&kwop=7&keyword=data%20analysis%E3%80%81business%20analysis&order=15&asc=0&page=61&mode=s&jobsource=2018indexpoc&searchTempExclude=2\n"
          ]
        },
        {
          "output_type": "stream",
          "name": "stderr",
          "text": [
            "\r 41%|████▏     | 62/150 [01:43<02:23,  1.63s/it]"
          ]
        },
        {
          "output_type": "stream",
          "name": "stdout",
          "text": [
            "目前爬取頁面是：https://www.104.com.tw/jobs/search/?ro=0&kwop=7&keyword=data%20analysis%E3%80%81business%20analysis&order=15&asc=0&page=62&mode=s&jobsource=2018indexpoc&searchTempExclude=2\n"
          ]
        },
        {
          "output_type": "stream",
          "name": "stderr",
          "text": [
            "\r 42%|████▏     | 63/150 [01:45<02:33,  1.77s/it]"
          ]
        },
        {
          "output_type": "stream",
          "name": "stdout",
          "text": [
            "目前爬取頁面是：https://www.104.com.tw/jobs/search/?ro=0&kwop=7&keyword=data%20analysis%E3%80%81business%20analysis&order=15&asc=0&page=63&mode=s&jobsource=2018indexpoc&searchTempExclude=2\n"
          ]
        },
        {
          "output_type": "stream",
          "name": "stderr",
          "text": [
            "\r 43%|████▎     | 64/150 [01:46<02:26,  1.71s/it]"
          ]
        },
        {
          "output_type": "stream",
          "name": "stdout",
          "text": [
            "目前爬取頁面是：https://www.104.com.tw/jobs/search/?ro=0&kwop=7&keyword=data%20analysis%E3%80%81business%20analysis&order=15&asc=0&page=64&mode=s&jobsource=2018indexpoc&searchTempExclude=2\n"
          ]
        },
        {
          "output_type": "stream",
          "name": "stderr",
          "text": [
            "\r 43%|████▎     | 65/150 [01:48<02:18,  1.64s/it]"
          ]
        },
        {
          "output_type": "stream",
          "name": "stdout",
          "text": [
            "目前爬取頁面是：https://www.104.com.tw/jobs/search/?ro=0&kwop=7&keyword=data%20analysis%E3%80%81business%20analysis&order=15&asc=0&page=65&mode=s&jobsource=2018indexpoc&searchTempExclude=2\n"
          ]
        },
        {
          "output_type": "stream",
          "name": "stderr",
          "text": [
            "\r 44%|████▍     | 66/150 [01:49<02:17,  1.64s/it]"
          ]
        },
        {
          "output_type": "stream",
          "name": "stdout",
          "text": [
            "目前爬取頁面是：https://www.104.com.tw/jobs/search/?ro=0&kwop=7&keyword=data%20analysis%E3%80%81business%20analysis&order=15&asc=0&page=66&mode=s&jobsource=2018indexpoc&searchTempExclude=2\n"
          ]
        },
        {
          "output_type": "stream",
          "name": "stderr",
          "text": [
            "\r 45%|████▍     | 67/150 [01:51<02:14,  1.62s/it]"
          ]
        },
        {
          "output_type": "stream",
          "name": "stdout",
          "text": [
            "目前爬取頁面是：https://www.104.com.tw/jobs/search/?ro=0&kwop=7&keyword=data%20analysis%E3%80%81business%20analysis&order=15&asc=0&page=67&mode=s&jobsource=2018indexpoc&searchTempExclude=2\n"
          ]
        },
        {
          "output_type": "stream",
          "name": "stderr",
          "text": [
            "\r 45%|████▌     | 68/150 [01:53<02:18,  1.68s/it]"
          ]
        },
        {
          "output_type": "stream",
          "name": "stdout",
          "text": [
            "目前爬取頁面是：https://www.104.com.tw/jobs/search/?ro=0&kwop=7&keyword=data%20analysis%E3%80%81business%20analysis&order=15&asc=0&page=68&mode=s&jobsource=2018indexpoc&searchTempExclude=2\n"
          ]
        },
        {
          "output_type": "stream",
          "name": "stderr",
          "text": [
            "\r 46%|████▌     | 69/150 [01:54<02:14,  1.66s/it]"
          ]
        },
        {
          "output_type": "stream",
          "name": "stdout",
          "text": [
            "目前爬取頁面是：https://www.104.com.tw/jobs/search/?ro=0&kwop=7&keyword=data%20analysis%E3%80%81business%20analysis&order=15&asc=0&page=69&mode=s&jobsource=2018indexpoc&searchTempExclude=2\n"
          ]
        },
        {
          "output_type": "stream",
          "name": "stderr",
          "text": [
            "\r 47%|████▋     | 70/150 [01:56<02:12,  1.66s/it]"
          ]
        },
        {
          "output_type": "stream",
          "name": "stdout",
          "text": [
            "目前爬取頁面是：https://www.104.com.tw/jobs/search/?ro=0&kwop=7&keyword=data%20analysis%E3%80%81business%20analysis&order=15&asc=0&page=70&mode=s&jobsource=2018indexpoc&searchTempExclude=2\n"
          ]
        },
        {
          "output_type": "stream",
          "name": "stderr",
          "text": [
            "\r 47%|████▋     | 71/150 [01:58<02:09,  1.64s/it]"
          ]
        },
        {
          "output_type": "stream",
          "name": "stdout",
          "text": [
            "目前爬取頁面是：https://www.104.com.tw/jobs/search/?ro=0&kwop=7&keyword=data%20analysis%E3%80%81business%20analysis&order=15&asc=0&page=71&mode=s&jobsource=2018indexpoc&searchTempExclude=2\n"
          ]
        },
        {
          "output_type": "stream",
          "name": "stderr",
          "text": [
            "\r 48%|████▊     | 72/150 [01:59<02:12,  1.70s/it]"
          ]
        },
        {
          "output_type": "stream",
          "name": "stdout",
          "text": [
            "目前爬取頁面是：https://www.104.com.tw/jobs/search/?ro=0&kwop=7&keyword=data%20analysis%E3%80%81business%20analysis&order=15&asc=0&page=72&mode=s&jobsource=2018indexpoc&searchTempExclude=2\n"
          ]
        },
        {
          "output_type": "stream",
          "name": "stderr",
          "text": [
            "\r 49%|████▊     | 73/150 [02:01<02:06,  1.64s/it]"
          ]
        },
        {
          "output_type": "stream",
          "name": "stdout",
          "text": [
            "目前爬取頁面是：https://www.104.com.tw/jobs/search/?ro=0&kwop=7&keyword=data%20analysis%E3%80%81business%20analysis&order=15&asc=0&page=73&mode=s&jobsource=2018indexpoc&searchTempExclude=2\n"
          ]
        },
        {
          "output_type": "stream",
          "name": "stderr",
          "text": [
            "\r 49%|████▉     | 74/150 [02:03<02:06,  1.66s/it]"
          ]
        },
        {
          "output_type": "stream",
          "name": "stdout",
          "text": [
            "目前爬取頁面是：https://www.104.com.tw/jobs/search/?ro=0&kwop=7&keyword=data%20analysis%E3%80%81business%20analysis&order=15&asc=0&page=74&mode=s&jobsource=2018indexpoc&searchTempExclude=2\n"
          ]
        },
        {
          "output_type": "stream",
          "name": "stderr",
          "text": [
            "\r 50%|█████     | 75/150 [02:04<02:01,  1.62s/it]"
          ]
        },
        {
          "output_type": "stream",
          "name": "stdout",
          "text": [
            "目前爬取頁面是：https://www.104.com.tw/jobs/search/?ro=0&kwop=7&keyword=data%20analysis%E3%80%81business%20analysis&order=15&asc=0&page=75&mode=s&jobsource=2018indexpoc&searchTempExclude=2\n"
          ]
        },
        {
          "output_type": "stream",
          "name": "stderr",
          "text": [
            "\r 51%|█████     | 76/150 [02:06<01:58,  1.60s/it]"
          ]
        },
        {
          "output_type": "stream",
          "name": "stdout",
          "text": [
            "目前爬取頁面是：https://www.104.com.tw/jobs/search/?ro=0&kwop=7&keyword=data%20analysis%E3%80%81business%20analysis&order=15&asc=0&page=76&mode=s&jobsource=2018indexpoc&searchTempExclude=2\n"
          ]
        },
        {
          "output_type": "stream",
          "name": "stderr",
          "text": [
            "\r 51%|█████▏    | 77/150 [02:07<01:57,  1.60s/it]"
          ]
        },
        {
          "output_type": "stream",
          "name": "stdout",
          "text": [
            "目前爬取頁面是：https://www.104.com.tw/jobs/search/?ro=0&kwop=7&keyword=data%20analysis%E3%80%81business%20analysis&order=15&asc=0&page=77&mode=s&jobsource=2018indexpoc&searchTempExclude=2\n"
          ]
        },
        {
          "output_type": "stream",
          "name": "stderr",
          "text": [
            "\r 52%|█████▏    | 78/150 [02:09<01:58,  1.64s/it]"
          ]
        },
        {
          "output_type": "stream",
          "name": "stdout",
          "text": [
            "目前爬取頁面是：https://www.104.com.tw/jobs/search/?ro=0&kwop=7&keyword=data%20analysis%E3%80%81business%20analysis&order=15&asc=0&page=78&mode=s&jobsource=2018indexpoc&searchTempExclude=2\n"
          ]
        },
        {
          "output_type": "stream",
          "name": "stderr",
          "text": [
            "\r 53%|█████▎    | 79/150 [02:11<01:54,  1.62s/it]"
          ]
        },
        {
          "output_type": "stream",
          "name": "stdout",
          "text": [
            "目前爬取頁面是：https://www.104.com.tw/jobs/search/?ro=0&kwop=7&keyword=data%20analysis%E3%80%81business%20analysis&order=15&asc=0&page=79&mode=s&jobsource=2018indexpoc&searchTempExclude=2\n"
          ]
        },
        {
          "output_type": "stream",
          "name": "stderr",
          "text": [
            "\r 53%|█████▎    | 80/150 [02:12<01:51,  1.59s/it]"
          ]
        },
        {
          "output_type": "stream",
          "name": "stdout",
          "text": [
            "目前爬取頁面是：https://www.104.com.tw/jobs/search/?ro=0&kwop=7&keyword=data%20analysis%E3%80%81business%20analysis&order=15&asc=0&page=80&mode=s&jobsource=2018indexpoc&searchTempExclude=2\n"
          ]
        },
        {
          "output_type": "stream",
          "name": "stderr",
          "text": [
            "\r 54%|█████▍    | 81/150 [02:14<01:50,  1.60s/it]"
          ]
        },
        {
          "output_type": "stream",
          "name": "stdout",
          "text": [
            "目前爬取頁面是：https://www.104.com.tw/jobs/search/?ro=0&kwop=7&keyword=data%20analysis%E3%80%81business%20analysis&order=15&asc=0&page=81&mode=s&jobsource=2018indexpoc&searchTempExclude=2\n"
          ]
        },
        {
          "output_type": "stream",
          "name": "stderr",
          "text": [
            "\r 55%|█████▍    | 82/150 [02:15<01:47,  1.59s/it]"
          ]
        },
        {
          "output_type": "stream",
          "name": "stdout",
          "text": [
            "目前爬取頁面是：https://www.104.com.tw/jobs/search/?ro=0&kwop=7&keyword=data%20analysis%E3%80%81business%20analysis&order=15&asc=0&page=82&mode=s&jobsource=2018indexpoc&searchTempExclude=2\n"
          ]
        },
        {
          "output_type": "stream",
          "name": "stderr",
          "text": [
            "\r 55%|█████▌    | 83/150 [02:17<01:45,  1.58s/it]"
          ]
        },
        {
          "output_type": "stream",
          "name": "stdout",
          "text": [
            "目前爬取頁面是：https://www.104.com.tw/jobs/search/?ro=0&kwop=7&keyword=data%20analysis%E3%80%81business%20analysis&order=15&asc=0&page=83&mode=s&jobsource=2018indexpoc&searchTempExclude=2\n"
          ]
        },
        {
          "output_type": "stream",
          "name": "stderr",
          "text": [
            "\r 56%|█████▌    | 84/150 [02:19<01:46,  1.61s/it]"
          ]
        },
        {
          "output_type": "stream",
          "name": "stdout",
          "text": [
            "目前爬取頁面是：https://www.104.com.tw/jobs/search/?ro=0&kwop=7&keyword=data%20analysis%E3%80%81business%20analysis&order=15&asc=0&page=84&mode=s&jobsource=2018indexpoc&searchTempExclude=2\n"
          ]
        },
        {
          "output_type": "stream",
          "name": "stderr",
          "text": [
            "\r 57%|█████▋    | 85/150 [02:20<01:46,  1.64s/it]"
          ]
        },
        {
          "output_type": "stream",
          "name": "stdout",
          "text": [
            "目前爬取頁面是：https://www.104.com.tw/jobs/search/?ro=0&kwop=7&keyword=data%20analysis%E3%80%81business%20analysis&order=15&asc=0&page=85&mode=s&jobsource=2018indexpoc&searchTempExclude=2\n"
          ]
        },
        {
          "output_type": "stream",
          "name": "stderr",
          "text": [
            "\r 57%|█████▋    | 86/150 [02:22<01:44,  1.64s/it]"
          ]
        },
        {
          "output_type": "stream",
          "name": "stdout",
          "text": [
            "目前爬取頁面是：https://www.104.com.tw/jobs/search/?ro=0&kwop=7&keyword=data%20analysis%E3%80%81business%20analysis&order=15&asc=0&page=86&mode=s&jobsource=2018indexpoc&searchTempExclude=2\n"
          ]
        },
        {
          "output_type": "stream",
          "name": "stderr",
          "text": [
            "\r 58%|█████▊    | 87/150 [02:24<01:43,  1.64s/it]"
          ]
        },
        {
          "output_type": "stream",
          "name": "stdout",
          "text": [
            "目前爬取頁面是：https://www.104.com.tw/jobs/search/?ro=0&kwop=7&keyword=data%20analysis%E3%80%81business%20analysis&order=15&asc=0&page=87&mode=s&jobsource=2018indexpoc&searchTempExclude=2\n"
          ]
        },
        {
          "output_type": "stream",
          "name": "stderr",
          "text": [
            "\r 59%|█████▊    | 88/150 [02:25<01:42,  1.66s/it]"
          ]
        },
        {
          "output_type": "stream",
          "name": "stdout",
          "text": [
            "目前爬取頁面是：https://www.104.com.tw/jobs/search/?ro=0&kwop=7&keyword=data%20analysis%E3%80%81business%20analysis&order=15&asc=0&page=88&mode=s&jobsource=2018indexpoc&searchTempExclude=2\n"
          ]
        },
        {
          "output_type": "stream",
          "name": "stderr",
          "text": [
            "\r 59%|█████▉    | 89/150 [02:27<01:41,  1.66s/it]"
          ]
        },
        {
          "output_type": "stream",
          "name": "stdout",
          "text": [
            "目前爬取頁面是：https://www.104.com.tw/jobs/search/?ro=0&kwop=7&keyword=data%20analysis%E3%80%81business%20analysis&order=15&asc=0&page=89&mode=s&jobsource=2018indexpoc&searchTempExclude=2\n"
          ]
        },
        {
          "output_type": "stream",
          "name": "stderr",
          "text": [
            "\r 60%|██████    | 90/150 [02:28<01:37,  1.62s/it]"
          ]
        },
        {
          "output_type": "stream",
          "name": "stdout",
          "text": [
            "目前爬取頁面是：https://www.104.com.tw/jobs/search/?ro=0&kwop=7&keyword=data%20analysis%E3%80%81business%20analysis&order=15&asc=0&page=90&mode=s&jobsource=2018indexpoc&searchTempExclude=2\n"
          ]
        },
        {
          "output_type": "stream",
          "name": "stderr",
          "text": [
            "\r 61%|██████    | 91/150 [02:30<01:34,  1.59s/it]"
          ]
        },
        {
          "output_type": "stream",
          "name": "stdout",
          "text": [
            "目前爬取頁面是：https://www.104.com.tw/jobs/search/?ro=0&kwop=7&keyword=data%20analysis%E3%80%81business%20analysis&order=15&asc=0&page=91&mode=s&jobsource=2018indexpoc&searchTempExclude=2\n"
          ]
        },
        {
          "output_type": "stream",
          "name": "stderr",
          "text": [
            "\r 61%|██████▏   | 92/150 [02:32<01:35,  1.65s/it]"
          ]
        },
        {
          "output_type": "stream",
          "name": "stdout",
          "text": [
            "目前爬取頁面是：https://www.104.com.tw/jobs/search/?ro=0&kwop=7&keyword=data%20analysis%E3%80%81business%20analysis&order=15&asc=0&page=92&mode=s&jobsource=2018indexpoc&searchTempExclude=2\n"
          ]
        },
        {
          "output_type": "stream",
          "name": "stderr",
          "text": [
            "\r 62%|██████▏   | 93/150 [02:33<01:32,  1.62s/it]"
          ]
        },
        {
          "output_type": "stream",
          "name": "stdout",
          "text": [
            "目前爬取頁面是：https://www.104.com.tw/jobs/search/?ro=0&kwop=7&keyword=data%20analysis%E3%80%81business%20analysis&order=15&asc=0&page=93&mode=s&jobsource=2018indexpoc&searchTempExclude=2\n"
          ]
        },
        {
          "output_type": "stream",
          "name": "stderr",
          "text": [
            "\r 63%|██████▎   | 94/150 [02:35<01:30,  1.62s/it]"
          ]
        },
        {
          "output_type": "stream",
          "name": "stdout",
          "text": [
            "目前爬取頁面是：https://www.104.com.tw/jobs/search/?ro=0&kwop=7&keyword=data%20analysis%E3%80%81business%20analysis&order=15&asc=0&page=94&mode=s&jobsource=2018indexpoc&searchTempExclude=2\n"
          ]
        },
        {
          "output_type": "stream",
          "name": "stderr",
          "text": [
            "\r 63%|██████▎   | 95/150 [02:37<01:36,  1.76s/it]"
          ]
        },
        {
          "output_type": "stream",
          "name": "stdout",
          "text": [
            "目前爬取頁面是：https://www.104.com.tw/jobs/search/?ro=0&kwop=7&keyword=data%20analysis%E3%80%81business%20analysis&order=15&asc=0&page=95&mode=s&jobsource=2018indexpoc&searchTempExclude=2\n"
          ]
        },
        {
          "output_type": "stream",
          "name": "stderr",
          "text": [
            "\r 64%|██████▍   | 96/150 [02:39<01:32,  1.72s/it]"
          ]
        },
        {
          "output_type": "stream",
          "name": "stdout",
          "text": [
            "目前爬取頁面是：https://www.104.com.tw/jobs/search/?ro=0&kwop=7&keyword=data%20analysis%E3%80%81business%20analysis&order=15&asc=0&page=96&mode=s&jobsource=2018indexpoc&searchTempExclude=2\n"
          ]
        },
        {
          "output_type": "stream",
          "name": "stderr",
          "text": [
            "\r 65%|██████▍   | 97/150 [02:40<01:30,  1.70s/it]"
          ]
        },
        {
          "output_type": "stream",
          "name": "stdout",
          "text": [
            "目前爬取頁面是：https://www.104.com.tw/jobs/search/?ro=0&kwop=7&keyword=data%20analysis%E3%80%81business%20analysis&order=15&asc=0&page=97&mode=s&jobsource=2018indexpoc&searchTempExclude=2\n"
          ]
        },
        {
          "output_type": "stream",
          "name": "stderr",
          "text": [
            "\r 65%|██████▌   | 98/150 [02:42<01:27,  1.69s/it]"
          ]
        },
        {
          "output_type": "stream",
          "name": "stdout",
          "text": [
            "目前爬取頁面是：https://www.104.com.tw/jobs/search/?ro=0&kwop=7&keyword=data%20analysis%E3%80%81business%20analysis&order=15&asc=0&page=98&mode=s&jobsource=2018indexpoc&searchTempExclude=2\n"
          ]
        },
        {
          "output_type": "stream",
          "name": "stderr",
          "text": [
            "\r 66%|██████▌   | 99/150 [02:44<01:25,  1.68s/it]"
          ]
        },
        {
          "output_type": "stream",
          "name": "stdout",
          "text": [
            "目前爬取頁面是：https://www.104.com.tw/jobs/search/?ro=0&kwop=7&keyword=data%20analysis%E3%80%81business%20analysis&order=15&asc=0&page=99&mode=s&jobsource=2018indexpoc&searchTempExclude=2\n"
          ]
        },
        {
          "output_type": "stream",
          "name": "stderr",
          "text": [
            "\r 67%|██████▋   | 100/150 [02:45<01:22,  1.65s/it]"
          ]
        },
        {
          "output_type": "stream",
          "name": "stdout",
          "text": [
            "目前爬取頁面是：https://www.104.com.tw/jobs/search/?ro=0&kwop=7&keyword=data%20analysis%E3%80%81business%20analysis&order=15&asc=0&page=100&mode=s&jobsource=2018indexpoc&searchTempExclude=2\n"
          ]
        },
        {
          "output_type": "stream",
          "name": "stderr",
          "text": [
            "\r 67%|██████▋   | 101/150 [02:47<01:18,  1.60s/it]"
          ]
        },
        {
          "output_type": "stream",
          "name": "stdout",
          "text": [
            "目前爬取頁面是：https://www.104.com.tw/jobs/search/?ro=0&kwop=7&keyword=data%20analysis%E3%80%81business%20analysis&order=15&asc=0&page=101&mode=s&jobsource=2018indexpoc&searchTempExclude=2\n"
          ]
        },
        {
          "output_type": "stream",
          "name": "stderr",
          "text": [
            "\r 68%|██████▊   | 102/150 [02:48<01:16,  1.60s/it]"
          ]
        },
        {
          "output_type": "stream",
          "name": "stdout",
          "text": [
            "目前爬取頁面是：https://www.104.com.tw/jobs/search/?ro=0&kwop=7&keyword=data%20analysis%E3%80%81business%20analysis&order=15&asc=0&page=102&mode=s&jobsource=2018indexpoc&searchTempExclude=2\n"
          ]
        },
        {
          "output_type": "stream",
          "name": "stderr",
          "text": [
            "\r 69%|██████▊   | 103/150 [02:50<01:17,  1.65s/it]"
          ]
        },
        {
          "output_type": "stream",
          "name": "stdout",
          "text": [
            "目前爬取頁面是：https://www.104.com.tw/jobs/search/?ro=0&kwop=7&keyword=data%20analysis%E3%80%81business%20analysis&order=15&asc=0&page=103&mode=s&jobsource=2018indexpoc&searchTempExclude=2\n"
          ]
        },
        {
          "output_type": "stream",
          "name": "stderr",
          "text": [
            "\r 69%|██████▉   | 104/150 [02:52<01:16,  1.66s/it]"
          ]
        },
        {
          "output_type": "stream",
          "name": "stdout",
          "text": [
            "目前爬取頁面是：https://www.104.com.tw/jobs/search/?ro=0&kwop=7&keyword=data%20analysis%E3%80%81business%20analysis&order=15&asc=0&page=104&mode=s&jobsource=2018indexpoc&searchTempExclude=2\n"
          ]
        },
        {
          "output_type": "stream",
          "name": "stderr",
          "text": [
            "\r 70%|███████   | 105/150 [02:53<01:12,  1.62s/it]"
          ]
        },
        {
          "output_type": "stream",
          "name": "stdout",
          "text": [
            "目前爬取頁面是：https://www.104.com.tw/jobs/search/?ro=0&kwop=7&keyword=data%20analysis%E3%80%81business%20analysis&order=15&asc=0&page=105&mode=s&jobsource=2018indexpoc&searchTempExclude=2\n"
          ]
        },
        {
          "output_type": "stream",
          "name": "stderr",
          "text": [
            "\r 71%|███████   | 106/150 [02:55<01:10,  1.61s/it]"
          ]
        },
        {
          "output_type": "stream",
          "name": "stdout",
          "text": [
            "目前爬取頁面是：https://www.104.com.tw/jobs/search/?ro=0&kwop=7&keyword=data%20analysis%E3%80%81business%20analysis&order=15&asc=0&page=106&mode=s&jobsource=2018indexpoc&searchTempExclude=2\n"
          ]
        },
        {
          "output_type": "stream",
          "name": "stderr",
          "text": [
            "\r 71%|███████▏  | 107/150 [02:58<01:23,  1.93s/it]"
          ]
        },
        {
          "output_type": "stream",
          "name": "stdout",
          "text": [
            "目前爬取頁面是：https://www.104.com.tw/jobs/search/?ro=0&kwop=7&keyword=data%20analysis%E3%80%81business%20analysis&order=15&asc=0&page=107&mode=s&jobsource=2018indexpoc&searchTempExclude=2\n"
          ]
        },
        {
          "output_type": "stream",
          "name": "stderr",
          "text": [
            "\r 72%|███████▏  | 108/150 [02:59<01:16,  1.81s/it]"
          ]
        },
        {
          "output_type": "stream",
          "name": "stdout",
          "text": [
            "目前爬取頁面是：https://www.104.com.tw/jobs/search/?ro=0&kwop=7&keyword=data%20analysis%E3%80%81business%20analysis&order=15&asc=0&page=108&mode=s&jobsource=2018indexpoc&searchTempExclude=2\n"
          ]
        },
        {
          "output_type": "stream",
          "name": "stderr",
          "text": [
            "\r 73%|███████▎  | 109/150 [03:01<01:11,  1.74s/it]"
          ]
        },
        {
          "output_type": "stream",
          "name": "stdout",
          "text": [
            "目前爬取頁面是：https://www.104.com.tw/jobs/search/?ro=0&kwop=7&keyword=data%20analysis%E3%80%81business%20analysis&order=15&asc=0&page=109&mode=s&jobsource=2018indexpoc&searchTempExclude=2\n"
          ]
        },
        {
          "output_type": "stream",
          "name": "stderr",
          "text": [
            "\r 73%|███████▎  | 110/150 [03:02<01:08,  1.72s/it]"
          ]
        },
        {
          "output_type": "stream",
          "name": "stdout",
          "text": [
            "目前爬取頁面是：https://www.104.com.tw/jobs/search/?ro=0&kwop=7&keyword=data%20analysis%E3%80%81business%20analysis&order=15&asc=0&page=110&mode=s&jobsource=2018indexpoc&searchTempExclude=2\n"
          ]
        },
        {
          "output_type": "stream",
          "name": "stderr",
          "text": [
            "\r 74%|███████▍  | 111/150 [03:04<01:07,  1.74s/it]"
          ]
        },
        {
          "output_type": "stream",
          "name": "stdout",
          "text": [
            "目前爬取頁面是：https://www.104.com.tw/jobs/search/?ro=0&kwop=7&keyword=data%20analysis%E3%80%81business%20analysis&order=15&asc=0&page=111&mode=s&jobsource=2018indexpoc&searchTempExclude=2\n"
          ]
        },
        {
          "output_type": "stream",
          "name": "stderr",
          "text": [
            "\r 75%|███████▍  | 112/150 [03:06<01:05,  1.72s/it]"
          ]
        },
        {
          "output_type": "stream",
          "name": "stdout",
          "text": [
            "目前爬取頁面是：https://www.104.com.tw/jobs/search/?ro=0&kwop=7&keyword=data%20analysis%E3%80%81business%20analysis&order=15&asc=0&page=112&mode=s&jobsource=2018indexpoc&searchTempExclude=2\n"
          ]
        },
        {
          "output_type": "stream",
          "name": "stderr",
          "text": [
            "\r 75%|███████▌  | 113/150 [03:07<01:01,  1.65s/it]"
          ]
        },
        {
          "output_type": "stream",
          "name": "stdout",
          "text": [
            "目前爬取頁面是：https://www.104.com.tw/jobs/search/?ro=0&kwop=7&keyword=data%20analysis%E3%80%81business%20analysis&order=15&asc=0&page=113&mode=s&jobsource=2018indexpoc&searchTempExclude=2\n"
          ]
        },
        {
          "output_type": "stream",
          "name": "stderr",
          "text": [
            "\r 76%|███████▌  | 114/150 [03:09<00:58,  1.62s/it]"
          ]
        },
        {
          "output_type": "stream",
          "name": "stdout",
          "text": [
            "目前爬取頁面是：https://www.104.com.tw/jobs/search/?ro=0&kwop=7&keyword=data%20analysis%E3%80%81business%20analysis&order=15&asc=0&page=114&mode=s&jobsource=2018indexpoc&searchTempExclude=2\n"
          ]
        },
        {
          "output_type": "stream",
          "name": "stderr",
          "text": [
            "\r 77%|███████▋  | 115/150 [03:10<00:55,  1.59s/it]"
          ]
        },
        {
          "output_type": "stream",
          "name": "stdout",
          "text": [
            "目前爬取頁面是：https://www.104.com.tw/jobs/search/?ro=0&kwop=7&keyword=data%20analysis%E3%80%81business%20analysis&order=15&asc=0&page=115&mode=s&jobsource=2018indexpoc&searchTempExclude=2\n"
          ]
        },
        {
          "output_type": "stream",
          "name": "stderr",
          "text": [
            "\r 77%|███████▋  | 116/150 [03:12<00:55,  1.64s/it]"
          ]
        },
        {
          "output_type": "stream",
          "name": "stdout",
          "text": [
            "目前爬取頁面是：https://www.104.com.tw/jobs/search/?ro=0&kwop=7&keyword=data%20analysis%E3%80%81business%20analysis&order=15&asc=0&page=116&mode=s&jobsource=2018indexpoc&searchTempExclude=2\n"
          ]
        },
        {
          "output_type": "stream",
          "name": "stderr",
          "text": [
            "\r 78%|███████▊  | 117/150 [03:14<00:53,  1.63s/it]"
          ]
        },
        {
          "output_type": "stream",
          "name": "stdout",
          "text": [
            "目前爬取頁面是：https://www.104.com.tw/jobs/search/?ro=0&kwop=7&keyword=data%20analysis%E3%80%81business%20analysis&order=15&asc=0&page=117&mode=s&jobsource=2018indexpoc&searchTempExclude=2\n"
          ]
        },
        {
          "output_type": "stream",
          "name": "stderr",
          "text": [
            "\r 79%|███████▊  | 118/150 [03:16<00:56,  1.76s/it]"
          ]
        },
        {
          "output_type": "stream",
          "name": "stdout",
          "text": [
            "目前爬取頁面是：https://www.104.com.tw/jobs/search/?ro=0&kwop=7&keyword=data%20analysis%E3%80%81business%20analysis&order=15&asc=0&page=118&mode=s&jobsource=2018indexpoc&searchTempExclude=2\n"
          ]
        },
        {
          "output_type": "stream",
          "name": "stderr",
          "text": [
            "\r 79%|███████▉  | 119/150 [03:17<00:53,  1.73s/it]"
          ]
        },
        {
          "output_type": "stream",
          "name": "stdout",
          "text": [
            "目前爬取頁面是：https://www.104.com.tw/jobs/search/?ro=0&kwop=7&keyword=data%20analysis%E3%80%81business%20analysis&order=15&asc=0&page=119&mode=s&jobsource=2018indexpoc&searchTempExclude=2\n"
          ]
        },
        {
          "output_type": "stream",
          "name": "stderr",
          "text": [
            "\r 80%|████████  | 120/150 [03:19<00:50,  1.69s/it]"
          ]
        },
        {
          "output_type": "stream",
          "name": "stdout",
          "text": [
            "目前爬取頁面是：https://www.104.com.tw/jobs/search/?ro=0&kwop=7&keyword=data%20analysis%E3%80%81business%20analysis&order=15&asc=0&page=120&mode=s&jobsource=2018indexpoc&searchTempExclude=2\n"
          ]
        },
        {
          "output_type": "stream",
          "name": "stderr",
          "text": [
            "\r 81%|████████  | 121/150 [03:21<00:47,  1.65s/it]"
          ]
        },
        {
          "output_type": "stream",
          "name": "stdout",
          "text": [
            "目前爬取頁面是：https://www.104.com.tw/jobs/search/?ro=0&kwop=7&keyword=data%20analysis%E3%80%81business%20analysis&order=15&asc=0&page=121&mode=s&jobsource=2018indexpoc&searchTempExclude=2\n"
          ]
        },
        {
          "output_type": "stream",
          "name": "stderr",
          "text": [
            "\r 81%|████████▏ | 122/150 [03:22<00:47,  1.71s/it]"
          ]
        },
        {
          "output_type": "stream",
          "name": "stdout",
          "text": [
            "目前爬取頁面是：https://www.104.com.tw/jobs/search/?ro=0&kwop=7&keyword=data%20analysis%E3%80%81business%20analysis&order=15&asc=0&page=122&mode=s&jobsource=2018indexpoc&searchTempExclude=2\n"
          ]
        },
        {
          "output_type": "stream",
          "name": "stderr",
          "text": [
            "\r 82%|████████▏ | 123/150 [03:24<00:44,  1.63s/it]"
          ]
        },
        {
          "output_type": "stream",
          "name": "stdout",
          "text": [
            "目前爬取頁面是：https://www.104.com.tw/jobs/search/?ro=0&kwop=7&keyword=data%20analysis%E3%80%81business%20analysis&order=15&asc=0&page=123&mode=s&jobsource=2018indexpoc&searchTempExclude=2\n"
          ]
        },
        {
          "output_type": "stream",
          "name": "stderr",
          "text": [
            "\r 83%|████████▎ | 124/150 [03:25<00:41,  1.61s/it]"
          ]
        },
        {
          "output_type": "stream",
          "name": "stdout",
          "text": [
            "目前爬取頁面是：https://www.104.com.tw/jobs/search/?ro=0&kwop=7&keyword=data%20analysis%E3%80%81business%20analysis&order=15&asc=0&page=124&mode=s&jobsource=2018indexpoc&searchTempExclude=2\n"
          ]
        },
        {
          "output_type": "stream",
          "name": "stderr",
          "text": [
            "\r 83%|████████▎ | 125/150 [03:27<00:41,  1.65s/it]"
          ]
        },
        {
          "output_type": "stream",
          "name": "stdout",
          "text": [
            "目前爬取頁面是：https://www.104.com.tw/jobs/search/?ro=0&kwop=7&keyword=data%20analysis%E3%80%81business%20analysis&order=15&asc=0&page=125&mode=s&jobsource=2018indexpoc&searchTempExclude=2\n"
          ]
        },
        {
          "output_type": "stream",
          "name": "stderr",
          "text": [
            "\r 84%|████████▍ | 126/150 [03:29<00:39,  1.65s/it]"
          ]
        },
        {
          "output_type": "stream",
          "name": "stdout",
          "text": [
            "目前爬取頁面是：https://www.104.com.tw/jobs/search/?ro=0&kwop=7&keyword=data%20analysis%E3%80%81business%20analysis&order=15&asc=0&page=126&mode=s&jobsource=2018indexpoc&searchTempExclude=2\n"
          ]
        },
        {
          "output_type": "stream",
          "name": "stderr",
          "text": [
            "\r 85%|████████▍ | 127/150 [03:30<00:36,  1.60s/it]"
          ]
        },
        {
          "output_type": "stream",
          "name": "stdout",
          "text": [
            "目前爬取頁面是：https://www.104.com.tw/jobs/search/?ro=0&kwop=7&keyword=data%20analysis%E3%80%81business%20analysis&order=15&asc=0&page=127&mode=s&jobsource=2018indexpoc&searchTempExclude=2\n"
          ]
        },
        {
          "output_type": "stream",
          "name": "stderr",
          "text": [
            "\r 85%|████████▌ | 128/150 [03:32<00:36,  1.64s/it]"
          ]
        },
        {
          "output_type": "stream",
          "name": "stdout",
          "text": [
            "目前爬取頁面是：https://www.104.com.tw/jobs/search/?ro=0&kwop=7&keyword=data%20analysis%E3%80%81business%20analysis&order=15&asc=0&page=128&mode=s&jobsource=2018indexpoc&searchTempExclude=2\n"
          ]
        },
        {
          "output_type": "stream",
          "name": "stderr",
          "text": [
            "\r 86%|████████▌ | 129/150 [03:34<00:34,  1.63s/it]"
          ]
        },
        {
          "output_type": "stream",
          "name": "stdout",
          "text": [
            "目前爬取頁面是：https://www.104.com.tw/jobs/search/?ro=0&kwop=7&keyword=data%20analysis%E3%80%81business%20analysis&order=15&asc=0&page=129&mode=s&jobsource=2018indexpoc&searchTempExclude=2\n"
          ]
        },
        {
          "output_type": "stream",
          "name": "stderr",
          "text": [
            "\r 87%|████████▋ | 130/150 [03:35<00:33,  1.67s/it]"
          ]
        },
        {
          "output_type": "stream",
          "name": "stdout",
          "text": [
            "目前爬取頁面是：https://www.104.com.tw/jobs/search/?ro=0&kwop=7&keyword=data%20analysis%E3%80%81business%20analysis&order=15&asc=0&page=130&mode=s&jobsource=2018indexpoc&searchTempExclude=2\n"
          ]
        },
        {
          "output_type": "stream",
          "name": "stderr",
          "text": [
            "\r 87%|████████▋ | 131/150 [03:37<00:31,  1.64s/it]"
          ]
        },
        {
          "output_type": "stream",
          "name": "stdout",
          "text": [
            "目前爬取頁面是：https://www.104.com.tw/jobs/search/?ro=0&kwop=7&keyword=data%20analysis%E3%80%81business%20analysis&order=15&asc=0&page=131&mode=s&jobsource=2018indexpoc&searchTempExclude=2\n"
          ]
        },
        {
          "output_type": "stream",
          "name": "stderr",
          "text": [
            "\r 88%|████████▊ | 132/150 [03:39<00:28,  1.60s/it]"
          ]
        },
        {
          "output_type": "stream",
          "name": "stdout",
          "text": [
            "目前爬取頁面是：https://www.104.com.tw/jobs/search/?ro=0&kwop=7&keyword=data%20analysis%E3%80%81business%20analysis&order=15&asc=0&page=132&mode=s&jobsource=2018indexpoc&searchTempExclude=2\n"
          ]
        },
        {
          "output_type": "stream",
          "name": "stderr",
          "text": [
            "\r 89%|████████▊ | 133/150 [03:40<00:27,  1.61s/it]"
          ]
        },
        {
          "output_type": "stream",
          "name": "stdout",
          "text": [
            "目前爬取頁面是：https://www.104.com.tw/jobs/search/?ro=0&kwop=7&keyword=data%20analysis%E3%80%81business%20analysis&order=15&asc=0&page=133&mode=s&jobsource=2018indexpoc&searchTempExclude=2\n"
          ]
        },
        {
          "output_type": "stream",
          "name": "stderr",
          "text": [
            "\r 89%|████████▉ | 134/150 [03:42<00:26,  1.68s/it]"
          ]
        },
        {
          "output_type": "stream",
          "name": "stdout",
          "text": [
            "目前爬取頁面是：https://www.104.com.tw/jobs/search/?ro=0&kwop=7&keyword=data%20analysis%E3%80%81business%20analysis&order=15&asc=0&page=134&mode=s&jobsource=2018indexpoc&searchTempExclude=2\n"
          ]
        },
        {
          "output_type": "stream",
          "name": "stderr",
          "text": [
            "\r 90%|█████████ | 135/150 [03:44<00:24,  1.64s/it]"
          ]
        },
        {
          "output_type": "stream",
          "name": "stdout",
          "text": [
            "目前爬取頁面是：https://www.104.com.tw/jobs/search/?ro=0&kwop=7&keyword=data%20analysis%E3%80%81business%20analysis&order=15&asc=0&page=135&mode=s&jobsource=2018indexpoc&searchTempExclude=2\n"
          ]
        },
        {
          "output_type": "stream",
          "name": "stderr",
          "text": [
            "\r 91%|█████████ | 136/150 [03:45<00:23,  1.65s/it]"
          ]
        },
        {
          "output_type": "stream",
          "name": "stdout",
          "text": [
            "目前爬取頁面是：https://www.104.com.tw/jobs/search/?ro=0&kwop=7&keyword=data%20analysis%E3%80%81business%20analysis&order=15&asc=0&page=136&mode=s&jobsource=2018indexpoc&searchTempExclude=2\n"
          ]
        },
        {
          "output_type": "stream",
          "name": "stderr",
          "text": [
            "\r 91%|█████████▏| 137/150 [03:47<00:21,  1.69s/it]"
          ]
        },
        {
          "output_type": "stream",
          "name": "stdout",
          "text": [
            "目前爬取頁面是：https://www.104.com.tw/jobs/search/?ro=0&kwop=7&keyword=data%20analysis%E3%80%81business%20analysis&order=15&asc=0&page=137&mode=s&jobsource=2018indexpoc&searchTempExclude=2\n"
          ]
        },
        {
          "output_type": "stream",
          "name": "stderr",
          "text": [
            "\r 92%|█████████▏| 138/150 [03:49<00:19,  1.64s/it]"
          ]
        },
        {
          "output_type": "stream",
          "name": "stdout",
          "text": [
            "目前爬取頁面是：https://www.104.com.tw/jobs/search/?ro=0&kwop=7&keyword=data%20analysis%E3%80%81business%20analysis&order=15&asc=0&page=138&mode=s&jobsource=2018indexpoc&searchTempExclude=2\n"
          ]
        },
        {
          "output_type": "stream",
          "name": "stderr",
          "text": [
            "\r 93%|█████████▎| 139/150 [03:50<00:17,  1.61s/it]"
          ]
        },
        {
          "output_type": "stream",
          "name": "stdout",
          "text": [
            "目前爬取頁面是：https://www.104.com.tw/jobs/search/?ro=0&kwop=7&keyword=data%20analysis%E3%80%81business%20analysis&order=15&asc=0&page=139&mode=s&jobsource=2018indexpoc&searchTempExclude=2\n"
          ]
        },
        {
          "output_type": "stream",
          "name": "stderr",
          "text": [
            "\r 93%|█████████▎| 140/150 [03:52<00:16,  1.62s/it]"
          ]
        },
        {
          "output_type": "stream",
          "name": "stdout",
          "text": [
            "目前爬取頁面是：https://www.104.com.tw/jobs/search/?ro=0&kwop=7&keyword=data%20analysis%E3%80%81business%20analysis&order=15&asc=0&page=140&mode=s&jobsource=2018indexpoc&searchTempExclude=2\n"
          ]
        },
        {
          "output_type": "stream",
          "name": "stderr",
          "text": [
            "\r 94%|█████████▍| 141/150 [03:54<00:15,  1.75s/it]"
          ]
        },
        {
          "output_type": "stream",
          "name": "stdout",
          "text": [
            "目前爬取頁面是：https://www.104.com.tw/jobs/search/?ro=0&kwop=7&keyword=data%20analysis%E3%80%81business%20analysis&order=15&asc=0&page=141&mode=s&jobsource=2018indexpoc&searchTempExclude=2\n"
          ]
        },
        {
          "output_type": "stream",
          "name": "stderr",
          "text": [
            "\r 95%|█████████▍| 142/150 [03:55<00:13,  1.69s/it]"
          ]
        },
        {
          "output_type": "stream",
          "name": "stdout",
          "text": [
            "目前爬取頁面是：https://www.104.com.tw/jobs/search/?ro=0&kwop=7&keyword=data%20analysis%E3%80%81business%20analysis&order=15&asc=0&page=142&mode=s&jobsource=2018indexpoc&searchTempExclude=2\n"
          ]
        },
        {
          "output_type": "stream",
          "name": "stderr",
          "text": [
            "\r 95%|█████████▌| 143/150 [03:57<00:11,  1.69s/it]"
          ]
        },
        {
          "output_type": "stream",
          "name": "stdout",
          "text": [
            "目前爬取頁面是：https://www.104.com.tw/jobs/search/?ro=0&kwop=7&keyword=data%20analysis%E3%80%81business%20analysis&order=15&asc=0&page=143&mode=s&jobsource=2018indexpoc&searchTempExclude=2\n"
          ]
        },
        {
          "output_type": "stream",
          "name": "stderr",
          "text": [
            "\r 96%|█████████▌| 144/150 [03:59<00:10,  1.67s/it]"
          ]
        },
        {
          "output_type": "stream",
          "name": "stdout",
          "text": [
            "目前爬取頁面是：https://www.104.com.tw/jobs/search/?ro=0&kwop=7&keyword=data%20analysis%E3%80%81business%20analysis&order=15&asc=0&page=144&mode=s&jobsource=2018indexpoc&searchTempExclude=2\n"
          ]
        },
        {
          "output_type": "stream",
          "name": "stderr",
          "text": [
            "\r 97%|█████████▋| 145/150 [04:00<00:08,  1.63s/it]"
          ]
        },
        {
          "output_type": "stream",
          "name": "stdout",
          "text": [
            "目前爬取頁面是：https://www.104.com.tw/jobs/search/?ro=0&kwop=7&keyword=data%20analysis%E3%80%81business%20analysis&order=15&asc=0&page=145&mode=s&jobsource=2018indexpoc&searchTempExclude=2\n"
          ]
        },
        {
          "output_type": "stream",
          "name": "stderr",
          "text": [
            "\r 97%|█████████▋| 146/150 [04:02<00:06,  1.68s/it]"
          ]
        },
        {
          "output_type": "stream",
          "name": "stdout",
          "text": [
            "目前爬取頁面是：https://www.104.com.tw/jobs/search/?ro=0&kwop=7&keyword=data%20analysis%E3%80%81business%20analysis&order=15&asc=0&page=146&mode=s&jobsource=2018indexpoc&searchTempExclude=2\n"
          ]
        },
        {
          "output_type": "stream",
          "name": "stderr",
          "text": [
            "\r 98%|█████████▊| 147/150 [04:04<00:04,  1.64s/it]"
          ]
        },
        {
          "output_type": "stream",
          "name": "stdout",
          "text": [
            "目前爬取頁面是：https://www.104.com.tw/jobs/search/?ro=0&kwop=7&keyword=data%20analysis%E3%80%81business%20analysis&order=15&asc=0&page=147&mode=s&jobsource=2018indexpoc&searchTempExclude=2\n"
          ]
        },
        {
          "output_type": "stream",
          "name": "stderr",
          "text": [
            "\r 99%|█████████▊| 148/150 [04:05<00:03,  1.61s/it]"
          ]
        },
        {
          "output_type": "stream",
          "name": "stdout",
          "text": [
            "目前爬取頁面是：https://www.104.com.tw/jobs/search/?ro=0&kwop=7&keyword=data%20analysis%E3%80%81business%20analysis&order=15&asc=0&page=148&mode=s&jobsource=2018indexpoc&searchTempExclude=2\n"
          ]
        },
        {
          "output_type": "stream",
          "name": "stderr",
          "text": [
            "\r 99%|█████████▉| 149/150 [04:07<00:01,  1.61s/it]"
          ]
        },
        {
          "output_type": "stream",
          "name": "stdout",
          "text": [
            "目前爬取頁面是：https://www.104.com.tw/jobs/search/?ro=0&kwop=7&keyword=data%20analysis%E3%80%81business%20analysis&order=15&asc=0&page=149&mode=s&jobsource=2018indexpoc&searchTempExclude=2\n"
          ]
        },
        {
          "output_type": "stream",
          "name": "stderr",
          "text": [
            "100%|██████████| 150/150 [04:08<00:00,  1.66s/it]"
          ]
        },
        {
          "output_type": "stream",
          "name": "stdout",
          "text": [
            "目前爬取頁面是：https://www.104.com.tw/jobs/search/?ro=0&kwop=7&keyword=data%20analysis%E3%80%81business%20analysis&order=15&asc=0&page=150&mode=s&jobsource=2018indexpoc&searchTempExclude=2\n",
            "爬取104完成：請開啟csv檔案\n"
          ]
        },
        {
          "output_type": "stream",
          "name": "stderr",
          "text": [
            "\n"
          ]
        },
        {
          "output_type": "error",
          "ename": "IndexError",
          "evalue": "ignored",
          "traceback": [
            "\u001b[0;31m---------------------------------------------------------------------------\u001b[0m",
            "\u001b[0;31mIndexError\u001b[0m                                Traceback (most recent call last)",
            "\u001b[0;32m<ipython-input-5-9df94885d33d>\u001b[0m in \u001b[0;36m<module>\u001b[0;34m\u001b[0m\n\u001b[1;32m     25\u001b[0m         \u001b[0mprint\u001b[0m\u001b[0;34m(\u001b[0m\u001b[0;34m'爬取104、1111'\u001b[0m\u001b[0;34m)\u001b[0m\u001b[0;34m\u001b[0m\u001b[0;34m\u001b[0m\u001b[0m\n\u001b[1;32m     26\u001b[0m         \u001b[0mfind_title_104\u001b[0m\u001b[0;34m(\u001b[0m\u001b[0minput_str\u001b[0m\u001b[0;34m)\u001b[0m\u001b[0;34m\u001b[0m\u001b[0;34m\u001b[0m\u001b[0m\n\u001b[0;32m---> 27\u001b[0;31m         \u001b[0mfind_title_1111\u001b[0m\u001b[0;34m(\u001b[0m\u001b[0minput_str\u001b[0m\u001b[0;34m)\u001b[0m\u001b[0;34m\u001b[0m\u001b[0;34m\u001b[0m\u001b[0m\n\u001b[0m\u001b[1;32m     28\u001b[0m         \u001b[0;32mbreak\u001b[0m\u001b[0;34m\u001b[0m\u001b[0;34m\u001b[0m\u001b[0m\n\u001b[1;32m     29\u001b[0m \u001b[0;34m\u001b[0m\u001b[0m\n",
            "\u001b[0;32m<ipython-input-3-b27479d7408c>\u001b[0m in \u001b[0;36mfind_title_1111\u001b[0;34m(key_txt)\u001b[0m\n\u001b[1;32m    219\u001b[0m     \u001b[0mfind_page_url\u001b[0m \u001b[0;34m=\u001b[0m \u001b[0;34m'https://www.1111.com.tw/job-bank/job-index.asp?si=1&ss=s&ks={0}&page=1'\u001b[0m\u001b[0;34m.\u001b[0m\u001b[0mformat\u001b[0m\u001b[0;34m(\u001b[0m\u001b[0mkey\u001b[0m\u001b[0;34m)\u001b[0m\u001b[0;34m\u001b[0m\u001b[0;34m\u001b[0m\u001b[0m\n\u001b[1;32m    220\u001b[0m     \u001b[0;31m#取得最大page數\u001b[0m\u001b[0;34m\u001b[0m\u001b[0;34m\u001b[0m\u001b[0;34m\u001b[0m\u001b[0m\n\u001b[0;32m--> 221\u001b[0;31m     \u001b[0mget_sum_page\u001b[0m \u001b[0;34m=\u001b[0m \u001b[0mint\u001b[0m\u001b[0;34m(\u001b[0m\u001b[0mselenium_get_Code_1111\u001b[0m\u001b[0;34m(\u001b[0m\u001b[0mfind_page_url\u001b[0m\u001b[0;34m)\u001b[0m\u001b[0;34m)\u001b[0m\u001b[0;34m\u001b[0m\u001b[0;34m\u001b[0m\u001b[0m\n\u001b[0m\u001b[1;32m    222\u001b[0m     \u001b[0mprint\u001b[0m\u001b[0;34m(\u001b[0m\u001b[0;34m'共有：'\u001b[0m \u001b[0;34m+\u001b[0m \u001b[0mstr\u001b[0m\u001b[0;34m(\u001b[0m\u001b[0mget_sum_page\u001b[0m\u001b[0;34m)\u001b[0m \u001b[0;34m+\u001b[0m \u001b[0;34m' 頁'\u001b[0m\u001b[0;34m)\u001b[0m\u001b[0;34m\u001b[0m\u001b[0;34m\u001b[0m\u001b[0m\n\u001b[1;32m    223\u001b[0m \u001b[0;34m\u001b[0m\u001b[0m\n",
            "\u001b[0;32m<ipython-input-3-b27479d7408c>\u001b[0m in \u001b[0;36mselenium_get_Code_1111\u001b[0;34m(url)\u001b[0m\n\u001b[1;32m    174\u001b[0m     \u001b[0msoup\u001b[0m \u001b[0;34m=\u001b[0m \u001b[0mBeautifulSoup\u001b[0m\u001b[0;34m(\u001b[0m\u001b[0msave\u001b[0m\u001b[0;34m,\u001b[0m \u001b[0;34m\"html.parser\"\u001b[0m\u001b[0;34m)\u001b[0m\u001b[0;34m\u001b[0m\u001b[0;34m\u001b[0m\u001b[0m\n\u001b[1;32m    175\u001b[0m \u001b[0;34m\u001b[0m\u001b[0m\n\u001b[0;32m--> 176\u001b[0;31m     \u001b[0mpage\u001b[0m \u001b[0;34m=\u001b[0m \u001b[0msoup\u001b[0m\u001b[0;34m.\u001b[0m\u001b[0mselect\u001b[0m\u001b[0;34m(\u001b[0m\u001b[0;34m'.custom-select'\u001b[0m\u001b[0;34m)\u001b[0m\u001b[0;34m[\u001b[0m\u001b[0;36m0\u001b[0m\u001b[0;34m]\u001b[0m\u001b[0;34m.\u001b[0m\u001b[0mselect\u001b[0m\u001b[0;34m(\u001b[0m\u001b[0;34m'option'\u001b[0m\u001b[0;34m)\u001b[0m\u001b[0;34m[\u001b[0m\u001b[0;36m0\u001b[0m\u001b[0;34m]\u001b[0m\u001b[0;34m.\u001b[0m\u001b[0mtext\u001b[0m\u001b[0;34m\u001b[0m\u001b[0;34m\u001b[0m\u001b[0m\n\u001b[0m\u001b[1;32m    177\u001b[0m     \u001b[0mpage\u001b[0m \u001b[0;34m=\u001b[0m \u001b[0mpage\u001b[0m\u001b[0;34m.\u001b[0m\u001b[0msplit\u001b[0m\u001b[0;34m(\u001b[0m\u001b[0;34m'/'\u001b[0m\u001b[0;34m)\u001b[0m\u001b[0;34m\u001b[0m\u001b[0;34m\u001b[0m\u001b[0m\n\u001b[1;32m    178\u001b[0m     \u001b[0mpage\u001b[0m \u001b[0;34m=\u001b[0m \u001b[0mpage\u001b[0m\u001b[0;34m[\u001b[0m\u001b[0;36m1\u001b[0m\u001b[0;34m]\u001b[0m\u001b[0;34m.\u001b[0m\u001b[0mstrip\u001b[0m\u001b[0;34m(\u001b[0m\u001b[0;34m' '\u001b[0m\u001b[0;34m)\u001b[0m\u001b[0;34m\u001b[0m\u001b[0;34m\u001b[0m\u001b[0m\n",
            "\u001b[0;31mIndexError\u001b[0m: list index out of range"
          ]
        }
      ]
    },
    {
      "cell_type": "markdown",
      "source": [
        "###👉Pandas資料分析 ###\n",
        "* ##### 1.讀取資料 #####   "
      ],
      "metadata": {
        "id": "dxU6yAlwUMBR"
      }
    },
    {
      "cell_type": "code",
      "source": [
        "import glob\n",
        "glob.glob('jobs_csv/*.csv')"
      ],
      "metadata": {
        "colab": {
          "base_uri": "https://localhost:8080/"
        },
        "id": "R7clbK8gPZjX",
        "outputId": "0e361873-94ce-4fb0-82b1-fef289f6f0ec"
      },
      "execution_count": null,
      "outputs": [
        {
          "output_type": "execute_result",
          "data": {
            "text/plain": [
              "['jobs_csv/2022-11-27data analysis、business analysis_104人力銀行.csv',\n",
              " 'jobs_csv/2022-11-27data analysis、business analysis_1111人力銀行.csv']"
            ]
          },
          "metadata": {},
          "execution_count": 6
        }
      ]
    },
    {
      "cell_type": "code",
      "source": [
        "#讀取爬取到的資料 (需修改檔名)\n",
        "data_104 = pd.read_csv('jobs_csv/2022-11-27data analysis、business analysis_104人力銀行.csv')\n",
        "data_1111 = pd.read_csv('jobs_csv/2022-11-27data analysis、business analysis_1111人力銀行.csv')"
      ],
      "metadata": {
        "id": "1J_pjPuITtLF"
      },
      "execution_count": null,
      "outputs": []
    },
    {
      "cell_type": "markdown",
      "source": [
        "* ##### 2.查看資料 #####"
      ],
      "metadata": {
        "id": "mwlIhVs_UD0V"
      }
    },
    {
      "cell_type": "code",
      "source": [
        "#查看資料\n",
        "data_104.head()"
      ],
      "metadata": {
        "colab": {
          "base_uri": "https://localhost:8080/",
          "height": 354
        },
        "id": "mERzf8s4U8JQ",
        "outputId": "2550961b-b267-43dc-da3f-f0f07f867c86"
      },
      "execution_count": null,
      "outputs": [
        {
          "output_type": "execute_result",
          "data": {
            "text/plain": [
              "   日期                                               工作名稱               公司名稱  \\\n",
              "0  廣告                                 Accounting Analyst           奇方動力有限公司   \n",
              "1  廣告                                   BJ2 資深系統工程師/技術主任       緯穎科技服務股份有限公司   \n",
              "2  廣告         BEZ3-Signal Integrity Simulation工程師 (無經驗可)       緯穎科技服務股份有限公司   \n",
              "3  廣告  Business Development Sr. Coordinator/Superviso...        美商賀寶芙股份有限公司   \n",
              "4  廣告         Senior Executive, Finance & Administration  香港商香港旅發局有限公司台灣分公司   \n",
              "\n",
              "                 公司地址      薪資  \\\n",
              "0      台北市信義區松德路65號4樓    待遇面議   \n",
              "1   新北市汐止區新台五路一段90號8樓  30,000   \n",
              "2   新北市汐止區新台五路一段90號8樓    待遇面議   \n",
              "3   台北市南港區市民大道七段8號16樓    待遇面議   \n",
              "4  台北市中正區忠孝西路一段66號29樓    待遇面議   \n",
              "\n",
              "                                                工作內容      地區    經歷  學歷   公司人數  \\\n",
              "0  We are an established e-commerce company headq...  台北市信義區  1年以上  專科  員工32人   \n",
              "1  【工作內容】1. 辦公室系統管理及維護（Microsoft AD、KMS、DNS、WSUS、...  新北市汐止區  3年以上  大學   上市上櫃   \n",
              "2  In this position, you will be responsible for ...  新北市汐止區  經歷不拘  大學   上市上櫃   \n",
              "3  Position Summary: As TW Herbalife communicatio...  台北市南港區  5年以上  大學   外商公司   \n",
              "4  Responsibilities• To keep abreast of current l...  台北市中正區  3年以上  大學   員工9人   \n",
              "\n",
              "    文章編號                                           工作網址  \n",
              "0  7c6oz  www.104.com.tw/job/7c6oz?jobsource=hotjob_chr  \n",
              "1  7ltmv  www.104.com.tw/job/7ltmv?jobsource=hotjob_chr  \n",
              "2  3v28w  www.104.com.tw/job/3v28w?jobsource=hotjob_chr  \n",
              "3  7r76s  www.104.com.tw/job/7r76s?jobsource=hotjob_chr  \n",
              "4  3cipt  www.104.com.tw/job/3cipt?jobsource=hotjob_chr  "
            ],
            "text/html": [
              "\n",
              "  <div id=\"df-f1d4a93e-f11c-4616-81f1-a3b91f032eb3\">\n",
              "    <div class=\"colab-df-container\">\n",
              "      <div>\n",
              "<style scoped>\n",
              "    .dataframe tbody tr th:only-of-type {\n",
              "        vertical-align: middle;\n",
              "    }\n",
              "\n",
              "    .dataframe tbody tr th {\n",
              "        vertical-align: top;\n",
              "    }\n",
              "\n",
              "    .dataframe thead th {\n",
              "        text-align: right;\n",
              "    }\n",
              "</style>\n",
              "<table border=\"1\" class=\"dataframe\">\n",
              "  <thead>\n",
              "    <tr style=\"text-align: right;\">\n",
              "      <th></th>\n",
              "      <th>日期</th>\n",
              "      <th>工作名稱</th>\n",
              "      <th>公司名稱</th>\n",
              "      <th>公司地址</th>\n",
              "      <th>薪資</th>\n",
              "      <th>工作內容</th>\n",
              "      <th>地區</th>\n",
              "      <th>經歷</th>\n",
              "      <th>學歷</th>\n",
              "      <th>公司人數</th>\n",
              "      <th>文章編號</th>\n",
              "      <th>工作網址</th>\n",
              "    </tr>\n",
              "  </thead>\n",
              "  <tbody>\n",
              "    <tr>\n",
              "      <th>0</th>\n",
              "      <td>廣告</td>\n",
              "      <td>Accounting Analyst</td>\n",
              "      <td>奇方動力有限公司</td>\n",
              "      <td>台北市信義區松德路65號4樓</td>\n",
              "      <td>待遇面議</td>\n",
              "      <td>We are an established e-commerce company headq...</td>\n",
              "      <td>台北市信義區</td>\n",
              "      <td>1年以上</td>\n",
              "      <td>專科</td>\n",
              "      <td>員工32人</td>\n",
              "      <td>7c6oz</td>\n",
              "      <td>www.104.com.tw/job/7c6oz?jobsource=hotjob_chr</td>\n",
              "    </tr>\n",
              "    <tr>\n",
              "      <th>1</th>\n",
              "      <td>廣告</td>\n",
              "      <td>BJ2 資深系統工程師/技術主任</td>\n",
              "      <td>緯穎科技服務股份有限公司</td>\n",
              "      <td>新北市汐止區新台五路一段90號8樓</td>\n",
              "      <td>30,000</td>\n",
              "      <td>【工作內容】1. 辦公室系統管理及維護（Microsoft AD、KMS、DNS、WSUS、...</td>\n",
              "      <td>新北市汐止區</td>\n",
              "      <td>3年以上</td>\n",
              "      <td>大學</td>\n",
              "      <td>上市上櫃</td>\n",
              "      <td>7ltmv</td>\n",
              "      <td>www.104.com.tw/job/7ltmv?jobsource=hotjob_chr</td>\n",
              "    </tr>\n",
              "    <tr>\n",
              "      <th>2</th>\n",
              "      <td>廣告</td>\n",
              "      <td>BEZ3-Signal Integrity Simulation工程師 (無經驗可)</td>\n",
              "      <td>緯穎科技服務股份有限公司</td>\n",
              "      <td>新北市汐止區新台五路一段90號8樓</td>\n",
              "      <td>待遇面議</td>\n",
              "      <td>In this position, you will be responsible for ...</td>\n",
              "      <td>新北市汐止區</td>\n",
              "      <td>經歷不拘</td>\n",
              "      <td>大學</td>\n",
              "      <td>上市上櫃</td>\n",
              "      <td>3v28w</td>\n",
              "      <td>www.104.com.tw/job/3v28w?jobsource=hotjob_chr</td>\n",
              "    </tr>\n",
              "    <tr>\n",
              "      <th>3</th>\n",
              "      <td>廣告</td>\n",
              "      <td>Business Development Sr. Coordinator/Superviso...</td>\n",
              "      <td>美商賀寶芙股份有限公司</td>\n",
              "      <td>台北市南港區市民大道七段8號16樓</td>\n",
              "      <td>待遇面議</td>\n",
              "      <td>Position Summary: As TW Herbalife communicatio...</td>\n",
              "      <td>台北市南港區</td>\n",
              "      <td>5年以上</td>\n",
              "      <td>大學</td>\n",
              "      <td>外商公司</td>\n",
              "      <td>7r76s</td>\n",
              "      <td>www.104.com.tw/job/7r76s?jobsource=hotjob_chr</td>\n",
              "    </tr>\n",
              "    <tr>\n",
              "      <th>4</th>\n",
              "      <td>廣告</td>\n",
              "      <td>Senior Executive, Finance &amp; Administration</td>\n",
              "      <td>香港商香港旅發局有限公司台灣分公司</td>\n",
              "      <td>台北市中正區忠孝西路一段66號29樓</td>\n",
              "      <td>待遇面議</td>\n",
              "      <td>Responsibilities• To keep abreast of current l...</td>\n",
              "      <td>台北市中正區</td>\n",
              "      <td>3年以上</td>\n",
              "      <td>大學</td>\n",
              "      <td>員工9人</td>\n",
              "      <td>3cipt</td>\n",
              "      <td>www.104.com.tw/job/3cipt?jobsource=hotjob_chr</td>\n",
              "    </tr>\n",
              "  </tbody>\n",
              "</table>\n",
              "</div>\n",
              "      <button class=\"colab-df-convert\" onclick=\"convertToInteractive('df-f1d4a93e-f11c-4616-81f1-a3b91f032eb3')\"\n",
              "              title=\"Convert this dataframe to an interactive table.\"\n",
              "              style=\"display:none;\">\n",
              "        \n",
              "  <svg xmlns=\"http://www.w3.org/2000/svg\" height=\"24px\"viewBox=\"0 0 24 24\"\n",
              "       width=\"24px\">\n",
              "    <path d=\"M0 0h24v24H0V0z\" fill=\"none\"/>\n",
              "    <path d=\"M18.56 5.44l.94 2.06.94-2.06 2.06-.94-2.06-.94-.94-2.06-.94 2.06-2.06.94zm-11 1L8.5 8.5l.94-2.06 2.06-.94-2.06-.94L8.5 2.5l-.94 2.06-2.06.94zm10 10l.94 2.06.94-2.06 2.06-.94-2.06-.94-.94-2.06-.94 2.06-2.06.94z\"/><path d=\"M17.41 7.96l-1.37-1.37c-.4-.4-.92-.59-1.43-.59-.52 0-1.04.2-1.43.59L10.3 9.45l-7.72 7.72c-.78.78-.78 2.05 0 2.83L4 21.41c.39.39.9.59 1.41.59.51 0 1.02-.2 1.41-.59l7.78-7.78 2.81-2.81c.8-.78.8-2.07 0-2.86zM5.41 20L4 18.59l7.72-7.72 1.47 1.35L5.41 20z\"/>\n",
              "  </svg>\n",
              "      </button>\n",
              "      \n",
              "  <style>\n",
              "    .colab-df-container {\n",
              "      display:flex;\n",
              "      flex-wrap:wrap;\n",
              "      gap: 12px;\n",
              "    }\n",
              "\n",
              "    .colab-df-convert {\n",
              "      background-color: #E8F0FE;\n",
              "      border: none;\n",
              "      border-radius: 50%;\n",
              "      cursor: pointer;\n",
              "      display: none;\n",
              "      fill: #1967D2;\n",
              "      height: 32px;\n",
              "      padding: 0 0 0 0;\n",
              "      width: 32px;\n",
              "    }\n",
              "\n",
              "    .colab-df-convert:hover {\n",
              "      background-color: #E2EBFA;\n",
              "      box-shadow: 0px 1px 2px rgba(60, 64, 67, 0.3), 0px 1px 3px 1px rgba(60, 64, 67, 0.15);\n",
              "      fill: #174EA6;\n",
              "    }\n",
              "\n",
              "    [theme=dark] .colab-df-convert {\n",
              "      background-color: #3B4455;\n",
              "      fill: #D2E3FC;\n",
              "    }\n",
              "\n",
              "    [theme=dark] .colab-df-convert:hover {\n",
              "      background-color: #434B5C;\n",
              "      box-shadow: 0px 1px 3px 1px rgba(0, 0, 0, 0.15);\n",
              "      filter: drop-shadow(0px 1px 2px rgba(0, 0, 0, 0.3));\n",
              "      fill: #FFFFFF;\n",
              "    }\n",
              "  </style>\n",
              "\n",
              "      <script>\n",
              "        const buttonEl =\n",
              "          document.querySelector('#df-f1d4a93e-f11c-4616-81f1-a3b91f032eb3 button.colab-df-convert');\n",
              "        buttonEl.style.display =\n",
              "          google.colab.kernel.accessAllowed ? 'block' : 'none';\n",
              "\n",
              "        async function convertToInteractive(key) {\n",
              "          const element = document.querySelector('#df-f1d4a93e-f11c-4616-81f1-a3b91f032eb3');\n",
              "          const dataTable =\n",
              "            await google.colab.kernel.invokeFunction('convertToInteractive',\n",
              "                                                     [key], {});\n",
              "          if (!dataTable) return;\n",
              "\n",
              "          const docLinkHtml = 'Like what you see? Visit the ' +\n",
              "            '<a target=\"_blank\" href=https://colab.research.google.com/notebooks/data_table.ipynb>data table notebook</a>'\n",
              "            + ' to learn more about interactive tables.';\n",
              "          element.innerHTML = '';\n",
              "          dataTable['output_type'] = 'display_data';\n",
              "          await google.colab.output.renderOutput(dataTable, element);\n",
              "          const docLink = document.createElement('div');\n",
              "          docLink.innerHTML = docLinkHtml;\n",
              "          element.appendChild(docLink);\n",
              "        }\n",
              "      </script>\n",
              "    </div>\n",
              "  </div>\n",
              "  "
            ]
          },
          "metadata": {},
          "execution_count": 9
        }
      ]
    },
    {
      "cell_type": "code",
      "source": [
        "data_1111.head()"
      ],
      "metadata": {
        "colab": {
          "base_uri": "https://localhost:8080/",
          "height": 50
        },
        "id": "_ogaKhCTVz4v",
        "outputId": "a2cb3f4c-7d13-42c1-9760-cd7ca72204d7"
      },
      "execution_count": null,
      "outputs": [
        {
          "output_type": "execute_result",
          "data": {
            "text/plain": [
              "Empty DataFrame\n",
              "Columns: [日期, 工作名稱, 公司名稱, 公司地址, 薪資, 工作內容, 地區, 經歷, 學歷, 工作網址]\n",
              "Index: []"
            ],
            "text/html": [
              "\n",
              "  <div id=\"df-3ddf2086-c2a9-4afc-8a87-5daf258c4d1e\">\n",
              "    <div class=\"colab-df-container\">\n",
              "      <div>\n",
              "<style scoped>\n",
              "    .dataframe tbody tr th:only-of-type {\n",
              "        vertical-align: middle;\n",
              "    }\n",
              "\n",
              "    .dataframe tbody tr th {\n",
              "        vertical-align: top;\n",
              "    }\n",
              "\n",
              "    .dataframe thead th {\n",
              "        text-align: right;\n",
              "    }\n",
              "</style>\n",
              "<table border=\"1\" class=\"dataframe\">\n",
              "  <thead>\n",
              "    <tr style=\"text-align: right;\">\n",
              "      <th></th>\n",
              "      <th>日期</th>\n",
              "      <th>工作名稱</th>\n",
              "      <th>公司名稱</th>\n",
              "      <th>公司地址</th>\n",
              "      <th>薪資</th>\n",
              "      <th>工作內容</th>\n",
              "      <th>地區</th>\n",
              "      <th>經歷</th>\n",
              "      <th>學歷</th>\n",
              "      <th>工作網址</th>\n",
              "    </tr>\n",
              "  </thead>\n",
              "  <tbody>\n",
              "  </tbody>\n",
              "</table>\n",
              "</div>\n",
              "      <button class=\"colab-df-convert\" onclick=\"convertToInteractive('df-3ddf2086-c2a9-4afc-8a87-5daf258c4d1e')\"\n",
              "              title=\"Convert this dataframe to an interactive table.\"\n",
              "              style=\"display:none;\">\n",
              "        \n",
              "  <svg xmlns=\"http://www.w3.org/2000/svg\" height=\"24px\"viewBox=\"0 0 24 24\"\n",
              "       width=\"24px\">\n",
              "    <path d=\"M0 0h24v24H0V0z\" fill=\"none\"/>\n",
              "    <path d=\"M18.56 5.44l.94 2.06.94-2.06 2.06-.94-2.06-.94-.94-2.06-.94 2.06-2.06.94zm-11 1L8.5 8.5l.94-2.06 2.06-.94-2.06-.94L8.5 2.5l-.94 2.06-2.06.94zm10 10l.94 2.06.94-2.06 2.06-.94-2.06-.94-.94-2.06-.94 2.06-2.06.94z\"/><path d=\"M17.41 7.96l-1.37-1.37c-.4-.4-.92-.59-1.43-.59-.52 0-1.04.2-1.43.59L10.3 9.45l-7.72 7.72c-.78.78-.78 2.05 0 2.83L4 21.41c.39.39.9.59 1.41.59.51 0 1.02-.2 1.41-.59l7.78-7.78 2.81-2.81c.8-.78.8-2.07 0-2.86zM5.41 20L4 18.59l7.72-7.72 1.47 1.35L5.41 20z\"/>\n",
              "  </svg>\n",
              "      </button>\n",
              "      \n",
              "  <style>\n",
              "    .colab-df-container {\n",
              "      display:flex;\n",
              "      flex-wrap:wrap;\n",
              "      gap: 12px;\n",
              "    }\n",
              "\n",
              "    .colab-df-convert {\n",
              "      background-color: #E8F0FE;\n",
              "      border: none;\n",
              "      border-radius: 50%;\n",
              "      cursor: pointer;\n",
              "      display: none;\n",
              "      fill: #1967D2;\n",
              "      height: 32px;\n",
              "      padding: 0 0 0 0;\n",
              "      width: 32px;\n",
              "    }\n",
              "\n",
              "    .colab-df-convert:hover {\n",
              "      background-color: #E2EBFA;\n",
              "      box-shadow: 0px 1px 2px rgba(60, 64, 67, 0.3), 0px 1px 3px 1px rgba(60, 64, 67, 0.15);\n",
              "      fill: #174EA6;\n",
              "    }\n",
              "\n",
              "    [theme=dark] .colab-df-convert {\n",
              "      background-color: #3B4455;\n",
              "      fill: #D2E3FC;\n",
              "    }\n",
              "\n",
              "    [theme=dark] .colab-df-convert:hover {\n",
              "      background-color: #434B5C;\n",
              "      box-shadow: 0px 1px 3px 1px rgba(0, 0, 0, 0.15);\n",
              "      filter: drop-shadow(0px 1px 2px rgba(0, 0, 0, 0.3));\n",
              "      fill: #FFFFFF;\n",
              "    }\n",
              "  </style>\n",
              "\n",
              "      <script>\n",
              "        const buttonEl =\n",
              "          document.querySelector('#df-3ddf2086-c2a9-4afc-8a87-5daf258c4d1e button.colab-df-convert');\n",
              "        buttonEl.style.display =\n",
              "          google.colab.kernel.accessAllowed ? 'block' : 'none';\n",
              "\n",
              "        async function convertToInteractive(key) {\n",
              "          const element = document.querySelector('#df-3ddf2086-c2a9-4afc-8a87-5daf258c4d1e');\n",
              "          const dataTable =\n",
              "            await google.colab.kernel.invokeFunction('convertToInteractive',\n",
              "                                                     [key], {});\n",
              "          if (!dataTable) return;\n",
              "\n",
              "          const docLinkHtml = 'Like what you see? Visit the ' +\n",
              "            '<a target=\"_blank\" href=https://colab.research.google.com/notebooks/data_table.ipynb>data table notebook</a>'\n",
              "            + ' to learn more about interactive tables.';\n",
              "          element.innerHTML = '';\n",
              "          dataTable['output_type'] = 'display_data';\n",
              "          await google.colab.output.renderOutput(dataTable, element);\n",
              "          const docLink = document.createElement('div');\n",
              "          docLink.innerHTML = docLinkHtml;\n",
              "          element.appendChild(docLink);\n",
              "        }\n",
              "      </script>\n",
              "    </div>\n",
              "  </div>\n",
              "  "
            ]
          },
          "metadata": {},
          "execution_count": 11
        }
      ]
    },
    {
      "cell_type": "code",
      "source": [
        "# 檢查有多少筆資料 共2870筆\n",
        "data_104.shape"
      ],
      "metadata": {
        "colab": {
          "base_uri": "https://localhost:8080/"
        },
        "id": "O3ZKoN32VHKs",
        "outputId": "e19c498d-2212-446c-cf1f-a62540072216"
      },
      "execution_count": null,
      "outputs": [
        {
          "output_type": "execute_result",
          "data": {
            "text/plain": [
              "(2870, 12)"
            ]
          },
          "metadata": {},
          "execution_count": 10
        }
      ]
    },
    {
      "cell_type": "markdown",
      "source": [
        "* #### 3.選擇想要的資料 ####\n",
        "日期、工作名稱、公司地址、薪資、工作內容、地區、經歷、學歷、工作網址 依想要的順序排序"
      ],
      "metadata": {
        "id": "Uwz7_sKZVnKH"
      }
    },
    {
      "cell_type": "code",
      "source": [
        "new_data_1111 =  data_1111[['日期', '工作名稱', '薪資', '地區', '工作內容', '公司地址', '經歷', '學歷', '工作網址']]\n",
        "new_data_104 = data_104[['日期', '工作名稱', '薪資', '地區', '工作內容', '公司地址', '經歷', '學歷', '工作網址']]"
      ],
      "metadata": {
        "id": "R2qxYC5EVwqv"
      },
      "execution_count": null,
      "outputs": []
    },
    {
      "cell_type": "code",
      "source": [
        "#檢查shape\n",
        "print('104：' + str(new_data_104.shape))\n",
        "#print('1111：' + str(new_data_1111.shape))"
      ],
      "metadata": {
        "colab": {
          "base_uri": "https://localhost:8080/"
        },
        "id": "frtaO-CEZW7o",
        "outputId": "df322967-f1de-4a04-bad2-e49f6fa6b1be"
      },
      "execution_count": null,
      "outputs": [
        {
          "output_type": "stream",
          "name": "stdout",
          "text": [
            "104：(2870, 9)\n",
            "1111：(0, 9)\n"
          ]
        }
      ]
    },
    {
      "cell_type": "code",
      "source": [
        "new_data_104.tail() #資料最後面的index 不是4733，需要重新建立index 不包含標題 所以要減去一筆資料 是4733"
      ],
      "metadata": {
        "colab": {
          "base_uri": "https://localhost:8080/",
          "height": 354
        },
        "id": "8GpmeEFZZjM2",
        "outputId": "19f8f3bb-15d7-4617-e0d5-6ecfcb234a1f"
      },
      "execution_count": null,
      "outputs": [
        {
          "output_type": "execute_result",
          "data": {
            "text/plain": [
              "         日期                                               工作名稱      薪資  \\\n",
              "2865  11/11            Project Manager (Supply Chain Planning)    待遇面議   \n",
              "2866  11/25                              【新竹】RF工程師 RF Engineer    待遇面議   \n",
              "2867  11/23  Software Engineer - BSP (Board Support Package...    待遇面議   \n",
              "2868  11/22                                           品管人員(石岡)  33,000   \n",
              "2869  11/23                      Senior SIPI Engineer _ PLL 台南    待遇面議   \n",
              "\n",
              "          地區                                               工作內容  \\\n",
              "2865     新竹市   risk management, inventory optimization, on-t...   \n",
              "2866  新竹縣竹北市   PCB layout review (EMI / EMC / noise preventi...   \n",
              "2867  台北市大同區  Job Title: Value Engineer Report to: Director ...   \n",
              "2868  台中市石岡區  1.廠內混凝土品質測試。2.溝通協調廠內外製程混凝土品質管制，協助解決工地品質變異狀況，控制...   \n",
              "2869  台南市歸仁區   is high-speed IC package design/analysis. As ...   \n",
              "\n",
              "                   公司地址    經歷  學歷  \\\n",
              "2865        新竹市金山八街1號2樓  經歷不拘  大學   \n",
              "2866     新竹縣竹北市復興二路251號  5年以上  大學   \n",
              "2867  台北市大同區承德路１段40號10樓  5年以上  大學   \n",
              "2868     台中市石岡區豐勢路1巷60號  經歷不拘  高中   \n",
              "2869             台南市歸仁區  5年以上  大學   \n",
              "\n",
              "                                                   工作網址  \n",
              "2865  www.104.com.tw/job/7tcas?jobsource=jolist_b_re...  \n",
              "2866  www.104.com.tw/job/7qmue?jobsource=jolist_b_re...  \n",
              "2867  www.104.com.tw/job/7t3k6?jobsource=jolist_b_re...  \n",
              "2868  www.104.com.tw/job/6os4q?jobsource=jolist_b_re...  \n",
              "2869  www.104.com.tw/job/7tj2f?jobsource=jolist_b_re...  "
            ],
            "text/html": [
              "\n",
              "  <div id=\"df-4e794557-3efa-4a2a-9312-bb0848f309f9\">\n",
              "    <div class=\"colab-df-container\">\n",
              "      <div>\n",
              "<style scoped>\n",
              "    .dataframe tbody tr th:only-of-type {\n",
              "        vertical-align: middle;\n",
              "    }\n",
              "\n",
              "    .dataframe tbody tr th {\n",
              "        vertical-align: top;\n",
              "    }\n",
              "\n",
              "    .dataframe thead th {\n",
              "        text-align: right;\n",
              "    }\n",
              "</style>\n",
              "<table border=\"1\" class=\"dataframe\">\n",
              "  <thead>\n",
              "    <tr style=\"text-align: right;\">\n",
              "      <th></th>\n",
              "      <th>日期</th>\n",
              "      <th>工作名稱</th>\n",
              "      <th>薪資</th>\n",
              "      <th>地區</th>\n",
              "      <th>工作內容</th>\n",
              "      <th>公司地址</th>\n",
              "      <th>經歷</th>\n",
              "      <th>學歷</th>\n",
              "      <th>工作網址</th>\n",
              "    </tr>\n",
              "  </thead>\n",
              "  <tbody>\n",
              "    <tr>\n",
              "      <th>2865</th>\n",
              "      <td>11/11</td>\n",
              "      <td>Project Manager (Supply Chain Planning)</td>\n",
              "      <td>待遇面議</td>\n",
              "      <td>新竹市</td>\n",
              "      <td>risk management, inventory optimization, on-t...</td>\n",
              "      <td>新竹市金山八街1號2樓</td>\n",
              "      <td>經歷不拘</td>\n",
              "      <td>大學</td>\n",
              "      <td>www.104.com.tw/job/7tcas?jobsource=jolist_b_re...</td>\n",
              "    </tr>\n",
              "    <tr>\n",
              "      <th>2866</th>\n",
              "      <td>11/25</td>\n",
              "      <td>【新竹】RF工程師 RF Engineer</td>\n",
              "      <td>待遇面議</td>\n",
              "      <td>新竹縣竹北市</td>\n",
              "      <td>PCB layout review (EMI / EMC / noise preventi...</td>\n",
              "      <td>新竹縣竹北市復興二路251號</td>\n",
              "      <td>5年以上</td>\n",
              "      <td>大學</td>\n",
              "      <td>www.104.com.tw/job/7qmue?jobsource=jolist_b_re...</td>\n",
              "    </tr>\n",
              "    <tr>\n",
              "      <th>2867</th>\n",
              "      <td>11/23</td>\n",
              "      <td>Software Engineer - BSP (Board Support Package...</td>\n",
              "      <td>待遇面議</td>\n",
              "      <td>台北市大同區</td>\n",
              "      <td>Job Title: Value Engineer Report to: Director ...</td>\n",
              "      <td>台北市大同區承德路１段40號10樓</td>\n",
              "      <td>5年以上</td>\n",
              "      <td>大學</td>\n",
              "      <td>www.104.com.tw/job/7t3k6?jobsource=jolist_b_re...</td>\n",
              "    </tr>\n",
              "    <tr>\n",
              "      <th>2868</th>\n",
              "      <td>11/22</td>\n",
              "      <td>品管人員(石岡)</td>\n",
              "      <td>33,000</td>\n",
              "      <td>台中市石岡區</td>\n",
              "      <td>1.廠內混凝土品質測試。2.溝通協調廠內外製程混凝土品質管制，協助解決工地品質變異狀況，控制...</td>\n",
              "      <td>台中市石岡區豐勢路1巷60號</td>\n",
              "      <td>經歷不拘</td>\n",
              "      <td>高中</td>\n",
              "      <td>www.104.com.tw/job/6os4q?jobsource=jolist_b_re...</td>\n",
              "    </tr>\n",
              "    <tr>\n",
              "      <th>2869</th>\n",
              "      <td>11/23</td>\n",
              "      <td>Senior SIPI Engineer _ PLL 台南</td>\n",
              "      <td>待遇面議</td>\n",
              "      <td>台南市歸仁區</td>\n",
              "      <td>is high-speed IC package design/analysis. As ...</td>\n",
              "      <td>台南市歸仁區</td>\n",
              "      <td>5年以上</td>\n",
              "      <td>大學</td>\n",
              "      <td>www.104.com.tw/job/7tj2f?jobsource=jolist_b_re...</td>\n",
              "    </tr>\n",
              "  </tbody>\n",
              "</table>\n",
              "</div>\n",
              "      <button class=\"colab-df-convert\" onclick=\"convertToInteractive('df-4e794557-3efa-4a2a-9312-bb0848f309f9')\"\n",
              "              title=\"Convert this dataframe to an interactive table.\"\n",
              "              style=\"display:none;\">\n",
              "        \n",
              "  <svg xmlns=\"http://www.w3.org/2000/svg\" height=\"24px\"viewBox=\"0 0 24 24\"\n",
              "       width=\"24px\">\n",
              "    <path d=\"M0 0h24v24H0V0z\" fill=\"none\"/>\n",
              "    <path d=\"M18.56 5.44l.94 2.06.94-2.06 2.06-.94-2.06-.94-.94-2.06-.94 2.06-2.06.94zm-11 1L8.5 8.5l.94-2.06 2.06-.94-2.06-.94L8.5 2.5l-.94 2.06-2.06.94zm10 10l.94 2.06.94-2.06 2.06-.94-2.06-.94-.94-2.06-.94 2.06-2.06.94z\"/><path d=\"M17.41 7.96l-1.37-1.37c-.4-.4-.92-.59-1.43-.59-.52 0-1.04.2-1.43.59L10.3 9.45l-7.72 7.72c-.78.78-.78 2.05 0 2.83L4 21.41c.39.39.9.59 1.41.59.51 0 1.02-.2 1.41-.59l7.78-7.78 2.81-2.81c.8-.78.8-2.07 0-2.86zM5.41 20L4 18.59l7.72-7.72 1.47 1.35L5.41 20z\"/>\n",
              "  </svg>\n",
              "      </button>\n",
              "      \n",
              "  <style>\n",
              "    .colab-df-container {\n",
              "      display:flex;\n",
              "      flex-wrap:wrap;\n",
              "      gap: 12px;\n",
              "    }\n",
              "\n",
              "    .colab-df-convert {\n",
              "      background-color: #E8F0FE;\n",
              "      border: none;\n",
              "      border-radius: 50%;\n",
              "      cursor: pointer;\n",
              "      display: none;\n",
              "      fill: #1967D2;\n",
              "      height: 32px;\n",
              "      padding: 0 0 0 0;\n",
              "      width: 32px;\n",
              "    }\n",
              "\n",
              "    .colab-df-convert:hover {\n",
              "      background-color: #E2EBFA;\n",
              "      box-shadow: 0px 1px 2px rgba(60, 64, 67, 0.3), 0px 1px 3px 1px rgba(60, 64, 67, 0.15);\n",
              "      fill: #174EA6;\n",
              "    }\n",
              "\n",
              "    [theme=dark] .colab-df-convert {\n",
              "      background-color: #3B4455;\n",
              "      fill: #D2E3FC;\n",
              "    }\n",
              "\n",
              "    [theme=dark] .colab-df-convert:hover {\n",
              "      background-color: #434B5C;\n",
              "      box-shadow: 0px 1px 3px 1px rgba(0, 0, 0, 0.15);\n",
              "      filter: drop-shadow(0px 1px 2px rgba(0, 0, 0, 0.3));\n",
              "      fill: #FFFFFF;\n",
              "    }\n",
              "  </style>\n",
              "\n",
              "      <script>\n",
              "        const buttonEl =\n",
              "          document.querySelector('#df-4e794557-3efa-4a2a-9312-bb0848f309f9 button.colab-df-convert');\n",
              "        buttonEl.style.display =\n",
              "          google.colab.kernel.accessAllowed ? 'block' : 'none';\n",
              "\n",
              "        async function convertToInteractive(key) {\n",
              "          const element = document.querySelector('#df-4e794557-3efa-4a2a-9312-bb0848f309f9');\n",
              "          const dataTable =\n",
              "            await google.colab.kernel.invokeFunction('convertToInteractive',\n",
              "                                                     [key], {});\n",
              "          if (!dataTable) return;\n",
              "\n",
              "          const docLinkHtml = 'Like what you see? Visit the ' +\n",
              "            '<a target=\"_blank\" href=https://colab.research.google.com/notebooks/data_table.ipynb>data table notebook</a>'\n",
              "            + ' to learn more about interactive tables.';\n",
              "          element.innerHTML = '';\n",
              "          dataTable['output_type'] = 'display_data';\n",
              "          await google.colab.output.renderOutput(dataTable, element);\n",
              "          const docLink = document.createElement('div');\n",
              "          docLink.innerHTML = docLinkHtml;\n",
              "          element.appendChild(docLink);\n",
              "        }\n",
              "      </script>\n",
              "    </div>\n",
              "  </div>\n",
              "  "
            ]
          },
          "metadata": {},
          "execution_count": 14
        }
      ]
    },
    {
      "cell_type": "code",
      "source": [
        "new_data_104.reset_index(drop=True, inplace=True) #drop=True 刪除原有index inplace 直接更新現有的DataFrame"
      ],
      "metadata": {
        "id": "2IUzYxINZ-Pl"
      },
      "execution_count": null,
      "outputs": []
    },
    {
      "cell_type": "code",
      "source": [
        "new_data_104.tail()"
      ],
      "metadata": {
        "colab": {
          "base_uri": "https://localhost:8080/",
          "height": 354
        },
        "id": "kNpGD9HKZ-Z2",
        "outputId": "619e26a1-da33-46bd-f37c-c8818ca03298"
      },
      "execution_count": null,
      "outputs": [
        {
          "output_type": "execute_result",
          "data": {
            "text/plain": [
              "         日期                                               工作名稱      薪資  \\\n",
              "2865  11/11            Project Manager (Supply Chain Planning)    待遇面議   \n",
              "2866  11/25                              【新竹】RF工程師 RF Engineer    待遇面議   \n",
              "2867  11/23  Software Engineer - BSP (Board Support Package...    待遇面議   \n",
              "2868  11/22                                           品管人員(石岡)  33,000   \n",
              "2869  11/23                      Senior SIPI Engineer _ PLL 台南    待遇面議   \n",
              "\n",
              "          地區                                               工作內容  \\\n",
              "2865     新竹市   risk management, inventory optimization, on-t...   \n",
              "2866  新竹縣竹北市   PCB layout review (EMI / EMC / noise preventi...   \n",
              "2867  台北市大同區  Job Title: Value Engineer Report to: Director ...   \n",
              "2868  台中市石岡區  1.廠內混凝土品質測試。2.溝通協調廠內外製程混凝土品質管制，協助解決工地品質變異狀況，控制...   \n",
              "2869  台南市歸仁區   is high-speed IC package design/analysis. As ...   \n",
              "\n",
              "                   公司地址    經歷  學歷  \\\n",
              "2865        新竹市金山八街1號2樓  經歷不拘  大學   \n",
              "2866     新竹縣竹北市復興二路251號  5年以上  大學   \n",
              "2867  台北市大同區承德路１段40號10樓  5年以上  大學   \n",
              "2868     台中市石岡區豐勢路1巷60號  經歷不拘  高中   \n",
              "2869             台南市歸仁區  5年以上  大學   \n",
              "\n",
              "                                                   工作網址  \n",
              "2865  www.104.com.tw/job/7tcas?jobsource=jolist_b_re...  \n",
              "2866  www.104.com.tw/job/7qmue?jobsource=jolist_b_re...  \n",
              "2867  www.104.com.tw/job/7t3k6?jobsource=jolist_b_re...  \n",
              "2868  www.104.com.tw/job/6os4q?jobsource=jolist_b_re...  \n",
              "2869  www.104.com.tw/job/7tj2f?jobsource=jolist_b_re...  "
            ],
            "text/html": [
              "\n",
              "  <div id=\"df-340c5f0b-444e-47ea-98ed-77045dec7913\">\n",
              "    <div class=\"colab-df-container\">\n",
              "      <div>\n",
              "<style scoped>\n",
              "    .dataframe tbody tr th:only-of-type {\n",
              "        vertical-align: middle;\n",
              "    }\n",
              "\n",
              "    .dataframe tbody tr th {\n",
              "        vertical-align: top;\n",
              "    }\n",
              "\n",
              "    .dataframe thead th {\n",
              "        text-align: right;\n",
              "    }\n",
              "</style>\n",
              "<table border=\"1\" class=\"dataframe\">\n",
              "  <thead>\n",
              "    <tr style=\"text-align: right;\">\n",
              "      <th></th>\n",
              "      <th>日期</th>\n",
              "      <th>工作名稱</th>\n",
              "      <th>薪資</th>\n",
              "      <th>地區</th>\n",
              "      <th>工作內容</th>\n",
              "      <th>公司地址</th>\n",
              "      <th>經歷</th>\n",
              "      <th>學歷</th>\n",
              "      <th>工作網址</th>\n",
              "    </tr>\n",
              "  </thead>\n",
              "  <tbody>\n",
              "    <tr>\n",
              "      <th>2865</th>\n",
              "      <td>11/11</td>\n",
              "      <td>Project Manager (Supply Chain Planning)</td>\n",
              "      <td>待遇面議</td>\n",
              "      <td>新竹市</td>\n",
              "      <td>risk management, inventory optimization, on-t...</td>\n",
              "      <td>新竹市金山八街1號2樓</td>\n",
              "      <td>經歷不拘</td>\n",
              "      <td>大學</td>\n",
              "      <td>www.104.com.tw/job/7tcas?jobsource=jolist_b_re...</td>\n",
              "    </tr>\n",
              "    <tr>\n",
              "      <th>2866</th>\n",
              "      <td>11/25</td>\n",
              "      <td>【新竹】RF工程師 RF Engineer</td>\n",
              "      <td>待遇面議</td>\n",
              "      <td>新竹縣竹北市</td>\n",
              "      <td>PCB layout review (EMI / EMC / noise preventi...</td>\n",
              "      <td>新竹縣竹北市復興二路251號</td>\n",
              "      <td>5年以上</td>\n",
              "      <td>大學</td>\n",
              "      <td>www.104.com.tw/job/7qmue?jobsource=jolist_b_re...</td>\n",
              "    </tr>\n",
              "    <tr>\n",
              "      <th>2867</th>\n",
              "      <td>11/23</td>\n",
              "      <td>Software Engineer - BSP (Board Support Package...</td>\n",
              "      <td>待遇面議</td>\n",
              "      <td>台北市大同區</td>\n",
              "      <td>Job Title: Value Engineer Report to: Director ...</td>\n",
              "      <td>台北市大同區承德路１段40號10樓</td>\n",
              "      <td>5年以上</td>\n",
              "      <td>大學</td>\n",
              "      <td>www.104.com.tw/job/7t3k6?jobsource=jolist_b_re...</td>\n",
              "    </tr>\n",
              "    <tr>\n",
              "      <th>2868</th>\n",
              "      <td>11/22</td>\n",
              "      <td>品管人員(石岡)</td>\n",
              "      <td>33,000</td>\n",
              "      <td>台中市石岡區</td>\n",
              "      <td>1.廠內混凝土品質測試。2.溝通協調廠內外製程混凝土品質管制，協助解決工地品質變異狀況，控制...</td>\n",
              "      <td>台中市石岡區豐勢路1巷60號</td>\n",
              "      <td>經歷不拘</td>\n",
              "      <td>高中</td>\n",
              "      <td>www.104.com.tw/job/6os4q?jobsource=jolist_b_re...</td>\n",
              "    </tr>\n",
              "    <tr>\n",
              "      <th>2869</th>\n",
              "      <td>11/23</td>\n",
              "      <td>Senior SIPI Engineer _ PLL 台南</td>\n",
              "      <td>待遇面議</td>\n",
              "      <td>台南市歸仁區</td>\n",
              "      <td>is high-speed IC package design/analysis. As ...</td>\n",
              "      <td>台南市歸仁區</td>\n",
              "      <td>5年以上</td>\n",
              "      <td>大學</td>\n",
              "      <td>www.104.com.tw/job/7tj2f?jobsource=jolist_b_re...</td>\n",
              "    </tr>\n",
              "  </tbody>\n",
              "</table>\n",
              "</div>\n",
              "      <button class=\"colab-df-convert\" onclick=\"convertToInteractive('df-340c5f0b-444e-47ea-98ed-77045dec7913')\"\n",
              "              title=\"Convert this dataframe to an interactive table.\"\n",
              "              style=\"display:none;\">\n",
              "        \n",
              "  <svg xmlns=\"http://www.w3.org/2000/svg\" height=\"24px\"viewBox=\"0 0 24 24\"\n",
              "       width=\"24px\">\n",
              "    <path d=\"M0 0h24v24H0V0z\" fill=\"none\"/>\n",
              "    <path d=\"M18.56 5.44l.94 2.06.94-2.06 2.06-.94-2.06-.94-.94-2.06-.94 2.06-2.06.94zm-11 1L8.5 8.5l.94-2.06 2.06-.94-2.06-.94L8.5 2.5l-.94 2.06-2.06.94zm10 10l.94 2.06.94-2.06 2.06-.94-2.06-.94-.94-2.06-.94 2.06-2.06.94z\"/><path d=\"M17.41 7.96l-1.37-1.37c-.4-.4-.92-.59-1.43-.59-.52 0-1.04.2-1.43.59L10.3 9.45l-7.72 7.72c-.78.78-.78 2.05 0 2.83L4 21.41c.39.39.9.59 1.41.59.51 0 1.02-.2 1.41-.59l7.78-7.78 2.81-2.81c.8-.78.8-2.07 0-2.86zM5.41 20L4 18.59l7.72-7.72 1.47 1.35L5.41 20z\"/>\n",
              "  </svg>\n",
              "      </button>\n",
              "      \n",
              "  <style>\n",
              "    .colab-df-container {\n",
              "      display:flex;\n",
              "      flex-wrap:wrap;\n",
              "      gap: 12px;\n",
              "    }\n",
              "\n",
              "    .colab-df-convert {\n",
              "      background-color: #E8F0FE;\n",
              "      border: none;\n",
              "      border-radius: 50%;\n",
              "      cursor: pointer;\n",
              "      display: none;\n",
              "      fill: #1967D2;\n",
              "      height: 32px;\n",
              "      padding: 0 0 0 0;\n",
              "      width: 32px;\n",
              "    }\n",
              "\n",
              "    .colab-df-convert:hover {\n",
              "      background-color: #E2EBFA;\n",
              "      box-shadow: 0px 1px 2px rgba(60, 64, 67, 0.3), 0px 1px 3px 1px rgba(60, 64, 67, 0.15);\n",
              "      fill: #174EA6;\n",
              "    }\n",
              "\n",
              "    [theme=dark] .colab-df-convert {\n",
              "      background-color: #3B4455;\n",
              "      fill: #D2E3FC;\n",
              "    }\n",
              "\n",
              "    [theme=dark] .colab-df-convert:hover {\n",
              "      background-color: #434B5C;\n",
              "      box-shadow: 0px 1px 3px 1px rgba(0, 0, 0, 0.15);\n",
              "      filter: drop-shadow(0px 1px 2px rgba(0, 0, 0, 0.3));\n",
              "      fill: #FFFFFF;\n",
              "    }\n",
              "  </style>\n",
              "\n",
              "      <script>\n",
              "        const buttonEl =\n",
              "          document.querySelector('#df-340c5f0b-444e-47ea-98ed-77045dec7913 button.colab-df-convert');\n",
              "        buttonEl.style.display =\n",
              "          google.colab.kernel.accessAllowed ? 'block' : 'none';\n",
              "\n",
              "        async function convertToInteractive(key) {\n",
              "          const element = document.querySelector('#df-340c5f0b-444e-47ea-98ed-77045dec7913');\n",
              "          const dataTable =\n",
              "            await google.colab.kernel.invokeFunction('convertToInteractive',\n",
              "                                                     [key], {});\n",
              "          if (!dataTable) return;\n",
              "\n",
              "          const docLinkHtml = 'Like what you see? Visit the ' +\n",
              "            '<a target=\"_blank\" href=https://colab.research.google.com/notebooks/data_table.ipynb>data table notebook</a>'\n",
              "            + ' to learn more about interactive tables.';\n",
              "          element.innerHTML = '';\n",
              "          dataTable['output_type'] = 'display_data';\n",
              "          await google.colab.output.renderOutput(dataTable, element);\n",
              "          const docLink = document.createElement('div');\n",
              "          docLink.innerHTML = docLinkHtml;\n",
              "          element.appendChild(docLink);\n",
              "        }\n",
              "      </script>\n",
              "    </div>\n",
              "  </div>\n",
              "  "
            ]
          },
          "metadata": {},
          "execution_count": 18
        }
      ]
    },
    {
      "cell_type": "markdown",
      "source": [
        "* #### 清理資料 ####\n",
        ">ex:清理 薪資的資料：\n",
        ">1. 將 待遇面議 轉換成 0\n",
        ">2. 將 面議（經常性薪資4萬/月含以上）轉成 40000\n",
        ">3. 將 時薪 例如：150~200 轉成只取最低時薪 150\n",
        ">4. 移除數字中的, 例如\"30,000\"將,移除"
      ],
      "metadata": {
        "id": "n1daWLp9Z-dX"
      }
    },
    {
      "cell_type": "code",
      "source": [
        "#將四萬改成0  但是也可以改成40,000\n",
        "new_data_104['薪資'] = new_data_104.薪資.str.replace('面議（經常性薪資4萬/月含以上）', '40000')\n",
        "\n",
        "#將待遇面議改成0\n",
        "new_data_104['薪資'] = new_data_104.薪資.str.replace('待遇面議', '0')\n",
        "\n",
        "#時薪 取最低時薪\n",
        "new_data_104.loc[new_data_104.薪資.str.contains('~'),'薪資'] = new_data_104.loc[new_data_104.薪資.str.contains('~'),'薪資'].str.split('~').str[0]\n",
        "\n",
        "#數字有\"30,000\"將,移除\n",
        "new_data_104.loc[:,'薪資'] = new_data_104['薪資'].apply(lambda x:x.replace(',',''))\n",
        "\n",
        "# 薪資轉成int type\n",
        "# concat_104_1111.loc[:,'薪資'] = concat_104_1111['薪資'].astype(int)\n",
        "new_data_104.loc[:,'薪資'] = pd.to_numeric(new_data_104['薪資'])"
      ],
      "metadata": {
        "colab": {
          "base_uri": "https://localhost:8080/"
        },
        "id": "R_N610gDaevO",
        "outputId": "66c195a4-27fc-415f-c9ad-ffe4215eb470"
      },
      "execution_count": null,
      "outputs": [
        {
          "output_type": "stream",
          "name": "stderr",
          "text": [
            "/usr/local/lib/python3.7/dist-packages/ipykernel_launcher.py:2: SettingWithCopyWarning: \n",
            "A value is trying to be set on a copy of a slice from a DataFrame.\n",
            "Try using .loc[row_indexer,col_indexer] = value instead\n",
            "\n",
            "See the caveats in the documentation: https://pandas.pydata.org/pandas-docs/stable/user_guide/indexing.html#returning-a-view-versus-a-copy\n",
            "  \n",
            "/usr/local/lib/python3.7/dist-packages/ipykernel_launcher.py:5: SettingWithCopyWarning: \n",
            "A value is trying to be set on a copy of a slice from a DataFrame.\n",
            "Try using .loc[row_indexer,col_indexer] = value instead\n",
            "\n",
            "See the caveats in the documentation: https://pandas.pydata.org/pandas-docs/stable/user_guide/indexing.html#returning-a-view-versus-a-copy\n",
            "  \"\"\"\n",
            "/usr/local/lib/python3.7/dist-packages/pandas/core/indexing.py:1732: SettingWithCopyWarning: \n",
            "A value is trying to be set on a copy of a slice from a DataFrame\n",
            "\n",
            "See the caveats in the documentation: https://pandas.pydata.org/pandas-docs/stable/user_guide/indexing.html#returning-a-view-versus-a-copy\n",
            "  self._setitem_single_block(indexer, value, name)\n",
            "/usr/local/lib/python3.7/dist-packages/pandas/core/indexing.py:723: SettingWithCopyWarning: \n",
            "A value is trying to be set on a copy of a slice from a DataFrame\n",
            "\n",
            "See the caveats in the documentation: https://pandas.pydata.org/pandas-docs/stable/user_guide/indexing.html#returning-a-view-versus-a-copy\n",
            "  iloc._setitem_with_indexer(indexer, value, self.name)\n",
            "/usr/local/lib/python3.7/dist-packages/pandas/core/indexing.py:1951: SettingWithCopyWarning: \n",
            "A value is trying to be set on a copy of a slice from a DataFrame.\n",
            "Try using .loc[row_indexer,col_indexer] = value instead\n",
            "\n",
            "See the caveats in the documentation: https://pandas.pydata.org/pandas-docs/stable/user_guide/indexing.html#returning-a-view-versus-a-copy\n",
            "  self.obj[selected_item_labels] = value\n"
          ]
        }
      ]
    },
    {
      "cell_type": "code",
      "source": [
        "#薪資 已轉成 int64\n",
        "new_data_104.dtypes"
      ],
      "metadata": {
        "colab": {
          "base_uri": "https://localhost:8080/"
        },
        "id": "_GZMupFAbMJw",
        "outputId": "77590077-d1aa-464b-e6bb-8840e2d39b66"
      },
      "execution_count": null,
      "outputs": [
        {
          "output_type": "execute_result",
          "data": {
            "text/plain": [
              "日期      object\n",
              "工作名稱    object\n",
              "薪資       int64\n",
              "地區      object\n",
              "工作內容    object\n",
              "公司地址    object\n",
              "經歷      object\n",
              "學歷      object\n",
              "工作網址    object\n",
              "dtype: object"
            ]
          },
          "metadata": {},
          "execution_count": 20
        }
      ]
    },
    {
      "cell_type": "markdown",
      "source": [
        "* #### 過濾資料 ####\n",
        ">找想要的工作，\n",
        ">過濾方法：可以參考這篇 https://ithelp.ithome.com.tw/articles/10194003"
      ],
      "metadata": {
        "id": "WiTNmvJLbMeh"
      }
    },
    {
      "cell_type": "code",
      "source": [
        "#1萬至3萬之間、地區：台北市 這種過濾方法會寫越寫長\n",
        "#concat_104_1111.loc[concat_104_1111.薪資 > 10000].loc[concat_104_1111.薪資 < 30000].loc[concat_104_1111.地區.str.contains('台北市')]\n",
        "\n",
        "\n",
        "#4萬以上 找雙北 關鍵字：分析\n",
        "mask1 = new_data_104.薪資 >= 50000\n",
        "mask2 = new_data_104.地區.str.contains('台北市')\n",
        "mask3 = new_data_104.地區.str.contains('新北市')\n",
        "mask4 = new_data_104.地區.str.contains('台中市')\n",
        "mask5 = new_data_104.工作名稱.str.contains('分析')\n",
        "mask6 = new_data_104.工作名稱.str.contains('data')\n",
        "mask7 = new_data_104.工作名稱.str.contains('business')\n",
        "mask8 = new_data_104.工作內容.str.contains('金融') #工作內容簡介也許會有相關的工作\n",
        "mask9 = new_data_104.工作內容.str.contains('分析')\n",
        "mask10 = new_data_104.工作內容.str.contains('股票')\n",
        "\n",
        "\n",
        "\n",
        "#搜尋 3萬以上 工作名稱有\"證卷\"關鍵字、區域 台北市 新北市\n",
        "# & = and , | = or\n",
        "new_data_104.loc[((mask2 | mask3 | mask4) & mask1 & mask5) | ((mask2 | mask3 | mask4) & mask1 & mask10)]\n"
      ],
      "metadata": {
        "colab": {
          "base_uri": "https://localhost:8080/",
          "height": 1000
        },
        "id": "4_fYf7PGbMg7",
        "outputId": "5d0a6d3a-293d-4bac-eb96-3c2c6981367f"
      },
      "execution_count": null,
      "outputs": [
        {
          "output_type": "execute_result",
          "data": {
            "text/plain": [
              "         日期                                               工作名稱      薪資  \\\n",
              "50    11/23                         【採線上面談】 Data Analyst 資料分析師   50000   \n",
              "104   11/22            [BA] 軟體商業分析師 IT Business Analyst / 線上面談   50000   \n",
              "160   11/24                      資深資料分析師 (Senior Data Analyst)   55000   \n",
              "179   11/23                 【採線上面談】Senior Data Analyst 資深資料分析師   90000   \n",
              "191   11/25                               Data Analyst / 資料分析師   57750   \n",
              "269   11/21                                 Data Analyst 數據分析師   50000   \n",
              "270   11/21                                 Data Analyst 數據分析師   50000   \n",
              "282   11/04                           Business Analyst 商業流程分析師   70000   \n",
              "296   11/23                           Business Analyst / 商業分析師  600000   \n",
              "315   11/24  經營分析主任管理師<台北總部>(Management  analysis_ Principa...   60000   \n",
              "349   11/16                             Business Analyst 商業分析師   60000   \n",
              "528   11/23                          (Sr.) BI Analyst  BI 數據分析  650000   \n",
              "701   11/24                           Data engineer/數據工程師 (分析)   60000   \n",
              "764   11/22                                              系統分析師   60000   \n",
              "906   11/21                              Data Engineer 數據分析工程師  700000   \n",
              "1257  11/21                                              數據分析師   50000   \n",
              "1258  11/24                 Environmental Data Analyst 環境資料分析師  500000   \n",
              "1379  11/22            關鍵字付費廣告行銷人員 (遠端)｜廣告投放、關鍵字分析、數據分析｜外商科技新創  480000   \n",
              "1913  11/23  【FMCG美商】誠徵 財務分析暨稅務主任 (工作型態穩定/ 不須負擔管理責任/ 歡迎熟悉稅務...  700000   \n",
              "1930  11/23  【FMCG美商】誠徵 財務分析暨稅務主任 (工作型態穩定/ 不須負擔管理責任/ 歡迎熟悉稅務...  700000   \n",
              "1973  11/24                                系統分析師 / SA Engineer   55000   \n",
              "\n",
              "          地區                                               工作內容  \\\n",
              "50    台北市南港區   a Data Analyst does in Titansoft】  ．Conduct d...   \n",
              "104   台北市內湖區  你是產品開發團隊與業務需求部門中間不可或缺的角色。邏輯清晰，具備能夠把業務部門的需求(Bus...   \n",
              "160   台北市中山區   consistency of data2.Analyze business related...   \n",
              "179   台北市南港區   a Data Analyst does in Titansoft】  ．Conduct d...   \n",
              "191   台北市內湖區  •  Discover insights from a wide variety of da...   \n",
              "269   台北市松山區  The successful candidate will turn data into i...   \n",
              "270   台北市松山區  The successful candidate will turn data into i...   \n",
              "282   台北市松山區  保險商業流程需求分析人員(BA – Business Analyst)1. 明確定義保單行政...   \n",
              "296   台北市大同區  請至『 https://reurl.cc/ROOqLr 』進行投遞，我們會以此平台收到的履歷...   \n",
              "315   台北市大安區  1.主掌SRD事業處經營管理報告，透過內外部營運及財務分析，提供事業處經營與決策資訊2.掌握...   \n",
              "349   台中市北屯區  - 熟悉數據分析技巧，解析公司與產業的現況，包含可能遇到的問題、潛在的機會點- 具備完善的溝...   \n",
              "528   台北市中正區  - Set up and execute extract, transformation a...   \n",
              "701   台北市中正區   welcome proposals for new tooling stacks.*** ...   \n",
              "764   台北市中山區  1.負責電腦資訊之傳輸，以及電腦軟體、資料庫、資料結構之維修與研發。2.分析設計網路程式及界...   \n",
              "906   台北市信義區  工作職責：1. ETL處理：負責基於ElasticSearch Beats 、AWS Ste...   \n",
              "1257  台北市南港區  【職務內容】1. 建立、分析現有客戶資料，並提出數據洞察與建議。 2. CRM Data 數...   \n",
              "1258  新北市新店區  你是否對於保護環境具有滿腔的熱血，並且深信在這個時代可以透過軟體改變許多事情呢?!本公司是一...   \n",
              "1379  台北市大安區       management, digital media buying, PR and ...   \n",
              "1913  台北市內湖區  ._Prepare quarterly tax provision schedule_Pre...   \n",
              "1930  台北市內湖區  ._Prepare quarterly tax provision schedule_Pre...   \n",
              "1973  台北市大安區  1. Software development project management: (s...   \n",
              "\n",
              "                                    公司地址    經歷    學歷  \\\n",
              "50    台北市南港區台北市南港區園區街3之1號11樓之1（南港軟體園區G棟）  經歷不拘  學歷不拘   \n",
              "104               台北市內湖區瑞光路513巷22弄5號6樓之4  3年以上    大學   \n",
              "160                    台北市中山區樂群三路126號14樓  3年以上    大學   \n",
              "179   台北市南港區台北市南港區園區街3之1號11樓之1（南港軟體園區G棟）  5年以上  學歷不拘   \n",
              "191                       台北市內湖區瑞湖街58號3樓  1年以上    大學   \n",
              "269                 台北市松山區民生東路三段156號8樓之1  3年以上    大學   \n",
              "270                 台北市松山區民生東路三段156號8樓之1  3年以上    大學   \n",
              "282                      台北市松山區復興北路99號6樓  3年以上    專科   \n",
              "296                            台北市大同區承德路  1年以上    大學   \n",
              "315                               台北市大安區  5年以上    大學   \n",
              "349                        台中市北屯區河北二街78號  經歷不拘    大學   \n",
              "528                台北市中正區杭州南路一段15-1號 16F  2年以上    高中   \n",
              "701         台北市中正區忠孝東路二段112號9樓(忠孝新生2號出口)  3年以上    大學   \n",
              "764                      台北市中山區長春路326號2樓  3年以上  學歷不拘   \n",
              "906                          台北市信義區基隆路一段  1年以上    專科   \n",
              "1257                 台北市南港區南港路三段50巷14號5樓  8年以上    大學   \n",
              "1258                   新北市新店區北新路一段12號16樓  經歷不拘    大學   \n",
              "1379                台北市大安區安和路一段127巷21號2樓  2年以上    大學   \n",
              "1913                              台北市內湖區  3年以上    專科   \n",
              "1930                              台北市內湖區  3年以上    專科   \n",
              "1973                              台北市大安區  4年以上    專科   \n",
              "\n",
              "                                                   工作網址  \n",
              "50    www.104.com.tw/job/7h9ml?jobsource=jolist_c_re...  \n",
              "104   www.104.com.tw/job/7ktto?jobsource=jolist_d_re...  \n",
              "160   www.104.com.tw/job/7sg5r?jobsource=jolist_d_re...  \n",
              "179   www.104.com.tw/job/75hic?jobsource=jolist_a_re...  \n",
              "191   www.104.com.tw/job/6toi3?jobsource=jolist_c_re...  \n",
              "269   www.104.com.tw/job/7t7ba?jobsource=jolist_a_re...  \n",
              "270   www.104.com.tw/job/7t7ba?jobsource=jolist_d_re...  \n",
              "282   www.104.com.tw/job/740bq?jobsource=jolist_d_re...  \n",
              "296   www.104.com.tw/job/7til2?jobsource=jolist_b_re...  \n",
              "315   www.104.com.tw/job/6sqwj?jobsource=jolist_d_re...  \n",
              "349   www.104.com.tw/job/7sagr?jobsource=jolist_a_re...  \n",
              "528   www.104.com.tw/job/7t18k?jobsource=jolist_d_re...  \n",
              "701   www.104.com.tw/job/7qw5l?jobsource=jolist_c_re...  \n",
              "764   www.104.com.tw/job/3n66d?jobsource=jolist_c_re...  \n",
              "906   www.104.com.tw/job/7rkad?jobsource=jolist_b_re...  \n",
              "1257  www.104.com.tw/job/7sf5g?jobsource=jolist_d_re...  \n",
              "1258  www.104.com.tw/job/79mw4?jobsource=jolist_d_re...  \n",
              "1379  www.104.com.tw/job/7p8zb?jobsource=jolist_c_re...  \n",
              "1913  www.104.com.tw/job/746xf?jobsource=jolist_c_re...  \n",
              "1930  www.104.com.tw/job/746xf?jobsource=jolist_a_re...  \n",
              "1973  www.104.com.tw/job/7r7ur?jobsource=jolist_c_re...  "
            ],
            "text/html": [
              "\n",
              "  <div id=\"df-9e318682-5e35-4c99-9f0a-a1c9d30a6599\">\n",
              "    <div class=\"colab-df-container\">\n",
              "      <div>\n",
              "<style scoped>\n",
              "    .dataframe tbody tr th:only-of-type {\n",
              "        vertical-align: middle;\n",
              "    }\n",
              "\n",
              "    .dataframe tbody tr th {\n",
              "        vertical-align: top;\n",
              "    }\n",
              "\n",
              "    .dataframe thead th {\n",
              "        text-align: right;\n",
              "    }\n",
              "</style>\n",
              "<table border=\"1\" class=\"dataframe\">\n",
              "  <thead>\n",
              "    <tr style=\"text-align: right;\">\n",
              "      <th></th>\n",
              "      <th>日期</th>\n",
              "      <th>工作名稱</th>\n",
              "      <th>薪資</th>\n",
              "      <th>地區</th>\n",
              "      <th>工作內容</th>\n",
              "      <th>公司地址</th>\n",
              "      <th>經歷</th>\n",
              "      <th>學歷</th>\n",
              "      <th>工作網址</th>\n",
              "    </tr>\n",
              "  </thead>\n",
              "  <tbody>\n",
              "    <tr>\n",
              "      <th>50</th>\n",
              "      <td>11/23</td>\n",
              "      <td>【採線上面談】 Data Analyst 資料分析師</td>\n",
              "      <td>50000</td>\n",
              "      <td>台北市南港區</td>\n",
              "      <td>a Data Analyst does in Titansoft】  ．Conduct d...</td>\n",
              "      <td>台北市南港區台北市南港區園區街3之1號11樓之1（南港軟體園區G棟）</td>\n",
              "      <td>經歷不拘</td>\n",
              "      <td>學歷不拘</td>\n",
              "      <td>www.104.com.tw/job/7h9ml?jobsource=jolist_c_re...</td>\n",
              "    </tr>\n",
              "    <tr>\n",
              "      <th>104</th>\n",
              "      <td>11/22</td>\n",
              "      <td>[BA] 軟體商業分析師 IT Business Analyst / 線上面談</td>\n",
              "      <td>50000</td>\n",
              "      <td>台北市內湖區</td>\n",
              "      <td>你是產品開發團隊與業務需求部門中間不可或缺的角色。邏輯清晰，具備能夠把業務部門的需求(Bus...</td>\n",
              "      <td>台北市內湖區瑞光路513巷22弄5號6樓之4</td>\n",
              "      <td>3年以上</td>\n",
              "      <td>大學</td>\n",
              "      <td>www.104.com.tw/job/7ktto?jobsource=jolist_d_re...</td>\n",
              "    </tr>\n",
              "    <tr>\n",
              "      <th>160</th>\n",
              "      <td>11/24</td>\n",
              "      <td>資深資料分析師 (Senior Data Analyst)</td>\n",
              "      <td>55000</td>\n",
              "      <td>台北市中山區</td>\n",
              "      <td>consistency of data2.Analyze business related...</td>\n",
              "      <td>台北市中山區樂群三路126號14樓</td>\n",
              "      <td>3年以上</td>\n",
              "      <td>大學</td>\n",
              "      <td>www.104.com.tw/job/7sg5r?jobsource=jolist_d_re...</td>\n",
              "    </tr>\n",
              "    <tr>\n",
              "      <th>179</th>\n",
              "      <td>11/23</td>\n",
              "      <td>【採線上面談】Senior Data Analyst 資深資料分析師</td>\n",
              "      <td>90000</td>\n",
              "      <td>台北市南港區</td>\n",
              "      <td>a Data Analyst does in Titansoft】  ．Conduct d...</td>\n",
              "      <td>台北市南港區台北市南港區園區街3之1號11樓之1（南港軟體園區G棟）</td>\n",
              "      <td>5年以上</td>\n",
              "      <td>學歷不拘</td>\n",
              "      <td>www.104.com.tw/job/75hic?jobsource=jolist_a_re...</td>\n",
              "    </tr>\n",
              "    <tr>\n",
              "      <th>191</th>\n",
              "      <td>11/25</td>\n",
              "      <td>Data Analyst / 資料分析師</td>\n",
              "      <td>57750</td>\n",
              "      <td>台北市內湖區</td>\n",
              "      <td>•  Discover insights from a wide variety of da...</td>\n",
              "      <td>台北市內湖區瑞湖街58號3樓</td>\n",
              "      <td>1年以上</td>\n",
              "      <td>大學</td>\n",
              "      <td>www.104.com.tw/job/6toi3?jobsource=jolist_c_re...</td>\n",
              "    </tr>\n",
              "    <tr>\n",
              "      <th>269</th>\n",
              "      <td>11/21</td>\n",
              "      <td>Data Analyst 數據分析師</td>\n",
              "      <td>50000</td>\n",
              "      <td>台北市松山區</td>\n",
              "      <td>The successful candidate will turn data into i...</td>\n",
              "      <td>台北市松山區民生東路三段156號8樓之1</td>\n",
              "      <td>3年以上</td>\n",
              "      <td>大學</td>\n",
              "      <td>www.104.com.tw/job/7t7ba?jobsource=jolist_a_re...</td>\n",
              "    </tr>\n",
              "    <tr>\n",
              "      <th>270</th>\n",
              "      <td>11/21</td>\n",
              "      <td>Data Analyst 數據分析師</td>\n",
              "      <td>50000</td>\n",
              "      <td>台北市松山區</td>\n",
              "      <td>The successful candidate will turn data into i...</td>\n",
              "      <td>台北市松山區民生東路三段156號8樓之1</td>\n",
              "      <td>3年以上</td>\n",
              "      <td>大學</td>\n",
              "      <td>www.104.com.tw/job/7t7ba?jobsource=jolist_d_re...</td>\n",
              "    </tr>\n",
              "    <tr>\n",
              "      <th>282</th>\n",
              "      <td>11/04</td>\n",
              "      <td>Business Analyst 商業流程分析師</td>\n",
              "      <td>70000</td>\n",
              "      <td>台北市松山區</td>\n",
              "      <td>保險商業流程需求分析人員(BA – Business Analyst)1. 明確定義保單行政...</td>\n",
              "      <td>台北市松山區復興北路99號6樓</td>\n",
              "      <td>3年以上</td>\n",
              "      <td>專科</td>\n",
              "      <td>www.104.com.tw/job/740bq?jobsource=jolist_d_re...</td>\n",
              "    </tr>\n",
              "    <tr>\n",
              "      <th>296</th>\n",
              "      <td>11/23</td>\n",
              "      <td>Business Analyst / 商業分析師</td>\n",
              "      <td>600000</td>\n",
              "      <td>台北市大同區</td>\n",
              "      <td>請至『 https://reurl.cc/ROOqLr 』進行投遞，我們會以此平台收到的履歷...</td>\n",
              "      <td>台北市大同區承德路</td>\n",
              "      <td>1年以上</td>\n",
              "      <td>大學</td>\n",
              "      <td>www.104.com.tw/job/7til2?jobsource=jolist_b_re...</td>\n",
              "    </tr>\n",
              "    <tr>\n",
              "      <th>315</th>\n",
              "      <td>11/24</td>\n",
              "      <td>經營分析主任管理師&lt;台北總部&gt;(Management  analysis_ Principa...</td>\n",
              "      <td>60000</td>\n",
              "      <td>台北市大安區</td>\n",
              "      <td>1.主掌SRD事業處經營管理報告，透過內外部營運及財務分析，提供事業處經營與決策資訊2.掌握...</td>\n",
              "      <td>台北市大安區</td>\n",
              "      <td>5年以上</td>\n",
              "      <td>大學</td>\n",
              "      <td>www.104.com.tw/job/6sqwj?jobsource=jolist_d_re...</td>\n",
              "    </tr>\n",
              "    <tr>\n",
              "      <th>349</th>\n",
              "      <td>11/16</td>\n",
              "      <td>Business Analyst 商業分析師</td>\n",
              "      <td>60000</td>\n",
              "      <td>台中市北屯區</td>\n",
              "      <td>- 熟悉數據分析技巧，解析公司與產業的現況，包含可能遇到的問題、潛在的機會點- 具備完善的溝...</td>\n",
              "      <td>台中市北屯區河北二街78號</td>\n",
              "      <td>經歷不拘</td>\n",
              "      <td>大學</td>\n",
              "      <td>www.104.com.tw/job/7sagr?jobsource=jolist_a_re...</td>\n",
              "    </tr>\n",
              "    <tr>\n",
              "      <th>528</th>\n",
              "      <td>11/23</td>\n",
              "      <td>(Sr.) BI Analyst  BI 數據分析</td>\n",
              "      <td>650000</td>\n",
              "      <td>台北市中正區</td>\n",
              "      <td>- Set up and execute extract, transformation a...</td>\n",
              "      <td>台北市中正區杭州南路一段15-1號 16F</td>\n",
              "      <td>2年以上</td>\n",
              "      <td>高中</td>\n",
              "      <td>www.104.com.tw/job/7t18k?jobsource=jolist_d_re...</td>\n",
              "    </tr>\n",
              "    <tr>\n",
              "      <th>701</th>\n",
              "      <td>11/24</td>\n",
              "      <td>Data engineer/數據工程師 (分析)</td>\n",
              "      <td>60000</td>\n",
              "      <td>台北市中正區</td>\n",
              "      <td>welcome proposals for new tooling stacks.*** ...</td>\n",
              "      <td>台北市中正區忠孝東路二段112號9樓(忠孝新生2號出口)</td>\n",
              "      <td>3年以上</td>\n",
              "      <td>大學</td>\n",
              "      <td>www.104.com.tw/job/7qw5l?jobsource=jolist_c_re...</td>\n",
              "    </tr>\n",
              "    <tr>\n",
              "      <th>764</th>\n",
              "      <td>11/22</td>\n",
              "      <td>系統分析師</td>\n",
              "      <td>60000</td>\n",
              "      <td>台北市中山區</td>\n",
              "      <td>1.負責電腦資訊之傳輸，以及電腦軟體、資料庫、資料結構之維修與研發。2.分析設計網路程式及界...</td>\n",
              "      <td>台北市中山區長春路326號2樓</td>\n",
              "      <td>3年以上</td>\n",
              "      <td>學歷不拘</td>\n",
              "      <td>www.104.com.tw/job/3n66d?jobsource=jolist_c_re...</td>\n",
              "    </tr>\n",
              "    <tr>\n",
              "      <th>906</th>\n",
              "      <td>11/21</td>\n",
              "      <td>Data Engineer 數據分析工程師</td>\n",
              "      <td>700000</td>\n",
              "      <td>台北市信義區</td>\n",
              "      <td>工作職責：1. ETL處理：負責基於ElasticSearch Beats 、AWS Ste...</td>\n",
              "      <td>台北市信義區基隆路一段</td>\n",
              "      <td>1年以上</td>\n",
              "      <td>專科</td>\n",
              "      <td>www.104.com.tw/job/7rkad?jobsource=jolist_b_re...</td>\n",
              "    </tr>\n",
              "    <tr>\n",
              "      <th>1257</th>\n",
              "      <td>11/21</td>\n",
              "      <td>數據分析師</td>\n",
              "      <td>50000</td>\n",
              "      <td>台北市南港區</td>\n",
              "      <td>【職務內容】1. 建立、分析現有客戶資料，並提出數據洞察與建議。 2. CRM Data 數...</td>\n",
              "      <td>台北市南港區南港路三段50巷14號5樓</td>\n",
              "      <td>8年以上</td>\n",
              "      <td>大學</td>\n",
              "      <td>www.104.com.tw/job/7sf5g?jobsource=jolist_d_re...</td>\n",
              "    </tr>\n",
              "    <tr>\n",
              "      <th>1258</th>\n",
              "      <td>11/24</td>\n",
              "      <td>Environmental Data Analyst 環境資料分析師</td>\n",
              "      <td>500000</td>\n",
              "      <td>新北市新店區</td>\n",
              "      <td>你是否對於保護環境具有滿腔的熱血，並且深信在這個時代可以透過軟體改變許多事情呢?!本公司是一...</td>\n",
              "      <td>新北市新店區北新路一段12號16樓</td>\n",
              "      <td>經歷不拘</td>\n",
              "      <td>大學</td>\n",
              "      <td>www.104.com.tw/job/79mw4?jobsource=jolist_d_re...</td>\n",
              "    </tr>\n",
              "    <tr>\n",
              "      <th>1379</th>\n",
              "      <td>11/22</td>\n",
              "      <td>關鍵字付費廣告行銷人員 (遠端)｜廣告投放、關鍵字分析、數據分析｜外商科技新創</td>\n",
              "      <td>480000</td>\n",
              "      <td>台北市大安區</td>\n",
              "      <td>management, digital media buying, PR and ...</td>\n",
              "      <td>台北市大安區安和路一段127巷21號2樓</td>\n",
              "      <td>2年以上</td>\n",
              "      <td>大學</td>\n",
              "      <td>www.104.com.tw/job/7p8zb?jobsource=jolist_c_re...</td>\n",
              "    </tr>\n",
              "    <tr>\n",
              "      <th>1913</th>\n",
              "      <td>11/23</td>\n",
              "      <td>【FMCG美商】誠徵 財務分析暨稅務主任 (工作型態穩定/ 不須負擔管理責任/ 歡迎熟悉稅務...</td>\n",
              "      <td>700000</td>\n",
              "      <td>台北市內湖區</td>\n",
              "      <td>._Prepare quarterly tax provision schedule_Pre...</td>\n",
              "      <td>台北市內湖區</td>\n",
              "      <td>3年以上</td>\n",
              "      <td>專科</td>\n",
              "      <td>www.104.com.tw/job/746xf?jobsource=jolist_c_re...</td>\n",
              "    </tr>\n",
              "    <tr>\n",
              "      <th>1930</th>\n",
              "      <td>11/23</td>\n",
              "      <td>【FMCG美商】誠徵 財務分析暨稅務主任 (工作型態穩定/ 不須負擔管理責任/ 歡迎熟悉稅務...</td>\n",
              "      <td>700000</td>\n",
              "      <td>台北市內湖區</td>\n",
              "      <td>._Prepare quarterly tax provision schedule_Pre...</td>\n",
              "      <td>台北市內湖區</td>\n",
              "      <td>3年以上</td>\n",
              "      <td>專科</td>\n",
              "      <td>www.104.com.tw/job/746xf?jobsource=jolist_a_re...</td>\n",
              "    </tr>\n",
              "    <tr>\n",
              "      <th>1973</th>\n",
              "      <td>11/24</td>\n",
              "      <td>系統分析師 / SA Engineer</td>\n",
              "      <td>55000</td>\n",
              "      <td>台北市大安區</td>\n",
              "      <td>1. Software development project management: (s...</td>\n",
              "      <td>台北市大安區</td>\n",
              "      <td>4年以上</td>\n",
              "      <td>專科</td>\n",
              "      <td>www.104.com.tw/job/7r7ur?jobsource=jolist_c_re...</td>\n",
              "    </tr>\n",
              "  </tbody>\n",
              "</table>\n",
              "</div>\n",
              "      <button class=\"colab-df-convert\" onclick=\"convertToInteractive('df-9e318682-5e35-4c99-9f0a-a1c9d30a6599')\"\n",
              "              title=\"Convert this dataframe to an interactive table.\"\n",
              "              style=\"display:none;\">\n",
              "        \n",
              "  <svg xmlns=\"http://www.w3.org/2000/svg\" height=\"24px\"viewBox=\"0 0 24 24\"\n",
              "       width=\"24px\">\n",
              "    <path d=\"M0 0h24v24H0V0z\" fill=\"none\"/>\n",
              "    <path d=\"M18.56 5.44l.94 2.06.94-2.06 2.06-.94-2.06-.94-.94-2.06-.94 2.06-2.06.94zm-11 1L8.5 8.5l.94-2.06 2.06-.94-2.06-.94L8.5 2.5l-.94 2.06-2.06.94zm10 10l.94 2.06.94-2.06 2.06-.94-2.06-.94-.94-2.06-.94 2.06-2.06.94z\"/><path d=\"M17.41 7.96l-1.37-1.37c-.4-.4-.92-.59-1.43-.59-.52 0-1.04.2-1.43.59L10.3 9.45l-7.72 7.72c-.78.78-.78 2.05 0 2.83L4 21.41c.39.39.9.59 1.41.59.51 0 1.02-.2 1.41-.59l7.78-7.78 2.81-2.81c.8-.78.8-2.07 0-2.86zM5.41 20L4 18.59l7.72-7.72 1.47 1.35L5.41 20z\"/>\n",
              "  </svg>\n",
              "      </button>\n",
              "      \n",
              "  <style>\n",
              "    .colab-df-container {\n",
              "      display:flex;\n",
              "      flex-wrap:wrap;\n",
              "      gap: 12px;\n",
              "    }\n",
              "\n",
              "    .colab-df-convert {\n",
              "      background-color: #E8F0FE;\n",
              "      border: none;\n",
              "      border-radius: 50%;\n",
              "      cursor: pointer;\n",
              "      display: none;\n",
              "      fill: #1967D2;\n",
              "      height: 32px;\n",
              "      padding: 0 0 0 0;\n",
              "      width: 32px;\n",
              "    }\n",
              "\n",
              "    .colab-df-convert:hover {\n",
              "      background-color: #E2EBFA;\n",
              "      box-shadow: 0px 1px 2px rgba(60, 64, 67, 0.3), 0px 1px 3px 1px rgba(60, 64, 67, 0.15);\n",
              "      fill: #174EA6;\n",
              "    }\n",
              "\n",
              "    [theme=dark] .colab-df-convert {\n",
              "      background-color: #3B4455;\n",
              "      fill: #D2E3FC;\n",
              "    }\n",
              "\n",
              "    [theme=dark] .colab-df-convert:hover {\n",
              "      background-color: #434B5C;\n",
              "      box-shadow: 0px 1px 3px 1px rgba(0, 0, 0, 0.15);\n",
              "      filter: drop-shadow(0px 1px 2px rgba(0, 0, 0, 0.3));\n",
              "      fill: #FFFFFF;\n",
              "    }\n",
              "  </style>\n",
              "\n",
              "      <script>\n",
              "        const buttonEl =\n",
              "          document.querySelector('#df-9e318682-5e35-4c99-9f0a-a1c9d30a6599 button.colab-df-convert');\n",
              "        buttonEl.style.display =\n",
              "          google.colab.kernel.accessAllowed ? 'block' : 'none';\n",
              "\n",
              "        async function convertToInteractive(key) {\n",
              "          const element = document.querySelector('#df-9e318682-5e35-4c99-9f0a-a1c9d30a6599');\n",
              "          const dataTable =\n",
              "            await google.colab.kernel.invokeFunction('convertToInteractive',\n",
              "                                                     [key], {});\n",
              "          if (!dataTable) return;\n",
              "\n",
              "          const docLinkHtml = 'Like what you see? Visit the ' +\n",
              "            '<a target=\"_blank\" href=https://colab.research.google.com/notebooks/data_table.ipynb>data table notebook</a>'\n",
              "            + ' to learn more about interactive tables.';\n",
              "          element.innerHTML = '';\n",
              "          dataTable['output_type'] = 'display_data';\n",
              "          await google.colab.output.renderOutput(dataTable, element);\n",
              "          const docLink = document.createElement('div');\n",
              "          docLink.innerHTML = docLinkHtml;\n",
              "          element.appendChild(docLink);\n",
              "        }\n",
              "      </script>\n",
              "    </div>\n",
              "  </div>\n",
              "  "
            ]
          },
          "metadata": {},
          "execution_count": 22
        }
      ]
    },
    {
      "cell_type": "code",
      "source": [
        "#儲存成 Excel格式檔\n",
        "file_name = str(get_todate()) + '104職缺-數據分析' #檔案名稱\n",
        "save_excel = new_data_104.loc[((mask2 | mask3 | mask4) & mask1 & mask5) | ((mask2 | mask3 | mask4) & mask1 & mask10)]\n",
        "save_excel.to_excel('jobs_csv/{}.xlsx'.format(file_name), sheet_name='passengers', index=False)"
      ],
      "metadata": {
        "id": "p5bUx0bTdIde"
      },
      "execution_count": null,
      "outputs": []
    },
    {
      "cell_type": "code",
      "source": [
        "#我想兼差打工 50至1000之間\n",
        "new_data_104.loc[new_data_104.薪資 > 50].loc[new_data_104.薪資 < 1000]"
      ],
      "metadata": {
        "colab": {
          "base_uri": "https://localhost:8080/",
          "height": 659
        },
        "id": "iMk4A9kxdbVn",
        "outputId": "4571bbd0-fed8-49aa-d158-7f60cbabf4f5"
      },
      "execution_count": null,
      "outputs": [
        {
          "output_type": "execute_result",
          "data": {
            "text/plain": [
              "         日期                                               工作名稱   薪資      地區  \\\n",
              "19    11/09  Intern - Data Analysis Intern (1 year contract...  170  台中市西屯區   \n",
              "22    11/15  RegTech Development & Data Analysis Intern (6 ...  230  台北市信義區   \n",
              "36    11/21                              [Intern] Data Analyst  168  台北市信義區   \n",
              "54    11/24                Data Analyst Intern / Shopee Xpress  180  台北市信義區   \n",
              "61    11/23                       Data Analysis Intern 數據分析實習生  180  台北市信義區   \n",
              "...     ...                                                ...  ...     ...   \n",
              "2760  11/17                       單車喜客OAKLEY 專櫃兼職人員-台中三井Outlet  170  台中市梧棲區   \n",
              "2784  11/22                            增編｜外場服務人員｜培訓後可轉儲備幹部｜八田源  190  高雄市鼓山區   \n",
              "2801  11/24                         POKE GO波奇走走 兼職人員～即將開幕台北信義店  170  台北市信義區   \n",
              "2818  11/24                         POKE GO波奇走走 兼職人員～即將開幕台北信義店  170  台北市信義區   \n",
              "2844  11/09  Intern - Software Test Automation Intern (1-ye...  170  新北市林口區   \n",
              "\n",
              "                                                   工作內容  \\\n",
              "19      This position will be located in Taichung.  ...   \n",
              "22     data into information and turn information in...   \n",
              "36     payment, contract and invoice with Finance an...   \n",
              "54    Job Description:1. Support daily data request ...   \n",
              "61    工作職責：實現數據提取和轉換；及時、準確地提供數據支持為策略開發蒐集整理並清洗數據，評估類似...   \n",
              "...                                                 ...   \n",
              "2760  我們徵求：1.充滿熱情的您2.認真、積極、努力以及肯挑戰的您3.有相關服務業/百貨業/運動品...   \n",
              "2784  ｜人力增編｜1、適合晚睡晚起不想朝九晚五的你2、需要外向愛笑、反應機靈的你，能夠照顧外場客人...   \n",
              "2801  工作內容1. 負責協助客人點餐，製餐以及結帳等工作。2. 餐具清潔，備料。3. 整理工作與環...   \n",
              "2818  工作內容1. 負責協助客人點餐，製餐以及結帳等工作。2. 餐具清潔，備料。3. 整理工作與環...   \n",
              "2844   analysis and system design of test automation...   \n",
              "\n",
              "                           公司地址    經歷    學歷  \\\n",
              "19                       台中市西屯區  經歷不拘    大學   \n",
              "22    台北市信義區信義路五段7號30樓(台北101大樓)  經歷不拘    大學   \n",
              "36                台北市信義區松仁路123號  經歷不拘    大學   \n",
              "54                 台北市信義區菸廠路88號  1年以上    大學   \n",
              "61                  台北市信義區基隆路1段  經歷不拘    大學   \n",
              "...                         ...   ...   ...   \n",
              "2760     台中市梧棲區台中市梧棲區臺灣大道十段168號  經歷不拘    高中   \n",
              "2784              高雄市鼓山區青海路189號  1年以上    高中   \n",
              "2801            台北市信義區吳興街（波奇走走)  經歷不拘  學歷不拘   \n",
              "2818            台北市信義區吳興街（波奇走走)  經歷不拘  學歷不拘   \n",
              "2844          新北市林口區公道五路三段一號十一樓  經歷不拘    碩士   \n",
              "\n",
              "                                                   工作網址  \n",
              "19    www.104.com.tw/job/7st5l?jobsource=jolist_a_re...  \n",
              "22    www.104.com.tw/job/6srxr?jobsource=jolist_a_re...  \n",
              "36    www.104.com.tw/job/7svwu?jobsource=jolist_c_re...  \n",
              "54    www.104.com.tw/job/7dnje?jobsource=jolist_c_re...  \n",
              "61    www.104.com.tw/job/7skor?jobsource=jolist_c_re...  \n",
              "...                                                 ...  \n",
              "2760  www.104.com.tw/job/7qprq?jobsource=jolist_a_re...  \n",
              "2784  www.104.com.tw/job/77lkz?jobsource=jolist_a_re...  \n",
              "2801  www.104.com.tw/job/7sq3r?jobsource=jolist_b_re...  \n",
              "2818  www.104.com.tw/job/7sq3r?jobsource=jolist_c_re...  \n",
              "2844  www.104.com.tw/job/7rzj8?jobsource=jolist_d_re...  \n",
              "\n",
              "[115 rows x 9 columns]"
            ],
            "text/html": [
              "\n",
              "  <div id=\"df-6d5d25a2-f754-4e9a-a0bd-193926f9b9e7\">\n",
              "    <div class=\"colab-df-container\">\n",
              "      <div>\n",
              "<style scoped>\n",
              "    .dataframe tbody tr th:only-of-type {\n",
              "        vertical-align: middle;\n",
              "    }\n",
              "\n",
              "    .dataframe tbody tr th {\n",
              "        vertical-align: top;\n",
              "    }\n",
              "\n",
              "    .dataframe thead th {\n",
              "        text-align: right;\n",
              "    }\n",
              "</style>\n",
              "<table border=\"1\" class=\"dataframe\">\n",
              "  <thead>\n",
              "    <tr style=\"text-align: right;\">\n",
              "      <th></th>\n",
              "      <th>日期</th>\n",
              "      <th>工作名稱</th>\n",
              "      <th>薪資</th>\n",
              "      <th>地區</th>\n",
              "      <th>工作內容</th>\n",
              "      <th>公司地址</th>\n",
              "      <th>經歷</th>\n",
              "      <th>學歷</th>\n",
              "      <th>工作網址</th>\n",
              "    </tr>\n",
              "  </thead>\n",
              "  <tbody>\n",
              "    <tr>\n",
              "      <th>19</th>\n",
              "      <td>11/09</td>\n",
              "      <td>Intern - Data Analysis Intern (1 year contract...</td>\n",
              "      <td>170</td>\n",
              "      <td>台中市西屯區</td>\n",
              "      <td>This position will be located in Taichung.  ...</td>\n",
              "      <td>台中市西屯區</td>\n",
              "      <td>經歷不拘</td>\n",
              "      <td>大學</td>\n",
              "      <td>www.104.com.tw/job/7st5l?jobsource=jolist_a_re...</td>\n",
              "    </tr>\n",
              "    <tr>\n",
              "      <th>22</th>\n",
              "      <td>11/15</td>\n",
              "      <td>RegTech Development &amp; Data Analysis Intern (6 ...</td>\n",
              "      <td>230</td>\n",
              "      <td>台北市信義區</td>\n",
              "      <td>data into information and turn information in...</td>\n",
              "      <td>台北市信義區信義路五段7號30樓(台北101大樓)</td>\n",
              "      <td>經歷不拘</td>\n",
              "      <td>大學</td>\n",
              "      <td>www.104.com.tw/job/6srxr?jobsource=jolist_a_re...</td>\n",
              "    </tr>\n",
              "    <tr>\n",
              "      <th>36</th>\n",
              "      <td>11/21</td>\n",
              "      <td>[Intern] Data Analyst</td>\n",
              "      <td>168</td>\n",
              "      <td>台北市信義區</td>\n",
              "      <td>payment, contract and invoice with Finance an...</td>\n",
              "      <td>台北市信義區松仁路123號</td>\n",
              "      <td>經歷不拘</td>\n",
              "      <td>大學</td>\n",
              "      <td>www.104.com.tw/job/7svwu?jobsource=jolist_c_re...</td>\n",
              "    </tr>\n",
              "    <tr>\n",
              "      <th>54</th>\n",
              "      <td>11/24</td>\n",
              "      <td>Data Analyst Intern / Shopee Xpress</td>\n",
              "      <td>180</td>\n",
              "      <td>台北市信義區</td>\n",
              "      <td>Job Description:1. Support daily data request ...</td>\n",
              "      <td>台北市信義區菸廠路88號</td>\n",
              "      <td>1年以上</td>\n",
              "      <td>大學</td>\n",
              "      <td>www.104.com.tw/job/7dnje?jobsource=jolist_c_re...</td>\n",
              "    </tr>\n",
              "    <tr>\n",
              "      <th>61</th>\n",
              "      <td>11/23</td>\n",
              "      <td>Data Analysis Intern 數據分析實習生</td>\n",
              "      <td>180</td>\n",
              "      <td>台北市信義區</td>\n",
              "      <td>工作職責：實現數據提取和轉換；及時、準確地提供數據支持為策略開發蒐集整理並清洗數據，評估類似...</td>\n",
              "      <td>台北市信義區基隆路1段</td>\n",
              "      <td>經歷不拘</td>\n",
              "      <td>大學</td>\n",
              "      <td>www.104.com.tw/job/7skor?jobsource=jolist_c_re...</td>\n",
              "    </tr>\n",
              "    <tr>\n",
              "      <th>...</th>\n",
              "      <td>...</td>\n",
              "      <td>...</td>\n",
              "      <td>...</td>\n",
              "      <td>...</td>\n",
              "      <td>...</td>\n",
              "      <td>...</td>\n",
              "      <td>...</td>\n",
              "      <td>...</td>\n",
              "      <td>...</td>\n",
              "    </tr>\n",
              "    <tr>\n",
              "      <th>2760</th>\n",
              "      <td>11/17</td>\n",
              "      <td>單車喜客OAKLEY 專櫃兼職人員-台中三井Outlet</td>\n",
              "      <td>170</td>\n",
              "      <td>台中市梧棲區</td>\n",
              "      <td>我們徵求：1.充滿熱情的您2.認真、積極、努力以及肯挑戰的您3.有相關服務業/百貨業/運動品...</td>\n",
              "      <td>台中市梧棲區台中市梧棲區臺灣大道十段168號</td>\n",
              "      <td>經歷不拘</td>\n",
              "      <td>高中</td>\n",
              "      <td>www.104.com.tw/job/7qprq?jobsource=jolist_a_re...</td>\n",
              "    </tr>\n",
              "    <tr>\n",
              "      <th>2784</th>\n",
              "      <td>11/22</td>\n",
              "      <td>增編｜外場服務人員｜培訓後可轉儲備幹部｜八田源</td>\n",
              "      <td>190</td>\n",
              "      <td>高雄市鼓山區</td>\n",
              "      <td>｜人力增編｜1、適合晚睡晚起不想朝九晚五的你2、需要外向愛笑、反應機靈的你，能夠照顧外場客人...</td>\n",
              "      <td>高雄市鼓山區青海路189號</td>\n",
              "      <td>1年以上</td>\n",
              "      <td>高中</td>\n",
              "      <td>www.104.com.tw/job/77lkz?jobsource=jolist_a_re...</td>\n",
              "    </tr>\n",
              "    <tr>\n",
              "      <th>2801</th>\n",
              "      <td>11/24</td>\n",
              "      <td>POKE GO波奇走走 兼職人員～即將開幕台北信義店</td>\n",
              "      <td>170</td>\n",
              "      <td>台北市信義區</td>\n",
              "      <td>工作內容1. 負責協助客人點餐，製餐以及結帳等工作。2. 餐具清潔，備料。3. 整理工作與環...</td>\n",
              "      <td>台北市信義區吳興街（波奇走走)</td>\n",
              "      <td>經歷不拘</td>\n",
              "      <td>學歷不拘</td>\n",
              "      <td>www.104.com.tw/job/7sq3r?jobsource=jolist_b_re...</td>\n",
              "    </tr>\n",
              "    <tr>\n",
              "      <th>2818</th>\n",
              "      <td>11/24</td>\n",
              "      <td>POKE GO波奇走走 兼職人員～即將開幕台北信義店</td>\n",
              "      <td>170</td>\n",
              "      <td>台北市信義區</td>\n",
              "      <td>工作內容1. 負責協助客人點餐，製餐以及結帳等工作。2. 餐具清潔，備料。3. 整理工作與環...</td>\n",
              "      <td>台北市信義區吳興街（波奇走走)</td>\n",
              "      <td>經歷不拘</td>\n",
              "      <td>學歷不拘</td>\n",
              "      <td>www.104.com.tw/job/7sq3r?jobsource=jolist_c_re...</td>\n",
              "    </tr>\n",
              "    <tr>\n",
              "      <th>2844</th>\n",
              "      <td>11/09</td>\n",
              "      <td>Intern - Software Test Automation Intern (1-ye...</td>\n",
              "      <td>170</td>\n",
              "      <td>新北市林口區</td>\n",
              "      <td>analysis and system design of test automation...</td>\n",
              "      <td>新北市林口區公道五路三段一號十一樓</td>\n",
              "      <td>經歷不拘</td>\n",
              "      <td>碩士</td>\n",
              "      <td>www.104.com.tw/job/7rzj8?jobsource=jolist_d_re...</td>\n",
              "    </tr>\n",
              "  </tbody>\n",
              "</table>\n",
              "<p>115 rows × 9 columns</p>\n",
              "</div>\n",
              "      <button class=\"colab-df-convert\" onclick=\"convertToInteractive('df-6d5d25a2-f754-4e9a-a0bd-193926f9b9e7')\"\n",
              "              title=\"Convert this dataframe to an interactive table.\"\n",
              "              style=\"display:none;\">\n",
              "        \n",
              "  <svg xmlns=\"http://www.w3.org/2000/svg\" height=\"24px\"viewBox=\"0 0 24 24\"\n",
              "       width=\"24px\">\n",
              "    <path d=\"M0 0h24v24H0V0z\" fill=\"none\"/>\n",
              "    <path d=\"M18.56 5.44l.94 2.06.94-2.06 2.06-.94-2.06-.94-.94-2.06-.94 2.06-2.06.94zm-11 1L8.5 8.5l.94-2.06 2.06-.94-2.06-.94L8.5 2.5l-.94 2.06-2.06.94zm10 10l.94 2.06.94-2.06 2.06-.94-2.06-.94-.94-2.06-.94 2.06-2.06.94z\"/><path d=\"M17.41 7.96l-1.37-1.37c-.4-.4-.92-.59-1.43-.59-.52 0-1.04.2-1.43.59L10.3 9.45l-7.72 7.72c-.78.78-.78 2.05 0 2.83L4 21.41c.39.39.9.59 1.41.59.51 0 1.02-.2 1.41-.59l7.78-7.78 2.81-2.81c.8-.78.8-2.07 0-2.86zM5.41 20L4 18.59l7.72-7.72 1.47 1.35L5.41 20z\"/>\n",
              "  </svg>\n",
              "      </button>\n",
              "      \n",
              "  <style>\n",
              "    .colab-df-container {\n",
              "      display:flex;\n",
              "      flex-wrap:wrap;\n",
              "      gap: 12px;\n",
              "    }\n",
              "\n",
              "    .colab-df-convert {\n",
              "      background-color: #E8F0FE;\n",
              "      border: none;\n",
              "      border-radius: 50%;\n",
              "      cursor: pointer;\n",
              "      display: none;\n",
              "      fill: #1967D2;\n",
              "      height: 32px;\n",
              "      padding: 0 0 0 0;\n",
              "      width: 32px;\n",
              "    }\n",
              "\n",
              "    .colab-df-convert:hover {\n",
              "      background-color: #E2EBFA;\n",
              "      box-shadow: 0px 1px 2px rgba(60, 64, 67, 0.3), 0px 1px 3px 1px rgba(60, 64, 67, 0.15);\n",
              "      fill: #174EA6;\n",
              "    }\n",
              "\n",
              "    [theme=dark] .colab-df-convert {\n",
              "      background-color: #3B4455;\n",
              "      fill: #D2E3FC;\n",
              "    }\n",
              "\n",
              "    [theme=dark] .colab-df-convert:hover {\n",
              "      background-color: #434B5C;\n",
              "      box-shadow: 0px 1px 3px 1px rgba(0, 0, 0, 0.15);\n",
              "      filter: drop-shadow(0px 1px 2px rgba(0, 0, 0, 0.3));\n",
              "      fill: #FFFFFF;\n",
              "    }\n",
              "  </style>\n",
              "\n",
              "      <script>\n",
              "        const buttonEl =\n",
              "          document.querySelector('#df-6d5d25a2-f754-4e9a-a0bd-193926f9b9e7 button.colab-df-convert');\n",
              "        buttonEl.style.display =\n",
              "          google.colab.kernel.accessAllowed ? 'block' : 'none';\n",
              "\n",
              "        async function convertToInteractive(key) {\n",
              "          const element = document.querySelector('#df-6d5d25a2-f754-4e9a-a0bd-193926f9b9e7');\n",
              "          const dataTable =\n",
              "            await google.colab.kernel.invokeFunction('convertToInteractive',\n",
              "                                                     [key], {});\n",
              "          if (!dataTable) return;\n",
              "\n",
              "          const docLinkHtml = 'Like what you see? Visit the ' +\n",
              "            '<a target=\"_blank\" href=https://colab.research.google.com/notebooks/data_table.ipynb>data table notebook</a>'\n",
              "            + ' to learn more about interactive tables.';\n",
              "          element.innerHTML = '';\n",
              "          dataTable['output_type'] = 'display_data';\n",
              "          await google.colab.output.renderOutput(dataTable, element);\n",
              "          const docLink = document.createElement('div');\n",
              "          docLink.innerHTML = docLinkHtml;\n",
              "          element.appendChild(docLink);\n",
              "        }\n",
              "      </script>\n",
              "    </div>\n",
              "  </div>\n",
              "  "
            ]
          },
          "metadata": {},
          "execution_count": 25
        }
      ]
    },
    {
      "cell_type": "markdown",
      "source": [
        "* #### 儲存檔案到google drive ####"
      ],
      "metadata": {
        "id": "74EKdgrBdheQ"
      }
    },
    {
      "cell_type": "code",
      "source": [
        "#只取得xlsx檔案路徑\n",
        "glob.glob('jobs_csv/*.xlsx')"
      ],
      "metadata": {
        "colab": {
          "base_uri": "https://localhost:8080/"
        },
        "id": "jXVzqs0LdhQE",
        "outputId": "f8a4a817-6cfa-479d-c133-e624c6a0de0f"
      },
      "execution_count": null,
      "outputs": [
        {
          "output_type": "execute_result",
          "data": {
            "text/plain": [
              "['jobs_csv/2022-11-27104職缺-數據分析.xlsx']"
            ]
          },
          "metadata": {},
          "execution_count": 26
        }
      ]
    },
    {
      "cell_type": "code",
      "source": [],
      "metadata": {
        "id": "RIneLfoag3or"
      },
      "execution_count": null,
      "outputs": []
    }
  ]
}