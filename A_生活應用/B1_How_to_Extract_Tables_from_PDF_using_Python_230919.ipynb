{
  "nbformat": 4,
  "nbformat_minor": 0,
  "metadata": {
    "colab": {
      "provenance": [],
      "authorship_tag": "ABX9TyPv1kDx+JnnthFZ53e+xOC9",
      "include_colab_link": true
    },
    "kernelspec": {
      "name": "python3",
      "display_name": "Python 3"
    },
    "language_info": {
      "name": "python"
    }
  },
  "cells": [
    {
      "cell_type": "markdown",
      "metadata": {
        "id": "view-in-github",
        "colab_type": "text"
      },
      "source": [
        "<a href=\"https://colab.research.google.com/github/Sandwhaletree/Mai_Finlab/blob/main/A_%E7%94%9F%E6%B4%BB%E6%87%89%E7%94%A8/B1_How_to_Extract_Tables_from_PDF_using_Python_230919.ipynb\" target=\"_parent\"><img src=\"https://colab.research.google.com/assets/colab-badge.svg\" alt=\"Open In Colab\"/></a>"
      ]
    },
    {
      "cell_type": "markdown",
      "source": [
        "## How to Extract Tables from PDF using Python\n",
        "* [Youtube 教學連結](https://www.youtube.com/watch?v=U31guYZ2cLM)\n",
        "* [NAR Housing Statistics 美國房價統計資料](https://www.youtube.com/watch?v=U31guYZ2cLM)"
      ],
      "metadata": {
        "id": "BaKYnMK4eP2O"
      }
    },
    {
      "cell_type": "code",
      "execution_count": null,
      "metadata": {
        "id": "PxhFD8x2eK_M"
      },
      "outputs": [],
      "source": [
        "!pip install tabula-py"
      ]
    },
    {
      "cell_type": "code",
      "source": [
        "import tabula\n",
        "import warnings\n",
        "import plotly.express as px\n",
        "from datetime import datetime\n",
        "from google.colab import drive, files, output # specific to Google Colab\n",
        "\n",
        "warnings.filterwarnings('ignore')"
      ],
      "metadata": {
        "id": "ky27sbGoeQan"
      },
      "execution_count": null,
      "outputs": []
    },
    {
      "cell_type": "markdown",
      "source": [
        "## Data-NAR Existing Home Sales"
      ],
      "metadata": {
        "id": "McLMm7i7er3U"
      }
    },
    {
      "cell_type": "code",
      "source": [
        "# Mean Sales Price of Existing Homes\n",
        "url1 = \"https://cdn.nar.realtor/sites/default/files/documents/ehs-06-2022-average-price-2022-07-21.pdf\"\n",
        "table = tabula.read_pdf(url1, pages=1)\n",
        "table[0]"
      ],
      "metadata": {
        "id": "s3z4A9ZHerFA"
      },
      "execution_count": null,
      "outputs": []
    }
  ]
}