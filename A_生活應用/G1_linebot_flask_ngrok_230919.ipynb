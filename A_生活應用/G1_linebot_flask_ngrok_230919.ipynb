{
  "nbformat": 4,
  "nbformat_minor": 0,
  "metadata": {
    "colab": {
      "provenance": [],
      "mount_file_id": "1do0A2oCGMiHwveH-eqgLabYona5sYrxP",
      "authorship_tag": "ABX9TyNYiTWOnxbV4R0dkAu3r1Cm",
      "include_colab_link": true
    },
    "kernelspec": {
      "name": "python3",
      "display_name": "Python 3"
    },
    "language_info": {
      "name": "python"
    }
  },
  "cells": [
    {
      "cell_type": "markdown",
      "metadata": {
        "id": "view-in-github",
        "colab_type": "text"
      },
      "source": [
        "<a href=\"https://colab.research.google.com/github/Sandwhaletree/Mai_Finlab/blob/main/A_%E7%94%9F%E6%B4%BB%E6%87%89%E7%94%A8/G1_linebot_flask_ngrok_230919.ipynb\" target=\"_parent\"><img src=\"https://colab.research.google.com/assets/colab-badge.svg\" alt=\"Open In Colab\"/></a>"
      ]
    },
    {
      "cell_type": "code",
      "source": [
        "'''\n",
        "\n",
        "資料 mapping 至google drive\n",
        "\n",
        "把資料寫在/content/drive\n",
        "\n",
        "即可保存在 google drive內\n",
        "\n",
        "'''\n",
        "from google.colab import drive\n",
        "drive.mount('/content/drive')"
      ],
      "metadata": {
        "colab": {
          "base_uri": "https://localhost:8080/"
        },
        "id": "i2FGLfNUrtpP",
        "outputId": "a232e502-862f-48d9-9a69-2792a54025c5"
      },
      "execution_count": null,
      "outputs": [
        {
          "output_type": "stream",
          "name": "stdout",
          "text": [
            "Drive already mounted at /content/drive; to attempt to forcibly remount, call drive.mount(\"/content/drive\", force_remount=True).\n"
          ]
        }
      ]
    },
    {
      "cell_type": "code",
      "execution_count": null,
      "metadata": {
        "colab": {
          "base_uri": "https://localhost:8080/"
        },
        "id": "hafhTceTrmp7",
        "outputId": "a7512dbf-a63c-4d3c-fde4-0c5d55103976"
      },
      "outputs": [
        {
          "output_type": "stream",
          "name": "stdout",
          "text": [
            "Looking in indexes: https://pypi.org/simple, https://us-python.pkg.dev/colab-wheels/public/simple/\n",
            "Collecting line-bot-sdk\n",
            "  Downloading line_bot_sdk-2.4.2-py2.py3-none-any.whl (90 kB)\n",
            "\u001b[2K     \u001b[90m━━━━━━━━━━━━━━━━━━━━━━━━━━━━━━━━━━━━━━━━\u001b[0m \u001b[32m90.1/90.1 kB\u001b[0m \u001b[31m7.4 MB/s\u001b[0m eta \u001b[36m0:00:00\u001b[0m\n",
            "\u001b[?25hRequirement already satisfied: flask in /usr/local/lib/python3.10/dist-packages (2.2.4)\n",
            "Collecting flask_ngrok\n",
            "  Downloading flask_ngrok-0.0.25-py3-none-any.whl (3.1 kB)\n",
            "Collecting requests==2.28.2 (from line-bot-sdk)\n",
            "  Downloading requests-2.28.2-py3-none-any.whl (62 kB)\n",
            "\u001b[2K     \u001b[90m━━━━━━━━━━━━━━━━━━━━━━━━━━━━━━━━━━━━━━━━\u001b[0m \u001b[32m62.8/62.8 kB\u001b[0m \u001b[31m8.0 MB/s\u001b[0m eta \u001b[36m0:00:00\u001b[0m\n",
            "\u001b[?25hCollecting aiohttp==3.8.4 (from line-bot-sdk)\n",
            "  Downloading aiohttp-3.8.4-cp310-cp310-manylinux_2_17_x86_64.manylinux2014_x86_64.whl (1.0 MB)\n",
            "\u001b[2K     \u001b[90m━━━━━━━━━━━━━━━━━━━━━━━━━━━━━━━━━━━━━━━━\u001b[0m \u001b[32m1.0/1.0 MB\u001b[0m \u001b[31m56.2 MB/s\u001b[0m eta \u001b[36m0:00:00\u001b[0m\n",
            "\u001b[?25hRequirement already satisfied: future in /usr/local/lib/python3.10/dist-packages (from line-bot-sdk) (0.18.3)\n",
            "Requirement already satisfied: attrs>=17.3.0 in /usr/local/lib/python3.10/dist-packages (from aiohttp==3.8.4->line-bot-sdk) (23.1.0)\n",
            "Requirement already satisfied: charset-normalizer<4.0,>=2.0 in /usr/local/lib/python3.10/dist-packages (from aiohttp==3.8.4->line-bot-sdk) (2.0.12)\n",
            "Collecting multidict<7.0,>=4.5 (from aiohttp==3.8.4->line-bot-sdk)\n",
            "  Downloading multidict-6.0.4-cp310-cp310-manylinux_2_17_x86_64.manylinux2014_x86_64.whl (114 kB)\n",
            "\u001b[2K     \u001b[90m━━━━━━━━━━━━━━━━━━━━━━━━━━━━━━━━━━━━━━\u001b[0m \u001b[32m114.5/114.5 kB\u001b[0m \u001b[31m13.4 MB/s\u001b[0m eta \u001b[36m0:00:00\u001b[0m\n",
            "\u001b[?25hCollecting async-timeout<5.0,>=4.0.0a3 (from aiohttp==3.8.4->line-bot-sdk)\n",
            "  Downloading async_timeout-4.0.2-py3-none-any.whl (5.8 kB)\n",
            "Collecting yarl<2.0,>=1.0 (from aiohttp==3.8.4->line-bot-sdk)\n",
            "  Downloading yarl-1.9.2-cp310-cp310-manylinux_2_17_x86_64.manylinux2014_x86_64.whl (268 kB)\n",
            "\u001b[2K     \u001b[90m━━━━━━━━━━━━━━━━━━━━━━━━━━━━━━━━━━━━━━\u001b[0m \u001b[32m268.8/268.8 kB\u001b[0m \u001b[31m28.6 MB/s\u001b[0m eta \u001b[36m0:00:00\u001b[0m\n",
            "\u001b[?25hCollecting frozenlist>=1.1.1 (from aiohttp==3.8.4->line-bot-sdk)\n",
            "  Downloading frozenlist-1.3.3-cp310-cp310-manylinux_2_5_x86_64.manylinux1_x86_64.manylinux_2_17_x86_64.manylinux2014_x86_64.whl (149 kB)\n",
            "\u001b[2K     \u001b[90m━━━━━━━━━━━━━━━━━━━━━━━━━━━━━━━━━━━━━━\u001b[0m \u001b[32m149.6/149.6 kB\u001b[0m \u001b[31m19.1 MB/s\u001b[0m eta \u001b[36m0:00:00\u001b[0m\n",
            "\u001b[?25hCollecting aiosignal>=1.1.2 (from aiohttp==3.8.4->line-bot-sdk)\n",
            "  Downloading aiosignal-1.3.1-py3-none-any.whl (7.6 kB)\n",
            "Requirement already satisfied: idna<4,>=2.5 in /usr/local/lib/python3.10/dist-packages (from requests==2.28.2->line-bot-sdk) (3.4)\n",
            "Requirement already satisfied: urllib3<1.27,>=1.21.1 in /usr/local/lib/python3.10/dist-packages (from requests==2.28.2->line-bot-sdk) (1.26.15)\n",
            "Requirement already satisfied: certifi>=2017.4.17 in /usr/local/lib/python3.10/dist-packages (from requests==2.28.2->line-bot-sdk) (2022.12.7)\n",
            "Requirement already satisfied: Werkzeug>=2.2.2 in /usr/local/lib/python3.10/dist-packages (from flask) (2.3.0)\n",
            "Requirement already satisfied: Jinja2>=3.0 in /usr/local/lib/python3.10/dist-packages (from flask) (3.1.2)\n",
            "Requirement already satisfied: itsdangerous>=2.0 in /usr/local/lib/python3.10/dist-packages (from flask) (2.1.2)\n",
            "Requirement already satisfied: click>=8.0 in /usr/local/lib/python3.10/dist-packages (from flask) (8.1.3)\n",
            "Requirement already satisfied: MarkupSafe>=2.0 in /usr/local/lib/python3.10/dist-packages (from Jinja2>=3.0->flask) (2.1.2)\n",
            "Installing collected packages: requests, multidict, frozenlist, async-timeout, yarl, aiosignal, flask_ngrok, aiohttp, line-bot-sdk\n",
            "  Attempting uninstall: requests\n",
            "    Found existing installation: requests 2.27.1\n",
            "    Uninstalling requests-2.27.1:\n",
            "      Successfully uninstalled requests-2.27.1\n",
            "\u001b[31mERROR: pip's dependency resolver does not currently take into account all the packages that are installed. This behaviour is the source of the following dependency conflicts.\n",
            "google-colab 1.0.0 requires requests==2.27.1, but you have requests 2.28.2 which is incompatible.\u001b[0m\u001b[31m\n",
            "\u001b[0mSuccessfully installed aiohttp-3.8.4 aiosignal-1.3.1 async-timeout-4.0.2 flask_ngrok-0.0.25 frozenlist-1.3.3 line-bot-sdk-2.4.2 multidict-6.0.4 requests-2.28.2 yarl-1.9.2\n",
            "Looking in indexes: https://pypi.org/simple, https://us-python.pkg.dev/colab-wheels/public/simple/\n",
            "Collecting pyngrok\n",
            "  Downloading pyngrok-6.0.0.tar.gz (681 kB)\n",
            "\u001b[2K     \u001b[90m━━━━━━━━━━━━━━━━━━━━━━━━━━━━━━━━━━━━━━\u001b[0m \u001b[32m681.2/681.2 kB\u001b[0m \u001b[31m20.9 MB/s\u001b[0m eta \u001b[36m0:00:00\u001b[0m\n",
            "\u001b[?25h  Preparing metadata (setup.py) ... \u001b[?25l\u001b[?25hdone\n",
            "Requirement already satisfied: PyYAML in /usr/local/lib/python3.10/dist-packages (from pyngrok) (6.0)\n",
            "Building wheels for collected packages: pyngrok\n",
            "  Building wheel for pyngrok (setup.py) ... \u001b[?25l\u001b[?25hdone\n",
            "  Created wheel for pyngrok: filename=pyngrok-6.0.0-py3-none-any.whl size=19867 sha256=8ef6b84d977af7e3cb6ef0b81be9041dbc4782f957930bc383545ba70ee1b781\n",
            "  Stored in directory: /root/.cache/pip/wheels/5c/42/78/0c3d438d7f5730451a25f7ac6cbf4391759d22a67576ed7c2c\n",
            "Successfully built pyngrok\n",
            "Installing collected packages: pyngrok\n",
            "Successfully installed pyngrok-6.0.0\n",
            "Authtoken saved to configuration file: /root/.ngrok2/ngrok.yml\n"
          ]
        }
      ],
      "source": [
        "'''\n",
        "安裝套件\n",
        "'''\n",
        "!pip install line-bot-sdk flask flask_ngrok\n",
        "\n",
        "!pip install pyngrok\n",
        "\n",
        "!ngrok authtoken 2QrnI14qFzzpIcHDa1q6PzJmPom_3wLXxhnp74vnEtaPi3ESJ"
      ]
    },
    {
      "cell_type": "code",
      "source": [
        "# 引用Web Server套件\n",
        "from flask import Flask, request, abort, jsonify\n",
        "\n",
        "# 載入json處理套件\n",
        "import json\n",
        "\n",
        "# 外部連結自動生成套件\n",
        "from flask_ngrok import run_with_ngrok\n",
        "from pyngrok import ngrok\n",
        "\n",
        "# 從linebot 套件包裡引用 LineBotApi 與 WebhookHandler 類別\n",
        "from linebot import (\n",
        "    LineBotApi, WebhookHandler\n",
        ")\n",
        "\n",
        "# 引用無效簽章錯誤\n",
        "from linebot.exceptions import (\n",
        "    InvalidSignatureError\n",
        ")\n",
        "\n",
        "from linebot.models import MessageEvent, TextMessage,TextSendMessage, ImageSendMessage, StickerSendMessage, LocationSendMessage, QuickReply, QuickReplyButton, MessageAction"
      ],
      "metadata": {
        "id": "Od2bA87Rr97W"
      },
      "execution_count": null,
      "outputs": []
    },
    {
      "cell_type": "code",
      "source": [
        "# 設定Server啟用細節\n",
        "app = Flask(__name__,static_url_path = \"/material\" , static_folder = \"./material/\")\n",
        "\n",
        "\n",
        "# 生成實體物件\n",
        "line_bot_api = LineBotApi(\"fpNQNqeH9ztWIZQ3ixeplwEd8ri51rkX0wMTrFyJXdaYeRYga0UhRM++DYd8jK9rqvC5n3HVTdOX9M43BjMb5Nu5uPgBd9+6OITRP9cYNo2T5oNcq1a+giqzfFVO+L1bdwwYSeswfjLQodnkL1VK0wdB04t89/1O/w1cDnyilFU=\")\n",
        "handler = WebhookHandler(\"10943ad57e5ea68e7604927bab7dbe3a\")\n",
        "run_with_ngrok(app)"
      ],
      "metadata": {
        "id": "cRtw5IKor13D"
      },
      "execution_count": null,
      "outputs": []
    },
    {
      "cell_type": "code",
      "source": [
        "# 啟動server對外接口，使Line能丟消息進來\n",
        "@app.route(\"/\", methods=['POST'])\n",
        "def callback():\n",
        "    # get X-Line-Signature header value\n",
        "    signature = request.headers['X-Line-Signature']\n",
        "\n",
        "    # get request body as text\n",
        "    body = request.get_data(as_text=True)\n",
        "    app.logger.info(\"Request body: \" + body)\n",
        "\n",
        "    # handle webhook body\n",
        "    try:\n",
        "        handler.handle(body, signature)\n",
        "    except InvalidSignatureError:\n",
        "        abort(400)\n",
        "\n",
        "    return 'OK'"
      ],
      "metadata": {
        "id": "livb76s9sDEe"
      },
      "execution_count": null,
      "outputs": []
    },
    {
      "cell_type": "code",
      "source": [
        "@handler.add(MessageEvent, message=TextMessage)\n",
        "def handle_message(event):\n",
        "    mtext = event.message.text\n",
        "    if mtext == '@確診後流程':\n",
        "        try:\n",
        "            message = TextSendMessage(\n",
        "                text = \"確診後該怎麼辦?(SOP圖示)\"\n",
        "            )\n",
        "            line_bot_api.reply_message(event.reply_token, message)\n",
        "        except:\n",
        "            line_bot_api.reply_message(event.reply_token,\n",
        "                TextSendMessage(text= 'Sorry~屁桃故障囉！'))\n",
        "    elif mtext == '@想看西藥＆拿西藥':\n",
        "        try:\n",
        "            message = ImageSendMessage(\n",
        "                original_content_url = \"https://ithelp.ithome.com.tw/upload/images/20220925/20151681EaMkK6ROvq.jpg\",\n",
        "                preview_image_url = \"https://ithelp.ithome.com.tw/upload/images/20220925/20151681EaMkK6ROvq.jpg\"\n",
        "            )\n",
        "            line_bot_api.reply_message(event.reply_token, message)\n",
        "        except:\n",
        "            line_bot_api.reply_message(event.reply_token,\n",
        "                TextSendMessage(text= 'Sorry~屁桃故障囉！'))\n",
        "    elif mtext == '@想看中藥＆拿中藥':\n",
        "        try:\n",
        "            message = StickerSendMessage(\n",
        "                package_id = '8522',\n",
        "                sticker_id = '16581289'\n",
        "            )\n",
        "            line_bot_api.reply_message(event.reply_token, message)\n",
        "        except:\n",
        "            line_bot_api.reply_message(event.reply_token,\n",
        "                TextSendMessage(text= 'Sorry~屁桃故障囉！'))"
      ],
      "metadata": {
        "id": "hrcQijc8sE0w"
      },
      "execution_count": null,
      "outputs": []
    },
    {
      "cell_type": "code",
      "source": [
        "# 主程序運行\n",
        "port = 5000\n",
        "# Open a ngrok tunnel to the HTTP server\n",
        "public_url = ngrok.connect(port).public_url\n",
        "print(\" * ngrok tunnel \\\"{}\\\" -> \\\"http://127.0.0.1:{}\\\"\".format(public_url, port))\n",
        "app.run()"
      ],
      "metadata": {
        "colab": {
          "base_uri": "https://localhost:8080/"
        },
        "id": "Uh-QapLBsIkp",
        "outputId": "b7b3b2ae-3d33-4910-fd71-a835c719eca3"
      },
      "execution_count": null,
      "outputs": [
        {
          "output_type": "stream",
          "name": "stderr",
          "text": [
            "WARNING:pyngrok.process.ngrok:t=2023-06-21T00:37:05+0000 lvl=warn msg=\"ngrok config file found at legacy location, move to XDG location\" xdg_path=/root/.config/ngrok/ngrok.yml legacy_path=/root/.ngrok2/ngrok.yml\n"
          ]
        },
        {
          "output_type": "stream",
          "name": "stdout",
          "text": [
            " * ngrok tunnel \"https://dbbf-34-32-158-124.ngrok-free.app\" -> \"http://127.0.0.1:5000\"\n",
            " * Serving Flask app '__main__'\n",
            " * Debug mode: off\n"
          ]
        },
        {
          "output_type": "stream",
          "name": "stderr",
          "text": [
            "INFO:werkzeug:\u001b[31m\u001b[1mWARNING: This is a development server. Do not use it in a production deployment. Use a production WSGI server instead.\u001b[0m\n",
            " * Running on http://127.0.0.1:5000\n",
            "INFO:werkzeug:\u001b[33mPress CTRL+C to quit\u001b[0m\n",
            "INFO:werkzeug:127.0.0.1 - - [21/Jun/2023 00:37:08] \"\u001b[33mHEAD /https://dbbf-34-32-158-124.ngrok-free.app/ HTTP/1.1\u001b[0m\" 404 -\n"
          ]
        },
        {
          "output_type": "stream",
          "name": "stdout",
          "text": [
            " * Running on http://dbbf-34-32-158-124.ngrok-free.app\n",
            " * Traffic stats available on http://127.0.0.1:4040\n"
          ]
        }
      ]
    }
  ]
}